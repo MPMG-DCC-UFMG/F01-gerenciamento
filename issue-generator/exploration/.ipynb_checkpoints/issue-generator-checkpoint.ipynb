{
 "cells": [
  {
   "cell_type": "code",
   "execution_count": 1,
   "id": "569eec46",
   "metadata": {},
   "outputs": [],
   "source": [
    "import pandas as pd\n",
    "import streamlit as st"
   ]
  },
  {
   "cell_type": "code",
   "execution_count": 2,
   "id": "d698b856",
   "metadata": {},
   "outputs": [],
   "source": [
    "with open(\"template_issue.txt\", 'r') as f:\n",
    "    template_issue = f.read()"
   ]
  },
  {
   "cell_type": "code",
   "execution_count": null,
   "id": "14a0bc39",
   "metadata": {},
   "outputs": [],
   "source": [
    "st.title(\"Streamlit 101: An in-depth introduction\")\n",
    "st.markdown(\"Welcome to this in-depth introduction to [...].\")\n",
    "st.header(\"Customary quote\")\n",
    "st.markdown(\"> I just love to go home, no matter where I am [...]\")"
   ]
  },
  {
   "cell_type": "code",
   "execution_count": null,
   "id": "ad801456",
   "metadata": {},
   "outputs": [],
   "source": [
    "g = Github(token)\n",
    "repo = g.get_repo(\"MartinHeinz/python-project-blueprint\")\n",
    "i = repo.create_issue(\n",
    "    title=\"Issue Title\",\n",
    "    body=\"Text of the body.\",\n",
    "    assignee=\"MartinHeinz\",\n",
    "    labels=[\n",
    "        repo.get_label(\"good first issue\")\n",
    "    ]\n",
    ")\n",
    "pprint(i)"
   ]
  },
  {
   "cell_type": "code",
   "execution_count": null,
   "id": "d1f4afb9",
   "metadata": {},
   "outputs": [],
   "source": [
    "streamlit run app.py"
   ]
  }
 ],
 "metadata": {
  "kernelspec": {
   "display_name": "Python 3 (ipykernel)",
   "language": "python",
   "name": "python3"
  },
  "language_info": {
   "codemirror_mode": {
    "name": "ipython",
    "version": 3
   },
   "file_extension": ".py",
   "mimetype": "text/x-python",
   "name": "python",
   "nbconvert_exporter": "python",
   "pygments_lexer": "ipython3",
   "version": "3.8.12"
  }
 },
 "nbformat": 4,
 "nbformat_minor": 5
}
