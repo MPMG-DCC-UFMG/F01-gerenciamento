{
 "cells": [
  {
   "cell_type": "markdown",
   "id": "43dcd07f",
   "metadata": {},
   "source": [
    "## Coleta automática - Síntese e Tecnologia"
   ]
  },
  {
   "cell_type": "markdown",
   "id": "211ebe58",
   "metadata": {},
   "source": [
    "O objetivo desse notebook é automatizar grande parte das coletas do template Síntese e Tecnologia"
   ]
  },
  {
   "cell_type": "code",
   "execution_count": 33,
   "id": "d7ac3519",
   "metadata": {},
   "outputs": [
    {
     "name": "stderr",
     "output_type": "stream",
     "text": [
      "Future exception was never retrieved\n",
      "future: <Future finished exception=Error('Target page, context or browser has been closed')>\n",
      "playwright._impl._api_types.Error: Target page, context or browser has been closed\n"
     ]
    }
   ],
   "source": [
    "import os\n",
    "import time\n",
    "import urllib3\n",
    "import pyautogui\n",
    "import asyncio\n",
    "import time\n",
    "\n",
    "from selenium import webdriver\n",
    "from selenium.webdriver.chrome.options import Options\n",
    "from selenium.webdriver.common.by import By\n",
    "from selenium.webdriver.support.select import Select\n",
    "from selenium.common.exceptions import NoSuchElementException, TimeoutException, StaleElementReferenceException, ElementNotInteractableException\n",
    "\n",
    "from playwright.async_api import async_playwright\n",
    "from bs4 import BeautifulSoup\n",
    "from urllib.parse import urljoin"
   ]
  },
  {
   "cell_type": "markdown",
   "id": "26b99ded",
   "metadata": {},
   "source": [
    "As variáveis a seguir guardam informações sobre cada uma das cidades"
   ]
  },
  {
   "cell_type": "code",
   "execution_count": 34,
   "id": "b7a15e50",
   "metadata": {},
   "outputs": [],
   "source": [
    "tags = [\"Empenhos\",\"Pagamentos\", \"folha\", \"Receitas\", \"relatorioGF\", \"relatorioREO\",\n",
    "        \"Edital\", \"Licitacao\", \"Contrato\", \"Obra\", \"orcamento\", \"RestoAPagar\",\n",
    "        \"Contas\", \"Legislacao\", \"DiariaDeViagem\", 'convenios']\n",
    "subpastas = [\"screenshots\", \"files\", \"htmls\"]\n",
    "\n",
    "cidades_urls = {\"Janaúba\": [\"http://cidadesmg.com.br/portaltransparencia/faces/user/portal.xhtml?Param=PMJanauba\", \"http://cidadesmg\"],\n",
    "\"Caeté\": [\"http://cidadesmg.com.br/portaltransparencia/faces/user/portal.xhtml?Param=CamCaete\", \"http://cidadesmg\"],\n",
    "\"Várzea da Palma\": [\"http://cidadesmg.com.br/portaltransparencia/faces/user/portal.xhtml?Param=PMVarzeaDaPalma\", \"http://cidadesmg\"],\n",
    "\"Jaíba\": [\"http://cidadesmg.com.br/portaltransparencia/faces/user/portal.xhtml?Param=JaibaPM\", \"http://cidadesmg\"],\n",
    "\"Capelinha\": [\"http://cidadesmg.com.br/portaltransparencia/faces/user/portal.xhtml?Param=PMCapelinha\", \"http://cidadesmg\"],\n",
    "\"Itamarandiba\": [\"http://cidadesmg.com.br/portaltransparencia/faces/user/portal.xhtml?Param=Itamarandiba\", \"http://cidadesmg\"],\n",
    "\"Espinosa\": [\"http://cidadesmg.com.br/portaltransparencia/faces/user/portal.xhtml?Param=Espnsa\", \"http://cidadesmg\"],\n",
    "\"Minas Novas\": [\"http://cidadesmg.com.br/portaltransparencia/faces/user/portal.xhtml?Param=MinasNov\", \"http://cidadesmg\"],\n",
    "\"Novo Cruzeiro\": [\"http://cidadesmg.com.br/portaltransparencia/faces/user/portal.xhtml?Param=pmnovocruzeiro\", \"http://cidadesmg\"],\n",
    "\"Rio Pardo de Minas\": [\"http://cidadesmg.com.br/portaltransparencia/faces/user/portal.xhtml?Param=PrefRioPMinas\", \"http://cidadesmg\"],\n",
    "\"Buritizeiro\": [\"http://cidadesmg.com.br/portaltransparencia/faces/user/portal.xhtml?Param=Buritizeiro\", \"http://cidadesmg\"],\n",
    "\"Coração de Jesus\": [\"http://cidadesmg.com.br/portaltransparencia/faces/user/portal.xhtml?Param=CoracaoDeJes\", \"http://cidadesmg\"],\n",
    "\"Francisco Sá\": [\"http://cidadesmg.com.br/portaltransparencia/faces/user/portal.xhtml?Param=FranciscoSa\", \"http://cidadesmg\"],\n",
    "\"Jequitinhonha\": [\"http://cidadesmg.com.br/portaltransparencia/faces/user/portal.xhtml?Param=Jequitinhonha\", \"http://cidadesmg\"],\n",
    "\"Pedra Azul\": [\"http://cidadesmg.com.br/portaltransparencia/faces/user/portal.xhtml?Param=PedraAzul\", \"http://cidadesmg\"],\n",
    "\"Serro\": [\"http://cidadesmg.com.br/portaltransparencia/faces/user/portal.xhtml?Param=PMSerro\", \"http://cidadesmg\"],\n",
    "\"Monte Azul\": [\"http://cidadesmg.com.br/portaltransparencia/faces/user/portal.xhtml?Param=MonteAzul\", \"http://cidadesmg\"],\n",
    "\"Turmalina\": [\"http://cidadesmg.com.br/portaltransparencia/faces/user/portal.xhtml?Param=Turmalina\", \"http://cidadesmg\"],\n",
    "\"Manga\": [\"http://cidadesmg.com.br/portaltransparencia/faces/user/portal.xhtml?Param=Manga\", \"http://cidadesmg\"],\n",
    "\"Itacarambi\": [\"http://cidadesmg.com.br/portaltransparencia/faces/user/portal.xhtml?Param=PMItacarambi\", \"http://cidadesmg\"],\n",
    "\"Grão Mogol\": [\"http://cidadesmg.com.br/portaltransparencia/faces/user/portal.xhtml?Param=GrMogl\", \"http://cidadesmg\"],\n",
    "\"Mário Campos\": [\"http://cidadesmg.com.br/portaltransparencia/faces/user/portal.xhtml?Param=MarioCampos\", \"http://cidadesmg\"],\n",
    "\"Chapada do Norte\": [\"http://cidadesmg.com.br/portaltransparencia/faces/user/portal.xhtml?Param=chapadanorte\", \"http://cidadesmg\"],\n",
    "\"Itinga\": [\"http://cidadesmg.com.br/portaltransparencia/faces/user/portal.xhtml?Param=Itinga\", \"http://cidadesmg\"],\n",
    "\"Virgem da Lapa\": [\"http://cidadesmg.com.br/portaltransparencia/faces/user/portal.xhtml?Param=VirgemLapa\", \"http://cidadesmg\"],\n",
    "\"Água Boa\": [\"http://cidadesmg.com.br/portaltransparencia/faces/user/portal.xhtml?Param=AguaBoa\", \"http://cidadesmg\"],\n",
    "\"Chapada Gaúcha\": [\"http://cidadesmg.com.br/portaltransparencia/faces/user/portal.xhtml?Param=ChapadaGaucha\", \"http://cidadesmg\"],\n",
    "\"Mirabela\": [\"http://cidadesmg.com.br/portaltransparencia/faces/user/portal.xhtml?Param=mirabela\", \"http://cidadesmg\"],\n",
    "\"Águas Vermelhas\": [\"http://cidadesmg.com.br/portaltransparencia/faces/user/portal.xhtml?Param=PMAguasVermelhas\", \"http://cidadesmg\"],\n",
    "\"São João das Missões\": [\"http://cidadesmg.com.br/portaltransparencia/faces/user/portal.xhtml?Param=SaoJoaoDasMiss\", \"http://cidadesmg\"],\n",
    "\"Mato Verde\": [\"http://cidadesmg.com.br/portaltransparencia/faces/user/portal.xhtml?Param=MatoVerde\", \"http://cidadesmg\"],\n",
    "\"São Romão\": [\"http://cidadesmg.com.br/portaltransparencia/faces/user/FDiariasViagem.xhtml?Param=SaoRomao\", \"http://cidadesmg\"],\n",
    "\"Setubinha\": [\"http://cidadesmg.com.br/portaltransparencia/faces/user/portal.xhtml?Param=Setubinha\", \"http://cidadesmg\"],\n",
    "\"Berilo\": [\"http://cidadesmg.com.br/portaltransparencia/faces/user/portal.xhtml?Param=Berilo\", \"http://cidadesmg\"],\n",
    "\"Gouveia\": [\"http://cidadesmg.com.br/portaltransparencia/faces/user/portal.xhtml?Param=Gouveia\", \"http://cidadesmg\"],\n",
    "\"Bonito de Minas\": [\"http://cidadesmg.com.br/portaltransparencia/faces/user/portal.xhtml?Param=BonitoDeMinas\", \"http://cidadesmg\"],\n",
    "\"Divisópolis\": [\"http://cidadesmg.com.br/portaltransparencia/faces/user/portal.xhtml?Param=Divisopolis\", \"http://cidadesmg\"],\n",
    "\"Francisco Badaró\": [\"http://cidadesmg.com.br/portaltransparencia/faces/user/portal.xhtml?Param=FrancBandr\", \"http://cidadesmg\"],\n",
    "\"Lontra\": [\"http://cidadesmg.com.br/portaltransparencia/faces/user/portal.xhtml?Param=PmLontra\", \"http://cidadesmg\"],\n",
    "\"Cachoeira de Pajeú\": [\"http://cidadesmg.com.br/portaltransparencia/faces/user/portal.xhtml?Param=CachoeiraPajeu\", \"http://cidadesmg\"],\n",
    "\"Coluna\": [\"http://cidadesmg.com.br/portaltransparencia/faces/user/portal.xhtml?Param=Coluna\", \"http://cidadesmg\"],\n",
    "\"Mata Verde\": [\"http://cidadesmg.com.br/portaltransparencia/faces/user/portal.xhtml?Param=MataVerde\", \"http://cidadesmg\"],\n",
    "\"Ibiaí\": [\"http://cidadesmg.com.br/portaltransparencia/faces/user/portal.xhtml?Param=PmIbiai\", \"http://cidadesmg\"],\n",
    "\"Montezuma\": [\"http://cidadesmg.com.br/portaltransparencia/faces/user/portal.xhtml?Param=Montezuma\", \"http://cidadesmg\"],\n",
    "\"Curral de Dentro\": [\"http://cidadesmg.com.br/portaltransparencia/faces/user/portal.xhtml?Param=CurralDeDentro\", \"http://cidadesmg\"],\n",
    "\"Jenipapo de Minas\": [\"http://cidadesmg.com.br/portaltransparencia/faces/user/portal.xhtml?Param=JenipapoMinas\", \"http://cidadesmg\"],\n",
    "\"Claro dos Poções\": [\"http://cidadesmg.com.br/portaltransparencia/faces/user/portal.xhtml?Param=ClarDosPces\", \"http://cidadesmg\"],\n",
    "\"Jequitaí\": [\"http://cidadesmg.com.br/portaltransparencia/faces/user/portal.xhtml?Param=Jequitai\", \"http://cidadesmg\"],\n",
    "\"Pintópolis\": [\"http://cidadesmg.com.br/portaltransparencia/faces/user/FDiariasViagem.xhtml?Param=PMPintopolis\", \"http://cidadesmg\"],\n",
    "\"Nova Porteirinha\": [\"http://cidadesmg.com.br/portaltransparencia/faces/user/portal.xhtml?Param=NovaPorteirinha\", \"http://cidadesmg\"],\n",
    "\"Indaiabira\": [\"http://cidadesmg.com.br/portaltransparencia/faces/user/portal.xhtml?Param=indaiabira\", \"http://cidadesmg\"],\n",
    "\"Santo Antônio do Retiro\": [\"http://cidadesmg.com.br/portaltransparencia/faces/user/portal.xhtml?Param=SantoAntoniodoRetiro\", \"http://cidadesmg\"],\n",
    "\"Engenheiro Navarro\": [\"http://cidadesmg.com.br/portaltransparencia/faces/user/portal.xhtml?Param=EngNavrro\", \"http://cidadesmg\"],\n",
    "\"Divisa Alegre\": [\"http://cidadesmg.com.br/portaltransparencia/faces/user/portal.xhtml?Param=DivisaAlegre\", \"http://cidadesmg\"],\n",
    "\"Mamonas\": [\"http://cidadesmg.com.br/portaltransparencia/faces/user/portal.xhtml?Param=mamonas\", \"http://cidadesmg\"],\n",
    "\"Padre Carvalho\": [\"http://cidadesmg.com.br/portaltransparencia/faces/user/portal.xhtml?Param=PMPadreCarvalho\", \"http://cidadesmg\"],\n",
    "\"Pai Pedro\": [\"http://cidadesmg.com.br/portaltransparencia/faces/user/portal.xhtml?Param=PaiPedro\", \"http://cidadesmg\"],\n",
    "\"Patis\": [\"http://cidadesmg.com.br/portaltransparencia/faces/user/portal.xhtml?Param=Patis\", \"http://cidadesmg\"],\n",
    "\"Veredinha\": [\"http://cidadesmg.com.br/portaltransparencia/faces/user/portal.xhtml?Param=Veredinha\", \"http://cidadesmg\"],\n",
    "\"Datas\": [\"http://cidadesmg.com.br/portaltransparencia/faces/user/portal.xhtml?Param=Datas\", \"http://cidadesmg\"],\n",
    "\"Itacambira\": [\"http://cidadesmg.com.br/portaltransparencia/faces/user/portal.xhtml?Param=Itacambira\", \"http://cidadesmg\"],\n",
    "\"Fruta de Leite\": [\"http://cidadesmg.com.br/portaltransparencia/faces/user/portal.xhtml?Param=FrutadeLeite\", \"http://cidadesmg\"],\n",
    "\"Novorizonte\": [\"http://cidadesmg.com.br/portaltransparencia/faces/user/portal.xhtml?Param=Novorizonte\", \"http://cidadesmg\"],\n",
    "\"Aricanduva\": [\"http://cidadesmg.com.br/portaltransparencia/faces/user/portal.xhtml?Param=Aricanduva\", \"http://cidadesmg\"],\n",
    "\"Dores de Guanhães\": [\"http://cidadesmg.com.br/portaltransparencia/faces/user/portal.xhtml?Param=CamDoresDeGanhaes\", \"http://cidadesmg\"],\n",
    "\"Gameleiras\": [\"http://cidadesmg.com.br/portaltransparencia/faces/user/portal.xhtml?Param=Gameleiras\", \"http://cidadesmg\"],\n",
    "\"Vargem Grande do Rio Pardo\": [\"http://cidadesmg.com.br/portaltransparencia/faces/user/portal.xhtml?Param=VgmGrnd\", \"http://cidadesmg\"],\n",
    "\"Catuti\": [\"http://cidadesmg.com.br/portaltransparencia/faces/user/portal.xhtml?Param=Catuti\", \"http://cidadesmg\"],\n",
    "\"Guaraciama\": [\"http://cidadesmg.com.br/portaltransparencia/faces/user/portal.xhtml?Param=PMGuaraciama\", \"http://cidadesmg\"],\n",
    "\"São João da Lagoa\": [\"http://cidadesmg.com.br/portaltransparencia/faces/user/portal.xhtml?Param=SJDLgoa\", \"http://cidadesmg\"],\n",
    "\"Miravânia\": [\"http://cidadesmg.com.br/portaltransparencia/faces/user/portal.xhtml?Param=miravania\", \"http://cidadesmg\"],\n",
    "\"Josenópolis\": [\"http://cidadesmg.com.br/portaltransparencia/faces/user/portal.xhtml?Param=Josenopolis\", \"http://cidadesmg\"],\n",
    "\"Felício dos Santos\": [\"http://cidadesmg.com.br/portaltransparencia/faces/user/portal.xhtml?Param=FelicioSantos\", \"http://cidadesmg\"],\n",
    "\"Joaquim Felício\": [\"http://cidadesmg.com.br/portaltransparencia/faces/user/portal.xhtml?Param=JquimFelicio\", \"http://cidadesmg\"],\n",
    "\"Materlândia\": [\"http://cidadesmg.com.br/portaltransparencia/faces/user/portal.xhtml?Param=Materlandia\", \"http://cidadesmg\"],\n",
    "\"São João do Pacuí\": [\"http://cidadesmg.com.br/portaltransparencia/faces/user/portal.xhtml?Param=SaoJoaoPacui\", \"http://cidadesmg\"],\n",
    "\"Couto de Magalhães de Minas\": [\"http://cidadesmg.com.br/portaltransparencia/faces/user/portal.xhtml?Param=CoutoMagalhaes\", \"http://cidadesmg\"],\n",
    "\"Juramento\": [\"http://cidadesmg.com.br/portaltransparencia/faces/user/portal.xhtml?Param=Juramento\", \"http://cidadesmg\"],\n",
    "\"Santana do Riacho\": [\"http://cidadesmg.com.br/portaltransparencia/faces/user/portal.xhtml?Param=PmSantanaDoRiacho\", \"http://cidadesmg\"],\n",
    "\"Serra Azul de Minas\": [\"http://cidadesmg.com.br/portaltransparencia/faces/user/portal.xhtml?Param=SerraAzulDeMinas\", \"http://cidadesmg\"],\n",
    "\"Senador Modestino Gonçalves\": [\"http://cidadesmg.com.br/portaltransparencia/faces/user/portal.xhtml?Param=SenModestino\", \"http://cidadesmg\"],\n",
    "\"Santa Cruz de Salinas\": [\"http://cidadesmg.com.br/portaltransparencia/faces/user/portal.xhtml?Param=SantaCruzDeSalinas\", \"http://cidadesmg\"],\n",
    "\"Alvorada de Minas\": [\"http://cidadesmg.com.br/portaltransparencia/faces/user/portal.xhtml?Param=alvoradademinas\", \"http://cidadesmg\"],\n",
    "\"Frei Lagonegro\": [\"http://cidadesmg.com.br/portaltransparencia/faces/user/portal.xhtml?Param=PMFreiLagoNegro\", \"http://cidadesmg\"],\n",
    "\"São Gonçalo do Rio Preto\": [\"http://cidadesmg.com.br/portaltransparencia/faces/user/portal.xhtml?Param=SaoGoncaloDoRioPreto\", \"http://cidadesmg\"],\n",
    "\"Glaucilândia\": [\"http://cidadesmg.com.br/portaltransparencia/faces/user/portal.xhtml?Param=Glaucilandia\", \"http://cidadesmg\"],\n",
    "\"Santo Hipólito\": [\"http://cidadesmg.com.br/portaltransparencia/faces/user/portal.xhtml?Param=SantoHipolito\", \"http://cidadesmg\"],\n",
    "\"Presidente Kubitschek\": [\"http://cidadesmg.com.br/portaltransparencia/faces/user/portal.xhtml?Param=PresKubitschek\", \"http://cidadesmg\"]}"
   ]
  },
  {
   "cell_type": "markdown",
   "id": "9d5b967e",
   "metadata": {},
   "source": [
    "A seguir, a variável pasta_template guarda o caminho base dos dados"
   ]
  },
  {
   "cell_type": "code",
   "execution_count": 35,
   "id": "1dc3fd83",
   "metadata": {},
   "outputs": [
    {
     "name": "stdout",
     "output_type": "stream",
     "text": [
      "/home/arthur/Projeto MP/Coletas/Sintese/\n"
     ]
    }
   ],
   "source": [
    "pasta_raiz = os.getcwd()\n",
    "pasta_template = pasta_raiz + \"/Coletas\" + \"/Sintese/\"\n",
    "print(pasta_template)"
   ]
  },
  {
   "cell_type": "markdown",
   "id": "f2488378",
   "metadata": {},
   "source": [
    "Agora, criam-se as respectivas pastas de subtags para cada uma das cidades"
   ]
  },
  {
   "cell_type": "code",
   "execution_count": 36,
   "id": "e9669f4e",
   "metadata": {},
   "outputs": [],
   "source": [
    "def create_pastes():\n",
    "\n",
    "    try:\n",
    "        os.mkdir(pasta_raiz + \"/Coletas\")\n",
    "    except FileExistsError:\n",
    "        pass\n",
    "    \n",
    "    try:\n",
    "        os.mkdir(pasta_raiz + \"/Coletas\" + \"/Sintese/\")\n",
    "    except FileExistsError:\n",
    "        pass\n",
    "    \n",
    "    for cidade in cidades_urls.keys():\n",
    "        try:\n",
    "            os.mkdir(pasta_template + cidade)\n",
    "            for tag in tags:\n",
    "                os.mkdir(pasta_template  + cidade + \"/\" + tag)\n",
    "                for sub in subpastas:\n",
    "                    os.mkdir(pasta_template  + cidade + \"/\" + tag + \"/\" + sub)\n",
    "        except FileExistsError:\n",
    "            continue"
   ]
  },
  {
   "cell_type": "markdown",
   "id": "f3a5ce66",
   "metadata": {},
   "source": [
    "Aqui encontra-se o crawler que irá separar as páginas do template de acordo com a subtag encontrada na url"
   ]
  },
  {
   "cell_type": "code",
   "execution_count": 37,
   "id": "79509e55",
   "metadata": {},
   "outputs": [],
   "source": [
    "def crawl(pages, depth, tags, restriction):\n",
    "    urllib3.disable_warnings(urllib3.exceptions.InsecureRequestWarning)\n",
    "    already_visited = set(pages)\n",
    "    \n",
    "    dic = {}\n",
    "    for tag in tags:\n",
    "        dic[tag] = set()\n",
    "\n",
    "    for i in range(depth):\n",
    "        new_pages = set()\n",
    "        print(\"Current depth: \" + str(i))\n",
    "\n",
    "        for page in pages:\n",
    "            http = urllib3.PoolManager()\n",
    "            try:\n",
    "                page_data = http.request('GET', page)\n",
    "            except:\n",
    "                print(\"Error: \" + page)\n",
    "                continue\n",
    "\n",
    "\n",
    "            soup = BeautifulSoup(page_data.data, \"lxml\")\n",
    "            already_visited.add(page)\n",
    "\n",
    "            links = soup.find_all('a')\n",
    "            counter = 0\n",
    "\n",
    "            for link in links:\n",
    "\n",
    "                if(\"href\" in link.attrs):\n",
    "                    url = urljoin(page, str(link.get('href')))\n",
    "\n",
    "                    if url.find(\"'\") != -1:\n",
    "                        continue\n",
    "\n",
    "                    url = url.split(\"#\")[0]\n",
    "\n",
    "                #Restriction to prevent the crawler get out the base url\n",
    "                if url.startswith(restriction):\n",
    "                    new_pages.add(url)\n",
    "                    for tag in tags:\n",
    "                        if tag in url:\n",
    "                            dic[tag].add(url)\n",
    "                                \n",
    "            counter += 1\n",
    "\n",
    "        pages = new_pages.difference(already_visited)\n",
    "\n",
    "        print(\"Number of links visited: \" +  str(len(already_visited)))\n",
    "\n",
    "    return dic"
   ]
  },
  {
   "cell_type": "code",
   "execution_count": 38,
   "id": "e499d1e8",
   "metadata": {},
   "outputs": [
    {
     "name": "stdout",
     "output_type": "stream",
     "text": [
      "Current depth: 0\n"
     ]
    },
    {
     "name": "stderr",
     "output_type": "stream",
     "text": [
      "/home/arthur/.local/lib/python3.8/site-packages/bs4/builder/__init__.py:545: XMLParsedAsHTMLWarning: It looks like you're parsing an XML document using an HTML parser. If this really is an HTML document (maybe it's XHTML?), you can ignore or filter this warning. If it's XML, you should know that using an XML parser will be more reliable. To parse this document as XML, make sure you have the lxml package installed, and pass the keyword argument `features=\"xml\"` into the BeautifulSoup constructor.\n",
      "  warnings.warn(\n"
     ]
    },
    {
     "name": "stdout",
     "output_type": "stream",
     "text": [
      "Number of links visited: 1\n",
      "Current depth: 1\n",
      "Number of links visited: 15\n",
      "Current depth: 2\n",
      "Number of links visited: 52\n",
      "{'Empenhos': {'http://cidadesmg.com.br/portaltransparencia/faces/user/despesa/FEmpenhosEmitidos.xhtml?Param=PmIbiai', 'http://cidadesmg.com.br/portaltransparencia/faces/user/covid19/FEmpenhosLiquidadosCovid19.xhtml?Param=PmIbiai', 'http://cidadesmg.com.br/portaltransparencia/faces/user/covid19/FEmpenhosAnuladosCovid19.xhtml?Param=PmIbiai', 'http://cidadesmg.com.br/portaltransparencia/faces/user/despesa/FEmpenhosLiquidados.xhtml?Param=PmIbiai', 'http://cidadesmg.com.br/portaltransparencia/faces/user/despesa/FEmpenhosAnulados.xhtml?Param=PmIbiai', 'http://cidadesmg.com.br/portaltransparencia/faces/user/covid19/FEmpenhosEmitidosCovid19.xhtml?Param=PmIbiai'}, 'Pagamentos': {'http://cidadesmg.com.br/portaltransparencia/faces/user/despesa/FPagamentosRealizados.xhtml?Param=PmIbiai', 'http://cidadesmg.com.br/portaltransparencia/faces/user/despesa/FPagamentosTransferencia.xhtml?Param=PmIbiai', 'http://cidadesmg.com.br/portaltransparencia/faces/user/covid19/FPagamentosRealizadosCovid19.xhtml?Param=PmIbiai'}, 'folha': {'http://cidadesmg.com.br/portaltransparencia/faces/user/folha/FAgentePolitico.xhtml?Param=PmIbiai', 'http://cidadesmg.com.br/portaltransparencia/faces/user/folha.xhtml?Param=PmIbiai', 'http://cidadesmg.com.br/portaltransparencia/faces/user/folha/FFolhaPagamento.xhtml?Param=PmIbiai'}, 'Receitas': {'http://cidadesmg.com.br/portaltransparencia/faces/user/receita/FReceitasArrecadacao.xhtml?Param=PmIbiai', 'http://cidadesmg.com.br/portaltransparencia/faces/user/receita/FReceitasPrevisao.xhtml?Param=PmIbiai', 'http://cidadesmg.com.br/portaltransparencia/faces/user/receita/FReceitasTransferencia.xhtml?Param=PmIbiai'}, 'relatorioGF': {'http://cidadesmg.com.br/portaltransparencia/faces/user/lrf/FLRFrelatorioGF.xhtml?Param=PmIbiai'}, 'relatorioREO': {'http://cidadesmg.com.br/portaltransparencia/faces/user/lrf/FLRFrelatorioREO.xhtml?Param=PmIbiai'}, 'Edital': {'http://cidadesmg.com.br/portaltransparencia/faces/user/outros/FRelatorioEdital.xhtml?Param=PmIbiai'}, 'Licitacao': {'http://cidadesmg.com.br/portaltransparencia/faces/user/covid19/FLicitacaoCovid19.xhtml?Param=PmIbiai', 'http://cidadesmg.com.br/portaltransparencia/faces/user/compra/FLicitacao.xhtml?Param=PmIbiai'}, 'Contrato': {'http://cidadesmg.com.br/portaltransparencia/faces/user/covid19/FContratoCovid19.xhtml?Param=PmIbiai', 'http://cidadesmg.com.br/portaltransparencia/faces/user/compra/FAditivoContrato.xhtml?Param=PmIbiai', 'http://cidadesmg.com.br/portaltransparencia/faces/user/compra/FContrato.xhtml?Param=PmIbiai'}, 'Obra': {'http://cidadesmg.com.br/portaltransparencia/faces/user/compra/FRelatorioObra.xhtml?Param=PmIbiai'}, 'orcamento': {'http://cidadesmg.com.br/portaltransparencia/faces/user/orcamento/FExecucaoDasDespesas.xhtml?Param=PmIbiai', 'http://cidadesmg.com.br/portaltransparencia/faces/user/orcamento/FProgramasAtividades.xhtml?Param=PmIbiai', 'http://cidadesmg.com.br/portaltransparencia/faces/user/orcamento.xhtml?Param=PmIbiai', 'http://cidadesmg.com.br/portaltransparencia/faces/user/orcamento/FExecucaoDasAcoes.xhtml?Param=PmIbiai'}, 'RestoAPagar': {'http://cidadesmg.com.br/portaltransparencia/faces/user/resto/FRestoAPagar.xhtml?Param=PmIbiai'}, 'Contas': {'http://cidadesmg.com.br/portaltransparencia/faces/user/pcontas/FPContas.xhtml?Param=PmIbiai'}, 'Legislacao': {'http://cidadesmg.com.br/portaltransparencia/faces/user/outros/FRelatorioLegislacao.xhtml?Param=PmIbiai'}, 'DiariaDeViagem': {'http://cidadesmg.com.br/portaltransparencia/faces/user/diarias/FDiariaDeViagem.xhtml?Param=PmIbiai'}, 'convenios': {'http://cidadesmg.com.br/portaltransparencia/faces/user/convenios/ConveniosRecebidos.xhtml?Param=PmIbiai', 'http://cidadesmg.com.br/portaltransparencia/faces/user/convenios.xhtml?Param=PmIbiai', 'http://cidadesmg.com.br/portaltransparencia/faces/user/convenios/ConveniosConcedidos.xhtml?Param=PmIbiai'}}\n"
     ]
    }
   ],
   "source": [
    "links = crawl([\"http://cidadesmg.com.br/portaltransparencia/faces/user/portal.xhtml?Param=PmIbiai\"], 3, tags, \"\")\n",
    "print(links)"
   ]
  },
  {
   "cell_type": "markdown",
   "id": "7a68221d",
   "metadata": {},
   "source": [
    "Assim, para cada uma das urls coletadas, aplica-se o coletor base a seguir, que simplesmente abre a página e baixa os dados encontrados como um arquivo CSV"
   ]
  },
  {
   "cell_type": "code",
   "execution_count": 39,
   "id": "bda41d1b",
   "metadata": {},
   "outputs": [],
   "source": [
    "async def coletor1(url, cidade, subtag):\n",
    "\n",
    "    #try:    \n",
    "    \n",
    "    playwright = await async_playwright().start()\n",
    "    browser = await playwright.chromium.launch(headless=False)\n",
    "    context = await browser.new_context()\n",
    "    # Open new page\n",
    "    page = await context.new_page()\n",
    "\n",
    "    # Go to url\n",
    "    await page.goto(url)\n",
    "\n",
    "    # Iterate over years\n",
    "    for ano in [\"2015\", \"2016\", \"2017\", \"2018\", \"2019\", \"2020\", \"2021\", \"2022\"]:\n",
    "        # Select year\n",
    "        await page.locator(\"select[name=\\\"form\\\\:j_idt13\\\"]\").select_option(ano)\n",
    "        await page.locator(\"button[role=\\\"button\\\"]:has-text(\\\"Consultar\\\")\").click()\n",
    "        # Click text=CSV\n",
    "        #try:\n",
    "        async with page.expect_download() as download_info:\n",
    "            await page.locator(\"text=CSV\").click()\n",
    "\n",
    "        download = await download_info.value\n",
    "        filename = await download.path()\n",
    "        complement = str(filename).split(\"/\")[-1]\n",
    "\n",
    "        print(pasta_template + cidade + \"/\" + subtag + \"/files/\" +subtag+complement)\n",
    "\n",
    "        await download.save_as(pasta_template + cidade + \"/\" + subtag + \"/files/\" +subtag+complement)\n",
    "\n",
    "        #except:\n",
    "         #   print(\"Erro!!\")\n",
    "          #  break\n",
    "    # ---------------------\n",
    "    await context.close()\n",
    "    await browser.close()\n",
    "        \n",
    "    #except:\n",
    "        #print(\"Unknown Erro\")"
   ]
  },
  {
   "cell_type": "markdown",
   "id": "c389678a",
   "metadata": {},
   "source": [
    "Fazendo isso em loop, é possível coletar grande parte dos dados do template rapidamente"
   ]
  },
  {
   "cell_type": "code",
   "execution_count": null,
   "id": "1d56d764",
   "metadata": {},
   "outputs": [],
   "source": [
    "create_pastes()\n",
    "loop = asyncio.get_event_loop()\n",
    "\n",
    "for key, value in cidades_urls.items():\n",
    "    print(\"Cidade: \" + key)\n",
    "    links_gerados = crawl([value[0]], 3, tags, value[1])\n",
    "    for tag, links in links_gerados.items():\n",
    "        print(\"Coletando \" + tag)\n",
    "        for link in links:\n",
    "            print(link)\n",
    "            loop.create_task(coletor1(link, key, tag))\n",
    "            time.sleep(10)"
   ]
  },
  {
   "cell_type": "markdown",
   "id": "bad28a29",
   "metadata": {},
   "source": [
    "Comportamento individual funciona corretamente, mas em loop ocorre algum erro!"
   ]
  },
  {
   "cell_type": "code",
   "execution_count": 31,
   "id": "6047daf8",
   "metadata": {},
   "outputs": [
    {
     "name": "stderr",
     "output_type": "stream",
     "text": [
      "Future exception was never retrieved\n",
      "future: <Future finished exception=Error('Target page, context or browser has been closed')>\n",
      "playwright._impl._api_types.Error: Target page, context or browser has been closed\n",
      "Future exception was never retrieved\n",
      "future: <Future finished exception=Error('Target page, context or browser has been closed')>\n",
      "playwright._impl._api_types.Error: Target page, context or browser has been closed\n",
      "Future exception was never retrieved\n",
      "future: <Future finished exception=Error('Target page, context or browser has been closed')>\n",
      "playwright._impl._api_types.Error: Target page, context or browser has been closed\n",
      "Future exception was never retrieved\n",
      "future: <Future finished exception=Error('Target page, context or browser has been closed')>\n",
      "playwright._impl._api_types.Error: Target page, context or browser has been closed\n",
      "Future exception was never retrieved\n",
      "future: <Future finished exception=Error('Target page, context or browser has been closed')>\n",
      "playwright._impl._api_types.Error: Target page, context or browser has been closed\n"
     ]
    },
    {
     "name": "stdout",
     "output_type": "stream",
     "text": [
      "/home/arthur/Projeto MP/Coletas/Sintese/Patis/Empenhos/files/Empenhosbeead87d-886b-40f3-a45b-5d54693085a5\n",
      "/home/arthur/Projeto MP/Coletas/Sintese/Patis/Empenhos/files/Empenhos7eb0459a-3017-415f-ac88-ada17b7a6eb7\n",
      "/home/arthur/Projeto MP/Coletas/Sintese/Patis/Empenhos/files/Empenhos9225fd2d-a09e-4248-9d6e-2cd8b0566d5d\n"
     ]
    }
   ],
   "source": [
    "task = loop.create_task(coletor1(\"http://cidadesmg.com.br/portaltransparencia/faces/user/despesa/FEmpenhosEmitidos.xhtml?Param=Patis\", \"Patis\", \"Empenhos\"))"
   ]
  }
 ],
 "metadata": {
  "kernelspec": {
   "display_name": "Python 3 (ipykernel)",
   "language": "python",
   "name": "python3"
  },
  "language_info": {
   "codemirror_mode": {
    "name": "ipython",
    "version": 3
   },
   "file_extension": ".py",
   "mimetype": "text/x-python",
   "name": "python",
   "nbconvert_exporter": "python",
   "pygments_lexer": "ipython3",
   "version": "3.8.10"
  }
 },
 "nbformat": 4,
 "nbformat_minor": 5
}
