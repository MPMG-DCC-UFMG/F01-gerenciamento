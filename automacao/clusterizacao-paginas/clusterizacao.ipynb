{
 "cells": [
  {
   "cell_type": "markdown",
   "id": "6d3403ff",
   "metadata": {},
   "source": [
    "# Agrupando links"
   ]
  },
  {
   "cell_type": "markdown",
   "id": "c3894af6",
   "metadata": {},
   "source": [
    "Para agrupar os links gerados, primeiramente é necessário importar as funções implementadas em metrica_clusterizacao.py"
   ]
  },
  {
   "cell_type": "code",
   "execution_count": 1,
   "id": "de7a00e7",
   "metadata": {},
   "outputs": [],
   "source": [
    "import matplotlib.pyplot as plt\n",
    "import numpy as np\n",
    "import scipy.cluster.hierarchy as hcluster\n",
    "\n",
    "from sklearn.cluster import dbscan\n",
    "from ipynb.fs.full.metrica_clusterizacao import *"
   ]
  },
  {
   "cell_type": "markdown",
   "id": "6270552f",
   "metadata": {},
   "source": [
    "## Exemplo"
   ]
  },
  {
   "cell_type": "markdown",
   "id": "57f11b01",
   "metadata": {},
   "source": [
    "A seguir há um exemplo de como usar o agrupamento hierárquico da biblioteca scipy"
   ]
  },
  {
   "cell_type": "code",
   "execution_count": 53,
   "id": "36b96c4f",
   "metadata": {},
   "outputs": [],
   "source": [
    "# Gerando pontos bidimensionais\n",
    "N=100\n",
    "data = np.random.randn(3*N,2)\n",
    "data[:N] += 5\n",
    "data[-N:] += 10\n",
    "data[-1:] -= 20"
   ]
  },
  {
   "cell_type": "code",
   "execution_count": 9,
   "id": "801e672c",
   "metadata": {},
   "outputs": [
    {
     "data": {
      "image/png": "[encoded data removed]",
      "text/plain": [
       "<Figure size 432x288 with 1 Axes>"
      ]
     },
     "metadata": {
      "needs_background": "light"
     },
     "output_type": "display_data"
    }
   ],
   "source": [
    "# Agrupando\n",
    "thresh = 1.5\n",
    "clusters = hcluster.fclusterdata(data, thresh, criterion=\"distance\")\n",
    "\n",
    "# Plotando resultados\n",
    "def plot(data):\n",
    "\n",
    "    plt.scatter(*np.transpose(data), c=clusters)\n",
    "    plt.axis(\"equal\")\n",
    "    title = \"threshold: %f, number of clusters: %d\" % (thresh, len(set(clusters)))\n",
    "    plt.title(title)\n",
    "    plt.show()\n",
    "    \n",
    "#plot(data)"
   ]
  },
  {
   "cell_type": "markdown",
   "id": "ea3c31d5",
   "metadata": {},
   "source": [
    "## Adaptando para agrupar urls"
   ]
  },
  {
   "cell_type": "raw",
   "id": "0d0f6143",
   "metadata": {},
   "source": [
    "Para agrupar as urls geradas, é preciso passar como argumento para a função a seguir a matriz de distâncias par a par entre as urls. A métrica usada para definir essas distâncias se encontra em metrica_clusterizacao.py"
   ]
  },
  {
   "cell_type": "code",
   "execution_count": 86,
   "id": "dee3304e",
   "metadata": {},
   "outputs": [],
   "source": [
    "def agrupar_urls(matriz_distancias, thresh):\n",
    "    \n",
    "    clusters = hcluster.fclusterdata(matriz_distancias, thresh, criterion = \"distance\")\n",
    "    num_clusters = len(set(clusters))\n",
    "    \n",
    "    return clusters, num_clusters"
   ]
  },
  {
   "cell_type": "code",
   "execution_count": null,
   "id": "485cef8d",
   "metadata": {},
   "outputs": [],
   "source": []
  }
 ],
 "metadata": {
  "kernelspec": {
   "display_name": "Python 3 (ipykernel)",
   "language": "python",
   "name": "python3"
  },
  "language_info": {
   "codemirror_mode": {
    "name": "ipython",
    "version": 3
   },
   "file_extension": ".py",
   "mimetype": "text/x-python",
   "name": "python",
   "nbconvert_exporter": "python",
   "pygments_lexer": "ipython3",
   "version": "3.8.10"
  }
 },
 "nbformat": 4,
 "nbformat_minor": 5
}
