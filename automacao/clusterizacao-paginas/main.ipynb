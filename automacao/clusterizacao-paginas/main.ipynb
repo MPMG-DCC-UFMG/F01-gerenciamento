{
 "cells": [
  {
   "cell_type": "markdown",
   "id": "380c7f00",
   "metadata": {},
   "source": [
    "# Execução "
   ]
  },
  {
   "cell_type": "markdown",
   "id": "ab3eb1e3",
   "metadata": {},
   "source": [
    "Primeiramente, extrai-se as funções de cada um dos módulos implementados."
   ]
  },
  {
   "cell_type": "code",
   "execution_count": 1,
   "id": "5b51301a",
   "metadata": {},
   "outputs": [],
   "source": [
    "from ipynb.fs.full.explorador_de_links import *\n",
    "from ipynb.fs.full.clusterizacao import *\n",
    "from ipynb.fs.full.metrica_clusterizacao import *"
   ]
  },
  {
   "cell_type": "markdown",
   "id": "32350eb3",
   "metadata": {},
   "source": [
    "As urls bases indicam as páginas que deverão ser exploradas."
   ]
  },
  {
   "cell_type": "code",
   "execution_count": 2,
   "id": "9cb90477",
   "metadata": {},
   "outputs": [],
   "source": [
    "urls_bases = [\"https://sardoa.mg.gov.br/transparencia\", \"https://coroaci.mg.gov.br/transparencia\", \"https://machacalis.mg.gov.br/transparencia\"]"
   ]
  },
  {
   "cell_type": "code",
   "execution_count": 3,
   "id": "bf6c58a9",
   "metadata": {},
   "outputs": [
    {
     "data": {
      "text/plain": [
       "<Task pending name='Task-4' coro=<explorar_urls() running at /home/arthur/C01/explorador_de_links.ipynb:222>>"
      ]
     },
     "execution_count": 3,
     "metadata": {},
     "output_type": "execute_result"
    },
    {
     "name": "stdout",
     "output_type": "stream",
     "text": [
      "Paginas visitadas: set()\n",
      "Paginas: {'https://sardoa.mg.gov.br/transparencia'}\n",
      "Actual depth: 1\n",
      "Number of links: 65\n",
      "Paginas visitadas: {'https://sardoa.mg.gov.br/transparencia'}\n",
      "Paginas: {'https://sardoa.mg.gov.br/transparencia/relatorios', 'https://sardoa.mg.gov.br/transparencia/diarias', 'https://sardoa.mg.gov.br/transparencia/receitas', 'https://sardoa.mg.gov.br/transparencia/folhas-de-pagamento', 'https://sardoa.mg.gov.br/transparencia/editais', 'https://sardoa.mg.gov.br/transparencia/contratos', 'https://sardoa.mg.gov.br/transparencia/despesas-com-pessoal', 'https://sardoa.mg.gov.br/transparencia/empenhos', 'https://sardoa.mg.gov.br/licitacoes/1', 'https://sardoa.mg.gov.br/transparencia/obras', 'https://sardoa.mg.gov.br/transparencia/pagamentos', 'https://sardoa.mg.gov.br/transparencia/licitacoes', 'https://sardoa.mg.gov.br/transparencia/dispensas'}\n",
      "Novas paginas {'https://sardoa.mg.gov.br/transparencia/relatorios', 'https://sardoa.mg.gov.br/transparencia/diarias', 'https://sardoa.mg.gov.br/transparencia/receitas', 'https://sardoa.mg.gov.br/transparencia/folhas-de-pagamento', 'https://sardoa.mg.gov.br/transparencia/editais', 'https://sardoa.mg.gov.br/transparencia/contratos', 'https://sardoa.mg.gov.br/transparencia/despesas-com-pessoal', 'https://sardoa.mg.gov.br/transparencia/empenhos', 'https://sardoa.mg.gov.br/licitacoes/1', 'https://sardoa.mg.gov.br/transparencia/obras', 'https://sardoa.mg.gov.br/transparencia/pagamentos', 'https://sardoa.mg.gov.br/transparencia/licitacoes', 'https://sardoa.mg.gov.br/transparencia/dispensas'}\n",
      "Paginas visitadas: set()\n",
      "Paginas: {'https://coroaci.mg.gov.br/transparencia'}\n",
      "Actual depth: 1\n",
      "Number of links: 65\n",
      "Paginas visitadas: {'https://coroaci.mg.gov.br/transparencia'}\n",
      "Paginas: {'https://coroaci.mg.gov.br/transparencia/licitacoes', 'https://coroaci.mg.gov.br/transparencia/pagamentos', 'https://coroaci.mg.gov.br/transparencia/empenhos', 'https://coroaci.mg.gov.br/transparencia/despesas-com-pessoal', 'https://coroaci.mg.gov.br/transparencia/editais', 'https://coroaci.mg.gov.br/transparencia/dispensas', 'https://coroaci.mg.gov.br/licitacoes/1', 'https://coroaci.mg.gov.br/transparencia/contratos', 'https://coroaci.mg.gov.br/transparencia/diarias', 'https://coroaci.mg.gov.br/transparencia/relatorios', 'https://coroaci.mg.gov.br/transparencia/obras', 'https://coroaci.mg.gov.br/transparencia/folhas-de-pagamento', 'https://coroaci.mg.gov.br/transparencia/receitas'}\n",
      "Novas paginas {'https://coroaci.mg.gov.br/transparencia/licitacoes', 'https://coroaci.mg.gov.br/transparencia/pagamentos', 'https://coroaci.mg.gov.br/transparencia/empenhos', 'https://coroaci.mg.gov.br/transparencia/despesas-com-pessoal', 'https://coroaci.mg.gov.br/transparencia/editais', 'https://coroaci.mg.gov.br/transparencia/dispensas', 'https://coroaci.mg.gov.br/licitacoes/1', 'https://coroaci.mg.gov.br/transparencia/contratos', 'https://coroaci.mg.gov.br/transparencia/diarias', 'https://coroaci.mg.gov.br/transparencia/relatorios', 'https://coroaci.mg.gov.br/transparencia/obras', 'https://coroaci.mg.gov.br/transparencia/folhas-de-pagamento', 'https://coroaci.mg.gov.br/transparencia/receitas'}\n",
      "Paginas visitadas: set()\n",
      "Paginas: {'https://machacalis.mg.gov.br/transparencia'}\n",
      "Actual depth: 1\n",
      "Number of links: 65\n",
      "Paginas visitadas: {'https://machacalis.mg.gov.br/transparencia'}\n",
      "Paginas: {'https://machacalis.mg.gov.br/transparencia/dispensas', 'https://machacalis.mg.gov.br/transparencia/empenhos', 'https://machacalis.mg.gov.br/transparencia/despesas-com-pessoal', 'https://machacalis.mg.gov.br/transparencia/obras', 'https://machacalis.mg.gov.br/transparencia/relatorios', 'https://machacalis.mg.gov.br/transparencia/editais', 'https://machacalis.mg.gov.br/licitacoes/1', 'https://machacalis.mg.gov.br/transparencia/diarias', 'https://machacalis.mg.gov.br/transparencia/licitacoes', 'https://machacalis.mg.gov.br/transparencia/pagamentos', 'https://machacalis.mg.gov.br/transparencia/receitas', 'https://machacalis.mg.gov.br/transparencia/contratos', 'https://machacalis.mg.gov.br/transparencia/folhas-de-pagamento'}\n",
      "Novas paginas {'https://machacalis.mg.gov.br/transparencia/dispensas', 'https://machacalis.mg.gov.br/transparencia/empenhos', 'https://machacalis.mg.gov.br/transparencia/despesas-com-pessoal', 'https://machacalis.mg.gov.br/transparencia/obras', 'https://machacalis.mg.gov.br/transparencia/relatorios', 'https://machacalis.mg.gov.br/transparencia/editais', 'https://machacalis.mg.gov.br/licitacoes/1', 'https://machacalis.mg.gov.br/transparencia/diarias', 'https://machacalis.mg.gov.br/transparencia/licitacoes', 'https://machacalis.mg.gov.br/transparencia/pagamentos', 'https://machacalis.mg.gov.br/transparencia/receitas', 'https://machacalis.mg.gov.br/transparencia/contratos', 'https://machacalis.mg.gov.br/transparencia/folhas-de-pagamento'}\n"
     ]
    }
   ],
   "source": [
    "loop = asyncio.get_event_loop()\n",
    "loop.create_task(explorar_urls(urls_bases, 1, True))"
   ]
  },
  {
   "cell_type": "markdown",
   "id": "5186f9c1",
   "metadata": {},
   "source": [
    "Extrai-se os botões das urls encontradas"
   ]
  },
  {
   "cell_type": "code",
   "execution_count": 4,
   "id": "4e9d6d81",
   "metadata": {},
   "outputs": [],
   "source": [
    "arq = open(\"urls.txt\", \"r\")\n",
    "urls = arq.readlines()\n",
    "arq.close()"
   ]
  },
  {
   "cell_type": "code",
   "execution_count": 5,
   "id": "633e6fbd",
   "metadata": {},
   "outputs": [],
   "source": [
    "links_para_botoes(urls)"
   ]
  },
  {
   "cell_type": "markdown",
   "id": "6467a367",
   "metadata": {},
   "source": [
    "Os botões então são usados para gerar a matriz de distâncias"
   ]
  },
  {
   "cell_type": "code",
   "execution_count": 6,
   "id": "82d98a28",
   "metadata": {},
   "outputs": [],
   "source": [
    "arq = open(\"botoes.txt\", \"r\")\n",
    "botoes = arq.read()\n",
    "arq.close()"
   ]
  },
  {
   "cell_type": "code",
   "execution_count": 7,
   "id": "667f6180",
   "metadata": {},
   "outputs": [],
   "source": [
    "lista_botoes = botoes.strip('][').split(', ')"
   ]
  },
  {
   "cell_type": "code",
   "execution_count": 8,
   "id": "1973105e",
   "metadata": {},
   "outputs": [],
   "source": [
    "matriz = gerar_matriz_distancias(lista_botoes)"
   ]
  },
  {
   "cell_type": "code",
   "execution_count": 9,
   "id": "f3b042e2",
   "metadata": {},
   "outputs": [],
   "source": [
    "resultados = agrupar_urls(matriz, 0.35)"
   ]
  },
  {
   "cell_type": "code",
   "execution_count": 10,
   "id": "0c496065",
   "metadata": {},
   "outputs": [
    {
     "name": "stdout",
     "output_type": "stream",
     "text": [
      "(array([7, 1, 6, 6, 6, 6, 6, 6, 2, 5, 4, 6, 6, 5, 5, 6, 6, 4, 8, 6, 6, 6,\n",
      "       6, 6, 6, 2, 6, 6, 5, 6, 6, 6, 5, 4, 2, 1, 6, 3, 6], dtype=int32), 8)\n"
     ]
    }
   ],
   "source": [
    "print(resultados)"
   ]
  },
  {
   "cell_type": "code",
   "execution_count": null,
   "id": "63939bc0",
   "metadata": {},
   "outputs": [],
   "source": []
  }
 ],
 "metadata": {
  "kernelspec": {
   "display_name": "Python 3 (ipykernel)",
   "language": "python",
   "name": "python3"
  },
  "language_info": {
   "codemirror_mode": {
    "name": "ipython",
    "version": 3
   },
   "file_extension": ".py",
   "mimetype": "text/x-python",
   "name": "python",
   "nbconvert_exporter": "python",
   "pygments_lexer": "ipython3",
   "version": "3.8.10"
  }
 },
 "nbformat": 4,
 "nbformat_minor": 5
}
