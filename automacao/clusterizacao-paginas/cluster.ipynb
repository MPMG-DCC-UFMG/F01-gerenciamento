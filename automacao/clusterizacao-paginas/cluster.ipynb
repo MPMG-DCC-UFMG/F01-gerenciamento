{
 "cells": [
  {
   "cell_type": "markdown",
   "id": "a83db105",
   "metadata": {},
   "source": [
    "## Separação de páginas de acordo com o coletor necessário"
   ]
  },
  {
   "cell_type": "markdown",
   "id": "51c6eb5d",
   "metadata": {},
   "source": [
    "Dado uma página inicial de portal de transparência de uma prefeitura, é de interesse que possamos gerar links a partir dela e separar essses links gerados de acordo com subtags de dados a serem coletados (o que é tarefa para um classificador de páginas) e principalmente considerando o coletor necessário para recuperação da informação (tema abordado nesse notebook). A hipótese inicial é que isso pode ser feito comparando e clusterizando as páginas de acordo com sua estrutura, seu estilo ou considerando os botões presentes nela."
   ]
  },
  {
   "cell_type": "code",
   "execution_count": 32,
   "id": "d33cc1ef",
   "metadata": {},
   "outputs": [
    {
     "name": "stdout",
     "output_type": "stream",
     "text": [
      "Requirement already satisfied: jellyfish in /home/arthur/.local/lib/python3.8/site-packages (0.9.0)\n",
      "Requirement already satisfied: html-similarity in /home/arthur/.local/lib/python3.8/site-packages (0.3.3)\n",
      "Requirement already satisfied: parsel==1.6.0 in /home/arthur/.local/lib/python3.8/site-packages (from html-similarity) (1.6.0)\n",
      "Requirement already satisfied: w3lib>=1.19.0 in /home/arthur/.local/lib/python3.8/site-packages (from parsel==1.6.0->html-similarity) (2.0.1)\n",
      "Requirement already satisfied: six>=1.6.0 in /usr/lib/python3/dist-packages (from parsel==1.6.0->html-similarity) (1.14.0)\n",
      "Requirement already satisfied: lxml in /home/arthur/.local/lib/python3.8/site-packages (from parsel==1.6.0->html-similarity) (4.9.1)\n",
      "Requirement already satisfied: cssselect>=0.9 in /home/arthur/.local/lib/python3.8/site-packages (from parsel==1.6.0->html-similarity) (1.1.0)\n",
      "Requirement already satisfied: html-cluster in /home/arthur/.local/lib/python3.8/site-packages (0.1)\n",
      "Requirement already satisfied: click in /usr/lib/python3/dist-packages (from html-cluster) (7.0)\n",
      "Requirement already satisfied: requests in /usr/lib/python3/dist-packages (from html-cluster) (2.22.0)\n",
      "Requirement already satisfied: html-similarity in /home/arthur/.local/lib/python3.8/site-packages (from html-cluster) (0.3.3)\n",
      "Requirement already satisfied: parsel==1.6.0 in /home/arthur/.local/lib/python3.8/site-packages (from html-similarity->html-cluster) (1.6.0)\n",
      "Requirement already satisfied: lxml in /home/arthur/.local/lib/python3.8/site-packages (from parsel==1.6.0->html-similarity->html-cluster) (4.9.1)\n",
      "Requirement already satisfied: cssselect>=0.9 in /home/arthur/.local/lib/python3.8/site-packages (from parsel==1.6.0->html-similarity->html-cluster) (1.1.0)\n",
      "Requirement already satisfied: w3lib>=1.19.0 in /home/arthur/.local/lib/python3.8/site-packages (from parsel==1.6.0->html-similarity->html-cluster) (2.0.1)\n",
      "Requirement already satisfied: six>=1.6.0 in /usr/lib/python3/dist-packages (from parsel==1.6.0->html-similarity->html-cluster) (1.14.0)\n"
     ]
    }
   ],
   "source": [
    "!pip install jellyfish\n",
    "!pip install html-similarity"
   ]
  },
  {
   "cell_type": "code",
   "execution_count": 3,
   "id": "cf3249e9",
   "metadata": {},
   "outputs": [],
   "source": [
    "import urllib3\n",
    "import jellyfish\n",
    "import requests\n",
    "\n",
    "from bs4 import BeautifulSoup\n",
    "from urllib.parse import urljoin\n",
    "from urllib3.exceptions import *\n",
    "from html_similarity import style_similarity, structural_similarity, similarity\n",
    "\n",
    "from selenium import webdriver\n",
    "from selenium.webdriver.chrome.options import Options\n",
    "\n",
    "options = Options()\n",
    "options.add_argument(\"--disable-notifications\")\n",
    "options.add_argument(\"--disable-popup-blocking\")\n",
    "options.add_argument(\"--disable-web-security\")\n",
    "options.add_argument('--headless')"
   ]
  },
  {
   "cell_type": "markdown",
   "id": "87b27733",
   "metadata": {},
   "source": [
    "A seguir, há algumas páginas do Template 2. Essas páginas foram agrupadas de acordo com os coletores necessários para cada grupo, excetuando-se a paginas_extras, que se tratam de páginas isoladas do template. O ideal é que páginas de mesmo grupo (excetuando-se o último) apresentem resultados bem proximos entre si e resultados distantes de páginas de outros grupos. Assim, para que se possa mensurar isso, testou-se utilizando diversas métricas."
   ]
  },
  {
   "cell_type": "code",
   "execution_count": 34,
   "id": "d1f47a9b",
   "metadata": {},
   "outputs": [
    {
     "name": "stdout",
     "output_type": "stream",
     "text": [
      "['https://freigaspar.mg.gov.br/transparencia/empenhos', 'https://freigaspar.mg.gov.br/transparencia/pagamentos', 'https://freigaspar.mg.gov.br/transparencia/receitas', 'https://freigaspar.mg.gov.br/transparencia/folhas-de-pagamento/detalhes?indSituacaoServidorPensionista%5B0%5D=P&indSituacaoServidorPensionista%5B1%5D=03&IDE_FLPGO_id=35&ano=2015', 'https://freigaspar.mg.gov.br/transparencia/empenhos/detalhes/2022/02/118', 'https://freigaspar.mg.gov.br/transparencia/pagamentos/detalhes/2022/02/118', 'https://freigaspar.mg.gov.br/transparencia/empenhos/exibir/2022/02/33089', 'https://freigaspar.mg.gov.br/transparencia/pagamentos/exibir/2021/12/35798', 'https://freigaspar.mg.gov.br/transparencia/empenhos/exibir/2022/05/34915', 'https://freigaspar.mg.gov.br/transparencia', 'https://freigaspar.mg.gov.br/transparencia/folhas-de-pagamento', 'https://freigaspar.mg.gov.br/transparencia/coronavirus']\n"
     ]
    }
   ],
   "source": [
    "paginas_base = [\"https://freigaspar.mg.gov.br/transparencia/empenhos\", \n",
    "                \"https://freigaspar.mg.gov.br/transparencia/pagamentos\",\n",
    "                \"https://freigaspar.mg.gov.br/transparencia/receitas\"]\n",
    "\n",
    "coletor_1 = [\"https://freigaspar.mg.gov.br/transparencia/folhas-de-pagamento/detalhes?indSituacaoServidorPensionista%5B0%5D=P&indSituacaoServidorPensionista%5B1%5D=03&IDE_FLPGO_id=35&ano=2015\",\n",
    "             \"https://freigaspar.mg.gov.br/transparencia/empenhos/detalhes/2022/02/118\",\n",
    "             \"https://freigaspar.mg.gov.br/transparencia/pagamentos/detalhes/2022/02/118\"]\n",
    "\n",
    "coletor_2 = [\"https://freigaspar.mg.gov.br/transparencia/empenhos/exibir/2022/02/33089\",\n",
    "             \"https://freigaspar.mg.gov.br/transparencia/pagamentos/exibir/2021/12/35798\",\n",
    "             \"https://freigaspar.mg.gov.br/transparencia/empenhos/exibir/2022/05/34915\"]\n",
    "\n",
    "paginas_extras = [\"https://freigaspar.mg.gov.br/transparencia\",\n",
    "                  \"https://freigaspar.mg.gov.br/transparencia/folhas-de-pagamento\",\n",
    "                  \"https://freigaspar.mg.gov.br/transparencia/coronavirus\"]\n",
    "\n",
    "testes = paginas_base + coletor_1 + coletor_2 + paginas_extras"
   ]
  },
  {
   "cell_type": "markdown",
   "id": "25b14fcc",
   "metadata": {},
   "source": [
    "Assim, geram-se matrizes de similaridade de acordo com cada uma das métricas consideradas. Nessa matriz, as submatrizes 3x3 que começam nos elementos [0][0], [3][3] e [6][6] idealmente devem possuir valores próximos e que indiquem alta semelhança, o que é um sinal de que um mesmo coletor pode ser utilizado."
   ]
  },
  {
   "cell_type": "code",
   "execution_count": 85,
   "id": "31565f2e",
   "metadata": {},
   "outputs": [],
   "source": [
    "RED   = \"\\033[1;31m\"  \n",
    "BLUE  = \"\\033[1;34m\"\n",
    "CYAN  = \"\\033[1;36m\"\n",
    "GREEN = \"\\033[0;32m\"\n",
    "RESET = \"\\033[0;0m\" "
   ]
  },
  {
   "cell_type": "code",
   "execution_count": 86,
   "id": "52185ddc",
   "metadata": {
    "scrolled": true
   },
   "outputs": [],
   "source": [
    "def gerarResultados(metrica, dados):\n",
    "    \n",
    "    similares = 0\n",
    "    nao_similares = 0\n",
    "    \n",
    "    for i in range(len(dados)):\n",
    "        for j in range(len(dados)):\n",
    "            resultado = metrica(dados[i], dados[j])\n",
    "            string = f\"{resultado:.2f}\"\n",
    "            if i<3 and j< 3:\n",
    "                print(GREEN + string, end = \" \")\n",
    "                similares += resultado\n",
    "            elif i<6 and i>2 and j<6 and j>2:\n",
    "                print(BLUE + string, end = \" \")\n",
    "                similares += resultado\n",
    "            elif i<9 and i>5 and j<9 and j>5:\n",
    "                print(CYAN + string, end = \" \")\n",
    "                similares += resultado\n",
    "            else:\n",
    "                print(RED + string, end = \" \")\n",
    "                nao_similares += resultado\n",
    "        print(\"\\n\")\n",
    "        \n",
    "    print(RESET + \"Similaridade Desejada Média = \" + f\"{(similares/27):.2f}\")\n",
    "    print(\"Similaridade Não Desejada Média = \" + f\"{(nao_similares/117):.2f}\")"
   ]
  },
  {
   "cell_type": "markdown",
   "id": "be80f56b",
   "metadata": {},
   "source": [
    "## Similaridade entre strings usando Jellyfish"
   ]
  },
  {
   "cell_type": "code",
   "execution_count": 78,
   "id": "adf0c9b3",
   "metadata": {},
   "outputs": [],
   "source": [
    "def extrairHtml(url):\n",
    "\n",
    "    driver = webdriver.Chrome(options=options)\n",
    "    driver.get(url)\n",
    "    urllib3.disable_warnings(urllib3.exceptions.InsecureRequestWarning)\n",
    "    \n",
    "    try:\n",
    "        soup = BeautifulSoup(driver.page_source, \"lxml\")\n",
    "        \n",
    "        driver.close()\n",
    "        \n",
    "        for elm in soup.find_all():\n",
    "            if not elm.find(recursive=False):\n",
    "                elm.string = ''\n",
    "            elm.attrs = {}\n",
    "            \n",
    "        html = str(soup.prettify()).replace(\"\\n\", \"\")\n",
    "            \n",
    "        return html.replace(\" \", \"\")\n",
    "\n",
    "    \n",
    "    except:\n",
    "        driver.close()\n",
    "        \n",
    "        print(\"Erro ao tentar abrir a pagina: \" + url)"
   ]
  },
  {
   "cell_type": "code",
   "execution_count": 6,
   "id": "d906f047",
   "metadata": {},
   "outputs": [
    {
     "data": {
      "text/plain": [
       "'<html><head><!--|METAS|--><meta></meta><meta></meta><meta></meta><meta></meta><meta></meta><meta></meta><meta></meta><meta></meta><meta></meta><!--|OGTAGS|--><meta></meta><meta></meta><meta></meta><meta></meta><meta></meta><meta></meta><meta></meta><meta></meta><link></link><title></title><style></style><!--|CSS|--><link></link><link></link><link></link><link></link><style></style><style></style><style></style><style></style><style></style><style></style><style></style><style></style><style></style><style></style><style></style><style></style><style></style><style></style><style></style><style></style><style></style><style></style><style></style><style></style><style></style></head><body><div><div><div><img></img><img></img></div><div><div><div></div><div></div><div></div><div></div><div></div><div></div><div></div><div></div><div></div><div></div><div></div><div></div></div></div></div><!--|NAVBAR|--><nav><div><a><img></img></a><a><i></i><span></span></a></div><button><i></i></button><div><ul><li><a></a></li><li><a></a></li><li><a></a><div><div><ul><a></a><a></a><a></a><a></a><a></a><a></a><a></a></ul></div></div></li><li><a></a><div><div><ul><a></a><a></a><a></a><a></a><a></a></ul></div></div></li><li><a></a></li><li><a></a></li></ul><ul><li><a></a></li><li><a></a></li><li><a></a></li><li><a></a></li><li><a></a></li><li><a></a></li><li><a></a></li><li><a></a></li></ul></div></nav><div><!--|SIDEBAR|--><aside><div><ul><li><a><i></i><span></span></a></li><li><a><i></i><span></span></a></li><li><a><i></i><span></span></a></li><li><a><i></i><span></span></a></li><li><a><i></i><span></span></a></li><li><a><i></i><span></span></a></li><li><a><i></i><span></span></a></li><li><a><i></i><span></span></a></li><li><a><i></i><span></span></a></li><li><a><i></i><span></span></a></li><li><a><i></i><span></span></a></li><li><a><i></i><span></span></a></li></ul></div></aside><main><section><h6></h6><div><div><div><div><div><div><div><span></span><h5></h5></div><div><a></a></div></div><div><a><p></p></a><a><p></p></a></div></div></div></div></div></div></section><footer><div><div>2022©TodososdireitosreservadosPREFEITURAMUNICIPALDEFREIGASPAR|CNPJ:<span></span></div></div><ul><a></a></ul><a><i></i></a></footer></main></div></div><!--|JS|--><script></script><script></script><script></script><script></script><script></script><script></script><script></script><script></script><!--|PREVISÃODOTEMPO|--><script></script><!--|LIBRAS|--><script></script><script></script><!--|ACESSIBILIDADE|--><script></script><script></script><div><div><div></div></div></div></body></html>'"
      ]
     },
     "execution_count": 6,
     "metadata": {},
     "output_type": "execute_result"
    }
   ],
   "source": [
    "extrairHtml(\"https://freigaspar.mg.gov.br/transparencia/coronavirus\")"
   ]
  },
  {
   "cell_type": "code",
   "execution_count": 79,
   "id": "df02747f",
   "metadata": {},
   "outputs": [],
   "source": [
    "testes_1 = [extrairHtml(teste) for teste in testes]"
   ]
  },
  {
   "cell_type": "code",
   "execution_count": 87,
   "id": "87a20e78",
   "metadata": {},
   "outputs": [
    {
     "name": "stdout",
     "output_type": "stream",
     "text": [
      "\u001b[0;32m1.00 \u001b[0;32m1.00 \u001b[0;32m0.91 \u001b[1;31m0.85 \u001b[1;31m0.90 \u001b[1;31m0.88 \u001b[1;31m0.77 \u001b[1;31m0.77 \u001b[1;31m0.80 \u001b[1;31m0.76 \u001b[1;31m0.75 \u001b[1;31m0.74 \n",
      "\n",
      "\u001b[0;32m1.00 \u001b[0;32m1.00 \u001b[0;32m0.91 \u001b[1;31m0.85 \u001b[1;31m0.90 \u001b[1;31m0.88 \u001b[1;31m0.77 \u001b[1;31m0.77 \u001b[1;31m0.80 \u001b[1;31m0.76 \u001b[1;31m0.75 \u001b[1;31m0.74 \n",
      "\n",
      "\u001b[0;32m0.91 \u001b[0;32m0.91 \u001b[0;32m1.00 \u001b[1;31m0.84 \u001b[1;31m0.90 \u001b[1;31m0.89 \u001b[1;31m0.77 \u001b[1;31m0.77 \u001b[1;31m0.80 \u001b[1;31m0.76 \u001b[1;31m0.75 \u001b[1;31m0.74 \n",
      "\n",
      "\u001b[1;31m0.85 \u001b[1;31m0.85 \u001b[1;31m0.84 \u001b[1;34m1.00 \u001b[1;34m0.86 \u001b[1;34m0.85 \u001b[1;31m0.85 \u001b[1;31m0.85 \u001b[1;31m0.80 \u001b[1;31m0.84 \u001b[1;31m0.84 \u001b[1;31m0.83 \n",
      "\n",
      "\u001b[1;31m0.90 \u001b[1;31m0.90 \u001b[1;31m0.90 \u001b[1;34m0.86 \u001b[1;34m1.00 \u001b[1;34m0.92 \u001b[1;31m0.78 \u001b[1;31m0.78 \u001b[1;31m0.80 \u001b[1;31m0.77 \u001b[1;31m0.76 \u001b[1;31m0.75 \n",
      "\n",
      "\u001b[1;31m0.88 \u001b[1;31m0.88 \u001b[1;31m0.89 \u001b[1;34m0.85 \u001b[1;34m0.92 \u001b[1;34m1.00 \u001b[1;31m0.76 \u001b[1;31m0.76 \u001b[1;31m0.78 \u001b[1;31m0.76 \u001b[1;31m0.75 \u001b[1;31m0.74 \n",
      "\n",
      "\u001b[1;31m0.77 \u001b[1;31m0.77 \u001b[1;31m0.77 \u001b[1;31m0.85 \u001b[1;31m0.78 \u001b[1;31m0.76 \u001b[1;36m1.00 \u001b[1;36m0.96 \u001b[1;36m0.82 \u001b[1;31m0.92 \u001b[1;31m0.92 \u001b[1;31m0.91 \n",
      "\n",
      "\u001b[1;31m0.77 \u001b[1;31m0.77 \u001b[1;31m0.77 \u001b[1;31m0.85 \u001b[1;31m0.78 \u001b[1;31m0.76 \u001b[1;36m0.96 \u001b[1;36m1.00 \u001b[1;36m0.81 \u001b[1;31m0.92 \u001b[1;31m0.93 \u001b[1;31m0.92 \n",
      "\n",
      "\u001b[1;31m0.80 \u001b[1;31m0.80 \u001b[1;31m0.80 \u001b[1;31m0.80 \u001b[1;31m0.80 \u001b[1;31m0.78 \u001b[1;36m0.82 \u001b[1;36m0.81 \u001b[1;36m1.00 \u001b[1;31m0.81 \u001b[1;31m0.80 \u001b[1;31m0.78 \n",
      "\n",
      "\u001b[1;31m0.76 \u001b[1;31m0.76 \u001b[1;31m0.76 \u001b[1;31m0.84 \u001b[1;31m0.77 \u001b[1;31m0.76 \u001b[1;31m0.92 \u001b[1;31m0.92 \u001b[1;31m0.81 \u001b[1;31m1.00 \u001b[1;31m0.93 \u001b[1;31m0.92 \n",
      "\n",
      "\u001b[1;31m0.75 \u001b[1;31m0.75 \u001b[1;31m0.75 \u001b[1;31m0.84 \u001b[1;31m0.76 \u001b[1;31m0.75 \u001b[1;31m0.92 \u001b[1;31m0.93 \u001b[1;31m0.80 \u001b[1;31m0.93 \u001b[1;31m1.00 \u001b[1;31m0.94 \n",
      "\n",
      "\u001b[1;31m0.74 \u001b[1;31m0.74 \u001b[1;31m0.74 \u001b[1;31m0.83 \u001b[1;31m0.75 \u001b[1;31m0.74 \u001b[1;31m0.91 \u001b[1;31m0.92 \u001b[1;31m0.78 \u001b[1;31m0.92 \u001b[1;31m0.94 \u001b[1;31m1.00 \n",
      "\n",
      "\u001b[0;0mSimilaridade Desejada Média = 0.93\n",
      "Similaridade Não Desejada Média = 0.82\n"
     ]
    }
   ],
   "source": [
    "gerarResultados(jellyfish.jaro_distance, testes_1)"
   ]
  },
  {
   "cell_type": "code",
   "execution_count": 88,
   "id": "75dd54ba",
   "metadata": {},
   "outputs": [
    {
     "name": "stdout",
     "output_type": "stream",
     "text": [
      "\u001b[0;32m0.00 \u001b[0;32m0.00 \u001b[0;32m2313.00 \u001b[1;31m2329.00 \u001b[1;31m2119.00 \u001b[1;31m2202.00 \u001b[1;31m3837.00 \u001b[1;31m3843.00 \u001b[1;31m3824.00 \u001b[1;31m3832.00 \u001b[1;31m3891.00 \u001b[1;31m3882.00 \n",
      "\n",
      "\u001b[0;32m0.00 \u001b[0;32m0.00 \u001b[0;32m2313.00 \u001b[1;31m2329.00 \u001b[1;31m2119.00 \u001b[1;31m2202.00 \u001b[1;31m3837.00 \u001b[1;31m3843.00 \u001b[1;31m3824.00 \u001b[1;31m3832.00 \u001b[1;31m3891.00 \u001b[1;31m3882.00 \n",
      "\n",
      "\u001b[0;32m2313.00 \u001b[0;32m2313.00 \u001b[0;32m0.00 \u001b[1;31m2375.00 \u001b[1;31m2289.00 \u001b[1;31m2317.00 \u001b[1;31m3856.00 \u001b[1;31m3860.00 \u001b[1;31m3828.00 \u001b[1;31m3854.00 \u001b[1;31m3874.00 \u001b[1;31m3905.00 \n",
      "\n",
      "\u001b[1;31m2329.00 \u001b[1;31m2329.00 \u001b[1;31m2375.00 \u001b[1;34m0.00 \u001b[1;34m2029.00 \u001b[1;34m2289.00 \u001b[1;31m2483.00 \u001b[1;31m2495.00 \u001b[1;31m3219.00 \u001b[1;31m2481.00 \u001b[1;31m2529.00 \u001b[1;31m2544.00 \n",
      "\n",
      "\u001b[1;31m2119.00 \u001b[1;31m2119.00 \u001b[1;31m2289.00 \u001b[1;34m2029.00 \u001b[1;34m0.00 \u001b[1;34m2065.00 \u001b[1;31m3616.00 \u001b[1;31m3608.00 \u001b[1;31m3591.00 \u001b[1;31m3606.00 \u001b[1;31m3662.00 \u001b[1;31m3655.00 \n",
      "\n",
      "\u001b[1;31m2202.00 \u001b[1;31m2202.00 \u001b[1;31m2317.00 \u001b[1;34m2289.00 \u001b[1;34m2065.00 \u001b[1;34m0.00 \u001b[1;31m3884.00 \u001b[1;31m3877.00 \u001b[1;31m3851.00 \u001b[1;31m3884.00 \u001b[1;31m3929.00 \u001b[1;31m3928.00 \n",
      "\n",
      "\u001b[1;31m3837.00 \u001b[1;31m3837.00 \u001b[1;31m3856.00 \u001b[1;31m2483.00 \u001b[1;31m3616.00 \u001b[1;31m3884.00 \u001b[1;36m0.00 \u001b[1;36m637.00 \u001b[1;36m2901.00 \u001b[1;31m1062.00 \u001b[1;31m1026.00 \u001b[1;31m1038.00 \n",
      "\n",
      "\u001b[1;31m3843.00 \u001b[1;31m3843.00 \u001b[1;31m3860.00 \u001b[1;31m2495.00 \u001b[1;31m3608.00 \u001b[1;31m3877.00 \u001b[1;36m637.00 \u001b[1;36m0.00 \u001b[1;36m2918.00 \u001b[1;31m1015.00 \u001b[1;31m968.00 \u001b[1;31m986.00 \n",
      "\n",
      "\u001b[1;31m3824.00 \u001b[1;31m3824.00 \u001b[1;31m3828.00 \u001b[1;31m3219.00 \u001b[1;31m3591.00 \u001b[1;31m3851.00 \u001b[1;36m2901.00 \u001b[1;36m2918.00 \u001b[1;36m0.00 \u001b[1;31m2892.00 \u001b[1;31m2930.00 \u001b[1;31m2937.00 \n",
      "\n",
      "\u001b[1;31m3832.00 \u001b[1;31m3832.00 \u001b[1;31m3854.00 \u001b[1;31m2481.00 \u001b[1;31m3606.00 \u001b[1;31m3884.00 \u001b[1;31m1062.00 \u001b[1;31m1015.00 \u001b[1;31m2892.00 \u001b[1;31m0.00 \u001b[1;31m987.00 \u001b[1;31m1013.00 \n",
      "\n",
      "\u001b[1;31m3891.00 \u001b[1;31m3891.00 \u001b[1;31m3874.00 \u001b[1;31m2529.00 \u001b[1;31m3662.00 \u001b[1;31m3929.00 \u001b[1;31m1026.00 \u001b[1;31m968.00 \u001b[1;31m2930.00 \u001b[1;31m987.00 \u001b[1;31m0.00 \u001b[1;31m721.00 \n",
      "\n",
      "\u001b[1;31m3882.00 \u001b[1;31m3882.00 \u001b[1;31m3905.00 \u001b[1;31m2544.00 \u001b[1;31m3655.00 \u001b[1;31m3928.00 \u001b[1;31m1038.00 \u001b[1;31m986.00 \u001b[1;31m2937.00 \u001b[1;31m1013.00 \u001b[1;31m721.00 \u001b[1;31m0.00 \n",
      "\n",
      "\u001b[0;0mSimilaridade Desejada Média = 1293.70\n",
      "Similaridade Não Desejada Média = 2873.38\n"
     ]
    }
   ],
   "source": [
    "gerarResultados(jellyfish.hamming_distance, testes_1)"
   ]
  },
  {
   "cell_type": "code",
   "execution_count": 90,
   "id": "7d85753d",
   "metadata": {},
   "outputs": [
    {
     "name": "stdout",
     "output_type": "stream",
     "text": [
      "\u001b[0;32m1.00 \u001b[0;32m1.00 \u001b[0;32m0.95 \u001b[1;31m0.91 \u001b[1;31m0.94 \u001b[1;31m0.93 \u001b[1;31m0.86 \u001b[1;31m0.86 \u001b[1;31m0.88 \u001b[1;31m0.86 \u001b[1;31m0.85 \u001b[1;31m0.85 \n",
      "\n",
      "\u001b[0;32m1.00 \u001b[0;32m1.00 \u001b[0;32m0.95 \u001b[1;31m0.91 \u001b[1;31m0.94 \u001b[1;31m0.93 \u001b[1;31m0.86 \u001b[1;31m0.86 \u001b[1;31m0.88 \u001b[1;31m0.86 \u001b[1;31m0.85 \u001b[1;31m0.85 \n",
      "\n",
      "\u001b[0;32m0.95 \u001b[0;32m0.95 \u001b[0;32m1.00 \u001b[1;31m0.91 \u001b[1;31m0.94 \u001b[1;31m0.93 \u001b[1;31m0.86 \u001b[1;31m0.86 \u001b[1;31m0.88 \u001b[1;31m0.86 \u001b[1;31m0.85 \u001b[1;31m0.84 \n",
      "\n",
      "\u001b[1;31m0.91 \u001b[1;31m0.91 \u001b[1;31m0.91 \u001b[1;34m1.00 \u001b[1;34m0.92 \u001b[1;34m0.91 \u001b[1;31m0.91 \u001b[1;31m0.91 \u001b[1;31m0.88 \u001b[1;31m0.91 \u001b[1;31m0.90 \u001b[1;31m0.90 \n",
      "\n",
      "\u001b[1;31m0.94 \u001b[1;31m0.94 \u001b[1;31m0.94 \u001b[1;34m0.92 \u001b[1;34m1.00 \u001b[1;34m0.95 \u001b[1;31m0.87 \u001b[1;31m0.87 \u001b[1;31m0.88 \u001b[1;31m0.86 \u001b[1;31m0.86 \u001b[1;31m0.85 \n",
      "\n",
      "\u001b[1;31m0.93 \u001b[1;31m0.93 \u001b[1;31m0.93 \u001b[1;34m0.91 \u001b[1;34m0.95 \u001b[1;34m1.00 \u001b[1;31m0.86 \u001b[1;31m0.86 \u001b[1;31m0.87 \u001b[1;31m0.86 \u001b[1;31m0.85 \u001b[1;31m0.84 \n",
      "\n",
      "\u001b[1;31m0.86 \u001b[1;31m0.86 \u001b[1;31m0.86 \u001b[1;31m0.91 \u001b[1;31m0.87 \u001b[1;31m0.86 \u001b[1;36m1.00 \u001b[1;36m0.98 \u001b[1;36m0.89 \u001b[1;31m0.95 \u001b[1;31m0.95 \u001b[1;31m0.95 \n",
      "\n",
      "\u001b[1;31m0.86 \u001b[1;31m0.86 \u001b[1;31m0.86 \u001b[1;31m0.91 \u001b[1;31m0.87 \u001b[1;31m0.86 \u001b[1;36m0.98 \u001b[1;36m1.00 \u001b[1;36m0.89 \u001b[1;31m0.95 \u001b[1;31m0.96 \u001b[1;31m0.95 \n",
      "\n",
      "\u001b[1;31m0.88 \u001b[1;31m0.88 \u001b[1;31m0.88 \u001b[1;31m0.88 \u001b[1;31m0.88 \u001b[1;31m0.87 \u001b[1;36m0.89 \u001b[1;36m0.89 \u001b[1;36m1.00 \u001b[1;31m0.89 \u001b[1;31m0.88 \u001b[1;31m0.87 \n",
      "\n",
      "\u001b[1;31m0.86 \u001b[1;31m0.86 \u001b[1;31m0.86 \u001b[1;31m0.91 \u001b[1;31m0.86 \u001b[1;31m0.86 \u001b[1;31m0.95 \u001b[1;31m0.95 \u001b[1;31m0.89 \u001b[1;31m1.00 \u001b[1;31m0.96 \u001b[1;31m0.95 \n",
      "\n",
      "\u001b[1;31m0.85 \u001b[1;31m0.85 \u001b[1;31m0.85 \u001b[1;31m0.90 \u001b[1;31m0.86 \u001b[1;31m0.85 \u001b[1;31m0.95 \u001b[1;31m0.96 \u001b[1;31m0.88 \u001b[1;31m0.96 \u001b[1;31m1.00 \u001b[1;31m0.97 \n",
      "\n",
      "\u001b[1;31m0.85 \u001b[1;31m0.85 \u001b[1;31m0.84 \u001b[1;31m0.90 \u001b[1;31m0.85 \u001b[1;31m0.84 \u001b[1;31m0.95 \u001b[1;31m0.95 \u001b[1;31m0.87 \u001b[1;31m0.95 \u001b[1;31m0.97 \u001b[1;31m1.00 \n",
      "\n",
      "\u001b[0;0mSimilaridade Desejada Média = 0.96\n",
      "Similaridade Não Desejada Média = 0.89\n"
     ]
    }
   ],
   "source": [
    "gerarResultados(jellyfish.jaro_winkler, testes_1)"
   ]
  },
  {
   "cell_type": "markdown",
   "id": "4b26ed0f",
   "metadata": {},
   "source": [
    "## HTML similarity"
   ]
  },
  {
   "cell_type": "code",
   "execution_count": 91,
   "id": "8572b597",
   "metadata": {},
   "outputs": [
    {
     "name": "stdout",
     "output_type": "stream",
     "text": [
      "\u001b[0;32m1.00 \u001b[0;32m1.00 \u001b[0;32m0.99 \u001b[1;31m0.74 \u001b[1;31m0.69 \u001b[1;31m0.67 \u001b[1;31m0.66 \u001b[1;31m0.67 \u001b[1;31m0.61 \u001b[1;31m0.62 \u001b[1;31m0.66 \u001b[1;31m0.68 \n",
      "\n",
      "\u001b[0;32m1.00 \u001b[0;32m1.00 \u001b[0;32m0.99 \u001b[1;31m0.74 \u001b[1;31m0.69 \u001b[1;31m0.67 \u001b[1;31m0.66 \u001b[1;31m0.67 \u001b[1;31m0.61 \u001b[1;31m0.62 \u001b[1;31m0.66 \u001b[1;31m0.68 \n",
      "\n",
      "\u001b[0;32m0.99 \u001b[0;32m0.99 \u001b[0;32m1.00 \u001b[1;31m0.75 \u001b[1;31m0.69 \u001b[1;31m0.67 \u001b[1;31m0.66 \u001b[1;31m0.67 \u001b[1;31m0.61 \u001b[1;31m0.62 \u001b[1;31m0.66 \u001b[1;31m0.68 \n",
      "\n",
      "\u001b[1;31m0.74 \u001b[1;31m0.74 \u001b[1;31m0.75 \u001b[1;34m1.00 \u001b[1;34m0.76 \u001b[1;34m0.73 \u001b[1;31m0.81 \u001b[1;31m0.82 \u001b[1;31m0.73 \u001b[1;31m0.77 \u001b[1;31m0.85 \u001b[1;31m0.87 \n",
      "\n",
      "\u001b[1;31m0.69 \u001b[1;31m0.69 \u001b[1;31m0.69 \u001b[1;34m0.76 \u001b[1;34m1.00 \u001b[1;34m0.76 \u001b[1;31m0.65 \u001b[1;31m0.65 \u001b[1;31m0.60 \u001b[1;31m0.62 \u001b[1;31m0.67 \u001b[1;31m0.69 \n",
      "\n",
      "\u001b[1;31m0.67 \u001b[1;31m0.67 \u001b[1;31m0.67 \u001b[1;34m0.73 \u001b[1;34m0.76 \u001b[1;34m1.00 \u001b[1;31m0.62 \u001b[1;31m0.63 \u001b[1;31m0.57 \u001b[1;31m0.59 \u001b[1;31m0.64 \u001b[1;31m0.66 \n",
      "\n",
      "\u001b[1;31m0.67 \u001b[1;31m0.67 \u001b[1;31m0.67 \u001b[1;31m0.83 \u001b[1;31m0.67 \u001b[1;31m0.64 \u001b[1;36m1.00 \u001b[1;36m0.99 \u001b[1;36m0.90 \u001b[1;31m0.81 \u001b[1;31m0.88 \u001b[1;31m0.91 \n",
      "\n",
      "\u001b[1;31m0.68 \u001b[1;31m0.68 \u001b[1;31m0.68 \u001b[1;31m0.84 \u001b[1;31m0.67 \u001b[1;31m0.64 \u001b[1;36m0.99 \u001b[1;36m1.00 \u001b[1;36m0.89 \u001b[1;31m0.82 \u001b[1;31m0.89 \u001b[1;31m0.92 \n",
      "\n",
      "\u001b[1;31m0.62 \u001b[1;31m0.62 \u001b[1;31m0.62 \u001b[1;31m0.74 \u001b[1;31m0.61 \u001b[1;31m0.59 \u001b[1;36m0.90 \u001b[1;36m0.89 \u001b[1;36m1.00 \u001b[1;31m0.73 \u001b[1;31m0.79 \u001b[1;31m0.81 \n",
      "\n",
      "\u001b[1;31m0.62 \u001b[1;31m0.62 \u001b[1;31m0.62 \u001b[1;31m0.77 \u001b[1;31m0.62 \u001b[1;31m0.59 \u001b[1;31m0.81 \u001b[1;31m0.82 \u001b[1;31m0.73 \u001b[1;31m1.00 \u001b[1;31m0.84 \u001b[1;31m0.88 \n",
      "\n",
      "\u001b[1;31m0.66 \u001b[1;31m0.66 \u001b[1;31m0.66 \u001b[1;31m0.85 \u001b[1;31m0.67 \u001b[1;31m0.64 \u001b[1;31m0.88 \u001b[1;31m0.89 \u001b[1;31m0.79 \u001b[1;31m0.84 \u001b[1;31m1.00 \u001b[1;31m0.95 \n",
      "\n",
      "\u001b[1;31m0.68 \u001b[1;31m0.68 \u001b[1;31m0.68 \u001b[1;31m0.87 \u001b[1;31m0.69 \u001b[1;31m0.66 \u001b[1;31m0.91 \u001b[1;31m0.92 \u001b[1;31m0.81 \u001b[1;31m0.87 \u001b[1;31m0.95 \u001b[1;31m1.00 \n",
      "\n",
      "\u001b[0;0mSimilaridade Desejada Média = 0.93\n",
      "Similaridade Não Desejada Média = 0.72\n"
     ]
    }
   ],
   "source": [
    "gerarResultados(structural_similarity, testes_1)"
   ]
  },
  {
   "cell_type": "code",
   "execution_count": 64,
   "id": "baff6e47",
   "metadata": {},
   "outputs": [
    {
     "name": "stdout",
     "output_type": "stream",
     "text": [
      "\u001b[0;32m1.00 \u001b[0;32m1.00 \u001b[0;32m1.00 \u001b[1;31m0.87 \u001b[1;31m0.85 \u001b[1;31m0.83 \u001b[1;31m0.83 \u001b[1;31m0.83 \u001b[1;31m0.83 \u001b[1;31m0.81 \u001b[1;31m0.83 \u001b[1;31m0.84 \n",
      "\n",
      "\u001b[0;32m1.00 \u001b[0;32m1.00 \u001b[0;32m1.00 \u001b[1;31m0.87 \u001b[1;31m0.85 \u001b[1;31m0.83 \u001b[1;31m0.83 \u001b[1;31m0.83 \u001b[1;31m0.83 \u001b[1;31m0.81 \u001b[1;31m0.83 \u001b[1;31m0.84 \n",
      "\n",
      "\u001b[0;32m1.00 \u001b[0;32m1.00 \u001b[0;32m1.00 \u001b[1;31m0.87 \u001b[1;31m0.85 \u001b[1;31m0.83 \u001b[1;31m0.83 \u001b[1;31m0.83 \u001b[1;31m0.83 \u001b[1;31m0.81 \u001b[1;31m0.83 \u001b[1;31m0.84 \n",
      "\n",
      "\u001b[1;31m0.87 \u001b[1;31m0.87 \u001b[1;31m0.87 \u001b[1;34m1.00 \u001b[1;34m0.88 \u001b[1;34m0.86 \u001b[1;31m0.91 \u001b[1;31m0.91 \u001b[1;31m0.91 \u001b[1;31m0.89 \u001b[1;31m0.92 \u001b[1;31m0.93 \n",
      "\n",
      "\u001b[1;31m0.85 \u001b[1;31m0.85 \u001b[1;31m0.85 \u001b[1;34m0.88 \u001b[1;34m1.00 \u001b[1;34m0.88 \u001b[1;31m0.83 \u001b[1;31m0.83 \u001b[1;31m0.83 \u001b[1;31m0.81 \u001b[1;31m0.84 \u001b[1;31m0.84 \n",
      "\n",
      "\u001b[1;31m0.83 \u001b[1;31m0.83 \u001b[1;31m0.83 \u001b[1;34m0.86 \u001b[1;34m0.88 \u001b[1;34m1.00 \u001b[1;31m0.81 \u001b[1;31m0.81 \u001b[1;31m0.81 \u001b[1;31m0.80 \u001b[1;31m0.82 \u001b[1;31m0.83 \n",
      "\n",
      "\u001b[1;31m0.84 \u001b[1;31m0.84 \u001b[1;31m0.84 \u001b[1;31m0.91 \u001b[1;31m0.83 \u001b[1;31m0.82 \u001b[1;36m1.00 \u001b[1;36m1.00 \u001b[1;36m1.00 \u001b[1;31m0.91 \u001b[1;31m0.94 \u001b[1;31m0.96 \n",
      "\n",
      "\u001b[1;31m0.84 \u001b[1;31m0.84 \u001b[1;31m0.84 \u001b[1;31m0.92 \u001b[1;31m0.83 \u001b[1;31m0.82 \u001b[1;36m1.00 \u001b[1;36m1.00 \u001b[1;36m1.00 \u001b[1;31m0.91 \u001b[1;31m0.94 \u001b[1;31m0.96 \n",
      "\n",
      "\u001b[1;31m0.84 \u001b[1;31m0.84 \u001b[1;31m0.84 \u001b[1;31m0.91 \u001b[1;31m0.83 \u001b[1;31m0.82 \u001b[1;36m1.00 \u001b[1;36m1.00 \u001b[1;36m1.00 \u001b[1;31m0.91 \u001b[1;31m0.94 \u001b[1;31m0.96 \n",
      "\n",
      "\u001b[1;31m0.81 \u001b[1;31m0.81 \u001b[1;31m0.81 \u001b[1;31m0.89 \u001b[1;31m0.81 \u001b[1;31m0.80 \u001b[1;31m0.91 \u001b[1;31m0.91 \u001b[1;31m0.91 \u001b[1;31m1.00 \u001b[1;31m0.92 \u001b[1;31m0.94 \n",
      "\n",
      "\u001b[1;31m0.83 \u001b[1;31m0.83 \u001b[1;31m0.83 \u001b[1;31m0.92 \u001b[1;31m0.84 \u001b[1;31m0.82 \u001b[1;31m0.94 \u001b[1;31m0.94 \u001b[1;31m0.94 \u001b[1;31m0.92 \u001b[1;31m1.00 \u001b[1;31m0.97 \n",
      "\n",
      "\u001b[1;31m0.84 \u001b[1;31m0.84 \u001b[1;31m0.84 \u001b[1;31m0.93 \u001b[1;31m0.84 \u001b[1;31m0.83 \u001b[1;31m0.96 \u001b[1;31m0.96 \u001b[1;31m0.96 \u001b[1;31m0.94 \u001b[1;31m0.97 \u001b[1;31m1.00 \n",
      "\n"
     ]
    }
   ],
   "source": [
    "gerarResultados(similarity, testes_1)"
   ]
  },
  {
   "cell_type": "code",
   "execution_count": 92,
   "id": "ef4b94fd",
   "metadata": {},
   "outputs": [],
   "source": [
    "def extrairHtmlCompleto(url):\n",
    "\n",
    "    driver = webdriver.Chrome(options=options)\n",
    "    driver.get(url)\n",
    "    urllib3.disable_warnings(urllib3.exceptions.InsecureRequestWarning)\n",
    "    \n",
    "    try:\n",
    "        soup = BeautifulSoup(driver.page_source, \"lxml\")\n",
    "        driver.close()\n",
    "        \n",
    "        html = str(soup)\n",
    "            \n",
    "        return html\n",
    "    \n",
    "    except:\n",
    "        driver.close()\n",
    "        print(\"Erro ao tentar abrir a pagina: \" + url)"
   ]
  },
  {
   "cell_type": "code",
   "execution_count": 66,
   "id": "bdd1467f",
   "metadata": {},
   "outputs": [],
   "source": [
    "testes_2 = [extrairHtmlCompleto(teste) for teste in testes]"
   ]
  },
  {
   "cell_type": "code",
   "execution_count": 93,
   "id": "37258f80",
   "metadata": {},
   "outputs": [
    {
     "name": "stdout",
     "output_type": "stream",
     "text": [
      "\u001b[0;32m1.00 \u001b[0;32m1.00 \u001b[0;32m0.99 \u001b[1;31m0.74 \u001b[1;31m0.69 \u001b[1;31m0.67 \u001b[1;31m0.66 \u001b[1;31m0.67 \u001b[1;31m0.66 \u001b[1;31m0.62 \u001b[1;31m0.66 \u001b[1;31m0.68 \n",
      "\n",
      "\u001b[0;32m1.00 \u001b[0;32m1.00 \u001b[0;32m0.99 \u001b[1;31m0.74 \u001b[1;31m0.69 \u001b[1;31m0.67 \u001b[1;31m0.66 \u001b[1;31m0.67 \u001b[1;31m0.66 \u001b[1;31m0.62 \u001b[1;31m0.66 \u001b[1;31m0.68 \n",
      "\n",
      "\u001b[0;32m0.99 \u001b[0;32m0.99 \u001b[0;32m1.00 \u001b[1;31m0.75 \u001b[1;31m0.69 \u001b[1;31m0.67 \u001b[1;31m0.66 \u001b[1;31m0.67 \u001b[1;31m0.66 \u001b[1;31m0.62 \u001b[1;31m0.66 \u001b[1;31m0.68 \n",
      "\n",
      "\u001b[1;31m0.74 \u001b[1;31m0.74 \u001b[1;31m0.75 \u001b[1;34m1.00 \u001b[1;34m0.76 \u001b[1;34m0.73 \u001b[1;31m0.81 \u001b[1;31m0.82 \u001b[1;31m0.81 \u001b[1;31m0.77 \u001b[1;31m0.85 \u001b[1;31m0.87 \n",
      "\n",
      "\u001b[1;31m0.69 \u001b[1;31m0.69 \u001b[1;31m0.69 \u001b[1;34m0.76 \u001b[1;34m1.00 \u001b[1;34m0.76 \u001b[1;31m0.65 \u001b[1;31m0.65 \u001b[1;31m0.65 \u001b[1;31m0.62 \u001b[1;31m0.67 \u001b[1;31m0.69 \n",
      "\n",
      "\u001b[1;31m0.67 \u001b[1;31m0.67 \u001b[1;31m0.67 \u001b[1;34m0.73 \u001b[1;34m0.76 \u001b[1;34m1.00 \u001b[1;31m0.62 \u001b[1;31m0.63 \u001b[1;31m0.62 \u001b[1;31m0.59 \u001b[1;31m0.64 \u001b[1;31m0.66 \n",
      "\n",
      "\u001b[1;31m0.67 \u001b[1;31m0.67 \u001b[1;31m0.67 \u001b[1;31m0.83 \u001b[1;31m0.67 \u001b[1;31m0.64 \u001b[1;36m1.00 \u001b[1;36m0.99 \u001b[1;36m1.00 \u001b[1;31m0.81 \u001b[1;31m0.88 \u001b[1;31m0.91 \n",
      "\n",
      "\u001b[1;31m0.68 \u001b[1;31m0.68 \u001b[1;31m0.68 \u001b[1;31m0.84 \u001b[1;31m0.67 \u001b[1;31m0.64 \u001b[1;36m0.99 \u001b[1;36m1.00 \u001b[1;36m0.99 \u001b[1;31m0.82 \u001b[1;31m0.89 \u001b[1;31m0.92 \n",
      "\n",
      "\u001b[1;31m0.67 \u001b[1;31m0.67 \u001b[1;31m0.67 \u001b[1;31m0.83 \u001b[1;31m0.67 \u001b[1;31m0.64 \u001b[1;36m1.00 \u001b[1;36m0.99 \u001b[1;36m1.00 \u001b[1;31m0.81 \u001b[1;31m0.88 \u001b[1;31m0.91 \n",
      "\n",
      "\u001b[1;31m0.62 \u001b[1;31m0.62 \u001b[1;31m0.62 \u001b[1;31m0.77 \u001b[1;31m0.62 \u001b[1;31m0.59 \u001b[1;31m0.81 \u001b[1;31m0.82 \u001b[1;31m0.81 \u001b[1;31m1.00 \u001b[1;31m0.84 \u001b[1;31m0.88 \n",
      "\n",
      "\u001b[1;31m0.66 \u001b[1;31m0.66 \u001b[1;31m0.66 \u001b[1;31m0.85 \u001b[1;31m0.67 \u001b[1;31m0.64 \u001b[1;31m0.88 \u001b[1;31m0.89 \u001b[1;31m0.88 \u001b[1;31m0.84 \u001b[1;31m1.00 \u001b[1;31m0.95 \n",
      "\n",
      "\u001b[1;31m0.68 \u001b[1;31m0.68 \u001b[1;31m0.68 \u001b[1;31m0.87 \u001b[1;31m0.69 \u001b[1;31m0.66 \u001b[1;31m0.91 \u001b[1;31m0.92 \u001b[1;31m0.91 \u001b[1;31m0.87 \u001b[1;31m0.95 \u001b[1;31m1.00 \n",
      "\n",
      "\u001b[0;0mSimilaridade Desejada Média = 0.94\n",
      "Similaridade Não Desejada Média = 0.73\n"
     ]
    }
   ],
   "source": [
    "gerarResultados(structural_similarity, testes_2)"
   ]
  },
  {
   "cell_type": "code",
   "execution_count": 68,
   "id": "a1626d74",
   "metadata": {},
   "outputs": [
    {
     "name": "stdout",
     "output_type": "stream",
     "text": [
      "\u001b[0;32m1.00 \u001b[0;32m1.00 \u001b[0;32m0.99 \u001b[1;31m0.76 \u001b[1;31m0.88 \u001b[1;31m0.88 \u001b[1;31m0.53 \u001b[1;31m0.53 \u001b[1;31m0.53 \u001b[1;31m0.51 \u001b[1;31m0.54 \u001b[1;31m0.56 \n",
      "\n",
      "\u001b[0;32m1.00 \u001b[0;32m1.00 \u001b[0;32m0.99 \u001b[1;31m0.76 \u001b[1;31m0.88 \u001b[1;31m0.88 \u001b[1;31m0.53 \u001b[1;31m0.53 \u001b[1;31m0.53 \u001b[1;31m0.51 \u001b[1;31m0.54 \u001b[1;31m0.56 \n",
      "\n",
      "\u001b[0;32m0.99 \u001b[0;32m0.99 \u001b[0;32m1.00 \u001b[1;31m0.75 \u001b[1;31m0.87 \u001b[1;31m0.88 \u001b[1;31m0.52 \u001b[1;31m0.52 \u001b[1;31m0.52 \u001b[1;31m0.51 \u001b[1;31m0.54 \u001b[1;31m0.55 \n",
      "\n",
      "\u001b[1;31m0.76 \u001b[1;31m0.76 \u001b[1;31m0.75 \u001b[1;34m1.00 \u001b[1;34m0.85 \u001b[1;34m0.86 \u001b[1;31m0.65 \u001b[1;31m0.65 \u001b[1;31m0.65 \u001b[1;31m0.66 \u001b[1;31m0.70 \u001b[1;31m0.72 \n",
      "\n",
      "\u001b[1;31m0.88 \u001b[1;31m0.88 \u001b[1;31m0.87 \u001b[1;34m0.85 \u001b[1;34m1.00 \u001b[1;34m0.99 \u001b[1;31m0.57 \u001b[1;31m0.57 \u001b[1;31m0.57 \u001b[1;31m0.57 \u001b[1;31m0.61 \u001b[1;31m0.63 \n",
      "\n",
      "\u001b[1;31m0.88 \u001b[1;31m0.88 \u001b[1;31m0.88 \u001b[1;34m0.86 \u001b[1;34m0.99 \u001b[1;34m1.00 \u001b[1;31m0.58 \u001b[1;31m0.58 \u001b[1;31m0.58 \u001b[1;31m0.58 \u001b[1;31m0.61 \u001b[1;31m0.63 \n",
      "\n",
      "\u001b[1;31m0.53 \u001b[1;31m0.53 \u001b[1;31m0.52 \u001b[1;31m0.65 \u001b[1;31m0.57 \u001b[1;31m0.58 \u001b[1;36m1.00 \u001b[1;36m0.93 \u001b[1;36m1.00 \u001b[1;31m0.76 \u001b[1;31m0.81 \u001b[1;31m0.84 \n",
      "\n",
      "\u001b[1;31m0.53 \u001b[1;31m0.53 \u001b[1;31m0.52 \u001b[1;31m0.65 \u001b[1;31m0.57 \u001b[1;31m0.58 \u001b[1;36m0.93 \u001b[1;36m1.00 \u001b[1;36m0.93 \u001b[1;31m0.76 \u001b[1;31m0.81 \u001b[1;31m0.84 \n",
      "\n",
      "\u001b[1;31m0.53 \u001b[1;31m0.53 \u001b[1;31m0.52 \u001b[1;31m0.65 \u001b[1;31m0.57 \u001b[1;31m0.58 \u001b[1;36m1.00 \u001b[1;36m0.93 \u001b[1;36m1.00 \u001b[1;31m0.76 \u001b[1;31m0.81 \u001b[1;31m0.84 \n",
      "\n",
      "\u001b[1;31m0.51 \u001b[1;31m0.51 \u001b[1;31m0.51 \u001b[1;31m0.66 \u001b[1;31m0.57 \u001b[1;31m0.58 \u001b[1;31m0.76 \u001b[1;31m0.76 \u001b[1;31m0.76 \u001b[1;31m1.00 \u001b[1;31m0.94 \u001b[1;31m0.90 \n",
      "\n",
      "\u001b[1;31m0.54 \u001b[1;31m0.54 \u001b[1;31m0.54 \u001b[1;31m0.70 \u001b[1;31m0.61 \u001b[1;31m0.61 \u001b[1;31m0.81 \u001b[1;31m0.81 \u001b[1;31m0.81 \u001b[1;31m0.94 \u001b[1;31m1.00 \u001b[1;31m0.96 \n",
      "\n",
      "\u001b[1;31m0.56 \u001b[1;31m0.56 \u001b[1;31m0.55 \u001b[1;31m0.72 \u001b[1;31m0.63 \u001b[1;31m0.63 \u001b[1;31m0.84 \u001b[1;31m0.84 \u001b[1;31m0.84 \u001b[1;31m0.90 \u001b[1;31m0.96 \u001b[1;31m1.00 \n",
      "\n"
     ]
    }
   ],
   "source": [
    "gerarResultados(style_similarity, testes_2)"
   ]
  },
  {
   "cell_type": "code",
   "execution_count": 94,
   "id": "af09c1f8",
   "metadata": {},
   "outputs": [
    {
     "name": "stdout",
     "output_type": "stream",
     "text": [
      "\u001b[0;32m1.00 \u001b[0;32m1.00 \u001b[0;32m0.99 \u001b[1;31m0.75 \u001b[1;31m0.78 \u001b[1;31m0.78 \u001b[1;31m0.59 \u001b[1;31m0.60 \u001b[1;31m0.59 \u001b[1;31m0.57 \u001b[1;31m0.60 \u001b[1;31m0.62 \n",
      "\n",
      "\u001b[0;32m1.00 \u001b[0;32m1.00 \u001b[0;32m0.99 \u001b[1;31m0.75 \u001b[1;31m0.78 \u001b[1;31m0.78 \u001b[1;31m0.59 \u001b[1;31m0.60 \u001b[1;31m0.59 \u001b[1;31m0.57 \u001b[1;31m0.60 \u001b[1;31m0.62 \n",
      "\n",
      "\u001b[0;32m0.99 \u001b[0;32m0.99 \u001b[0;32m1.00 \u001b[1;31m0.75 \u001b[1;31m0.78 \u001b[1;31m0.77 \u001b[1;31m0.59 \u001b[1;31m0.60 \u001b[1;31m0.59 \u001b[1;31m0.56 \u001b[1;31m0.60 \u001b[1;31m0.62 \n",
      "\n",
      "\u001b[1;31m0.75 \u001b[1;31m0.75 \u001b[1;31m0.75 \u001b[1;34m1.00 \u001b[1;34m0.81 \u001b[1;34m0.79 \u001b[1;31m0.73 \u001b[1;31m0.73 \u001b[1;31m0.73 \u001b[1;31m0.71 \u001b[1;31m0.77 \u001b[1;31m0.79 \n",
      "\n",
      "\u001b[1;31m0.78 \u001b[1;31m0.78 \u001b[1;31m0.78 \u001b[1;34m0.81 \u001b[1;34m1.00 \u001b[1;34m0.88 \u001b[1;31m0.61 \u001b[1;31m0.61 \u001b[1;31m0.61 \u001b[1;31m0.60 \u001b[1;31m0.64 \u001b[1;31m0.66 \n",
      "\n",
      "\u001b[1;31m0.78 \u001b[1;31m0.78 \u001b[1;31m0.77 \u001b[1;34m0.79 \u001b[1;34m0.88 \u001b[1;34m1.00 \u001b[1;31m0.60 \u001b[1;31m0.60 \u001b[1;31m0.60 \u001b[1;31m0.59 \u001b[1;31m0.63 \u001b[1;31m0.64 \n",
      "\n",
      "\u001b[1;31m0.60 \u001b[1;31m0.60 \u001b[1;31m0.60 \u001b[1;31m0.74 \u001b[1;31m0.62 \u001b[1;31m0.61 \u001b[1;36m1.00 \u001b[1;36m0.96 \u001b[1;36m1.00 \u001b[1;31m0.79 \u001b[1;31m0.84 \u001b[1;31m0.88 \n",
      "\n",
      "\u001b[1;31m0.60 \u001b[1;31m0.60 \u001b[1;31m0.60 \u001b[1;31m0.74 \u001b[1;31m0.62 \u001b[1;31m0.61 \u001b[1;36m0.96 \u001b[1;36m1.00 \u001b[1;36m0.96 \u001b[1;31m0.79 \u001b[1;31m0.85 \u001b[1;31m0.88 \n",
      "\n",
      "\u001b[1;31m0.60 \u001b[1;31m0.60 \u001b[1;31m0.60 \u001b[1;31m0.74 \u001b[1;31m0.62 \u001b[1;31m0.61 \u001b[1;36m1.00 \u001b[1;36m0.96 \u001b[1;36m1.00 \u001b[1;31m0.79 \u001b[1;31m0.84 \u001b[1;31m0.88 \n",
      "\n",
      "\u001b[1;31m0.57 \u001b[1;31m0.57 \u001b[1;31m0.56 \u001b[1;31m0.71 \u001b[1;31m0.60 \u001b[1;31m0.59 \u001b[1;31m0.79 \u001b[1;31m0.79 \u001b[1;31m0.79 \u001b[1;31m1.00 \u001b[1;31m0.89 \u001b[1;31m0.89 \n",
      "\n",
      "\u001b[1;31m0.60 \u001b[1;31m0.60 \u001b[1;31m0.60 \u001b[1;31m0.77 \u001b[1;31m0.64 \u001b[1;31m0.63 \u001b[1;31m0.84 \u001b[1;31m0.85 \u001b[1;31m0.84 \u001b[1;31m0.89 \u001b[1;31m1.00 \u001b[1;31m0.95 \n",
      "\n",
      "\u001b[1;31m0.62 \u001b[1;31m0.62 \u001b[1;31m0.62 \u001b[1;31m0.79 \u001b[1;31m0.66 \u001b[1;31m0.64 \u001b[1;31m0.88 \u001b[1;31m0.88 \u001b[1;31m0.88 \u001b[1;31m0.89 \u001b[1;31m0.95 \u001b[1;31m1.00 \n",
      "\n",
      "\u001b[0;0mSimilaridade Desejada Média = 0.95\n",
      "Similaridade Não Desejada Média = 0.71\n"
     ]
    }
   ],
   "source": [
    "gerarResultados(similarity, testes_2)"
   ]
  },
  {
   "cell_type": "markdown",
   "id": "7b35631c",
   "metadata": {},
   "source": [
    "## Extração de botões??"
   ]
  },
  {
   "cell_type": "code",
   "execution_count": 70,
   "id": "1d2cca15",
   "metadata": {},
   "outputs": [],
   "source": [
    "def extrairBotoes(url):\n",
    "\n",
    "    resultados = \"\"\n",
    "    \n",
    "    page = requests.get(url)\n",
    "    data = page.text\n",
    "    soup = BeautifulSoup(data, 'html.parser')\n",
    "    \n",
    "    buttons = soup.find_all('button')\n",
    "    for button in buttons:\n",
    "        resultados+=str(button) + \"\\n\"\n",
    "        \n",
    "    return resultados"
   ]
  },
  {
   "cell_type": "code",
   "execution_count": 71,
   "id": "4c8a5f47",
   "metadata": {},
   "outputs": [],
   "source": [
    "testes_3 = [extrairBotoes(teste) for teste in testes]"
   ]
  },
  {
   "cell_type": "code",
   "execution_count": 95,
   "id": "208e40b9",
   "metadata": {},
   "outputs": [
    {
     "name": "stdout",
     "output_type": "stream",
     "text": [
      "\u001b[0;32m1.00 \u001b[0;32m1.00 \u001b[0;32m0.90 \u001b[1;31m0.61 \u001b[1;31m0.61 \u001b[1;31m0.61 \u001b[1;31m0.61 \u001b[1;31m0.61 \u001b[1;31m0.61 \u001b[1;31m0.61 \u001b[1;31m0.61 \u001b[1;31m0.61 \n",
      "\n",
      "\u001b[0;32m1.00 \u001b[0;32m1.00 \u001b[0;32m0.90 \u001b[1;31m0.61 \u001b[1;31m0.61 \u001b[1;31m0.61 \u001b[1;31m0.61 \u001b[1;31m0.61 \u001b[1;31m0.61 \u001b[1;31m0.61 \u001b[1;31m0.61 \u001b[1;31m0.61 \n",
      "\n",
      "\u001b[0;32m0.90 \u001b[0;32m0.90 \u001b[0;32m1.00 \u001b[1;31m0.55 \u001b[1;31m0.55 \u001b[1;31m0.55 \u001b[1;31m0.55 \u001b[1;31m0.55 \u001b[1;31m0.55 \u001b[1;31m0.55 \u001b[1;31m0.55 \u001b[1;31m0.55 \n",
      "\n",
      "\u001b[1;31m0.61 \u001b[1;31m0.61 \u001b[1;31m0.55 \u001b[1;34m1.00 \u001b[1;34m1.00 \u001b[1;34m1.00 \u001b[1;31m1.00 \u001b[1;31m1.00 \u001b[1;31m1.00 \u001b[1;31m1.00 \u001b[1;31m1.00 \u001b[1;31m1.00 \n",
      "\n",
      "\u001b[1;31m0.61 \u001b[1;31m0.61 \u001b[1;31m0.55 \u001b[1;34m1.00 \u001b[1;34m1.00 \u001b[1;34m1.00 \u001b[1;31m1.00 \u001b[1;31m1.00 \u001b[1;31m1.00 \u001b[1;31m1.00 \u001b[1;31m1.00 \u001b[1;31m1.00 \n",
      "\n",
      "\u001b[1;31m0.61 \u001b[1;31m0.61 \u001b[1;31m0.55 \u001b[1;34m1.00 \u001b[1;34m1.00 \u001b[1;34m1.00 \u001b[1;31m1.00 \u001b[1;31m1.00 \u001b[1;31m1.00 \u001b[1;31m1.00 \u001b[1;31m1.00 \u001b[1;31m1.00 \n",
      "\n",
      "\u001b[1;31m0.61 \u001b[1;31m0.61 \u001b[1;31m0.55 \u001b[1;31m1.00 \u001b[1;31m1.00 \u001b[1;31m1.00 \u001b[1;36m1.00 \u001b[1;36m1.00 \u001b[1;36m1.00 \u001b[1;31m1.00 \u001b[1;31m1.00 \u001b[1;31m1.00 \n",
      "\n",
      "\u001b[1;31m0.61 \u001b[1;31m0.61 \u001b[1;31m0.55 \u001b[1;31m1.00 \u001b[1;31m1.00 \u001b[1;31m1.00 \u001b[1;36m1.00 \u001b[1;36m1.00 \u001b[1;36m1.00 \u001b[1;31m1.00 \u001b[1;31m1.00 \u001b[1;31m1.00 \n",
      "\n",
      "\u001b[1;31m0.61 \u001b[1;31m0.61 \u001b[1;31m0.55 \u001b[1;31m1.00 \u001b[1;31m1.00 \u001b[1;31m1.00 \u001b[1;36m1.00 \u001b[1;36m1.00 \u001b[1;36m1.00 \u001b[1;31m1.00 \u001b[1;31m1.00 \u001b[1;31m1.00 \n",
      "\n",
      "\u001b[1;31m0.61 \u001b[1;31m0.61 \u001b[1;31m0.55 \u001b[1;31m1.00 \u001b[1;31m1.00 \u001b[1;31m1.00 \u001b[1;31m1.00 \u001b[1;31m1.00 \u001b[1;31m1.00 \u001b[1;31m1.00 \u001b[1;31m1.00 \u001b[1;31m1.00 \n",
      "\n",
      "\u001b[1;31m0.61 \u001b[1;31m0.61 \u001b[1;31m0.55 \u001b[1;31m1.00 \u001b[1;31m1.00 \u001b[1;31m1.00 \u001b[1;31m1.00 \u001b[1;31m1.00 \u001b[1;31m1.00 \u001b[1;31m1.00 \u001b[1;31m1.00 \u001b[1;31m1.00 \n",
      "\n",
      "\u001b[1;31m0.61 \u001b[1;31m0.61 \u001b[1;31m0.55 \u001b[1;31m1.00 \u001b[1;31m1.00 \u001b[1;31m1.00 \u001b[1;31m1.00 \u001b[1;31m1.00 \u001b[1;31m1.00 \u001b[1;31m1.00 \u001b[1;31m1.00 \u001b[1;31m1.00 \n",
      "\n",
      "\u001b[0;0mSimilaridade Desejada Média = 0.98\n",
      "Similaridade Não Desejada Média = 0.81\n"
     ]
    }
   ],
   "source": [
    "gerarResultados(similarity, testes_3)"
   ]
  },
  {
   "cell_type": "code",
   "execution_count": 74,
   "id": "bfb56089",
   "metadata": {},
   "outputs": [],
   "source": [
    "def extrairBotoesSelenium(url):\n",
    "\n",
    "    resultados = \"\"\n",
    "\n",
    "    driver = webdriver.Chrome(options=options)\n",
    "    driver.get(url)\n",
    "\n",
    "    html = driver.page_source\n",
    "    driver.quit()\n",
    "\n",
    "    soup = BeautifulSoup(html, 'html.parser')\n",
    "    buttons = soup.find_all('button')\n",
    "    for button in buttons:\n",
    "        resultados+=str(button)+\"\\n\"\n",
    "        \n",
    "    return resultados"
   ]
  },
  {
   "cell_type": "code",
   "execution_count": 75,
   "id": "07d74aa5",
   "metadata": {},
   "outputs": [],
   "source": [
    "testes_4 = [extrairBotoesSelenium(teste) for teste in testes]"
   ]
  },
  {
   "cell_type": "code",
   "execution_count": 96,
   "id": "af0324e2",
   "metadata": {},
   "outputs": [
    {
     "name": "stdout",
     "output_type": "stream",
     "text": [
      "\u001b[0;32m1.00 \u001b[0;32m1.00 \u001b[0;32m0.95 \u001b[1;31m0.72 \u001b[1;31m0.84 \u001b[1;31m0.84 \u001b[1;31m0.31 \u001b[1;31m0.31 \u001b[1;31m0.20 \u001b[1;31m0.31 \u001b[1;31m0.31 \u001b[1;31m0.31 \n",
      "\n",
      "\u001b[0;32m1.00 \u001b[0;32m1.00 \u001b[0;32m0.95 \u001b[1;31m0.72 \u001b[1;31m0.84 \u001b[1;31m0.84 \u001b[1;31m0.31 \u001b[1;31m0.31 \u001b[1;31m0.20 \u001b[1;31m0.31 \u001b[1;31m0.31 \u001b[1;31m0.31 \n",
      "\n",
      "\u001b[0;32m0.95 \u001b[0;32m0.95 \u001b[0;32m1.00 \u001b[1;31m0.69 \u001b[1;31m0.79 \u001b[1;31m0.79 \u001b[1;31m0.29 \u001b[1;31m0.29 \u001b[1;31m0.19 \u001b[1;31m0.29 \u001b[1;31m0.29 \u001b[1;31m0.29 \n",
      "\n",
      "\u001b[1;31m0.72 \u001b[1;31m0.72 \u001b[1;31m0.69 \u001b[1;34m1.00 \u001b[1;34m0.86 \u001b[1;34m0.86 \u001b[1;31m0.44 \u001b[1;31m0.44 \u001b[1;31m0.24 \u001b[1;31m0.44 \u001b[1;31m0.44 \u001b[1;31m0.44 \n",
      "\n",
      "\u001b[1;31m0.84 \u001b[1;31m0.84 \u001b[1;31m0.79 \u001b[1;34m0.86 \u001b[1;34m1.00 \u001b[1;34m1.00 \u001b[1;31m0.37 \u001b[1;31m0.37 \u001b[1;31m0.22 \u001b[1;31m0.37 \u001b[1;31m0.37 \u001b[1;31m0.37 \n",
      "\n",
      "\u001b[1;31m0.84 \u001b[1;31m0.84 \u001b[1;31m0.79 \u001b[1;34m0.86 \u001b[1;34m1.00 \u001b[1;34m1.00 \u001b[1;31m0.37 \u001b[1;31m0.37 \u001b[1;31m0.22 \u001b[1;31m0.37 \u001b[1;31m0.37 \u001b[1;31m0.37 \n",
      "\n",
      "\u001b[1;31m0.31 \u001b[1;31m0.31 \u001b[1;31m0.29 \u001b[1;31m0.44 \u001b[1;31m0.37 \u001b[1;31m0.37 \u001b[1;36m1.00 \u001b[1;36m1.00 \u001b[1;36m0.23 \u001b[1;31m1.00 \u001b[1;31m1.00 \u001b[1;31m1.00 \n",
      "\n",
      "\u001b[1;31m0.31 \u001b[1;31m0.31 \u001b[1;31m0.29 \u001b[1;31m0.44 \u001b[1;31m0.37 \u001b[1;31m0.37 \u001b[1;36m1.00 \u001b[1;36m1.00 \u001b[1;36m0.23 \u001b[1;31m1.00 \u001b[1;31m1.00 \u001b[1;31m1.00 \n",
      "\n",
      "\u001b[1;31m0.25 \u001b[1;31m0.25 \u001b[1;31m0.24 \u001b[1;31m0.25 \u001b[1;31m0.25 \u001b[1;31m0.25 \u001b[1;36m0.23 \u001b[1;36m0.23 \u001b[1;36m1.00 \u001b[1;31m0.23 \u001b[1;31m0.23 \u001b[1;31m0.23 \n",
      "\n",
      "\u001b[1;31m0.31 \u001b[1;31m0.31 \u001b[1;31m0.29 \u001b[1;31m0.44 \u001b[1;31m0.37 \u001b[1;31m0.37 \u001b[1;31m1.00 \u001b[1;31m1.00 \u001b[1;31m0.23 \u001b[1;31m1.00 \u001b[1;31m1.00 \u001b[1;31m1.00 \n",
      "\n",
      "\u001b[1;31m0.31 \u001b[1;31m0.31 \u001b[1;31m0.29 \u001b[1;31m0.44 \u001b[1;31m0.37 \u001b[1;31m0.37 \u001b[1;31m1.00 \u001b[1;31m1.00 \u001b[1;31m0.23 \u001b[1;31m1.00 \u001b[1;31m1.00 \u001b[1;31m1.00 \n",
      "\n",
      "\u001b[1;31m0.31 \u001b[1;31m0.31 \u001b[1;31m0.29 \u001b[1;31m0.44 \u001b[1;31m0.37 \u001b[1;31m0.37 \u001b[1;31m1.00 \u001b[1;31m1.00 \u001b[1;31m0.23 \u001b[1;31m1.00 \u001b[1;31m1.00 \u001b[1;31m1.00 \n",
      "\n",
      "\u001b[0;0mSimilaridade Desejada Média = 0.86\n",
      "Similaridade Não Desejada Média = 0.51\n"
     ]
    }
   ],
   "source": [
    "gerarResultados(similarity, testes_4)"
   ]
  },
  {
   "cell_type": "markdown",
   "id": "899c3522",
   "metadata": {},
   "source": [
    "## Essa métrica de considerar os botões geraram alto nivel de diferença entre páginas de grupos diferentes, mas a similaridade desejada foi bem baixa em alguns casos. E se misturarmos essa métrica com uma de similaridade desejada média alta?"
   ]
  },
  {
   "cell_type": "code",
   "execution_count": 104,
   "id": "1a64625a",
   "metadata": {},
   "outputs": [
    {
     "name": "stdout",
     "output_type": "stream",
     "text": [
      "\u001b[0;32m1.00 \u001b[0;32m1.00 \u001b[0;32m0.97 \u001b[1;31m0.74 \u001b[1;31m0.81 \u001b[1;31m0.81 \u001b[1;31m0.45 \u001b[1;31m0.45 \u001b[1;31m0.40 \u001b[1;31m0.44 \u001b[1;31m0.45 \u001b[1;31m0.46 \n",
      "\n",
      "\u001b[0;32m1.00 \u001b[0;32m1.00 \u001b[0;32m0.97 \u001b[1;31m0.74 \u001b[1;31m0.81 \u001b[1;31m0.81 \u001b[1;31m0.45 \u001b[1;31m0.45 \u001b[1;31m0.40 \u001b[1;31m0.44 \u001b[1;31m0.45 \u001b[1;31m0.46 \n",
      "\n",
      "\u001b[0;32m0.97 \u001b[0;32m0.97 \u001b[0;32m1.00 \u001b[1;31m0.72 \u001b[1;31m0.79 \u001b[1;31m0.78 \u001b[1;31m0.44 \u001b[1;31m0.44 \u001b[1;31m0.39 \u001b[1;31m0.43 \u001b[1;31m0.44 \u001b[1;31m0.45 \n",
      "\n",
      "\u001b[1;31m0.74 \u001b[1;31m0.74 \u001b[1;31m0.72 \u001b[1;34m1.00 \u001b[1;34m0.83 \u001b[1;34m0.83 \u001b[1;31m0.58 \u001b[1;31m0.58 \u001b[1;31m0.48 \u001b[1;31m0.58 \u001b[1;31m0.60 \u001b[1;31m0.62 \n",
      "\n",
      "\u001b[1;31m0.81 \u001b[1;31m0.81 \u001b[1;31m0.79 \u001b[1;34m0.83 \u001b[1;34m1.00 \u001b[1;34m0.94 \u001b[1;31m0.49 \u001b[1;31m0.49 \u001b[1;31m0.42 \u001b[1;31m0.48 \u001b[1;31m0.51 \u001b[1;31m0.51 \n",
      "\n",
      "\u001b[1;31m0.81 \u001b[1;31m0.81 \u001b[1;31m0.78 \u001b[1;34m0.83 \u001b[1;34m0.94 \u001b[1;34m1.00 \u001b[1;31m0.49 \u001b[1;31m0.49 \u001b[1;31m0.41 \u001b[1;31m0.48 \u001b[1;31m0.50 \u001b[1;31m0.51 \n",
      "\n",
      "\u001b[1;31m0.45 \u001b[1;31m0.45 \u001b[1;31m0.44 \u001b[1;31m0.59 \u001b[1;31m0.50 \u001b[1;31m0.49 \u001b[1;36m1.00 \u001b[1;36m0.98 \u001b[1;36m0.61 \u001b[1;31m0.89 \u001b[1;31m0.92 \u001b[1;31m0.94 \n",
      "\n",
      "\u001b[1;31m0.45 \u001b[1;31m0.45 \u001b[1;31m0.44 \u001b[1;31m0.59 \u001b[1;31m0.50 \u001b[1;31m0.49 \u001b[1;36m0.98 \u001b[1;36m1.00 \u001b[1;36m0.59 \u001b[1;31m0.89 \u001b[1;31m0.92 \u001b[1;31m0.94 \n",
      "\n",
      "\u001b[1;31m0.42 \u001b[1;31m0.42 \u001b[1;31m0.42 \u001b[1;31m0.50 \u001b[1;31m0.44 \u001b[1;31m0.43 \u001b[1;36m0.61 \u001b[1;36m0.59 \u001b[1;36m1.00 \u001b[1;31m0.51 \u001b[1;31m0.54 \u001b[1;31m0.55 \n",
      "\n",
      "\u001b[1;31m0.44 \u001b[1;31m0.44 \u001b[1;31m0.43 \u001b[1;31m0.58 \u001b[1;31m0.48 \u001b[1;31m0.48 \u001b[1;31m0.89 \u001b[1;31m0.89 \u001b[1;31m0.51 \u001b[1;31m1.00 \u001b[1;31m0.95 \u001b[1;31m0.95 \n",
      "\n",
      "\u001b[1;31m0.45 \u001b[1;31m0.45 \u001b[1;31m0.44 \u001b[1;31m0.60 \u001b[1;31m0.51 \u001b[1;31m0.50 \u001b[1;31m0.92 \u001b[1;31m0.92 \u001b[1;31m0.54 \u001b[1;31m0.95 \u001b[1;31m1.00 \u001b[1;31m0.98 \n",
      "\n",
      "\u001b[1;31m0.46 \u001b[1;31m0.46 \u001b[1;31m0.45 \u001b[1;31m0.62 \u001b[1;31m0.51 \u001b[1;31m0.51 \u001b[1;31m0.94 \u001b[1;31m0.94 \u001b[1;31m0.55 \u001b[1;31m0.94 \u001b[1;31m0.98 \u001b[1;31m1.00 \n",
      "\n",
      "\u001b[0;0mSimilaridade Desejada Média = 0.91\n",
      "Similaridade Não Desejada Média = 0.61\n"
     ]
    }
   ],
   "source": [
    "similares = 0\n",
    "nao_similares = 0\n",
    "\n",
    "for i in range(len(testes_4)):\n",
    "    for j in range(len(testes_4)):\n",
    "        resultado_1 = similarity(testes_4[i], testes_4[j])\n",
    "        resultado_2 =  similarity(testes_2[i], testes_2[j])\n",
    "        resultado = (resultado_1+resultado_2)/2\n",
    "        string = f\"{resultado:.2f}\"\n",
    "        if i<3 and j< 3:\n",
    "            print(GREEN + string, end = \" \")\n",
    "            similares += resultado\n",
    "        elif i<6 and i>2 and j<6 and j>2:\n",
    "            print(BLUE + string, end = \" \")\n",
    "            similares += resultado\n",
    "        elif i<9 and i>5 and j<9 and j>5:\n",
    "            print(CYAN + string, end = \" \")\n",
    "            similares += resultado\n",
    "        else:\n",
    "            print(RED + string, end = \" \")\n",
    "            nao_similares += resultado\n",
    "    print(\"\\n\")\n",
    "\n",
    "print(RESET + \"Similaridade Desejada Média = \" + f\"{(similares/27):.2f}\")\n",
    "print(\"Similaridade Não Desejada Média = \" + f\"{(nao_similares/117):.2f}\")"
   ]
  },
  {
   "cell_type": "code",
   "execution_count": null,
   "id": "632e787a",
   "metadata": {},
   "outputs": [],
   "source": []
  }
 ],
 "metadata": {
  "kernelspec": {
   "display_name": "Python 3 (ipykernel)",
   "language": "python",
   "name": "python3"
  },
  "language_info": {
   "codemirror_mode": {
    "name": "ipython",
    "version": 3
   },
   "file_extension": ".py",
   "mimetype": "text/x-python",
   "name": "python",
   "nbconvert_exporter": "python",
   "pygments_lexer": "ipython3",
   "version": "3.8.10"
  }
 },
 "nbformat": 4,
 "nbformat_minor": 5
}
