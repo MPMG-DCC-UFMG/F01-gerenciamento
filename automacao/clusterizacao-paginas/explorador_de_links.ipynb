{
 "cells": [
  {
   "cell_type": "markdown",
   "id": "4c8c3c8c",
   "metadata": {},
   "source": [
    "# Explorando urls"
   ]
  },
  {
   "cell_type": "code",
   "execution_count": 1,
   "id": "4a804bee",
   "metadata": {},
   "outputs": [],
   "source": [
    "import urllib3\n",
    "import asyncio\n",
    "import re\n",
    "import time\n",
    "import urllib3\n",
    "\n",
    "from urllib.parse import urljoin\n",
    "from bs4 import BeautifulSoup\n",
    "from playwright.async_api import async_playwright"
   ]
  },
  {
   "cell_type": "markdown",
   "id": "71db3676",
   "metadata": {},
   "source": [
    "## Usando urllib para gerar links"
   ]
  },
  {
   "cell_type": "code",
   "execution_count": 2,
   "id": "dca96fea",
   "metadata": {},
   "outputs": [],
   "source": [
    "def gerar_links_urllib(url_page):\n",
    "    \n",
    "    urllib3.disable_warnings(urllib3.exceptions.InsecureRequestWarning)\n",
    "    http = urllib3.PoolManager()\n",
    "    resultados = []\n",
    "    \n",
    "    try:\n",
    "        page_data = http.request('GET', url_page)\n",
    "    except:\n",
    "        print(\"Error: \" + url_page)\n",
    "\n",
    "\n",
    "    soup = BeautifulSoup(page_data.data, \"xml\")\n",
    "\n",
    "    links = soup.find_all('a')\n",
    "    counter = 0\n",
    "\n",
    "    for link in links:\n",
    "\n",
    "        if(\"href\" in link.attrs):\n",
    "            url = urljoin(url_page, str(link.get('href')))\n",
    "\n",
    "            if url.find(\"'\") != -1:\n",
    "                continue\n",
    "\n",
    "            url = url.split(\"#\")[0]\n",
    "            resultados.append(url)\n",
    "            counter += 1\n",
    "        \n",
    "    print(\"Number of links: \" +  str(counter))\n",
    "    \n",
    "    return resultados"
   ]
  },
  {
   "cell_type": "markdown",
   "id": "04f79403",
   "metadata": {},
   "source": [
    "## Usando Playwright para gerar links"
   ]
  },
  {
   "cell_type": "code",
   "execution_count": 1,
   "id": "3fb21171",
   "metadata": {},
   "outputs": [],
   "source": [
    "async def gerar_links(url_page, nao_exibir):\n",
    "    \n",
    "    playwright = await async_playwright().start()\n",
    "    browser = await playwright.chromium.launch(headless = nao_exibir)\n",
    "    page = await browser.new_page()\n",
    "    await page.goto(url_page)\n",
    "    resultados = []\n",
    "    \n",
    "    try:\n",
    "        page_data = await page.content()\n",
    "        \n",
    "    except:\n",
    "        await page.close()\n",
    "        await browser.close()\n",
    "        \n",
    "        return \"Error: \" + url_page\n",
    "\n",
    "    soup = BeautifulSoup(page_data, \"xml\")\n",
    "    links = soup.find_all('a')\n",
    "    counter = 0\n",
    "\n",
    "    for link in links:\n",
    "\n",
    "        if(\"href\" in link.attrs):\n",
    "            url = urljoin(url_page, str(link.get('href')))\n",
    "\n",
    "            if url.find(\"'\") != -1:\n",
    "                continue\n",
    "\n",
    "            url = url.split(\"#\")[0]\n",
    "            resultados.append(url)\n",
    "            counter += 1\n",
    "        \n",
    "    print(\"Number of links: \" +  str(counter))\n",
    "    \n",
    "    await page.close()\n",
    "    await browser.close()\n",
    "    \n",
    "    return resultados"
   ]
  },
  {
   "cell_type": "markdown",
   "id": "11ed0877",
   "metadata": {},
   "source": [
    "## Filtrando os links gerados"
   ]
  },
  {
   "cell_type": "markdown",
   "id": "76d4a952",
   "metadata": {},
   "source": [
    "Filtrar os links possibilitará navegação apenas nas páginas desejadas e eliminação de links redundantes"
   ]
  },
  {
   "cell_type": "code",
   "execution_count": 7,
   "id": "3f043207",
   "metadata": {},
   "outputs": [],
   "source": [
    "def filtrar_links_tags(links):\n",
    "    \n",
    "    tags = [\"licitac\", \"contrat\", \"empenh\", \"receit\", \"folha\", \"pagamentos\", \"documento\", \"compr\" \n",
    "        \"liquidac\",\"diaria\", \"obra\", \"relatorio\", \"dispensa\", \"despesa\", \"edita\", \"pessoa\", \"orcament\"]\n",
    "    \n",
    "    links_relevantes = []\n",
    "    \n",
    "    for link in links:\n",
    "        \n",
    "        link_lower = link.lower()\n",
    "        \n",
    "        for tag in tags:\n",
    "            \n",
    "            if tag in link_lower:\n",
    "                links_relevantes.append(link)\n",
    "                break\n",
    "        \n",
    "    return links_relevantes\n",
    "    "
   ]
  },
  {
   "cell_type": "code",
   "execution_count": 8,
   "id": "d03f6224",
   "metadata": {},
   "outputs": [],
   "source": [
    "#links = [\"www.bh.ReCeitas\", \"www.bh.br/noticias\", \"www.bh.despesascompessoal\"]\n",
    "#filtrar_links_tags(links)"
   ]
  },
  {
   "cell_type": "code",
   "execution_count": 9,
   "id": "db78723b",
   "metadata": {},
   "outputs": [],
   "source": [
    "def filtrar_links_redundantes(links):\n",
    "    \n",
    "    dic_links = {}\n",
    "    links_filtrados = []\n",
    "    \n",
    "    for link in links:\n",
    "        \n",
    "        link_sem_numeros = re.sub(r'[0-9]+', '', link)\n",
    "        \n",
    "        if link_sem_numeros not in dic_links:\n",
    "            \n",
    "            links_filtrados.append(link)\n",
    "            dic_links[link_sem_numeros] = 1\n",
    "            \n",
    "        else:\n",
    "            \n",
    "            if dic_links[link_sem_numeros] <= 12:\n",
    "\n",
    "                dic_links[link_sem_numeros] += 1\n",
    "                links_filtrados.append(link)\n",
    "            \n",
    "    \n",
    "    return links_filtrados\n",
    "    "
   ]
  },
  {
   "cell_type": "code",
   "execution_count": 11,
   "id": "0af00210",
   "metadata": {},
   "outputs": [],
   "source": [
    "#todos_links = ['https://fronteiradosvales.mg.gov.br/transparencia/diarias/detalhes/2017/7/61', 'https://fronteiradosvales.mg.gov.br/transparencia/receitas/detalhes/2019/01/97', 'https://fronteiradosvales.mg.gov.br/transparencia/receitas/detalhes/2017/09/63', 'https://fronteiradosvales.mg.gov.br/transparencia/pagamentos/detalhes/2015/04/34', 'https://fronteiradosvales.mg.gov.br/transparencia/contratos/detalhes/2020/05/113', 'https://fronteiradosvales.mg.gov.br/transparencia/dispensas/detalhes/2017/08/62', 'https://fronteiradosvales.mg.gov.br/transparencia/diarias/detalhes/2022/6/138', 'https://fronteiradosvales.mg.gov.br/transparencia/empenhos/detalhes/2020/04/112', 'https://fronteiradosvales.mg.gov.br/transparencia/licitacoes/detalhes/2019/10/107', 'https://fronteiradosvales.mg.gov.br/transparencia/pagamentos/detalhes/2016/06/48', 'https://fronteiradosvales.mg.gov.br/transparencia/pagamentos/detalhes/2017/07/61', 'https://fronteiradosvales.mg.gov.br/transparencia/licitacoes/detalhes/2014/07/25', 'https://fronteiradosvales.mg.gov.br/transparencia/contratos/detalhes/2020/08/116', 'https://fronteiradosvales.mg.gov.br/transparencia/liquidacoes/detalhes/2021/10/130', 'https://fronteiradosvales.mg.gov.br/transparencia/licitacoes/detalhes/2017/03/57', 'https://fronteiradosvales.mg.gov.br/transparencia/contratos/detalhes/2013/02/86', 'https://fronteiradosvales.mg.gov.br/transparencia/liquidacoes/detalhes/2021/08/128', 'https://fronteiradosvales.mg.gov.br/transparencia/relatorios/detalhes/6', 'https://fronteiradosvales.mg.gov.br/transparencia/licitacoes/detalhes/2013/10/94', 'https://fronteiradosvales.mg.gov.br/transparencia/receitas/detalhes/2014/03/21', 'https://fronteiradosvales.mg.gov.br/transparencia/dispensas/detalhes/2019/08/104', 'https://fronteiradosvales.mg.gov.br/transparencia/empenhos/detalhes/2015/09/39', 'https://fronteiradosvales.mg.gov.br/transparencia/receitas/detalhes/2014/11/29', 'https://fronteiradosvales.mg.gov.br/transparencia/licitacoes/detalhes/2014/09/27', 'https://fronteiradosvales.mg.gov.br/transparencia/receitas/detalhes/2019/12/105', 'https://fronteiradosvales.mg.gov.br/transparencia/licitacoes/detalhes/2021/12/131', 'https://fronteiradosvales.mg.gov.br/transparencia/liquidacoes/detalhes/2021/07/127', 'https://fronteiradosvales.mg.gov.br/transparencia/pagamentos/detalhes/2018/04/76', 'https://fronteiradosvales.mg.gov.br/transparencia/receitas/detalhes/2015/07/37', 'https://fronteiradosvales.mg.gov.br/transparencia/receitas/detalhes/2017/02/56', 'https://fronteiradosvales.mg.gov.br/transparencia/liquidacoes/detalhes/2018/03/75', 'https://fronteiradosvales.mg.gov.br/transparencia/liquidacoes/detalhes/2019/06/102', 'https://fronteiradosvales.mg.gov.br/transparencia/contratos/detalhes/2021/06/126', 'https://fronteiradosvales.mg.gov.br/transparencia/diarias/detalhes/2016/12/54', 'https://fronteiradosvales.mg.gov.br/transparencia/liquidacoes/detalhes/2013/01/85', 'https://fronteiradosvales.mg.gov.br/transparencia/pagamentos/detalhes/2022/06/138', 'https://fronteiradosvales.mg.gov.br/transparencia/receitas/detalhes/2018/08/80', 'https://fronteiradosvales.mg.gov.br/transparencia/receitas/detalhes/2015/01/31', 'https://fronteiradosvales.mg.gov.br/transparencia/pagamentos/detalhes/2021/03/123', 'https://fronteiradosvales.mg.gov.br/transparencia/empenhos/detalhes/2016/10/52', 'https://fronteiradosvales.mg.gov.br/transparencia/liquidacoes/detalhes/2020/03/111', 'https://fronteiradosvales.mg.gov.br/transparencia/licitacoes/detalhes/2019/12/105', 'https://fronteiradosvales.mg.gov.br/transparencia/folhas-de-pagamento/vinculo', 'https://fronteiradosvales.mg.gov.br/transparencia/pagamentos/detalhes/2016/09/51', 'https://fronteiradosvales.mg.gov.br/transparencia/contratos/detalhes/2021/04/125', 'https://fronteiradosvales.mg.gov.br/transparencia/pagamentos/detalhes/2017/04/58', 'https://fronteiradosvales.mg.gov.br/transparencia/diarias/detalhes/2019/12/105', 'https://fronteiradosvales.mg.gov.br/transparencia/licitacoes/detalhes/2022/05/137', 'https://fronteiradosvales.mg.gov.br/transparencia/dispensas/detalhes/2020/02/110', 'https://fronteiradosvales.mg.gov.br/transparencia/liquidacoes/detalhes/2021/05/124', 'https://fronteiradosvales.mg.gov.br/transparencia/contratos/detalhes/2021/08/128', 'https://fronteiradosvales.mg.gov.br/transparencia/diarias/detalhes/2019/4/100', 'https://fronteiradosvales.mg.gov.br/transparencia/pagamentos/detalhes/2019/05/101', 'https://fronteiradosvales.mg.gov.br/transparencia/dispensas/detalhes/2022/06/138', 'https://fronteiradosvales.mg.gov.br/transparencia/dispensas/detalhes/2021/05/124', 'https://fronteiradosvales.mg.gov.br/transparencia/liquidacoes/detalhes/2013/09/93', 'https://fronteiradosvales.mg.gov.br/transparencia/licitacoes/detalhes/2015/07/37', 'https://fronteiradosvales.mg.gov.br/transparencia/pagamentos/detalhes/2014/08/26', 'https://fronteiradosvales.mg.gov.br/transparencia/receitas/detalhes/2016/11/53', 'https://fronteiradosvales.mg.gov.br/transparencia/dispensas/detalhes/2014/06/24', 'https://fronteiradosvales.mg.gov.br/transparencia/contratos/detalhes/2022/06/138', 'https://fronteiradosvales.mg.gov.br/transparencia/diarias/detalhes/2015/7/37', 'https://fronteiradosvales.mg.gov.br/transparencia/empenhos/detalhes/2014/04/22', 'https://fronteiradosvales.mg.gov.br/transparencia/empenhos/detalhes/2017/09/63', 'https://fronteiradosvales.mg.gov.br/transparencia/empenhos/detalhes/2014/08/26', 'https://fronteiradosvales.mg.gov.br/transparencia/liquidacoes/detalhes/2015/06/36', 'https://fronteiradosvales.mg.gov.br/transparencia/liquidacoes/detalhes/2020/08/116', 'https://fronteiradosvales.mg.gov.br/transparencia/liquidacoes/detalhes/2016/12/54', 'https://fronteiradosvales.mg.gov.br/transparencia/receitas/detalhes/2022/05/137', 'https://fronteiradosvales.mg.gov.br/transparencia/dispensas/detalhes/2017/06/60', 'https://fronteiradosvales.mg.gov.br/transparencia/pagamentos/detalhes/2018/02/74', 'https://fronteiradosvales.mg.gov.br/transparencia/pagamentos/detalhes/2014/05/23', 'https://fronteiradosvales.mg.gov.br/transparencia/relatorios/detalhes/7', 'https://fronteiradosvales.mg.gov.br/transparencia/liquidacoes/detalhes/2016/09/51', 'https://fronteiradosvales.mg.gov.br/transparencia/pagamentos/detalhes/2021/06/126', 'https://fronteiradosvales.mg.gov.br/transparencia/contratos/detalhes/2018/05/77', 'https://fronteiradosvales.mg.gov.br/transparencia/receitas/detalhes/2017/04/58', 'https://fronteiradosvales.mg.gov.br/transparencia/liquidacoes/detalhes/2020/12/120', 'https://fronteiradosvales.mg.gov.br/transparencia/diarias/detalhes/2017/6/60', 'https://fronteiradosvales.mg.gov.br/transparencia/pagamentos/detalhes/2018/06/78', 'https://fronteiradosvales.mg.gov.br/transparencia/empenhos/detalhes/2019/10/107', 'https://fronteiradosvales.mg.gov.br/transparencia/diarias/detalhes/2016/1/43', 'https://fronteiradosvales.mg.gov.br/transparencia/receitas/detalhes/2014/02/20', 'https://fronteiradosvales.mg.gov.br/transparencia/licitacoes/detalhes/2020/04/112', 'https://fronteiradosvales.mg.gov.br/transparencia/empenhos/detalhes/2015/06/36', 'https://fronteiradosvales.mg.gov.br/transparencia/pagamentos/detalhes/2015/12/42', 'https://fronteiradosvales.mg.gov.br/transparencia/empenhos/detalhes/2017/05/59', 'https://fronteiradosvales.mg.gov.br/transparencia/pagamentos/detalhes/2014/02/20', 'https://fronteiradosvales.mg.gov.br/transparencia/diarias/detalhes/2020/6/114', 'https://fronteiradosvales.mg.gov.br/transparencia/pagamentos/detalhes/2021/05/124', 'https://fronteiradosvales.mg.gov.br/transparencia/diarias/detalhes/2017/12/66', 'https://fronteiradosvales.mg.gov.br/transparencia/dispensas/detalhes/2018/06/78', 'https://fronteiradosvales.mg.gov.br/transparencia/liquidacoes/detalhes/2014/10/28', 'https://fronteiradosvales.mg.gov.br/transparencia/pagamentos/detalhes/2018/05/77', 'https://fronteiradosvales.mg.gov.br/transparencia/dispensas/detalhes/2021/10/130', 'https://fronteiradosvales.mg.gov.br/transparencia/empenhos/detalhes/2021/06/126', 'https://fronteiradosvales.mg.gov.br/transparencia/diarias/detalhes/2014/4/22', 'https://fronteiradosvales.mg.gov.br/transparencia/contratos/detalhes/2014/02/20', 'https://fronteiradosvales.mg.gov.br/transparencia/diarias/detalhes/2014/8/26', 'https://fronteiradosvales.mg.gov.br/transparencia/receitas/detalhes/2019/03/99', 'https://fronteiradosvales.mg.gov.br/transparencia/diarias/detalhes/2020/5/113', 'https://fronteiradosvales.mg.gov.br/transparencia/diarias/detalhes/2016/2/44', 'https://fronteiradosvales.mg.gov.br/transparencia/liquidacoes/detalhes/2022/06/138', 'https://fronteiradosvales.mg.gov.br/transparencia/licitacoes/detalhes/2017/08/62', 'https://fronteiradosvales.mg.gov.br/transparencia/empenhos/detalhes/2016/04/46', 'https://fronteiradosvales.mg.gov.br/transparencia/pagamentos/detalhes/2018/11/83', 'https://fronteiradosvales.mg.gov.br/transparencia/liquidacoes/detalhes/2015/04/34', 'https://fronteiradosvales.mg.gov.br/transparencia/empenhos/detalhes/2020/12/120', 'https://fronteiradosvales.mg.gov.br/transparencia/contratos/detalhes/2021/03/123', 'https://fronteiradosvales.mg.gov.br/transparencia/pagamentos/detalhes/2020/08/116', 'https://fronteiradosvales.mg.gov.br/transparencia/empenhos/detalhes/2014/12/30', 'https://fronteiradosvales.mg.gov.br/transparencia/receitas/detalhes/2019/09/108', 'https://fronteiradosvales.mg.gov.br/transparencia/receitas/detalhes/2015/12/42', 'https://fronteiradosvales.mg.gov.br/transparencia/receitas/detalhes/2015/03/33', 'https://fronteiradosvales.mg.gov.br/transparencia/liquidacoes/detalhes/2014/08/26', 'https://fronteiradosvales.mg.gov.br/transparencia/contratos/detalhes/2015/03/33', 'https://fronteiradosvales.mg.gov.br/transparencia/licitacoes/detalhes/2014/05/23', 'https://fronteiradosvales.mg.gov.br/transparencia/pagamentos/detalhes/2021/04/125', 'https://fronteiradosvales.mg.gov.br/transparencia/contratos/detalhes/2014/07/25', 'https://fronteiradosvales.mg.gov.br/transparencia/pagamentos/detalhes/2013/11/95', 'https://fronteiradosvales.mg.gov.br/transparencia/liquidacoes/detalhes/2017/11/65', 'https://fronteiradosvales.mg.gov.br/transparencia/pagamentos/detalhes/2020/02/110', 'https://fronteiradosvales.mg.gov.br/transparencia/licitacoes/detalhes/2019/09/108', 'https://fronteiradosvales.mg.gov.br/transparencia/dispensas/detalhes/2014/11/29', 'https://fronteiradosvales.mg.gov.br/transparencia/folhas-de-pagamento/filtradas', 'https://fronteiradosvales.mg.gov.br/transparencia/liquidacoes/detalhes/2020/09/117', 'https://fronteiradosvales.mg.gov.br/transparencia/diarias/detalhes/2018/4/76', 'https://fronteiradosvales.mg.gov.br/transparencia/liquidacoes/detalhes/2020/07/115', 'https://fronteiradosvales.mg.gov.br/transparencia/licitacoes/detalhes/2015/03/33', 'https://fronteiradosvales.mg.gov.br/transparencia/dispensas/detalhes/2020/03/111', 'https://fronteiradosvales.mg.gov.br/transparencia/diarias/detalhes/2020/10/118', 'https://fronteiradosvales.mg.gov.br/transparencia/liquidacoes/detalhes/2018/01/73', 'https://fronteiradosvales.mg.gov.br/transparencia/empenhos/detalhes/2014/06/24', 'https://fronteiradosvales.mg.gov.br/transparencia/pagamentos/detalhes/2013/10/94', 'https://fronteiradosvales.mg.gov.br/transparencia/liquidacoes/detalhes/2014/03/21', 'https://fronteiradosvales.mg.gov.br/transparencia/licitacoes/detalhes/2020/10/118', 'https://fronteiradosvales.mg.gov.br/transparencia/relatorios/detalhes/1', 'https://fronteiradosvales.mg.gov.br/transparencia/diarias/detalhes/2021/12/131', 'https://fronteiradosvales.mg.gov.br/transparencia/receitas/detalhes/2020/03/111', 'https://fronteiradosvales.mg.gov.br/transparencia/empenhos/detalhes/2017/06/60', 'https://fronteiradosvales.mg.gov.br/transparencia/empenhos/detalhes/2020/02/110', 'https://fronteiradosvales.mg.gov.br/transparencia/pagamentos/detalhes/2017/03/57', 'https://fronteiradosvales.mg.gov.br/transparencia/receitas/detalhes/2018/02/74', 'https://fronteiradosvales.mg.gov.br/transparencia/pagamentos/detalhes/2022/01/133', 'https://fronteiradosvales.mg.gov.br/transparencia/liquidacoes/detalhes/2022/05/137', 'https://fronteiradosvales.mg.gov.br/transparencia/diarias/detalhes/2018/8/80', 'https://fronteiradosvales.mg.gov.br/transparencia/empenhos/detalhes/2018/01/73', 'https://fronteiradosvales.mg.gov.br/transparencia/pagamentos/detalhes/2017/09/63', 'https://fronteiradosvales.mg.gov.br/transparencia/diarias/detalhes/2014/6/24', 'https://fronteiradosvales.mg.gov.br/transparencia/receitas/detalhes/2022/04/136', 'https://fronteiradosvales.mg.gov.br/transparencia/receitas/detalhes/2022/03/135', 'https://fronteiradosvales.mg.gov.br/transparencia/licitacoes/detalhes/2021/07/127', 'https://fronteiradosvales.mg.gov.br/transparencia/empenhos/detalhes/2014/02/20', 'https://fronteiradosvales.mg.gov.br/transparencia/pagamentos/detalhes/2022/02/134', 'https://fronteiradosvales.mg.gov.br/transparencia/licitacoes/detalhes/2018/06/78', 'https://fronteiradosvales.mg.gov.br/transparencia/empenhos/detalhes/2016/05/47', 'https://fronteiradosvales.mg.gov.br/transparencia/contratos/detalhes/2015/09/39', 'https://fronteiradosvales.mg.gov.br/transparencia/diarias/detalhes/2015/4/34', 'https://fronteiradosvales.mg.gov.br/transparencia/empenhos/detalhes/2020/03/111', 'https://fronteiradosvales.mg.gov.br/transparencia/pagamentos/detalhes/2013/01/85', 'https://fronteiradosvales.mg.gov.br/transparencia/receitas/detalhes/2017/12/66', 'https://fronteiradosvales.mg.gov.br/transparencia/dispensas/detalhes/2022/03/135', 'https://fronteiradosvales.mg.gov.br/transparencia/licitacoes/detalhes/2013/02/86', 'https://fronteiradosvales.mg.gov.br/transparencia/diarias/detalhes/2019/6/102', 'https://fronteiradosvales.mg.gov.br/transparencia/empenhos/detalhes/2020/06/114', 'https://fronteiradosvales.mg.gov.br/transparencia/licitacoes/detalhes/2021/10/130', 'https://fronteiradosvales.mg.gov.br/transparencia/contratos/detalhes/2014/05/23', 'https://fronteiradosvales.mg.gov.br/transparencia/pagamentos/detalhes/2016/03/45', 'https://fronteiradosvales.mg.gov.br/transparencia/dispensas/detalhes/2017/02/56', 'https://fronteiradosvales.mg.gov.br/transparencia/liquidacoes/detalhes/2018/04/76', 'https://fronteiradosvales.mg.gov.br/transparencia/diarias/detalhes/2014/2/20', 'https://fronteiradosvales.mg.gov.br/transparencia/empenhos/detalhes/2018/07/79', 'https://fronteiradosvales.mg.gov.br/transparencia/pagamentos/detalhes/2020/10/118', 'https://fronteiradosvales.mg.gov.br/transparencia/dispensas/detalhes/2014/07/25', 'https://fronteiradosvales.mg.gov.br/transparencia/contratos/detalhes/2015/04/34', 'https://fronteiradosvales.mg.gov.br/transparencia/contratos/detalhes/2015/11/41', 'https://fronteiradosvales.mg.gov.br/transparencia/empenhos/detalhes/2015/11/41', 'https://fronteiradosvales.mg.gov.br/transparencia/receitas/detalhes/2019/10/107', 'https://fronteiradosvales.mg.gov.br/transparencia/receitas/detalhes/2018/12/84', 'https://fronteiradosvales.mg.gov.br/transparencia/dispensas/detalhes/2016/07/49', 'https://fronteiradosvales.mg.gov.br/transparencia/receitas/detalhes/2020/05/113', 'https://fronteiradosvales.mg.gov.br/transparencia/dispensas/detalhes/2020/08/116', 'https://fronteiradosvales.mg.gov.br/transparencia/empenhos/detalhes/2018/09/81', 'https://fronteiradosvales.mg.gov.br/transparencia/contratos/detalhes/2015/08/38', 'https://fronteiradosvales.mg.gov.br/transparencia/dispensas/detalhes/2018/12/84', 'https://fronteiradosvales.mg.gov.br/transparencia/licitacoes/detalhes/2013/06/90', 'https://fronteiradosvales.mg.gov.br/transparencia/liquidacoes/detalhes/2019/04/100', 'https://fronteiradosvales.mg.gov.br/transparencia/liquidacoes/detalhes/2014/04/22', 'https://fronteiradosvales.mg.gov.br/transparencia/liquidacoes/detalhes/2021/12/131', 'https://fronteiradosvales.mg.gov.br/transparencia/pagamentos/detalhes/2021/08/128', 'https://fronteiradosvales.mg.gov.br/transparencia/receitas/detalhes/2014/10/28', 'https://fronteiradosvales.mg.gov.br/transparencia/receitas/detalhes/2018/10/82', 'https://fronteiradosvales.mg.gov.br/transparencia/diarias/detalhes/2021/6/126', 'https://fronteiradosvales.mg.gov.br/transparencia/liquidacoes/detalhes/2022/01/133', 'https://fronteiradosvales.mg.gov.br/transparencia/dispensas/detalhes/2014/02/20', 'https://fronteiradosvales.mg.gov.br/transparencia/liquidacoes/detalhes/2014/05/23', 'https://fronteiradosvales.mg.gov.br/transparencia/pagamentos/detalhes/2020/07/115', 'https://fronteiradosvales.mg.gov.br/transparencia/pagamentos/detalhes/2020/05/113', 'https://fronteiradosvales.mg.gov.br/transparencia/receitas/detalhes/2016/06/48', 'https://fronteiradosvales.mg.gov.br/transparencia/receitas/detalhes/2014/05/23', 'https://fronteiradosvales.mg.gov.br/transparencia/liquidacoes/detalhes/2014/01/19', 'https://fronteiradosvales.mg.gov.br/transparencia/contratos/detalhes/2020/04/112', 'https://fronteiradosvales.mg.gov.br/transparencia/empenhos/detalhes/2019/11/106', 'https://fronteiradosvales.mg.gov.br/transparencia/contratos/detalhes/2014/10/28', 'https://fronteiradosvales.mg.gov.br/transparencia/diarias/detalhes/2019/10/107', 'https://fronteiradosvales.mg.gov.br/transparencia/contratos/detalhes/2021/05/124', 'https://fronteiradosvales.mg.gov.br/transparencia/liquidacoes/detalhes/2021/09/129', 'https://fronteiradosvales.mg.gov.br/transparencia/dispensas/detalhes/2021/02/121', 'https://fronteiradosvales.mg.gov.br/transparencia/licitacoes/detalhes/2020/06/114', 'https://fronteiradosvales.mg.gov.br/transparencia/liquidacoes/detalhes/2018/12/84', 'https://fronteiradosvales.mg.gov.br/transparencia/liquidacoes/detalhes/2015/07/37', 'https://fronteiradosvales.mg.gov.br/transparencia/editais/2020/09/1', 'https://fronteiradosvales.mg.gov.br/transparencia/liquidacoes/detalhes/2015/02/32', 'https://fronteiradosvales.mg.gov.br/transparencia/liquidacoes/detalhes/2018/02/74', 'https://fronteiradosvales.mg.gov.br/transparencia/diarias/detalhes/2016/4/46', 'https://fronteiradosvales.mg.gov.br/transparencia/receitas/detalhes/2022/02/134', 'https://fronteiradosvales.mg.gov.br/transparencia/liquidacoes/detalhes/2015/01/31', 'https://fronteiradosvales.mg.gov.br/transparencia/dispensas/detalhes/2021/08/128', 'https://fronteiradosvales.mg.gov.br/transparencia/editais/2020/07/4', 'https://fronteiradosvales.mg.gov.br/transparencia/diarias/detalhes/2021/7/127', 'https://fronteiradosvales.mg.gov.br/transparencia/diarias/detalhes/2017/1/55', 'https://fronteiradosvales.mg.gov.br/transparencia/empenhos/detalhes/2022/04/136', 'https://fronteiradosvales.mg.gov.br/transparencia/relatorios/detalhes/2', 'https://fronteiradosvales.mg.gov.br/transparencia/contratos/detalhes/2020/11/119', 'https://fronteiradosvales.mg.gov.br/transparencia/contratos/detalhes/2015/01/31', 'https://fronteiradosvales.mg.gov.br/transparencia/liquidacoes/detalhes/2016/01/43', 'https://fronteiradosvales.mg.gov.br/transparencia/licitacoes/detalhes/2018/03/75', 'https://fronteiradosvales.mg.gov.br/transparencia/receitas/detalhes/2016/05/47', 'https://fronteiradosvales.mg.gov.br/transparencia/liquidacoes/detalhes/2021/01/122', 'https://fronteiradosvales.mg.gov.br/transparencia/empenhos/detalhes/2017/03/57', 'https://fronteiradosvales.mg.gov.br/transparencia/diarias/detalhes/2018/1/73', 'https://fronteiradosvales.mg.gov.br/transparencia/empenhos/detalhes/2014/01/19', 'https://fronteiradosvales.mg.gov.br/transparencia/receitas/detalhes/2015/10/40', 'https://fronteiradosvales.mg.gov.br/transparencia/diarias/detalhes/2014/10/28', 'https://fronteiradosvales.mg.gov.br/transparencia/dispensas/detalhes/2015/02/32', 'https://fronteiradosvales.mg.gov.br/transparencia/contratos/detalhes/2013/03/87', 'https://fronteiradosvales.mg.gov.br/transparencia/licitacoes/detalhes/2019/04/100', 'https://fronteiradosvales.mg.gov.br/transparencia/receitas/detalhes/2016/04/46', 'https://fronteiradosvales.mg.gov.br/transparencia/licitacoes/detalhes/2016/07/49', 'https://fronteiradosvales.mg.gov.br/transparencia/liquidacoes/detalhes/2022/02/134', 'https://fronteiradosvales.mg.gov.br/transparencia/empenhos/detalhes/2019/09/108', 'https://fronteiradosvales.mg.gov.br/transparencia/empenhos/detalhes/2015/01/31', 'https://fronteiradosvales.mg.gov.br/transparencia/pagamentos/detalhes/2018/12/84', 'https://fronteiradosvales.mg.gov.br/transparencia/empenhos/detalhes/2018/02/74', 'https://fronteiradosvales.mg.gov.br/transparencia/empenhos/detalhes/2014/07/25', 'https://fronteiradosvales.mg.gov.br/transparencia/receitas/detalhes/2016/01/43', 'https://fronteiradosvales.mg.gov.br/transparencia/licitacoes/detalhes/2016/05/47', 'https://fronteiradosvales.mg.gov.br/transparencia/diarias/detalhes/2018/7/79', 'https://fronteiradosvales.mg.gov.br/transparencia/pagamentos/detalhes/2016/11/53', 'https://fronteiradosvales.mg.gov.br/transparencia/dispensas/detalhes/2021/03/123', 'https://fronteiradosvales.mg.gov.br/transparencia/contratos/detalhes/2018/06/78', 'https://fronteiradosvales.mg.gov.br/transparencia/receitas/detalhes/2018/05/77', 'https://fronteiradosvales.mg.gov.br/transparencia/liquidacoes/detalhes/2017/12/66', 'https://fronteiradosvales.mg.gov.br/transparencia/obras/2020/08/1', 'https://fronteiradosvales.mg.gov.br/transparencia/diarias/detalhes/2018/2/74', 'https://fronteiradosvales.mg.gov.br/transparencia/pagamentos/detalhes/2014/07/25', 'https://fronteiradosvales.mg.gov.br/transparencia/licitacoes/detalhes/2021/05/124', 'https://fronteiradosvales.mg.gov.br/transparencia/dispensas/detalhes/2017/01/55', 'https://fronteiradosvales.mg.gov.br/transparencia/liquidacoes/detalhes/2021/04/125', 'https://fronteiradosvales.mg.gov.br/transparencia/diarias/detalhes/2021/2/121', 'https://fronteiradosvales.mg.gov.br/transparencia/dispensas/detalhes/2021/06/126', 'https://fronteiradosvales.mg.gov.br/transparencia/receitas/detalhes/2014/04/22', 'https://fronteiradosvales.mg.gov.br/transparencia/receitas/detalhes/2016/09/51', 'https://fronteiradosvales.mg.gov.br/transparencia/diarias/detalhes/2020/3/111', 'https://fronteiradosvales.mg.gov.br/transparencia/liquidacoes/detalhes/2020/02/110', 'https://fronteiradosvales.mg.gov.br/transparencia/empenhos/detalhes/2020/10/118', 'https://fronteiradosvales.mg.gov.br/transparencia/contratos/detalhes/2014/06/24', 'https://fronteiradosvales.mg.gov.br/transparencia/receitas/detalhes/2017/01/55', 'https://fronteiradosvales.mg.gov.br/transparencia/liquidacoes/detalhes/2017/10/64', 'https://fronteiradosvales.mg.gov.br/transparencia/liquidacoes/detalhes/2015/05/35', 'https://fronteiradosvales.mg.gov.br/transparencia/relatorios/detalhes/10', 'https://fronteiradosvales.mg.gov.br/transparencia/pagamentos/detalhes/2016/07/49', 'https://fronteiradosvales.mg.gov.br/transparencia/empenhos/detalhes/2017/04/58', 'https://fronteiradosvales.mg.gov.br/transparencia/editais/2020/03/5', 'https://fronteiradosvales.mg.gov.br/transparencia/contratos/detalhes/2015/07/37', 'https://fronteiradosvales.mg.gov.br/transparencia/empenhos/detalhes/2018/03/75', 'https://fronteiradosvales.mg.gov.br/transparencia/diarias/detalhes/2017/5/59', 'https://fronteiradosvales.mg.gov.br/transparencia/receitas/detalhes/2020/06/114', 'https://fronteiradosvales.mg.gov.br/transparencia/diarias/detalhes/2017/3/57', 'https://fronteiradosvales.mg.gov.br/transparencia/licitacoes/detalhes/2021/11/132', 'https://fronteiradosvales.mg.gov.br/transparencia/diarias/detalhes/2015/8/38', 'https://fronteiradosvales.mg.gov.br/transparencia/contratos/detalhes/2013/08/92', 'https://fronteiradosvales.mg.gov.br/transparencia/pagamentos/detalhes/2015/11/41', 'https://fronteiradosvales.mg.gov.br/transparencia/pagamentos/detalhes/2015/01/31', 'https://fronteiradosvales.mg.gov.br/transparencia/empenhos/detalhes/2020/07/115', 'https://fronteiradosvales.mg.gov.br/transparencia/liquidacoes/detalhes/2016/11/53', 'https://fronteiradosvales.mg.gov.br/transparencia/diarias/detalhes/2018/6/78', 'https://fronteiradosvales.mg.gov.br/transparencia/dispensas/detalhes/2014/09/27', 'https://fronteiradosvales.mg.gov.br/transparencia/liquidacoes/detalhes/2021/11/132', 'https://fronteiradosvales.mg.gov.br/transparencia/diarias/detalhes/2014/1/19', 'https://fronteiradosvales.mg.gov.br/transparencia/empenhos/detalhes/2017/10/64', 'https://fronteiradosvales.mg.gov.br/transparencia/empenhos/detalhes/2018/11/83', 'https://fronteiradosvales.mg.gov.br/transparencia/empenhos/detalhes/2021/05/124', 'https://fronteiradosvales.mg.gov.br/transparencia/diarias/detalhes/2016/11/53', 'https://fronteiradosvales.mg.gov.br/transparencia/empenhos/detalhes/2022/01/133', 'https://fronteiradosvales.mg.gov.br/transparencia/receitas/detalhes/2020/11/119', 'https://fronteiradosvales.mg.gov.br/transparencia/dispensas/detalhes/2020/09/117', 'https://fronteiradosvales.mg.gov.br/transparencia/licitacoes/detalhes/2015/01/31', 'https://fronteiradosvales.mg.gov.br/transparencia/diarias/detalhes/2016/10/52', 'https://fronteiradosvales.mg.gov.br/transparencia/pagamentos/detalhes/2018/01/73', 'https://fronteiradosvales.mg.gov.br/transparencia/liquidacoes/detalhes/2015/12/42', 'https://fronteiradosvales.mg.gov.br/transparencia/licitacoes/detalhes/2019/08/104', 'https://fronteiradosvales.mg.gov.br/transparencia/liquidacoes/detalhes/2014/06/24', 'https://fronteiradosvales.mg.gov.br/transparencia/contratos/detalhes/2020/02/110', 'https://fronteiradosvales.mg.gov.br/transparencia/licitacoes/detalhes/2022/06/138', 'https://fronteiradosvales.mg.gov.br/transparencia/liquidacoes/detalhes/2018/05/77', 'https://fronteiradosvales.mg.gov.br/transparencia/dispensas/detalhes/2016/06/48', 'https://fronteiradosvales.mg.gov.br/transparencia/pagamentos/detalhes/2022/03/135', 'https://fronteiradosvales.mg.gov.br/transparencia/contratos/detalhes/2014/04/22', 'https://fronteiradosvales.mg.gov.br/transparencia/empenhos/detalhes/2015/10/40', 'https://fronteiradosvales.mg.gov.br/transparencia/receitas/detalhes/2016/12/54', 'https://fronteiradosvales.mg.gov.br/transparencia/diarias/detalhes/2015/1/31', 'https://fronteiradosvales.mg.gov.br/transparencia/licitacoes/detalhes/2017/05/59', 'https://fronteiradosvales.mg.gov.br/transparencia/empenhos/detalhes/2017/11/65', 'https://fronteiradosvales.mg.gov.br/transparencia/liquidacoes/detalhes/2016/04/46', 'https://fronteiradosvales.mg.gov.br/transparencia/receitas/detalhes/2021/04/125', 'https://fronteiradosvales.mg.gov.br/transparencia/licitacoes/detalhes/2013/05/89', 'https://fronteiradosvales.mg.gov.br/transparencia/diarias/detalhes/2020/11/119', 'https://fronteiradosvales.mg.gov.br/transparencia/empenhos/detalhes/2021/09/129', 'https://fronteiradosvales.mg.gov.br/transparencia/contratos/detalhes/2020/09/117', 'https://fronteiradosvales.mg.gov.br/transparencia/licitacoes/detalhes/2014/06/24', 'https://fronteiradosvales.mg.gov.br/transparencia/diarias/detalhes/2020/7/115', 'https://fronteiradosvales.mg.gov.br/transparencia/pagamentos/detalhes/2022/04/136', 'https://fronteiradosvales.mg.gov.br/transparencia/pagamentos/detalhes/2017/06/60', 'https://fronteiradosvales.mg.gov.br/transparencia/pagamentos/detalhes/2017/05/59', 'https://fronteiradosvales.mg.gov.br/transparencia/receitas/detalhes/2020/07/115', 'https://fronteiradosvales.mg.gov.br/transparencia/contratos/detalhes/2021/10/130', 'https://fronteiradosvales.mg.gov.br/transparencia/diarias/detalhes/2020/1/109', 'https://fronteiradosvales.mg.gov.br/transparencia/licitacoes/detalhes/2020/03/111', 'https://fronteiradosvales.mg.gov.br/transparencia/receitas/detalhes/2021/02/121', 'https://fronteiradosvales.mg.gov.br/transparencia/contratos/detalhes/2019/05/101', 'https://fronteiradosvales.mg.gov.br/transparencia/receitas/detalhes/2019/04/100', 'https://fronteiradosvales.mg.gov.br/transparencia/empenhos/detalhes/2020/01/109', 'https://fronteiradosvales.mg.gov.br/transparencia/contratos/detalhes/2014/11/29', 'https://fronteiradosvales.mg.gov.br/transparencia/dispensas/detalhes/2017/05/59', 'https://fronteiradosvales.mg.gov.br/transparencia/diarias/detalhes/2019/5/101', 'https://fronteiradosvales.mg.gov.br/transparencia/contratos/detalhes/2022/03/135', 'https://fronteiradosvales.mg.gov.br/transparencia/pagamentos/detalhes/2014/01/19', 'https://fronteiradosvales.mg.gov.br/transparencia/receitas/detalhes/2018/03/75', 'https://fronteiradosvales.mg.gov.br/transparencia/receitas/detalhes/2017/07/61', 'https://fronteiradosvales.mg.gov.br/transparencia/receitas/detalhes/2016/07/49', 'https://fronteiradosvales.mg.gov.br/transparencia/liquidacoes/detalhes/2020/05/113', 'https://fronteiradosvales.mg.gov.br/transparencia/contratos/detalhes/2022/04/136', 'https://fronteiradosvales.mg.gov.br/transparencia/liquidacoes/detalhes/2019/08/104', 'https://fronteiradosvales.mg.gov.br/transparencia/receitas/detalhes/2017/11/65', 'https://fronteiradosvales.mg.gov.br/transparencia/pagamentos/detalhes/2021/10/130', 'https://fronteiradosvales.mg.gov.br/transparencia/diarias/detalhes/2021/8/128', 'https://fronteiradosvales.mg.gov.br/transparencia/licitacoes/detalhes/2018/05/77', 'https://fronteiradosvales.mg.gov.br/transparencia/diarias/detalhes/2018/5/77', 'https://fronteiradosvales.mg.gov.br/transparencia/contratos/detalhes/2018/10/82', 'https://fronteiradosvales.mg.gov.br/transparencia/empenhos/detalhes/2021/01/122', 'https://fronteiradosvales.mg.gov.br/transparencia/liquidacoes/detalhes/2018/08/80', 'https://fronteiradosvales.mg.gov.br/transparencia/dispensas/detalhes/2022/04/136', 'https://fronteiradosvales.mg.gov.br/transparencia/pagamentos/detalhes/2016/04/46', 'https://fronteiradosvales.mg.gov.br/transparencia/receitas/detalhes/2020/12/120', 'https://fronteiradosvales.mg.gov.br/transparencia/empenhos/detalhes/2016/01/43', 'https://fronteiradosvales.mg.gov.br/transparencia/licitacoes/detalhes/2021/08/128', 'https://fronteiradosvales.mg.gov.br/transparencia/diarias/detalhes/2018/9/81', 'https://fronteiradosvales.mg.gov.br/transparencia/pagamentos/detalhes/2015/07/37', 'https://fronteiradosvales.mg.gov.br/transparencia/diarias/detalhes/2015/3/33', 'https://fronteiradosvales.mg.gov.br/transparencia/empenhos/detalhes/2017/02/56', 'https://fronteiradosvales.mg.gov.br/transparencia/licitacoes/detalhes/2021/02/121', 'https://fronteiradosvales.mg.gov.br/transparencia/liquidacoes/detalhes/2016/06/48', 'https://fronteiradosvales.mg.gov.br/transparencia/receitas/detalhes/2017/03/57', 'https://fronteiradosvales.mg.gov.br/transparencia/relatorios/detalhes/8', 'https://fronteiradosvales.mg.gov.br/transparencia/diarias/detalhes/2016/6/48', 'https://fronteiradosvales.mg.gov.br/transparencia/contratos/detalhes/2021/09/129', 'https://fronteiradosvales.mg.gov.br/transparencia/receitas/detalhes/2017/06/60', 'https://fronteiradosvales.mg.gov.br/transparencia/liquidacoes/detalhes/2017/04/58', 'https://fronteiradosvales.mg.gov.br/transparencia/editais/2020/06/3', 'https://fronteiradosvales.mg.gov.br/transparencia/folhas-de-pagamento/filtradas?indSituacaoServidorPensionista%5B0%5D=I&indSituacaoServidorPensionista%5B1%5D=01', 'https://fronteiradosvales.mg.gov.br/transparencia/diarias/detalhes/2022/3/135', 'https://fronteiradosvales.mg.gov.br/transparencia/pagamentos/detalhes/2020/06/114', 'https://fronteiradosvales.mg.gov.br/transparencia/contratos/detalhes/2016/12/54', 'https://fronteiradosvales.mg.gov.br/transparencia/receitas/detalhes/2019/05/101', 'https://fronteiradosvales.mg.gov.br/transparencia/empenhos/detalhes/2016/06/48', 'https://fronteiradosvales.mg.gov.br/transparencia/contratos/detalhes/2017/05/59', 'https://fronteiradosvales.mg.gov.br/transparencia/empenhos/detalhes/2020/09/117', 'https://fronteiradosvales.mg.gov.br/transparencia/pagamentos/detalhes/2017/12/66', 'https://fronteiradosvales.mg.gov.br/transparencia/receitas/detalhes/2020/09/117', 'https://fronteiradosvales.mg.gov.br/transparencia/relatorios/detalhes/5', 'https://fronteiradosvales.mg.gov.br/transparencia/diarias/detalhes/2014/5/23', 'https://fronteiradosvales.mg.gov.br/transparencia/pagamentos/detalhes/2015/05/35', 'https://fronteiradosvales.mg.gov.br/transparencia/dispensas/detalhes/2014/01/19', 'https://fronteiradosvales.mg.gov.br/transparencia/pagamentos/detalhes/2015/09/39', 'https://fronteiradosvales.mg.gov.br/transparencia/contratos/detalhes/2013/05/89', 'https://fronteiradosvales.mg.gov.br/transparencia/licitacoes/detalhes/2014/04/22', 'https://fronteiradosvales.mg.gov.br/transparencia/licitacoes/detalhes/2015/02/32', 'https://fronteiradosvales.mg.gov.br/transparencia/contratos/detalhes/2017/02/56', 'https://fronteiradosvales.mg.gov.br/transparencia/receitas/detalhes/2014/12/30', 'https://fronteiradosvales.mg.gov.br/transparencia/liquidacoes/detalhes/2019/10/107', 'https://fronteiradosvales.mg.gov.br/transparencia/empenhos/detalhes/2015/02/32', 'https://fronteiradosvales.mg.gov.br/transparencia/receitas/detalhes/2015/05/35', 'https://fronteiradosvales.mg.gov.br/transparencia/dispensas/detalhes/2018/05/77', 'https://fronteiradosvales.mg.gov.br/transparencia/receitas/detalhes/2021/03/123', 'https://fronteiradosvales.mg.gov.br/transparencia/dispensas/detalhes/2017/03/57', 'https://fronteiradosvales.mg.gov.br/transparencia/licitacoes/detalhes/2021/06/126', 'https://fronteiradosvales.mg.gov.br/transparencia/diarias/detalhes/2021/4/125', 'https://fronteiradosvales.mg.gov.br/transparencia/receitas/detalhes/2020/10/118', 'https://fronteiradosvales.mg.gov.br/transparencia/pagamentos/detalhes/2015/06/36', 'https://fronteiradosvales.mg.gov.br/transparencia/contratos/detalhes/2016/02/44', 'https://fronteiradosvales.mg.gov.br/transparencia/pagamentos/detalhes/2020/04/112', 'https://fronteiradosvales.mg.gov.br/transparencia/receitas/detalhes/2018/07/79', 'https://fronteiradosvales.mg.gov.br/transparencia/contratos/detalhes/2017/07/61', 'https://fronteiradosvales.mg.gov.br/transparencia/receitas/detalhes/2014/06/24', 'https://fronteiradosvales.mg.gov.br/transparencia/diarias/detalhes/2019/8/104', 'https://fronteiradosvales.mg.gov.br/transparencia/empenhos/detalhes/2014/05/23', 'https://fronteiradosvales.mg.gov.br/transparencia/diarias/detalhes/2014/3/21', 'https://fronteiradosvales.mg.gov.br/transparencia/receitas/detalhes/2017/10/64', 'https://fronteiradosvales.mg.gov.br/transparencia/contratos/detalhes/2018/03/75', 'https://fronteiradosvales.mg.gov.br/transparencia/empenhos/detalhes/2019/08/104', 'https://fronteiradosvales.mg.gov.br/transparencia/pagamentos/detalhes/2019/04/100', 'https://fronteiradosvales.mg.gov.br/transparencia/contratos/detalhes/2020/06/114', 'https://fronteiradosvales.mg.gov.br/transparencia/receitas/detalhes/2022/06/138', 'https://fronteiradosvales.mg.gov.br/transparencia/dispensas/detalhes/2016/02/44', 'https://fronteiradosvales.mg.gov.br/transparencia/pagamentos/detalhes/2016/10/52', 'https://fronteiradosvales.mg.gov.br/transparencia/contratos/detalhes/2021/11/132', 'https://fronteiradosvales.mg.gov.br/transparencia/diarias/detalhes/2017/10/64', 'https://fronteiradosvales.mg.gov.br/transparencia/pagamentos/detalhes/2017/08/62', 'https://fronteiradosvales.mg.gov.br/transparencia/contratos/detalhes/2021/02/121', 'https://fronteiradosvales.mg.gov.br/transparencia/pagamentos/detalhes/2020/09/117', 'https://fronteiradosvales.mg.gov.br/transparencia/diarias/detalhes/2022/1/133', 'https://fronteiradosvales.mg.gov.br/transparencia/diarias/detalhes/2017/9/63', 'https://fronteiradosvales.mg.gov.br/transparencia/dispensas/detalhes/2021/11/132', 'https://fronteiradosvales.mg.gov.br/transparencia/liquidacoes/detalhes/2022/04/136', 'https://fronteiradosvales.mg.gov.br/transparencia/empenhos/detalhes/2016/02/44', 'https://fronteiradosvales.mg.gov.br/transparencia/pagamentos/detalhes/2014/09/27', 'https://fronteiradosvales.mg.gov.br/transparencia/licitacoes/detalhes/2017/10/64', 'https://fronteiradosvales.mg.gov.br/transparencia/licitacoes/detalhes/2022/03/135', 'https://fronteiradosvales.mg.gov.br/transparencia/dispensas/detalhes/2021/07/127', 'https://fronteiradosvales.mg.gov.br/transparencia/pagamentos/detalhes/2019/11/106', 'https://fronteiradosvales.mg.gov.br/transparencia/pagamentos/detalhes/2019/10/107', 'https://fronteiradosvales.mg.gov.br/transparencia/diarias/detalhes/2018/12/84', 'https://fronteiradosvales.mg.gov.br/transparencia/receitas/detalhes/2017/05/59', 'https://fronteiradosvales.mg.gov.br/transparencia/pagamentos/detalhes/2014/11/29', 'https://fronteiradosvales.mg.gov.br/transparencia/receitas/detalhes/2014/07/25', 'https://fronteiradosvales.mg.gov.br/transparencia/licitacoes/detalhes/2022/04/136', 'https://fronteiradosvales.mg.gov.br/transparencia/empenhos/detalhes/2014/10/28', 'https://fronteiradosvales.mg.gov.br/transparencia/licitacoes/detalhes/2020/05/113', 'https://fronteiradosvales.mg.gov.br/transparencia/dispensas/detalhes/2021/09/129', 'https://fronteiradosvales.mg.gov.br/transparencia/licitacoes/detalhes/2015/09/39', 'https://fronteiradosvales.mg.gov.br/transparencia/pagamentos/detalhes/2013/12/96', 'https://fronteiradosvales.mg.gov.br/transparencia/receitas/detalhes/2018/04/76', 'https://fronteiradosvales.mg.gov.br/transparencia/editais/2021/08/8', 'https://fronteiradosvales.mg.gov.br/transparencia/pagamentos/detalhes/2019/07/103', 'https://fronteiradosvales.mg.gov.br/transparencia/pagamentos/detalhes/2017/02/56', 'https://fronteiradosvales.mg.gov.br/transparencia/empenhos/detalhes/2022/02/134', 'https://fronteiradosvales.mg.gov.br/transparencia/empenhos/detalhes/2021/12/131', 'https://fronteiradosvales.mg.gov.br/transparencia/liquidacoes/detalhes/2019/12/105', 'https://fronteiradosvales.mg.gov.br/transparencia/liquidacoes/detalhes/2017/09/63', 'https://fronteiradosvales.mg.gov.br/transparencia/pagamentos/detalhes/2014/04/22', 'https://fronteiradosvales.mg.gov.br/transparencia/empenhos/detalhes/2016/09/51', 'https://fronteiradosvales.mg.gov.br/transparencia/liquidacoes/detalhes/2015/03/33', 'https://fronteiradosvales.mg.gov.br/transparencia/empenhos/detalhes/2016/03/45', 'https://fronteiradosvales.mg.gov.br/transparencia/contratos/detalhes/2022/02/134', 'https://fronteiradosvales.mg.gov.br/transparencia/liquidacoes/detalhes/2018/11/83', 'https://fronteiradosvales.mg.gov.br/transparencia/liquidacoes/detalhes/2018/07/79', 'https://fronteiradosvales.mg.gov.br/transparencia/contratos/detalhes/2014/01/19', 'https://fronteiradosvales.mg.gov.br/transparencia/contratos/detalhes/2015/06/36', 'https://fronteiradosvales.mg.gov.br/transparencia/receitas/detalhes/2019/02/98', 'https://fronteiradosvales.mg.gov.br/transparencia/liquidacoes/detalhes/2017/05/59', 'https://fronteiradosvales.mg.gov.br/transparencia/licitacoes/detalhes/2019/03/99', 'https://fronteiradosvales.mg.gov.br/transparencia/empenhos/detalhes/2019/12/105', 'https://fronteiradosvales.mg.gov.br/transparencia/liquidacoes/detalhes/2016/10/52', 'https://fronteiradosvales.mg.gov.br/transparencia/empenhos/detalhes/2019/05/101', 'https://fronteiradosvales.mg.gov.br/transparencia/diarias/detalhes/2015/9/39', 'https://fronteiradosvales.mg.gov.br/transparencia/pagamentos/detalhes/2021/07/127', 'https://fronteiradosvales.mg.gov.br/transparencia/diarias/detalhes/2014/11/29', 'https://fronteiradosvales.mg.gov.br/transparencia/empenhos/detalhes/2017/07/61', 'https://fronteiradosvales.mg.gov.br/transparencia/liquidacoes/detalhes/2017/01/55', 'https://fronteiradosvales.mg.gov.br/transparencia/contratos/detalhes/2020/07/115', 'https://fronteiradosvales.mg.gov.br/transparencia/dispensas/detalhes/2021/12/131', 'https://fronteiradosvales.mg.gov.br/transparencia/diarias/detalhes/2014/12/30', 'https://fronteiradosvales.mg.gov.br/transparencia/pagamentos/detalhes/2017/11/65', 'https://fronteiradosvales.mg.gov.br/transparencia/contratos/detalhes/2022/05/137', 'https://fronteiradosvales.mg.gov.br/transparencia/licitacoes/detalhes/2014/12/30', 'https://fronteiradosvales.mg.gov.br/transparencia/receitas/detalhes/2019/07/103', 'https://fronteiradosvales.mg.gov.br/transparencia/contratos/detalhes/2020/03/111', 'https://fronteiradosvales.mg.gov.br/transparencia/empenhos/detalhes/2015/07/37', 'https://fronteiradosvales.mg.gov.br/transparencia/pagamentos/detalhes/2021/01/122', 'https://fronteiradosvales.mg.gov.br/transparencia/dispensas/detalhes/2019/11/106', 'https://fronteiradosvales.mg.gov.br/transparencia/receitas/detalhes/2021/05/124', 'https://fronteiradosvales.mg.gov.br/transparencia/receitas/detalhes/2013/12/96', 'https://fronteiradosvales.mg.gov.br/transparencia/empenhos/detalhes/2015/08/38', 'https://fronteiradosvales.mg.gov.br/transparencia/pagamentos/detalhes/2018/09/81', 'https://fronteiradosvales.mg.gov.br/transparencia/licitacoes/detalhes/2020/08/116', 'https://fronteiradosvales.mg.gov.br/transparencia/diarias/detalhes/2014/7/25', 'https://fronteiradosvales.mg.gov.br/transparencia/empenhos/detalhes/2020/05/113', 'https://fronteiradosvales.mg.gov.br/transparencia/diarias/detalhes/2021/1/122', 'https://fronteiradosvales.mg.gov.br/transparencia/pagamentos/detalhes/2014/10/28', 'https://fronteiradosvales.mg.gov.br/transparencia/liquidacoes/detalhes/2016/02/44', 'https://fronteiradosvales.mg.gov.br/transparencia/editais/2020/02/7', 'https://fronteiradosvales.mg.gov.br/transparencia/dispensas/detalhes/2015/01/31', 'https://fronteiradosvales.mg.gov.br/transparencia/dispensas/detalhes/2020/01/109', 'https://fronteiradosvales.mg.gov.br/transparencia/pagamentos/detalhes/2020/12/120', 'https://fronteiradosvales.mg.gov.br/transparencia/liquidacoes/detalhes/2017/02/56', 'https://fronteiradosvales.mg.gov.br/transparencia/diarias/detalhes/2021/5/124', 'https://fronteiradosvales.mg.gov.br/transparencia/diarias/detalhes/2015/11/41', 'https://fronteiradosvales.mg.gov.br/transparencia/dispensas/detalhes/2014/05/23', 'https://fronteiradosvales.mg.gov.br/transparencia/diarias/detalhes/2022/5/137', 'https://fronteiradosvales.mg.gov.br/transparencia/liquidacoes/detalhes/2013/12/96', 'https://fronteiradosvales.mg.gov.br/transparencia/empenhos/detalhes/2021/10/130', 'https://fronteiradosvales.mg.gov.br/transparencia/licitacoes/detalhes/2015/11/41', 'https://fronteiradosvales.mg.gov.br/transparencia/diarias/detalhes/2022/4/136', 'https://fronteiradosvales.mg.gov.br/transparencia/pagamentos/detalhes/2016/08/50', 'https://fronteiradosvales.mg.gov.br/transparencia/dispensas/detalhes/2020/11/119', 'https://fronteiradosvales.mg.gov.br/transparencia/receitas/detalhes/2015/02/32', 'https://fronteiradosvales.mg.gov.br/transparencia/pagamentos/detalhes/2019/06/102', 'https://fronteiradosvales.mg.gov.br/transparencia/pagamentos/detalhes/2016/05/47', 'https://fronteiradosvales.mg.gov.br/transparencia/receitas/detalhes/2020/01/109', 'https://fronteiradosvales.mg.gov.br/transparencia/licitacoes/detalhes/2018/07/79', 'https://fronteiradosvales.mg.gov.br/transparencia/receitas/detalhes/2021/12/131', 'https://fronteiradosvales.mg.gov.br/transparencia/liquidacoes/detalhes/2017/08/62', 'https://fronteiradosvales.mg.gov.br/transparencia/empenhos/detalhes/2018/12/84', 'https://fronteiradosvales.mg.gov.br/transparencia/liquidacoes/detalhes/2013/11/95', 'https://fronteiradosvales.mg.gov.br/transparencia/licitacoes/detalhes/2015/04/34', 'https://fronteiradosvales.mg.gov.br/transparencia/licitacoes/detalhes/2014/11/29', 'https://fronteiradosvales.mg.gov.br/transparencia/pagamentos/detalhes/2017/10/64', 'https://fronteiradosvales.mg.gov.br/transparencia/diarias/detalhes/2014/9/27', 'https://fronteiradosvales.mg.gov.br/transparencia/diarias/detalhes/2020/2/110', 'https://fronteiradosvales.mg.gov.br/transparencia/pagamentos/detalhes/2022/05/137', 'https://fronteiradosvales.mg.gov.br/transparencia/licitacoes/detalhes/2017/01/55', 'https://fronteiradosvales.mg.gov.br/transparencia/empenhos/detalhes/2015/12/42', 'https://fronteiradosvales.mg.gov.br/transparencia/pagamentos/detalhes/2018/10/82', 'https://fronteiradosvales.mg.gov.br/transparencia/editais/2021/09/9', 'https://fronteiradosvales.mg.gov.br/transparencia/empenhos/detalhes/2022/03/135', 'https://fronteiradosvales.mg.gov.br/transparencia/pagamentos/detalhes/2015/08/38', 'https://fronteiradosvales.mg.gov.br/transparencia/licitacoes/detalhes/2018/08/80', 'https://fronteiradosvales.mg.gov.br/transparencia/licitacoes/detalhes/2015/06/36', 'https://fronteiradosvales.mg.gov.br/transparencia/receitas/detalhes/2020/04/112', 'https://fronteiradosvales.mg.gov.br/transparencia/licitacoes/detalhes/2019/07/103', 'https://fronteiradosvales.mg.gov.br/transparencia/empenhos/detalhes/2021/03/123', 'https://fronteiradosvales.mg.gov.br/transparencia/liquidacoes/detalhes/2020/11/119', 'https://fronteiradosvales.mg.gov.br/transparencia/receitas/detalhes/2015/11/41', 'https://fronteiradosvales.mg.gov.br/transparencia/receitas/detalhes/2015/08/38', 'https://fronteiradosvales.mg.gov.br/transparencia/contratos/detalhes/2016/07/49', 'https://fronteiradosvales.mg.gov.br/transparencia/diarias/detalhes/2019/9/108', 'https://fronteiradosvales.mg.gov.br/transparencia/liquidacoes/detalhes/2019/05/101', 'https://fronteiradosvales.mg.gov.br/transparencia/diarias/detalhes/2017/11/65', 'https://fronteiradosvales.mg.gov.br/transparencia/pagamentos/detalhes/2021/12/131', 'https://fronteiradosvales.mg.gov.br/transparencia/liquidacoes/detalhes/2017/07/61', 'https://fronteiradosvales.mg.gov.br/transparencia/diarias/detalhes/2021/10/130', 'https://fronteiradosvales.mg.gov.br/transparencia/receitas/detalhes/2015/06/36', 'https://fronteiradosvales.mg.gov.br/transparencia/contratos/detalhes/2013/04/88', 'https://fronteiradosvales.mg.gov.br/transparencia/licitacoes/detalhes/2018/09/81', 'https://fronteiradosvales.mg.gov.br/transparencia/empenhos/detalhes/2018/10/82', 'https://fronteiradosvales.mg.gov.br/transparencia/pagamentos/detalhes/2018/07/79', 'https://fronteiradosvales.mg.gov.br/transparencia/licitacoes/detalhes/2017/02/56', 'https://fronteiradosvales.mg.gov.br/transparencia/licitacoes/detalhes/2017/07/61', 'https://fronteiradosvales.mg.gov.br/transparencia/receitas/detalhes/2013/01/85', 'https://fronteiradosvales.mg.gov.br/transparencia/folhas-de-pagamento/filtradas?indSituacaoServidorPensionista%5B0%5D=P&indSituacaoServidorPensionista%5B1%5D=03', 'https://fronteiradosvales.mg.gov.br/transparencia/contratos/detalhes/2013/06/90', 'https://fronteiradosvales.mg.gov.br/transparencia/dispensas/detalhes/2014/12/30', 'https://fronteiradosvales.mg.gov.br/transparencia/contratos/detalhes/2016/06/48', 'https://fronteiradosvales.mg.gov.br/transparencia/diarias/detalhes/2016/7/49', 'https://fronteiradosvales.mg.gov.br/transparencia/contratos/detalhes/2013/07/91', 'https://fronteiradosvales.mg.gov.br/transparencia/empenhos/detalhes/2021/07/127', 'https://fronteiradosvales.mg.gov.br/transparencia/receitas/detalhes/2013/09/93', 'https://fronteiradosvales.mg.gov.br/transparencia/liquidacoes/detalhes/2021/03/123', 'https://fronteiradosvales.mg.gov.br/transparencia/receitas/detalhes/2020/08/116', 'https://fronteiradosvales.mg.gov.br/transparencia/licitacoes/detalhes/2013/07/91', 'https://fronteiradosvales.mg.gov.br/transparencia/contratos/detalhes/2020/01/109', 'https://fronteiradosvales.mg.gov.br/transparencia/contratos/detalhes/2017/04/58', 'https://fronteiradosvales.mg.gov.br/transparencia/receitas/detalhes/2021/07/127', 'https://fronteiradosvales.mg.gov.br/transparencia/diarias/detalhes/2017/8/62', 'https://fronteiradosvales.mg.gov.br/transparencia/liquidacoes/detalhes/2015/09/39', 'https://fronteiradosvales.mg.gov.br/transparencia/dispensas/detalhes/2017/04/58', 'https://fronteiradosvales.mg.gov.br/transparencia/diarias/detalhes/2016/3/45', 'https://fronteiradosvales.mg.gov.br/transparencia/diarias/detalhes/2015/6/36', 'https://fronteiradosvales.mg.gov.br/transparencia/empenhos/detalhes/2018/06/78', 'https://fronteiradosvales.mg.gov.br/transparencia/diarias/detalhes/2015/12/42', 'https://fronteiradosvales.mg.gov.br/transparencia/receitas/detalhes/2013/10/94', 'https://fronteiradosvales.mg.gov.br/transparencia/empenhos/detalhes/2014/09/27', 'https://fronteiradosvales.mg.gov.br/transparencia/pagamentos/detalhes/2015/02/32', 'https://fronteiradosvales.mg.gov.br/transparencia/contratos/detalhes/2021/07/127', 'https://fronteiradosvales.mg.gov.br/transparencia/empenhos/detalhes/2020/11/119', 'https://fronteiradosvales.mg.gov.br/transparencia/empenhos/detalhes/2019/04/100', 'https://fronteiradosvales.mg.gov.br/transparencia/empenhos/detalhes/2017/01/55', 'https://fronteiradosvales.mg.gov.br/transparencia/empenhos/detalhes/2017/12/66', 'https://fronteiradosvales.mg.gov.br/transparencia/dispensas/detalhes/2015/06/36', 'https://fronteiradosvales.mg.gov.br/transparencia/receitas/detalhes/2021/09/129', 'https://fronteiradosvales.mg.gov.br/transparencia/licitacoes/detalhes/2020/09/117', 'https://fronteiradosvales.mg.gov.br/transparencia/licitacoes/detalhes/2021/03/123', 'https://fronteiradosvales.mg.gov.br/transparencia/receitas/detalhes/2021/06/126', 'https://fronteiradosvales.mg.gov.br/transparencia/liquidacoes/detalhes/2022/03/135', 'https://fronteiradosvales.mg.gov.br/transparencia/pagamentos/detalhes/2021/11/132', 'https://fronteiradosvales.mg.gov.br/transparencia/pagamentos/detalhes/2020/01/109', 'https://fronteiradosvales.mg.gov.br/transparencia/liquidacoes/detalhes/2014/09/27', 'https://fronteiradosvales.mg.gov.br/transparencia/pagamentos/detalhes/2021/02/121', 'https://fronteiradosvales.mg.gov.br/transparencia/dispensas/detalhes/2020/07/115', 'https://fronteiradosvales.mg.gov.br/transparencia/obras/2020/05/3', 'https://fronteiradosvales.mg.gov.br/transparencia/dispensas/detalhes/2022/05/137', 'https://fronteiradosvales.mg.gov.br/transparencia/contratos/detalhes/2017/03/57', 'https://fronteiradosvales.mg.gov.br/transparencia/contratos/detalhes/2014/09/27', 'https://fronteiradosvales.mg.gov.br/transparencia/pagamentos/detalhes/2016/02/44', 'https://fronteiradosvales.mg.gov.br/transparencia/licitacoes/detalhes/2019/02/98', 'https://fronteiradosvales.mg.gov.br/transparencia/contratos/detalhes/2015/05/35', 'https://fronteiradosvales.mg.gov.br/transparencia/licitacoes/detalhes/2018/10/82', 'https://fronteiradosvales.mg.gov.br/transparencia/contratos/detalhes/2016/03/45', 'https://fronteiradosvales.mg.gov.br/transparencia/receitas/detalhes/2018/09/81', 'https://fronteiradosvales.mg.gov.br/transparencia/pagamentos/detalhes/2015/03/33', 'https://fronteiradosvales.mg.gov.br/transparencia/licitacoes/detalhes/2014/03/21', 'https://fronteiradosvales.mg.gov.br/transparencia/liquidacoes/detalhes/2019/07/103', 'https://fronteiradosvales.mg.gov.br/transparencia/licitacoes/detalhes/2018/04/76', 'https://fronteiradosvales.mg.gov.br/transparencia/licitacoes/detalhes/2016/11/53', 'https://fronteiradosvales.mg.gov.br/transparencia/licitacoes/detalhes/2016/04/46', 'https://fronteiradosvales.mg.gov.br/transparencia/liquidacoes/detalhes/2014/07/25', 'https://fronteiradosvales.mg.gov.br/transparencia/diarias/detalhes/2019/11/106', 'https://fronteiradosvales.mg.gov.br/transparencia/liquidacoes/detalhes/2013/10/94', 'https://fronteiradosvales.mg.gov.br/transparencia/dispensas/detalhes/2014/03/21', 'https://fronteiradosvales.mg.gov.br/transparencia/receitas/detalhes/2018/01/73', 'https://fronteiradosvales.mg.gov.br/transparencia/liquidacoes/detalhes/2014/12/30', 'https://fronteiradosvales.mg.gov.br/transparencia/receitas/detalhes/2022/01/133', 'https://fronteiradosvales.mg.gov.br/transparencia/diarias/detalhes/2018/10/82', 'https://fronteiradosvales.mg.gov.br/transparencia/receitas/detalhes/2016/08/50', 'https://fronteiradosvales.mg.gov.br/transparencia/diarias/detalhes/2017/4/58', 'https://fronteiradosvales.mg.gov.br/transparencia/receitas/detalhes/2019/08/104', 'https://fronteiradosvales.mg.gov.br/transparencia/empenhos/detalhes/2022/06/138', 'https://fronteiradosvales.mg.gov.br/transparencia/licitacoes/detalhes/2015/08/38', 'https://fronteiradosvales.mg.gov.br/transparencia/receitas/detalhes/2019/11/106', 'https://fronteiradosvales.mg.gov.br/transparencia/receitas/detalhes/2021/01/122', 'https://fronteiradosvales.mg.gov.br/transparencia/liquidacoes/detalhes/2018/10/82', 'https://fronteiradosvales.mg.gov.br/transparencia/pagamentos/detalhes/2016/12/54', 'https://fronteiradosvales.mg.gov.br/transparencia/empenhos/detalhes/2018/08/80', 'https://fronteiradosvales.mg.gov.br/transparencia/relatorios/detalhes/9', 'https://fronteiradosvales.mg.gov.br/transparencia/liquidacoes/detalhes/2021/06/126', 'https://fronteiradosvales.mg.gov.br/transparencia/diarias/detalhes/2021/11/132', 'https://fronteiradosvales.mg.gov.br/transparencia/empenhos/detalhes/2021/02/121', 'https://fronteiradosvales.mg.gov.br/transparencia/empenhos/detalhes/2016/11/53', 'https://fronteiradosvales.mg.gov.br/transparencia/liquidacoes/detalhes/2020/06/114', 'https://fronteiradosvales.mg.gov.br/transparencia/liquidacoes/detalhes/2016/03/45', 'https://fronteiradosvales.mg.gov.br/transparencia/pagamentos/detalhes/2013/09/93', 'https://fronteiradosvales.mg.gov.br/transparencia/licitacoes/detalhes/2013/08/92', 'https://fronteiradosvales.mg.gov.br/transparencia/diarias/detalhes/2020/8/116', 'https://fronteiradosvales.mg.gov.br/transparencia/receitas/detalhes/2015/04/34', 'https://fronteiradosvales.mg.gov.br/transparencia/empenhos/detalhes/2017/08/62', 'https://fronteiradosvales.mg.gov.br/transparencia/empenhos/detalhes/2015/04/34', 'https://fronteiradosvales.mg.gov.br/transparencia/pagamentos/detalhes/2018/03/75', 'https://fronteiradosvales.mg.gov.br/transparencia/receitas/detalhes/2014/08/26', 'https://fronteiradosvales.mg.gov.br/transparencia/liquidacoes/detalhes/2021/02/121', 'https://fronteiradosvales.mg.gov.br/transparencia/diarias/detalhes/2021/3/123', 'https://fronteiradosvales.mg.gov.br/transparencia/empenhos/detalhes/2018/05/77', 'https://fronteiradosvales.mg.gov.br/transparencia/empenhos/detalhes/2016/08/50', 'https://fronteiradosvales.mg.gov.br/transparencia/receitas/detalhes/2017/08/62', 'https://fronteiradosvales.mg.gov.br/transparencia/receitas/detalhes/2016/02/44', 'https://fronteiradosvales.mg.gov.br/transparencia/receitas/detalhes/2016/10/52', 'https://fronteiradosvales.mg.gov.br/transparencia/contratos/detalhes/2021/01/122', 'https://fronteiradosvales.mg.gov.br/transparencia/receitas/detalhes/2021/10/130', 'https://fronteiradosvales.mg.gov.br/transparencia/diarias/detalhes/2022/2/134', 'https://fronteiradosvales.mg.gov.br/transparencia/empenhos/detalhes/2020/08/116', 'https://fronteiradosvales.mg.gov.br/transparencia/liquidacoes/detalhes/2018/06/78', 'https://fronteiradosvales.mg.gov.br/transparencia/liquidacoes/detalhes/2014/11/29', 'https://fronteiradosvales.mg.gov.br/transparencia/liquidacoes/detalhes/2016/08/50', 'https://fronteiradosvales.mg.gov.br/transparencia/receitas/detalhes/2018/06/78', 'https://fronteiradosvales.mg.gov.br/transparencia/licitacoes/detalhes/2013/04/88', 'https://fronteiradosvales.mg.gov.br/transparencia/diarias/detalhes/2019/7/103', 'https://fronteiradosvales.mg.gov.br/transparencia/contratos/detalhes/2017/06/60', 'https://fronteiradosvales.mg.gov.br/transparencia/empenhos/detalhes/2016/12/54', 'https://fronteiradosvales.mg.gov.br/transparencia/liquidacoes/detalhes/2019/09/108', 'https://fronteiradosvales.mg.gov.br/transparencia/dispensas/detalhes/2019/05/101', 'https://fronteiradosvales.mg.gov.br/transparencia/pagamentos/detalhes/2019/09/108', 'https://fronteiradosvales.mg.gov.br/transparencia/extraorcamentarias', 'https://fronteiradosvales.mg.gov.br/transparencia/licitacoes/detalhes/2013/03/87', 'https://fronteiradosvales.mg.gov.br/transparencia/empenhos/detalhes/2015/05/35', 'https://fronteiradosvales.mg.gov.br/transparencia/contratos/detalhes/2022/01/133', 'https://fronteiradosvales.mg.gov.br/transparencia/pagamentos/detalhes/2016/01/43', 'https://fronteiradosvales.mg.gov.br/transparencia/empenhos/detalhes/2014/11/29', 'https://fronteiradosvales.mg.gov.br/transparencia/diarias/detalhes/2021/9/129', 'https://fronteiradosvales.mg.gov.br/transparencia/diarias/detalhes/2020/12/120', 'https://fronteiradosvales.mg.gov.br/transparencia/liquidacoes/detalhes/2020/04/112', 'https://fronteiradosvales.mg.gov.br/transparencia/empenhos/detalhes/2021/08/128', 'https://fronteiradosvales.mg.gov.br/transparencia/pagamentos/detalhes/2020/11/119', 'https://fronteiradosvales.mg.gov.br/transparencia/pagamentos/detalhes/2019/08/104', 'https://fronteiradosvales.mg.gov.br/transparencia/pagamentos/detalhes/2014/06/24', 'https://fronteiradosvales.mg.gov.br/transparencia/receitas/detalhes/2014/01/19', 'https://fronteiradosvales.mg.gov.br/transparencia/pagamentos/detalhes/2020/03/111', 'https://fronteiradosvales.mg.gov.br/transparencia/contratos/detalhes/2014/08/26', 'https://fronteiradosvales.mg.gov.br/transparencia/licitacoes/detalhes/2021/04/125', 'https://fronteiradosvales.mg.gov.br/transparencia/liquidacoes/detalhes/2016/07/49', 'https://fronteiradosvales.mg.gov.br/transparencia/diarias/detalhes/2020/9/117', 'https://fronteiradosvales.mg.gov.br/transparencia/editais/2020/08/2', 'https://fronteiradosvales.mg.gov.br/transparencia/liquidacoes/detalhes/2015/10/40', 'https://fronteiradosvales.mg.gov.br/transparencia/relatorios/detalhes/3', 'https://fronteiradosvales.mg.gov.br/transparencia/diarias/detalhes/2018/3/75', 'https://fronteiradosvales.mg.gov.br/transparencia/empenhos/detalhes/2014/03/21', 'https://fronteiradosvales.mg.gov.br/transparencia/licitacoes/detalhes/2016/06/48', 'https://fronteiradosvales.mg.gov.br/transparencia/receitas/detalhes/2014/09/27', 'https://fronteiradosvales.mg.gov.br/transparencia/pagamentos/detalhes/2015/10/40', 'https://fronteiradosvales.mg.gov.br/transparencia/contratos/detalhes/2014/03/21', 'https://fronteiradosvales.mg.gov.br/transparencia/receitas/detalhes/2015/09/39', 'https://fronteiradosvales.mg.gov.br/transparencia/receitas/detalhes/2019/06/102', 'https://fronteiradosvales.mg.gov.br/transparencia/liquidacoes/detalhes/2015/08/38', 'https://fronteiradosvales.mg.gov.br/transparencia/diarias/detalhes/2015/5/35', 'https://fronteiradosvales.mg.gov.br/transparencia/receitas/detalhes/2013/08/92', 'https://fronteiradosvales.mg.gov.br/transparencia/liquidacoes/detalhes/2018/09/81', 'https://fronteiradosvales.mg.gov.br/transparencia/dispensas/detalhes/2017/07/61', 'https://fronteiradosvales.mg.gov.br/transparencia/licitacoes/detalhes/2016/09/51', 'https://fronteiradosvales.mg.gov.br/transparencia/diarias/detalhes/2017/2/56', 'https://fronteiradosvales.mg.gov.br/transparencia/licitacoes/detalhes/2020/07/115', 'https://fronteiradosvales.mg.gov.br/transparencia/editais/2020/04/6', 'https://fronteiradosvales.mg.gov.br/transparencia/receitas/detalhes/2020/02/110', 'https://fronteiradosvales.mg.gov.br/transparencia/licitacoes/detalhes/2019/11/106', 'https://fronteiradosvales.mg.gov.br/transparencia/licitacoes/detalhes/2018/12/84', 'https://fronteiradosvales.mg.gov.br/transparencia/empenhos/detalhes/2016/07/49', 'https://fronteiradosvales.mg.gov.br/transparencia/licitacoes/detalhes/2019/05/101', 'https://fronteiradosvales.mg.gov.br/transparencia/receitas/detalhes/2013/04/88', 'https://fronteiradosvales.mg.gov.br/transparencia/diarias/detalhes/2015/10/40', 'https://fronteiradosvales.mg.gov.br/transparencia/diarias/detalhes/2020/4/112', 'https://fronteiradosvales.mg.gov.br/transparencia/empenhos/detalhes/2021/04/125', 'https://fronteiradosvales.mg.gov.br/transparencia/liquidacoes/detalhes/2020/10/118', 'https://fronteiradosvales.mg.gov.br/transparencia/liquidacoes/detalhes/2020/01/109', 'https://fronteiradosvales.mg.gov.br/transparencia/receitas/detalhes/2021/11/132', 'https://fronteiradosvales.mg.gov.br/transparencia/diarias/detalhes/2016/8/50', 'https://fronteiradosvales.mg.gov.br/transparencia/contratos/detalhes/2021/12/131', 'https://fronteiradosvales.mg.gov.br/transparencia/diarias/detalhes/2016/5/47', 'https://fronteiradosvales.mg.gov.br/transparencia/licitacoes/detalhes/2015/10/40', 'https://fronteiradosvales.mg.gov.br/transparencia/dispensas/detalhes/2021/01/122', 'https://fronteiradosvales.mg.gov.br/transparencia/pagamentos/detalhes/2021/09/129', 'https://fronteiradosvales.mg.gov.br/transparencia/pagamentos/detalhes/2018/08/80', 'https://fronteiradosvales.mg.gov.br/transparencia/empenhos/detalhes/2015/03/33', 'https://fronteiradosvales.mg.gov.br/transparencia/licitacoes/detalhes/2016/03/45', 'https://fronteiradosvales.mg.gov.br/transparencia/empenhos/detalhes/2019/06/102', 'https://fronteiradosvales.mg.gov.br/transparencia/relatorios/detalhes/4', 'https://fronteiradosvales.mg.gov.br/transparencia/pagamentos/detalhes/2019/12/105', 'https://fronteiradosvales.mg.gov.br/transparencia/empenhos/detalhes/2021/11/132', 'https://fronteiradosvales.mg.gov.br/transparencia/licitacoes/detalhes/2017/04/58', 'https://fronteiradosvales.mg.gov.br/transparencia/liquidacoes/detalhes/2017/03/57', 'https://fronteiradosvales.mg.gov.br/transparencia/licitacoes/detalhes/2017/06/60', 'https://fronteiradosvales.mg.gov.br/transparencia/pagamentos/detalhes/2014/12/30', 'https://fronteiradosvales.mg.gov.br/transparencia/pagamentos/detalhes/2014/03/21', 'https://fronteiradosvales.mg.gov.br/transparencia/empenhos/detalhes/2018/04/76', 'https://fronteiradosvales.mg.gov.br/transparencia/receitas/detalhes/2013/11/95', 'https://fronteiradosvales.mg.gov.br/transparencia/liquidacoes/detalhes/2015/11/41', 'https://fronteiradosvales.mg.gov.br/transparencia/dispensas/detalhes/2015/04/34', 'https://fronteiradosvales.mg.gov.br/transparencia/liquidacoes/detalhes/2019/11/106', 'https://fronteiradosvales.mg.gov.br/transparencia/contratos/detalhes/2015/02/32', 'https://fronteiradosvales.mg.gov.br/transparencia/dispensas/detalhes/2018/04/76', 'https://fronteiradosvales.mg.gov.br/transparencia/empenhos/detalhes/2019/07/103', 'https://fronteiradosvales.mg.gov.br/transparencia/liquidacoes/detalhes/2014/02/20', 'https://fronteiradosvales.mg.gov.br/transparencia/contratos/detalhes/2019/08/104', 'https://fronteiradosvales.mg.gov.br/transparencia/contratos/detalhes/2016/09/51', 'https://fronteiradosvales.mg.gov.br/transparencia/licitacoes/detalhes/2019/06/102', 'https://fronteiradosvales.mg.gov.br/transparencia/receitas/detalhes/2016/03/45', 'https://fronteiradosvales.mg.gov.br/transparencia/empenhos/detalhes/2022/05/137', 'https://fronteiradosvales.mg.gov.br/transparencia/diarias/detalhes/2015/2/32', 'https://fronteiradosvales.mg.gov.br/transparencia/dispensas/detalhes/2018/03/75', 'https://fronteiradosvales.mg.gov.br/transparencia/liquidacoes/detalhes/2017/06/60', 'https://fronteiradosvales.mg.gov.br/transparencia/pagamentos/detalhes/2017/01/55', 'https://fronteiradosvales.mg.gov.br/transparencia/liquidacoes/detalhes/2016/05/47', 'https://fronteiradosvales.mg.gov.br/transparencia/diarias/detalhes/2016/9/51', 'https://fronteiradosvales.mg.gov.br/transparencia/contratos/detalhes/2014/12/30']\n",
    "#filtrados = filtrar_links_redundantes(todos_links)\n",
    "\n",
    "#print(len(todos_links), len(filtrados))"
   ]
  },
  {
   "cell_type": "markdown",
   "id": "f540b785",
   "metadata": {},
   "source": [
    "## Navegando iterativamente pelos links gerados"
   ]
  },
  {
   "cell_type": "markdown",
   "id": "c6d55bcd",
   "metadata": {},
   "source": [
    "Agora que é possível gerar links e filtrá-los, deve-se fazer isso com os novos links gerados para que se recupere as informações desejadas a partir da página inicial"
   ]
  },
  {
   "cell_type": "code",
   "execution_count": 16,
   "id": "330c6044",
   "metadata": {},
   "outputs": [],
   "source": [
    "async def crawl(pagina_inicial, profundidade, restricao, loop, nao_exibir):\n",
    "    \n",
    "    paginas_visitadas = set()\n",
    "    paginas = set()\n",
    "    paginas.add(pagina_inicial)\n",
    "    dic = dict()\n",
    "    \n",
    "    print(\"Paginas visitadas:\", paginas_visitadas)\n",
    "    print(\"Paginas:\", paginas)\n",
    "\n",
    "    for i in range(1, profundidade+1):\n",
    "        \n",
    "        dic[i] = []\n",
    "        \n",
    "        novas_paginas = set()\n",
    "        print(\"Actual depth: \" + str(i))\n",
    "        \n",
    "        for pagina in paginas:\n",
    "            \n",
    "            paginas_visitadas.add(pagina)\n",
    "            resultados = await loop.create_task(gerar_links(pagina, nao_exibir))\n",
    "            \n",
    "            links = list(set(resultados))\n",
    "            links = filtrar_links_tags(links)\n",
    "            links = filtrar_links_redundantes(links)\n",
    "            links = [l for l in links if l.startswith(restricao)]\n",
    "    \n",
    "            dic[i] += links\n",
    "            novas_paginas = novas_paginas.union(set(links))\n",
    "        \n",
    "        paginas = novas_paginas.difference(paginas_visitadas)\n",
    "        \n",
    "        print(\"Paginas visitadas:\", paginas_visitadas)\n",
    "        print(\"Paginas:\", paginas)\n",
    "        print(\"Novas paginas\", novas_paginas)\n",
    "        \n",
    "    return dic"
   ]
  },
  {
   "cell_type": "markdown",
   "id": "1f0a93c4",
   "metadata": {},
   "source": [
    "## Conversão dos resultados para uma lista"
   ]
  },
  {
   "cell_type": "markdown",
   "id": "dfe7660c",
   "metadata": {},
   "source": [
    "Os resultados gerados estão a nível de profundidade da url encontrada, o que pode ser relevante futuramente. Para aplicação atual, converte-se o dicionário para uma lista."
   ]
  },
  {
   "cell_type": "code",
   "execution_count": 3,
   "id": "1130b1b3",
   "metadata": {},
   "outputs": [],
   "source": [
    "def dic_to_list(dic):\n",
    "    \n",
    "    urls = []\n",
    "    \n",
    "    for key, value in dic.items():\n",
    "        urls.extend(value)\n",
    "        \n",
    "    return urls"
   ]
  },
  {
   "cell_type": "markdown",
   "id": "e692fcdc",
   "metadata": {},
   "source": [
    "## Função para explorar varias urls"
   ]
  },
  {
   "cell_type": "markdown",
   "id": "9568be1f",
   "metadata": {},
   "source": [
    "A função a seguir permite explorar mais de uma url. As urls geradas são guardadas em um arquivo .txt"
   ]
  },
  {
   "cell_type": "code",
   "execution_count": 41,
   "id": "338e8ef8",
   "metadata": {},
   "outputs": [],
   "source": [
    "async def explorar_urls(urls, profundidade, nao_exibir):\n",
    "    \n",
    "    for url in urls:\n",
    "        \n",
    "        loop = asyncio.get_event_loop()\n",
    "        loop_externo = asyncio.get_event_loop()\n",
    "        resultados = await loop_externo.create_task(crawl(url, profundidade, url[:15], loop, nao_exibir))\n",
    "        urls_encontradas = dic_to_list(resultados)\n",
    "        \n",
    "        \n",
    "        arq = open(\"urls.txt\", \"a\")\n",
    "        string = str(urls_encontradas)[1:-1].replace(\", \", \"\\n\").replace(\"'\", \"\")\n",
    "        arq.write(string)\n",
    "        arq.write(\"\\n\")\n",
    "        arq.close()"
   ]
  }
 ],
 "metadata": {
  "kernelspec": {
   "display_name": "Python 3 (ipykernel)",
   "language": "python",
   "name": "python3"
  },
  "language_info": {
   "codemirror_mode": {
    "name": "ipython",
    "version": 3
   },
   "file_extension": ".py",
   "mimetype": "text/x-python",
   "name": "python",
   "nbconvert_exporter": "python",
   "pygments_lexer": "ipython3",
   "version": "3.8.10"
  }
 },
 "nbformat": 4,
 "nbformat_minor": 5
}
