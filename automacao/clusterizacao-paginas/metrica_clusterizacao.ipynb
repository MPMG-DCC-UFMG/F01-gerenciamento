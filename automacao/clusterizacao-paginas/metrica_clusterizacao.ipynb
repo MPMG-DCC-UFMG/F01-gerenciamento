{
 "cells": [
  {
   "cell_type": "markdown",
   "id": "6602ce50",
   "metadata": {},
   "source": [
    "# Métrica para clusterização"
   ]
  },
  {
   "cell_type": "markdown",
   "id": "129a3a7a",
   "metadata": {},
   "source": [
    "Para medir a semelhança entre o processamento dinâmico de diferentes páginas, parece razoável comparar os botões presentes em cada uma dessas páginas. Para se fazer isso, são necessárias as seguintes bibliotecas:"
   ]
  },
  {
   "cell_type": "code",
   "execution_count": 6,
   "id": "8144b645",
   "metadata": {},
   "outputs": [],
   "source": [
    "import urllib3\n",
    "import jellyfish\n",
    "import requests\n",
    "import numpy as np\n",
    "import asyncio\n",
    "\n",
    "from bs4 import BeautifulSoup\n",
    "from urllib.parse import urljoin\n",
    "from urllib3.exceptions import *\n",
    "from html_similarity import style_similarity, structural_similarity, similarity\n",
    "\n",
    "from selenium import webdriver\n",
    "from selenium.webdriver.chrome.options import Options\n",
    "from playwright.async_api import async_playwright"
   ]
  },
  {
   "cell_type": "markdown",
   "id": "d02bd1d9",
   "metadata": {},
   "source": [
    "Definindo as opções de inicialização do selenium:"
   ]
  },
  {
   "cell_type": "code",
   "execution_count": 7,
   "id": "f97cf3fc",
   "metadata": {},
   "outputs": [],
   "source": [
    "options = Options()\n",
    "options.add_argument(\"--disable-notifications\")\n",
    "options.add_argument(\"--disable-popup-blocking\")\n",
    "options.add_argument(\"--disable-web-security\")\n",
    "options.add_argument('--headless')"
   ]
  },
  {
   "cell_type": "markdown",
   "id": "c3376247",
   "metadata": {},
   "source": [
    "Há duas funções para extração de botões de uma página. A princípio, utilizará-se a primeira."
   ]
  },
  {
   "cell_type": "code",
   "execution_count": 8,
   "id": "834b02a1",
   "metadata": {},
   "outputs": [],
   "source": [
    "def extrair_botoes_selenium(url):\n",
    "\n",
    "    resultados = \"\"\n",
    "\n",
    "    driver = webdriver.Chrome(options=options)\n",
    "    driver.get(url)\n",
    "\n",
    "    html = driver.page_source\n",
    "    driver.quit()\n",
    "\n",
    "    soup = BeautifulSoup(html, 'html.parser')\n",
    "    buttons = soup.find_all('button')\n",
    "    for button in buttons:\n",
    "        resultados+=str(button)+\"\\n\"\n",
    "        \n",
    "    return resultados"
   ]
  },
  {
   "cell_type": "code",
   "execution_count": 9,
   "id": "2f854274",
   "metadata": {},
   "outputs": [],
   "source": [
    "async def extrair_botoes_playwright(url):\n",
    "    \n",
    "    playwright = await async_playwright().start()\n",
    "    browser = await playwright.chromium.launch(headless = True)\n",
    "    page = await browser.new_page()\n",
    "    await page.goto(url)\n",
    "    \n",
    "    resultados = \"\"\n",
    "\n",
    "    try:\n",
    "        html = await page.content()\n",
    "        \n",
    "    except:\n",
    "        await page.close()\n",
    "        await browser.close()\n",
    "        \n",
    "        return \"Error: \" + url_page\n",
    "    \n",
    "    soup = BeautifulSoup(html, 'html.parser')\n",
    "    buttons = soup.find_all('button')\n",
    "    for button in buttons:\n",
    "        resultados+=str(button)+\"\\n\"\n",
    "        \n",
    "    await page.close()\n",
    "    await browser.close()\n",
    "        \n",
    "    return resultados"
   ]
  },
  {
   "cell_type": "markdown",
   "id": "2d0a579e",
   "metadata": {},
   "source": [
    "A função a seguir gera um resultado de similaridade entre as duas instâncias de botões passadas."
   ]
  },
  {
   "cell_type": "code",
   "execution_count": 11,
   "id": "f0ee20eb",
   "metadata": {},
   "outputs": [],
   "source": [
    "def gerar_resultado(botoes_1, botoes_2):\n",
    "    \n",
    "    return similarity(botoes_1, botoes_2)"
   ]
  },
  {
   "cell_type": "markdown",
   "id": "5fc0af4a",
   "metadata": {},
   "source": [
    "Faz-se necessário transformar um conjunto de urls para um conjunto de botões. Pode ser vista como uma etapa de pré-processamento."
   ]
  },
  {
   "cell_type": "code",
   "execution_count": 28,
   "id": "308d090c",
   "metadata": {},
   "outputs": [],
   "source": [
    "def links_para_botoes(urls):\n",
    "    \n",
    "    botoes = []\n",
    "    \n",
    "    for url in urls:\n",
    "\n",
    "        if url != \"\":\n",
    "            \n",
    "            try:\n",
    "                resultado = extrair_botoes_selenium(url)\n",
    "                botoes.append(resultado)\n",
    "\n",
    "            except Exception as e:\n",
    "                print(e)\n",
    "                \n",
    "        else:\n",
    "            continue\n",
    "        \n",
    "    arq_botoes = open(\"botoes.txt\", \"a\")\n",
    "    arq_botoes.write(str(botoes))\n",
    "    arq_botoes.close()"
   ]
  },
  {
   "cell_type": "markdown",
   "id": "f5cd99f4",
   "metadata": {},
   "source": [
    "Por fim, a última função gera a matriz de distâncias diretamente dos dados produzidos. Essa matriz será simétrica."
   ]
  },
  {
   "cell_type": "code",
   "execution_count": 1,
   "id": "c736259e",
   "metadata": {},
   "outputs": [],
   "source": [
    "def gerar_matriz_distancias(dados):\n",
    "    \n",
    "    tam = len(dados)\n",
    "    resultados = np.ones((tam, tam), dtype = np.float32)\n",
    "    \n",
    "    for i in range(0, tam):\n",
    "        for j in range(0, i+1):\n",
    "            similaridade = gerar_resultado(dados[i], dados[j])\n",
    "            if i != j:\n",
    "                resultados[i,j] -= similaridade\n",
    "            resultados[j,i] -= similaridade\n",
    "            \n",
    "            \n",
    "    return resultados\n",
    "        "
   ]
  },
  {
   "cell_type": "code",
   "execution_count": null,
   "id": "9c8bf14a",
   "metadata": {},
   "outputs": [],
   "source": []
  }
 ],
 "metadata": {
  "kernelspec": {
   "display_name": "Python 3 (ipykernel)",
   "language": "python",
   "name": "python3"
  },
  "language_info": {
   "codemirror_mode": {
    "name": "ipython",
    "version": 3
   },
   "file_extension": ".py",
   "mimetype": "text/x-python",
   "name": "python",
   "nbconvert_exporter": "python",
   "pygments_lexer": "ipython3",
   "version": "3.8.10"
  }
 },
 "nbformat": 4,
 "nbformat_minor": 5
}
