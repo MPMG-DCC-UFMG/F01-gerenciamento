{
 "cells": [
  {
   "cell_type": "markdown",
   "id": "a83db105",
   "metadata": {},
   "source": [
    "## Separação de páginas de acordo com o coletor necessário"
   ]
  },
  {
   "cell_type": "markdown",
   "id": "51c6eb5d",
   "metadata": {},
   "source": [
    "Dado uma página inicial de portal de transparência de uma prefeitura, é de interesse que possamos gerar links a partir dela e separar essses links gerados de acordo com subtags de dados a serem coletados (o que é tarefa para um classificador de páginas) e principalmente considerando o coletor necessário para recuperação da informação (tema abordado nesse notebook). A hipótese inicial é que isso pode ser feito comparando e clusterizando as páginas de acordo com sua estrutura, seu estilo ou considerando os botões presentes nela."
   ]
  },
  {
   "cell_type": "code",
   "execution_count": 1,
   "id": "d33cc1ef",
   "metadata": {},
   "outputs": [
    {
     "name": "stdout",
     "output_type": "stream",
     "text": [
      "/usr/lib/python3/dist-packages/secretstorage/dhcrypto.py:15: CryptographyDeprecationWarning: int_from_bytes is deprecated, use int.from_bytes instead\n",
      "  from cryptography.utils import int_from_bytes\n",
      "/usr/lib/python3/dist-packages/secretstorage/util.py:19: CryptographyDeprecationWarning: int_from_bytes is deprecated, use int.from_bytes instead\n",
      "  from cryptography.utils import int_from_bytes\n",
      "Defaulting to user installation because normal site-packages is not writeable\n",
      "Requirement already satisfied: jellyfish in /home/arthur/.local/lib/python3.8/site-packages (0.9.0)\n",
      "\n",
      "\u001b[1m[\u001b[0m\u001b[34;49mnotice\u001b[0m\u001b[1;39;49m]\u001b[0m\u001b[39;49m A new release of pip available: \u001b[0m\u001b[31;49m22.3\u001b[0m\u001b[39;49m -> \u001b[0m\u001b[32;49m23.0.1\u001b[0m\n",
      "\u001b[1m[\u001b[0m\u001b[34;49mnotice\u001b[0m\u001b[1;39;49m]\u001b[0m\u001b[39;49m To update, run: \u001b[0m\u001b[32;49mpython3 -m pip install --upgrade pip\u001b[0m\n",
      "/usr/lib/python3/dist-packages/secretstorage/dhcrypto.py:15: CryptographyDeprecationWarning: int_from_bytes is deprecated, use int.from_bytes instead\n",
      "  from cryptography.utils import int_from_bytes\n",
      "/usr/lib/python3/dist-packages/secretstorage/util.py:19: CryptographyDeprecationWarning: int_from_bytes is deprecated, use int.from_bytes instead\n",
      "  from cryptography.utils import int_from_bytes\n",
      "Defaulting to user installation because normal site-packages is not writeable\n",
      "Requirement already satisfied: html-similarity in /home/arthur/.local/lib/python3.8/site-packages (0.3.3)\n",
      "Requirement already satisfied: parsel==1.6.0 in /home/arthur/.local/lib/python3.8/site-packages (from html-similarity) (1.6.0)\n",
      "Requirement already satisfied: w3lib>=1.19.0 in /home/arthur/.local/lib/python3.8/site-packages (from parsel==1.6.0->html-similarity) (1.22.0)\n",
      "Requirement already satisfied: lxml in /home/arthur/.local/lib/python3.8/site-packages (from parsel==1.6.0->html-similarity) (4.8.0)\n",
      "Requirement already satisfied: six>=1.6.0 in /home/arthur/.local/lib/python3.8/site-packages (from parsel==1.6.0->html-similarity) (1.16.0)\n",
      "Requirement already satisfied: cssselect>=0.9 in /home/arthur/.local/lib/python3.8/site-packages (from parsel==1.6.0->html-similarity) (1.1.0)\n",
      "\n",
      "\u001b[1m[\u001b[0m\u001b[34;49mnotice\u001b[0m\u001b[1;39;49m]\u001b[0m\u001b[39;49m A new release of pip available: \u001b[0m\u001b[31;49m22.3\u001b[0m\u001b[39;49m -> \u001b[0m\u001b[32;49m23.0.1\u001b[0m\n",
      "\u001b[1m[\u001b[0m\u001b[34;49mnotice\u001b[0m\u001b[1;39;49m]\u001b[0m\u001b[39;49m To update, run: \u001b[0m\u001b[32;49mpython3 -m pip install --upgrade pip\u001b[0m\n"
     ]
    }
   ],
   "source": [
    "!pip install jellyfish\n",
    "!pip install html-similarity"
   ]
  },
  {
   "cell_type": "code",
   "execution_count": 2,
   "id": "cf3249e9",
   "metadata": {},
   "outputs": [],
   "source": [
    "import urllib3\n",
    "import jellyfish\n",
    "import requests\n",
    "import asyncio\n",
    "import os\n",
    "import time\n",
    "import cv2\n",
    "import numpy as np\n",
    "\n",
    "from bs4 import BeautifulSoup\n",
    "from urllib.parse import urljoin\n",
    "from urllib3.exceptions import *\n",
    "from html_similarity import style_similarity, structural_similarity, similarity\n",
    "\n",
    "from selenium import webdriver\n",
    "from selenium.webdriver.chrome.options import Options\n",
    "from playwright.async_api import async_playwright\n",
    "\n",
    "\n",
    "options = Options()\n",
    "options.add_argument(\"--disable-notifications\")\n",
    "options.add_argument(\"--disable-popup-blocking\")\n",
    "options.add_argument(\"--disable-web-security\")\n",
    "options.add_argument('--headless')"
   ]
  },
  {
   "cell_type": "markdown",
   "id": "87b27733",
   "metadata": {},
   "source": [
    "A seguir, há algumas páginas do Template 2. Essas páginas foram agrupadas de acordo com os coletores necessários para cada grupo, excetuando-se a paginas_extras, que se tratam de páginas isoladas do template. O ideal é que páginas de mesmo grupo (excetuando-se o último) apresentem resultados bem proximos entre si e resultados distantes de páginas de outros grupos. Assim, para que se possa mensurar isso, testou-se utilizando diversas métricas."
   ]
  },
  {
   "cell_type": "code",
   "execution_count": 3,
   "id": "d1f47a9b",
   "metadata": {},
   "outputs": [],
   "source": [
    "paginas_base = [\"https://sardoa.mg.gov.br/transparencia/empenhos\", \n",
    "                \"https://sardoa.mg.gov.br/transparencia/pagamentos\",\n",
    "                \"https://sardoa.mg.gov.br/transparencia/receitas\"]\n",
    "\n",
    "coletor_1 = [\"https://sardoa.mg.gov.br/transparencia/folhas-de-pagamento/detalhes?indSituacaoServidorPensionista%5B0%5D=P&indSituacaoServidorPensionista%5B1%5D=03&IDE_FLPGO_id=35&ano=2015\",\n",
    "             \"https://sardoa.mg.gov.br/transparencia/empenhos/detalhes/2022/02/118\",\n",
    "             \"https://sardoa.mg.gov.br/transparencia/pagamentos/detalhes/2022/02/118\"]\n",
    "\n",
    "coletor_2 = [\"https://sardoa.mg.gov.br/transparencia/empenhos/exibir/2022/02/33089\",\n",
    "             \"https://sardoa.mg.gov.br/transparencia/pagamentos/exibir/2021/12/35798\",\n",
    "             \"https://sardoa.mg.gov.br/transparencia/empenhos/exibir/2022/05/34915\"]\n",
    "\n",
    "paginas_extras = [\"https://sardoa.mg.gov.br/transparencia\",\n",
    "                  \"https://sardoa.mg.gov.br/transparencia/folhas-de-pagamento\",\n",
    "                  \"https://sardoa.mg.gov.br/transparencia/coronavirus\"]\n",
    "\n",
    "testes = paginas_base + coletor_1 + coletor_2 + paginas_extras"
   ]
  },
  {
   "cell_type": "markdown",
   "id": "25b14fcc",
   "metadata": {},
   "source": [
    "Assim, geram-se matrizes de similaridade de acordo com cada uma das métricas consideradas. Nessa matriz, as submatrizes 3x3 que começam nos elementos [0][0], [3][3] e [6][6] idealmente devem possuir valores próximos e que indiquem alta semelhança, o que é um sinal de que um mesmo coletor pode ser utilizado."
   ]
  },
  {
   "cell_type": "code",
   "execution_count": 4,
   "id": "31565f2e",
   "metadata": {},
   "outputs": [],
   "source": [
    "RED   = \"\\033[1;31m\"  \n",
    "BLUE  = \"\\033[1;34m\"\n",
    "CYAN  = \"\\033[1;36m\"\n",
    "GREEN = \"\\033[0;32m\"\n",
    "RESET = \"\\033[0;0m\" "
   ]
  },
  {
   "cell_type": "code",
   "execution_count": 36,
   "id": "52185ddc",
   "metadata": {
    "scrolled": true
   },
   "outputs": [],
   "source": [
    "def gerarResultados(metrica, dados):\n",
    "    \n",
    "    similares = 0\n",
    "    nao_similares = 0\n",
    "    \n",
    "    for i in range(len(dados)):\n",
    "        for j in range(len(dados)):\n",
    "            resultado = metrica(dados[i], dados[j])\n",
    "            string = f\"{resultado:.2f}\"\n",
    "            if i<3 and j< 3:\n",
    "                print(GREEN + string, end = \" \")\n",
    "                if i != j:\n",
    "                    similares += resultado\n",
    "            elif i<6 and i>2 and j<6 and j>2:\n",
    "                print(BLUE + string, end = \" \")\n",
    "                if i != j:\n",
    "                    similares += resultado\n",
    "            elif i<9 and i>5 and j<9 and j>5:\n",
    "                print(CYAN + string, end = \" \")\n",
    "                if i != j:\n",
    "                    similares += resultado\n",
    "            else:\n",
    "                print(RED + string, end = \" \")\n",
    "                if i != j:\n",
    "                    nao_similares += resultado\n",
    "        print(\"\\n\")\n",
    "        \n",
    "    print(RESET + \"Similaridade Desejada Média = \" + f\"{(similares/18):.2f}\")\n",
    "    print(\"Similaridade Não Desejada Média = \" + f\"{(nao_similares/114):.2f}\")"
   ]
  },
  {
   "cell_type": "markdown",
   "id": "be80f56b",
   "metadata": {},
   "source": [
    "## Similaridade entre strings usando Jellyfish"
   ]
  },
  {
   "cell_type": "code",
   "execution_count": 17,
   "id": "adf0c9b3",
   "metadata": {},
   "outputs": [],
   "source": [
    "def extrairHtml(url):\n",
    "\n",
    "    driver = webdriver.Chrome(options=options)\n",
    "    driver.get(url)\n",
    "    urllib3.disable_warnings(urllib3.exceptions.InsecureRequestWarning)\n",
    "    \n",
    "    try:\n",
    "        soup = BeautifulSoup(driver.page_source, \"lxml\")\n",
    "        \n",
    "        driver.close()\n",
    "        \n",
    "        for elm in soup.find_all():\n",
    "            if not elm.find(recursive=False):\n",
    "                elm.string = ''\n",
    "            elm.attrs = {}\n",
    "            \n",
    "        html = str(soup.prettify()).replace(\"\\n\", \"\")\n",
    "            \n",
    "        return html.replace(\" \", \"\")\n",
    "\n",
    "    \n",
    "    except:\n",
    "        driver.close()\n",
    "        \n",
    "        print(\"Erro ao tentar abrir a pagina: \" + url)"
   ]
  },
  {
   "cell_type": "code",
   "execution_count": null,
   "id": "d906f047",
   "metadata": {},
   "outputs": [],
   "source": [
    "extrairHtml(\"https://sardoa.mg.gov.br/transparencia/coronavirus\")"
   ]
  },
  {
   "cell_type": "code",
   "execution_count": 7,
   "id": "df02747f",
   "metadata": {},
   "outputs": [],
   "source": [
    "testes_1 = [extrairHtml(teste) for teste in testes]"
   ]
  },
  {
   "cell_type": "code",
   "execution_count": 17,
   "id": "87a20e78",
   "metadata": {
    "scrolled": true
   },
   "outputs": [
    {
     "name": "stdout",
     "output_type": "stream",
     "text": [
      "\u001b[0;32m1.00 \u001b[0;32m1.00 \u001b[0;32m0.92 \u001b[1;31m0.85 \u001b[1;31m0.90 \u001b[1;31m0.86 \u001b[1;31m0.77 \u001b[1;31m0.77 \u001b[1;31m0.77 \u001b[1;31m0.78 \u001b[1;31m0.75 \u001b[1;31m0.75 \n",
      "\n",
      "\u001b[0;32m1.00 \u001b[0;32m1.00 \u001b[0;32m0.92 \u001b[1;31m0.85 \u001b[1;31m0.90 \u001b[1;31m0.86 \u001b[1;31m0.77 \u001b[1;31m0.77 \u001b[1;31m0.77 \u001b[1;31m0.78 \u001b[1;31m0.75 \u001b[1;31m0.75 \n",
      "\n",
      "\u001b[0;32m0.92 \u001b[0;32m0.92 \u001b[0;32m1.00 \u001b[1;31m0.85 \u001b[1;31m0.90 \u001b[1;31m0.86 \u001b[1;31m0.77 \u001b[1;31m0.77 \u001b[1;31m0.77 \u001b[1;31m0.78 \u001b[1;31m0.75 \u001b[1;31m0.74 \n",
      "\n",
      "\u001b[1;31m0.85 \u001b[1;31m0.85 \u001b[1;31m0.85 \u001b[1;34m1.00 \u001b[1;34m0.87 \u001b[1;34m0.93 \u001b[1;31m0.85 \u001b[1;31m0.85 \u001b[1;31m0.85 \u001b[1;31m0.83 \u001b[1;31m0.84 \u001b[1;31m0.83 \n",
      "\n",
      "\u001b[1;31m0.90 \u001b[1;31m0.90 \u001b[1;31m0.90 \u001b[1;34m0.87 \u001b[1;34m1.00 \u001b[1;34m0.89 \u001b[1;31m0.78 \u001b[1;31m0.78 \u001b[1;31m0.78 \u001b[1;31m0.79 \u001b[1;31m0.77 \u001b[1;31m0.76 \n",
      "\n",
      "\u001b[1;31m0.86 \u001b[1;31m0.86 \u001b[1;31m0.86 \u001b[1;34m0.93 \u001b[1;34m0.89 \u001b[1;34m1.00 \u001b[1;31m0.84 \u001b[1;31m0.83 \u001b[1;31m0.84 \u001b[1;31m0.84 \u001b[1;31m0.82 \u001b[1;31m0.81 \n",
      "\n",
      "\u001b[1;31m0.77 \u001b[1;31m0.77 \u001b[1;31m0.77 \u001b[1;31m0.85 \u001b[1;31m0.78 \u001b[1;31m0.84 \u001b[1;36m1.00 \u001b[1;36m0.97 \u001b[1;36m1.00 \u001b[1;31m0.91 \u001b[1;31m0.93 \u001b[1;31m0.92 \n",
      "\n",
      "\u001b[1;31m0.77 \u001b[1;31m0.77 \u001b[1;31m0.77 \u001b[1;31m0.85 \u001b[1;31m0.78 \u001b[1;31m0.83 \u001b[1;36m0.97 \u001b[1;36m1.00 \u001b[1;36m0.97 \u001b[1;31m0.91 \u001b[1;31m0.93 \u001b[1;31m0.92 \n",
      "\n",
      "\u001b[1;31m0.77 \u001b[1;31m0.77 \u001b[1;31m0.77 \u001b[1;31m0.85 \u001b[1;31m0.78 \u001b[1;31m0.84 \u001b[1;36m1.00 \u001b[1;36m0.97 \u001b[1;36m1.00 \u001b[1;31m0.91 \u001b[1;31m0.93 \u001b[1;31m0.92 \n",
      "\n",
      "\u001b[1;31m0.78 \u001b[1;31m0.78 \u001b[1;31m0.78 \u001b[1;31m0.83 \u001b[1;31m0.79 \u001b[1;31m0.84 \u001b[1;31m0.91 \u001b[1;31m0.91 \u001b[1;31m0.91 \u001b[1;31m1.00 \u001b[1;31m0.92 \u001b[1;31m0.91 \n",
      "\n",
      "\u001b[1;31m0.75 \u001b[1;31m0.75 \u001b[1;31m0.75 \u001b[1;31m0.84 \u001b[1;31m0.77 \u001b[1;31m0.82 \u001b[1;31m0.93 \u001b[1;31m0.93 \u001b[1;31m0.93 \u001b[1;31m0.92 \u001b[1;31m1.00 \u001b[1;31m0.95 \n",
      "\n",
      "\u001b[1;31m0.75 \u001b[1;31m0.75 \u001b[1;31m0.74 \u001b[1;31m0.83 \u001b[1;31m0.76 \u001b[1;31m0.81 \u001b[1;31m0.92 \u001b[1;31m0.92 \u001b[1;31m0.92 \u001b[1;31m0.91 \u001b[1;31m0.95 \u001b[1;31m1.00 \n",
      "\n",
      "\u001b[0;0mSimilaridade Desejada Média = 0.94\n",
      "Similaridade Não Desejada Média = 0.83\n"
     ]
    }
   ],
   "source": [
    "gerarResultados(jellyfish.jaro_distance, testes_1)"
   ]
  },
  {
   "cell_type": "code",
   "execution_count": 18,
   "id": "75dd54ba",
   "metadata": {},
   "outputs": [
    {
     "name": "stdout",
     "output_type": "stream",
     "text": [
      "\u001b[0;32m0.00 \u001b[0;32m0.00 \u001b[0;32m2325.00 \u001b[1;31m2306.00 \u001b[1;31m2106.00 \u001b[1;31m2306.00 \u001b[1;31m4031.00 \u001b[1;31m4028.00 \u001b[1;31m4031.00 \u001b[1;31m3967.00 \u001b[1;31m4057.00 \u001b[1;31m4071.00 \n",
      "\n",
      "\u001b[0;32m0.00 \u001b[0;32m0.00 \u001b[0;32m2325.00 \u001b[1;31m2306.00 \u001b[1;31m2106.00 \u001b[1;31m2306.00 \u001b[1;31m4031.00 \u001b[1;31m4028.00 \u001b[1;31m4031.00 \u001b[1;31m3967.00 \u001b[1;31m4057.00 \u001b[1;31m4071.00 \n",
      "\n",
      "\u001b[0;32m2325.00 \u001b[0;32m2325.00 \u001b[0;32m0.00 \u001b[1;31m2385.00 \u001b[1;31m2210.00 \u001b[1;31m2338.00 \u001b[1;31m4053.00 \u001b[1;31m4056.00 \u001b[1;31m4053.00 \u001b[1;31m4018.00 \u001b[1;31m4071.00 \u001b[1;31m4107.00 \n",
      "\n",
      "\u001b[1;31m2306.00 \u001b[1;31m2306.00 \u001b[1;31m2385.00 \u001b[1;34m0.00 \u001b[1;34m2035.00 \u001b[1;34m1188.00 \u001b[1;31m2673.00 \u001b[1;31m2677.00 \u001b[1;31m2673.00 \u001b[1;31m2705.00 \u001b[1;31m2704.00 \u001b[1;31m2722.00 \n",
      "\n",
      "\u001b[1;31m2106.00 \u001b[1;31m2106.00 \u001b[1;31m2210.00 \u001b[1;34m2035.00 \u001b[1;34m0.00 \u001b[1;34m1821.00 \u001b[1;31m3799.00 \u001b[1;31m3786.00 \u001b[1;31m3799.00 \u001b[1;31m3778.00 \u001b[1;31m3820.00 \u001b[1;31m3853.00 \n",
      "\n",
      "\u001b[1;31m2306.00 \u001b[1;31m2306.00 \u001b[1;31m2338.00 \u001b[1;34m1188.00 \u001b[1;34m1821.00 \u001b[1;34m0.00 \u001b[1;31m2946.00 \u001b[1;31m2943.00 \u001b[1;31m2946.00 \u001b[1;31m2904.00 \u001b[1;31m2992.00 \u001b[1;31m3000.00 \n",
      "\n",
      "\u001b[1;31m4031.00 \u001b[1;31m4031.00 \u001b[1;31m4053.00 \u001b[1;31m2673.00 \u001b[1;31m3799.00 \u001b[1;31m2946.00 \u001b[1;36m0.00 \u001b[1;36m631.00 \u001b[1;36m0.00 \u001b[1;31m1143.00 \u001b[1;31m1017.00 \u001b[1;31m1034.00 \n",
      "\n",
      "\u001b[1;31m4028.00 \u001b[1;31m4028.00 \u001b[1;31m4056.00 \u001b[1;31m2677.00 \u001b[1;31m3786.00 \u001b[1;31m2943.00 \u001b[1;36m631.00 \u001b[1;36m0.00 \u001b[1;36m631.00 \u001b[1;31m1159.00 \u001b[1;31m964.00 \u001b[1;31m989.00 \n",
      "\n",
      "\u001b[1;31m4031.00 \u001b[1;31m4031.00 \u001b[1;31m4053.00 \u001b[1;31m2673.00 \u001b[1;31m3799.00 \u001b[1;31m2946.00 \u001b[1;36m0.00 \u001b[1;36m631.00 \u001b[1;36m0.00 \u001b[1;31m1143.00 \u001b[1;31m1017.00 \u001b[1;31m1034.00 \n",
      "\n",
      "\u001b[1;31m3967.00 \u001b[1;31m3967.00 \u001b[1;31m4018.00 \u001b[1;31m2705.00 \u001b[1;31m3778.00 \u001b[1;31m2904.00 \u001b[1;31m1143.00 \u001b[1;31m1159.00 \u001b[1;31m1143.00 \u001b[1;31m0.00 \u001b[1;31m1190.00 \u001b[1;31m1202.00 \n",
      "\n",
      "\u001b[1;31m4057.00 \u001b[1;31m4057.00 \u001b[1;31m4071.00 \u001b[1;31m2704.00 \u001b[1;31m3820.00 \u001b[1;31m2992.00 \u001b[1;31m1017.00 \u001b[1;31m964.00 \u001b[1;31m1017.00 \u001b[1;31m1190.00 \u001b[1;31m0.00 \u001b[1;31m701.00 \n",
      "\n",
      "\u001b[1;31m4071.00 \u001b[1;31m4071.00 \u001b[1;31m4107.00 \u001b[1;31m2722.00 \u001b[1;31m3853.00 \u001b[1;31m3000.00 \u001b[1;31m1034.00 \u001b[1;31m989.00 \u001b[1;31m1034.00 \u001b[1;31m1202.00 \u001b[1;31m701.00 \u001b[1;31m0.00 \n",
      "\n",
      "\u001b[0;0mSimilaridade Desejada Média = 1217.33\n",
      "Similaridade Não Desejada Média = 2849.30\n"
     ]
    }
   ],
   "source": [
    "gerarResultados(jellyfish.hamming_distance, testes_1)"
   ]
  },
  {
   "cell_type": "code",
   "execution_count": 19,
   "id": "7d85753d",
   "metadata": {},
   "outputs": [
    {
     "name": "stdout",
     "output_type": "stream",
     "text": [
      "\u001b[0;32m1.00 \u001b[0;32m1.00 \u001b[0;32m0.95 \u001b[1;31m0.91 \u001b[1;31m0.94 \u001b[1;31m0.92 \u001b[1;31m0.86 \u001b[1;31m0.86 \u001b[1;31m0.86 \u001b[1;31m0.87 \u001b[1;31m0.85 \u001b[1;31m0.85 \n",
      "\n",
      "\u001b[0;32m1.00 \u001b[0;32m1.00 \u001b[0;32m0.95 \u001b[1;31m0.91 \u001b[1;31m0.94 \u001b[1;31m0.92 \u001b[1;31m0.86 \u001b[1;31m0.86 \u001b[1;31m0.86 \u001b[1;31m0.87 \u001b[1;31m0.85 \u001b[1;31m0.85 \n",
      "\n",
      "\u001b[0;32m0.95 \u001b[0;32m0.95 \u001b[0;32m1.00 \u001b[1;31m0.91 \u001b[1;31m0.94 \u001b[1;31m0.92 \u001b[1;31m0.86 \u001b[1;31m0.86 \u001b[1;31m0.86 \u001b[1;31m0.87 \u001b[1;31m0.85 \u001b[1;31m0.85 \n",
      "\n",
      "\u001b[1;31m0.91 \u001b[1;31m0.91 \u001b[1;31m0.91 \u001b[1;34m1.00 \u001b[1;34m0.92 \u001b[1;34m0.96 \u001b[1;31m0.91 \u001b[1;31m0.91 \u001b[1;31m0.91 \u001b[1;31m0.90 \u001b[1;31m0.90 \u001b[1;31m0.90 \n",
      "\n",
      "\u001b[1;31m0.94 \u001b[1;31m0.94 \u001b[1;31m0.94 \u001b[1;34m0.92 \u001b[1;34m1.00 \u001b[1;34m0.93 \u001b[1;31m0.87 \u001b[1;31m0.87 \u001b[1;31m0.87 \u001b[1;31m0.87 \u001b[1;31m0.86 \u001b[1;31m0.85 \n",
      "\n",
      "\u001b[1;31m0.92 \u001b[1;31m0.92 \u001b[1;31m0.92 \u001b[1;34m0.96 \u001b[1;34m0.93 \u001b[1;34m1.00 \u001b[1;31m0.90 \u001b[1;31m0.90 \u001b[1;31m0.90 \u001b[1;31m0.91 \u001b[1;31m0.89 \u001b[1;31m0.88 \n",
      "\n",
      "\u001b[1;31m0.86 \u001b[1;31m0.86 \u001b[1;31m0.86 \u001b[1;31m0.91 \u001b[1;31m0.87 \u001b[1;31m0.90 \u001b[1;36m1.00 \u001b[1;36m0.98 \u001b[1;36m1.00 \u001b[1;31m0.95 \u001b[1;31m0.96 \u001b[1;31m0.95 \n",
      "\n",
      "\u001b[1;31m0.86 \u001b[1;31m0.86 \u001b[1;31m0.86 \u001b[1;31m0.91 \u001b[1;31m0.87 \u001b[1;31m0.90 \u001b[1;36m0.98 \u001b[1;36m1.00 \u001b[1;36m0.98 \u001b[1;31m0.95 \u001b[1;31m0.96 \u001b[1;31m0.95 \n",
      "\n",
      "\u001b[1;31m0.86 \u001b[1;31m0.86 \u001b[1;31m0.86 \u001b[1;31m0.91 \u001b[1;31m0.87 \u001b[1;31m0.90 \u001b[1;36m1.00 \u001b[1;36m0.98 \u001b[1;36m1.00 \u001b[1;31m0.95 \u001b[1;31m0.96 \u001b[1;31m0.95 \n",
      "\n",
      "\u001b[1;31m0.87 \u001b[1;31m0.87 \u001b[1;31m0.87 \u001b[1;31m0.90 \u001b[1;31m0.87 \u001b[1;31m0.91 \u001b[1;31m0.95 \u001b[1;31m0.95 \u001b[1;31m0.95 \u001b[1;31m1.00 \u001b[1;31m0.95 \u001b[1;31m0.94 \n",
      "\n",
      "\u001b[1;31m0.85 \u001b[1;31m0.85 \u001b[1;31m0.85 \u001b[1;31m0.90 \u001b[1;31m0.86 \u001b[1;31m0.89 \u001b[1;31m0.96 \u001b[1;31m0.96 \u001b[1;31m0.96 \u001b[1;31m0.95 \u001b[1;31m1.00 \u001b[1;31m0.97 \n",
      "\n",
      "\u001b[1;31m0.85 \u001b[1;31m0.85 \u001b[1;31m0.85 \u001b[1;31m0.90 \u001b[1;31m0.85 \u001b[1;31m0.88 \u001b[1;31m0.95 \u001b[1;31m0.95 \u001b[1;31m0.95 \u001b[1;31m0.94 \u001b[1;31m0.97 \u001b[1;31m1.00 \n",
      "\n",
      "\u001b[0;0mSimilaridade Desejada Média = 0.96\n",
      "Similaridade Não Desejada Média = 0.90\n"
     ]
    }
   ],
   "source": [
    "gerarResultados(jellyfish.jaro_winkler, testes_1)"
   ]
  },
  {
   "cell_type": "markdown",
   "id": "4b26ed0f",
   "metadata": {},
   "source": [
    "## HTML similarity"
   ]
  },
  {
   "cell_type": "code",
   "execution_count": 20,
   "id": "8572b597",
   "metadata": {},
   "outputs": [
    {
     "name": "stdout",
     "output_type": "stream",
     "text": [
      "\u001b[0;32m1.00 \u001b[0;32m1.00 \u001b[0;32m1.00 \u001b[1;31m0.76 \u001b[1;31m0.71 \u001b[1;31m0.80 \u001b[1;31m0.69 \u001b[1;31m0.69 \u001b[1;31m0.69 \u001b[1;31m0.62 \u001b[1;31m0.68 \u001b[1;31m0.70 \n",
      "\n",
      "\u001b[0;32m1.00 \u001b[0;32m1.00 \u001b[0;32m1.00 \u001b[1;31m0.76 \u001b[1;31m0.71 \u001b[1;31m0.80 \u001b[1;31m0.69 \u001b[1;31m0.69 \u001b[1;31m0.69 \u001b[1;31m0.62 \u001b[1;31m0.68 \u001b[1;31m0.70 \n",
      "\n",
      "\u001b[0;32m1.00 \u001b[0;32m1.00 \u001b[0;32m1.00 \u001b[1;31m0.76 \u001b[1;31m0.71 \u001b[1;31m0.80 \u001b[1;31m0.69 \u001b[1;31m0.69 \u001b[1;31m0.69 \u001b[1;31m0.62 \u001b[1;31m0.68 \u001b[1;31m0.70 \n",
      "\n",
      "\u001b[1;31m0.76 \u001b[1;31m0.76 \u001b[1;31m0.76 \u001b[1;34m1.00 \u001b[1;34m0.78 \u001b[1;34m0.91 \u001b[1;31m0.83 \u001b[1;31m0.83 \u001b[1;31m0.83 \u001b[1;31m0.76 \u001b[1;31m0.86 \u001b[1;31m0.88 \n",
      "\n",
      "\u001b[1;31m0.71 \u001b[1;31m0.71 \u001b[1;31m0.71 \u001b[1;34m0.78 \u001b[1;34m1.00 \u001b[1;34m0.84 \u001b[1;31m0.68 \u001b[1;31m0.68 \u001b[1;31m0.68 \u001b[1;31m0.63 \u001b[1;31m0.70 \u001b[1;31m0.71 \n",
      "\n",
      "\u001b[1;31m0.80 \u001b[1;31m0.80 \u001b[1;31m0.80 \u001b[1;34m0.91 \u001b[1;34m0.84 \u001b[1;34m1.00 \u001b[1;31m0.79 \u001b[1;31m0.79 \u001b[1;31m0.79 \u001b[1;31m0.73 \u001b[1;31m0.82 \u001b[1;31m0.84 \n",
      "\n",
      "\u001b[1;31m0.70 \u001b[1;31m0.70 \u001b[1;31m0.69 \u001b[1;31m0.84 \u001b[1;31m0.69 \u001b[1;31m0.81 \u001b[1;36m1.00 \u001b[1;36m0.99 \u001b[1;36m1.00 \u001b[1;31m0.80 \u001b[1;31m0.89 \u001b[1;31m0.92 \n",
      "\n",
      "\u001b[1;31m0.70 \u001b[1;31m0.70 \u001b[1;31m0.70 \u001b[1;31m0.85 \u001b[1;31m0.69 \u001b[1;31m0.81 \u001b[1;36m0.99 \u001b[1;36m1.00 \u001b[1;36m0.99 \u001b[1;31m0.80 \u001b[1;31m0.90 \u001b[1;31m0.93 \n",
      "\n",
      "\u001b[1;31m0.70 \u001b[1;31m0.70 \u001b[1;31m0.69 \u001b[1;31m0.84 \u001b[1;31m0.69 \u001b[1;31m0.81 \u001b[1;36m1.00 \u001b[1;36m0.99 \u001b[1;36m1.00 \u001b[1;31m0.80 \u001b[1;31m0.89 \u001b[1;31m0.92 \n",
      "\n",
      "\u001b[1;31m0.62 \u001b[1;31m0.62 \u001b[1;31m0.62 \u001b[1;31m0.76 \u001b[1;31m0.63 \u001b[1;31m0.73 \u001b[1;31m0.80 \u001b[1;31m0.80 \u001b[1;31m0.80 \u001b[1;31m1.00 \u001b[1;31m0.82 \u001b[1;31m0.85 \n",
      "\n",
      "\u001b[1;31m0.68 \u001b[1;31m0.68 \u001b[1;31m0.68 \u001b[1;31m0.86 \u001b[1;31m0.70 \u001b[1;31m0.82 \u001b[1;31m0.89 \u001b[1;31m0.90 \u001b[1;31m0.89 \u001b[1;31m0.82 \u001b[1;31m1.00 \u001b[1;31m0.95 \n",
      "\n",
      "\u001b[1;31m0.70 \u001b[1;31m0.70 \u001b[1;31m0.70 \u001b[1;31m0.88 \u001b[1;31m0.71 \u001b[1;31m0.84 \u001b[1;31m0.92 \u001b[1;31m0.93 \u001b[1;31m0.92 \u001b[1;31m0.85 \u001b[1;31m0.95 \u001b[1;31m1.00 \n",
      "\n",
      "\u001b[0;0mSimilaridade Desejada Média = 0.95\n",
      "Similaridade Não Desejada Média = 0.76\n"
     ]
    }
   ],
   "source": [
    "gerarResultados(structural_similarity, testes_1)"
   ]
  },
  {
   "cell_type": "code",
   "execution_count": 21,
   "id": "baff6e47",
   "metadata": {},
   "outputs": [
    {
     "name": "stdout",
     "output_type": "stream",
     "text": [
      "\u001b[0;32m1.00 \u001b[0;32m1.00 \u001b[0;32m1.00 \u001b[1;31m0.88 \u001b[1;31m0.86 \u001b[1;31m0.90 \u001b[1;31m0.84 \u001b[1;31m0.85 \u001b[1;31m0.84 \u001b[1;31m0.81 \u001b[1;31m0.84 \u001b[1;31m0.85 \n",
      "\n",
      "\u001b[0;32m1.00 \u001b[0;32m1.00 \u001b[0;32m1.00 \u001b[1;31m0.88 \u001b[1;31m0.86 \u001b[1;31m0.90 \u001b[1;31m0.84 \u001b[1;31m0.85 \u001b[1;31m0.84 \u001b[1;31m0.81 \u001b[1;31m0.84 \u001b[1;31m0.85 \n",
      "\n",
      "\u001b[0;32m1.00 \u001b[0;32m1.00 \u001b[0;32m1.00 \u001b[1;31m0.88 \u001b[1;31m0.86 \u001b[1;31m0.90 \u001b[1;31m0.84 \u001b[1;31m0.85 \u001b[1;31m0.84 \u001b[1;31m0.81 \u001b[1;31m0.84 \u001b[1;31m0.85 \n",
      "\n",
      "\u001b[1;31m0.88 \u001b[1;31m0.88 \u001b[1;31m0.88 \u001b[1;34m1.00 \u001b[1;34m0.89 \u001b[1;34m0.96 \u001b[1;31m0.91 \u001b[1;31m0.92 \u001b[1;31m0.91 \u001b[1;31m0.88 \u001b[1;31m0.93 \u001b[1;31m0.94 \n",
      "\n",
      "\u001b[1;31m0.86 \u001b[1;31m0.86 \u001b[1;31m0.86 \u001b[1;34m0.89 \u001b[1;34m1.00 \u001b[1;34m0.92 \u001b[1;31m0.84 \u001b[1;31m0.84 \u001b[1;31m0.84 \u001b[1;31m0.81 \u001b[1;31m0.85 \u001b[1;31m0.86 \n",
      "\n",
      "\u001b[1;31m0.90 \u001b[1;31m0.90 \u001b[1;31m0.90 \u001b[1;34m0.96 \u001b[1;34m0.92 \u001b[1;34m1.00 \u001b[1;31m0.89 \u001b[1;31m0.90 \u001b[1;31m0.89 \u001b[1;31m0.86 \u001b[1;31m0.91 \u001b[1;31m0.92 \n",
      "\n",
      "\u001b[1;31m0.85 \u001b[1;31m0.85 \u001b[1;31m0.85 \u001b[1;31m0.92 \u001b[1;31m0.85 \u001b[1;31m0.90 \u001b[1;36m1.00 \u001b[1;36m1.00 \u001b[1;36m1.00 \u001b[1;31m0.90 \u001b[1;31m0.95 \u001b[1;31m0.96 \n",
      "\n",
      "\u001b[1;31m0.85 \u001b[1;31m0.85 \u001b[1;31m0.85 \u001b[1;31m0.93 \u001b[1;31m0.85 \u001b[1;31m0.91 \u001b[1;36m1.00 \u001b[1;36m1.00 \u001b[1;36m1.00 \u001b[1;31m0.90 \u001b[1;31m0.95 \u001b[1;31m0.96 \n",
      "\n",
      "\u001b[1;31m0.85 \u001b[1;31m0.85 \u001b[1;31m0.85 \u001b[1;31m0.92 \u001b[1;31m0.85 \u001b[1;31m0.90 \u001b[1;36m1.00 \u001b[1;36m1.00 \u001b[1;36m1.00 \u001b[1;31m0.90 \u001b[1;31m0.95 \u001b[1;31m0.96 \n",
      "\n",
      "\u001b[1;31m0.81 \u001b[1;31m0.81 \u001b[1;31m0.81 \u001b[1;31m0.88 \u001b[1;31m0.81 \u001b[1;31m0.86 \u001b[1;31m0.90 \u001b[1;31m0.90 \u001b[1;31m0.90 \u001b[1;31m1.00 \u001b[1;31m0.91 \u001b[1;31m0.93 \n",
      "\n",
      "\u001b[1;31m0.84 \u001b[1;31m0.84 \u001b[1;31m0.84 \u001b[1;31m0.93 \u001b[1;31m0.85 \u001b[1;31m0.91 \u001b[1;31m0.95 \u001b[1;31m0.95 \u001b[1;31m0.95 \u001b[1;31m0.91 \u001b[1;31m1.00 \u001b[1;31m0.98 \n",
      "\n",
      "\u001b[1;31m0.85 \u001b[1;31m0.85 \u001b[1;31m0.85 \u001b[1;31m0.94 \u001b[1;31m0.86 \u001b[1;31m0.92 \u001b[1;31m0.96 \u001b[1;31m0.96 \u001b[1;31m0.96 \u001b[1;31m0.92 \u001b[1;31m0.98 \u001b[1;31m1.00 \n",
      "\n",
      "\u001b[0;0mSimilaridade Desejada Média = 0.97\n",
      "Similaridade Não Desejada Média = 0.88\n"
     ]
    }
   ],
   "source": [
    "gerarResultados(similarity, testes_1)"
   ]
  },
  {
   "cell_type": "code",
   "execution_count": 6,
   "id": "ef4b94fd",
   "metadata": {},
   "outputs": [],
   "source": [
    "def extrairHtmlCompleto(url):\n",
    "\n",
    "    driver = webdriver.Chrome(options=options)\n",
    "    driver.get(url)\n",
    "    urllib3.disable_warnings(urllib3.exceptions.InsecureRequestWarning)\n",
    "    \n",
    "    try:\n",
    "        soup = BeautifulSoup(driver.page_source, \"lxml\")\n",
    "        driver.close()\n",
    "        \n",
    "        html = str(soup)\n",
    "            \n",
    "        return html\n",
    "    \n",
    "    except:\n",
    "        driver.close()\n",
    "        print(\"Erro ao tentar abrir a pagina: \" + url)"
   ]
  },
  {
   "cell_type": "code",
   "execution_count": 14,
   "id": "bdd1467f",
   "metadata": {},
   "outputs": [],
   "source": [
    "testes_2 = [extrairHtmlCompleto(teste) for teste in testes]"
   ]
  },
  {
   "cell_type": "code",
   "execution_count": 23,
   "id": "37258f80",
   "metadata": {},
   "outputs": [
    {
     "name": "stdout",
     "output_type": "stream",
     "text": [
      "\u001b[0;32m1.00 \u001b[0;32m1.00 \u001b[0;32m1.00 \u001b[1;31m0.77 \u001b[1;31m0.71 \u001b[1;31m0.80 \u001b[1;31m0.63 \u001b[1;31m0.69 \u001b[1;31m0.63 \u001b[1;31m0.62 \u001b[1;31m0.63 \u001b[1;31m0.70 \n",
      "\n",
      "\u001b[0;32m1.00 \u001b[0;32m1.00 \u001b[0;32m1.00 \u001b[1;31m0.77 \u001b[1;31m0.71 \u001b[1;31m0.80 \u001b[1;31m0.63 \u001b[1;31m0.69 \u001b[1;31m0.63 \u001b[1;31m0.62 \u001b[1;31m0.63 \u001b[1;31m0.70 \n",
      "\n",
      "\u001b[0;32m1.00 \u001b[0;32m1.00 \u001b[0;32m1.00 \u001b[1;31m0.77 \u001b[1;31m0.71 \u001b[1;31m0.80 \u001b[1;31m0.63 \u001b[1;31m0.69 \u001b[1;31m0.63 \u001b[1;31m0.62 \u001b[1;31m0.63 \u001b[1;31m0.70 \n",
      "\n",
      "\u001b[1;31m0.77 \u001b[1;31m0.77 \u001b[1;31m0.77 \u001b[1;34m1.00 \u001b[1;34m0.82 \u001b[1;34m0.93 \u001b[1;31m0.72 \u001b[1;31m0.80 \u001b[1;31m0.72 \u001b[1;31m0.73 \u001b[1;31m0.74 \u001b[1;31m0.84 \n",
      "\n",
      "\u001b[1;31m0.71 \u001b[1;31m0.71 \u001b[1;31m0.71 \u001b[1;34m0.82 \u001b[1;34m1.00 \u001b[1;34m0.84 \u001b[1;31m0.62 \u001b[1;31m0.68 \u001b[1;31m0.62 \u001b[1;31m0.63 \u001b[1;31m0.64 \u001b[1;31m0.71 \n",
      "\n",
      "\u001b[1;31m0.80 \u001b[1;31m0.80 \u001b[1;31m0.80 \u001b[1;34m0.93 \u001b[1;34m0.84 \u001b[1;34m1.00 \u001b[1;31m0.72 \u001b[1;31m0.79 \u001b[1;31m0.72 \u001b[1;31m0.73 \u001b[1;31m0.74 \u001b[1;31m0.84 \n",
      "\n",
      "\u001b[1;31m0.64 \u001b[1;31m0.64 \u001b[1;31m0.64 \u001b[1;31m0.73 \u001b[1;31m0.64 \u001b[1;31m0.73 \u001b[1;36m1.00 \u001b[1;36m0.90 \u001b[1;36m1.00 \u001b[1;31m0.73 \u001b[1;31m0.91 \u001b[1;31m0.83 \n",
      "\n",
      "\u001b[1;31m0.70 \u001b[1;31m0.70 \u001b[1;31m0.70 \u001b[1;31m0.81 \u001b[1;31m0.69 \u001b[1;31m0.81 \u001b[1;36m0.90 \u001b[1;36m1.00 \u001b[1;36m0.90 \u001b[1;31m0.80 \u001b[1;31m0.81 \u001b[1;31m0.93 \n",
      "\n",
      "\u001b[1;31m0.64 \u001b[1;31m0.64 \u001b[1;31m0.64 \u001b[1;31m0.73 \u001b[1;31m0.64 \u001b[1;31m0.73 \u001b[1;36m1.00 \u001b[1;36m0.90 \u001b[1;36m1.00 \u001b[1;31m0.73 \u001b[1;31m0.91 \u001b[1;31m0.83 \n",
      "\n",
      "\u001b[1;31m0.62 \u001b[1;31m0.62 \u001b[1;31m0.62 \u001b[1;31m0.73 \u001b[1;31m0.63 \u001b[1;31m0.73 \u001b[1;31m0.73 \u001b[1;31m0.80 \u001b[1;31m0.73 \u001b[1;31m1.00 \u001b[1;31m0.74 \u001b[1;31m0.85 \n",
      "\n",
      "\u001b[1;31m0.63 \u001b[1;31m0.63 \u001b[1;31m0.63 \u001b[1;31m0.74 \u001b[1;31m0.64 \u001b[1;31m0.74 \u001b[1;31m0.91 \u001b[1;31m0.81 \u001b[1;31m0.91 \u001b[1;31m0.74 \u001b[1;31m1.00 \u001b[1;31m0.85 \n",
      "\n",
      "\u001b[1;31m0.70 \u001b[1;31m0.70 \u001b[1;31m0.70 \u001b[1;31m0.84 \u001b[1;31m0.71 \u001b[1;31m0.84 \u001b[1;31m0.83 \u001b[1;31m0.93 \u001b[1;31m0.83 \u001b[1;31m0.85 \u001b[1;31m0.85 \u001b[1;31m1.00 \n",
      "\n",
      "\u001b[0;0mSimilaridade Desejada Média = 0.93\n",
      "Similaridade Não Desejada Média = 0.73\n"
     ]
    }
   ],
   "source": [
    "gerarResultados(structural_similarity, testes_2)"
   ]
  },
  {
   "cell_type": "code",
   "execution_count": 68,
   "id": "a1626d74",
   "metadata": {},
   "outputs": [
    {
     "name": "stdout",
     "output_type": "stream",
     "text": [
      "\u001b[0;32m1.00 \u001b[0;32m1.00 \u001b[0;32m0.99 \u001b[1;31m0.76 \u001b[1;31m0.88 \u001b[1;31m0.88 \u001b[1;31m0.53 \u001b[1;31m0.53 \u001b[1;31m0.53 \u001b[1;31m0.51 \u001b[1;31m0.54 \u001b[1;31m0.56 \n",
      "\n",
      "\u001b[0;32m1.00 \u001b[0;32m1.00 \u001b[0;32m0.99 \u001b[1;31m0.76 \u001b[1;31m0.88 \u001b[1;31m0.88 \u001b[1;31m0.53 \u001b[1;31m0.53 \u001b[1;31m0.53 \u001b[1;31m0.51 \u001b[1;31m0.54 \u001b[1;31m0.56 \n",
      "\n",
      "\u001b[0;32m0.99 \u001b[0;32m0.99 \u001b[0;32m1.00 \u001b[1;31m0.75 \u001b[1;31m0.87 \u001b[1;31m0.88 \u001b[1;31m0.52 \u001b[1;31m0.52 \u001b[1;31m0.52 \u001b[1;31m0.51 \u001b[1;31m0.54 \u001b[1;31m0.55 \n",
      "\n",
      "\u001b[1;31m0.76 \u001b[1;31m0.76 \u001b[1;31m0.75 \u001b[1;34m1.00 \u001b[1;34m0.85 \u001b[1;34m0.86 \u001b[1;31m0.65 \u001b[1;31m0.65 \u001b[1;31m0.65 \u001b[1;31m0.66 \u001b[1;31m0.70 \u001b[1;31m0.72 \n",
      "\n",
      "\u001b[1;31m0.88 \u001b[1;31m0.88 \u001b[1;31m0.87 \u001b[1;34m0.85 \u001b[1;34m1.00 \u001b[1;34m0.99 \u001b[1;31m0.57 \u001b[1;31m0.57 \u001b[1;31m0.57 \u001b[1;31m0.57 \u001b[1;31m0.61 \u001b[1;31m0.63 \n",
      "\n",
      "\u001b[1;31m0.88 \u001b[1;31m0.88 \u001b[1;31m0.88 \u001b[1;34m0.86 \u001b[1;34m0.99 \u001b[1;34m1.00 \u001b[1;31m0.58 \u001b[1;31m0.58 \u001b[1;31m0.58 \u001b[1;31m0.58 \u001b[1;31m0.61 \u001b[1;31m0.63 \n",
      "\n",
      "\u001b[1;31m0.53 \u001b[1;31m0.53 \u001b[1;31m0.52 \u001b[1;31m0.65 \u001b[1;31m0.57 \u001b[1;31m0.58 \u001b[1;36m1.00 \u001b[1;36m0.93 \u001b[1;36m1.00 \u001b[1;31m0.76 \u001b[1;31m0.81 \u001b[1;31m0.84 \n",
      "\n",
      "\u001b[1;31m0.53 \u001b[1;31m0.53 \u001b[1;31m0.52 \u001b[1;31m0.65 \u001b[1;31m0.57 \u001b[1;31m0.58 \u001b[1;36m0.93 \u001b[1;36m1.00 \u001b[1;36m0.93 \u001b[1;31m0.76 \u001b[1;31m0.81 \u001b[1;31m0.84 \n",
      "\n",
      "\u001b[1;31m0.53 \u001b[1;31m0.53 \u001b[1;31m0.52 \u001b[1;31m0.65 \u001b[1;31m0.57 \u001b[1;31m0.58 \u001b[1;36m1.00 \u001b[1;36m0.93 \u001b[1;36m1.00 \u001b[1;31m0.76 \u001b[1;31m0.81 \u001b[1;31m0.84 \n",
      "\n",
      "\u001b[1;31m0.51 \u001b[1;31m0.51 \u001b[1;31m0.51 \u001b[1;31m0.66 \u001b[1;31m0.57 \u001b[1;31m0.58 \u001b[1;31m0.76 \u001b[1;31m0.76 \u001b[1;31m0.76 \u001b[1;31m1.00 \u001b[1;31m0.94 \u001b[1;31m0.90 \n",
      "\n",
      "\u001b[1;31m0.54 \u001b[1;31m0.54 \u001b[1;31m0.54 \u001b[1;31m0.70 \u001b[1;31m0.61 \u001b[1;31m0.61 \u001b[1;31m0.81 \u001b[1;31m0.81 \u001b[1;31m0.81 \u001b[1;31m0.94 \u001b[1;31m1.00 \u001b[1;31m0.96 \n",
      "\n",
      "\u001b[1;31m0.56 \u001b[1;31m0.56 \u001b[1;31m0.55 \u001b[1;31m0.72 \u001b[1;31m0.63 \u001b[1;31m0.63 \u001b[1;31m0.84 \u001b[1;31m0.84 \u001b[1;31m0.84 \u001b[1;31m0.90 \u001b[1;31m0.96 \u001b[1;31m1.00 \n",
      "\n"
     ]
    }
   ],
   "source": [
    "gerarResultados(style_similarity, testes_2)"
   ]
  },
  {
   "cell_type": "code",
   "execution_count": 24,
   "id": "af09c1f8",
   "metadata": {},
   "outputs": [
    {
     "name": "stdout",
     "output_type": "stream",
     "text": [
      "\u001b[0;32m1.00 \u001b[0;32m1.00 \u001b[0;32m0.99 \u001b[1;31m0.81 \u001b[1;31m0.80 \u001b[1;31m0.83 \u001b[1;31m0.54 \u001b[1;31m0.61 \u001b[1;31m0.54 \u001b[1;31m0.57 \u001b[1;31m0.55 \u001b[1;31m0.64 \n",
      "\n",
      "\u001b[0;32m1.00 \u001b[0;32m1.00 \u001b[0;32m0.99 \u001b[1;31m0.81 \u001b[1;31m0.80 \u001b[1;31m0.83 \u001b[1;31m0.54 \u001b[1;31m0.61 \u001b[1;31m0.54 \u001b[1;31m0.57 \u001b[1;31m0.55 \u001b[1;31m0.64 \n",
      "\n",
      "\u001b[0;32m0.99 \u001b[0;32m0.99 \u001b[0;32m1.00 \u001b[1;31m0.80 \u001b[1;31m0.79 \u001b[1;31m0.83 \u001b[1;31m0.54 \u001b[1;31m0.61 \u001b[1;31m0.54 \u001b[1;31m0.57 \u001b[1;31m0.54 \u001b[1;31m0.63 \n",
      "\n",
      "\u001b[1;31m0.81 \u001b[1;31m0.81 \u001b[1;31m0.80 \u001b[1;34m1.00 \u001b[1;34m0.88 \u001b[1;34m0.94 \u001b[1;31m0.61 \u001b[1;31m0.70 \u001b[1;31m0.61 \u001b[1;31m0.67 \u001b[1;31m0.63 \u001b[1;31m0.75 \n",
      "\n",
      "\u001b[1;31m0.80 \u001b[1;31m0.80 \u001b[1;31m0.79 \u001b[1;34m0.88 \u001b[1;34m1.00 \u001b[1;34m0.90 \u001b[1;31m0.55 \u001b[1;31m0.63 \u001b[1;31m0.55 \u001b[1;31m0.61 \u001b[1;31m0.57 \u001b[1;31m0.67 \n",
      "\n",
      "\u001b[1;31m0.83 \u001b[1;31m0.83 \u001b[1;31m0.83 \u001b[1;34m0.94 \u001b[1;34m0.90 \u001b[1;34m1.00 \u001b[1;31m0.61 \u001b[1;31m0.70 \u001b[1;31m0.61 \u001b[1;31m0.66 \u001b[1;31m0.63 \u001b[1;31m0.75 \n",
      "\n",
      "\u001b[1;31m0.55 \u001b[1;31m0.55 \u001b[1;31m0.55 \u001b[1;31m0.62 \u001b[1;31m0.56 \u001b[1;31m0.61 \u001b[1;36m1.00 \u001b[1;36m0.81 \u001b[1;36m1.00 \u001b[1;31m0.66 \u001b[1;31m0.88 \u001b[1;31m0.74 \n",
      "\n",
      "\u001b[1;31m0.62 \u001b[1;31m0.62 \u001b[1;31m0.62 \u001b[1;31m0.71 \u001b[1;31m0.64 \u001b[1;31m0.70 \u001b[1;36m0.81 \u001b[1;36m1.00 \u001b[1;36m0.81 \u001b[1;31m0.78 \u001b[1;31m0.72 \u001b[1;31m0.89 \n",
      "\n",
      "\u001b[1;31m0.55 \u001b[1;31m0.55 \u001b[1;31m0.55 \u001b[1;31m0.62 \u001b[1;31m0.56 \u001b[1;31m0.61 \u001b[1;36m1.00 \u001b[1;36m0.81 \u001b[1;36m1.00 \u001b[1;31m0.66 \u001b[1;31m0.88 \u001b[1;31m0.74 \n",
      "\n",
      "\u001b[1;31m0.57 \u001b[1;31m0.57 \u001b[1;31m0.57 \u001b[1;31m0.67 \u001b[1;31m0.61 \u001b[1;31m0.66 \u001b[1;31m0.66 \u001b[1;31m0.78 \u001b[1;31m0.66 \u001b[1;31m1.00 \u001b[1;31m0.72 \u001b[1;31m0.88 \n",
      "\n",
      "\u001b[1;31m0.55 \u001b[1;31m0.55 \u001b[1;31m0.54 \u001b[1;31m0.63 \u001b[1;31m0.57 \u001b[1;31m0.63 \u001b[1;31m0.88 \u001b[1;31m0.72 \u001b[1;31m0.88 \u001b[1;31m0.72 \u001b[1;31m1.00 \u001b[1;31m0.78 \n",
      "\n",
      "\u001b[1;31m0.64 \u001b[1;31m0.64 \u001b[1;31m0.63 \u001b[1;31m0.75 \u001b[1;31m0.67 \u001b[1;31m0.75 \u001b[1;31m0.74 \u001b[1;31m0.89 \u001b[1;31m0.74 \u001b[1;31m0.88 \u001b[1;31m0.78 \u001b[1;31m1.00 \n",
      "\n",
      "\u001b[0;0mSimilaridade Desejada Média = 0.93\n",
      "Similaridade Não Desejada Média = 0.68\n"
     ]
    }
   ],
   "source": [
    "gerarResultados(similarity, testes_2)"
   ]
  },
  {
   "cell_type": "markdown",
   "id": "7b35631c",
   "metadata": {},
   "source": [
    "## Extração de botões??"
   ]
  },
  {
   "cell_type": "code",
   "execution_count": 25,
   "id": "1d2cca15",
   "metadata": {},
   "outputs": [],
   "source": [
    "def extrairBotoes(url):\n",
    "\n",
    "    resultados = \"\"\n",
    "    \n",
    "    page = requests.get(url)\n",
    "    data = page.text\n",
    "    soup = BeautifulSoup(data, 'html.parser')\n",
    "    \n",
    "    buttons = soup.find_all('button')\n",
    "    for button in buttons:\n",
    "        resultados+=str(button) + \"\\n\"\n",
    "        \n",
    "    return resultados"
   ]
  },
  {
   "cell_type": "code",
   "execution_count": 26,
   "id": "4c8a5f47",
   "metadata": {},
   "outputs": [],
   "source": [
    "testes_3 = [extrairBotoes(teste) for teste in testes]"
   ]
  },
  {
   "cell_type": "code",
   "execution_count": 27,
   "id": "208e40b9",
   "metadata": {},
   "outputs": [
    {
     "name": "stdout",
     "output_type": "stream",
     "text": [
      "\u001b[0;32m1.00 \u001b[0;32m1.00 \u001b[0;32m0.90 \u001b[1;31m0.61 \u001b[1;31m0.61 \u001b[1;31m0.61 \u001b[1;31m0.61 \u001b[1;31m0.61 \u001b[1;31m0.61 \u001b[1;31m0.61 \u001b[1;31m0.61 \u001b[1;31m0.61 \n",
      "\n",
      "\u001b[0;32m1.00 \u001b[0;32m1.00 \u001b[0;32m0.90 \u001b[1;31m0.61 \u001b[1;31m0.61 \u001b[1;31m0.61 \u001b[1;31m0.61 \u001b[1;31m0.61 \u001b[1;31m0.61 \u001b[1;31m0.61 \u001b[1;31m0.61 \u001b[1;31m0.61 \n",
      "\n",
      "\u001b[0;32m0.90 \u001b[0;32m0.90 \u001b[0;32m1.00 \u001b[1;31m0.55 \u001b[1;31m0.55 \u001b[1;31m0.55 \u001b[1;31m0.55 \u001b[1;31m0.55 \u001b[1;31m0.55 \u001b[1;31m0.55 \u001b[1;31m0.55 \u001b[1;31m0.55 \n",
      "\n",
      "\u001b[1;31m0.61 \u001b[1;31m0.61 \u001b[1;31m0.55 \u001b[1;34m1.00 \u001b[1;34m1.00 \u001b[1;34m1.00 \u001b[1;31m1.00 \u001b[1;31m1.00 \u001b[1;31m1.00 \u001b[1;31m1.00 \u001b[1;31m1.00 \u001b[1;31m1.00 \n",
      "\n",
      "\u001b[1;31m0.61 \u001b[1;31m0.61 \u001b[1;31m0.55 \u001b[1;34m1.00 \u001b[1;34m1.00 \u001b[1;34m1.00 \u001b[1;31m1.00 \u001b[1;31m1.00 \u001b[1;31m1.00 \u001b[1;31m1.00 \u001b[1;31m1.00 \u001b[1;31m1.00 \n",
      "\n",
      "\u001b[1;31m0.61 \u001b[1;31m0.61 \u001b[1;31m0.55 \u001b[1;34m1.00 \u001b[1;34m1.00 \u001b[1;34m1.00 \u001b[1;31m1.00 \u001b[1;31m1.00 \u001b[1;31m1.00 \u001b[1;31m1.00 \u001b[1;31m1.00 \u001b[1;31m1.00 \n",
      "\n",
      "\u001b[1;31m0.61 \u001b[1;31m0.61 \u001b[1;31m0.55 \u001b[1;31m1.00 \u001b[1;31m1.00 \u001b[1;31m1.00 \u001b[1;36m1.00 \u001b[1;36m1.00 \u001b[1;36m1.00 \u001b[1;31m1.00 \u001b[1;31m1.00 \u001b[1;31m1.00 \n",
      "\n",
      "\u001b[1;31m0.61 \u001b[1;31m0.61 \u001b[1;31m0.55 \u001b[1;31m1.00 \u001b[1;31m1.00 \u001b[1;31m1.00 \u001b[1;36m1.00 \u001b[1;36m1.00 \u001b[1;36m1.00 \u001b[1;31m1.00 \u001b[1;31m1.00 \u001b[1;31m1.00 \n",
      "\n",
      "\u001b[1;31m0.61 \u001b[1;31m0.61 \u001b[1;31m0.55 \u001b[1;31m1.00 \u001b[1;31m1.00 \u001b[1;31m1.00 \u001b[1;36m1.00 \u001b[1;36m1.00 \u001b[1;36m1.00 \u001b[1;31m1.00 \u001b[1;31m1.00 \u001b[1;31m1.00 \n",
      "\n",
      "\u001b[1;31m0.61 \u001b[1;31m0.61 \u001b[1;31m0.55 \u001b[1;31m1.00 \u001b[1;31m1.00 \u001b[1;31m1.00 \u001b[1;31m1.00 \u001b[1;31m1.00 \u001b[1;31m1.00 \u001b[1;31m1.00 \u001b[1;31m1.00 \u001b[1;31m1.00 \n",
      "\n",
      "\u001b[1;31m0.61 \u001b[1;31m0.61 \u001b[1;31m0.55 \u001b[1;31m1.00 \u001b[1;31m1.00 \u001b[1;31m1.00 \u001b[1;31m1.00 \u001b[1;31m1.00 \u001b[1;31m1.00 \u001b[1;31m1.00 \u001b[1;31m1.00 \u001b[1;31m1.00 \n",
      "\n",
      "\u001b[1;31m0.61 \u001b[1;31m0.61 \u001b[1;31m0.55 \u001b[1;31m1.00 \u001b[1;31m1.00 \u001b[1;31m1.00 \u001b[1;31m1.00 \u001b[1;31m1.00 \u001b[1;31m1.00 \u001b[1;31m1.00 \u001b[1;31m1.00 \u001b[1;31m1.00 \n",
      "\n",
      "\u001b[0;0mSimilaridade Desejada Média = 0.98\n",
      "Similaridade Não Desejada Média = 0.81\n"
     ]
    }
   ],
   "source": [
    "gerarResultados(similarity, testes_3)"
   ]
  },
  {
   "cell_type": "code",
   "execution_count": 30,
   "id": "bfb56089",
   "metadata": {},
   "outputs": [],
   "source": [
    "def extrairBotoesSelenium(url):\n",
    "\n",
    "    resultados = \"\"\n",
    "\n",
    "    driver = webdriver.Chrome(options=options)\n",
    "    driver.get(url)\n",
    "\n",
    "    html = driver.page_source\n",
    "    driver.quit()\n",
    "\n",
    "    soup = BeautifulSoup(html, 'html.parser')\n",
    "    buttons = soup.find_all('button')\n",
    "    for button in buttons:\n",
    "        resultados+=str(button)+\"\\n\"\n",
    "        \n",
    "    return resultados"
   ]
  },
  {
   "cell_type": "code",
   "execution_count": 31,
   "id": "07d74aa5",
   "metadata": {},
   "outputs": [],
   "source": [
    "testes_4 = [extrairBotoesSelenium(teste) for teste in testes]"
   ]
  },
  {
   "cell_type": "code",
   "execution_count": 32,
   "id": "af0324e2",
   "metadata": {},
   "outputs": [
    {
     "name": "stdout",
     "output_type": "stream",
     "text": [
      "\u001b[0;32m1.00 \u001b[0;32m1.00 \u001b[0;32m0.95 \u001b[1;31m0.72 \u001b[1;31m0.84 \u001b[1;31m0.84 \u001b[1;31m0.31 \u001b[1;31m0.31 \u001b[1;31m0.31 \u001b[1;31m0.20 \u001b[1;31m0.31 \u001b[1;31m0.31 \n",
      "\n",
      "\u001b[0;32m1.00 \u001b[0;32m1.00 \u001b[0;32m0.95 \u001b[1;31m0.72 \u001b[1;31m0.84 \u001b[1;31m0.84 \u001b[1;31m0.31 \u001b[1;31m0.31 \u001b[1;31m0.31 \u001b[1;31m0.20 \u001b[1;31m0.31 \u001b[1;31m0.31 \n",
      "\n",
      "\u001b[0;32m0.95 \u001b[0;32m0.95 \u001b[0;32m1.00 \u001b[1;31m0.69 \u001b[1;31m0.79 \u001b[1;31m0.79 \u001b[1;31m0.29 \u001b[1;31m0.29 \u001b[1;31m0.29 \u001b[1;31m0.19 \u001b[1;31m0.29 \u001b[1;31m0.29 \n",
      "\n",
      "\u001b[1;31m0.72 \u001b[1;31m0.72 \u001b[1;31m0.69 \u001b[1;34m1.00 \u001b[1;34m0.86 \u001b[1;34m0.86 \u001b[1;31m0.44 \u001b[1;31m0.44 \u001b[1;31m0.44 \u001b[1;31m0.24 \u001b[1;31m0.44 \u001b[1;31m0.44 \n",
      "\n",
      "\u001b[1;31m0.84 \u001b[1;31m0.84 \u001b[1;31m0.79 \u001b[1;34m0.86 \u001b[1;34m1.00 \u001b[1;34m1.00 \u001b[1;31m0.37 \u001b[1;31m0.37 \u001b[1;31m0.37 \u001b[1;31m0.22 \u001b[1;31m0.37 \u001b[1;31m0.37 \n",
      "\n",
      "\u001b[1;31m0.84 \u001b[1;31m0.84 \u001b[1;31m0.79 \u001b[1;34m0.86 \u001b[1;34m1.00 \u001b[1;34m1.00 \u001b[1;31m0.37 \u001b[1;31m0.37 \u001b[1;31m0.37 \u001b[1;31m0.22 \u001b[1;31m0.37 \u001b[1;31m0.37 \n",
      "\n",
      "\u001b[1;31m0.31 \u001b[1;31m0.31 \u001b[1;31m0.29 \u001b[1;31m0.44 \u001b[1;31m0.37 \u001b[1;31m0.37 \u001b[1;36m1.00 \u001b[1;36m1.00 \u001b[1;36m1.00 \u001b[1;31m0.23 \u001b[1;31m1.00 \u001b[1;31m1.00 \n",
      "\n",
      "\u001b[1;31m0.31 \u001b[1;31m0.31 \u001b[1;31m0.29 \u001b[1;31m0.44 \u001b[1;31m0.37 \u001b[1;31m0.37 \u001b[1;36m1.00 \u001b[1;36m1.00 \u001b[1;36m1.00 \u001b[1;31m0.23 \u001b[1;31m1.00 \u001b[1;31m1.00 \n",
      "\n",
      "\u001b[1;31m0.31 \u001b[1;31m0.31 \u001b[1;31m0.29 \u001b[1;31m0.44 \u001b[1;31m0.37 \u001b[1;31m0.37 \u001b[1;36m1.00 \u001b[1;36m1.00 \u001b[1;36m1.00 \u001b[1;31m0.23 \u001b[1;31m1.00 \u001b[1;31m1.00 \n",
      "\n",
      "\u001b[1;31m0.25 \u001b[1;31m0.25 \u001b[1;31m0.24 \u001b[1;31m0.25 \u001b[1;31m0.25 \u001b[1;31m0.25 \u001b[1;31m0.23 \u001b[1;31m0.23 \u001b[1;31m0.23 \u001b[1;31m1.00 \u001b[1;31m0.23 \u001b[1;31m0.23 \n",
      "\n",
      "\u001b[1;31m0.31 \u001b[1;31m0.31 \u001b[1;31m0.29 \u001b[1;31m0.44 \u001b[1;31m0.37 \u001b[1;31m0.37 \u001b[1;31m1.00 \u001b[1;31m1.00 \u001b[1;31m1.00 \u001b[1;31m0.23 \u001b[1;31m1.00 \u001b[1;31m1.00 \n",
      "\n",
      "\u001b[1;31m0.31 \u001b[1;31m0.31 \u001b[1;31m0.29 \u001b[1;31m0.44 \u001b[1;31m0.37 \u001b[1;31m0.37 \u001b[1;31m1.00 \u001b[1;31m1.00 \u001b[1;31m1.00 \u001b[1;31m0.23 \u001b[1;31m1.00 \u001b[1;31m1.00 \n",
      "\n",
      "\u001b[0;0mSimilaridade Desejada Média = 0.96\n",
      "Similaridade Não Desejada Média = 0.47\n"
     ]
    }
   ],
   "source": [
    "gerarResultados(similarity, testes_4)"
   ]
  },
  {
   "cell_type": "markdown",
   "id": "899c3522",
   "metadata": {},
   "source": [
    "## Essa métrica de considerar os botões geraram alto nivel de diferença entre páginas de grupos diferentes, mas a similaridade desejada foi bem baixa em alguns casos. E se misturarmos essa métrica com uma de similaridade desejada média alta?"
   ]
  },
  {
   "cell_type": "code",
   "execution_count": 33,
   "id": "1a64625a",
   "metadata": {},
   "outputs": [
    {
     "name": "stdout",
     "output_type": "stream",
     "text": [
      "\u001b[0;32m1.00 \u001b[0;32m1.00 \u001b[0;32m0.97 \u001b[1;31m0.76 \u001b[1;31m0.82 \u001b[1;31m0.83 \u001b[1;31m0.42 \u001b[1;31m0.46 \u001b[1;31m0.42 \u001b[1;31m0.39 \u001b[1;31m0.43 \u001b[1;31m0.47 \n",
      "\n",
      "\u001b[0;32m1.00 \u001b[0;32m1.00 \u001b[0;32m0.97 \u001b[1;31m0.76 \u001b[1;31m0.82 \u001b[1;31m0.83 \u001b[1;31m0.42 \u001b[1;31m0.46 \u001b[1;31m0.42 \u001b[1;31m0.39 \u001b[1;31m0.43 \u001b[1;31m0.47 \n",
      "\n",
      "\u001b[0;32m0.97 \u001b[0;32m0.97 \u001b[0;32m1.00 \u001b[1;31m0.74 \u001b[1;31m0.79 \u001b[1;31m0.81 \u001b[1;31m0.42 \u001b[1;31m0.45 \u001b[1;31m0.42 \u001b[1;31m0.38 \u001b[1;31m0.42 \u001b[1;31m0.46 \n",
      "\n",
      "\u001b[1;31m0.76 \u001b[1;31m0.76 \u001b[1;31m0.74 \u001b[1;34m1.00 \u001b[1;34m0.87 \u001b[1;34m0.90 \u001b[1;31m0.52 \u001b[1;31m0.57 \u001b[1;31m0.52 \u001b[1;31m0.45 \u001b[1;31m0.53 \u001b[1;31m0.59 \n",
      "\n",
      "\u001b[1;31m0.82 \u001b[1;31m0.82 \u001b[1;31m0.79 \u001b[1;34m0.87 \u001b[1;34m1.00 \u001b[1;34m0.95 \u001b[1;31m0.46 \u001b[1;31m0.50 \u001b[1;31m0.46 \u001b[1;31m0.41 \u001b[1;31m0.47 \u001b[1;31m0.52 \n",
      "\n",
      "\u001b[1;31m0.83 \u001b[1;31m0.83 \u001b[1;31m0.81 \u001b[1;34m0.90 \u001b[1;34m0.95 \u001b[1;34m1.00 \u001b[1;31m0.49 \u001b[1;31m0.53 \u001b[1;31m0.49 \u001b[1;31m0.44 \u001b[1;31m0.50 \u001b[1;31m0.56 \n",
      "\n",
      "\u001b[1;31m0.43 \u001b[1;31m0.43 \u001b[1;31m0.42 \u001b[1;31m0.53 \u001b[1;31m0.47 \u001b[1;31m0.49 \u001b[1;36m1.00 \u001b[1;36m0.91 \u001b[1;36m1.00 \u001b[1;31m0.44 \u001b[1;31m0.94 \u001b[1;31m0.87 \n",
      "\n",
      "\u001b[1;31m0.46 \u001b[1;31m0.46 \u001b[1;31m0.45 \u001b[1;31m0.57 \u001b[1;31m0.51 \u001b[1;31m0.54 \u001b[1;36m0.91 \u001b[1;36m1.00 \u001b[1;36m0.91 \u001b[1;31m0.51 \u001b[1;31m0.86 \u001b[1;31m0.94 \n",
      "\n",
      "\u001b[1;31m0.43 \u001b[1;31m0.43 \u001b[1;31m0.42 \u001b[1;31m0.53 \u001b[1;31m0.47 \u001b[1;31m0.49 \u001b[1;36m1.00 \u001b[1;36m0.91 \u001b[1;36m1.00 \u001b[1;31m0.44 \u001b[1;31m0.94 \u001b[1;31m0.87 \n",
      "\n",
      "\u001b[1;31m0.41 \u001b[1;31m0.41 \u001b[1;31m0.41 \u001b[1;31m0.46 \u001b[1;31m0.43 \u001b[1;31m0.46 \u001b[1;31m0.44 \u001b[1;31m0.51 \u001b[1;31m0.44 \u001b[1;31m1.00 \u001b[1;31m0.48 \u001b[1;31m0.55 \n",
      "\n",
      "\u001b[1;31m0.43 \u001b[1;31m0.43 \u001b[1;31m0.42 \u001b[1;31m0.53 \u001b[1;31m0.47 \u001b[1;31m0.50 \u001b[1;31m0.94 \u001b[1;31m0.86 \u001b[1;31m0.94 \u001b[1;31m0.48 \u001b[1;31m1.00 \u001b[1;31m0.89 \n",
      "\n",
      "\u001b[1;31m0.47 \u001b[1;31m0.47 \u001b[1;31m0.46 \u001b[1;31m0.59 \u001b[1;31m0.52 \u001b[1;31m0.56 \u001b[1;31m0.87 \u001b[1;31m0.94 \u001b[1;31m0.87 \u001b[1;31m0.55 \u001b[1;31m0.89 \u001b[1;31m1.00 \n",
      "\n",
      "\u001b[0;0mSimilaridade Desejada Média = 0.94\n",
      "Similaridade Não Desejada Média = 0.57\n"
     ]
    }
   ],
   "source": [
    "similares = 0\n",
    "nao_similares = 0\n",
    "\n",
    "for i in range(len(testes_4)):\n",
    "    for j in range(len(testes_4)):\n",
    "        resultado_1 = similarity(testes_4[i], testes_4[j])\n",
    "        resultado_2 =  similarity(testes_2[i], testes_2[j])\n",
    "        resultado = (resultado_1+resultado_2)/2\n",
    "        string = f\"{resultado:.2f}\"\n",
    "        if i<3 and j< 3:\n",
    "            print(GREEN + string, end = \" \")\n",
    "            if i != j:\n",
    "                similares += resultado\n",
    "        elif i<6 and i>2 and j<6 and j>2:\n",
    "            print(BLUE + string, end = \" \")\n",
    "            if i != j:\n",
    "                similares += resultado\n",
    "        elif i<9 and i>5 and j<9 and j>5:\n",
    "            print(CYAN + string, end = \" \")\n",
    "            if i != j:\n",
    "                similares += resultado\n",
    "        else:\n",
    "            print(RED + string, end = \" \")\n",
    "            if i != j:\n",
    "                nao_similares += resultado\n",
    "    print(\"\\n\")\n",
    "\n",
    "print(RESET + \"Similaridade Desejada Média = \" + f\"{(similares/18):.2f}\")\n",
    "print(\"Similaridade Não Desejada Média = \" + f\"{(nao_similares/114):.2f}\")"
   ]
  },
  {
   "cell_type": "code",
   "execution_count": null,
   "id": "632e787a",
   "metadata": {},
   "outputs": [],
   "source": []
  },
  {
   "cell_type": "markdown",
   "id": "b2cb73bf",
   "metadata": {},
   "source": [
    "## Metrica par a par"
   ]
  },
  {
   "cell_type": "code",
   "execution_count": 3,
   "id": "8ed7e4df",
   "metadata": {},
   "outputs": [],
   "source": [
    "def gerar_resultado_botoes(url1, url2):\n",
    "\n",
    "    resultados1, resultados2 = \"\", \"\"\n",
    "\n",
    "    driver = webdriver.Chrome(options=options)\n",
    "    driver.get(url1)\n",
    "\n",
    "    html = driver.page_source\n",
    "    driver.quit()\n",
    "\n",
    "    soup = BeautifulSoup(html, 'html.parser')\n",
    "    buttons = soup.find_all('button')\n",
    "    for button in buttons:\n",
    "        resultados1+=str(button)+\"\\n\"\n",
    "        \n",
    "    \n",
    "    driver = webdriver.Chrome(options=options)\n",
    "    driver.get(url2)\n",
    "\n",
    "    html = driver.page_source\n",
    "    driver.quit()\n",
    "\n",
    "    soup = BeautifulSoup(html, 'html.parser')\n",
    "    buttons = soup.find_all('button')\n",
    "    for button in buttons:\n",
    "        resultados2+=str(button)+\"\\n\"\n",
    "    \n",
    "    return similarity(resultados1, resultados2)"
   ]
  },
  {
   "cell_type": "code",
   "execution_count": 4,
   "id": "8fdfa8b1",
   "metadata": {},
   "outputs": [
    {
     "ename": "WebDriverException",
     "evalue": "Message: unknown error: net::ERR_NAME_NOT_RESOLVED\n  (Session info: headless chrome=103.0.5060.134)\nStacktrace:\n#0 0x560344db0cd3 <unknown>\n#1 0x560344bb8968 <unknown>\n#2 0x560344bb2745 <unknown>\n#3 0x560344ba5096 <unknown>\n#4 0x560344ba6032 <unknown>\n#5 0x560344ba5362 <unknown>\n#6 0x560344ba4795 <unknown>\n#7 0x560344ba345f <unknown>\n#8 0x560344ba38c2 <unknown>\n#9 0x560344bba3c2 <unknown>\n#10 0x560344c2160f <unknown>\n#11 0x560344c0dbb2 <unknown>\n#12 0x560344c20ea8 <unknown>\n#13 0x560344c0daa3 <unknown>\n#14 0x560344be33fa <unknown>\n#15 0x560344be4555 <unknown>\n#16 0x560344df82bd <unknown>\n#17 0x560344dfc418 <unknown>\n#18 0x560344de236e <unknown>\n#19 0x560344dfd078 <unknown>\n#20 0x560344dd6bb0 <unknown>\n#21 0x560344e19d58 <unknown>\n#22 0x560344e19ed8 <unknown>\n#23 0x560344e33cfd <unknown>\n#24 0x7f4f4ae72609 <unknown>\n",
     "output_type": "error",
     "traceback": [
      "\u001b[0;31m---------------------------------------------------------------------------\u001b[0m",
      "\u001b[0;31mWebDriverException\u001b[0m                        Traceback (most recent call last)",
      "Input \u001b[0;32mIn [4]\u001b[0m, in \u001b[0;36m<cell line: 1>\u001b[0;34m()\u001b[0m\n\u001b[0;32m----> 1\u001b[0m \u001b[43mgerar_resultado_botoes\u001b[49m\u001b[43m(\u001b[49m\u001b[38;5;124;43m\"\u001b[39;49m\u001b[38;5;124;43mhttps://sardoa.mg.gov.br/transparencia/empenhos\u001b[39;49m\u001b[38;5;124;43m\"\u001b[39;49m\u001b[43m,\u001b[49m\u001b[43m \u001b[49m\u001b[38;5;124;43m\"\u001b[39;49m\u001b[38;5;124;43mhttps://sardoa.mg.gov.br/transparencia/pagamentos\u001b[39;49m\u001b[38;5;124;43m\"\u001b[39;49m\u001b[43m)\u001b[49m\n",
      "Input \u001b[0;32mIn [3]\u001b[0m, in \u001b[0;36mgerar_resultado_botoes\u001b[0;34m(url1, url2)\u001b[0m\n\u001b[1;32m      3\u001b[0m resultados1, resultados2 \u001b[38;5;241m=\u001b[39m \u001b[38;5;124m\"\u001b[39m\u001b[38;5;124m\"\u001b[39m, \u001b[38;5;124m\"\u001b[39m\u001b[38;5;124m\"\u001b[39m\n\u001b[1;32m      5\u001b[0m driver \u001b[38;5;241m=\u001b[39m webdriver\u001b[38;5;241m.\u001b[39mChrome(options\u001b[38;5;241m=\u001b[39moptions)\n\u001b[0;32m----> 6\u001b[0m \u001b[43mdriver\u001b[49m\u001b[38;5;241;43m.\u001b[39;49m\u001b[43mget\u001b[49m\u001b[43m(\u001b[49m\u001b[43murl1\u001b[49m\u001b[43m)\u001b[49m\n\u001b[1;32m      8\u001b[0m html \u001b[38;5;241m=\u001b[39m driver\u001b[38;5;241m.\u001b[39mpage_source\n\u001b[1;32m      9\u001b[0m driver\u001b[38;5;241m.\u001b[39mquit()\n",
      "File \u001b[0;32m~/.local/lib/python3.8/site-packages/selenium/webdriver/remote/webdriver.py:437\u001b[0m, in \u001b[0;36mWebDriver.get\u001b[0;34m(self, url)\u001b[0m\n\u001b[1;32m    433\u001b[0m \u001b[38;5;28;01mdef\u001b[39;00m \u001b[38;5;21mget\u001b[39m(\u001b[38;5;28mself\u001b[39m, url: \u001b[38;5;28mstr\u001b[39m) \u001b[38;5;241m-\u001b[39m\u001b[38;5;241m>\u001b[39m \u001b[38;5;28;01mNone\u001b[39;00m:\n\u001b[1;32m    434\u001b[0m     \u001b[38;5;124;03m\"\"\"\u001b[39;00m\n\u001b[1;32m    435\u001b[0m \u001b[38;5;124;03m    Loads a web page in the current browser session.\u001b[39;00m\n\u001b[1;32m    436\u001b[0m \u001b[38;5;124;03m    \"\"\"\u001b[39;00m\n\u001b[0;32m--> 437\u001b[0m     \u001b[38;5;28;43mself\u001b[39;49m\u001b[38;5;241;43m.\u001b[39;49m\u001b[43mexecute\u001b[49m\u001b[43m(\u001b[49m\u001b[43mCommand\u001b[49m\u001b[38;5;241;43m.\u001b[39;49m\u001b[43mGET\u001b[49m\u001b[43m,\u001b[49m\u001b[43m \u001b[49m\u001b[43m{\u001b[49m\u001b[38;5;124;43m'\u001b[39;49m\u001b[38;5;124;43murl\u001b[39;49m\u001b[38;5;124;43m'\u001b[39;49m\u001b[43m:\u001b[49m\u001b[43m \u001b[49m\u001b[43murl\u001b[49m\u001b[43m}\u001b[49m\u001b[43m)\u001b[49m\n",
      "File \u001b[0;32m~/.local/lib/python3.8/site-packages/selenium/webdriver/remote/webdriver.py:425\u001b[0m, in \u001b[0;36mWebDriver.execute\u001b[0;34m(self, driver_command, params)\u001b[0m\n\u001b[1;32m    423\u001b[0m response \u001b[38;5;241m=\u001b[39m \u001b[38;5;28mself\u001b[39m\u001b[38;5;241m.\u001b[39mcommand_executor\u001b[38;5;241m.\u001b[39mexecute(driver_command, params)\n\u001b[1;32m    424\u001b[0m \u001b[38;5;28;01mif\u001b[39;00m response:\n\u001b[0;32m--> 425\u001b[0m     \u001b[38;5;28;43mself\u001b[39;49m\u001b[38;5;241;43m.\u001b[39;49m\u001b[43merror_handler\u001b[49m\u001b[38;5;241;43m.\u001b[39;49m\u001b[43mcheck_response\u001b[49m\u001b[43m(\u001b[49m\u001b[43mresponse\u001b[49m\u001b[43m)\u001b[49m\n\u001b[1;32m    426\u001b[0m     response[\u001b[38;5;124m'\u001b[39m\u001b[38;5;124mvalue\u001b[39m\u001b[38;5;124m'\u001b[39m] \u001b[38;5;241m=\u001b[39m \u001b[38;5;28mself\u001b[39m\u001b[38;5;241m.\u001b[39m_unwrap_value(\n\u001b[1;32m    427\u001b[0m         response\u001b[38;5;241m.\u001b[39mget(\u001b[38;5;124m'\u001b[39m\u001b[38;5;124mvalue\u001b[39m\u001b[38;5;124m'\u001b[39m, \u001b[38;5;28;01mNone\u001b[39;00m))\n\u001b[1;32m    428\u001b[0m     \u001b[38;5;28;01mreturn\u001b[39;00m response\n",
      "File \u001b[0;32m~/.local/lib/python3.8/site-packages/selenium/webdriver/remote/errorhandler.py:247\u001b[0m, in \u001b[0;36mErrorHandler.check_response\u001b[0;34m(self, response)\u001b[0m\n\u001b[1;32m    245\u001b[0m         alert_text \u001b[38;5;241m=\u001b[39m value[\u001b[38;5;124m'\u001b[39m\u001b[38;5;124malert\u001b[39m\u001b[38;5;124m'\u001b[39m]\u001b[38;5;241m.\u001b[39mget(\u001b[38;5;124m'\u001b[39m\u001b[38;5;124mtext\u001b[39m\u001b[38;5;124m'\u001b[39m)\n\u001b[1;32m    246\u001b[0m     \u001b[38;5;28;01mraise\u001b[39;00m exception_class(message, screen, stacktrace, alert_text)  \u001b[38;5;66;03m# type: ignore[call-arg]  # mypy is not smart enough here\u001b[39;00m\n\u001b[0;32m--> 247\u001b[0m \u001b[38;5;28;01mraise\u001b[39;00m exception_class(message, screen, stacktrace)\n",
      "\u001b[0;31mWebDriverException\u001b[0m: Message: unknown error: net::ERR_NAME_NOT_RESOLVED\n  (Session info: headless chrome=103.0.5060.134)\nStacktrace:\n#0 0x560344db0cd3 <unknown>\n#1 0x560344bb8968 <unknown>\n#2 0x560344bb2745 <unknown>\n#3 0x560344ba5096 <unknown>\n#4 0x560344ba6032 <unknown>\n#5 0x560344ba5362 <unknown>\n#6 0x560344ba4795 <unknown>\n#7 0x560344ba345f <unknown>\n#8 0x560344ba38c2 <unknown>\n#9 0x560344bba3c2 <unknown>\n#10 0x560344c2160f <unknown>\n#11 0x560344c0dbb2 <unknown>\n#12 0x560344c20ea8 <unknown>\n#13 0x560344c0daa3 <unknown>\n#14 0x560344be33fa <unknown>\n#15 0x560344be4555 <unknown>\n#16 0x560344df82bd <unknown>\n#17 0x560344dfc418 <unknown>\n#18 0x560344de236e <unknown>\n#19 0x560344dfd078 <unknown>\n#20 0x560344dd6bb0 <unknown>\n#21 0x560344e19d58 <unknown>\n#22 0x560344e19ed8 <unknown>\n#23 0x560344e33cfd <unknown>\n#24 0x7f4f4ae72609 <unknown>\n"
     ]
    }
   ],
   "source": [
    "gerar_resultado_botoes(\"https://sardoa.mg.gov.br/transparencia/empenhos\", \"https://sardoa.mg.gov.br/transparencia/pagamentos\")"
   ]
  },
  {
   "cell_type": "markdown",
   "id": "932e038e",
   "metadata": {},
   "source": [
    "## Comparando screenshots"
   ]
  },
  {
   "cell_type": "code",
   "execution_count": 54,
   "id": "b3155424",
   "metadata": {},
   "outputs": [],
   "source": [
    "cd = os.getcwd()"
   ]
  },
  {
   "cell_type": "code",
   "execution_count": 55,
   "id": "4446fc49",
   "metadata": {},
   "outputs": [],
   "source": [
    "try:\n",
    "    os.mkdir(\"screenshots\")\n",
    "except FileExistsError:\n",
    "    pass"
   ]
  },
  {
   "cell_type": "code",
   "execution_count": null,
   "id": "4f6edd36",
   "metadata": {},
   "outputs": [],
   "source": [
    "async def tirar_screenshots(urls):\n",
    "    \n",
    "    playwright = await async_playwright().start()\n",
    "    browser = await playwright.chromium.launch(headless = True)\n",
    "    page = await browser.new_page()\n",
    "    \n",
    "    for i in range(len(urls)):\n",
    "        await page.goto(urls[i])\n",
    "        await page.screenshot(path=os.getcwd()+\"/screenshots/ss\"+str(i) +\".png\")\n",
    "        \n",
    "    await page.close()\n",
    "    await browser.close()"
   ]
  },
  {
   "cell_type": "code",
   "execution_count": 34,
   "id": "78fd2d6a",
   "metadata": {},
   "outputs": [
    {
     "data": {
      "text/plain": [
       "<Task pending name='Task-16' coro=<tirar_screenshots() running at /tmp/ipykernel_171573/2948449917.py:1>>"
      ]
     },
     "execution_count": 34,
     "metadata": {},
     "output_type": "execute_result"
    }
   ],
   "source": [
    "loop = asyncio.get_event_loop()\n",
    "loop.create_task(tirar_screenshots(testes))"
   ]
  },
  {
   "cell_type": "code",
   "execution_count": 101,
   "id": "8478589c",
   "metadata": {},
   "outputs": [],
   "source": [
    "def diferenca_duas_imagens(img_1, img_2):\n",
    "    \n",
    "    MSE = np.square(np.subtract(img_1,img_2)).mean() \n",
    "    RMSE = np.sqrt(MSE)\n",
    "    \n",
    "    return RMSE/255"
   ]
  },
  {
   "cell_type": "code",
   "execution_count": 111,
   "id": "105a4023",
   "metadata": {},
   "outputs": [],
   "source": [
    "def calcular_distancias():\n",
    "    \n",
    "    dir_screenshots = os.getcwd()+\"/screenshots\"\n",
    "    \n",
    "    screenshots = list(os.walk(os.getcwd()+\"/screenshots\"))[0][2]\n",
    "    dados = [cv2.imread(dir_screenshots + \"/\"+image) for image in screenshots]\n",
    "    \n",
    "    tam = len(screenshots)\n",
    "    resultados = np.zeros((tam, tam), dtype = np.float32)\n",
    "    \n",
    "    for i in range(0, tam):\n",
    "        for j in range(0, tam):\n",
    "            distancia = diferenca_duas_imagens(dados[i], dados[j])\n",
    "            resultados[i,j] = distancia\n",
    "            resultados[j,i] = distancia\n",
    "            \n",
    "    return resultados"
   ]
  },
  {
   "cell_type": "code",
   "execution_count": 112,
   "id": "f06ecab0",
   "metadata": {},
   "outputs": [],
   "source": [
    "res = calcular_distancias()"
   ]
  },
  {
   "cell_type": "code",
   "execution_count": 113,
   "id": "3a8b26e8",
   "metadata": {},
   "outputs": [
    {
     "name": "stdout",
     "output_type": "stream",
     "text": [
      "[[0.         0.00755656 0.00743515 0.01499168 0.00756169 0.02532585\n",
      "  0.00901948 0.00152697 0.01022694 0.00946298 0.01564439 0.00952083]\n",
      " [0.00755656 0.         0.00896011 0.01559064 0.00813164 0.02549205\n",
      "  0.00947042 0.00757184 0.01058512 0.0097188  0.01584595 0.01055994]\n",
      " [0.00743515 0.00896011 0.         0.01505203 0.00873241 0.02527068\n",
      "  0.01000045 0.00758476 0.01123649 0.01037665 0.01637761 0.01016361]\n",
      " [0.01499168 0.01559064 0.01505203 0.         0.01559751 0.02097796\n",
      "  0.01633633 0.01500151 0.01704526 0.0164161  0.01889529 0.01635696]\n",
      " [0.00756169 0.00813164 0.00873241 0.01559751 0.         0.02546529\n",
      "  0.00552943 0.00769193 0.01049148 0.00953105 0.01581229 0.01046621]\n",
      " [0.02532585 0.02549205 0.02527068 0.02097796 0.02546529 0.\n",
      "  0.02552939 0.0253243  0.02563792 0.02557976 0.02507985 0.0257978 ]\n",
      " [0.00901948 0.00947042 0.01000045 0.01633633 0.00552943 0.02552939\n",
      "  0.         0.00912895 0.01051213 0.00955527 0.01654168 0.01069114]\n",
      " [0.00152697 0.00757184 0.00758476 0.01500151 0.00769193 0.0253243\n",
      "  0.00912895 0.         0.01023527 0.00935465 0.01565287 0.00939758]\n",
      " [0.01022694 0.01058512 0.01123649 0.01704526 0.01049148 0.02563792\n",
      "  0.01051213 0.01023527 0.         0.00948796 0.0170332  0.01173996]\n",
      " [0.00946298 0.0097188  0.01037665 0.0164161  0.00953105 0.02557976\n",
      "  0.00955527 0.00935465 0.00948796 0.         0.01678145 0.01080902]\n",
      " [0.01564439 0.01584595 0.01637761 0.01889529 0.01581229 0.02507985\n",
      "  0.01654168 0.01565287 0.0170332  0.01678145 0.         0.01716376]\n",
      " [0.00952083 0.01055994 0.01016361 0.01635696 0.01046621 0.0257978\n",
      "  0.01069114 0.00939758 0.01173996 0.01080902 0.01716376 0.        ]]\n"
     ]
    }
   ],
   "source": [
    "print(res)"
   ]
  },
  {
   "cell_type": "code",
   "execution_count": 114,
   "id": "aaf4cff5",
   "metadata": {},
   "outputs": [
    {
     "name": "stdout",
     "output_type": "stream",
     "text": [
      "['ss0.png', 'ss2.png', 'ss4.png', 'ss3.png', 'ss8.png', 'ss11.png', 'ss6.png', 'ss1.png', 'ss10.png', 'ss7.png', 'ss9.png', 'ss5.png']\n"
     ]
    }
   ],
   "source": [
    "screenshots = list(os.walk(os.getcwd()+\"/screenshots\"))[0][2]\n",
    "print(screenshots)"
   ]
  },
  {
   "cell_type": "markdown",
   "id": "a8b6831e",
   "metadata": {},
   "source": [
    "## Comparando localização de hiperlinks na página"
   ]
  },
  {
   "cell_type": "code",
   "execution_count": 18,
   "id": "114dea29",
   "metadata": {},
   "outputs": [],
   "source": [
    "def processar_html(texto_html):\n",
    "    \n",
    "    tam = len(texto_html)\n",
    "    tags = []\n",
    "    \n",
    "    i = 0\n",
    "    while i < tam:\n",
    "        \n",
    "        aux_tag = \"\"\n",
    "        \n",
    "        if texto_html[i] == \"<\":\n",
    "            i+=1\n",
    "            if texto_html[i] == \"!\":\n",
    "                while texto_html[i] != \"<\":\n",
    "                    i+=1\n",
    "            else:\n",
    "                while texto_html[i] != \">\":\n",
    "                    aux_tag+=texto_html[i]\n",
    "                    i+=1\n",
    "                i+=1\n",
    "                tags.append(aux_tag)\n",
    "\n",
    "        else:\n",
    "            while texto_html[i] != \"<\":\n",
    "                i+=1\n",
    "    \n",
    "    return tags"
   ]
  },
  {
   "cell_type": "code",
   "execution_count": 19,
   "id": "00fe80d9",
   "metadata": {},
   "outputs": [],
   "source": [
    "texto_html = extrairHtml(\"https://sardoa.mg.gov.br/transparencia/coronavirus\")"
   ]
  },
  {
   "cell_type": "code",
   "execution_count": 20,
   "id": "fe659f55",
   "metadata": {},
   "outputs": [
    {
     "name": "stdout",
     "output_type": "stream",
     "text": [
      "['html', 'head', 'meta', '/meta', 'meta', '/meta', 'meta', '/meta', 'meta', '/meta', 'meta', '/meta', 'meta', '/meta', 'meta', '/meta', 'meta', '/meta', 'meta', '/meta', 'meta', '/meta', 'meta', '/meta', 'meta', '/meta', 'meta', '/meta', 'meta', '/meta', 'meta', '/meta', 'meta', '/meta', 'meta', '/meta', 'link', '/link', 'title', '/title', 'style', '/style', 'link', '/link', 'link', '/link', 'link', '/link', 'link', '/link', 'link', '/link', 'link', '/link', 'link', '/link', 'style', '/style', 'style', '/style', 'style', '/style', 'style', '/style', 'style', '/style', 'style', '/style', 'style', '/style', 'style', '/style', 'style', '/style', 'style', '/style', 'style', '/style', 'style', '/style', 'style', '/style', 'style', '/style', 'style', '/style', 'style', '/style', 'style', '/style', 'style', '/style', 'style', '/style', 'style', '/style', 'style', '/style', '/head', 'body', 'div', 'div', 'div', 'img', '/img', 'img', '/img', '/div', 'div', 'div', 'div', '/div', 'div', '/div', 'div', '/div', 'div', '/div', 'div', '/div', 'div', '/div', 'div', '/div', 'div', '/div', 'div', '/div', 'div', '/div', 'div', '/div', 'div', '/div', '/div', '/div', '/div', 'nav', 'div', 'a', 'img', '/img', '/a', 'a', 'i', '/i', 'span', '/span', '/a', '/div', 'button', 'i', '/i', '/button', 'div', 'ul', 'li', 'a', '/a', '/li', 'li', 'a', '/a', '/li', 'li', 'a', '/a', 'div', 'div', 'ul', 'a', '/a', 'a', '/a', 'a', '/a', 'a', '/a', 'a', '/a', 'a', '/a', 'a', '/a', 'a', '/a', '/ul', '/div', '/div', '/li', 'li', 'a', '/a', 'div', 'div', 'ul', 'a', '/a', 'a', '/a', 'a', '/a', 'a', '/a', 'a', '/a', 'a', '/a', '/ul', '/div', '/div', '/li', 'li', 'a', '/a', '/li', 'li', 'a', '/a', '/li', '/ul', 'ul', 'li', 'a', '/a', '/li', 'li', 'a', '/a', '/li', 'li', 'a', '/a', '/li', 'li', 'a', '/a', '/li', 'li', 'a', '/a', '/li', 'li', 'a', '/a', '/li', 'li', 'a', '/a', '/li', 'li', 'a', '/a', '/li', 'li', 'a', '/a', '/li', 'li', 'a', '/a', '/li', 'li', 'a', '/a', '/li', 'li', 'a', '/a', '/li', '/ul', '/div', '/nav', 'div', 'aside', 'div', 'ul', 'li', 'a', 'i', '/i', 'span', '/span', '/a', '/li', 'li', 'a', 'i', '/i', 'span', '/span', '/a', '/li', 'li', 'a', 'i', '/i', 'span', '/span', '/a', '/li', 'li', 'a', 'i', '/i', 'span', '/span', '/a', '/li', 'li', 'a', 'i', '/i', 'span', '/span', '/a', '/li', 'li', 'a', 'i', '/i', 'span', '/span', '/a', '/li', 'li', 'a', 'i', '/i', 'span', '/span', '/a', '/li', 'li', 'a', 'i', '/i', 'span', '/span', '/a', '/li', 'li', 'a', 'i', '/i', 'span', '/span', '/a', '/li', 'li', 'a', 'i', '/i', 'span', '/span', '/a', '/li', 'li', 'a', 'i', '/i', 'span', '/span', '/a', '/li', 'li', 'a', 'i', '/i', 'span', '/span', '/a', '/li', 'li', 'a', 'i', '/i', 'span', '/span', '/a', '/li', 'li', 'a', 'i', '/i', 'span', '/span', '/a', '/li', 'li', 'a', 'i', '/i', 'span', '/span', '/a', '/li', 'li', 'a', 'i', '/i', 'span', '/span', '/a', '/li', '/ul', '/div', '/aside', 'main', 'section', 'h6', '/h6', 'div', 'div', 'div', 'div', 'div', 'div', 'div', 'span', '/span', 'h5', '/h5', '/div', 'div', 'a', '/a', '/div', '/div', 'div', 'a', 'p', '/p', '/a', 'a', 'p', '/p', '/a', '/div', '/div', '/div', '/div', '/div', '/div', '/section', 'footer', 'div', 'div', 'span', '/span', '/div', '/div', 'ul', 'a', '/a', '/ul', 'a', 'i', '/i', '/a', '/footer', '/main', '/div', '/div', 'script', '/script', 'script', '/script', 'script', '/script', 'script', '/script', 'script', '/script', 'script', '/script', 'script', '/script', 'script', '/script', 'script', '/script', 'script', '/script', 'script', '/script', 'script', '/script', 'script', '/script', 'div', 'div', 'div', '/div', '/div', '/div', '/body', '/html']\n"
     ]
    }
   ],
   "source": [
    "lista_tags = processar_html(texto_html)\n",
    "print(lista_tags)"
   ]
  },
  {
   "cell_type": "code",
   "execution_count": 21,
   "id": "03fd9804",
   "metadata": {},
   "outputs": [],
   "source": [
    "def localizar_tags(lista_tags):\n",
    "    \n",
    "    caminhos = []\n",
    "    caminho_atual = []\n",
    "    \n",
    "    for ele in lista_tags:\n",
    "        \n",
    "        if ele.startswith(\"/\"):\n",
    "            caminho_atual.pop()\n",
    "        else:\n",
    "            caminho_atual.append(ele)\n",
    "            \n",
    "        if ele == \"a\":\n",
    "            caminhos.append(caminho_atual.copy())\n",
    "            \n",
    "    return caminhos\n",
    "            "
   ]
  },
  {
   "cell_type": "code",
   "execution_count": 22,
   "id": "767b5390",
   "metadata": {},
   "outputs": [],
   "source": [
    "localizacoes = localizar_tags(lista_tags)"
   ]
  },
  {
   "cell_type": "code",
   "execution_count": 23,
   "id": "fb9ea8c9",
   "metadata": {},
   "outputs": [],
   "source": [
    "class No:\n",
    "\n",
    "    def __init__(self, tag):\n",
    "\n",
    "        self.tag = tag\n",
    "        self.sons = {}\n",
    "        self.number = 0"
   ]
  },
  {
   "cell_type": "code",
   "execution_count": 28,
   "id": "5d6b8c1f",
   "metadata": {},
   "outputs": [],
   "source": [
    "class Arvore:\n",
    "    \n",
    "    def __init__(self,tags):\n",
    "        \n",
    "        self.raiz = No(\"\")\n",
    "        self.localizacao_tags = tags\n",
    "        self.resultado = []\n",
    "        self.resultado_string = \"\"\n",
    "        self.vector = []\n",
    "        \n",
    "    def gerar_arvore(self):\n",
    "        \n",
    "        for tags in self.localizacao_tags:\n",
    "            \n",
    "            no_atual = self.raiz\n",
    "            \n",
    "            for tag in tags:\n",
    "                \n",
    "                if tag not in no_atual.sons:\n",
    "                    \n",
    "                    novo_no = No(tag)\n",
    "                    no_atual.sons[tag] = novo_no\n",
    "                    no_atual = novo_no\n",
    "                    \n",
    "                    if tag == 'a':\n",
    "                        novo_no.number = 1\n",
    "                    \n",
    "                else:\n",
    "                    \n",
    "                    no_atual = no_atual.sons[tag]\n",
    "                \n",
    "                    if tag == 'a':\n",
    "                        novo_no.number +=1\n",
    "                \n",
    "        return self.raiz\n",
    "                \n",
    "        \n",
    "    def caminhar_em_profundidade(self, no):\n",
    "        \n",
    "        no_atual = no\n",
    "        self.resultado.append(no_atual.tag)\n",
    "        \n",
    "        if not any(no_atual.sons):\n",
    "            return\n",
    "        \n",
    "        else:\n",
    "            \n",
    "            for no in no_atual.sons:\n",
    "            \n",
    "                self.caminhar_em_profundidade(no_atual.sons[no])\n",
    "                \n",
    "    def gerar_resultado(self):\n",
    "        \n",
    "        self.resultado_string = \"/\".join(self.resultado)\n",
    "    "
   ]
  },
  {
   "cell_type": "code",
   "execution_count": 29,
   "id": "6110e73c",
   "metadata": {},
   "outputs": [],
   "source": [
    "arv = Arvore(localizacoes)\n",
    "raiz = arv.gerar_arvore()"
   ]
  },
  {
   "cell_type": "code",
   "execution_count": 30,
   "id": "8cc04627",
   "metadata": {},
   "outputs": [
    {
     "name": "stdout",
     "output_type": "stream",
     "text": [
      "<__main__.No object at 0x7f6036a83220>\n"
     ]
    }
   ],
   "source": [
    "print(raiz)"
   ]
  },
  {
   "cell_type": "code",
   "execution_count": 31,
   "id": "70b4f44f",
   "metadata": {},
   "outputs": [],
   "source": [
    "arv.caminhar_em_profundidade(raiz)\n",
    "arv.gerar_resultado()"
   ]
  },
  {
   "cell_type": "code",
   "execution_count": 32,
   "id": "241998a1",
   "metadata": {},
   "outputs": [
    {
     "data": {
      "text/plain": [
       "'/html/body/div/nav/div/a/ul/li/a/div/div/ul/a/div/aside/div/ul/li/a/main/section/div/div/div/div/div/div/div/a/a/footer/ul/a/a'"
      ]
     },
     "execution_count": 32,
     "metadata": {},
     "output_type": "execute_result"
    }
   ],
   "source": [
    "arv.resultado_string"
   ]
  },
  {
   "cell_type": "code",
   "execution_count": 33,
   "id": "76296572",
   "metadata": {},
   "outputs": [],
   "source": [
    "def gerar_arvore_url(url):\n",
    "    \n",
    "    texto_html = extrairHtml(url)\n",
    "    \n",
    "    lista_tags = processar_html(texto_html)\n",
    "    localizacoes = localizar_tags(lista_tags)\n",
    "    \n",
    "    arv = Arvore(localizacoes)\n",
    "    raiz = arv.gerar_arvore()\n",
    "    \n",
    "    arv.caminhar_em_profundidade(raiz)\n",
    "    arv.gerar_resultado()\n",
    "    \n",
    "    return arv.resultado_string"
   ]
  },
  {
   "cell_type": "code",
   "execution_count": 34,
   "id": "8750428e",
   "metadata": {},
   "outputs": [],
   "source": [
    "testes = [gerar_arvore_url(teste) for teste in testes]"
   ]
  },
  {
   "cell_type": "code",
   "execution_count": 41,
   "id": "57b87ff4",
   "metadata": {},
   "outputs": [
    {
     "name": "stdout",
     "output_type": "stream",
     "text": [
      "\u001b[0;32m1.00 \u001b[0;32m0.92 \u001b[0;32m0.92 \u001b[1;31m0.93 \u001b[1;31m0.92 \u001b[1;31m0.93 \u001b[1;31m0.93 \u001b[1;31m0.93 \u001b[1;31m0.93 \u001b[1;31m0.94 \u001b[1;31m0.93 \u001b[1;31m0.93 \n",
      "\n",
      "\u001b[0;32m0.92 \u001b[0;32m1.00 \u001b[0;32m0.95 \u001b[1;31m0.92 \u001b[1;31m0.95 \u001b[1;31m0.93 \u001b[1;31m0.92 \u001b[1;31m0.92 \u001b[1;31m0.92 \u001b[1;31m0.90 \u001b[1;31m0.92 \u001b[1;31m0.92 \n",
      "\n",
      "\u001b[0;32m0.92 \u001b[0;32m0.95 \u001b[0;32m1.00 \u001b[1;31m0.92 \u001b[1;31m1.00 \u001b[1;31m0.92 \u001b[1;31m0.92 \u001b[1;31m0.92 \u001b[1;31m0.92 \u001b[1;31m0.90 \u001b[1;31m0.92 \u001b[1;31m0.92 \n",
      "\n",
      "\u001b[1;31m0.93 \u001b[1;31m0.92 \u001b[1;31m0.92 \u001b[1;34m1.00 \u001b[1;34m0.92 \u001b[1;34m0.96 \u001b[1;31m1.00 \u001b[1;31m1.00 \u001b[1;31m1.00 \u001b[1;31m0.96 \u001b[1;31m1.00 \u001b[1;31m0.98 \n",
      "\n",
      "\u001b[1;31m0.92 \u001b[1;31m0.95 \u001b[1;31m1.00 \u001b[1;34m0.92 \u001b[1;34m1.00 \u001b[1;34m0.92 \u001b[1;31m0.92 \u001b[1;31m0.92 \u001b[1;31m0.92 \u001b[1;31m0.90 \u001b[1;31m0.92 \u001b[1;31m0.92 \n",
      "\n",
      "\u001b[1;31m0.93 \u001b[1;31m0.93 \u001b[1;31m0.92 \u001b[1;34m0.96 \u001b[1;34m0.92 \u001b[1;34m1.00 \u001b[1;31m0.96 \u001b[1;31m0.96 \u001b[1;31m0.96 \u001b[1;31m0.94 \u001b[1;31m0.96 \u001b[1;31m0.97 \n",
      "\n",
      "\u001b[1;31m0.93 \u001b[1;31m0.92 \u001b[1;31m0.92 \u001b[1;31m1.00 \u001b[1;31m0.92 \u001b[1;31m0.96 \u001b[1;36m1.00 \u001b[1;36m1.00 \u001b[1;36m1.00 \u001b[1;31m0.96 \u001b[1;31m1.00 \u001b[1;31m0.98 \n",
      "\n",
      "\u001b[1;31m0.93 \u001b[1;31m0.92 \u001b[1;31m0.92 \u001b[1;31m1.00 \u001b[1;31m0.92 \u001b[1;31m0.96 \u001b[1;36m1.00 \u001b[1;36m1.00 \u001b[1;36m1.00 \u001b[1;31m0.96 \u001b[1;31m1.00 \u001b[1;31m0.98 \n",
      "\n",
      "\u001b[1;31m0.93 \u001b[1;31m0.92 \u001b[1;31m0.92 \u001b[1;31m1.00 \u001b[1;31m0.92 \u001b[1;31m0.96 \u001b[1;36m1.00 \u001b[1;36m1.00 \u001b[1;36m1.00 \u001b[1;31m0.96 \u001b[1;31m1.00 \u001b[1;31m0.98 \n",
      "\n",
      "\u001b[1;31m0.94 \u001b[1;31m0.90 \u001b[1;31m0.90 \u001b[1;31m0.96 \u001b[1;31m0.90 \u001b[1;31m0.94 \u001b[1;31m0.96 \u001b[1;31m0.96 \u001b[1;31m0.96 \u001b[1;31m1.00 \u001b[1;31m0.96 \u001b[1;31m0.96 \n",
      "\n",
      "\u001b[1;31m0.93 \u001b[1;31m0.92 \u001b[1;31m0.92 \u001b[1;31m1.00 \u001b[1;31m0.92 \u001b[1;31m0.96 \u001b[1;31m1.00 \u001b[1;31m1.00 \u001b[1;31m1.00 \u001b[1;31m0.96 \u001b[1;31m1.00 \u001b[1;31m0.98 \n",
      "\n",
      "\u001b[1;31m0.93 \u001b[1;31m0.92 \u001b[1;31m0.92 \u001b[1;31m0.98 \u001b[1;31m0.92 \u001b[1;31m0.97 \u001b[1;31m0.98 \u001b[1;31m0.98 \u001b[1;31m0.98 \u001b[1;31m0.96 \u001b[1;31m0.98 \u001b[1;31m1.00 \n",
      "\n",
      "\u001b[0;0mSimilaridade Desejada Média = 0.95\n",
      "Similaridade Não Desejada Média = 0.95\n"
     ]
    }
   ],
   "source": [
    "gerarResultados(jellyfish.jaro_distance, testes)"
   ]
  },
  {
   "cell_type": "code",
   "execution_count": 40,
   "id": "001feb6d",
   "metadata": {},
   "outputs": [
    {
     "name": "stdout",
     "output_type": "stream",
     "text": [
      "/html/body/div/nav/div/a/ul/li/a/div/div/ul/a/div/aside/div/ul/li/a/main/section/div/div/div/div/div/table/tbody/tr/td/a/footer/ul/a/a\n",
      "/html/body/div/nav/div/a/ul/li/a/div/div/ul/a/div/aside/div/ul/li/a/main/section/div/div/div/div/div/div/div/div/table/tbody/tr/td/a/ul/li/a/footer/ul/a/a\n",
      "/html/body/div/nav/div/a/ul/li/a/div/div/ul/a/div/aside/div/ul/li/a/main/section/div/div/div/div/div/div/div/a/div/table/tbody/tr/td/a/ul/li/a/footer/ul/a/a\n",
      "/html/body/div/nav/div/a/ul/li/a/div/div/ul/a/div/aside/div/ul/li/a/main/section/div/div/div/div/div/div/div/a/footer/ul/a/a\n",
      "/html/body/div/nav/div/a/ul/li/a/div/div/ul/a/div/aside/div/ul/li/a/main/section/div/div/div/div/div/div/div/a/div/table/tbody/tr/td/a/ul/li/a/footer/ul/a/a\n",
      "/html/body/div/nav/div/a/ul/li/a/div/div/ul/a/div/aside/div/ul/li/a/main/section/div/div/div/div/div/div/div/a/ul/li/a/footer/ul/a/a\n",
      "/html/body/div/nav/div/a/ul/li/a/div/div/ul/a/div/aside/div/ul/li/a/main/section/div/div/div/div/div/div/div/a/footer/ul/a/a\n",
      "/html/body/div/nav/div/a/ul/li/a/div/div/ul/a/div/aside/div/ul/li/a/main/section/div/div/div/div/div/div/div/a/footer/ul/a/a\n",
      "/html/body/div/nav/div/a/ul/li/a/div/div/ul/a/div/aside/div/ul/li/a/main/section/div/div/div/div/div/div/div/a/footer/ul/a/a\n",
      "/html/body/div/nav/div/a/ul/li/a/div/div/ul/a/div/aside/div/ul/li/a/main/section/div/div/div/div/div/a/footer/ul/a/a\n",
      "/html/body/div/nav/div/a/ul/li/a/div/div/ul/a/div/aside/div/ul/li/a/main/section/div/div/div/div/div/div/div/a/footer/ul/a/a\n",
      "/html/body/div/nav/div/a/ul/li/a/div/div/ul/a/div/aside/div/ul/li/a/main/section/div/div/div/div/div/div/div/a/a/footer/ul/a/a\n"
     ]
    }
   ],
   "source": [
    "for teste in testes:\n",
    "    print(teste)"
   ]
  },
  {
   "cell_type": "code",
   "execution_count": null,
   "id": "23abbad1",
   "metadata": {},
   "outputs": [],
   "source": []
  }
 ],
 "metadata": {
  "kernelspec": {
   "display_name": "Python 3 (ipykernel)",
   "language": "python",
   "name": "python3"
  },
  "language_info": {
   "codemirror_mode": {
    "name": "ipython",
    "version": 3
   },
   "file_extension": ".py",
   "mimetype": "text/x-python",
   "name": "python",
   "nbconvert_exporter": "python",
   "pygments_lexer": "ipython3",
   "version": "3.8.10"
  }
 },
 "nbformat": 4,
 "nbformat_minor": 5
}
