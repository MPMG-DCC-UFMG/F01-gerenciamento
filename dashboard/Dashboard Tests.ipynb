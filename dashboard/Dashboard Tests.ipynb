{
 "cells": [
  {
   "cell_type": "code",
   "execution_count": 1,
   "metadata": {},
   "outputs": [
    {
     "name": "stderr",
     "output_type": "stream",
     "text": [
      "/usr/lib/python3/dist-packages/requests/__init__.py:89: RequestsDependencyWarning: urllib3 (1.26.8) or chardet (4.0.0) doesn't match a supported version!\n",
      "  warnings.warn(\"urllib3 ({}) or chardet ({}) doesn't match a supported \"\n"
     ]
    }
   ],
   "source": [
    "import dash, math, datetime as dt, pandas as pd\n",
    "from dash.dependencies import Input, Output, State, ClientsideFunction\n",
    "from dash import dcc, html\n",
    "import dash_bootstrap_components as dbc\n",
    "from dash_bootstrap_templates import load_figure_template\n",
    "import plotly\n",
    "import plotly.io as pio\n",
    "import plotly.graph_objects as go \n",
    "import plotly.figure_factory as ff\n",
    "import plotly.express as px\n",
    "import datetime    \n",
    "import utils\n",
    "from tqdm import tqdm \n",
    "tqdm.pandas()\n",
    "import spacy\n",
    "nlp = spacy.load('pt_core_news_sm')\n",
    "\n",
    "%load_ext autoreload\n",
    "%autoreload 2\n",
    "import figures, main_etl, extract_data, transform_data\n",
    "\n",
    "# Seaborn colors  \n",
    "# ['#4c72b0', '#dd8452', '#55a868', '#c44e52', '#8172b3', \n",
    "# '#937860', '#da8bc3', '#8c8c8c', '#ccb974', '#64b5cd']    "
   ]
  },
  {
   "cell_type": "code",
   "execution_count": 2,
   "metadata": {},
   "outputs": [],
   "source": [
    "from github import Github\n",
    "from zenhub import Zenhub\n",
    "\n",
    "with open('tokens.txt') as f:\n",
    "     git_token, zh_token = [line.rstrip('\\n') for line in f.readlines()]    \n",
    "        \n",
    "zh = Zenhub(zh_token)\n",
    "g = Github(git_token)\n",
    "\n",
    "repo_id='357557193'    \n",
    "repo_C01 = g.get_repo(\"MPMG-DCC-UFMG/C01\")\n",
    "repo_F01 = g.get_repo(\"MPMG-DCC-UFMG/F01\")"
   ]
  },
  {
   "cell_type": "markdown",
   "metadata": {
    "tags": []
   },
   "source": [
    "## Update Dados Coleta"
   ]
  },
  {
   "cell_type": "code",
   "execution_count": null,
   "metadata": {},
   "outputs": [],
   "source": [
    "%%time \n",
    "\n",
    "main_etl.update_data_coletas(git_token, zh_token) # 8min 33s\n",
    "# main_etl.update_data_desenvolvimento(git_token, zh_token)"
   ]
  },
  {
   "cell_type": "markdown",
   "metadata": {
    "jp-MarkdownHeadingCollapsed": true,
    "tags": []
   },
   "source": [
    "## Clusterização de portais"
   ]
  },
  {
   "cell_type": "markdown",
   "metadata": {
    "tags": []
   },
   "source": [
    "### Diferenças entre fontes"
   ]
  },
  {
   "cell_type": "code",
   "execution_count": 110,
   "metadata": {},
   "outputs": [
    {
     "name": "stdout",
     "output_type": "stream",
     "text": [
      "Planilha: (853, 4)\n"
     ]
    },
    {
     "data": {
      "text/html": [
       "<div>\n",
       "<style scoped>\n",
       "    .dataframe tbody tr th:only-of-type {\n",
       "        vertical-align: middle;\n",
       "    }\n",
       "\n",
       "    .dataframe tbody tr th {\n",
       "        vertical-align: top;\n",
       "    }\n",
       "\n",
       "    .dataframe thead th {\n",
       "        text-align: right;\n",
       "    }\n",
       "</style>\n",
       "<table border=\"1\" class=\"dataframe\">\n",
       "  <thead>\n",
       "    <tr style=\"text-align: right;\">\n",
       "      <th></th>\n",
       "      <th>#Rank</th>\n",
       "      <th>Município</th>\n",
       "      <th>Desenvolvedor</th>\n",
       "      <th>Portal da Transparência (validado)</th>\n",
       "    </tr>\n",
       "  </thead>\n",
       "  <tbody>\n",
       "    <tr>\n",
       "      <th>65</th>\n",
       "      <td>1</td>\n",
       "      <td>Belo Horizonte</td>\n",
       "      <td>prefeitura</td>\n",
       "      <td>https://transparencia.pbh.gov.br/</td>\n",
       "    </tr>\n",
       "    <tr>\n",
       "      <th>824</th>\n",
       "      <td>2</td>\n",
       "      <td>Uberlândia</td>\n",
       "      <td>prefeitura</td>\n",
       "      <td>https://www.uberlandia.mg.gov.br/portal-da-tra...</td>\n",
       "    </tr>\n",
       "    <tr>\n",
       "      <th>205</th>\n",
       "      <td>3</td>\n",
       "      <td>Contagem</td>\n",
       "      <td>prefeitura</td>\n",
       "      <td>http://www.contagem.mg.gov.br/transparencia/</td>\n",
       "    </tr>\n",
       "    <tr>\n",
       "      <th>418</th>\n",
       "      <td>4</td>\n",
       "      <td>Juiz de Fora</td>\n",
       "      <td>prefeitura</td>\n",
       "      <td>https://www.pjf.mg.gov.br/transparencia/</td>\n",
       "    </tr>\n",
       "    <tr>\n",
       "      <th>71</th>\n",
       "      <td>5</td>\n",
       "      <td>Betim</td>\n",
       "      <td>prefeitura</td>\n",
       "      <td>http://www.betim.mg.gov.br/transparencia/</td>\n",
       "    </tr>\n",
       "  </tbody>\n",
       "</table>\n",
       "</div>"
      ],
      "text/plain": [
       "     #Rank       Município Desenvolvedor  \\\n",
       "65       1  Belo Horizonte    prefeitura   \n",
       "824      2      Uberlândia    prefeitura   \n",
       "205      3        Contagem    prefeitura   \n",
       "418      4    Juiz de Fora    prefeitura   \n",
       "71       5           Betim    prefeitura   \n",
       "\n",
       "                    Portal da Transparência (validado)  \n",
       "65                   https://transparencia.pbh.gov.br/  \n",
       "824  https://www.uberlandia.mg.gov.br/portal-da-tra...  \n",
       "205       http://www.contagem.mg.gov.br/transparencia/  \n",
       "418           https://www.pjf.mg.gov.br/transparencia/  \n",
       "71           http://www.betim.mg.gov.br/transparencia/  "
      ]
     },
     "metadata": {},
     "output_type": "display_data"
    },
    {
     "name": "stdout",
     "output_type": "stream",
     "text": [
      "Clustering: (837, 4)\n"
     ]
    },
    {
     "data": {
      "text/html": [
       "<div>\n",
       "<style scoped>\n",
       "    .dataframe tbody tr th:only-of-type {\n",
       "        vertical-align: middle;\n",
       "    }\n",
       "\n",
       "    .dataframe tbody tr th {\n",
       "        vertical-align: top;\n",
       "    }\n",
       "\n",
       "    .dataframe thead th {\n",
       "        text-align: right;\n",
       "    }\n",
       "</style>\n",
       "<table border=\"1\" class=\"dataframe\">\n",
       "  <thead>\n",
       "    <tr style=\"text-align: right;\">\n",
       "      <th></th>\n",
       "      <th>municipio</th>\n",
       "      <th>template_name_size</th>\n",
       "      <th>template</th>\n",
       "      <th>cluster_id</th>\n",
       "    </tr>\n",
       "  </thead>\n",
       "  <tbody>\n",
       "    <tr>\n",
       "      <th>0</th>\n",
       "      <td>Alvorada de Minas</td>\n",
       "      <td>Síntese Tecnologia e Informática (88)</td>\n",
       "      <td>Síntese Tecnologia e Informática</td>\n",
       "      <td>5</td>\n",
       "    </tr>\n",
       "    <tr>\n",
       "      <th>1</th>\n",
       "      <td>Aricanduva</td>\n",
       "      <td>Síntese Tecnologia e Informática (88)</td>\n",
       "      <td>Síntese Tecnologia e Informática</td>\n",
       "      <td>5</td>\n",
       "    </tr>\n",
       "    <tr>\n",
       "      <th>2</th>\n",
       "      <td>Augusto de Lima</td>\n",
       "      <td>Síntese Tecnologia e Informática (88)</td>\n",
       "      <td>Síntese Tecnologia e Informática</td>\n",
       "      <td>5</td>\n",
       "    </tr>\n",
       "    <tr>\n",
       "      <th>3</th>\n",
       "      <td>Berilo</td>\n",
       "      <td>Síntese Tecnologia e Informática (88)</td>\n",
       "      <td>Síntese Tecnologia e Informática</td>\n",
       "      <td>5</td>\n",
       "    </tr>\n",
       "    <tr>\n",
       "      <th>4</th>\n",
       "      <td>Bocaiúva</td>\n",
       "      <td>Síntese Tecnologia e Informática (88)</td>\n",
       "      <td>Síntese Tecnologia e Informática</td>\n",
       "      <td>5</td>\n",
       "    </tr>\n",
       "  </tbody>\n",
       "</table>\n",
       "</div>"
      ],
      "text/plain": [
       "           municipio                     template_name_size  \\\n",
       "0  Alvorada de Minas  Síntese Tecnologia e Informática (88)   \n",
       "1         Aricanduva  Síntese Tecnologia e Informática (88)   \n",
       "2    Augusto de Lima  Síntese Tecnologia e Informática (88)   \n",
       "3             Berilo  Síntese Tecnologia e Informática (88)   \n",
       "4           Bocaiúva  Síntese Tecnologia e Informática (88)   \n",
       "\n",
       "                           template  cluster_id  \n",
       "0  Síntese Tecnologia e Informática           5  \n",
       "1  Síntese Tecnologia e Informática           5  \n",
       "2  Síntese Tecnologia e Informática           5  \n",
       "3  Síntese Tecnologia e Informática           5  \n",
       "4  Síntese Tecnologia e Informática           5  "
      ]
     },
     "metadata": {},
     "output_type": "display_data"
    }
   ],
   "source": [
    "planilha = pd.read_csv('data/Portais x Templates - links_validados.csv', \n",
    "                       usecols=['#Rank', 'Município','Desenvolvedor', \n",
    "                                'Portal da Transparência (validado)']\n",
    "                      ).sort_values('#Rank')\n",
    "print('Planilha:', planilha.shape)\n",
    "display(planilha.head())\n",
    "\n",
    "clustering = pd.read_csv('data/municipios_clusters.csv',\n",
    "                        usecols=['municipio', 'template_name_size',\n",
    "                                 'template', 'cluster_id'])\n",
    "print('Clustering:', clustering.shape)\n",
    "display(clustering.head())"
   ]
  },
  {
   "cell_type": "code",
   "execution_count": 111,
   "metadata": {},
   "outputs": [
    {
     "data": {
      "text/html": [
       "<div>\n",
       "<style scoped>\n",
       "    .dataframe tbody tr th:only-of-type {\n",
       "        vertical-align: middle;\n",
       "    }\n",
       "\n",
       "    .dataframe tbody tr th {\n",
       "        vertical-align: top;\n",
       "    }\n",
       "\n",
       "    .dataframe thead th {\n",
       "        text-align: right;\n",
       "    }\n",
       "</style>\n",
       "<table border=\"1\" class=\"dataframe\">\n",
       "  <thead>\n",
       "    <tr style=\"text-align: right;\">\n",
       "      <th></th>\n",
       "      <th>#Rank</th>\n",
       "      <th>Município</th>\n",
       "      <th>Desenvolvedor</th>\n",
       "      <th>Portal da Transparência (validado)</th>\n",
       "      <th>municipio</th>\n",
       "      <th>template_name_size</th>\n",
       "      <th>template</th>\n",
       "      <th>cluster_id</th>\n",
       "    </tr>\n",
       "  </thead>\n",
       "  <tbody>\n",
       "    <tr>\n",
       "      <th>0</th>\n",
       "      <td>1</td>\n",
       "      <td>Belo Horizonte</td>\n",
       "      <td>prefeitura</td>\n",
       "      <td>https://transparencia.pbh.gov.br/</td>\n",
       "      <td>Belo Horizonte</td>\n",
       "      <td>Template1 (9)</td>\n",
       "      <td>template1</td>\n",
       "      <td>24.0</td>\n",
       "    </tr>\n",
       "    <tr>\n",
       "      <th>1</th>\n",
       "      <td>2</td>\n",
       "      <td>Uberlândia</td>\n",
       "      <td>prefeitura</td>\n",
       "      <td>https://www.uberlandia.mg.gov.br/portal-da-tra...</td>\n",
       "      <td>Uberlândia</td>\n",
       "      <td>NaN</td>\n",
       "      <td>sem_nome_no_clustering</td>\n",
       "      <td>403.0</td>\n",
       "    </tr>\n",
       "    <tr>\n",
       "      <th>2</th>\n",
       "      <td>3</td>\n",
       "      <td>Contagem</td>\n",
       "      <td>prefeitura</td>\n",
       "      <td>http://www.contagem.mg.gov.br/transparencia/</td>\n",
       "      <td>Contagem</td>\n",
       "      <td>NaN</td>\n",
       "      <td>sem_nome_no_clustering</td>\n",
       "      <td>772.0</td>\n",
       "    </tr>\n",
       "    <tr>\n",
       "      <th>3</th>\n",
       "      <td>4</td>\n",
       "      <td>Juiz de Fora</td>\n",
       "      <td>prefeitura</td>\n",
       "      <td>https://www.pjf.mg.gov.br/transparencia/</td>\n",
       "      <td>Juiz de Fora</td>\n",
       "      <td>NaN</td>\n",
       "      <td>sem_nome_no_clustering</td>\n",
       "      <td>63.0</td>\n",
       "    </tr>\n",
       "    <tr>\n",
       "      <th>4</th>\n",
       "      <td>5</td>\n",
       "      <td>Betim</td>\n",
       "      <td>prefeitura</td>\n",
       "      <td>http://www.betim.mg.gov.br/transparencia/</td>\n",
       "      <td>Betim</td>\n",
       "      <td>NaN</td>\n",
       "      <td>sem_nome_no_clustering</td>\n",
       "      <td>651.0</td>\n",
       "    </tr>\n",
       "    <tr>\n",
       "      <th>...</th>\n",
       "      <td>...</td>\n",
       "      <td>...</td>\n",
       "      <td>...</td>\n",
       "      <td>...</td>\n",
       "      <td>...</td>\n",
       "      <td>...</td>\n",
       "      <td>...</td>\n",
       "      <td>...</td>\n",
       "    </tr>\n",
       "    <tr>\n",
       "      <th>848</th>\n",
       "      <td>849</td>\n",
       "      <td>São Sebastião do Rio Preto</td>\n",
       "      <td>prefeitura</td>\n",
       "      <td>http://saosebastiaodoriopreto.mg.gov.br/transp...</td>\n",
       "      <td>São Sebastião do Rio Preto</td>\n",
       "      <td>NaN</td>\n",
       "      <td>sem_nome_no_clustering</td>\n",
       "      <td>66.0</td>\n",
       "    </tr>\n",
       "    <tr>\n",
       "      <th>849</th>\n",
       "      <td>850</td>\n",
       "      <td>Senador José Bento</td>\n",
       "      <td>portalfacil</td>\n",
       "      <td>http://www.transparenciafacil.com.br/0211202</td>\n",
       "      <td>Senador José Bento</td>\n",
       "      <td>Portal Fácil (46)</td>\n",
       "      <td>portalfacil</td>\n",
       "      <td>2.0</td>\n",
       "    </tr>\n",
       "    <tr>\n",
       "      <th>850</th>\n",
       "      <td>851</td>\n",
       "      <td>Grupiara</td>\n",
       "      <td>404</td>\n",
       "      <td>http://179.189.0.196:8444/transparencia/</td>\n",
       "      <td>NaN</td>\n",
       "      <td>NaN</td>\n",
       "      <td>NaN</td>\n",
       "      <td>NaN</td>\n",
       "    </tr>\n",
       "    <tr>\n",
       "      <th>851</th>\n",
       "      <td>852</td>\n",
       "      <td>Cedro do Abaeté</td>\n",
       "      <td>adpm</td>\n",
       "      <td>http://www.adpmnet.com.br/index.php?option=com...</td>\n",
       "      <td>Cedro do Abaeté</td>\n",
       "      <td>ADPM (22)</td>\n",
       "      <td>adpm</td>\n",
       "      <td>28.0</td>\n",
       "    </tr>\n",
       "    <tr>\n",
       "      <th>852</th>\n",
       "      <td>853</td>\n",
       "      <td>Serra da Saudade</td>\n",
       "      <td>prefeitura</td>\n",
       "      <td>http://serradasaudade.com/recursos_humanos.html</td>\n",
       "      <td>Serra da Saudade</td>\n",
       "      <td>NaN</td>\n",
       "      <td>sem_nome_no_clustering</td>\n",
       "      <td>177.0</td>\n",
       "    </tr>\n",
       "  </tbody>\n",
       "</table>\n",
       "<p>853 rows × 8 columns</p>\n",
       "</div>"
      ],
      "text/plain": [
       "     #Rank                   Município Desenvolvedor  \\\n",
       "0        1              Belo Horizonte    prefeitura   \n",
       "1        2                  Uberlândia    prefeitura   \n",
       "2        3                    Contagem    prefeitura   \n",
       "3        4                Juiz de Fora    prefeitura   \n",
       "4        5                       Betim    prefeitura   \n",
       "..     ...                         ...           ...   \n",
       "848    849  São Sebastião do Rio Preto    prefeitura   \n",
       "849    850          Senador José Bento   portalfacil   \n",
       "850    851                    Grupiara           404   \n",
       "851    852             Cedro do Abaeté          adpm   \n",
       "852    853            Serra da Saudade    prefeitura   \n",
       "\n",
       "                    Portal da Transparência (validado)  \\\n",
       "0                    https://transparencia.pbh.gov.br/   \n",
       "1    https://www.uberlandia.mg.gov.br/portal-da-tra...   \n",
       "2         http://www.contagem.mg.gov.br/transparencia/   \n",
       "3             https://www.pjf.mg.gov.br/transparencia/   \n",
       "4            http://www.betim.mg.gov.br/transparencia/   \n",
       "..                                                 ...   \n",
       "848  http://saosebastiaodoriopreto.mg.gov.br/transp...   \n",
       "849       http://www.transparenciafacil.com.br/0211202   \n",
       "850           http://179.189.0.196:8444/transparencia/   \n",
       "851  http://www.adpmnet.com.br/index.php?option=com...   \n",
       "852    http://serradasaudade.com/recursos_humanos.html   \n",
       "\n",
       "                      municipio template_name_size                template  \\\n",
       "0                Belo Horizonte      Template1 (9)               template1   \n",
       "1                    Uberlândia                NaN  sem_nome_no_clustering   \n",
       "2                      Contagem                NaN  sem_nome_no_clustering   \n",
       "3                  Juiz de Fora                NaN  sem_nome_no_clustering   \n",
       "4                         Betim                NaN  sem_nome_no_clustering   \n",
       "..                          ...                ...                     ...   \n",
       "848  São Sebastião do Rio Preto                NaN  sem_nome_no_clustering   \n",
       "849          Senador José Bento  Portal Fácil (46)             portalfacil   \n",
       "850                         NaN                NaN                     NaN   \n",
       "851             Cedro do Abaeté          ADPM (22)                    adpm   \n",
       "852            Serra da Saudade                NaN  sem_nome_no_clustering   \n",
       "\n",
       "     cluster_id  \n",
       "0          24.0  \n",
       "1         403.0  \n",
       "2         772.0  \n",
       "3          63.0  \n",
       "4         651.0  \n",
       "..          ...  \n",
       "848        66.0  \n",
       "849         2.0  \n",
       "850         NaN  \n",
       "851        28.0  \n",
       "852       177.0  \n",
       "\n",
       "[853 rows x 8 columns]"
      ]
     },
     "execution_count": 111,
     "metadata": {},
     "output_type": "execute_result"
    }
   ],
   "source": [
    "# pre-processing\n",
    "clustering.template = clustering.template.str.normalize('NFKD').str.encode(\n",
    "    'ascii', errors='ignore').str.decode('utf-8')\n",
    "clustering.template = clustering.template.str.lower()\n",
    "clustering.template = clustering.template.str.replace(' ', '')\n",
    "planilha.Desenvolvedor = planilha.Desenvolvedor.str.lower()\n",
    "planilha.Desenvolvedor = planilha.Desenvolvedor.str.replace(' ', '')\n",
    "clustering.template = clustering.template.fillna('sem_nome_no_clustering')\n",
    "\n",
    "clustering.loc[clustering.municipio == 'Pingo d\\'Água', 'municipio'] = 'Pingo-d\\'Água'\n",
    "clustering.loc[clustering.municipio == 'São Thomé das Letras', 'municipio'] = 'São Tomé das Letras'\n",
    "\n",
    "# merge\n",
    "merged = pd.merge(planilha, clustering, left_on='Município', right_on='municipio', how='outer')\n",
    "merged"
   ]
  },
  {
   "cell_type": "code",
   "execution_count": 115,
   "metadata": {},
   "outputs": [
    {
     "data": {
      "text/html": [
       "<div>\n",
       "<style scoped>\n",
       "    .dataframe tbody tr th:only-of-type {\n",
       "        vertical-align: middle;\n",
       "    }\n",
       "\n",
       "    .dataframe tbody tr th {\n",
       "        vertical-align: top;\n",
       "    }\n",
       "\n",
       "    .dataframe thead th {\n",
       "        text-align: right;\n",
       "    }\n",
       "</style>\n",
       "<table border=\"1\" class=\"dataframe\">\n",
       "  <thead>\n",
       "    <tr style=\"text-align: right;\">\n",
       "      <th></th>\n",
       "      <th>#Rank</th>\n",
       "      <th>Municipio (Planilha)</th>\n",
       "      <th>Municipio (Clustering)</th>\n",
       "      <th>Desenvolvedor (Planilha)</th>\n",
       "      <th>Template (Clustering)</th>\n",
       "      <th>template_name_size</th>\n",
       "      <th>cluster_id</th>\n",
       "      <th>Portal da Transparência (validado)</th>\n",
       "    </tr>\n",
       "  </thead>\n",
       "  <tbody>\n",
       "    <tr>\n",
       "      <th>357</th>\n",
       "      <td>358</td>\n",
       "      <td>Delta</td>\n",
       "      <td>Delta</td>\n",
       "      <td>3gdelta</td>\n",
       "      <td>sem_nome_no_clustering</td>\n",
       "      <td>NaN</td>\n",
       "      <td>29.0</td>\n",
       "      <td>http://www.delta.mg.gov.br/portal-da-transpare...</td>\n",
       "    </tr>\n",
       "    <tr>\n",
       "      <th>372</th>\n",
       "      <td>373</td>\n",
       "      <td>Itamogi</td>\n",
       "      <td>Itamogi</td>\n",
       "      <td>3gnet</td>\n",
       "      <td>sem_nome_no_clustering</td>\n",
       "      <td>NaN</td>\n",
       "      <td>162.0</td>\n",
       "      <td>https://itamogi.mg.gov.br/transparencia/</td>\n",
       "    </tr>\n",
       "    <tr>\n",
       "      <th>457</th>\n",
       "      <td>458</td>\n",
       "      <td>Limeira do Oeste</td>\n",
       "      <td>Limeira do Oeste</td>\n",
       "      <td>3gnet</td>\n",
       "      <td>sem_nome_no_clustering</td>\n",
       "      <td>NaN</td>\n",
       "      <td>470.0</td>\n",
       "      <td>https://limeiradooeste.mg.gov.br/portal-da-tra...</td>\n",
       "    </tr>\n",
       "    <tr>\n",
       "      <th>404</th>\n",
       "      <td>405</td>\n",
       "      <td>Monsenhor Paulo</td>\n",
       "      <td>Monsenhor Paulo</td>\n",
       "      <td>3gnet</td>\n",
       "      <td>sem_nome_no_clustering</td>\n",
       "      <td>NaN</td>\n",
       "      <td>492.0</td>\n",
       "      <td>https://camaramonsenhorpaulo.mg.gov.br/portal-...</td>\n",
       "    </tr>\n",
       "    <tr>\n",
       "      <th>596</th>\n",
       "      <td>597</td>\n",
       "      <td>Senador Amaral</td>\n",
       "      <td>Senador Amaral</td>\n",
       "      <td>3gnet</td>\n",
       "      <td>sem_nome_no_clustering</td>\n",
       "      <td>NaN</td>\n",
       "      <td>563.0</td>\n",
       "      <td>https://senadoramaral.mg.gov.br/portal-da-tran...</td>\n",
       "    </tr>\n",
       "    <tr>\n",
       "      <th>...</th>\n",
       "      <td>...</td>\n",
       "      <td>...</td>\n",
       "      <td>...</td>\n",
       "      <td>...</td>\n",
       "      <td>...</td>\n",
       "      <td>...</td>\n",
       "      <td>...</td>\n",
       "      <td>...</td>\n",
       "    </tr>\n",
       "    <tr>\n",
       "      <th>227</th>\n",
       "      <td>228</td>\n",
       "      <td>Tocantins</td>\n",
       "      <td>Tocantins</td>\n",
       "      <td>wms</td>\n",
       "      <td>sem_nome_no_clustering</td>\n",
       "      <td>NaN</td>\n",
       "      <td>30.0</td>\n",
       "      <td>https://tocantins.mg.gov.br/transparencia/</td>\n",
       "    </tr>\n",
       "    <tr>\n",
       "      <th>89</th>\n",
       "      <td>90</td>\n",
       "      <td>Boa Esperança</td>\n",
       "      <td>Boa Esperança</td>\n",
       "      <td>NaN</td>\n",
       "      <td>betha</td>\n",
       "      <td>Betha (7)</td>\n",
       "      <td>64.0</td>\n",
       "      <td>https://e-gov.betha.com.br/transparencia/01037...</td>\n",
       "    </tr>\n",
       "    <tr>\n",
       "      <th>164</th>\n",
       "      <td>165</td>\n",
       "      <td>Carmo do Cajuru</td>\n",
       "      <td>Carmo do Cajuru</td>\n",
       "      <td>NaN</td>\n",
       "      <td>betha</td>\n",
       "      <td>Betha (7)</td>\n",
       "      <td>64.0</td>\n",
       "      <td>https://e-gov.betha.com.br/transparencia/01037...</td>\n",
       "    </tr>\n",
       "    <tr>\n",
       "      <th>172</th>\n",
       "      <td>173</td>\n",
       "      <td>Monte Alegre de Minas</td>\n",
       "      <td>NaN</td>\n",
       "      <td>NaN</td>\n",
       "      <td>NaN</td>\n",
       "      <td>NaN</td>\n",
       "      <td>NaN</td>\n",
       "      <td>http://187.72.215.252:8080/dadosweb/loginWeb.j...</td>\n",
       "    </tr>\n",
       "    <tr>\n",
       "      <th>181</th>\n",
       "      <td>182</td>\n",
       "      <td>Vazante</td>\n",
       "      <td>Vazante</td>\n",
       "      <td>NaN</td>\n",
       "      <td>sem_nome_no_clustering</td>\n",
       "      <td>NaN</td>\n",
       "      <td>141.0</td>\n",
       "      <td>https://www.vazante.mg.gov.br/</td>\n",
       "    </tr>\n",
       "  </tbody>\n",
       "</table>\n",
       "<p>208 rows × 8 columns</p>\n",
       "</div>"
      ],
      "text/plain": [
       "     #Rank   Municipio (Planilha) Municipio (Clustering)  \\\n",
       "357    358                  Delta                  Delta   \n",
       "372    373                Itamogi                Itamogi   \n",
       "457    458       Limeira do Oeste       Limeira do Oeste   \n",
       "404    405        Monsenhor Paulo        Monsenhor Paulo   \n",
       "596    597         Senador Amaral         Senador Amaral   \n",
       "..     ...                    ...                    ...   \n",
       "227    228              Tocantins              Tocantins   \n",
       "89      90          Boa Esperança          Boa Esperança   \n",
       "164    165        Carmo do Cajuru        Carmo do Cajuru   \n",
       "172    173  Monte Alegre de Minas                    NaN   \n",
       "181    182                Vazante                Vazante   \n",
       "\n",
       "    Desenvolvedor (Planilha)   Template (Clustering) template_name_size  \\\n",
       "357                  3gdelta  sem_nome_no_clustering                NaN   \n",
       "372                    3gnet  sem_nome_no_clustering                NaN   \n",
       "457                    3gnet  sem_nome_no_clustering                NaN   \n",
       "404                    3gnet  sem_nome_no_clustering                NaN   \n",
       "596                    3gnet  sem_nome_no_clustering                NaN   \n",
       "..                       ...                     ...                ...   \n",
       "227                      wms  sem_nome_no_clustering                NaN   \n",
       "89                       NaN                   betha          Betha (7)   \n",
       "164                      NaN                   betha          Betha (7)   \n",
       "172                      NaN                     NaN                NaN   \n",
       "181                      NaN  sem_nome_no_clustering                NaN   \n",
       "\n",
       "     cluster_id                 Portal da Transparência (validado)  \n",
       "357        29.0  http://www.delta.mg.gov.br/portal-da-transpare...  \n",
       "372       162.0           https://itamogi.mg.gov.br/transparencia/  \n",
       "457       470.0  https://limeiradooeste.mg.gov.br/portal-da-tra...  \n",
       "404       492.0  https://camaramonsenhorpaulo.mg.gov.br/portal-...  \n",
       "596       563.0  https://senadoramaral.mg.gov.br/portal-da-tran...  \n",
       "..          ...                                                ...  \n",
       "227        30.0         https://tocantins.mg.gov.br/transparencia/  \n",
       "89         64.0  https://e-gov.betha.com.br/transparencia/01037...  \n",
       "164        64.0  https://e-gov.betha.com.br/transparencia/01037...  \n",
       "172         NaN  http://187.72.215.252:8080/dadosweb/loginWeb.j...  \n",
       "181       141.0                     https://www.vazante.mg.gov.br/  \n",
       "\n",
       "[208 rows x 8 columns]"
      ]
     },
     "execution_count": 115,
     "metadata": {},
     "output_type": "execute_result"
    }
   ],
   "source": [
    "conflicts = merged[merged.Desenvolvedor != merged.template]\n",
    "conflicts = conflicts[['#Rank', 'Município', 'municipio', 'Desenvolvedor', 'template', 'template_name_size', \n",
    "                       'cluster_id', 'Portal da Transparência (validado)']]\n",
    "conflicts = conflicts.rename(columns={'Município': 'Municipio (Planilha)',\n",
    "                                      'municipio': 'Municipio (Clustering)',\n",
    "                                      'Desenvolvedor': 'Desenvolvedor (Planilha)',\n",
    "                                      'template': 'Template (Clustering)'}) \n",
    "conflicts = conflicts.sort_values(['Desenvolvedor (Planilha)', 'Municipio (Planilha)'])                                      \n",
    "conflicts.to_csv('data/conflitos_templates.csv', index=False)\n",
    "conflicts"
   ]
  },
  {
   "cell_type": "code",
   "execution_count": 58,
   "metadata": {},
   "outputs": [
    {
     "data": {
      "text/html": [
       "<div>\n",
       "<style scoped>\n",
       "    .dataframe tbody tr th:only-of-type {\n",
       "        vertical-align: middle;\n",
       "    }\n",
       "\n",
       "    .dataframe tbody tr th {\n",
       "        vertical-align: top;\n",
       "    }\n",
       "\n",
       "    .dataframe thead th {\n",
       "        text-align: right;\n",
       "    }\n",
       "</style>\n",
       "<table border=\"1\" class=\"dataframe\">\n",
       "  <thead>\n",
       "    <tr style=\"text-align: right;\">\n",
       "      <th></th>\n",
       "      <th>#Rank</th>\n",
       "      <th>Município</th>\n",
       "      <th>Desenvolvedor</th>\n",
       "      <th>Portal da Transparência (validado)</th>\n",
       "      <th>municipio</th>\n",
       "      <th>template_name_size</th>\n",
       "      <th>template</th>\n",
       "      <th>cluster_id</th>\n",
       "    </tr>\n",
       "  </thead>\n",
       "  <tbody>\n",
       "    <tr>\n",
       "      <th>11</th>\n",
       "      <td>12.0</td>\n",
       "      <td>Divinópolis</td>\n",
       "      <td>grp</td>\n",
       "      <td>http://177.69.246.151:8090/portalcidadao/#efb3...</td>\n",
       "      <td>NaN</td>\n",
       "      <td>NaN</td>\n",
       "      <td>NaN</td>\n",
       "      <td>NaN</td>\n",
       "    </tr>\n",
       "    <tr>\n",
       "      <th>147</th>\n",
       "      <td>148.0</td>\n",
       "      <td>São João da Ponte</td>\n",
       "      <td>colorlib</td>\n",
       "      <td>https://saojoaodaponte.mg.gov.br/transparencia</td>\n",
       "      <td>NaN</td>\n",
       "      <td>NaN</td>\n",
       "      <td>NaN</td>\n",
       "      <td>NaN</td>\n",
       "    </tr>\n",
       "    <tr>\n",
       "      <th>172</th>\n",
       "      <td>173.0</td>\n",
       "      <td>Monte Alegre de Minas</td>\n",
       "      <td>NaN</td>\n",
       "      <td>http://187.72.215.252:8080/dadosweb/loginWeb.j...</td>\n",
       "      <td>NaN</td>\n",
       "      <td>NaN</td>\n",
       "      <td>NaN</td>\n",
       "      <td>NaN</td>\n",
       "    </tr>\n",
       "    <tr>\n",
       "      <th>211</th>\n",
       "      <td>212.0</td>\n",
       "      <td>Lagoa Formosa</td>\n",
       "      <td>404</td>\n",
       "      <td>http://transparencia.lagoaformosa.mg.gov.br:84...</td>\n",
       "      <td>NaN</td>\n",
       "      <td>NaN</td>\n",
       "      <td>NaN</td>\n",
       "      <td>NaN</td>\n",
       "    </tr>\n",
       "    <tr>\n",
       "      <th>217</th>\n",
       "      <td>218.0</td>\n",
       "      <td>Bom Sucesso</td>\n",
       "      <td>memory</td>\n",
       "      <td>http://lai.memory.com.br/entidades/login/98CSD1</td>\n",
       "      <td>NaN</td>\n",
       "      <td>NaN</td>\n",
       "      <td>NaN</td>\n",
       "      <td>NaN</td>\n",
       "    </tr>\n",
       "    <tr>\n",
       "      <th>274</th>\n",
       "      <td>275.0</td>\n",
       "      <td>Ibiraci</td>\n",
       "      <td>portal facil</td>\n",
       "      <td>http://ibiraci.mg.gov.br/portal-da-transparencia/</td>\n",
       "      <td>NaN</td>\n",
       "      <td>NaN</td>\n",
       "      <td>NaN</td>\n",
       "      <td>NaN</td>\n",
       "    </tr>\n",
       "    <tr>\n",
       "      <th>351</th>\n",
       "      <td>352.0</td>\n",
       "      <td>Miradouro</td>\n",
       "      <td>404</td>\n",
       "      <td>https://prefeitura24horas.online/_transparenci...</td>\n",
       "      <td>NaN</td>\n",
       "      <td>NaN</td>\n",
       "      <td>NaN</td>\n",
       "      <td>NaN</td>\n",
       "    </tr>\n",
       "    <tr>\n",
       "      <th>481</th>\n",
       "      <td>482.0</td>\n",
       "      <td>São Tomé das Letras</td>\n",
       "      <td>fiorilli</td>\n",
       "      <td>https://portal.sgpcloud.net:9016/transparencia/</td>\n",
       "      <td>NaN</td>\n",
       "      <td>NaN</td>\n",
       "      <td>NaN</td>\n",
       "      <td>NaN</td>\n",
       "    </tr>\n",
       "    <tr>\n",
       "      <th>490</th>\n",
       "      <td>491.0</td>\n",
       "      <td>Iraí de Minas</td>\n",
       "      <td>404</td>\n",
       "      <td>http://177.85.2.36:8444/transparencia/</td>\n",
       "      <td>NaN</td>\n",
       "      <td>NaN</td>\n",
       "      <td>NaN</td>\n",
       "      <td>NaN</td>\n",
       "    </tr>\n",
       "    <tr>\n",
       "      <th>515</th>\n",
       "      <td>516.0</td>\n",
       "      <td>Dona Euzébia</td>\n",
       "      <td>404</td>\n",
       "      <td>https://prefeitura24horas.online/_transparenci...</td>\n",
       "      <td>NaN</td>\n",
       "      <td>NaN</td>\n",
       "      <td>NaN</td>\n",
       "      <td>NaN</td>\n",
       "    </tr>\n",
       "    <tr>\n",
       "      <th>584</th>\n",
       "      <td>585.0</td>\n",
       "      <td>Itaverava</td>\n",
       "      <td>pt</td>\n",
       "      <td>http://pt.itaverava.mg.gov.br/</td>\n",
       "      <td>NaN</td>\n",
       "      <td>NaN</td>\n",
       "      <td>NaN</td>\n",
       "      <td>NaN</td>\n",
       "    </tr>\n",
       "    <tr>\n",
       "      <th>628</th>\n",
       "      <td>629.0</td>\n",
       "      <td>Pingo-d'Água</td>\n",
       "      <td>portal facil</td>\n",
       "      <td>http://www.pingodagua.mg.gov.br/transparencia</td>\n",
       "      <td>NaN</td>\n",
       "      <td>NaN</td>\n",
       "      <td>NaN</td>\n",
       "      <td>NaN</td>\n",
       "    </tr>\n",
       "    <tr>\n",
       "      <th>648</th>\n",
       "      <td>649.0</td>\n",
       "      <td>Tapira</td>\n",
       "      <td>404</td>\n",
       "      <td>http://167.249.84.86:8444/transparencia/</td>\n",
       "      <td>NaN</td>\n",
       "      <td>NaN</td>\n",
       "      <td>NaN</td>\n",
       "      <td>NaN</td>\n",
       "    </tr>\n",
       "    <tr>\n",
       "      <th>720</th>\n",
       "      <td>721.0</td>\n",
       "      <td>Santana de Cataguases</td>\n",
       "      <td>pt</td>\n",
       "      <td>https://www.santanadecataguases.mg.gov.br/tran...</td>\n",
       "      <td>NaN</td>\n",
       "      <td>NaN</td>\n",
       "      <td>NaN</td>\n",
       "      <td>NaN</td>\n",
       "    </tr>\n",
       "    <tr>\n",
       "      <th>749</th>\n",
       "      <td>750.0</td>\n",
       "      <td>Romaria</td>\n",
       "      <td>404</td>\n",
       "      <td>http://177.185.100.233:8444/transparencia/</td>\n",
       "      <td>NaN</td>\n",
       "      <td>NaN</td>\n",
       "      <td>NaN</td>\n",
       "      <td>NaN</td>\n",
       "    </tr>\n",
       "    <tr>\n",
       "      <th>751</th>\n",
       "      <td>752.0</td>\n",
       "      <td>Estrela do Indaiá</td>\n",
       "      <td>404</td>\n",
       "      <td>http://201.16.156.251:8095/</td>\n",
       "      <td>NaN</td>\n",
       "      <td>NaN</td>\n",
       "      <td>NaN</td>\n",
       "      <td>NaN</td>\n",
       "    </tr>\n",
       "    <tr>\n",
       "      <th>764</th>\n",
       "      <td>765.0</td>\n",
       "      <td>Pequeri</td>\n",
       "      <td>404</td>\n",
       "      <td>http://publicacao.pm-pequeri.siplanweb.com.br/</td>\n",
       "      <td>NaN</td>\n",
       "      <td>NaN</td>\n",
       "      <td>NaN</td>\n",
       "      <td>NaN</td>\n",
       "    </tr>\n",
       "    <tr>\n",
       "      <th>850</th>\n",
       "      <td>851.0</td>\n",
       "      <td>Grupiara</td>\n",
       "      <td>404</td>\n",
       "      <td>http://179.189.0.196:8444/transparencia/</td>\n",
       "      <td>NaN</td>\n",
       "      <td>NaN</td>\n",
       "      <td>NaN</td>\n",
       "      <td>NaN</td>\n",
       "    </tr>\n",
       "  </tbody>\n",
       "</table>\n",
       "</div>"
      ],
      "text/plain": [
       "     #Rank              Município Desenvolvedor  \\\n",
       "11    12.0            Divinópolis           grp   \n",
       "147  148.0      São João da Ponte      colorlib   \n",
       "172  173.0  Monte Alegre de Minas           NaN   \n",
       "211  212.0          Lagoa Formosa           404   \n",
       "217  218.0            Bom Sucesso        memory   \n",
       "274  275.0                Ibiraci  portal facil   \n",
       "351  352.0              Miradouro           404   \n",
       "481  482.0    São Tomé das Letras      fiorilli   \n",
       "490  491.0          Iraí de Minas           404   \n",
       "515  516.0           Dona Euzébia           404   \n",
       "584  585.0              Itaverava            pt   \n",
       "628  629.0           Pingo-d'Água  portal facil   \n",
       "648  649.0                 Tapira           404   \n",
       "720  721.0  Santana de Cataguases            pt   \n",
       "749  750.0                Romaria           404   \n",
       "751  752.0      Estrela do Indaiá           404   \n",
       "764  765.0                Pequeri           404   \n",
       "850  851.0               Grupiara           404   \n",
       "\n",
       "                    Portal da Transparência (validado) municipio  \\\n",
       "11   http://177.69.246.151:8090/portalcidadao/#efb3...       NaN   \n",
       "147     https://saojoaodaponte.mg.gov.br/transparencia       NaN   \n",
       "172  http://187.72.215.252:8080/dadosweb/loginWeb.j...       NaN   \n",
       "211  http://transparencia.lagoaformosa.mg.gov.br:84...       NaN   \n",
       "217    http://lai.memory.com.br/entidades/login/98CSD1       NaN   \n",
       "274  http://ibiraci.mg.gov.br/portal-da-transparencia/       NaN   \n",
       "351  https://prefeitura24horas.online/_transparenci...       NaN   \n",
       "481    https://portal.sgpcloud.net:9016/transparencia/       NaN   \n",
       "490             http://177.85.2.36:8444/transparencia/       NaN   \n",
       "515  https://prefeitura24horas.online/_transparenci...       NaN   \n",
       "584                     http://pt.itaverava.mg.gov.br/       NaN   \n",
       "628      http://www.pingodagua.mg.gov.br/transparencia       NaN   \n",
       "648           http://167.249.84.86:8444/transparencia/       NaN   \n",
       "720  https://www.santanadecataguases.mg.gov.br/tran...       NaN   \n",
       "749         http://177.185.100.233:8444/transparencia/       NaN   \n",
       "751                        http://201.16.156.251:8095/       NaN   \n",
       "764     http://publicacao.pm-pequeri.siplanweb.com.br/       NaN   \n",
       "850           http://179.189.0.196:8444/transparencia/       NaN   \n",
       "\n",
       "    template_name_size template  cluster_id  \n",
       "11                 NaN      NaN         NaN  \n",
       "147                NaN      NaN         NaN  \n",
       "172                NaN      NaN         NaN  \n",
       "211                NaN      NaN         NaN  \n",
       "217                NaN      NaN         NaN  \n",
       "274                NaN      NaN         NaN  \n",
       "351                NaN      NaN         NaN  \n",
       "481                NaN      NaN         NaN  \n",
       "490                NaN      NaN         NaN  \n",
       "515                NaN      NaN         NaN  \n",
       "584                NaN      NaN         NaN  \n",
       "628                NaN      NaN         NaN  \n",
       "648                NaN      NaN         NaN  \n",
       "720                NaN      NaN         NaN  \n",
       "749                NaN      NaN         NaN  \n",
       "751                NaN      NaN         NaN  \n",
       "764                NaN      NaN         NaN  \n",
       "850                NaN      NaN         NaN  "
      ]
     },
     "execution_count": 58,
     "metadata": {},
     "output_type": "execute_result"
    }
   ],
   "source": []
  },
  {
   "cell_type": "code",
   "execution_count": null,
   "metadata": {},
   "outputs": [],
   "source": []
  },
  {
   "cell_type": "code",
   "execution_count": 58,
   "metadata": {},
   "outputs": [],
   "source": [
    "import json\n",
    "\n",
    "with open('data/clusters.d3.json', 'r') as f:\n",
    "     clusters_json = json.loads(f.read())"
   ]
  },
  {
   "cell_type": "code",
   "execution_count": 59,
   "metadata": {},
   "outputs": [
    {
     "data": {
      "text/plain": [
       "[{'size': 10.0,\n",
       "  'children': [{'size': 10.0, 'name': '146', 'index': 146}],\n",
       "  'name': '146',\n",
       "  'index': 146},\n",
       " {'size': 20.0,\n",
       "  'children': [{'size': 10.0, 'name': '476', 'index': 476},\n",
       "   {'size': 10.0, 'name': '227', 'index': 227}],\n",
       "  'name': '227',\n",
       "  'index': 227}]"
      ]
     },
     "execution_count": 59,
     "metadata": {},
     "output_type": "execute_result"
    }
   ],
   "source": [
    "clusters_json['children'][:2]"
   ]
  },
  {
   "cell_type": "code",
   "execution_count": 73,
   "metadata": {},
   "outputs": [
    {
     "data": {
      "text/plain": [
       "cluster_id      object\n",
       "cluster_size     int64\n",
       "municipio_id    object\n",
       "dtype: object"
      ]
     },
     "execution_count": 73,
     "metadata": {},
     "output_type": "execute_result"
    }
   ],
   "source": [
    "clusters.dtypes"
   ]
  },
  {
   "cell_type": "code",
   "execution_count": 88,
   "metadata": {},
   "outputs": [
    {
     "data": {
      "text/html": [
       "<div>\n",
       "<style scoped>\n",
       "    .dataframe tbody tr th:only-of-type {\n",
       "        vertical-align: middle;\n",
       "    }\n",
       "\n",
       "    .dataframe tbody tr th {\n",
       "        vertical-align: top;\n",
       "    }\n",
       "\n",
       "    .dataframe thead th {\n",
       "        text-align: right;\n",
       "    }\n",
       "</style>\n",
       "<table border=\"1\" class=\"dataframe\">\n",
       "  <thead>\n",
       "    <tr style=\"text-align: right;\">\n",
       "      <th></th>\n",
       "      <th>cluster_id</th>\n",
       "      <th>cluster_size</th>\n",
       "      <th>municipio_id</th>\n",
       "    </tr>\n",
       "  </thead>\n",
       "  <tbody>\n",
       "    <tr>\n",
       "      <th>0</th>\n",
       "      <td>146</td>\n",
       "      <td>1</td>\n",
       "      <td>146</td>\n",
       "    </tr>\n",
       "    <tr>\n",
       "      <th>1</th>\n",
       "      <td>227</td>\n",
       "      <td>2</td>\n",
       "      <td>476</td>\n",
       "    </tr>\n",
       "    <tr>\n",
       "      <th>2</th>\n",
       "      <td>227</td>\n",
       "      <td>2</td>\n",
       "      <td>227</td>\n",
       "    </tr>\n",
       "    <tr>\n",
       "      <th>3</th>\n",
       "      <td>92</td>\n",
       "      <td>1</td>\n",
       "      <td>92</td>\n",
       "    </tr>\n",
       "    <tr>\n",
       "      <th>4</th>\n",
       "      <td>514</td>\n",
       "      <td>1</td>\n",
       "      <td>514</td>\n",
       "    </tr>\n",
       "    <tr>\n",
       "      <th>...</th>\n",
       "      <td>...</td>\n",
       "      <td>...</td>\n",
       "      <td>...</td>\n",
       "    </tr>\n",
       "    <tr>\n",
       "      <th>832</th>\n",
       "      <td>0</td>\n",
       "      <td>11</td>\n",
       "      <td>481</td>\n",
       "    </tr>\n",
       "    <tr>\n",
       "      <th>833</th>\n",
       "      <td>0</td>\n",
       "      <td>11</td>\n",
       "      <td>359</td>\n",
       "    </tr>\n",
       "    <tr>\n",
       "      <th>834</th>\n",
       "      <td>0</td>\n",
       "      <td>11</td>\n",
       "      <td>384</td>\n",
       "    </tr>\n",
       "    <tr>\n",
       "      <th>835</th>\n",
       "      <td>0</td>\n",
       "      <td>11</td>\n",
       "      <td>457</td>\n",
       "    </tr>\n",
       "    <tr>\n",
       "      <th>836</th>\n",
       "      <td>296</td>\n",
       "      <td>1</td>\n",
       "      <td>296</td>\n",
       "    </tr>\n",
       "  </tbody>\n",
       "</table>\n",
       "<p>837 rows × 3 columns</p>\n",
       "</div>"
      ],
      "text/plain": [
       "     cluster_id  cluster_size  municipio_id\n",
       "0           146             1           146\n",
       "1           227             2           476\n",
       "2           227             2           227\n",
       "3            92             1            92\n",
       "4           514             1           514\n",
       "..          ...           ...           ...\n",
       "832           0            11           481\n",
       "833           0            11           359\n",
       "834           0            11           384\n",
       "835           0            11           457\n",
       "836         296             1           296\n",
       "\n",
       "[837 rows x 3 columns]"
      ]
     },
     "execution_count": 88,
     "metadata": {},
     "output_type": "execute_result"
    }
   ],
   "source": [
    "import numpy as np\n",
    "clusters = []\n",
    "\n",
    "for cluster in clusters_json['children']:\n",
    "    for municipio in cluster['children']:\n",
    "        new_row = [int(cluster['name']), int(cluster['size']/10), int(municipio['name'])]\n",
    "        clusters.append(new_row) \n",
    "        \n",
    "clusters = pd.DataFrame(clusters, columns=['cluster_id', 'cluster_size', 'municipio_id'])\n",
    "clusters"
   ]
  },
  {
   "cell_type": "code",
   "execution_count": 65,
   "metadata": {},
   "outputs": [
    {
     "data": {
      "text/html": [
       "<div>\n",
       "<style scoped>\n",
       "    .dataframe tbody tr th:only-of-type {\n",
       "        vertical-align: middle;\n",
       "    }\n",
       "\n",
       "    .dataframe tbody tr th {\n",
       "        vertical-align: top;\n",
       "    }\n",
       "\n",
       "    .dataframe thead th {\n",
       "        text-align: right;\n",
       "    }\n",
       "</style>\n",
       "<table border=\"1\" class=\"dataframe\">\n",
       "  <thead>\n",
       "    <tr style=\"text-align: right;\">\n",
       "      <th></th>\n",
       "      <th>municipio_id</th>\n",
       "      <th>html</th>\n",
       "      <th>nome</th>\n",
       "    </tr>\n",
       "  </thead>\n",
       "  <tbody>\n",
       "    <tr>\n",
       "      <th>0</th>\n",
       "      <td>0</td>\n",
       "      <td>/home/pedro/MPMG/html_saver/Conceição do Rio V...</td>\n",
       "      <td>Conceição do Rio Verde</td>\n",
       "    </tr>\n",
       "    <tr>\n",
       "      <th>1</th>\n",
       "      <td>1</td>\n",
       "      <td>/home/pedro/MPMG/html_saver/Rio Novo.html</td>\n",
       "      <td>Rio Novo</td>\n",
       "    </tr>\n",
       "    <tr>\n",
       "      <th>2</th>\n",
       "      <td>2</td>\n",
       "      <td>/home/pedro/MPMG/html_saver/Cachoeira de Minas...</td>\n",
       "      <td>Cachoeira de Minas</td>\n",
       "    </tr>\n",
       "    <tr>\n",
       "      <th>3</th>\n",
       "      <td>3</td>\n",
       "      <td>/home/pedro/MPMG/html_saver/Rio Casca.html</td>\n",
       "      <td>Rio Casca</td>\n",
       "    </tr>\n",
       "    <tr>\n",
       "      <th>4</th>\n",
       "      <td>4</td>\n",
       "      <td>/home/pedro/MPMG/html_saver/Periquito.html</td>\n",
       "      <td>Periquito</td>\n",
       "    </tr>\n",
       "    <tr>\n",
       "      <th>...</th>\n",
       "      <td>...</td>\n",
       "      <td>...</td>\n",
       "      <td>...</td>\n",
       "    </tr>\n",
       "    <tr>\n",
       "      <th>832</th>\n",
       "      <td>832</td>\n",
       "      <td>/home/pedro/MPMG/html_saver/Monte Santo de Min...</td>\n",
       "      <td>Monte Santo de Minas</td>\n",
       "    </tr>\n",
       "    <tr>\n",
       "      <th>833</th>\n",
       "      <td>833</td>\n",
       "      <td>/home/pedro/MPMG/html_saver/Prados.html</td>\n",
       "      <td>Prados</td>\n",
       "    </tr>\n",
       "    <tr>\n",
       "      <th>834</th>\n",
       "      <td>834</td>\n",
       "      <td>/home/pedro/MPMG/html_saver/Buritizeiro.html</td>\n",
       "      <td>Buritizeiro</td>\n",
       "    </tr>\n",
       "    <tr>\n",
       "      <th>835</th>\n",
       "      <td>835</td>\n",
       "      <td>/home/pedro/MPMG/html_saver/Formoso.html</td>\n",
       "      <td>Formoso</td>\n",
       "    </tr>\n",
       "    <tr>\n",
       "      <th>836</th>\n",
       "      <td>836</td>\n",
       "      <td>/home/pedro/MPMG/html_saver/Guiricema.html</td>\n",
       "      <td>Guiricema</td>\n",
       "    </tr>\n",
       "  </tbody>\n",
       "</table>\n",
       "<p>837 rows × 3 columns</p>\n",
       "</div>"
      ],
      "text/plain": [
       "     municipio_id                                               html  \\\n",
       "0               0  /home/pedro/MPMG/html_saver/Conceição do Rio V...   \n",
       "1               1          /home/pedro/MPMG/html_saver/Rio Novo.html   \n",
       "2               2  /home/pedro/MPMG/html_saver/Cachoeira de Minas...   \n",
       "3               3         /home/pedro/MPMG/html_saver/Rio Casca.html   \n",
       "4               4         /home/pedro/MPMG/html_saver/Periquito.html   \n",
       "..            ...                                                ...   \n",
       "832           832  /home/pedro/MPMG/html_saver/Monte Santo de Min...   \n",
       "833           833            /home/pedro/MPMG/html_saver/Prados.html   \n",
       "834           834       /home/pedro/MPMG/html_saver/Buritizeiro.html   \n",
       "835           835           /home/pedro/MPMG/html_saver/Formoso.html   \n",
       "836           836         /home/pedro/MPMG/html_saver/Guiricema.html   \n",
       "\n",
       "                       nome  \n",
       "0    Conceição do Rio Verde  \n",
       "1                  Rio Novo  \n",
       "2        Cachoeira de Minas  \n",
       "3                 Rio Casca  \n",
       "4                 Periquito  \n",
       "..                      ...  \n",
       "832    Monte Santo de Minas  \n",
       "833                  Prados  \n",
       "834             Buritizeiro  \n",
       "835                 Formoso  \n",
       "836               Guiricema  \n",
       "\n",
       "[837 rows x 3 columns]"
      ]
     },
     "execution_count": 65,
     "metadata": {},
     "output_type": "execute_result"
    }
   ],
   "source": [
    "municipios = pd.read_csv('data/part-00000', names=['municipio_id', 'html'])\n",
    "municipios['nome'] = municipios['html'].apply(lambda x: x.split('/')[-1][:-5])\n",
    "\n",
    "municipios"
   ]
  },
  {
   "cell_type": "code",
   "execution_count": 69,
   "metadata": {},
   "outputs": [
    {
     "data": {
      "text/html": [
       "<div>\n",
       "<style scoped>\n",
       "    .dataframe tbody tr th:only-of-type {\n",
       "        vertical-align: middle;\n",
       "    }\n",
       "\n",
       "    .dataframe tbody tr th {\n",
       "        vertical-align: top;\n",
       "    }\n",
       "\n",
       "    .dataframe thead th {\n",
       "        text-align: right;\n",
       "    }\n",
       "</style>\n",
       "<table border=\"1\" class=\"dataframe\">\n",
       "  <thead>\n",
       "    <tr style=\"text-align: right;\">\n",
       "      <th></th>\n",
       "      <th>rank</th>\n",
       "      <th>cluster_id</th>\n",
       "      <th>template</th>\n",
       "      <th>n_portais</th>\n",
       "      <th>name_size</th>\n",
       "    </tr>\n",
       "  </thead>\n",
       "  <tbody>\n",
       "    <tr>\n",
       "      <th>0</th>\n",
       "      <td>1</td>\n",
       "      <td>5</td>\n",
       "      <td>Síntese Tecnologia e Informática</td>\n",
       "      <td>88</td>\n",
       "      <td>Síntese Tecnologia e Informática (88)</td>\n",
       "    </tr>\n",
       "    <tr>\n",
       "      <th>1</th>\n",
       "      <td>2</td>\n",
       "      <td>7</td>\n",
       "      <td>Memory</td>\n",
       "      <td>66</td>\n",
       "      <td>Memory (66)</td>\n",
       "    </tr>\n",
       "    <tr>\n",
       "      <th>2</th>\n",
       "      <td>3</td>\n",
       "      <td>1</td>\n",
       "      <td>Siplanweb</td>\n",
       "      <td>61</td>\n",
       "      <td>Siplanweb (61)</td>\n",
       "    </tr>\n",
       "    <tr>\n",
       "      <th>3</th>\n",
       "      <td>4</td>\n",
       "      <td>17</td>\n",
       "      <td>Portaltp</td>\n",
       "      <td>61</td>\n",
       "      <td>Portaltp (61)</td>\n",
       "    </tr>\n",
       "    <tr>\n",
       "      <th>4</th>\n",
       "      <td>5</td>\n",
       "      <td>6</td>\n",
       "      <td>Portal Fácil</td>\n",
       "      <td>60</td>\n",
       "      <td>Portal Fácil (60)</td>\n",
       "    </tr>\n",
       "  </tbody>\n",
       "</table>\n",
       "</div>"
      ],
      "text/plain": [
       "   rank  cluster_id                          template  n_portais  \\\n",
       "0     1           5  Síntese Tecnologia e Informática         88   \n",
       "1     2           7                            Memory         66   \n",
       "2     3           1                         Siplanweb         61   \n",
       "3     4          17                          Portaltp         61   \n",
       "4     5           6                      Portal Fácil         60   \n",
       "\n",
       "                               name_size  \n",
       "0  Síntese Tecnologia e Informática (88)  \n",
       "1                            Memory (66)  \n",
       "2                         Siplanweb (61)  \n",
       "3                          Portaltp (61)  \n",
       "4                      Portal Fácil (60)  "
      ]
     },
     "execution_count": 69,
     "metadata": {},
     "output_type": "execute_result"
    }
   ],
   "source": [
    "cluster_template = pd.read_csv('data/cluster-template.csv')\n",
    "cluster_template['name_size'] = cluster_template.template + ' (' + cluster_template['n_portais'].astype(str) + ')' \n",
    "cluster_template.head()"
   ]
  },
  {
   "cell_type": "code",
   "execution_count": 121,
   "metadata": {},
   "outputs": [
    {
     "data": {
      "text/html": [
       "<div>\n",
       "<style scoped>\n",
       "    .dataframe tbody tr th:only-of-type {\n",
       "        vertical-align: middle;\n",
       "    }\n",
       "\n",
       "    .dataframe tbody tr th {\n",
       "        vertical-align: top;\n",
       "    }\n",
       "\n",
       "    .dataframe thead th {\n",
       "        text-align: right;\n",
       "    }\n",
       "</style>\n",
       "<table border=\"1\" class=\"dataframe\">\n",
       "  <thead>\n",
       "    <tr style=\"text-align: right;\">\n",
       "      <th></th>\n",
       "      <th>municipio_id</th>\n",
       "      <th>municipio</th>\n",
       "      <th>template</th>\n",
       "      <th>cluster_id</th>\n",
       "      <th>cluster_size</th>\n",
       "      <th>cluster_rank</th>\n",
       "      <th>cluster_n_portais</th>\n",
       "      <th>template_name_size</th>\n",
       "    </tr>\n",
       "  </thead>\n",
       "  <tbody>\n",
       "    <tr>\n",
       "      <th>240</th>\n",
       "      <td>176</td>\n",
       "      <td>Alvorada de Minas</td>\n",
       "      <td>Síntese Tecnologia e Informática</td>\n",
       "      <td>5</td>\n",
       "      <td>88</td>\n",
       "      <td>1.0</td>\n",
       "      <td>88.0</td>\n",
       "      <td>Síntese Tecnologia e Informática (88)</td>\n",
       "    </tr>\n",
       "    <tr>\n",
       "      <th>247</th>\n",
       "      <td>759</td>\n",
       "      <td>Aricanduva</td>\n",
       "      <td>Síntese Tecnologia e Informática</td>\n",
       "      <td>5</td>\n",
       "      <td>88</td>\n",
       "      <td>1.0</td>\n",
       "      <td>88.0</td>\n",
       "      <td>Síntese Tecnologia e Informática (88)</td>\n",
       "    </tr>\n",
       "    <tr>\n",
       "      <th>259</th>\n",
       "      <td>726</td>\n",
       "      <td>Augusto de Lima</td>\n",
       "      <td>Síntese Tecnologia e Informática</td>\n",
       "      <td>5</td>\n",
       "      <td>88</td>\n",
       "      <td>1.0</td>\n",
       "      <td>88.0</td>\n",
       "      <td>Síntese Tecnologia e Informática (88)</td>\n",
       "    </tr>\n",
       "    <tr>\n",
       "      <th>270</th>\n",
       "      <td>666</td>\n",
       "      <td>Berilo</td>\n",
       "      <td>Síntese Tecnologia e Informática</td>\n",
       "      <td>5</td>\n",
       "      <td>88</td>\n",
       "      <td>1.0</td>\n",
       "      <td>88.0</td>\n",
       "      <td>Síntese Tecnologia e Informática (88)</td>\n",
       "    </tr>\n",
       "    <tr>\n",
       "      <th>201</th>\n",
       "      <td>148</td>\n",
       "      <td>Bocaiúva</td>\n",
       "      <td>Síntese Tecnologia e Informática</td>\n",
       "      <td>5</td>\n",
       "      <td>88</td>\n",
       "      <td>1.0</td>\n",
       "      <td>88.0</td>\n",
       "      <td>Síntese Tecnologia e Informática (88)</td>\n",
       "    </tr>\n",
       "    <tr>\n",
       "      <th>...</th>\n",
       "      <td>...</td>\n",
       "      <td>...</td>\n",
       "      <td>...</td>\n",
       "      <td>...</td>\n",
       "      <td>...</td>\n",
       "      <td>...</td>\n",
       "      <td>...</td>\n",
       "      <td>...</td>\n",
       "    </tr>\n",
       "    <tr>\n",
       "      <th>26</th>\n",
       "      <td>403</td>\n",
       "      <td>Uberlândia</td>\n",
       "      <td>NaN</td>\n",
       "      <td>403</td>\n",
       "      <td>1</td>\n",
       "      <td>NaN</td>\n",
       "      <td>NaN</td>\n",
       "      <td>NaN</td>\n",
       "    </tr>\n",
       "    <tr>\n",
       "      <th>137</th>\n",
       "      <td>47</td>\n",
       "      <td>Varjão de Minas</td>\n",
       "      <td>NaN</td>\n",
       "      <td>47</td>\n",
       "      <td>1</td>\n",
       "      <td>NaN</td>\n",
       "      <td>NaN</td>\n",
       "      <td>NaN</td>\n",
       "    </tr>\n",
       "    <tr>\n",
       "      <th>614</th>\n",
       "      <td>141</td>\n",
       "      <td>Vazante</td>\n",
       "      <td>NaN</td>\n",
       "      <td>141</td>\n",
       "      <td>1</td>\n",
       "      <td>NaN</td>\n",
       "      <td>NaN</td>\n",
       "      <td>NaN</td>\n",
       "    </tr>\n",
       "    <tr>\n",
       "      <th>301</th>\n",
       "      <td>809</td>\n",
       "      <td>Verdelândia</td>\n",
       "      <td>NaN</td>\n",
       "      <td>809</td>\n",
       "      <td>1</td>\n",
       "      <td>NaN</td>\n",
       "      <td>NaN</td>\n",
       "      <td>NaN</td>\n",
       "    </tr>\n",
       "    <tr>\n",
       "      <th>285</th>\n",
       "      <td>238</td>\n",
       "      <td>Virginópolis</td>\n",
       "      <td>NaN</td>\n",
       "      <td>238</td>\n",
       "      <td>1</td>\n",
       "      <td>NaN</td>\n",
       "      <td>NaN</td>\n",
       "      <td>NaN</td>\n",
       "    </tr>\n",
       "  </tbody>\n",
       "</table>\n",
       "<p>837 rows × 8 columns</p>\n",
       "</div>"
      ],
      "text/plain": [
       "     municipio_id          municipio                          template  \\\n",
       "240           176  Alvorada de Minas  Síntese Tecnologia e Informática   \n",
       "247           759         Aricanduva  Síntese Tecnologia e Informática   \n",
       "259           726    Augusto de Lima  Síntese Tecnologia e Informática   \n",
       "270           666             Berilo  Síntese Tecnologia e Informática   \n",
       "201           148           Bocaiúva  Síntese Tecnologia e Informática   \n",
       "..            ...                ...                               ...   \n",
       "26            403         Uberlândia                               NaN   \n",
       "137            47    Varjão de Minas                               NaN   \n",
       "614           141            Vazante                               NaN   \n",
       "301           809        Verdelândia                               NaN   \n",
       "285           238       Virginópolis                               NaN   \n",
       "\n",
       "     cluster_id  cluster_size  cluster_rank  cluster_n_portais  \\\n",
       "240           5            88           1.0               88.0   \n",
       "247           5            88           1.0               88.0   \n",
       "259           5            88           1.0               88.0   \n",
       "270           5            88           1.0               88.0   \n",
       "201           5            88           1.0               88.0   \n",
       "..          ...           ...           ...                ...   \n",
       "26          403             1           NaN                NaN   \n",
       "137          47             1           NaN                NaN   \n",
       "614         141             1           NaN                NaN   \n",
       "301         809             1           NaN                NaN   \n",
       "285         238             1           NaN                NaN   \n",
       "\n",
       "                        template_name_size  \n",
       "240  Síntese Tecnologia e Informática (88)  \n",
       "247  Síntese Tecnologia e Informática (88)  \n",
       "259  Síntese Tecnologia e Informática (88)  \n",
       "270  Síntese Tecnologia e Informática (88)  \n",
       "201  Síntese Tecnologia e Informática (88)  \n",
       "..                                     ...  \n",
       "26                                     NaN  \n",
       "137                                    NaN  \n",
       "614                                    NaN  \n",
       "301                                    NaN  \n",
       "285                                    NaN  \n",
       "\n",
       "[837 rows x 8 columns]"
      ]
     },
     "execution_count": 121,
     "metadata": {},
     "output_type": "execute_result"
    }
   ],
   "source": [
    "import json\n",
    "\n",
    "def build_municipios_clusters_df(clusters_json_path, part_0000_path, cluster_template_path):\n",
    "    with open(clusters_json_path, 'r') as f:\n",
    "         clusters_json = json.loads(f.read())\n",
    "\n",
    "    municipios = []\n",
    "    for cluster in clusters_json['children']:\n",
    "        for municipio in cluster['children']:\n",
    "            new_row = [int(municipio['name']), int(cluster['name']), int(cluster['size']/10)]\n",
    "            municipios.append(new_row) \n",
    "            \n",
    "    municipios = pd.DataFrame(municipios, columns=['municipio_id', 'cluster_id', 'cluster_size'],\n",
    "                            dtype=int)\n",
    "\n",
    "    nomes_municipios = pd.read_csv(part_0000_path, names=['municipio_id', 'municipio'])\n",
    "    nomes_municipios['municipio'] = nomes_municipios['municipio'].apply(lambda x: x.split('/')[-1][:-5])        \n",
    "    municipios = municipios.merge(nomes_municipios, on='municipio_id', how='left')\n",
    "\n",
    "    cluster_template = pd.read_csv(cluster_template_path)\n",
    "    cluster_template['template_name_size'] = cluster_template.template + \\\n",
    "        ' (' + cluster_template.cluster_n_portais.astype(str) + ')' \n",
    "    municipios = municipios.merge(cluster_template, on='cluster_id', how='left')\n",
    "    \n",
    "    municipios = municipios.sort_values(['cluster_size', 'template', 'municipio'], \n",
    "                                        ascending=[False, True, True])\n",
    "    municipios = municipios[['municipio_id', 'municipio', 'template', \n",
    "                             'cluster_id',\t'cluster_size',\t'cluster_rank',\n",
    "                             'cluster_n_portais', 'template_name_size']]\n",
    "    \n",
    "    return municipios\n",
    "\n",
    "#------------------------------------------\n",
    "\n",
    "municipios = build_municipios_clusters_df('data/clusters.d3.json', 'data/part-00000', 'data/cluster-template.csv')\n",
    "municipios.to_csv('data/municipios_clusters.csv', index=False)\n",
    "municipios"
   ]
  },
  {
   "cell_type": "code",
   "execution_count": 120,
   "metadata": {},
   "outputs": [
    {
     "data": {
      "text/html": [
       "<div>\n",
       "<style scoped>\n",
       "    .dataframe tbody tr th:only-of-type {\n",
       "        vertical-align: middle;\n",
       "    }\n",
       "\n",
       "    .dataframe tbody tr th {\n",
       "        vertical-align: top;\n",
       "    }\n",
       "\n",
       "    .dataframe thead th {\n",
       "        text-align: right;\n",
       "    }\n",
       "</style>\n",
       "<table border=\"1\" class=\"dataframe\">\n",
       "  <thead>\n",
       "    <tr style=\"text-align: right;\">\n",
       "      <th></th>\n",
       "      <th>municipio_id</th>\n",
       "      <th>municipio</th>\n",
       "      <th>template</th>\n",
       "      <th>cluster_id</th>\n",
       "      <th>cluster_size</th>\n",
       "      <th>cluster_rank</th>\n",
       "      <th>cluster_n_portais</th>\n",
       "      <th>template_name_size</th>\n",
       "    </tr>\n",
       "  </thead>\n",
       "  <tbody>\n",
       "  </tbody>\n",
       "</table>\n",
       "</div>"
      ],
      "text/plain": [
       "Empty DataFrame\n",
       "Columns: [municipio_id, municipio, template, cluster_id, cluster_size, cluster_rank, cluster_n_portais, template_name_size]\n",
       "Index: []"
      ]
     },
     "execution_count": 120,
     "metadata": {},
     "output_type": "execute_result"
    }
   ],
   "source": [
    "municipios[(municipios.cluster_size != municipios.cluster_n_portais) \n",
    "           & (municipios.cluster_n_portais.notna())]"
   ]
  },
  {
   "cell_type": "code",
   "execution_count": 124,
   "metadata": {},
   "outputs": [
    {
     "data": {
      "text/html": [
       "<div>\n",
       "<style scoped>\n",
       "    .dataframe tbody tr th:only-of-type {\n",
       "        vertical-align: middle;\n",
       "    }\n",
       "\n",
       "    .dataframe tbody tr th {\n",
       "        vertical-align: top;\n",
       "    }\n",
       "\n",
       "    .dataframe thead th {\n",
       "        text-align: right;\n",
       "    }\n",
       "</style>\n",
       "<table border=\"1\" class=\"dataframe\">\n",
       "  <thead>\n",
       "    <tr style=\"text-align: right;\">\n",
       "      <th></th>\n",
       "      <th>municipio_id</th>\n",
       "      <th>municipio</th>\n",
       "      <th>template_name_size</th>\n",
       "      <th>template</th>\n",
       "      <th>cluster_id</th>\n",
       "      <th>cluster_size</th>\n",
       "      <th>cluster_rank</th>\n",
       "      <th>cluster_n_portais</th>\n",
       "    </tr>\n",
       "  </thead>\n",
       "  <tbody>\n",
       "    <tr>\n",
       "      <th>703</th>\n",
       "      <td>98</td>\n",
       "      <td>Alterosa</td>\n",
       "      <td>Betha (26)</td>\n",
       "      <td>Betha</td>\n",
       "      <td>3</td>\n",
       "      <td>26</td>\n",
       "      <td>10.0</td>\n",
       "      <td>26.0</td>\n",
       "    </tr>\n",
       "    <tr>\n",
       "      <th>720</th>\n",
       "      <td>364</td>\n",
       "      <td>Alto Rio Doce</td>\n",
       "      <td>Betha (26)</td>\n",
       "      <td>Betha</td>\n",
       "      <td>3</td>\n",
       "      <td>26</td>\n",
       "      <td>10.0</td>\n",
       "      <td>26.0</td>\n",
       "    </tr>\n",
       "    <tr>\n",
       "      <th>698</th>\n",
       "      <td>81</td>\n",
       "      <td>Bandeira do Sul</td>\n",
       "      <td>Betha (26)</td>\n",
       "      <td>Betha</td>\n",
       "      <td>3</td>\n",
       "      <td>26</td>\n",
       "      <td>10.0</td>\n",
       "      <td>26.0</td>\n",
       "    </tr>\n",
       "    <tr>\n",
       "      <th>704</th>\n",
       "      <td>607</td>\n",
       "      <td>Botelhos</td>\n",
       "      <td>Betha (26)</td>\n",
       "      <td>Betha</td>\n",
       "      <td>3</td>\n",
       "      <td>26</td>\n",
       "      <td>10.0</td>\n",
       "      <td>26.0</td>\n",
       "    </tr>\n",
       "    <tr>\n",
       "      <th>709</th>\n",
       "      <td>158</td>\n",
       "      <td>Campos Gerais</td>\n",
       "      <td>Betha (26)</td>\n",
       "      <td>Betha</td>\n",
       "      <td>3</td>\n",
       "      <td>26</td>\n",
       "      <td>10.0</td>\n",
       "      <td>26.0</td>\n",
       "    </tr>\n",
       "    <tr>\n",
       "      <th>699</th>\n",
       "      <td>597</td>\n",
       "      <td>Cataguases</td>\n",
       "      <td>Betha (26)</td>\n",
       "      <td>Betha</td>\n",
       "      <td>3</td>\n",
       "      <td>26</td>\n",
       "      <td>10.0</td>\n",
       "      <td>26.0</td>\n",
       "    </tr>\n",
       "    <tr>\n",
       "      <th>719</th>\n",
       "      <td>23</td>\n",
       "      <td>Cláudio</td>\n",
       "      <td>Betha (26)</td>\n",
       "      <td>Betha</td>\n",
       "      <td>3</td>\n",
       "      <td>26</td>\n",
       "      <td>10.0</td>\n",
       "      <td>26.0</td>\n",
       "    </tr>\n",
       "    <tr>\n",
       "      <th>695</th>\n",
       "      <td>233</td>\n",
       "      <td>Congonhas</td>\n",
       "      <td>Betha (26)</td>\n",
       "      <td>Betha</td>\n",
       "      <td>3</td>\n",
       "      <td>26</td>\n",
       "      <td>10.0</td>\n",
       "      <td>26.0</td>\n",
       "    </tr>\n",
       "    <tr>\n",
       "      <th>696</th>\n",
       "      <td>625</td>\n",
       "      <td>Formiga</td>\n",
       "      <td>Betha (26)</td>\n",
       "      <td>Betha</td>\n",
       "      <td>3</td>\n",
       "      <td>26</td>\n",
       "      <td>10.0</td>\n",
       "      <td>26.0</td>\n",
       "    </tr>\n",
       "    <tr>\n",
       "      <th>712</th>\n",
       "      <td>347</td>\n",
       "      <td>Ijaci</td>\n",
       "      <td>Betha (26)</td>\n",
       "      <td>Betha</td>\n",
       "      <td>3</td>\n",
       "      <td>26</td>\n",
       "      <td>10.0</td>\n",
       "      <td>26.0</td>\n",
       "    </tr>\n",
       "    <tr>\n",
       "      <th>711</th>\n",
       "      <td>747</td>\n",
       "      <td>Itaguara</td>\n",
       "      <td>Betha (26)</td>\n",
       "      <td>Betha</td>\n",
       "      <td>3</td>\n",
       "      <td>26</td>\n",
       "      <td>10.0</td>\n",
       "      <td>26.0</td>\n",
       "    </tr>\n",
       "    <tr>\n",
       "      <th>707</th>\n",
       "      <td>477</td>\n",
       "      <td>Itapeva</td>\n",
       "      <td>Betha (26)</td>\n",
       "      <td>Betha</td>\n",
       "      <td>3</td>\n",
       "      <td>26</td>\n",
       "      <td>10.0</td>\n",
       "      <td>26.0</td>\n",
       "    </tr>\n",
       "    <tr>\n",
       "      <th>714</th>\n",
       "      <td>42</td>\n",
       "      <td>Itatiaiuçu</td>\n",
       "      <td>Betha (26)</td>\n",
       "      <td>Betha</td>\n",
       "      <td>3</td>\n",
       "      <td>26</td>\n",
       "      <td>10.0</td>\n",
       "      <td>26.0</td>\n",
       "    </tr>\n",
       "    <tr>\n",
       "      <th>717</th>\n",
       "      <td>196</td>\n",
       "      <td>Lagoa da Prata</td>\n",
       "      <td>Betha (26)</td>\n",
       "      <td>Betha</td>\n",
       "      <td>3</td>\n",
       "      <td>26</td>\n",
       "      <td>10.0</td>\n",
       "      <td>26.0</td>\n",
       "    </tr>\n",
       "    <tr>\n",
       "      <th>718</th>\n",
       "      <td>588</td>\n",
       "      <td>Luz</td>\n",
       "      <td>Betha (26)</td>\n",
       "      <td>Betha</td>\n",
       "      <td>3</td>\n",
       "      <td>26</td>\n",
       "      <td>10.0</td>\n",
       "      <td>26.0</td>\n",
       "    </tr>\n",
       "    <tr>\n",
       "      <th>715</th>\n",
       "      <td>536</td>\n",
       "      <td>Mantena</td>\n",
       "      <td>Betha (26)</td>\n",
       "      <td>Betha</td>\n",
       "      <td>3</td>\n",
       "      <td>26</td>\n",
       "      <td>10.0</td>\n",
       "      <td>26.0</td>\n",
       "    </tr>\n",
       "    <tr>\n",
       "      <th>706</th>\n",
       "      <td>222</td>\n",
       "      <td>Mariana</td>\n",
       "      <td>Betha (26)</td>\n",
       "      <td>Betha</td>\n",
       "      <td>3</td>\n",
       "      <td>26</td>\n",
       "      <td>10.0</td>\n",
       "      <td>26.0</td>\n",
       "    </tr>\n",
       "    <tr>\n",
       "      <th>702</th>\n",
       "      <td>11</td>\n",
       "      <td>Paraguaçu</td>\n",
       "      <td>Betha (26)</td>\n",
       "      <td>Betha</td>\n",
       "      <td>3</td>\n",
       "      <td>26</td>\n",
       "      <td>10.0</td>\n",
       "      <td>26.0</td>\n",
       "    </tr>\n",
       "    <tr>\n",
       "      <th>701</th>\n",
       "      <td>97</td>\n",
       "      <td>Raposos</td>\n",
       "      <td>Betha (26)</td>\n",
       "      <td>Betha</td>\n",
       "      <td>3</td>\n",
       "      <td>26</td>\n",
       "      <td>10.0</td>\n",
       "      <td>26.0</td>\n",
       "    </tr>\n",
       "    <tr>\n",
       "      <th>700</th>\n",
       "      <td>3</td>\n",
       "      <td>Rio Casca</td>\n",
       "      <td>Betha (26)</td>\n",
       "      <td>Betha</td>\n",
       "      <td>3</td>\n",
       "      <td>26</td>\n",
       "      <td>10.0</td>\n",
       "      <td>26.0</td>\n",
       "    </tr>\n",
       "    <tr>\n",
       "      <th>710</th>\n",
       "      <td>406</td>\n",
       "      <td>Rio Doce</td>\n",
       "      <td>Betha (26)</td>\n",
       "      <td>Betha</td>\n",
       "      <td>3</td>\n",
       "      <td>26</td>\n",
       "      <td>10.0</td>\n",
       "      <td>26.0</td>\n",
       "    </tr>\n",
       "    <tr>\n",
       "      <th>708</th>\n",
       "      <td>20</td>\n",
       "      <td>Sacramento</td>\n",
       "      <td>Betha (26)</td>\n",
       "      <td>Betha</td>\n",
       "      <td>3</td>\n",
       "      <td>26</td>\n",
       "      <td>10.0</td>\n",
       "      <td>26.0</td>\n",
       "    </tr>\n",
       "    <tr>\n",
       "      <th>705</th>\n",
       "      <td>84</td>\n",
       "      <td>Santo Antônio do Monte</td>\n",
       "      <td>Betha (26)</td>\n",
       "      <td>Betha</td>\n",
       "      <td>3</td>\n",
       "      <td>26</td>\n",
       "      <td>10.0</td>\n",
       "      <td>26.0</td>\n",
       "    </tr>\n",
       "    <tr>\n",
       "      <th>713</th>\n",
       "      <td>290</td>\n",
       "      <td>Sarzedo</td>\n",
       "      <td>Betha (26)</td>\n",
       "      <td>Betha</td>\n",
       "      <td>3</td>\n",
       "      <td>26</td>\n",
       "      <td>10.0</td>\n",
       "      <td>26.0</td>\n",
       "    </tr>\n",
       "    <tr>\n",
       "      <th>716</th>\n",
       "      <td>427</td>\n",
       "      <td>São José da Barra</td>\n",
       "      <td>Betha (26)</td>\n",
       "      <td>Betha</td>\n",
       "      <td>3</td>\n",
       "      <td>26</td>\n",
       "      <td>10.0</td>\n",
       "      <td>26.0</td>\n",
       "    </tr>\n",
       "    <tr>\n",
       "      <th>697</th>\n",
       "      <td>712</td>\n",
       "      <td>São Sebastião do Oeste</td>\n",
       "      <td>Betha (26)</td>\n",
       "      <td>Betha</td>\n",
       "      <td>3</td>\n",
       "      <td>26</td>\n",
       "      <td>10.0</td>\n",
       "      <td>26.0</td>\n",
       "    </tr>\n",
       "    <tr>\n",
       "      <th>353</th>\n",
       "      <td>114</td>\n",
       "      <td>Boa Esperança</td>\n",
       "      <td>Betha (7)</td>\n",
       "      <td>Betha</td>\n",
       "      <td>64</td>\n",
       "      <td>7</td>\n",
       "      <td>20.0</td>\n",
       "      <td>7.0</td>\n",
       "    </tr>\n",
       "    <tr>\n",
       "      <th>354</th>\n",
       "      <td>527</td>\n",
       "      <td>Cambuquira</td>\n",
       "      <td>Betha (7)</td>\n",
       "      <td>Betha</td>\n",
       "      <td>64</td>\n",
       "      <td>7</td>\n",
       "      <td>20.0</td>\n",
       "      <td>7.0</td>\n",
       "    </tr>\n",
       "    <tr>\n",
       "      <th>355</th>\n",
       "      <td>64</td>\n",
       "      <td>Carmo do Cajuru</td>\n",
       "      <td>Betha (7)</td>\n",
       "      <td>Betha</td>\n",
       "      <td>64</td>\n",
       "      <td>7</td>\n",
       "      <td>20.0</td>\n",
       "      <td>7.0</td>\n",
       "    </tr>\n",
       "    <tr>\n",
       "      <th>358</th>\n",
       "      <td>554</td>\n",
       "      <td>Guaranésia</td>\n",
       "      <td>Betha (7)</td>\n",
       "      <td>Betha</td>\n",
       "      <td>64</td>\n",
       "      <td>7</td>\n",
       "      <td>20.0</td>\n",
       "      <td>7.0</td>\n",
       "    </tr>\n",
       "    <tr>\n",
       "      <th>352</th>\n",
       "      <td>781</td>\n",
       "      <td>Igaratinga</td>\n",
       "      <td>Betha (7)</td>\n",
       "      <td>Betha</td>\n",
       "      <td>64</td>\n",
       "      <td>7</td>\n",
       "      <td>20.0</td>\n",
       "      <td>7.0</td>\n",
       "    </tr>\n",
       "    <tr>\n",
       "      <th>356</th>\n",
       "      <td>583</td>\n",
       "      <td>Planura</td>\n",
       "      <td>Betha (7)</td>\n",
       "      <td>Betha</td>\n",
       "      <td>64</td>\n",
       "      <td>7</td>\n",
       "      <td>20.0</td>\n",
       "      <td>7.0</td>\n",
       "    </tr>\n",
       "    <tr>\n",
       "      <th>357</th>\n",
       "      <td>721</td>\n",
       "      <td>Tapiraí</td>\n",
       "      <td>Betha (7)</td>\n",
       "      <td>Betha</td>\n",
       "      <td>64</td>\n",
       "      <td>7</td>\n",
       "      <td>20.0</td>\n",
       "      <td>7.0</td>\n",
       "    </tr>\n",
       "  </tbody>\n",
       "</table>\n",
       "</div>"
      ],
      "text/plain": [
       "     municipio_id               municipio template_name_size template  \\\n",
       "703            98                Alterosa         Betha (26)    Betha   \n",
       "720           364           Alto Rio Doce         Betha (26)    Betha   \n",
       "698            81         Bandeira do Sul         Betha (26)    Betha   \n",
       "704           607                Botelhos         Betha (26)    Betha   \n",
       "709           158           Campos Gerais         Betha (26)    Betha   \n",
       "699           597              Cataguases         Betha (26)    Betha   \n",
       "719            23                 Cláudio         Betha (26)    Betha   \n",
       "695           233               Congonhas         Betha (26)    Betha   \n",
       "696           625                 Formiga         Betha (26)    Betha   \n",
       "712           347                   Ijaci         Betha (26)    Betha   \n",
       "711           747                Itaguara         Betha (26)    Betha   \n",
       "707           477                 Itapeva         Betha (26)    Betha   \n",
       "714            42              Itatiaiuçu         Betha (26)    Betha   \n",
       "717           196          Lagoa da Prata         Betha (26)    Betha   \n",
       "718           588                     Luz         Betha (26)    Betha   \n",
       "715           536                 Mantena         Betha (26)    Betha   \n",
       "706           222                 Mariana         Betha (26)    Betha   \n",
       "702            11               Paraguaçu         Betha (26)    Betha   \n",
       "701            97                 Raposos         Betha (26)    Betha   \n",
       "700             3               Rio Casca         Betha (26)    Betha   \n",
       "710           406                Rio Doce         Betha (26)    Betha   \n",
       "708            20              Sacramento         Betha (26)    Betha   \n",
       "705            84  Santo Antônio do Monte         Betha (26)    Betha   \n",
       "713           290                 Sarzedo         Betha (26)    Betha   \n",
       "716           427       São José da Barra         Betha (26)    Betha   \n",
       "697           712  São Sebastião do Oeste         Betha (26)    Betha   \n",
       "353           114           Boa Esperança          Betha (7)    Betha   \n",
       "354           527              Cambuquira          Betha (7)    Betha   \n",
       "355            64         Carmo do Cajuru          Betha (7)    Betha   \n",
       "358           554              Guaranésia          Betha (7)    Betha   \n",
       "352           781              Igaratinga          Betha (7)    Betha   \n",
       "356           583                 Planura          Betha (7)    Betha   \n",
       "357           721                 Tapiraí          Betha (7)    Betha   \n",
       "\n",
       "     cluster_id  cluster_size  cluster_rank  cluster_n_portais  \n",
       "703           3            26          10.0               26.0  \n",
       "720           3            26          10.0               26.0  \n",
       "698           3            26          10.0               26.0  \n",
       "704           3            26          10.0               26.0  \n",
       "709           3            26          10.0               26.0  \n",
       "699           3            26          10.0               26.0  \n",
       "719           3            26          10.0               26.0  \n",
       "695           3            26          10.0               26.0  \n",
       "696           3            26          10.0               26.0  \n",
       "712           3            26          10.0               26.0  \n",
       "711           3            26          10.0               26.0  \n",
       "707           3            26          10.0               26.0  \n",
       "714           3            26          10.0               26.0  \n",
       "717           3            26          10.0               26.0  \n",
       "718           3            26          10.0               26.0  \n",
       "715           3            26          10.0               26.0  \n",
       "706           3            26          10.0               26.0  \n",
       "702           3            26          10.0               26.0  \n",
       "701           3            26          10.0               26.0  \n",
       "700           3            26          10.0               26.0  \n",
       "710           3            26          10.0               26.0  \n",
       "708           3            26          10.0               26.0  \n",
       "705           3            26          10.0               26.0  \n",
       "713           3            26          10.0               26.0  \n",
       "716           3            26          10.0               26.0  \n",
       "697           3            26          10.0               26.0  \n",
       "353          64             7          20.0                7.0  \n",
       "354          64             7          20.0                7.0  \n",
       "355          64             7          20.0                7.0  \n",
       "358          64             7          20.0                7.0  \n",
       "352          64             7          20.0                7.0  \n",
       "356          64             7          20.0                7.0  \n",
       "357          64             7          20.0                7.0  "
      ]
     },
     "execution_count": 125,
     "metadata": {},
     "output_type": "execute_result"
    }
   ],
   "source": [
    "municipios[municipios.template == 'Betha']['municipio'].values"
   ]
  },
  {
   "cell_type": "markdown",
   "metadata": {
    "jp-MarkdownHeadingCollapsed": true,
    "tags": []
   },
   "source": [
    "## Gráficos Semanais"
   ]
  },
  {
   "cell_type": "code",
   "execution_count": 188,
   "metadata": {},
   "outputs": [
    {
     "data": {
      "text/html": [
       "<div>\n",
       "<style scoped>\n",
       "    .dataframe tbody tr th:only-of-type {\n",
       "        vertical-align: middle;\n",
       "    }\n",
       "\n",
       "    .dataframe tbody tr th {\n",
       "        vertical-align: top;\n",
       "    }\n",
       "\n",
       "    .dataframe thead th {\n",
       "        text-align: right;\n",
       "    }\n",
       "</style>\n",
       "<table border=\"1\" class=\"dataframe\">\n",
       "  <thead>\n",
       "    <tr style=\"text-align: right;\">\n",
       "      <th></th>\n",
       "      <th>week_year</th>\n",
       "      <th>closed_at</th>\n",
       "      <th>week</th>\n",
       "      <th>year</th>\n",
       "    </tr>\n",
       "  </thead>\n",
       "  <tbody>\n",
       "    <tr>\n",
       "      <th>0</th>\n",
       "      <td>1/2022</td>\n",
       "      <td>56.0</td>\n",
       "      <td>1</td>\n",
       "      <td>2022</td>\n",
       "    </tr>\n",
       "    <tr>\n",
       "      <th>1</th>\n",
       "      <td>2/2022</td>\n",
       "      <td>70.0</td>\n",
       "      <td>2</td>\n",
       "      <td>2022</td>\n",
       "    </tr>\n",
       "    <tr>\n",
       "      <th>2</th>\n",
       "      <td>3/2022</td>\n",
       "      <td>63.0</td>\n",
       "      <td>3</td>\n",
       "      <td>2022</td>\n",
       "    </tr>\n",
       "    <tr>\n",
       "      <th>3</th>\n",
       "      <td>4/2022</td>\n",
       "      <td>55.0</td>\n",
       "      <td>4</td>\n",
       "      <td>2022</td>\n",
       "    </tr>\n",
       "    <tr>\n",
       "      <th>4</th>\n",
       "      <td>5/2022</td>\n",
       "      <td>5.0</td>\n",
       "      <td>5</td>\n",
       "      <td>2022</td>\n",
       "    </tr>\n",
       "    <tr>\n",
       "      <th>5</th>\n",
       "      <td>6/2022</td>\n",
       "      <td>91.0</td>\n",
       "      <td>6</td>\n",
       "      <td>2022</td>\n",
       "    </tr>\n",
       "    <tr>\n",
       "      <th>6</th>\n",
       "      <td>7/2022</td>\n",
       "      <td>65.0</td>\n",
       "      <td>7</td>\n",
       "      <td>2022</td>\n",
       "    </tr>\n",
       "    <tr>\n",
       "      <th>7</th>\n",
       "      <td>8/2022</td>\n",
       "      <td>188.0</td>\n",
       "      <td>8</td>\n",
       "      <td>2022</td>\n",
       "    </tr>\n",
       "    <tr>\n",
       "      <th>8</th>\n",
       "      <td>9/2022</td>\n",
       "      <td>124.0</td>\n",
       "      <td>9</td>\n",
       "      <td>2022</td>\n",
       "    </tr>\n",
       "    <tr>\n",
       "      <th>9</th>\n",
       "      <td>10/2022</td>\n",
       "      <td>232.0</td>\n",
       "      <td>10</td>\n",
       "      <td>2022</td>\n",
       "    </tr>\n",
       "    <tr>\n",
       "      <th>10</th>\n",
       "      <td>11/2022</td>\n",
       "      <td>222.0</td>\n",
       "      <td>11</td>\n",
       "      <td>2022</td>\n",
       "    </tr>\n",
       "    <tr>\n",
       "      <th>11</th>\n",
       "      <td>12/2022</td>\n",
       "      <td>67.0</td>\n",
       "      <td>12</td>\n",
       "      <td>2022</td>\n",
       "    </tr>\n",
       "    <tr>\n",
       "      <th>12</th>\n",
       "      <td>13/2022</td>\n",
       "      <td>62.0</td>\n",
       "      <td>13</td>\n",
       "      <td>2022</td>\n",
       "    </tr>\n",
       "    <tr>\n",
       "      <th>13</th>\n",
       "      <td>14/2022</td>\n",
       "      <td>68.0</td>\n",
       "      <td>14</td>\n",
       "      <td>2022</td>\n",
       "    </tr>\n",
       "    <tr>\n",
       "      <th>14</th>\n",
       "      <td>15/2022</td>\n",
       "      <td>131.0</td>\n",
       "      <td>15</td>\n",
       "      <td>2022</td>\n",
       "    </tr>\n",
       "  </tbody>\n",
       "</table>\n",
       "</div>"
      ],
      "text/plain": [
       "   week_year  closed_at  week  year\n",
       "0     1/2022       56.0     1  2022\n",
       "1     2/2022       70.0     2  2022\n",
       "2     3/2022       63.0     3  2022\n",
       "3     4/2022       55.0     4  2022\n",
       "4     5/2022        5.0     5  2022\n",
       "5     6/2022       91.0     6  2022\n",
       "6     7/2022       65.0     7  2022\n",
       "7     8/2022      188.0     8  2022\n",
       "8     9/2022      124.0     9  2022\n",
       "9    10/2022      232.0    10  2022\n",
       "10   11/2022      222.0    11  2022\n",
       "11   12/2022       67.0    12  2022\n",
       "12   13/2022       62.0    13  2022\n",
       "13   14/2022       68.0    14  2022\n",
       "14   15/2022      131.0    15  2022"
      ]
     },
     "execution_count": 188,
     "metadata": {},
     "output_type": "execute_result"
    }
   ],
   "source": [
    "df = pd.read_csv(\"data/df.csv\")\n",
    "week_status = count_by_week(df, time_column='closed_at')\n",
    "week_status.head(15)"
   ]
  },
  {
   "cell_type": "code",
   "execution_count": 190,
   "metadata": {},
   "outputs": [
    {
     "data": {
      "application/vnd.plotly.v1+json": {
       "config": {
        "plotlyServerURL": "https://plot.ly"
       },
       "data": [
        {
         "marker": {
          "color": "#3E79FA"
         },
         "opacity": 0.7,
         "type": "bar",
         "x": [
          "1/2022",
          "2/2022",
          "3/2022",
          "4/2022",
          "5/2022",
          "6/2022",
          "7/2022",
          "8/2022",
          "9/2022",
          "10/2022",
          "11/2022",
          "12/2022",
          "13/2022",
          "14/2022",
          "15/2022",
          "16/2022",
          "17/2022",
          "18/2022",
          "19/2022",
          "20/2022",
          "21/2022",
          "22/2022",
          "23/2022",
          "24/2022",
          "25/2022",
          "26/2022",
          "27/2022",
          "28/2022",
          "29/2022",
          "30/2022",
          "31/2022",
          "32/2022",
          "33/2022",
          "34/2022",
          "35/2022",
          "36/2022",
          "37/2022",
          "38/2022",
          "39/2022",
          "40/2022",
          "41/2022",
          "42/2022",
          "43/2022"
         ],
         "y": [
          56,
          70,
          63,
          55,
          5,
          91,
          65,
          188,
          124,
          232,
          222,
          67,
          62,
          68,
          131,
          148,
          58,
          122,
          108,
          152,
          67,
          9,
          88,
          48,
          71,
          78,
          85,
          51,
          133,
          211,
          579,
          249,
          454,
          252,
          277,
          104,
          111,
          248,
          150,
          128,
          3,
          0,
          231
         ]
        }
       ],
       "layout": {
        "autosize": true,
        "bargap": 0,
        "template": {
         "data": {
          "bar": [
           {
            "error_x": {
             "color": "#2a3f5f"
            },
            "error_y": {
             "color": "#2a3f5f"
            },
            "marker": {
             "line": {
              "color": "#E5ECF6",
              "width": 0.5
             },
             "pattern": {
              "fillmode": "overlay",
              "size": 10,
              "solidity": 0.2
             }
            },
            "type": "bar"
           }
          ],
          "barpolar": [
           {
            "marker": {
             "line": {
              "color": "#E5ECF6",
              "width": 0.5
             },
             "pattern": {
              "fillmode": "overlay",
              "size": 10,
              "solidity": 0.2
             }
            },
            "type": "barpolar"
           }
          ],
          "carpet": [
           {
            "aaxis": {
             "endlinecolor": "#2a3f5f",
             "gridcolor": "white",
             "linecolor": "white",
             "minorgridcolor": "white",
             "startlinecolor": "#2a3f5f"
            },
            "baxis": {
             "endlinecolor": "#2a3f5f",
             "gridcolor": "white",
             "linecolor": "white",
             "minorgridcolor": "white",
             "startlinecolor": "#2a3f5f"
            },
            "type": "carpet"
           }
          ],
          "choropleth": [
           {
            "colorbar": {
             "outlinewidth": 0,
             "ticks": ""
            },
            "type": "choropleth"
           }
          ],
          "contour": [
           {
            "colorbar": {
             "outlinewidth": 0,
             "ticks": ""
            },
            "colorscale": [
             [
              0,
              "#0d0887"
             ],
             [
              0.1111111111111111,
              "#46039f"
             ],
             [
              0.2222222222222222,
              "#7201a8"
             ],
             [
              0.3333333333333333,
              "#9c179e"
             ],
             [
              0.4444444444444444,
              "#bd3786"
             ],
             [
              0.5555555555555556,
              "#d8576b"
             ],
             [
              0.6666666666666666,
              "#ed7953"
             ],
             [
              0.7777777777777778,
              "#fb9f3a"
             ],
             [
              0.8888888888888888,
              "#fdca26"
             ],
             [
              1,
              "#f0f921"
             ]
            ],
            "type": "contour"
           }
          ],
          "contourcarpet": [
           {
            "colorbar": {
             "outlinewidth": 0,
             "ticks": ""
            },
            "type": "contourcarpet"
           }
          ],
          "heatmap": [
           {
            "colorbar": {
             "outlinewidth": 0,
             "ticks": ""
            },
            "colorscale": [
             [
              0,
              "#0d0887"
             ],
             [
              0.1111111111111111,
              "#46039f"
             ],
             [
              0.2222222222222222,
              "#7201a8"
             ],
             [
              0.3333333333333333,
              "#9c179e"
             ],
             [
              0.4444444444444444,
              "#bd3786"
             ],
             [
              0.5555555555555556,
              "#d8576b"
             ],
             [
              0.6666666666666666,
              "#ed7953"
             ],
             [
              0.7777777777777778,
              "#fb9f3a"
             ],
             [
              0.8888888888888888,
              "#fdca26"
             ],
             [
              1,
              "#f0f921"
             ]
            ],
            "type": "heatmap"
           }
          ],
          "heatmapgl": [
           {
            "colorbar": {
             "outlinewidth": 0,
             "ticks": ""
            },
            "colorscale": [
             [
              0,
              "#0d0887"
             ],
             [
              0.1111111111111111,
              "#46039f"
             ],
             [
              0.2222222222222222,
              "#7201a8"
             ],
             [
              0.3333333333333333,
              "#9c179e"
             ],
             [
              0.4444444444444444,
              "#bd3786"
             ],
             [
              0.5555555555555556,
              "#d8576b"
             ],
             [
              0.6666666666666666,
              "#ed7953"
             ],
             [
              0.7777777777777778,
              "#fb9f3a"
             ],
             [
              0.8888888888888888,
              "#fdca26"
             ],
             [
              1,
              "#f0f921"
             ]
            ],
            "type": "heatmapgl"
           }
          ],
          "histogram": [
           {
            "marker": {
             "pattern": {
              "fillmode": "overlay",
              "size": 10,
              "solidity": 0.2
             }
            },
            "type": "histogram"
           }
          ],
          "histogram2d": [
           {
            "colorbar": {
             "outlinewidth": 0,
             "ticks": ""
            },
            "colorscale": [
             [
              0,
              "#0d0887"
             ],
             [
              0.1111111111111111,
              "#46039f"
             ],
             [
              0.2222222222222222,
              "#7201a8"
             ],
             [
              0.3333333333333333,
              "#9c179e"
             ],
             [
              0.4444444444444444,
              "#bd3786"
             ],
             [
              0.5555555555555556,
              "#d8576b"
             ],
             [
              0.6666666666666666,
              "#ed7953"
             ],
             [
              0.7777777777777778,
              "#fb9f3a"
             ],
             [
              0.8888888888888888,
              "#fdca26"
             ],
             [
              1,
              "#f0f921"
             ]
            ],
            "type": "histogram2d"
           }
          ],
          "histogram2dcontour": [
           {
            "colorbar": {
             "outlinewidth": 0,
             "ticks": ""
            },
            "colorscale": [
             [
              0,
              "#0d0887"
             ],
             [
              0.1111111111111111,
              "#46039f"
             ],
             [
              0.2222222222222222,
              "#7201a8"
             ],
             [
              0.3333333333333333,
              "#9c179e"
             ],
             [
              0.4444444444444444,
              "#bd3786"
             ],
             [
              0.5555555555555556,
              "#d8576b"
             ],
             [
              0.6666666666666666,
              "#ed7953"
             ],
             [
              0.7777777777777778,
              "#fb9f3a"
             ],
             [
              0.8888888888888888,
              "#fdca26"
             ],
             [
              1,
              "#f0f921"
             ]
            ],
            "type": "histogram2dcontour"
           }
          ],
          "mesh3d": [
           {
            "colorbar": {
             "outlinewidth": 0,
             "ticks": ""
            },
            "type": "mesh3d"
           }
          ],
          "parcoords": [
           {
            "line": {
             "colorbar": {
              "outlinewidth": 0,
              "ticks": ""
             }
            },
            "type": "parcoords"
           }
          ],
          "pie": [
           {
            "automargin": true,
            "type": "pie"
           }
          ],
          "scatter": [
           {
            "marker": {
             "colorbar": {
              "outlinewidth": 0,
              "ticks": ""
             }
            },
            "type": "scatter"
           }
          ],
          "scatter3d": [
           {
            "line": {
             "colorbar": {
              "outlinewidth": 0,
              "ticks": ""
             }
            },
            "marker": {
             "colorbar": {
              "outlinewidth": 0,
              "ticks": ""
             }
            },
            "type": "scatter3d"
           }
          ],
          "scattercarpet": [
           {
            "marker": {
             "colorbar": {
              "outlinewidth": 0,
              "ticks": ""
             }
            },
            "type": "scattercarpet"
           }
          ],
          "scattergeo": [
           {
            "marker": {
             "colorbar": {
              "outlinewidth": 0,
              "ticks": ""
             }
            },
            "type": "scattergeo"
           }
          ],
          "scattergl": [
           {
            "marker": {
             "colorbar": {
              "outlinewidth": 0,
              "ticks": ""
             }
            },
            "type": "scattergl"
           }
          ],
          "scattermapbox": [
           {
            "marker": {
             "colorbar": {
              "outlinewidth": 0,
              "ticks": ""
             }
            },
            "type": "scattermapbox"
           }
          ],
          "scatterpolar": [
           {
            "marker": {
             "colorbar": {
              "outlinewidth": 0,
              "ticks": ""
             }
            },
            "type": "scatterpolar"
           }
          ],
          "scatterpolargl": [
           {
            "marker": {
             "colorbar": {
              "outlinewidth": 0,
              "ticks": ""
             }
            },
            "type": "scatterpolargl"
           }
          ],
          "scatterternary": [
           {
            "marker": {
             "colorbar": {
              "outlinewidth": 0,
              "ticks": ""
             }
            },
            "type": "scatterternary"
           }
          ],
          "surface": [
           {
            "colorbar": {
             "outlinewidth": 0,
             "ticks": ""
            },
            "colorscale": [
             [
              0,
              "#0d0887"
             ],
             [
              0.1111111111111111,
              "#46039f"
             ],
             [
              0.2222222222222222,
              "#7201a8"
             ],
             [
              0.3333333333333333,
              "#9c179e"
             ],
             [
              0.4444444444444444,
              "#bd3786"
             ],
             [
              0.5555555555555556,
              "#d8576b"
             ],
             [
              0.6666666666666666,
              "#ed7953"
             ],
             [
              0.7777777777777778,
              "#fb9f3a"
             ],
             [
              0.8888888888888888,
              "#fdca26"
             ],
             [
              1,
              "#f0f921"
             ]
            ],
            "type": "surface"
           }
          ],
          "table": [
           {
            "cells": {
             "fill": {
              "color": "#EBF0F8"
             },
             "line": {
              "color": "white"
             }
            },
            "header": {
             "fill": {
              "color": "#C8D4E3"
             },
             "line": {
              "color": "white"
             }
            },
            "type": "table"
           }
          ]
         },
         "layout": {
          "annotationdefaults": {
           "arrowcolor": "#2a3f5f",
           "arrowhead": 0,
           "arrowwidth": 1
          },
          "autotypenumbers": "strict",
          "coloraxis": {
           "colorbar": {
            "outlinewidth": 0,
            "ticks": ""
           }
          },
          "colorscale": {
           "diverging": [
            [
             0,
             "#8e0152"
            ],
            [
             0.1,
             "#c51b7d"
            ],
            [
             0.2,
             "#de77ae"
            ],
            [
             0.3,
             "#f1b6da"
            ],
            [
             0.4,
             "#fde0ef"
            ],
            [
             0.5,
             "#f7f7f7"
            ],
            [
             0.6,
             "#e6f5d0"
            ],
            [
             0.7,
             "#b8e186"
            ],
            [
             0.8,
             "#7fbc41"
            ],
            [
             0.9,
             "#4d9221"
            ],
            [
             1,
             "#276419"
            ]
           ],
           "sequential": [
            [
             0,
             "#0d0887"
            ],
            [
             0.1111111111111111,
             "#46039f"
            ],
            [
             0.2222222222222222,
             "#7201a8"
            ],
            [
             0.3333333333333333,
             "#9c179e"
            ],
            [
             0.4444444444444444,
             "#bd3786"
            ],
            [
             0.5555555555555556,
             "#d8576b"
            ],
            [
             0.6666666666666666,
             "#ed7953"
            ],
            [
             0.7777777777777778,
             "#fb9f3a"
            ],
            [
             0.8888888888888888,
             "#fdca26"
            ],
            [
             1,
             "#f0f921"
            ]
           ],
           "sequentialminus": [
            [
             0,
             "#0d0887"
            ],
            [
             0.1111111111111111,
             "#46039f"
            ],
            [
             0.2222222222222222,
             "#7201a8"
            ],
            [
             0.3333333333333333,
             "#9c179e"
            ],
            [
             0.4444444444444444,
             "#bd3786"
            ],
            [
             0.5555555555555556,
             "#d8576b"
            ],
            [
             0.6666666666666666,
             "#ed7953"
            ],
            [
             0.7777777777777778,
             "#fb9f3a"
            ],
            [
             0.8888888888888888,
             "#fdca26"
            ],
            [
             1,
             "#f0f921"
            ]
           ]
          },
          "colorway": [
           "#636efa",
           "#EF553B",
           "#00cc96",
           "#ab63fa",
           "#FFA15A",
           "#19d3f3",
           "#FF6692",
           "#B6E880",
           "#FF97FF",
           "#FECB52"
          ],
          "font": {
           "color": "#2a3f5f"
          },
          "geo": {
           "bgcolor": "white",
           "lakecolor": "white",
           "landcolor": "#E5ECF6",
           "showlakes": true,
           "showland": true,
           "subunitcolor": "white"
          },
          "hoverlabel": {
           "align": "left"
          },
          "hovermode": "closest",
          "mapbox": {
           "style": "light"
          },
          "paper_bgcolor": "white",
          "plot_bgcolor": "#E5ECF6",
          "polar": {
           "angularaxis": {
            "gridcolor": "white",
            "linecolor": "white",
            "ticks": ""
           },
           "bgcolor": "#E5ECF6",
           "radialaxis": {
            "gridcolor": "white",
            "linecolor": "white",
            "ticks": ""
           }
          },
          "scene": {
           "xaxis": {
            "backgroundcolor": "#E5ECF6",
            "gridcolor": "white",
            "gridwidth": 2,
            "linecolor": "white",
            "showbackground": true,
            "ticks": "",
            "zerolinecolor": "white"
           },
           "yaxis": {
            "backgroundcolor": "#E5ECF6",
            "gridcolor": "white",
            "gridwidth": 2,
            "linecolor": "white",
            "showbackground": true,
            "ticks": "",
            "zerolinecolor": "white"
           },
           "zaxis": {
            "backgroundcolor": "#E5ECF6",
            "gridcolor": "white",
            "gridwidth": 2,
            "linecolor": "white",
            "showbackground": true,
            "ticks": "",
            "zerolinecolor": "white"
           }
          },
          "shapedefaults": {
           "line": {
            "color": "#2a3f5f"
           }
          },
          "ternary": {
           "aaxis": {
            "gridcolor": "white",
            "linecolor": "white",
            "ticks": ""
           },
           "baxis": {
            "gridcolor": "white",
            "linecolor": "white",
            "ticks": ""
           },
           "bgcolor": "#E5ECF6",
           "caxis": {
            "gridcolor": "white",
            "linecolor": "white",
            "ticks": ""
           }
          },
          "title": {
           "x": 0.05
          },
          "xaxis": {
           "automargin": true,
           "gridcolor": "white",
           "linecolor": "white",
           "ticks": "",
           "title": {
            "standoff": 15
           },
           "zerolinecolor": "white",
           "zerolinewidth": 2
          },
          "yaxis": {
           "automargin": true,
           "gridcolor": "white",
           "linecolor": "white",
           "ticks": "",
           "title": {
            "standoff": 15
           },
           "zerolinecolor": "white",
           "zerolinewidth": 2
          }
         }
        },
        "title": {
         "text": "Coletas fechadas por semana"
        },
        "xaxis": {
         "autorange": true,
         "range": [
          -0.5,
          42.5
         ],
         "title": {
          "text": "Semanas"
         },
         "type": "category"
        },
        "yaxis": {
         "autorange": true,
         "range": [
          0,
          609.4736842105264
         ],
         "type": "linear"
        }
       }
      },
      "image/png": "[encoded data removed]",
      "text/html": [
       "<div>                            <div id=\"bb95f020-c34e-45a7-8584-1a665fc7fd5b\" class=\"plotly-graph-div\" style=\"height:525px; width:100%;\"></div>            <script type=\"text/javascript\">                require([\"plotly\"], function(Plotly) {                    window.PLOTLYENV=window.PLOTLYENV || {};                                    if (document.getElementById(\"bb95f020-c34e-45a7-8584-1a665fc7fd5b\")) {                    Plotly.newPlot(                        \"bb95f020-c34e-45a7-8584-1a665fc7fd5b\",                        [{\"marker\":{\"color\":\"#3E79FA\"},\"opacity\":0.7,\"type\":\"bar\",\"x\":[\"1/2022\",\"2/2022\",\"3/2022\",\"4/2022\",\"5/2022\",\"6/2022\",\"7/2022\",\"8/2022\",\"9/2022\",\"10/2022\",\"11/2022\",\"12/2022\",\"13/2022\",\"14/2022\",\"15/2022\",\"16/2022\",\"17/2022\",\"18/2022\",\"19/2022\",\"20/2022\",\"21/2022\",\"22/2022\",\"23/2022\",\"24/2022\",\"25/2022\",\"26/2022\",\"27/2022\",\"28/2022\",\"29/2022\",\"30/2022\",\"31/2022\",\"32/2022\",\"33/2022\",\"34/2022\",\"35/2022\",\"36/2022\",\"37/2022\",\"38/2022\",\"39/2022\",\"40/2022\",\"41/2022\",\"42/2022\",\"43/2022\"],\"y\":[56.0,70.0,63.0,55.0,5.0,91.0,65.0,188.0,124.0,232.0,222.0,67.0,62.0,68.0,131.0,148.0,58.0,122.0,108.0,152.0,67.0,9.0,88.0,48.0,71.0,78.0,85.0,51.0,133.0,211.0,579.0,249.0,454.0,252.0,277.0,104.0,111.0,248.0,150.0,128.0,3.0,0.0,231.0]}],                        {\"autosize\":true,\"bargap\":0,\"template\":{\"data\":{\"bar\":[{\"error_x\":{\"color\":\"#2a3f5f\"},\"error_y\":{\"color\":\"#2a3f5f\"},\"marker\":{\"line\":{\"color\":\"#E5ECF6\",\"width\":0.5},\"pattern\":{\"fillmode\":\"overlay\",\"size\":10,\"solidity\":0.2}},\"type\":\"bar\"}],\"barpolar\":[{\"marker\":{\"line\":{\"color\":\"#E5ECF6\",\"width\":0.5},\"pattern\":{\"fillmode\":\"overlay\",\"size\":10,\"solidity\":0.2}},\"type\":\"barpolar\"}],\"carpet\":[{\"aaxis\":{\"endlinecolor\":\"#2a3f5f\",\"gridcolor\":\"white\",\"linecolor\":\"white\",\"minorgridcolor\":\"white\",\"startlinecolor\":\"#2a3f5f\"},\"baxis\":{\"endlinecolor\":\"#2a3f5f\",\"gridcolor\":\"white\",\"linecolor\":\"white\",\"minorgridcolor\":\"white\",\"startlinecolor\":\"#2a3f5f\"},\"type\":\"carpet\"}],\"choropleth\":[{\"colorbar\":{\"outlinewidth\":0,\"ticks\":\"\"},\"type\":\"choropleth\"}],\"contour\":[{\"colorbar\":{\"outlinewidth\":0,\"ticks\":\"\"},\"colorscale\":[[0.0,\"#0d0887\"],[0.1111111111111111,\"#46039f\"],[0.2222222222222222,\"#7201a8\"],[0.3333333333333333,\"#9c179e\"],[0.4444444444444444,\"#bd3786\"],[0.5555555555555556,\"#d8576b\"],[0.6666666666666666,\"#ed7953\"],[0.7777777777777778,\"#fb9f3a\"],[0.8888888888888888,\"#fdca26\"],[1.0,\"#f0f921\"]],\"type\":\"contour\"}],\"contourcarpet\":[{\"colorbar\":{\"outlinewidth\":0,\"ticks\":\"\"},\"type\":\"contourcarpet\"}],\"heatmap\":[{\"colorbar\":{\"outlinewidth\":0,\"ticks\":\"\"},\"colorscale\":[[0.0,\"#0d0887\"],[0.1111111111111111,\"#46039f\"],[0.2222222222222222,\"#7201a8\"],[0.3333333333333333,\"#9c179e\"],[0.4444444444444444,\"#bd3786\"],[0.5555555555555556,\"#d8576b\"],[0.6666666666666666,\"#ed7953\"],[0.7777777777777778,\"#fb9f3a\"],[0.8888888888888888,\"#fdca26\"],[1.0,\"#f0f921\"]],\"type\":\"heatmap\"}],\"heatmapgl\":[{\"colorbar\":{\"outlinewidth\":0,\"ticks\":\"\"},\"colorscale\":[[0.0,\"#0d0887\"],[0.1111111111111111,\"#46039f\"],[0.2222222222222222,\"#7201a8\"],[0.3333333333333333,\"#9c179e\"],[0.4444444444444444,\"#bd3786\"],[0.5555555555555556,\"#d8576b\"],[0.6666666666666666,\"#ed7953\"],[0.7777777777777778,\"#fb9f3a\"],[0.8888888888888888,\"#fdca26\"],[1.0,\"#f0f921\"]],\"type\":\"heatmapgl\"}],\"histogram\":[{\"marker\":{\"pattern\":{\"fillmode\":\"overlay\",\"size\":10,\"solidity\":0.2}},\"type\":\"histogram\"}],\"histogram2d\":[{\"colorbar\":{\"outlinewidth\":0,\"ticks\":\"\"},\"colorscale\":[[0.0,\"#0d0887\"],[0.1111111111111111,\"#46039f\"],[0.2222222222222222,\"#7201a8\"],[0.3333333333333333,\"#9c179e\"],[0.4444444444444444,\"#bd3786\"],[0.5555555555555556,\"#d8576b\"],[0.6666666666666666,\"#ed7953\"],[0.7777777777777778,\"#fb9f3a\"],[0.8888888888888888,\"#fdca26\"],[1.0,\"#f0f921\"]],\"type\":\"histogram2d\"}],\"histogram2dcontour\":[{\"colorbar\":{\"outlinewidth\":0,\"ticks\":\"\"},\"colorscale\":[[0.0,\"#0d0887\"],[0.1111111111111111,\"#46039f\"],[0.2222222222222222,\"#7201a8\"],[0.3333333333333333,\"#9c179e\"],[0.4444444444444444,\"#bd3786\"],[0.5555555555555556,\"#d8576b\"],[0.6666666666666666,\"#ed7953\"],[0.7777777777777778,\"#fb9f3a\"],[0.8888888888888888,\"#fdca26\"],[1.0,\"#f0f921\"]],\"type\":\"histogram2dcontour\"}],\"mesh3d\":[{\"colorbar\":{\"outlinewidth\":0,\"ticks\":\"\"},\"type\":\"mesh3d\"}],\"parcoords\":[{\"line\":{\"colorbar\":{\"outlinewidth\":0,\"ticks\":\"\"}},\"type\":\"parcoords\"}],\"pie\":[{\"automargin\":true,\"type\":\"pie\"}],\"scatter\":[{\"marker\":{\"colorbar\":{\"outlinewidth\":0,\"ticks\":\"\"}},\"type\":\"scatter\"}],\"scatter3d\":[{\"line\":{\"colorbar\":{\"outlinewidth\":0,\"ticks\":\"\"}},\"marker\":{\"colorbar\":{\"outlinewidth\":0,\"ticks\":\"\"}},\"type\":\"scatter3d\"}],\"scattercarpet\":[{\"marker\":{\"colorbar\":{\"outlinewidth\":0,\"ticks\":\"\"}},\"type\":\"scattercarpet\"}],\"scattergeo\":[{\"marker\":{\"colorbar\":{\"outlinewidth\":0,\"ticks\":\"\"}},\"type\":\"scattergeo\"}],\"scattergl\":[{\"marker\":{\"colorbar\":{\"outlinewidth\":0,\"ticks\":\"\"}},\"type\":\"scattergl\"}],\"scattermapbox\":[{\"marker\":{\"colorbar\":{\"outlinewidth\":0,\"ticks\":\"\"}},\"type\":\"scattermapbox\"}],\"scatterpolar\":[{\"marker\":{\"colorbar\":{\"outlinewidth\":0,\"ticks\":\"\"}},\"type\":\"scatterpolar\"}],\"scatterpolargl\":[{\"marker\":{\"colorbar\":{\"outlinewidth\":0,\"ticks\":\"\"}},\"type\":\"scatterpolargl\"}],\"scatterternary\":[{\"marker\":{\"colorbar\":{\"outlinewidth\":0,\"ticks\":\"\"}},\"type\":\"scatterternary\"}],\"surface\":[{\"colorbar\":{\"outlinewidth\":0,\"ticks\":\"\"},\"colorscale\":[[0.0,\"#0d0887\"],[0.1111111111111111,\"#46039f\"],[0.2222222222222222,\"#7201a8\"],[0.3333333333333333,\"#9c179e\"],[0.4444444444444444,\"#bd3786\"],[0.5555555555555556,\"#d8576b\"],[0.6666666666666666,\"#ed7953\"],[0.7777777777777778,\"#fb9f3a\"],[0.8888888888888888,\"#fdca26\"],[1.0,\"#f0f921\"]],\"type\":\"surface\"}],\"table\":[{\"cells\":{\"fill\":{\"color\":\"#EBF0F8\"},\"line\":{\"color\":\"white\"}},\"header\":{\"fill\":{\"color\":\"#C8D4E3\"},\"line\":{\"color\":\"white\"}},\"type\":\"table\"}]},\"layout\":{\"annotationdefaults\":{\"arrowcolor\":\"#2a3f5f\",\"arrowhead\":0,\"arrowwidth\":1},\"autotypenumbers\":\"strict\",\"coloraxis\":{\"colorbar\":{\"outlinewidth\":0,\"ticks\":\"\"}},\"colorscale\":{\"diverging\":[[0,\"#8e0152\"],[0.1,\"#c51b7d\"],[0.2,\"#de77ae\"],[0.3,\"#f1b6da\"],[0.4,\"#fde0ef\"],[0.5,\"#f7f7f7\"],[0.6,\"#e6f5d0\"],[0.7,\"#b8e186\"],[0.8,\"#7fbc41\"],[0.9,\"#4d9221\"],[1,\"#276419\"]],\"sequential\":[[0.0,\"#0d0887\"],[0.1111111111111111,\"#46039f\"],[0.2222222222222222,\"#7201a8\"],[0.3333333333333333,\"#9c179e\"],[0.4444444444444444,\"#bd3786\"],[0.5555555555555556,\"#d8576b\"],[0.6666666666666666,\"#ed7953\"],[0.7777777777777778,\"#fb9f3a\"],[0.8888888888888888,\"#fdca26\"],[1.0,\"#f0f921\"]],\"sequentialminus\":[[0.0,\"#0d0887\"],[0.1111111111111111,\"#46039f\"],[0.2222222222222222,\"#7201a8\"],[0.3333333333333333,\"#9c179e\"],[0.4444444444444444,\"#bd3786\"],[0.5555555555555556,\"#d8576b\"],[0.6666666666666666,\"#ed7953\"],[0.7777777777777778,\"#fb9f3a\"],[0.8888888888888888,\"#fdca26\"],[1.0,\"#f0f921\"]]},\"colorway\":[\"#636efa\",\"#EF553B\",\"#00cc96\",\"#ab63fa\",\"#FFA15A\",\"#19d3f3\",\"#FF6692\",\"#B6E880\",\"#FF97FF\",\"#FECB52\"],\"font\":{\"color\":\"#2a3f5f\"},\"geo\":{\"bgcolor\":\"white\",\"lakecolor\":\"white\",\"landcolor\":\"#E5ECF6\",\"showlakes\":true,\"showland\":true,\"subunitcolor\":\"white\"},\"hoverlabel\":{\"align\":\"left\"},\"hovermode\":\"closest\",\"mapbox\":{\"style\":\"light\"},\"paper_bgcolor\":\"white\",\"plot_bgcolor\":\"#E5ECF6\",\"polar\":{\"angularaxis\":{\"gridcolor\":\"white\",\"linecolor\":\"white\",\"ticks\":\"\"},\"bgcolor\":\"#E5ECF6\",\"radialaxis\":{\"gridcolor\":\"white\",\"linecolor\":\"white\",\"ticks\":\"\"}},\"scene\":{\"xaxis\":{\"backgroundcolor\":\"#E5ECF6\",\"gridcolor\":\"white\",\"gridwidth\":2,\"linecolor\":\"white\",\"showbackground\":true,\"ticks\":\"\",\"zerolinecolor\":\"white\"},\"yaxis\":{\"backgroundcolor\":\"#E5ECF6\",\"gridcolor\":\"white\",\"gridwidth\":2,\"linecolor\":\"white\",\"showbackground\":true,\"ticks\":\"\",\"zerolinecolor\":\"white\"},\"zaxis\":{\"backgroundcolor\":\"#E5ECF6\",\"gridcolor\":\"white\",\"gridwidth\":2,\"linecolor\":\"white\",\"showbackground\":true,\"ticks\":\"\",\"zerolinecolor\":\"white\"}},\"shapedefaults\":{\"line\":{\"color\":\"#2a3f5f\"}},\"ternary\":{\"aaxis\":{\"gridcolor\":\"white\",\"linecolor\":\"white\",\"ticks\":\"\"},\"baxis\":{\"gridcolor\":\"white\",\"linecolor\":\"white\",\"ticks\":\"\"},\"bgcolor\":\"#E5ECF6\",\"caxis\":{\"gridcolor\":\"white\",\"linecolor\":\"white\",\"ticks\":\"\"}},\"title\":{\"x\":0.05},\"xaxis\":{\"automargin\":true,\"gridcolor\":\"white\",\"linecolor\":\"white\",\"ticks\":\"\",\"title\":{\"standoff\":15},\"zerolinecolor\":\"white\",\"zerolinewidth\":2},\"yaxis\":{\"automargin\":true,\"gridcolor\":\"white\",\"linecolor\":\"white\",\"ticks\":\"\",\"title\":{\"standoff\":15},\"zerolinecolor\":\"white\",\"zerolinewidth\":2}}},\"title\":{\"text\":\"Coletas fechadas por semana\"},\"xaxis\":{\"title\":{\"text\":\"Semanas\"}}},                        {\"responsive\": true}                    ).then(function(){\n",
       "                            \n",
       "var gd = document.getElementById('bb95f020-c34e-45a7-8584-1a665fc7fd5b');\n",
       "var x = new MutationObserver(function (mutations, observer) {{\n",
       "        var display = window.getComputedStyle(gd).display;\n",
       "        if (!display || display === 'none') {{\n",
       "            console.log([gd, 'removed!']);\n",
       "            Plotly.purge(gd);\n",
       "            observer.disconnect();\n",
       "        }}\n",
       "}});\n",
       "\n",
       "// Listen for the removal of the full notebook cells\n",
       "var notebookContainer = gd.closest('#notebook-container');\n",
       "if (notebookContainer) {{\n",
       "    x.observe(notebookContainer, {childList: true});\n",
       "}}\n",
       "\n",
       "// Listen for the clearing of the current output cell\n",
       "var outputEl = gd.closest('.output');\n",
       "if (outputEl) {{\n",
       "    x.observe(outputEl, {childList: true});\n",
       "}}\n",
       "\n",
       "                        })                };                });            </script>        </div>"
      ]
     },
     "metadata": {},
     "output_type": "display_data"
    }
   ],
   "source": [
    "# week_status = pd.read_csv('data/week_status.csv')    \n",
    "figures.plot_status_week(week_status, title='Coletas fechadas por semana',\n",
    "    y_column='closed_at', x_column='week_year',\n",
    "    xaxis_title_text='Semanas') "
   ]
  },
  {
   "cell_type": "code",
   "execution_count": 191,
   "metadata": {},
   "outputs": [
    {
     "data": {
      "application/vnd.plotly.v1+json": {
       "config": {
        "plotlyServerURL": "https://plot.ly"
       },
       "data": [
        {
         "marker": {
          "color": "#3E79FA"
         },
         "opacity": 0.7,
         "type": "bar",
         "x": [
          "1/2022",
          "2/2022",
          "3/2022",
          "4/2022",
          "5/2022",
          "6/2022",
          "7/2022",
          "8/2022",
          "9/2022",
          "10/2022",
          "11/2022",
          "12/2022",
          "13/2022",
          "14/2022",
          "15/2022",
          "16/2022",
          "17/2022",
          "18/2022",
          "19/2022",
          "20/2022",
          "21/2022",
          "22/2022",
          "23/2022",
          "24/2022",
          "25/2022",
          "26/2022",
          "27/2022",
          "28/2022",
          "29/2022",
          "30/2022",
          "31/2022",
          "32/2022",
          "33/2022",
          "34/2022",
          "35/2022",
          "36/2022",
          "37/2022",
          "38/2022",
          "39/2022",
          "40/2022",
          "41/2022",
          "42/2022",
          "43/2022"
         ],
         "y": [
          0,
          1,
          3,
          1,
          0,
          0,
          2,
          2,
          2,
          2,
          4,
          2,
          1,
          1,
          1,
          3,
          2,
          2,
          0,
          4,
          4,
          1,
          5,
          2,
          3,
          3,
          1,
          3,
          4,
          7,
          12,
          11,
          7,
          6,
          9,
          3,
          3,
          12,
          4,
          5,
          0,
          0,
          5
         ]
        }
       ],
       "layout": {
        "autosize": true,
        "bargap": 0,
        "template": {
         "data": {
          "bar": [
           {
            "error_x": {
             "color": "#2a3f5f"
            },
            "error_y": {
             "color": "#2a3f5f"
            },
            "marker": {
             "line": {
              "color": "#E5ECF6",
              "width": 0.5
             },
             "pattern": {
              "fillmode": "overlay",
              "size": 10,
              "solidity": 0.2
             }
            },
            "type": "bar"
           }
          ],
          "barpolar": [
           {
            "marker": {
             "line": {
              "color": "#E5ECF6",
              "width": 0.5
             },
             "pattern": {
              "fillmode": "overlay",
              "size": 10,
              "solidity": 0.2
             }
            },
            "type": "barpolar"
           }
          ],
          "carpet": [
           {
            "aaxis": {
             "endlinecolor": "#2a3f5f",
             "gridcolor": "white",
             "linecolor": "white",
             "minorgridcolor": "white",
             "startlinecolor": "#2a3f5f"
            },
            "baxis": {
             "endlinecolor": "#2a3f5f",
             "gridcolor": "white",
             "linecolor": "white",
             "minorgridcolor": "white",
             "startlinecolor": "#2a3f5f"
            },
            "type": "carpet"
           }
          ],
          "choropleth": [
           {
            "colorbar": {
             "outlinewidth": 0,
             "ticks": ""
            },
            "type": "choropleth"
           }
          ],
          "contour": [
           {
            "colorbar": {
             "outlinewidth": 0,
             "ticks": ""
            },
            "colorscale": [
             [
              0,
              "#0d0887"
             ],
             [
              0.1111111111111111,
              "#46039f"
             ],
             [
              0.2222222222222222,
              "#7201a8"
             ],
             [
              0.3333333333333333,
              "#9c179e"
             ],
             [
              0.4444444444444444,
              "#bd3786"
             ],
             [
              0.5555555555555556,
              "#d8576b"
             ],
             [
              0.6666666666666666,
              "#ed7953"
             ],
             [
              0.7777777777777778,
              "#fb9f3a"
             ],
             [
              0.8888888888888888,
              "#fdca26"
             ],
             [
              1,
              "#f0f921"
             ]
            ],
            "type": "contour"
           }
          ],
          "contourcarpet": [
           {
            "colorbar": {
             "outlinewidth": 0,
             "ticks": ""
            },
            "type": "contourcarpet"
           }
          ],
          "heatmap": [
           {
            "colorbar": {
             "outlinewidth": 0,
             "ticks": ""
            },
            "colorscale": [
             [
              0,
              "#0d0887"
             ],
             [
              0.1111111111111111,
              "#46039f"
             ],
             [
              0.2222222222222222,
              "#7201a8"
             ],
             [
              0.3333333333333333,
              "#9c179e"
             ],
             [
              0.4444444444444444,
              "#bd3786"
             ],
             [
              0.5555555555555556,
              "#d8576b"
             ],
             [
              0.6666666666666666,
              "#ed7953"
             ],
             [
              0.7777777777777778,
              "#fb9f3a"
             ],
             [
              0.8888888888888888,
              "#fdca26"
             ],
             [
              1,
              "#f0f921"
             ]
            ],
            "type": "heatmap"
           }
          ],
          "heatmapgl": [
           {
            "colorbar": {
             "outlinewidth": 0,
             "ticks": ""
            },
            "colorscale": [
             [
              0,
              "#0d0887"
             ],
             [
              0.1111111111111111,
              "#46039f"
             ],
             [
              0.2222222222222222,
              "#7201a8"
             ],
             [
              0.3333333333333333,
              "#9c179e"
             ],
             [
              0.4444444444444444,
              "#bd3786"
             ],
             [
              0.5555555555555556,
              "#d8576b"
             ],
             [
              0.6666666666666666,
              "#ed7953"
             ],
             [
              0.7777777777777778,
              "#fb9f3a"
             ],
             [
              0.8888888888888888,
              "#fdca26"
             ],
             [
              1,
              "#f0f921"
             ]
            ],
            "type": "heatmapgl"
           }
          ],
          "histogram": [
           {
            "marker": {
             "pattern": {
              "fillmode": "overlay",
              "size": 10,
              "solidity": 0.2
             }
            },
            "type": "histogram"
           }
          ],
          "histogram2d": [
           {
            "colorbar": {
             "outlinewidth": 0,
             "ticks": ""
            },
            "colorscale": [
             [
              0,
              "#0d0887"
             ],
             [
              0.1111111111111111,
              "#46039f"
             ],
             [
              0.2222222222222222,
              "#7201a8"
             ],
             [
              0.3333333333333333,
              "#9c179e"
             ],
             [
              0.4444444444444444,
              "#bd3786"
             ],
             [
              0.5555555555555556,
              "#d8576b"
             ],
             [
              0.6666666666666666,
              "#ed7953"
             ],
             [
              0.7777777777777778,
              "#fb9f3a"
             ],
             [
              0.8888888888888888,
              "#fdca26"
             ],
             [
              1,
              "#f0f921"
             ]
            ],
            "type": "histogram2d"
           }
          ],
          "histogram2dcontour": [
           {
            "colorbar": {
             "outlinewidth": 0,
             "ticks": ""
            },
            "colorscale": [
             [
              0,
              "#0d0887"
             ],
             [
              0.1111111111111111,
              "#46039f"
             ],
             [
              0.2222222222222222,
              "#7201a8"
             ],
             [
              0.3333333333333333,
              "#9c179e"
             ],
             [
              0.4444444444444444,
              "#bd3786"
             ],
             [
              0.5555555555555556,
              "#d8576b"
             ],
             [
              0.6666666666666666,
              "#ed7953"
             ],
             [
              0.7777777777777778,
              "#fb9f3a"
             ],
             [
              0.8888888888888888,
              "#fdca26"
             ],
             [
              1,
              "#f0f921"
             ]
            ],
            "type": "histogram2dcontour"
           }
          ],
          "mesh3d": [
           {
            "colorbar": {
             "outlinewidth": 0,
             "ticks": ""
            },
            "type": "mesh3d"
           }
          ],
          "parcoords": [
           {
            "line": {
             "colorbar": {
              "outlinewidth": 0,
              "ticks": ""
             }
            },
            "type": "parcoords"
           }
          ],
          "pie": [
           {
            "automargin": true,
            "type": "pie"
           }
          ],
          "scatter": [
           {
            "marker": {
             "colorbar": {
              "outlinewidth": 0,
              "ticks": ""
             }
            },
            "type": "scatter"
           }
          ],
          "scatter3d": [
           {
            "line": {
             "colorbar": {
              "outlinewidth": 0,
              "ticks": ""
             }
            },
            "marker": {
             "colorbar": {
              "outlinewidth": 0,
              "ticks": ""
             }
            },
            "type": "scatter3d"
           }
          ],
          "scattercarpet": [
           {
            "marker": {
             "colorbar": {
              "outlinewidth": 0,
              "ticks": ""
             }
            },
            "type": "scattercarpet"
           }
          ],
          "scattergeo": [
           {
            "marker": {
             "colorbar": {
              "outlinewidth": 0,
              "ticks": ""
             }
            },
            "type": "scattergeo"
           }
          ],
          "scattergl": [
           {
            "marker": {
             "colorbar": {
              "outlinewidth": 0,
              "ticks": ""
             }
            },
            "type": "scattergl"
           }
          ],
          "scattermapbox": [
           {
            "marker": {
             "colorbar": {
              "outlinewidth": 0,
              "ticks": ""
             }
            },
            "type": "scattermapbox"
           }
          ],
          "scatterpolar": [
           {
            "marker": {
             "colorbar": {
              "outlinewidth": 0,
              "ticks": ""
             }
            },
            "type": "scatterpolar"
           }
          ],
          "scatterpolargl": [
           {
            "marker": {
             "colorbar": {
              "outlinewidth": 0,
              "ticks": ""
             }
            },
            "type": "scatterpolargl"
           }
          ],
          "scatterternary": [
           {
            "marker": {
             "colorbar": {
              "outlinewidth": 0,
              "ticks": ""
             }
            },
            "type": "scatterternary"
           }
          ],
          "surface": [
           {
            "colorbar": {
             "outlinewidth": 0,
             "ticks": ""
            },
            "colorscale": [
             [
              0,
              "#0d0887"
             ],
             [
              0.1111111111111111,
              "#46039f"
             ],
             [
              0.2222222222222222,
              "#7201a8"
             ],
             [
              0.3333333333333333,
              "#9c179e"
             ],
             [
              0.4444444444444444,
              "#bd3786"
             ],
             [
              0.5555555555555556,
              "#d8576b"
             ],
             [
              0.6666666666666666,
              "#ed7953"
             ],
             [
              0.7777777777777778,
              "#fb9f3a"
             ],
             [
              0.8888888888888888,
              "#fdca26"
             ],
             [
              1,
              "#f0f921"
             ]
            ],
            "type": "surface"
           }
          ],
          "table": [
           {
            "cells": {
             "fill": {
              "color": "#EBF0F8"
             },
             "line": {
              "color": "white"
             }
            },
            "header": {
             "fill": {
              "color": "#C8D4E3"
             },
             "line": {
              "color": "white"
             }
            },
            "type": "table"
           }
          ]
         },
         "layout": {
          "annotationdefaults": {
           "arrowcolor": "#2a3f5f",
           "arrowhead": 0,
           "arrowwidth": 1
          },
          "autotypenumbers": "strict",
          "coloraxis": {
           "colorbar": {
            "outlinewidth": 0,
            "ticks": ""
           }
          },
          "colorscale": {
           "diverging": [
            [
             0,
             "#8e0152"
            ],
            [
             0.1,
             "#c51b7d"
            ],
            [
             0.2,
             "#de77ae"
            ],
            [
             0.3,
             "#f1b6da"
            ],
            [
             0.4,
             "#fde0ef"
            ],
            [
             0.5,
             "#f7f7f7"
            ],
            [
             0.6,
             "#e6f5d0"
            ],
            [
             0.7,
             "#b8e186"
            ],
            [
             0.8,
             "#7fbc41"
            ],
            [
             0.9,
             "#4d9221"
            ],
            [
             1,
             "#276419"
            ]
           ],
           "sequential": [
            [
             0,
             "#0d0887"
            ],
            [
             0.1111111111111111,
             "#46039f"
            ],
            [
             0.2222222222222222,
             "#7201a8"
            ],
            [
             0.3333333333333333,
             "#9c179e"
            ],
            [
             0.4444444444444444,
             "#bd3786"
            ],
            [
             0.5555555555555556,
             "#d8576b"
            ],
            [
             0.6666666666666666,
             "#ed7953"
            ],
            [
             0.7777777777777778,
             "#fb9f3a"
            ],
            [
             0.8888888888888888,
             "#fdca26"
            ],
            [
             1,
             "#f0f921"
            ]
           ],
           "sequentialminus": [
            [
             0,
             "#0d0887"
            ],
            [
             0.1111111111111111,
             "#46039f"
            ],
            [
             0.2222222222222222,
             "#7201a8"
            ],
            [
             0.3333333333333333,
             "#9c179e"
            ],
            [
             0.4444444444444444,
             "#bd3786"
            ],
            [
             0.5555555555555556,
             "#d8576b"
            ],
            [
             0.6666666666666666,
             "#ed7953"
            ],
            [
             0.7777777777777778,
             "#fb9f3a"
            ],
            [
             0.8888888888888888,
             "#fdca26"
            ],
            [
             1,
             "#f0f921"
            ]
           ]
          },
          "colorway": [
           "#636efa",
           "#EF553B",
           "#00cc96",
           "#ab63fa",
           "#FFA15A",
           "#19d3f3",
           "#FF6692",
           "#B6E880",
           "#FF97FF",
           "#FECB52"
          ],
          "font": {
           "color": "#2a3f5f"
          },
          "geo": {
           "bgcolor": "white",
           "lakecolor": "white",
           "landcolor": "#E5ECF6",
           "showlakes": true,
           "showland": true,
           "subunitcolor": "white"
          },
          "hoverlabel": {
           "align": "left"
          },
          "hovermode": "closest",
          "mapbox": {
           "style": "light"
          },
          "paper_bgcolor": "white",
          "plot_bgcolor": "#E5ECF6",
          "polar": {
           "angularaxis": {
            "gridcolor": "white",
            "linecolor": "white",
            "ticks": ""
           },
           "bgcolor": "#E5ECF6",
           "radialaxis": {
            "gridcolor": "white",
            "linecolor": "white",
            "ticks": ""
           }
          },
          "scene": {
           "xaxis": {
            "backgroundcolor": "#E5ECF6",
            "gridcolor": "white",
            "gridwidth": 2,
            "linecolor": "white",
            "showbackground": true,
            "ticks": "",
            "zerolinecolor": "white"
           },
           "yaxis": {
            "backgroundcolor": "#E5ECF6",
            "gridcolor": "white",
            "gridwidth": 2,
            "linecolor": "white",
            "showbackground": true,
            "ticks": "",
            "zerolinecolor": "white"
           },
           "zaxis": {
            "backgroundcolor": "#E5ECF6",
            "gridcolor": "white",
            "gridwidth": 2,
            "linecolor": "white",
            "showbackground": true,
            "ticks": "",
            "zerolinecolor": "white"
           }
          },
          "shapedefaults": {
           "line": {
            "color": "#2a3f5f"
           }
          },
          "ternary": {
           "aaxis": {
            "gridcolor": "white",
            "linecolor": "white",
            "ticks": ""
           },
           "baxis": {
            "gridcolor": "white",
            "linecolor": "white",
            "ticks": ""
           },
           "bgcolor": "#E5ECF6",
           "caxis": {
            "gridcolor": "white",
            "linecolor": "white",
            "ticks": ""
           }
          },
          "title": {
           "x": 0.05
          },
          "xaxis": {
           "automargin": true,
           "gridcolor": "white",
           "linecolor": "white",
           "ticks": "",
           "title": {
            "standoff": 15
           },
           "zerolinecolor": "white",
           "zerolinewidth": 2
          },
          "yaxis": {
           "automargin": true,
           "gridcolor": "white",
           "linecolor": "white",
           "ticks": "",
           "title": {
            "standoff": 15
           },
           "zerolinecolor": "white",
           "zerolinewidth": 2
          }
         }
        },
        "title": {
         "text": "Epics fechadas por semana"
        },
        "xaxis": {
         "autorange": true,
         "range": [
          -0.5,
          42.5
         ],
         "title": {
          "text": "Semanas"
         },
         "type": "category"
        },
        "yaxis": {
         "autorange": true,
         "range": [
          0,
          12.631578947368421
         ],
         "type": "linear"
        }
       }
      },
      "image/png": "[encoded data removed]",
      "text/html": [
       "<div>                            <div id=\"4094a3aa-0ac5-48ad-b188-5c8e6ba2a8e0\" class=\"plotly-graph-div\" style=\"height:525px; width:100%;\"></div>            <script type=\"text/javascript\">                require([\"plotly\"], function(Plotly) {                    window.PLOTLYENV=window.PLOTLYENV || {};                                    if (document.getElementById(\"4094a3aa-0ac5-48ad-b188-5c8e6ba2a8e0\")) {                    Plotly.newPlot(                        \"4094a3aa-0ac5-48ad-b188-5c8e6ba2a8e0\",                        [{\"marker\":{\"color\":\"#3E79FA\"},\"opacity\":0.7,\"type\":\"bar\",\"x\":[\"1/2022\",\"2/2022\",\"3/2022\",\"4/2022\",\"5/2022\",\"6/2022\",\"7/2022\",\"8/2022\",\"9/2022\",\"10/2022\",\"11/2022\",\"12/2022\",\"13/2022\",\"14/2022\",\"15/2022\",\"16/2022\",\"17/2022\",\"18/2022\",\"19/2022\",\"20/2022\",\"21/2022\",\"22/2022\",\"23/2022\",\"24/2022\",\"25/2022\",\"26/2022\",\"27/2022\",\"28/2022\",\"29/2022\",\"30/2022\",\"31/2022\",\"32/2022\",\"33/2022\",\"34/2022\",\"35/2022\",\"36/2022\",\"37/2022\",\"38/2022\",\"39/2022\",\"40/2022\",\"41/2022\",\"42/2022\",\"43/2022\"],\"y\":[0.0,1.0,3.0,1.0,0.0,0.0,2.0,2.0,2.0,2.0,4.0,2.0,1.0,1.0,1.0,3.0,2.0,2.0,0.0,4.0,4.0,1.0,5.0,2.0,3.0,3.0,1.0,3.0,4.0,7.0,12.0,11.0,7.0,6.0,9.0,3.0,3.0,12.0,4.0,5.0,0.0,0.0,5.0]}],                        {\"autosize\":true,\"bargap\":0,\"template\":{\"data\":{\"bar\":[{\"error_x\":{\"color\":\"#2a3f5f\"},\"error_y\":{\"color\":\"#2a3f5f\"},\"marker\":{\"line\":{\"color\":\"#E5ECF6\",\"width\":0.5},\"pattern\":{\"fillmode\":\"overlay\",\"size\":10,\"solidity\":0.2}},\"type\":\"bar\"}],\"barpolar\":[{\"marker\":{\"line\":{\"color\":\"#E5ECF6\",\"width\":0.5},\"pattern\":{\"fillmode\":\"overlay\",\"size\":10,\"solidity\":0.2}},\"type\":\"barpolar\"}],\"carpet\":[{\"aaxis\":{\"endlinecolor\":\"#2a3f5f\",\"gridcolor\":\"white\",\"linecolor\":\"white\",\"minorgridcolor\":\"white\",\"startlinecolor\":\"#2a3f5f\"},\"baxis\":{\"endlinecolor\":\"#2a3f5f\",\"gridcolor\":\"white\",\"linecolor\":\"white\",\"minorgridcolor\":\"white\",\"startlinecolor\":\"#2a3f5f\"},\"type\":\"carpet\"}],\"choropleth\":[{\"colorbar\":{\"outlinewidth\":0,\"ticks\":\"\"},\"type\":\"choropleth\"}],\"contour\":[{\"colorbar\":{\"outlinewidth\":0,\"ticks\":\"\"},\"colorscale\":[[0.0,\"#0d0887\"],[0.1111111111111111,\"#46039f\"],[0.2222222222222222,\"#7201a8\"],[0.3333333333333333,\"#9c179e\"],[0.4444444444444444,\"#bd3786\"],[0.5555555555555556,\"#d8576b\"],[0.6666666666666666,\"#ed7953\"],[0.7777777777777778,\"#fb9f3a\"],[0.8888888888888888,\"#fdca26\"],[1.0,\"#f0f921\"]],\"type\":\"contour\"}],\"contourcarpet\":[{\"colorbar\":{\"outlinewidth\":0,\"ticks\":\"\"},\"type\":\"contourcarpet\"}],\"heatmap\":[{\"colorbar\":{\"outlinewidth\":0,\"ticks\":\"\"},\"colorscale\":[[0.0,\"#0d0887\"],[0.1111111111111111,\"#46039f\"],[0.2222222222222222,\"#7201a8\"],[0.3333333333333333,\"#9c179e\"],[0.4444444444444444,\"#bd3786\"],[0.5555555555555556,\"#d8576b\"],[0.6666666666666666,\"#ed7953\"],[0.7777777777777778,\"#fb9f3a\"],[0.8888888888888888,\"#fdca26\"],[1.0,\"#f0f921\"]],\"type\":\"heatmap\"}],\"heatmapgl\":[{\"colorbar\":{\"outlinewidth\":0,\"ticks\":\"\"},\"colorscale\":[[0.0,\"#0d0887\"],[0.1111111111111111,\"#46039f\"],[0.2222222222222222,\"#7201a8\"],[0.3333333333333333,\"#9c179e\"],[0.4444444444444444,\"#bd3786\"],[0.5555555555555556,\"#d8576b\"],[0.6666666666666666,\"#ed7953\"],[0.7777777777777778,\"#fb9f3a\"],[0.8888888888888888,\"#fdca26\"],[1.0,\"#f0f921\"]],\"type\":\"heatmapgl\"}],\"histogram\":[{\"marker\":{\"pattern\":{\"fillmode\":\"overlay\",\"size\":10,\"solidity\":0.2}},\"type\":\"histogram\"}],\"histogram2d\":[{\"colorbar\":{\"outlinewidth\":0,\"ticks\":\"\"},\"colorscale\":[[0.0,\"#0d0887\"],[0.1111111111111111,\"#46039f\"],[0.2222222222222222,\"#7201a8\"],[0.3333333333333333,\"#9c179e\"],[0.4444444444444444,\"#bd3786\"],[0.5555555555555556,\"#d8576b\"],[0.6666666666666666,\"#ed7953\"],[0.7777777777777778,\"#fb9f3a\"],[0.8888888888888888,\"#fdca26\"],[1.0,\"#f0f921\"]],\"type\":\"histogram2d\"}],\"histogram2dcontour\":[{\"colorbar\":{\"outlinewidth\":0,\"ticks\":\"\"},\"colorscale\":[[0.0,\"#0d0887\"],[0.1111111111111111,\"#46039f\"],[0.2222222222222222,\"#7201a8\"],[0.3333333333333333,\"#9c179e\"],[0.4444444444444444,\"#bd3786\"],[0.5555555555555556,\"#d8576b\"],[0.6666666666666666,\"#ed7953\"],[0.7777777777777778,\"#fb9f3a\"],[0.8888888888888888,\"#fdca26\"],[1.0,\"#f0f921\"]],\"type\":\"histogram2dcontour\"}],\"mesh3d\":[{\"colorbar\":{\"outlinewidth\":0,\"ticks\":\"\"},\"type\":\"mesh3d\"}],\"parcoords\":[{\"line\":{\"colorbar\":{\"outlinewidth\":0,\"ticks\":\"\"}},\"type\":\"parcoords\"}],\"pie\":[{\"automargin\":true,\"type\":\"pie\"}],\"scatter\":[{\"marker\":{\"colorbar\":{\"outlinewidth\":0,\"ticks\":\"\"}},\"type\":\"scatter\"}],\"scatter3d\":[{\"line\":{\"colorbar\":{\"outlinewidth\":0,\"ticks\":\"\"}},\"marker\":{\"colorbar\":{\"outlinewidth\":0,\"ticks\":\"\"}},\"type\":\"scatter3d\"}],\"scattercarpet\":[{\"marker\":{\"colorbar\":{\"outlinewidth\":0,\"ticks\":\"\"}},\"type\":\"scattercarpet\"}],\"scattergeo\":[{\"marker\":{\"colorbar\":{\"outlinewidth\":0,\"ticks\":\"\"}},\"type\":\"scattergeo\"}],\"scattergl\":[{\"marker\":{\"colorbar\":{\"outlinewidth\":0,\"ticks\":\"\"}},\"type\":\"scattergl\"}],\"scattermapbox\":[{\"marker\":{\"colorbar\":{\"outlinewidth\":0,\"ticks\":\"\"}},\"type\":\"scattermapbox\"}],\"scatterpolar\":[{\"marker\":{\"colorbar\":{\"outlinewidth\":0,\"ticks\":\"\"}},\"type\":\"scatterpolar\"}],\"scatterpolargl\":[{\"marker\":{\"colorbar\":{\"outlinewidth\":0,\"ticks\":\"\"}},\"type\":\"scatterpolargl\"}],\"scatterternary\":[{\"marker\":{\"colorbar\":{\"outlinewidth\":0,\"ticks\":\"\"}},\"type\":\"scatterternary\"}],\"surface\":[{\"colorbar\":{\"outlinewidth\":0,\"ticks\":\"\"},\"colorscale\":[[0.0,\"#0d0887\"],[0.1111111111111111,\"#46039f\"],[0.2222222222222222,\"#7201a8\"],[0.3333333333333333,\"#9c179e\"],[0.4444444444444444,\"#bd3786\"],[0.5555555555555556,\"#d8576b\"],[0.6666666666666666,\"#ed7953\"],[0.7777777777777778,\"#fb9f3a\"],[0.8888888888888888,\"#fdca26\"],[1.0,\"#f0f921\"]],\"type\":\"surface\"}],\"table\":[{\"cells\":{\"fill\":{\"color\":\"#EBF0F8\"},\"line\":{\"color\":\"white\"}},\"header\":{\"fill\":{\"color\":\"#C8D4E3\"},\"line\":{\"color\":\"white\"}},\"type\":\"table\"}]},\"layout\":{\"annotationdefaults\":{\"arrowcolor\":\"#2a3f5f\",\"arrowhead\":0,\"arrowwidth\":1},\"autotypenumbers\":\"strict\",\"coloraxis\":{\"colorbar\":{\"outlinewidth\":0,\"ticks\":\"\"}},\"colorscale\":{\"diverging\":[[0,\"#8e0152\"],[0.1,\"#c51b7d\"],[0.2,\"#de77ae\"],[0.3,\"#f1b6da\"],[0.4,\"#fde0ef\"],[0.5,\"#f7f7f7\"],[0.6,\"#e6f5d0\"],[0.7,\"#b8e186\"],[0.8,\"#7fbc41\"],[0.9,\"#4d9221\"],[1,\"#276419\"]],\"sequential\":[[0.0,\"#0d0887\"],[0.1111111111111111,\"#46039f\"],[0.2222222222222222,\"#7201a8\"],[0.3333333333333333,\"#9c179e\"],[0.4444444444444444,\"#bd3786\"],[0.5555555555555556,\"#d8576b\"],[0.6666666666666666,\"#ed7953\"],[0.7777777777777778,\"#fb9f3a\"],[0.8888888888888888,\"#fdca26\"],[1.0,\"#f0f921\"]],\"sequentialminus\":[[0.0,\"#0d0887\"],[0.1111111111111111,\"#46039f\"],[0.2222222222222222,\"#7201a8\"],[0.3333333333333333,\"#9c179e\"],[0.4444444444444444,\"#bd3786\"],[0.5555555555555556,\"#d8576b\"],[0.6666666666666666,\"#ed7953\"],[0.7777777777777778,\"#fb9f3a\"],[0.8888888888888888,\"#fdca26\"],[1.0,\"#f0f921\"]]},\"colorway\":[\"#636efa\",\"#EF553B\",\"#00cc96\",\"#ab63fa\",\"#FFA15A\",\"#19d3f3\",\"#FF6692\",\"#B6E880\",\"#FF97FF\",\"#FECB52\"],\"font\":{\"color\":\"#2a3f5f\"},\"geo\":{\"bgcolor\":\"white\",\"lakecolor\":\"white\",\"landcolor\":\"#E5ECF6\",\"showlakes\":true,\"showland\":true,\"subunitcolor\":\"white\"},\"hoverlabel\":{\"align\":\"left\"},\"hovermode\":\"closest\",\"mapbox\":{\"style\":\"light\"},\"paper_bgcolor\":\"white\",\"plot_bgcolor\":\"#E5ECF6\",\"polar\":{\"angularaxis\":{\"gridcolor\":\"white\",\"linecolor\":\"white\",\"ticks\":\"\"},\"bgcolor\":\"#E5ECF6\",\"radialaxis\":{\"gridcolor\":\"white\",\"linecolor\":\"white\",\"ticks\":\"\"}},\"scene\":{\"xaxis\":{\"backgroundcolor\":\"#E5ECF6\",\"gridcolor\":\"white\",\"gridwidth\":2,\"linecolor\":\"white\",\"showbackground\":true,\"ticks\":\"\",\"zerolinecolor\":\"white\"},\"yaxis\":{\"backgroundcolor\":\"#E5ECF6\",\"gridcolor\":\"white\",\"gridwidth\":2,\"linecolor\":\"white\",\"showbackground\":true,\"ticks\":\"\",\"zerolinecolor\":\"white\"},\"zaxis\":{\"backgroundcolor\":\"#E5ECF6\",\"gridcolor\":\"white\",\"gridwidth\":2,\"linecolor\":\"white\",\"showbackground\":true,\"ticks\":\"\",\"zerolinecolor\":\"white\"}},\"shapedefaults\":{\"line\":{\"color\":\"#2a3f5f\"}},\"ternary\":{\"aaxis\":{\"gridcolor\":\"white\",\"linecolor\":\"white\",\"ticks\":\"\"},\"baxis\":{\"gridcolor\":\"white\",\"linecolor\":\"white\",\"ticks\":\"\"},\"bgcolor\":\"#E5ECF6\",\"caxis\":{\"gridcolor\":\"white\",\"linecolor\":\"white\",\"ticks\":\"\"}},\"title\":{\"x\":0.05},\"xaxis\":{\"automargin\":true,\"gridcolor\":\"white\",\"linecolor\":\"white\",\"ticks\":\"\",\"title\":{\"standoff\":15},\"zerolinecolor\":\"white\",\"zerolinewidth\":2},\"yaxis\":{\"automargin\":true,\"gridcolor\":\"white\",\"linecolor\":\"white\",\"ticks\":\"\",\"title\":{\"standoff\":15},\"zerolinecolor\":\"white\",\"zerolinewidth\":2}}},\"title\":{\"text\":\"Epics fechadas por semana\"},\"xaxis\":{\"title\":{\"text\":\"Semanas\"}}},                        {\"responsive\": true}                    ).then(function(){\n",
       "                            \n",
       "var gd = document.getElementById('4094a3aa-0ac5-48ad-b188-5c8e6ba2a8e0');\n",
       "var x = new MutationObserver(function (mutations, observer) {{\n",
       "        var display = window.getComputedStyle(gd).display;\n",
       "        if (!display || display === 'none') {{\n",
       "            console.log([gd, 'removed!']);\n",
       "            Plotly.purge(gd);\n",
       "            observer.disconnect();\n",
       "        }}\n",
       "}});\n",
       "\n",
       "// Listen for the removal of the full notebook cells\n",
       "var notebookContainer = gd.closest('#notebook-container');\n",
       "if (notebookContainer) {{\n",
       "    x.observe(notebookContainer, {childList: true});\n",
       "}}\n",
       "\n",
       "// Listen for the clearing of the current output cell\n",
       "var outputEl = gd.closest('.output');\n",
       "if (outputEl) {{\n",
       "    x.observe(outputEl, {childList: true});\n",
       "}}\n",
       "\n",
       "                        })                };                });            </script>        </div>"
      ]
     },
     "metadata": {},
     "output_type": "display_data"
    }
   ],
   "source": [
    "#TODO pq 8 ao inves de 10\n",
    "count_epics_week = pd.read_csv(\"data/count_epics_week.csv\")\n",
    "\n",
    "figures.plot_status_week(\n",
    "    count_epics_week, title='Epics fechadas por semana',\n",
    "    y_column='Coletado', x_column='week_year', xaxis_title_text='Semanas')"
   ]
  },
  {
   "cell_type": "markdown",
   "metadata": {
    "jp-MarkdownHeadingCollapsed": true,
    "tags": []
   },
   "source": [
    "## Gráfico com Previsões"
   ]
  },
  {
   "cell_type": "code",
   "execution_count": 204,
   "metadata": {},
   "outputs": [
    {
     "data": {
      "text/html": [
       "<div>\n",
       "<style scoped>\n",
       "    .dataframe tbody tr th:only-of-type {\n",
       "        vertical-align: middle;\n",
       "    }\n",
       "\n",
       "    .dataframe tbody tr th {\n",
       "        vertical-align: top;\n",
       "    }\n",
       "\n",
       "    .dataframe thead th {\n",
       "        text-align: right;\n",
       "    }\n",
       "</style>\n",
       "<table border=\"1\" class=\"dataframe\">\n",
       "  <thead>\n",
       "    <tr style=\"text-align: right;\">\n",
       "      <th></th>\n",
       "      <th>week_year</th>\n",
       "      <th>Coletado</th>\n",
       "      <th>Não coletável</th>\n",
       "      <th>closed</th>\n",
       "      <th>week</th>\n",
       "      <th>year</th>\n",
       "    </tr>\n",
       "  </thead>\n",
       "  <tbody>\n",
       "    <tr>\n",
       "      <th>0</th>\n",
       "      <td>1/2022</td>\n",
       "      <td>0.0</td>\n",
       "      <td>0.0</td>\n",
       "      <td>0.0</td>\n",
       "      <td>1</td>\n",
       "      <td>2022</td>\n",
       "    </tr>\n",
       "    <tr>\n",
       "      <th>1</th>\n",
       "      <td>2/2022</td>\n",
       "      <td>1.0</td>\n",
       "      <td>0.0</td>\n",
       "      <td>1.0</td>\n",
       "      <td>2</td>\n",
       "      <td>2022</td>\n",
       "    </tr>\n",
       "    <tr>\n",
       "      <th>2</th>\n",
       "      <td>3/2022</td>\n",
       "      <td>3.0</td>\n",
       "      <td>0.0</td>\n",
       "      <td>3.0</td>\n",
       "      <td>3</td>\n",
       "      <td>2022</td>\n",
       "    </tr>\n",
       "    <tr>\n",
       "      <th>3</th>\n",
       "      <td>4/2022</td>\n",
       "      <td>1.0</td>\n",
       "      <td>1.0</td>\n",
       "      <td>2.0</td>\n",
       "      <td>4</td>\n",
       "      <td>2022</td>\n",
       "    </tr>\n",
       "    <tr>\n",
       "      <th>4</th>\n",
       "      <td>5/2022</td>\n",
       "      <td>0.0</td>\n",
       "      <td>0.0</td>\n",
       "      <td>0.0</td>\n",
       "      <td>5</td>\n",
       "      <td>2022</td>\n",
       "    </tr>\n",
       "    <tr>\n",
       "      <th>5</th>\n",
       "      <td>6/2022</td>\n",
       "      <td>0.0</td>\n",
       "      <td>0.0</td>\n",
       "      <td>0.0</td>\n",
       "      <td>6</td>\n",
       "      <td>2022</td>\n",
       "    </tr>\n",
       "    <tr>\n",
       "      <th>6</th>\n",
       "      <td>7/2022</td>\n",
       "      <td>2.0</td>\n",
       "      <td>0.0</td>\n",
       "      <td>2.0</td>\n",
       "      <td>7</td>\n",
       "      <td>2022</td>\n",
       "    </tr>\n",
       "    <tr>\n",
       "      <th>7</th>\n",
       "      <td>8/2022</td>\n",
       "      <td>2.0</td>\n",
       "      <td>0.0</td>\n",
       "      <td>2.0</td>\n",
       "      <td>8</td>\n",
       "      <td>2022</td>\n",
       "    </tr>\n",
       "    <tr>\n",
       "      <th>8</th>\n",
       "      <td>9/2022</td>\n",
       "      <td>2.0</td>\n",
       "      <td>0.0</td>\n",
       "      <td>2.0</td>\n",
       "      <td>9</td>\n",
       "      <td>2022</td>\n",
       "    </tr>\n",
       "    <tr>\n",
       "      <th>9</th>\n",
       "      <td>10/2022</td>\n",
       "      <td>2.0</td>\n",
       "      <td>0.0</td>\n",
       "      <td>2.0</td>\n",
       "      <td>10</td>\n",
       "      <td>2022</td>\n",
       "    </tr>\n",
       "    <tr>\n",
       "      <th>10</th>\n",
       "      <td>11/2022</td>\n",
       "      <td>4.0</td>\n",
       "      <td>0.0</td>\n",
       "      <td>4.0</td>\n",
       "      <td>11</td>\n",
       "      <td>2022</td>\n",
       "    </tr>\n",
       "    <tr>\n",
       "      <th>11</th>\n",
       "      <td>12/2022</td>\n",
       "      <td>2.0</td>\n",
       "      <td>0.0</td>\n",
       "      <td>2.0</td>\n",
       "      <td>12</td>\n",
       "      <td>2022</td>\n",
       "    </tr>\n",
       "    <tr>\n",
       "      <th>12</th>\n",
       "      <td>13/2022</td>\n",
       "      <td>1.0</td>\n",
       "      <td>0.0</td>\n",
       "      <td>1.0</td>\n",
       "      <td>13</td>\n",
       "      <td>2022</td>\n",
       "    </tr>\n",
       "    <tr>\n",
       "      <th>13</th>\n",
       "      <td>14/2022</td>\n",
       "      <td>1.0</td>\n",
       "      <td>0.0</td>\n",
       "      <td>1.0</td>\n",
       "      <td>14</td>\n",
       "      <td>2022</td>\n",
       "    </tr>\n",
       "    <tr>\n",
       "      <th>14</th>\n",
       "      <td>15/2022</td>\n",
       "      <td>1.0</td>\n",
       "      <td>1.0</td>\n",
       "      <td>2.0</td>\n",
       "      <td>15</td>\n",
       "      <td>2022</td>\n",
       "    </tr>\n",
       "    <tr>\n",
       "      <th>15</th>\n",
       "      <td>16/2022</td>\n",
       "      <td>3.0</td>\n",
       "      <td>11.0</td>\n",
       "      <td>14.0</td>\n",
       "      <td>16</td>\n",
       "      <td>2022</td>\n",
       "    </tr>\n",
       "    <tr>\n",
       "      <th>16</th>\n",
       "      <td>17/2022</td>\n",
       "      <td>2.0</td>\n",
       "      <td>0.0</td>\n",
       "      <td>2.0</td>\n",
       "      <td>17</td>\n",
       "      <td>2022</td>\n",
       "    </tr>\n",
       "    <tr>\n",
       "      <th>17</th>\n",
       "      <td>18/2022</td>\n",
       "      <td>2.0</td>\n",
       "      <td>0.0</td>\n",
       "      <td>2.0</td>\n",
       "      <td>18</td>\n",
       "      <td>2022</td>\n",
       "    </tr>\n",
       "    <tr>\n",
       "      <th>18</th>\n",
       "      <td>19/2022</td>\n",
       "      <td>0.0</td>\n",
       "      <td>0.0</td>\n",
       "      <td>0.0</td>\n",
       "      <td>19</td>\n",
       "      <td>2022</td>\n",
       "    </tr>\n",
       "    <tr>\n",
       "      <th>19</th>\n",
       "      <td>20/2022</td>\n",
       "      <td>4.0</td>\n",
       "      <td>2.0</td>\n",
       "      <td>6.0</td>\n",
       "      <td>20</td>\n",
       "      <td>2022</td>\n",
       "    </tr>\n",
       "    <tr>\n",
       "      <th>20</th>\n",
       "      <td>21/2022</td>\n",
       "      <td>4.0</td>\n",
       "      <td>1.0</td>\n",
       "      <td>5.0</td>\n",
       "      <td>21</td>\n",
       "      <td>2022</td>\n",
       "    </tr>\n",
       "    <tr>\n",
       "      <th>21</th>\n",
       "      <td>22/2022</td>\n",
       "      <td>1.0</td>\n",
       "      <td>0.0</td>\n",
       "      <td>1.0</td>\n",
       "      <td>22</td>\n",
       "      <td>2022</td>\n",
       "    </tr>\n",
       "    <tr>\n",
       "      <th>22</th>\n",
       "      <td>23/2022</td>\n",
       "      <td>5.0</td>\n",
       "      <td>0.0</td>\n",
       "      <td>5.0</td>\n",
       "      <td>23</td>\n",
       "      <td>2022</td>\n",
       "    </tr>\n",
       "    <tr>\n",
       "      <th>23</th>\n",
       "      <td>24/2022</td>\n",
       "      <td>2.0</td>\n",
       "      <td>0.0</td>\n",
       "      <td>2.0</td>\n",
       "      <td>24</td>\n",
       "      <td>2022</td>\n",
       "    </tr>\n",
       "    <tr>\n",
       "      <th>24</th>\n",
       "      <td>25/2022</td>\n",
       "      <td>3.0</td>\n",
       "      <td>3.0</td>\n",
       "      <td>6.0</td>\n",
       "      <td>25</td>\n",
       "      <td>2022</td>\n",
       "    </tr>\n",
       "    <tr>\n",
       "      <th>25</th>\n",
       "      <td>26/2022</td>\n",
       "      <td>3.0</td>\n",
       "      <td>1.0</td>\n",
       "      <td>4.0</td>\n",
       "      <td>26</td>\n",
       "      <td>2022</td>\n",
       "    </tr>\n",
       "    <tr>\n",
       "      <th>26</th>\n",
       "      <td>27/2022</td>\n",
       "      <td>1.0</td>\n",
       "      <td>0.0</td>\n",
       "      <td>1.0</td>\n",
       "      <td>27</td>\n",
       "      <td>2022</td>\n",
       "    </tr>\n",
       "    <tr>\n",
       "      <th>27</th>\n",
       "      <td>28/2022</td>\n",
       "      <td>3.0</td>\n",
       "      <td>11.0</td>\n",
       "      <td>14.0</td>\n",
       "      <td>28</td>\n",
       "      <td>2022</td>\n",
       "    </tr>\n",
       "    <tr>\n",
       "      <th>28</th>\n",
       "      <td>29/2022</td>\n",
       "      <td>4.0</td>\n",
       "      <td>2.0</td>\n",
       "      <td>6.0</td>\n",
       "      <td>29</td>\n",
       "      <td>2022</td>\n",
       "    </tr>\n",
       "    <tr>\n",
       "      <th>29</th>\n",
       "      <td>30/2022</td>\n",
       "      <td>7.0</td>\n",
       "      <td>2.0</td>\n",
       "      <td>9.0</td>\n",
       "      <td>30</td>\n",
       "      <td>2022</td>\n",
       "    </tr>\n",
       "    <tr>\n",
       "      <th>30</th>\n",
       "      <td>31/2022</td>\n",
       "      <td>12.0</td>\n",
       "      <td>5.0</td>\n",
       "      <td>17.0</td>\n",
       "      <td>31</td>\n",
       "      <td>2022</td>\n",
       "    </tr>\n",
       "    <tr>\n",
       "      <th>31</th>\n",
       "      <td>32/2022</td>\n",
       "      <td>11.0</td>\n",
       "      <td>2.0</td>\n",
       "      <td>13.0</td>\n",
       "      <td>32</td>\n",
       "      <td>2022</td>\n",
       "    </tr>\n",
       "    <tr>\n",
       "      <th>32</th>\n",
       "      <td>33/2022</td>\n",
       "      <td>7.0</td>\n",
       "      <td>1.0</td>\n",
       "      <td>8.0</td>\n",
       "      <td>33</td>\n",
       "      <td>2022</td>\n",
       "    </tr>\n",
       "    <tr>\n",
       "      <th>33</th>\n",
       "      <td>34/2022</td>\n",
       "      <td>6.0</td>\n",
       "      <td>0.0</td>\n",
       "      <td>6.0</td>\n",
       "      <td>34</td>\n",
       "      <td>2022</td>\n",
       "    </tr>\n",
       "    <tr>\n",
       "      <th>34</th>\n",
       "      <td>35/2022</td>\n",
       "      <td>9.0</td>\n",
       "      <td>4.0</td>\n",
       "      <td>13.0</td>\n",
       "      <td>35</td>\n",
       "      <td>2022</td>\n",
       "    </tr>\n",
       "    <tr>\n",
       "      <th>35</th>\n",
       "      <td>36/2022</td>\n",
       "      <td>3.0</td>\n",
       "      <td>5.0</td>\n",
       "      <td>8.0</td>\n",
       "      <td>36</td>\n",
       "      <td>2022</td>\n",
       "    </tr>\n",
       "    <tr>\n",
       "      <th>36</th>\n",
       "      <td>37/2022</td>\n",
       "      <td>3.0</td>\n",
       "      <td>0.0</td>\n",
       "      <td>3.0</td>\n",
       "      <td>37</td>\n",
       "      <td>2022</td>\n",
       "    </tr>\n",
       "    <tr>\n",
       "      <th>37</th>\n",
       "      <td>38/2022</td>\n",
       "      <td>12.0</td>\n",
       "      <td>3.0</td>\n",
       "      <td>15.0</td>\n",
       "      <td>38</td>\n",
       "      <td>2022</td>\n",
       "    </tr>\n",
       "    <tr>\n",
       "      <th>38</th>\n",
       "      <td>39/2022</td>\n",
       "      <td>4.0</td>\n",
       "      <td>2.0</td>\n",
       "      <td>6.0</td>\n",
       "      <td>39</td>\n",
       "      <td>2022</td>\n",
       "    </tr>\n",
       "    <tr>\n",
       "      <th>39</th>\n",
       "      <td>40/2022</td>\n",
       "      <td>5.0</td>\n",
       "      <td>1.0</td>\n",
       "      <td>6.0</td>\n",
       "      <td>40</td>\n",
       "      <td>2022</td>\n",
       "    </tr>\n",
       "    <tr>\n",
       "      <th>40</th>\n",
       "      <td>41/2022</td>\n",
       "      <td>0.0</td>\n",
       "      <td>0.0</td>\n",
       "      <td>0.0</td>\n",
       "      <td>41</td>\n",
       "      <td>2022</td>\n",
       "    </tr>\n",
       "    <tr>\n",
       "      <th>41</th>\n",
       "      <td>42/2022</td>\n",
       "      <td>0.0</td>\n",
       "      <td>0.0</td>\n",
       "      <td>0.0</td>\n",
       "      <td>42</td>\n",
       "      <td>2022</td>\n",
       "    </tr>\n",
       "    <tr>\n",
       "      <th>42</th>\n",
       "      <td>43/2022</td>\n",
       "      <td>5.0</td>\n",
       "      <td>0.0</td>\n",
       "      <td>5.0</td>\n",
       "      <td>43</td>\n",
       "      <td>2022</td>\n",
       "    </tr>\n",
       "  </tbody>\n",
       "</table>\n",
       "</div>"
      ],
      "text/plain": [
       "   week_year  Coletado  Não coletável  closed  week  year\n",
       "0     1/2022       0.0            0.0     0.0     1  2022\n",
       "1     2/2022       1.0            0.0     1.0     2  2022\n",
       "2     3/2022       3.0            0.0     3.0     3  2022\n",
       "3     4/2022       1.0            1.0     2.0     4  2022\n",
       "4     5/2022       0.0            0.0     0.0     5  2022\n",
       "5     6/2022       0.0            0.0     0.0     6  2022\n",
       "6     7/2022       2.0            0.0     2.0     7  2022\n",
       "7     8/2022       2.0            0.0     2.0     8  2022\n",
       "8     9/2022       2.0            0.0     2.0     9  2022\n",
       "9    10/2022       2.0            0.0     2.0    10  2022\n",
       "10   11/2022       4.0            0.0     4.0    11  2022\n",
       "11   12/2022       2.0            0.0     2.0    12  2022\n",
       "12   13/2022       1.0            0.0     1.0    13  2022\n",
       "13   14/2022       1.0            0.0     1.0    14  2022\n",
       "14   15/2022       1.0            1.0     2.0    15  2022\n",
       "15   16/2022       3.0           11.0    14.0    16  2022\n",
       "16   17/2022       2.0            0.0     2.0    17  2022\n",
       "17   18/2022       2.0            0.0     2.0    18  2022\n",
       "18   19/2022       0.0            0.0     0.0    19  2022\n",
       "19   20/2022       4.0            2.0     6.0    20  2022\n",
       "20   21/2022       4.0            1.0     5.0    21  2022\n",
       "21   22/2022       1.0            0.0     1.0    22  2022\n",
       "22   23/2022       5.0            0.0     5.0    23  2022\n",
       "23   24/2022       2.0            0.0     2.0    24  2022\n",
       "24   25/2022       3.0            3.0     6.0    25  2022\n",
       "25   26/2022       3.0            1.0     4.0    26  2022\n",
       "26   27/2022       1.0            0.0     1.0    27  2022\n",
       "27   28/2022       3.0           11.0    14.0    28  2022\n",
       "28   29/2022       4.0            2.0     6.0    29  2022\n",
       "29   30/2022       7.0            2.0     9.0    30  2022\n",
       "30   31/2022      12.0            5.0    17.0    31  2022\n",
       "31   32/2022      11.0            2.0    13.0    32  2022\n",
       "32   33/2022       7.0            1.0     8.0    33  2022\n",
       "33   34/2022       6.0            0.0     6.0    34  2022\n",
       "34   35/2022       9.0            4.0    13.0    35  2022\n",
       "35   36/2022       3.0            5.0     8.0    36  2022\n",
       "36   37/2022       3.0            0.0     3.0    37  2022\n",
       "37   38/2022      12.0            3.0    15.0    38  2022\n",
       "38   39/2022       4.0            2.0     6.0    39  2022\n",
       "39   40/2022       5.0            1.0     6.0    40  2022\n",
       "40   41/2022       0.0            0.0     0.0    41  2022\n",
       "41   42/2022       0.0            0.0     0.0    42  2022\n",
       "42   43/2022       5.0            0.0     5.0    43  2022"
      ]
     },
     "metadata": {},
     "output_type": "display_data"
    },
    {
     "name": "stdout",
     "output_type": "stream",
     "text": [
      "coletado_por_mes_anterior: 25.0, previsao_mes_anterior:\n",
      "  [135.0, 160.0, 185.0, 210.0, 235.0, 260.0, 285.0, 310.0, 335.0, 360.0]\n",
      "coletado_por_mes_atualizado: 10.0, previsao_atual:\n",
      "  [135.0, 145.0, 155.0, 165.0, 175.0, 185.0, 195.0, 205.0, 215.0, 225.0]\n"
     ]
    },
    {
     "data": {
      "application/vnd.plotly.v1+json": {
       "config": {
        "plotlyServerURL": "https://plot.ly"
       },
       "data": [
        {
         "alignmentgroup": "True",
         "hovertemplate": "Mês=%{x}<br>coletado_cumsum=%{y}<extra></extra>",
         "legendgroup": "",
         "marker": {
          "color": "#636efa",
          "opacity": 0.5,
          "pattern": {
           "shape": ""
          }
         },
         "name": "",
         "offsetgroup": "",
         "orientation": "v",
         "showlegend": false,
         "textposition": "auto",
         "type": "bar",
         "x": [
          "11/2021",
          "12/2021",
          "1/2022",
          "2/2022",
          "3/2022",
          "4/2022",
          "5/2022",
          "6/2022",
          "7/2022",
          "8/2022",
          "9/2022",
          "10/2022",
          "11/2022",
          "12/2022",
          "01/2023",
          "02/2023"
         ],
         "xaxis": "x",
         "y": [
          1,
          2,
          7,
          11,
          22,
          29,
          39,
          53,
          68,
          110,
          135,
          147,
          0,
          0,
          0,
          0
         ],
         "yaxis": "y"
        },
        {
         "line": {
          "color": "#ef553b"
         },
         "name": "Planejado",
         "opacity": 1,
         "type": "scatter",
         "x": [
          "11/2021",
          "12/2021",
          "1/2022",
          "2/2022",
          "3/2022",
          "4/2022",
          "5/2022",
          "6/2022",
          "7/2022",
          "8/2022",
          "9/2022",
          "10/2022",
          "11/2022",
          "12/2022",
          "01/2023",
          "02/2023"
         ],
         "y": [
          36.25,
          72.5,
          108.75,
          145,
          181.25,
          217.5,
          253.75,
          290,
          326.25,
          362.5,
          398.75,
          435,
          471.25,
          507.5,
          543.75,
          580
         ]
        },
        {
         "line": {
          "color": "#00CC96"
         },
         "name": "Coletável",
         "type": "scatter",
         "x": [
          "11/2021",
          "12/2021",
          "1/2022",
          "2/2022",
          "3/2022",
          "4/2022",
          "5/2022",
          "6/2022",
          "7/2022",
          "8/2022",
          "9/2022",
          "10/2022",
          "11/2022",
          "12/2022",
          "01/2023",
          "02/2023"
         ],
         "y": [
          22.5,
          45,
          67.5,
          90,
          112.5,
          135,
          157.5,
          180,
          202.5,
          225,
          247.5,
          270,
          292.5,
          315,
          337.5,
          360
         ]
        },
        {
         "line": {
          "color": "#636efa",
          "dash": "solid"
         },
         "name": "Realizado",
         "opacity": 1,
         "showlegend": false,
         "type": "scatter",
         "x": [
          "11/2021",
          "12/2021",
          "1/2022",
          "2/2022",
          "3/2022",
          "4/2022",
          "5/2022",
          "6/2022",
          "7/2022",
          "8/2022",
          "9/2022",
          "10/2022",
          "11/2022",
          "12/2022",
          "01/2023",
          "02/2023"
         ],
         "y": [
          1,
          2,
          7,
          11,
          22,
          29,
          39,
          53,
          68,
          110,
          135
         ]
        },
        {
         "line": {
          "color": "#636efa",
          "dash": "dot"
         },
         "name": "Realizado",
         "opacity": 1,
         "type": "scatter",
         "x": [
          "9/2022",
          "10/2022",
          "11/2022",
          "12/2022",
          "01/2023",
          "02/2023"
         ],
         "y": [
          135,
          145,
          155,
          165,
          175,
          185,
          195,
          205,
          215,
          225
         ]
        },
        {
         "line": {
          "color": "#636efa",
          "dash": "dot"
         },
         "name": "Mês anterior",
         "opacity": 0.2,
         "type": "scatter",
         "x": [
          "9/2022",
          "10/2022",
          "11/2022",
          "12/2022",
          "01/2023",
          "02/2023"
         ],
         "y": [
          135,
          160,
          185,
          210,
          235,
          260,
          285,
          310,
          335,
          360
         ]
        }
       ],
       "layout": {
        "barmode": "relative",
        "height": 500,
        "legend": {
         "tracegroupgap": 0
        },
        "template": {
         "data": {
          "bar": [
           {
            "error_x": {
             "color": "#2a3f5f"
            },
            "error_y": {
             "color": "#2a3f5f"
            },
            "marker": {
             "line": {
              "color": "#E5ECF6",
              "width": 0.5
             },
             "pattern": {
              "fillmode": "overlay",
              "size": 10,
              "solidity": 0.2
             }
            },
            "type": "bar"
           }
          ],
          "barpolar": [
           {
            "marker": {
             "line": {
              "color": "#E5ECF6",
              "width": 0.5
             },
             "pattern": {
              "fillmode": "overlay",
              "size": 10,
              "solidity": 0.2
             }
            },
            "type": "barpolar"
           }
          ],
          "carpet": [
           {
            "aaxis": {
             "endlinecolor": "#2a3f5f",
             "gridcolor": "white",
             "linecolor": "white",
             "minorgridcolor": "white",
             "startlinecolor": "#2a3f5f"
            },
            "baxis": {
             "endlinecolor": "#2a3f5f",
             "gridcolor": "white",
             "linecolor": "white",
             "minorgridcolor": "white",
             "startlinecolor": "#2a3f5f"
            },
            "type": "carpet"
           }
          ],
          "choropleth": [
           {
            "colorbar": {
             "outlinewidth": 0,
             "ticks": ""
            },
            "type": "choropleth"
           }
          ],
          "contour": [
           {
            "colorbar": {
             "outlinewidth": 0,
             "ticks": ""
            },
            "colorscale": [
             [
              0,
              "#0d0887"
             ],
             [
              0.1111111111111111,
              "#46039f"
             ],
             [
              0.2222222222222222,
              "#7201a8"
             ],
             [
              0.3333333333333333,
              "#9c179e"
             ],
             [
              0.4444444444444444,
              "#bd3786"
             ],
             [
              0.5555555555555556,
              "#d8576b"
             ],
             [
              0.6666666666666666,
              "#ed7953"
             ],
             [
              0.7777777777777778,
              "#fb9f3a"
             ],
             [
              0.8888888888888888,
              "#fdca26"
             ],
             [
              1,
              "#f0f921"
             ]
            ],
            "type": "contour"
           }
          ],
          "contourcarpet": [
           {
            "colorbar": {
             "outlinewidth": 0,
             "ticks": ""
            },
            "type": "contourcarpet"
           }
          ],
          "heatmap": [
           {
            "colorbar": {
             "outlinewidth": 0,
             "ticks": ""
            },
            "colorscale": [
             [
              0,
              "#0d0887"
             ],
             [
              0.1111111111111111,
              "#46039f"
             ],
             [
              0.2222222222222222,
              "#7201a8"
             ],
             [
              0.3333333333333333,
              "#9c179e"
             ],
             [
              0.4444444444444444,
              "#bd3786"
             ],
             [
              0.5555555555555556,
              "#d8576b"
             ],
             [
              0.6666666666666666,
              "#ed7953"
             ],
             [
              0.7777777777777778,
              "#fb9f3a"
             ],
             [
              0.8888888888888888,
              "#fdca26"
             ],
             [
              1,
              "#f0f921"
             ]
            ],
            "type": "heatmap"
           }
          ],
          "heatmapgl": [
           {
            "colorbar": {
             "outlinewidth": 0,
             "ticks": ""
            },
            "colorscale": [
             [
              0,
              "#0d0887"
             ],
             [
              0.1111111111111111,
              "#46039f"
             ],
             [
              0.2222222222222222,
              "#7201a8"
             ],
             [
              0.3333333333333333,
              "#9c179e"
             ],
             [
              0.4444444444444444,
              "#bd3786"
             ],
             [
              0.5555555555555556,
              "#d8576b"
             ],
             [
              0.6666666666666666,
              "#ed7953"
             ],
             [
              0.7777777777777778,
              "#fb9f3a"
             ],
             [
              0.8888888888888888,
              "#fdca26"
             ],
             [
              1,
              "#f0f921"
             ]
            ],
            "type": "heatmapgl"
           }
          ],
          "histogram": [
           {
            "marker": {
             "pattern": {
              "fillmode": "overlay",
              "size": 10,
              "solidity": 0.2
             }
            },
            "type": "histogram"
           }
          ],
          "histogram2d": [
           {
            "colorbar": {
             "outlinewidth": 0,
             "ticks": ""
            },
            "colorscale": [
             [
              0,
              "#0d0887"
             ],
             [
              0.1111111111111111,
              "#46039f"
             ],
             [
              0.2222222222222222,
              "#7201a8"
             ],
             [
              0.3333333333333333,
              "#9c179e"
             ],
             [
              0.4444444444444444,
              "#bd3786"
             ],
             [
              0.5555555555555556,
              "#d8576b"
             ],
             [
              0.6666666666666666,
              "#ed7953"
             ],
             [
              0.7777777777777778,
              "#fb9f3a"
             ],
             [
              0.8888888888888888,
              "#fdca26"
             ],
             [
              1,
              "#f0f921"
             ]
            ],
            "type": "histogram2d"
           }
          ],
          "histogram2dcontour": [
           {
            "colorbar": {
             "outlinewidth": 0,
             "ticks": ""
            },
            "colorscale": [
             [
              0,
              "#0d0887"
             ],
             [
              0.1111111111111111,
              "#46039f"
             ],
             [
              0.2222222222222222,
              "#7201a8"
             ],
             [
              0.3333333333333333,
              "#9c179e"
             ],
             [
              0.4444444444444444,
              "#bd3786"
             ],
             [
              0.5555555555555556,
              "#d8576b"
             ],
             [
              0.6666666666666666,
              "#ed7953"
             ],
             [
              0.7777777777777778,
              "#fb9f3a"
             ],
             [
              0.8888888888888888,
              "#fdca26"
             ],
             [
              1,
              "#f0f921"
             ]
            ],
            "type": "histogram2dcontour"
           }
          ],
          "mesh3d": [
           {
            "colorbar": {
             "outlinewidth": 0,
             "ticks": ""
            },
            "type": "mesh3d"
           }
          ],
          "parcoords": [
           {
            "line": {
             "colorbar": {
              "outlinewidth": 0,
              "ticks": ""
             }
            },
            "type": "parcoords"
           }
          ],
          "pie": [
           {
            "automargin": true,
            "type": "pie"
           }
          ],
          "scatter": [
           {
            "marker": {
             "colorbar": {
              "outlinewidth": 0,
              "ticks": ""
             }
            },
            "type": "scatter"
           }
          ],
          "scatter3d": [
           {
            "line": {
             "colorbar": {
              "outlinewidth": 0,
              "ticks": ""
             }
            },
            "marker": {
             "colorbar": {
              "outlinewidth": 0,
              "ticks": ""
             }
            },
            "type": "scatter3d"
           }
          ],
          "scattercarpet": [
           {
            "marker": {
             "colorbar": {
              "outlinewidth": 0,
              "ticks": ""
             }
            },
            "type": "scattercarpet"
           }
          ],
          "scattergeo": [
           {
            "marker": {
             "colorbar": {
              "outlinewidth": 0,
              "ticks": ""
             }
            },
            "type": "scattergeo"
           }
          ],
          "scattergl": [
           {
            "marker": {
             "colorbar": {
              "outlinewidth": 0,
              "ticks": ""
             }
            },
            "type": "scattergl"
           }
          ],
          "scattermapbox": [
           {
            "marker": {
             "colorbar": {
              "outlinewidth": 0,
              "ticks": ""
             }
            },
            "type": "scattermapbox"
           }
          ],
          "scatterpolar": [
           {
            "marker": {
             "colorbar": {
              "outlinewidth": 0,
              "ticks": ""
             }
            },
            "type": "scatterpolar"
           }
          ],
          "scatterpolargl": [
           {
            "marker": {
             "colorbar": {
              "outlinewidth": 0,
              "ticks": ""
             }
            },
            "type": "scatterpolargl"
           }
          ],
          "scatterternary": [
           {
            "marker": {
             "colorbar": {
              "outlinewidth": 0,
              "ticks": ""
             }
            },
            "type": "scatterternary"
           }
          ],
          "surface": [
           {
            "colorbar": {
             "outlinewidth": 0,
             "ticks": ""
            },
            "colorscale": [
             [
              0,
              "#0d0887"
             ],
             [
              0.1111111111111111,
              "#46039f"
             ],
             [
              0.2222222222222222,
              "#7201a8"
             ],
             [
              0.3333333333333333,
              "#9c179e"
             ],
             [
              0.4444444444444444,
              "#bd3786"
             ],
             [
              0.5555555555555556,
              "#d8576b"
             ],
             [
              0.6666666666666666,
              "#ed7953"
             ],
             [
              0.7777777777777778,
              "#fb9f3a"
             ],
             [
              0.8888888888888888,
              "#fdca26"
             ],
             [
              1,
              "#f0f921"
             ]
            ],
            "type": "surface"
           }
          ],
          "table": [
           {
            "cells": {
             "fill": {
              "color": "#EBF0F8"
             },
             "line": {
              "color": "white"
             }
            },
            "header": {
             "fill": {
              "color": "#C8D4E3"
             },
             "line": {
              "color": "white"
             }
            },
            "type": "table"
           }
          ]
         },
         "layout": {
          "annotationdefaults": {
           "arrowcolor": "#2a3f5f",
           "arrowhead": 0,
           "arrowwidth": 1
          },
          "autotypenumbers": "strict",
          "coloraxis": {
           "colorbar": {
            "outlinewidth": 0,
            "ticks": ""
           }
          },
          "colorscale": {
           "diverging": [
            [
             0,
             "#8e0152"
            ],
            [
             0.1,
             "#c51b7d"
            ],
            [
             0.2,
             "#de77ae"
            ],
            [
             0.3,
             "#f1b6da"
            ],
            [
             0.4,
             "#fde0ef"
            ],
            [
             0.5,
             "#f7f7f7"
            ],
            [
             0.6,
             "#e6f5d0"
            ],
            [
             0.7,
             "#b8e186"
            ],
            [
             0.8,
             "#7fbc41"
            ],
            [
             0.9,
             "#4d9221"
            ],
            [
             1,
             "#276419"
            ]
           ],
           "sequential": [
            [
             0,
             "#0d0887"
            ],
            [
             0.1111111111111111,
             "#46039f"
            ],
            [
             0.2222222222222222,
             "#7201a8"
            ],
            [
             0.3333333333333333,
             "#9c179e"
            ],
            [
             0.4444444444444444,
             "#bd3786"
            ],
            [
             0.5555555555555556,
             "#d8576b"
            ],
            [
             0.6666666666666666,
             "#ed7953"
            ],
            [
             0.7777777777777778,
             "#fb9f3a"
            ],
            [
             0.8888888888888888,
             "#fdca26"
            ],
            [
             1,
             "#f0f921"
            ]
           ],
           "sequentialminus": [
            [
             0,
             "#0d0887"
            ],
            [
             0.1111111111111111,
             "#46039f"
            ],
            [
             0.2222222222222222,
             "#7201a8"
            ],
            [
             0.3333333333333333,
             "#9c179e"
            ],
            [
             0.4444444444444444,
             "#bd3786"
            ],
            [
             0.5555555555555556,
             "#d8576b"
            ],
            [
             0.6666666666666666,
             "#ed7953"
            ],
            [
             0.7777777777777778,
             "#fb9f3a"
            ],
            [
             0.8888888888888888,
             "#fdca26"
            ],
            [
             1,
             "#f0f921"
            ]
           ]
          },
          "colorway": [
           "#636efa",
           "#EF553B",
           "#00cc96",
           "#ab63fa",
           "#FFA15A",
           "#19d3f3",
           "#FF6692",
           "#B6E880",
           "#FF97FF",
           "#FECB52"
          ],
          "font": {
           "color": "#2a3f5f"
          },
          "geo": {
           "bgcolor": "white",
           "lakecolor": "white",
           "landcolor": "#E5ECF6",
           "showlakes": true,
           "showland": true,
           "subunitcolor": "white"
          },
          "hoverlabel": {
           "align": "left"
          },
          "hovermode": "closest",
          "mapbox": {
           "style": "light"
          },
          "paper_bgcolor": "white",
          "plot_bgcolor": "#E5ECF6",
          "polar": {
           "angularaxis": {
            "gridcolor": "white",
            "linecolor": "white",
            "ticks": ""
           },
           "bgcolor": "#E5ECF6",
           "radialaxis": {
            "gridcolor": "white",
            "linecolor": "white",
            "ticks": ""
           }
          },
          "scene": {
           "xaxis": {
            "backgroundcolor": "#E5ECF6",
            "gridcolor": "white",
            "gridwidth": 2,
            "linecolor": "white",
            "showbackground": true,
            "ticks": "",
            "zerolinecolor": "white"
           },
           "yaxis": {
            "backgroundcolor": "#E5ECF6",
            "gridcolor": "white",
            "gridwidth": 2,
            "linecolor": "white",
            "showbackground": true,
            "ticks": "",
            "zerolinecolor": "white"
           },
           "zaxis": {
            "backgroundcolor": "#E5ECF6",
            "gridcolor": "white",
            "gridwidth": 2,
            "linecolor": "white",
            "showbackground": true,
            "ticks": "",
            "zerolinecolor": "white"
           }
          },
          "shapedefaults": {
           "line": {
            "color": "#2a3f5f"
           }
          },
          "ternary": {
           "aaxis": {
            "gridcolor": "white",
            "linecolor": "white",
            "ticks": ""
           },
           "baxis": {
            "gridcolor": "white",
            "linecolor": "white",
            "ticks": ""
           },
           "bgcolor": "#E5ECF6",
           "caxis": {
            "gridcolor": "white",
            "linecolor": "white",
            "ticks": ""
           }
          },
          "title": {
           "x": 0.05
          },
          "xaxis": {
           "automargin": true,
           "gridcolor": "white",
           "linecolor": "white",
           "ticks": "",
           "title": {
            "standoff": 15
           },
           "zerolinecolor": "white",
           "zerolinewidth": 2
          },
          "yaxis": {
           "automargin": true,
           "gridcolor": "white",
           "linecolor": "white",
           "ticks": "",
           "title": {
            "standoff": 15
           },
           "zerolinecolor": "white",
           "zerolinewidth": 2
          }
         }
        },
        "title": {
         "text": "Coleta - Conclusão de Epics por Mês"
        },
        "width": 1000,
        "xaxis": {
         "anchor": "y",
         "autorange": true,
         "domain": [
          0,
          1
         ],
         "range": [
          -0.9243881118881118,
          15.924388111888112
         ],
         "title": {
          "text": "Mês"
         },
         "type": "category"
        },
        "yaxis": {
         "anchor": "x",
         "autorange": true,
         "domain": [
          0,
          1
         ],
         "dtick": 100,
         "range": [
          -39.76737967914438,
          620.7673796791444
         ],
         "tick0": 0,
         "tickmode": "linear",
         "title": {
          "text": "coletado_cumsum"
         },
         "type": "linear"
        }
       }
      },
      "image/png": "[encoded data removed]",
      "text/html": [
       "<div>                            <div id=\"24744201-0d8c-45c9-bc38-8e14b8fa9954\" class=\"plotly-graph-div\" style=\"height:500px; width:1000px;\"></div>            <script type=\"text/javascript\">                require([\"plotly\"], function(Plotly) {                    window.PLOTLYENV=window.PLOTLYENV || {};                                    if (document.getElementById(\"24744201-0d8c-45c9-bc38-8e14b8fa9954\")) {                    Plotly.newPlot(                        \"24744201-0d8c-45c9-bc38-8e14b8fa9954\",                        [{\"alignmentgroup\":\"True\",\"hovertemplate\":\"M\\u00eas=%{x}<br>coletado_cumsum=%{y}<extra></extra>\",\"legendgroup\":\"\",\"marker\":{\"color\":\"#636efa\",\"opacity\":0.5,\"pattern\":{\"shape\":\"\"}},\"name\":\"\",\"offsetgroup\":\"\",\"orientation\":\"v\",\"showlegend\":false,\"textposition\":\"auto\",\"type\":\"bar\",\"x\":[\"11/2021\",\"12/2021\",\"1/2022\",\"2/2022\",\"3/2022\",\"4/2022\",\"5/2022\",\"6/2022\",\"7/2022\",\"8/2022\",\"9/2022\",\"10/2022\",\"11/2022\",\"12/2022\",\"01/2023\",\"02/2023\"],\"xaxis\":\"x\",\"y\":[1.0,2.0,7.0,11.0,22.0,29.0,39.0,53.0,68.0,110.0,135.0,147.0,0.0,0.0,0.0,0.0],\"yaxis\":\"y\"},{\"line\":{\"color\":\"#ef553b\"},\"name\":\"Planejado\",\"opacity\":1,\"type\":\"scatter\",\"x\":[\"11/2021\",\"12/2021\",\"1/2022\",\"2/2022\",\"3/2022\",\"4/2022\",\"5/2022\",\"6/2022\",\"7/2022\",\"8/2022\",\"9/2022\",\"10/2022\",\"11/2022\",\"12/2022\",\"01/2023\",\"02/2023\"],\"y\":[36.25,72.5,108.75,145.0,181.25,217.5,253.75,290.0,326.25,362.5,398.75,435.0,471.25,507.5,543.75,580.0]},{\"line\":{\"color\":\"#00CC96\"},\"name\":\"Colet\\u00e1vel\",\"type\":\"scatter\",\"x\":[\"11/2021\",\"12/2021\",\"1/2022\",\"2/2022\",\"3/2022\",\"4/2022\",\"5/2022\",\"6/2022\",\"7/2022\",\"8/2022\",\"9/2022\",\"10/2022\",\"11/2022\",\"12/2022\",\"01/2023\",\"02/2023\"],\"y\":[22.5,45.0,67.5,90.0,112.5,135.0,157.5,180.0,202.5,225.0,247.5,270.0,292.5,315.0,337.5,360.0]},{\"line\":{\"color\":\"#636efa\",\"dash\":\"solid\"},\"name\":\"Realizado\",\"opacity\":1,\"showlegend\":false,\"type\":\"scatter\",\"x\":[\"11/2021\",\"12/2021\",\"1/2022\",\"2/2022\",\"3/2022\",\"4/2022\",\"5/2022\",\"6/2022\",\"7/2022\",\"8/2022\",\"9/2022\",\"10/2022\",\"11/2022\",\"12/2022\",\"01/2023\",\"02/2023\"],\"y\":[1.0,2.0,7.0,11.0,22.0,29.0,39.0,53.0,68.0,110.0,135.0]},{\"line\":{\"color\":\"#636efa\",\"dash\":\"dot\"},\"name\":\"Realizado\",\"opacity\":1,\"type\":\"scatter\",\"x\":[\"9/2022\",\"10/2022\",\"11/2022\",\"12/2022\",\"01/2023\",\"02/2023\"],\"y\":[135.0,145.0,155.0,165.0,175.0,185.0,195.0,205.0,215.0,225.0]},{\"line\":{\"color\":\"#636efa\",\"dash\":\"dot\"},\"name\":\"M\\u00eas anterior\",\"opacity\":0.2,\"type\":\"scatter\",\"x\":[\"9/2022\",\"10/2022\",\"11/2022\",\"12/2022\",\"01/2023\",\"02/2023\"],\"y\":[135.0,160.0,185.0,210.0,235.0,260.0,285.0,310.0,335.0,360.0]}],                        {\"barmode\":\"relative\",\"height\":500,\"legend\":{\"tracegroupgap\":0},\"template\":{\"data\":{\"bar\":[{\"error_x\":{\"color\":\"#2a3f5f\"},\"error_y\":{\"color\":\"#2a3f5f\"},\"marker\":{\"line\":{\"color\":\"#E5ECF6\",\"width\":0.5},\"pattern\":{\"fillmode\":\"overlay\",\"size\":10,\"solidity\":0.2}},\"type\":\"bar\"}],\"barpolar\":[{\"marker\":{\"line\":{\"color\":\"#E5ECF6\",\"width\":0.5},\"pattern\":{\"fillmode\":\"overlay\",\"size\":10,\"solidity\":0.2}},\"type\":\"barpolar\"}],\"carpet\":[{\"aaxis\":{\"endlinecolor\":\"#2a3f5f\",\"gridcolor\":\"white\",\"linecolor\":\"white\",\"minorgridcolor\":\"white\",\"startlinecolor\":\"#2a3f5f\"},\"baxis\":{\"endlinecolor\":\"#2a3f5f\",\"gridcolor\":\"white\",\"linecolor\":\"white\",\"minorgridcolor\":\"white\",\"startlinecolor\":\"#2a3f5f\"},\"type\":\"carpet\"}],\"choropleth\":[{\"colorbar\":{\"outlinewidth\":0,\"ticks\":\"\"},\"type\":\"choropleth\"}],\"contour\":[{\"colorbar\":{\"outlinewidth\":0,\"ticks\":\"\"},\"colorscale\":[[0.0,\"#0d0887\"],[0.1111111111111111,\"#46039f\"],[0.2222222222222222,\"#7201a8\"],[0.3333333333333333,\"#9c179e\"],[0.4444444444444444,\"#bd3786\"],[0.5555555555555556,\"#d8576b\"],[0.6666666666666666,\"#ed7953\"],[0.7777777777777778,\"#fb9f3a\"],[0.8888888888888888,\"#fdca26\"],[1.0,\"#f0f921\"]],\"type\":\"contour\"}],\"contourcarpet\":[{\"colorbar\":{\"outlinewidth\":0,\"ticks\":\"\"},\"type\":\"contourcarpet\"}],\"heatmap\":[{\"colorbar\":{\"outlinewidth\":0,\"ticks\":\"\"},\"colorscale\":[[0.0,\"#0d0887\"],[0.1111111111111111,\"#46039f\"],[0.2222222222222222,\"#7201a8\"],[0.3333333333333333,\"#9c179e\"],[0.4444444444444444,\"#bd3786\"],[0.5555555555555556,\"#d8576b\"],[0.6666666666666666,\"#ed7953\"],[0.7777777777777778,\"#fb9f3a\"],[0.8888888888888888,\"#fdca26\"],[1.0,\"#f0f921\"]],\"type\":\"heatmap\"}],\"heatmapgl\":[{\"colorbar\":{\"outlinewidth\":0,\"ticks\":\"\"},\"colorscale\":[[0.0,\"#0d0887\"],[0.1111111111111111,\"#46039f\"],[0.2222222222222222,\"#7201a8\"],[0.3333333333333333,\"#9c179e\"],[0.4444444444444444,\"#bd3786\"],[0.5555555555555556,\"#d8576b\"],[0.6666666666666666,\"#ed7953\"],[0.7777777777777778,\"#fb9f3a\"],[0.8888888888888888,\"#fdca26\"],[1.0,\"#f0f921\"]],\"type\":\"heatmapgl\"}],\"histogram\":[{\"marker\":{\"pattern\":{\"fillmode\":\"overlay\",\"size\":10,\"solidity\":0.2}},\"type\":\"histogram\"}],\"histogram2d\":[{\"colorbar\":{\"outlinewidth\":0,\"ticks\":\"\"},\"colorscale\":[[0.0,\"#0d0887\"],[0.1111111111111111,\"#46039f\"],[0.2222222222222222,\"#7201a8\"],[0.3333333333333333,\"#9c179e\"],[0.4444444444444444,\"#bd3786\"],[0.5555555555555556,\"#d8576b\"],[0.6666666666666666,\"#ed7953\"],[0.7777777777777778,\"#fb9f3a\"],[0.8888888888888888,\"#fdca26\"],[1.0,\"#f0f921\"]],\"type\":\"histogram2d\"}],\"histogram2dcontour\":[{\"colorbar\":{\"outlinewidth\":0,\"ticks\":\"\"},\"colorscale\":[[0.0,\"#0d0887\"],[0.1111111111111111,\"#46039f\"],[0.2222222222222222,\"#7201a8\"],[0.3333333333333333,\"#9c179e\"],[0.4444444444444444,\"#bd3786\"],[0.5555555555555556,\"#d8576b\"],[0.6666666666666666,\"#ed7953\"],[0.7777777777777778,\"#fb9f3a\"],[0.8888888888888888,\"#fdca26\"],[1.0,\"#f0f921\"]],\"type\":\"histogram2dcontour\"}],\"mesh3d\":[{\"colorbar\":{\"outlinewidth\":0,\"ticks\":\"\"},\"type\":\"mesh3d\"}],\"parcoords\":[{\"line\":{\"colorbar\":{\"outlinewidth\":0,\"ticks\":\"\"}},\"type\":\"parcoords\"}],\"pie\":[{\"automargin\":true,\"type\":\"pie\"}],\"scatter\":[{\"marker\":{\"colorbar\":{\"outlinewidth\":0,\"ticks\":\"\"}},\"type\":\"scatter\"}],\"scatter3d\":[{\"line\":{\"colorbar\":{\"outlinewidth\":0,\"ticks\":\"\"}},\"marker\":{\"colorbar\":{\"outlinewidth\":0,\"ticks\":\"\"}},\"type\":\"scatter3d\"}],\"scattercarpet\":[{\"marker\":{\"colorbar\":{\"outlinewidth\":0,\"ticks\":\"\"}},\"type\":\"scattercarpet\"}],\"scattergeo\":[{\"marker\":{\"colorbar\":{\"outlinewidth\":0,\"ticks\":\"\"}},\"type\":\"scattergeo\"}],\"scattergl\":[{\"marker\":{\"colorbar\":{\"outlinewidth\":0,\"ticks\":\"\"}},\"type\":\"scattergl\"}],\"scattermapbox\":[{\"marker\":{\"colorbar\":{\"outlinewidth\":0,\"ticks\":\"\"}},\"type\":\"scattermapbox\"}],\"scatterpolar\":[{\"marker\":{\"colorbar\":{\"outlinewidth\":0,\"ticks\":\"\"}},\"type\":\"scatterpolar\"}],\"scatterpolargl\":[{\"marker\":{\"colorbar\":{\"outlinewidth\":0,\"ticks\":\"\"}},\"type\":\"scatterpolargl\"}],\"scatterternary\":[{\"marker\":{\"colorbar\":{\"outlinewidth\":0,\"ticks\":\"\"}},\"type\":\"scatterternary\"}],\"surface\":[{\"colorbar\":{\"outlinewidth\":0,\"ticks\":\"\"},\"colorscale\":[[0.0,\"#0d0887\"],[0.1111111111111111,\"#46039f\"],[0.2222222222222222,\"#7201a8\"],[0.3333333333333333,\"#9c179e\"],[0.4444444444444444,\"#bd3786\"],[0.5555555555555556,\"#d8576b\"],[0.6666666666666666,\"#ed7953\"],[0.7777777777777778,\"#fb9f3a\"],[0.8888888888888888,\"#fdca26\"],[1.0,\"#f0f921\"]],\"type\":\"surface\"}],\"table\":[{\"cells\":{\"fill\":{\"color\":\"#EBF0F8\"},\"line\":{\"color\":\"white\"}},\"header\":{\"fill\":{\"color\":\"#C8D4E3\"},\"line\":{\"color\":\"white\"}},\"type\":\"table\"}]},\"layout\":{\"annotationdefaults\":{\"arrowcolor\":\"#2a3f5f\",\"arrowhead\":0,\"arrowwidth\":1},\"autotypenumbers\":\"strict\",\"coloraxis\":{\"colorbar\":{\"outlinewidth\":0,\"ticks\":\"\"}},\"colorscale\":{\"diverging\":[[0,\"#8e0152\"],[0.1,\"#c51b7d\"],[0.2,\"#de77ae\"],[0.3,\"#f1b6da\"],[0.4,\"#fde0ef\"],[0.5,\"#f7f7f7\"],[0.6,\"#e6f5d0\"],[0.7,\"#b8e186\"],[0.8,\"#7fbc41\"],[0.9,\"#4d9221\"],[1,\"#276419\"]],\"sequential\":[[0.0,\"#0d0887\"],[0.1111111111111111,\"#46039f\"],[0.2222222222222222,\"#7201a8\"],[0.3333333333333333,\"#9c179e\"],[0.4444444444444444,\"#bd3786\"],[0.5555555555555556,\"#d8576b\"],[0.6666666666666666,\"#ed7953\"],[0.7777777777777778,\"#fb9f3a\"],[0.8888888888888888,\"#fdca26\"],[1.0,\"#f0f921\"]],\"sequentialminus\":[[0.0,\"#0d0887\"],[0.1111111111111111,\"#46039f\"],[0.2222222222222222,\"#7201a8\"],[0.3333333333333333,\"#9c179e\"],[0.4444444444444444,\"#bd3786\"],[0.5555555555555556,\"#d8576b\"],[0.6666666666666666,\"#ed7953\"],[0.7777777777777778,\"#fb9f3a\"],[0.8888888888888888,\"#fdca26\"],[1.0,\"#f0f921\"]]},\"colorway\":[\"#636efa\",\"#EF553B\",\"#00cc96\",\"#ab63fa\",\"#FFA15A\",\"#19d3f3\",\"#FF6692\",\"#B6E880\",\"#FF97FF\",\"#FECB52\"],\"font\":{\"color\":\"#2a3f5f\"},\"geo\":{\"bgcolor\":\"white\",\"lakecolor\":\"white\",\"landcolor\":\"#E5ECF6\",\"showlakes\":true,\"showland\":true,\"subunitcolor\":\"white\"},\"hoverlabel\":{\"align\":\"left\"},\"hovermode\":\"closest\",\"mapbox\":{\"style\":\"light\"},\"paper_bgcolor\":\"white\",\"plot_bgcolor\":\"#E5ECF6\",\"polar\":{\"angularaxis\":{\"gridcolor\":\"white\",\"linecolor\":\"white\",\"ticks\":\"\"},\"bgcolor\":\"#E5ECF6\",\"radialaxis\":{\"gridcolor\":\"white\",\"linecolor\":\"white\",\"ticks\":\"\"}},\"scene\":{\"xaxis\":{\"backgroundcolor\":\"#E5ECF6\",\"gridcolor\":\"white\",\"gridwidth\":2,\"linecolor\":\"white\",\"showbackground\":true,\"ticks\":\"\",\"zerolinecolor\":\"white\"},\"yaxis\":{\"backgroundcolor\":\"#E5ECF6\",\"gridcolor\":\"white\",\"gridwidth\":2,\"linecolor\":\"white\",\"showbackground\":true,\"ticks\":\"\",\"zerolinecolor\":\"white\"},\"zaxis\":{\"backgroundcolor\":\"#E5ECF6\",\"gridcolor\":\"white\",\"gridwidth\":2,\"linecolor\":\"white\",\"showbackground\":true,\"ticks\":\"\",\"zerolinecolor\":\"white\"}},\"shapedefaults\":{\"line\":{\"color\":\"#2a3f5f\"}},\"ternary\":{\"aaxis\":{\"gridcolor\":\"white\",\"linecolor\":\"white\",\"ticks\":\"\"},\"baxis\":{\"gridcolor\":\"white\",\"linecolor\":\"white\",\"ticks\":\"\"},\"bgcolor\":\"#E5ECF6\",\"caxis\":{\"gridcolor\":\"white\",\"linecolor\":\"white\",\"ticks\":\"\"}},\"title\":{\"x\":0.05},\"xaxis\":{\"automargin\":true,\"gridcolor\":\"white\",\"linecolor\":\"white\",\"ticks\":\"\",\"title\":{\"standoff\":15},\"zerolinecolor\":\"white\",\"zerolinewidth\":2},\"yaxis\":{\"automargin\":true,\"gridcolor\":\"white\",\"linecolor\":\"white\",\"ticks\":\"\",\"title\":{\"standoff\":15},\"zerolinecolor\":\"white\",\"zerolinewidth\":2}}},\"title\":{\"text\":\"Coleta - Conclus\\u00e3o de Epics por M\\u00eas\"},\"width\":1000,\"xaxis\":{\"anchor\":\"y\",\"domain\":[0.0,1.0],\"title\":{\"text\":\"M\\u00eas\"}},\"yaxis\":{\"anchor\":\"x\",\"domain\":[0.0,1.0],\"dtick\":100,\"tick0\":0,\"tickmode\":\"linear\",\"title\":{\"text\":\"coletado_cumsum\"}}},                        {\"responsive\": true}                    ).then(function(){\n",
       "                            \n",
       "var gd = document.getElementById('24744201-0d8c-45c9-bc38-8e14b8fa9954');\n",
       "var x = new MutationObserver(function (mutations, observer) {{\n",
       "        var display = window.getComputedStyle(gd).display;\n",
       "        if (!display || display === 'none') {{\n",
       "            console.log([gd, 'removed!']);\n",
       "            Plotly.purge(gd);\n",
       "            observer.disconnect();\n",
       "        }}\n",
       "}});\n",
       "\n",
       "// Listen for the removal of the full notebook cells\n",
       "var notebookContainer = gd.closest('#notebook-container');\n",
       "if (notebookContainer) {{\n",
       "    x.observe(notebookContainer, {childList: true});\n",
       "}}\n",
       "\n",
       "// Listen for the clearing of the current output cell\n",
       "var outputEl = gd.closest('.output');\n",
       "if (outputEl) {{\n",
       "    x.observe(outputEl, {childList: true});\n",
       "}}\n",
       "\n",
       "                        })                };                });            </script>        </div>"
      ]
     },
     "metadata": {},
     "output_type": "display_data"
    }
   ],
   "source": [
    "#TODO atualizar estimativa de coletável\n",
    "def plot_speed_epics(df, df_week, title):      \n",
    "    \n",
    "    df['coletado_cumsum'] = df['Coletado'].cumsum()   \n",
    "    coletado_cumsum_anterior = df['coletado_cumsum'][:-1].values.tolist()\n",
    "    # df[\"closed_cumsum\"] = df[\"closed\"].cumsum()             \n",
    "    # df[\"naocoletado_cumsum\"] = df[\"Não coletável\"].cumsum()  \n",
    "    \n",
    "    display(df_week)\n",
    "    \n",
    "    total_coletado_mes_anterior  = df['Coletado'][:-1].sum()\n",
    "    coletado_por_mes_atualizado = df_week['Coletado'][-4:].sum()  #df[\"Coletado\"].mean()\n",
    "    coletado_por_mes_anterior   = df['Coletado'][-2:-1].values[0]\n",
    "    # fechado_por_mes = df[\"closed\"].mean()      \n",
    "    # total_coletado  = df['Coletado'].sum()\n",
    "\n",
    "    #TODO numbers\n",
    "    previsao_mes_anterior = [total_coletado_mes_anterior + (i * coletado_por_mes_anterior) for i in range(10)]\n",
    "    previsao_atual = [total_coletado_mes_anterior + (i * coletado_por_mes_atualizado) for i in range(10)]\n",
    "    \n",
    "    print(f'coletado_por_mes_anterior: {coletado_por_mes_anterior}, previsao_mes_anterior:\\n  {previsao_mes_anterior}')\n",
    "    print(f'coletado_por_mes_atualizado: {coletado_por_mes_atualizado}, previsao_atual:\\n  {previsao_atual}')\n",
    "    \n",
    "    # Definindo os meses de interesse\n",
    "    df = df.merge( pd.DataFrame([\"11/2021\", \"12/2021\"] + [f'{x}/2022' for x in range(1,13)] + \n",
    "                                [\"01/2023\", \"02/2023\"], columns=[\"month_year\"]), how=\"right\").fillna(0)    \n",
    "    \n",
    "    # Baselines\n",
    "    n_templates = 15 + 5            # 15 + 5 municipios\n",
    "    total_epics_by_template = 29    # Siplanweb    \n",
    "    \n",
    "    total_epics = total_epics_by_template * n_templates    \n",
    "    total_months = df.shape[0]\n",
    "    ideal_speed = total_epics / total_months\n",
    "    \n",
    "    media_nao_coletavel = (12 + 12 + 12 + 8) / 4   # Siplanweb + Betha + MunicipalNet + ADPM    \n",
    "    total_coletaveis = total_epics - (media_nao_coletavel * n_templates)\n",
    "    ideal_speed_discounted = total_coletaveis / total_months\n",
    "    \n",
    "    # Plot\n",
    "    fig =  px.bar(df, x=\"month_year\", y='coletado_cumsum', title=title, opacity=0.5, height=500, width=1000,\n",
    "                 labels={\"value\":\"Epics concluídas (acumulado)\", \"month_year\":\"Mês\", 'variable':''})\n",
    "\n",
    "    fig.update_layout(yaxis = dict(tickmode = 'linear', tick0 = 0, dtick = 100))\n",
    "    fig.add_traces([\n",
    "        go.Scatter(x=df.month_year, y=[i * ideal_speed for i in range(1, total_months+1)], name=\"Planejado\", opacity=1,\n",
    "                  line=go.scatter.Line(color='#ef553b')), #color=\"red\" ff6692 ef553b     \n",
    "        go.Scatter(x=df.month_year, y=[i * ideal_speed_discounted for i in range(1, total_months+1)], name=\"Coletável\",\n",
    "                  line=go.scatter.Line(color=\"#00CC96\")), #AB63FA\n",
    "        go.Scatter(x=df.month_year, y=coletado_cumsum_anterior, name=\"Realizado\", \n",
    "                  line=go.scatter.Line(dash='solid', color=\"#636efa\"), opacity=1, showlegend=False), \n",
    "        go.Scatter(x=df.month_year[-6:], y=previsao_atual, name=\"Realizado\", \n",
    "                  line=go.scatter.Line(dash='dot', color=\"#636efa\"), opacity=1),\n",
    "        go.Scatter(x=df.month_year[-6:], y=previsao_mes_anterior, name=\"Mês anterior\",\n",
    "                  line=go.scatter.Line(dash='dot', color=\"#636efa\"), opacity=0.2),\n",
    "        # go.Scatter(x=df.month_year, y=[i * velocidade_coleta for i in range(1, total_months+1)], name=\"Realizado\",\n",
    "        #           line=go.scatter.Line(color=\"#636efa\"), opacity=1),#, text=df), #8c86ff\n",
    "        # go.Scatter(x=df.month_year, y=mes_anterior, name=\"Mês anterior\",\n",
    "        #           line=go.scatter.Line(color=\"#636efa\"), opacity=0.2),\n",
    "        # go.Scatter(x=df.month_year, y=[i * velocidade_total for i in range(1, total_months+1)], name=\"Total Fechado\",\n",
    "        #           line=go.scatter.Line(color=\"blue\"), opacity=0.1),    # Inclui todas epics fechadas\n",
    "                    # dash -> ['solid', 'dot', 'dash', 'longdash', 'dashdot', 'longdashdot']\n",
    "    ])\n",
    "    \n",
    "    return fig\n",
    "\n",
    "#-------------------------------------------------------------------------------------\n",
    "#4c72b0', '#dd8452', '#55a868', '#c44e52', '#8172b3', \n",
    "# '#937860', '#da8bc3', '#8c8c8c', '#ccb974', '#64b5cd'\n",
    "\n",
    "count_epics_month = pd.read_csv(\"data/count_epics_month.csv\")\n",
    "count_epics_week  = pd.read_csv(\"data/count_epics_week.csv\")\n",
    "\n",
    "count_epics_month = count_epics_month[count_epics_month.month_year != '11/2022'] #TODO \n",
    "plot_speed_epics(count_epics_month, count_epics_week, title='Coleta - Conclusão de Epics por Mês') \n"
   ]
  },
  {
   "cell_type": "code",
   "execution_count": null,
   "metadata": {},
   "outputs": [],
   "source": [
    "repo = repo_F01\n",
    "epics_id = [1928, 1645, 1935, 1330, 1964, 1963, 1905]\n",
    "\n",
    "epics_info, count_epics_month, count_epics_week = transform_data.summarize_epics(epics_id, repo_F01)\n",
    "count_epics_month, count_epics_week"
   ]
  },
  {
   "cell_type": "markdown",
   "metadata": {
    "tags": []
   },
   "source": [
    "## Gráfico de Visão Geral"
   ]
  },
  {
   "cell_type": "code",
   "execution_count": 207,
   "metadata": {},
   "outputs": [
    {
     "data": {
      "text/plain": [
       "array(['ADPM (22)', 'Síntese tecnologia e informatica (88)', 'ABO (21)',\n",
       "       'Template1 (22)', 'GRP (27)', 'Memory (66)', 'Portaltp (61)',\n",
       "       'PT (45)', 'Betha (26)', 'Siplanweb (61)', 'Fiorilli (7)',\n",
       "       'Template1 (9)', 'Portal Facil (5)', 'Portal Facil (46)',\n",
       "       'Portal Facil (60)', nan, 'Template2 (28)', 'Habeas Data (7)',\n",
       "       'Municipal Net (11)', 'Prefeitura'], dtype=object)"
      ]
     },
     "execution_count": 207,
     "metadata": {},
     "output_type": "execute_result"
    }
   ],
   "source": [
    "epics_df.template.unique()"
   ]
  },
  {
   "cell_type": "code",
   "execution_count": 222,
   "metadata": {},
   "outputs": [
    {
     "name": "stdout",
     "output_type": "stream",
     "text": [
      "['Síntese tecnologia e informatica (88)' 'Memory (66)' 'Siplanweb (61)'\n",
      " 'Portaltp (61)' 'Portal Facil (60)' 'Portal Facil (46)' 'PT (45)'\n",
      " 'Template2 (28)' 'GRP (27)' 'Betha (26)' 'Template1 (22)' 'ADPM (22)'\n",
      " 'ABO (21)' 'Municipal Net (11)' 'ADPM (7)' 'Belo Horizonte' 'Contagem'\n",
      " 'Uberlândia' 'Juiz de Fora' 'Betim']\n"
     ]
    },
    {
     "data": {
      "application/vnd.plotly.v1+json": {
       "config": {
        "plotlyServerURL": "https://plot.ly"
       },
       "data": [
        {
         "alignmentgroup": "True",
         "hovertemplate": "state=Coletado<br>Template / Município=%{x}<br>#Coletores=%{y}<extra></extra>",
         "legendgroup": "Coletado",
         "marker": {
          "color": "green",
          "opacity": 0.75,
          "pattern": {
           "shape": ""
          }
         },
         "name": "Coletado",
         "offsetgroup": "Coletado",
         "orientation": "v",
         "showlegend": true,
         "textposition": "auto",
         "type": "bar",
         "x": [
          "Template2 (28)",
          "Template1 (22)",
          "Template1 (22)",
          "Template1 (22)",
          "Template1 (22)",
          "Template1 (22)",
          "Template1 (22)",
          "Template1 (22)",
          "Template1 (22)",
          "Template1 (22)",
          "Template1 (22)",
          "Template1 (22)",
          "Template1 (22)",
          "Template1 (22)",
          "Template1 (22)",
          "Template1 (22)",
          "Template1 (22)",
          "Template1 (22)",
          "Template1 (22)",
          "Template1 (22)",
          "Síntese tecnologia (88)",
          "Síntese tecnologia (88)",
          "Síntese tecnologia (88)",
          "Síntese tecnologia (88)",
          "Síntese tecnologia (88)",
          "Síntese tecnologia (88)",
          "Síntese tecnologia (88)",
          "Síntese tecnologia (88)",
          "Síntese tecnologia (88)",
          "Síntese tecnologia (88)",
          "Siplanweb (61)",
          "Siplanweb (61)",
          "Siplanweb (61)",
          "Siplanweb (61)",
          "Siplanweb (61)",
          "Siplanweb (61)",
          "Siplanweb (61)",
          "Siplanweb (61)",
          "Siplanweb (61)",
          "Siplanweb (61)",
          "Siplanweb (61)",
          "Siplanweb (61)",
          "Siplanweb (61)",
          "Siplanweb (61)",
          "Siplanweb (61)",
          "Siplanweb (61)",
          "Siplanweb (61)",
          "Portaltp (61)",
          "Portaltp (61)",
          "Portaltp (61)",
          "Portal Facil (60)",
          "Portal Facil (46)",
          "Portal Facil (46)",
          "Portal Facil (46)",
          "PT (45)",
          "PT (45)",
          "PT (45)",
          "PT (45)",
          "PT (45)",
          "PT (45)",
          "PT (45)",
          "PT (45)",
          "PT (45)",
          "PT (45)",
          "PT (45)",
          "PT (45)",
          "PT (45)",
          "PT (45)",
          "PT (45)",
          "PT (45)",
          "PT (45)",
          "PT (45)",
          "PT (45)",
          "PT (45)",
          "PT (45)",
          "PT (45)",
          "Memory (66)",
          "Memory (66)",
          "Memory (66)",
          "Memory (66)",
          "Memory (66)",
          "Memory (66)",
          "Memory (66)",
          "Memory (66)",
          "Memory (66)",
          "Memory (66)",
          "Memory (66)",
          "Memory (66)",
          "Memory (66)",
          "Memory (66)",
          "GRP (27)",
          "GRP (27)",
          "GRP (27)",
          "GRP (27)",
          "GRP (27)",
          "GRP (27)",
          "GRP (27)",
          "GRP (27)",
          "Betha (26)",
          "Betha (26)",
          "Betha (26)",
          "Betha (26)",
          "Betha (26)",
          "Betha (26)",
          "Betha (26)",
          "Betha (26)",
          "Betha (26)",
          "Betha (26)",
          "Betha (26)",
          "Betha (26)",
          "Betha (26)",
          "Betha (26)",
          "Betha (26)",
          "Betha (26)",
          "Betha (26)",
          "Betha (26)",
          "Betha (26)",
          "ADPM (22)",
          "ADPM (22)",
          "ADPM (22)",
          "ADPM (22)",
          "ADPM (22)",
          "ADPM (22)",
          "ADPM (22)",
          "ADPM (22)",
          "ADPM (22)",
          "ADPM (22)",
          "ADPM (22)",
          "ABO (21)",
          "ABO (21)",
          "ABO (21)",
          "ABO (21)",
          "ABO (21)",
          "ABO (21)",
          "ABO (21)",
          "ABO (21)",
          "ABO (21)",
          "ABO (21)",
          "ABO (21)",
          "ABO (21)",
          "ABO (21)",
          "ABO (21)",
          "ABO (21)",
          "ABO (21)",
          "ABO (21)"
         ],
         "xaxis": "x",
         "y": [
          1,
          1,
          1,
          1,
          1,
          1,
          1,
          1,
          1,
          1,
          1,
          1,
          1,
          1,
          1,
          1,
          1,
          1,
          1,
          1,
          1,
          1,
          1,
          1,
          1,
          1,
          1,
          1,
          1,
          1,
          1,
          1,
          1,
          1,
          1,
          1,
          1,
          1,
          1,
          1,
          1,
          1,
          1,
          1,
          1,
          1,
          1,
          1,
          1,
          1,
          1,
          1,
          1,
          1,
          1,
          1,
          1,
          1,
          1,
          1,
          1,
          1,
          1,
          1,
          1,
          1,
          1,
          1,
          1,
          1,
          1,
          1,
          1,
          1,
          1,
          1,
          1,
          1,
          1,
          1,
          1,
          1,
          1,
          1,
          1,
          1,
          1,
          1,
          1,
          1,
          1,
          1,
          1,
          1,
          1,
          1,
          1,
          1,
          1,
          1,
          1,
          1,
          1,
          1,
          1,
          1,
          1,
          1,
          1,
          1,
          1,
          1,
          1,
          1,
          1,
          1,
          1,
          1,
          1,
          1,
          1,
          1,
          1,
          1,
          1,
          1,
          1,
          1,
          1,
          1,
          1,
          1,
          1,
          1,
          1,
          1,
          1,
          1,
          1,
          1,
          1,
          1,
          1,
          1,
          1
         ],
         "yaxis": "y"
        },
        {
         "alignmentgroup": "True",
         "hovertemplate": "state=Coletado (autom.)<br>Template / Município=%{x}<br>#Coletores=%{y}<extra></extra>",
         "legendgroup": "Coletado (autom.)",
         "marker": {
          "color": "#92d696",
          "opacity": 0.75,
          "pattern": {
           "shape": ""
          }
         },
         "name": "Coletado (autom.)",
         "offsetgroup": "Coletado (autom.)",
         "orientation": "v",
         "showlegend": true,
         "textposition": "auto",
         "type": "bar",
         "x": [
          "Template2 (28)",
          "Template2 (28)",
          "Template2 (28)",
          "Template2 (28)"
         ],
         "xaxis": "x",
         "y": [
          1,
          1,
          1,
          1
         ],
         "yaxis": "y"
        },
        {
         "alignmentgroup": "True",
         "hovertemplate": "state=Com bloqueio<br>Template / Município=%{x}<br>#Coletores=%{y}<extra></extra>",
         "legendgroup": "Com bloqueio",
         "marker": {
          "color": "#9F2B68",
          "opacity": 0.75,
          "pattern": {
           "shape": ""
          }
         },
         "name": "Com bloqueio",
         "offsetgroup": "Com bloqueio",
         "orientation": "v",
         "showlegend": true,
         "textposition": "auto",
         "type": "bar",
         "x": [
          "Municipal Net (11)",
          "Betha (26)",
          "Betha (26)",
          "Betha (26)"
         ],
         "xaxis": "x",
         "y": [
          1,
          1,
          1,
          1
         ],
         "yaxis": "y"
        },
        {
         "alignmentgroup": "True",
         "hovertemplate": "state=Com epic criada<br>Template / Município=%{x}<br>#Coletores=%{y}<extra></extra>",
         "legendgroup": "Com epic criada",
         "marker": {
          "color": "#64b5cd",
          "opacity": 0.75,
          "pattern": {
           "shape": ""
          }
         },
         "name": "Com epic criada",
         "offsetgroup": "Com epic criada",
         "orientation": "v",
         "showlegend": true,
         "textposition": "auto",
         "type": "bar",
         "x": [
          "Template2 (28)",
          "Síntese tecnologia (88)",
          "Síntese tecnologia (88)",
          "Síntese tecnologia (88)",
          "Síntese tecnologia (88)",
          "Síntese tecnologia (88)",
          "Síntese tecnologia (88)",
          "Síntese tecnologia (88)",
          "Síntese tecnologia (88)",
          "Síntese tecnologia (88)",
          "Portaltp (61)",
          "Portaltp (61)",
          "Portaltp (61)",
          "Portal Facil (60)",
          "Portal Facil (60)",
          "Portal Facil (60)",
          "Portal Facil (46)",
          "PT (45)",
          "PT (45)",
          "GRP (27)",
          "GRP (27)",
          "GRP (27)",
          "GRP (27)",
          "GRP (27)",
          "GRP (27)",
          "GRP (27)",
          "GRP (27)",
          "GRP (27)",
          "ABO (21)"
         ],
         "xaxis": "x",
         "y": [
          1,
          1,
          1,
          1,
          1,
          1,
          1,
          1,
          1,
          1,
          1,
          1,
          1,
          1,
          1,
          1,
          1,
          1,
          1,
          1,
          1,
          1,
          1,
          1,
          1,
          1,
          1,
          1,
          1
         ],
         "yaxis": "y"
        },
        {
         "alignmentgroup": "True",
         "hovertemplate": "state=Estimado<br>Template / Município=%{x}<br>#Coletores=%{y}<extra></extra>",
         "legendgroup": "Estimado",
         "marker": {
          "color": "lightblue",
          "opacity": 0.75,
          "pattern": {
           "shape": ""
          }
         },
         "name": "Estimado",
         "offsetgroup": "Estimado",
         "orientation": "v",
         "showlegend": true,
         "textposition": "auto",
         "type": "bar",
         "x": [
          "Template2 (28)",
          "Template2 (28)",
          "Template2 (28)",
          "Template2 (28)",
          "Template2 (28)",
          "Template2 (28)",
          "Template2 (28)",
          "Template2 (28)",
          "Template2 (28)",
          "Template2 (28)",
          "Template2 (28)",
          "Template2 (28)",
          "Template2 (28)",
          "Template2 (28)",
          "Template2 (28)",
          "Template2 (28)",
          "Template2 (28)",
          "Template2 (28)",
          "Template2 (28)",
          "Template2 (28)",
          "Template2 (28)",
          "Template2 (28)",
          "Template2 (28)",
          "Template1 (22)",
          "Síntese tecnologia (88)",
          "Síntese tecnologia (88)",
          "Síntese tecnologia (88)",
          "Síntese tecnologia (88)",
          "Portaltp (61)",
          "Portaltp (61)",
          "Portaltp (61)",
          "Portaltp (61)",
          "Portaltp (61)",
          "Portaltp (61)",
          "Portaltp (61)",
          "Portaltp (61)",
          "Portaltp (61)",
          "Portaltp (61)",
          "Portaltp (61)",
          "Portaltp (61)",
          "Portaltp (61)",
          "Portaltp (61)",
          "Portaltp (61)",
          "Portaltp (61)",
          "Portaltp (61)",
          "Portaltp (61)",
          "Portaltp (61)",
          "Portaltp (61)",
          "Portaltp (61)",
          "Portaltp (61)",
          "Portaltp (61)",
          "Portal Facil (60)",
          "Portal Facil (60)",
          "Portal Facil (60)",
          "Portal Facil (60)",
          "Portal Facil (60)",
          "Portal Facil (60)",
          "Portal Facil (60)",
          "Portal Facil (60)",
          "Portal Facil (60)",
          "Portal Facil (60)",
          "Portal Facil (60)",
          "Portal Facil (60)",
          "Portal Facil (60)",
          "Portal Facil (60)",
          "Portal Facil (46)",
          "Portal Facil (46)",
          "Portal Facil (46)",
          "Portal Facil (46)",
          "Portal Facil (46)",
          "Portal Facil (46)",
          "Portal Facil (46)",
          "Portal Facil (46)",
          "Portal Facil (46)",
          "Portal Facil (46)",
          "Municipal Net (11)",
          "Municipal Net (11)",
          "Municipal Net (11)",
          "Municipal Net (11)",
          "Municipal Net (11)",
          "Municipal Net (11)",
          "Municipal Net (11)",
          "Municipal Net (11)",
          "Municipal Net (11)",
          "Municipal Net (11)",
          "Municipal Net (11)",
          "Municipal Net (11)",
          "Municipal Net (11)",
          "Municipal Net (11)",
          "Municipal Net (11)",
          "GRP (27)",
          "GRP (27)",
          "GRP (27)",
          "GRP (27)",
          "GRP (27)",
          "GRP (27)",
          "GRP (27)",
          "GRP (27)",
          "GRP (27)",
          "GRP (27)",
          "ADPM (7)",
          "ADPM (7)",
          "ADPM (7)",
          "ADPM (7)",
          "ADPM (7)",
          "ADPM (7)",
          "ADPM (7)",
          "ADPM (7)",
          "ADPM (7)",
          "ADPM (7)",
          "ADPM (7)",
          "ADPM (7)",
          "ADPM (7)",
          "ADPM (7)",
          "ADPM (7)",
          "ADPM (7)",
          "ADPM (7)",
          "ADPM (7)",
          "ADPM (7)",
          "ADPM (7)",
          "ADPM (7)",
          "ADPM (7)",
          "ADPM (7)",
          "ADPM (7)",
          "ADPM (7)",
          "ADPM (7)",
          "ADPM (7)",
          "ADPM (7)",
          "ADPM (7)",
          "(m5) Betim",
          "(m5) Betim",
          "(m5) Betim",
          "(m5) Betim",
          "(m5) Betim",
          "(m5) Betim",
          "(m5) Betim",
          "(m5) Betim",
          "(m5) Betim",
          "(m5) Betim",
          "(m5) Betim",
          "(m5) Betim",
          "(m5) Betim",
          "(m5) Betim",
          "(m5) Betim",
          "(m5) Betim",
          "(m5) Betim",
          "(m5) Betim",
          "(m5) Betim",
          "(m5) Betim",
          "(m5) Betim",
          "(m5) Betim",
          "(m5) Betim",
          "(m5) Betim",
          "(m5) Betim",
          "(m5) Betim",
          "(m5) Betim",
          "(m5) Betim",
          "(m5) Betim",
          "(m4) Juiz de Fora",
          "(m4) Juiz de Fora",
          "(m4) Juiz de Fora",
          "(m4) Juiz de Fora",
          "(m4) Juiz de Fora",
          "(m4) Juiz de Fora",
          "(m4) Juiz de Fora",
          "(m4) Juiz de Fora",
          "(m4) Juiz de Fora",
          "(m4) Juiz de Fora",
          "(m4) Juiz de Fora",
          "(m4) Juiz de Fora",
          "(m4) Juiz de Fora",
          "(m4) Juiz de Fora",
          "(m4) Juiz de Fora",
          "(m4) Juiz de Fora",
          "(m4) Juiz de Fora",
          "(m4) Juiz de Fora",
          "(m4) Juiz de Fora",
          "(m4) Juiz de Fora",
          "(m4) Juiz de Fora",
          "(m4) Juiz de Fora",
          "(m4) Juiz de Fora",
          "(m4) Juiz de Fora",
          "(m4) Juiz de Fora",
          "(m4) Juiz de Fora",
          "(m4) Juiz de Fora",
          "(m4) Juiz de Fora",
          "(m4) Juiz de Fora",
          "(m3) Uberlândia",
          "(m3) Uberlândia",
          "(m3) Uberlândia",
          "(m3) Uberlândia",
          "(m3) Uberlândia",
          "(m3) Uberlândia",
          "(m3) Uberlândia",
          "(m3) Uberlândia",
          "(m3) Uberlândia",
          "(m3) Uberlândia",
          "(m3) Uberlândia",
          "(m3) Uberlândia",
          "(m3) Uberlândia",
          "(m3) Uberlândia",
          "(m3) Uberlândia",
          "(m3) Uberlândia",
          "(m3) Uberlândia",
          "(m3) Uberlândia",
          "(m3) Uberlândia",
          "(m3) Uberlândia",
          "(m3) Uberlândia",
          "(m3) Uberlândia",
          "(m3) Uberlândia",
          "(m3) Uberlândia",
          "(m3) Uberlândia",
          "(m3) Uberlândia",
          "(m3) Uberlândia",
          "(m3) Uberlândia",
          "(m3) Uberlândia",
          "(m2) Contagem",
          "(m2) Contagem",
          "(m2) Contagem",
          "(m2) Contagem",
          "(m2) Contagem",
          "(m2) Contagem",
          "(m2) Contagem",
          "(m2) Contagem",
          "(m2) Contagem",
          "(m2) Contagem",
          "(m2) Contagem",
          "(m2) Contagem",
          "(m2) Contagem",
          "(m2) Contagem",
          "(m2) Contagem",
          "(m2) Contagem",
          "(m2) Contagem",
          "(m2) Contagem",
          "(m2) Contagem",
          "(m2) Contagem",
          "(m2) Contagem",
          "(m2) Contagem",
          "(m2) Contagem",
          "(m2) Contagem",
          "(m2) Contagem",
          "(m2) Contagem",
          "(m2) Contagem",
          "(m2) Contagem",
          "(m2) Contagem",
          "(m1) Belo Horizonte",
          "(m1) Belo Horizonte",
          "(m1) Belo Horizonte",
          "(m1) Belo Horizonte",
          "(m1) Belo Horizonte",
          "(m1) Belo Horizonte",
          "(m1) Belo Horizonte",
          "(m1) Belo Horizonte",
          "(m1) Belo Horizonte",
          "(m1) Belo Horizonte",
          "(m1) Belo Horizonte",
          "(m1) Belo Horizonte",
          "(m1) Belo Horizonte",
          "(m1) Belo Horizonte",
          "(m1) Belo Horizonte",
          "(m1) Belo Horizonte",
          "(m1) Belo Horizonte",
          "(m1) Belo Horizonte",
          "(m1) Belo Horizonte",
          "(m1) Belo Horizonte",
          "(m1) Belo Horizonte",
          "(m1) Belo Horizonte",
          "(m1) Belo Horizonte",
          "(m1) Belo Horizonte",
          "(m1) Belo Horizonte",
          "(m1) Belo Horizonte",
          "(m1) Belo Horizonte",
          "(m1) Belo Horizonte",
          "(m1) Belo Horizonte"
         ],
         "xaxis": "x",
         "y": [
          1,
          1,
          1,
          1,
          1,
          1,
          1,
          1,
          1,
          1,
          1,
          1,
          1,
          1,
          1,
          1,
          1,
          1,
          1,
          1,
          1,
          1,
          1,
          1,
          1,
          1,
          1,
          1,
          1,
          1,
          1,
          1,
          1,
          1,
          1,
          1,
          1,
          1,
          1,
          1,
          1,
          1,
          1,
          1,
          1,
          1,
          1,
          1,
          1,
          1,
          1,
          1,
          1,
          1,
          1,
          1,
          1,
          1,
          1,
          1,
          1,
          1,
          1,
          1,
          1,
          1,
          1,
          1,
          1,
          1,
          1,
          1,
          1,
          1,
          1,
          1,
          1,
          1,
          1,
          1,
          1,
          1,
          1,
          1,
          1,
          1,
          1,
          1,
          1,
          1,
          1,
          1,
          1,
          1,
          1,
          1,
          1,
          1,
          1,
          1,
          1,
          1,
          1,
          1,
          1,
          1,
          1,
          1,
          1,
          1,
          1,
          1,
          1,
          1,
          1,
          1,
          1,
          1,
          1,
          1,
          1,
          1,
          1,
          1,
          1,
          1,
          1,
          1,
          1,
          1,
          1,
          1,
          1,
          1,
          1,
          1,
          1,
          1,
          1,
          1,
          1,
          1,
          1,
          1,
          1,
          1,
          1,
          1,
          1,
          1,
          1,
          1,
          1,
          1,
          1,
          1,
          1,
          1,
          1,
          1,
          1,
          1,
          1,
          1,
          1,
          1,
          1,
          1,
          1,
          1,
          1,
          1,
          1,
          1,
          1,
          1,
          1,
          1,
          1,
          1,
          1,
          1,
          1,
          1,
          1,
          1,
          1,
          1,
          1,
          1,
          1,
          1,
          1,
          1,
          1,
          1,
          1,
          1,
          1,
          1,
          1,
          1,
          1,
          1,
          1,
          1,
          1,
          1,
          1,
          1,
          1,
          1,
          1,
          1,
          1,
          1,
          1,
          1,
          1,
          1,
          1,
          1,
          1,
          1,
          1,
          1,
          1,
          1,
          1,
          1,
          1,
          1,
          1,
          1,
          1,
          1,
          1,
          1,
          1,
          1,
          1,
          1,
          1,
          1,
          1,
          1,
          1,
          1,
          1,
          1,
          1,
          1,
          1,
          1,
          1,
          1,
          1,
          1,
          1,
          1,
          1,
          1,
          1,
          1,
          1,
          1,
          1,
          1,
          1,
          1,
          1,
          1,
          1,
          1
         ],
         "yaxis": "y"
        },
        {
         "alignmentgroup": "True",
         "hovertemplate": "state=Não coletável<br>Template / Município=%{x}<br>#Coletores=%{y}<extra></extra>",
         "legendgroup": "Não coletável",
         "marker": {
          "color": "red",
          "opacity": 0.75,
          "pattern": {
           "shape": ""
          }
         },
         "name": "Não coletável",
         "offsetgroup": "Não coletável",
         "orientation": "v",
         "showlegend": true,
         "textposition": "auto",
         "type": "bar",
         "x": [
          "Template1 (22)",
          "Template1 (22)",
          "Template1 (22)",
          "Template1 (22)",
          "Síntese tecnologia (88)",
          "Síntese tecnologia (88)",
          "Siplanweb (61)",
          "Siplanweb (61)",
          "Siplanweb (61)",
          "Siplanweb (61)",
          "Siplanweb (61)",
          "Siplanweb (61)",
          "Siplanweb (61)",
          "Siplanweb (61)",
          "Siplanweb (61)",
          "Siplanweb (61)",
          "Siplanweb (61)",
          "Siplanweb (61)",
          "Portal Facil (46)",
          "Portal Facil (46)",
          "Portal Facil (46)",
          "Portal Facil (46)",
          "Portal Facil (46)",
          "PT (45)",
          "PT (45)",
          "PT (45)",
          "PT (45)",
          "PT (45)",
          "Municipal Net (11)",
          "Municipal Net (11)",
          "Municipal Net (11)",
          "Municipal Net (11)",
          "Municipal Net (11)",
          "Municipal Net (11)",
          "Municipal Net (11)",
          "Municipal Net (11)",
          "Municipal Net (11)",
          "Municipal Net (11)",
          "Municipal Net (11)",
          "Municipal Net (11)",
          "Memory (66)",
          "Memory (66)",
          "Memory (66)",
          "Memory (66)",
          "Memory (66)",
          "Memory (66)",
          "Memory (66)",
          "Memory (66)",
          "Memory (66)",
          "Memory (66)",
          "GRP (27)",
          "GRP (27)",
          "Betha (26)",
          "Betha (26)",
          "Betha (26)",
          "Betha (26)",
          "Betha (26)",
          "Betha (26)",
          "Betha (26)",
          "Betha (26)",
          "Betha (26)",
          "Betha (26)",
          "Betha (26)",
          "ADPM (22)",
          "ADPM (22)",
          "ADPM (22)",
          "ADPM (22)",
          "ADPM (22)",
          "ADPM (22)",
          "ADPM (22)",
          "ADPM (22)",
          "ABO (21)",
          "ABO (21)",
          "ABO (21)",
          "ABO (21)",
          "ABO (21)"
         ],
         "xaxis": "x",
         "y": [
          1,
          1,
          1,
          1,
          1,
          1,
          1,
          1,
          1,
          1,
          1,
          1,
          1,
          1,
          1,
          1,
          1,
          1,
          1,
          1,
          1,
          1,
          1,
          1,
          1,
          1,
          1,
          1,
          1,
          1,
          1,
          1,
          1,
          1,
          1,
          1,
          1,
          1,
          1,
          1,
          1,
          1,
          1,
          1,
          1,
          1,
          1,
          1,
          1,
          1,
          1,
          1,
          1,
          1,
          1,
          1,
          1,
          1,
          1,
          1,
          1,
          1,
          1,
          1,
          1,
          1,
          1,
          1,
          1,
          1,
          1,
          1,
          1,
          1,
          1,
          1
         ],
         "yaxis": "y"
        },
        {
         "alignmentgroup": "True",
         "hovertemplate": "state=Não coletável (autom.)<br>Template / Município=%{x}<br>#Coletores=%{y}<extra></extra>",
         "legendgroup": "Não coletável (autom.)",
         "marker": {
          "color": "#ff9e99",
          "opacity": 0.75,
          "pattern": {
           "shape": ""
          }
         },
         "name": "Não coletável (autom.)",
         "offsetgroup": "Não coletável (autom.)",
         "orientation": "v",
         "showlegend": true,
         "textposition": "auto",
         "type": "bar",
         "x": [
          "Síntese tecnologia (88)",
          "Síntese tecnologia (88)",
          "Síntese tecnologia (88)",
          "Síntese tecnologia (88)"
         ],
         "xaxis": "x",
         "y": [
          1,
          1,
          1,
          1
         ],
         "yaxis": "y"
        }
       ],
       "layout": {
        "barmode": "relative",
        "font": {
         "size": 18
        },
        "height": 800,
        "legend": {
         "title": {
          "text": "state"
         },
         "tracegroupgap": 0
        },
        "template": {
         "data": {
          "bar": [
           {
            "error_x": {
             "color": "#2a3f5f"
            },
            "error_y": {
             "color": "#2a3f5f"
            },
            "marker": {
             "line": {
              "color": "#E5ECF6",
              "width": 0.5
             },
             "pattern": {
              "fillmode": "overlay",
              "size": 10,
              "solidity": 0.2
             }
            },
            "type": "bar"
           }
          ],
          "barpolar": [
           {
            "marker": {
             "line": {
              "color": "#E5ECF6",
              "width": 0.5
             },
             "pattern": {
              "fillmode": "overlay",
              "size": 10,
              "solidity": 0.2
             }
            },
            "type": "barpolar"
           }
          ],
          "carpet": [
           {
            "aaxis": {
             "endlinecolor": "#2a3f5f",
             "gridcolor": "white",
             "linecolor": "white",
             "minorgridcolor": "white",
             "startlinecolor": "#2a3f5f"
            },
            "baxis": {
             "endlinecolor": "#2a3f5f",
             "gridcolor": "white",
             "linecolor": "white",
             "minorgridcolor": "white",
             "startlinecolor": "#2a3f5f"
            },
            "type": "carpet"
           }
          ],
          "choropleth": [
           {
            "colorbar": {
             "outlinewidth": 0,
             "ticks": ""
            },
            "type": "choropleth"
           }
          ],
          "contour": [
           {
            "colorbar": {
             "outlinewidth": 0,
             "ticks": ""
            },
            "colorscale": [
             [
              0,
              "#0d0887"
             ],
             [
              0.1111111111111111,
              "#46039f"
             ],
             [
              0.2222222222222222,
              "#7201a8"
             ],
             [
              0.3333333333333333,
              "#9c179e"
             ],
             [
              0.4444444444444444,
              "#bd3786"
             ],
             [
              0.5555555555555556,
              "#d8576b"
             ],
             [
              0.6666666666666666,
              "#ed7953"
             ],
             [
              0.7777777777777778,
              "#fb9f3a"
             ],
             [
              0.8888888888888888,
              "#fdca26"
             ],
             [
              1,
              "#f0f921"
             ]
            ],
            "type": "contour"
           }
          ],
          "contourcarpet": [
           {
            "colorbar": {
             "outlinewidth": 0,
             "ticks": ""
            },
            "type": "contourcarpet"
           }
          ],
          "heatmap": [
           {
            "colorbar": {
             "outlinewidth": 0,
             "ticks": ""
            },
            "colorscale": [
             [
              0,
              "#0d0887"
             ],
             [
              0.1111111111111111,
              "#46039f"
             ],
             [
              0.2222222222222222,
              "#7201a8"
             ],
             [
              0.3333333333333333,
              "#9c179e"
             ],
             [
              0.4444444444444444,
              "#bd3786"
             ],
             [
              0.5555555555555556,
              "#d8576b"
             ],
             [
              0.6666666666666666,
              "#ed7953"
             ],
             [
              0.7777777777777778,
              "#fb9f3a"
             ],
             [
              0.8888888888888888,
              "#fdca26"
             ],
             [
              1,
              "#f0f921"
             ]
            ],
            "type": "heatmap"
           }
          ],
          "heatmapgl": [
           {
            "colorbar": {
             "outlinewidth": 0,
             "ticks": ""
            },
            "colorscale": [
             [
              0,
              "#0d0887"
             ],
             [
              0.1111111111111111,
              "#46039f"
             ],
             [
              0.2222222222222222,
              "#7201a8"
             ],
             [
              0.3333333333333333,
              "#9c179e"
             ],
             [
              0.4444444444444444,
              "#bd3786"
             ],
             [
              0.5555555555555556,
              "#d8576b"
             ],
             [
              0.6666666666666666,
              "#ed7953"
             ],
             [
              0.7777777777777778,
              "#fb9f3a"
             ],
             [
              0.8888888888888888,
              "#fdca26"
             ],
             [
              1,
              "#f0f921"
             ]
            ],
            "type": "heatmapgl"
           }
          ],
          "histogram": [
           {
            "marker": {
             "pattern": {
              "fillmode": "overlay",
              "size": 10,
              "solidity": 0.2
             }
            },
            "type": "histogram"
           }
          ],
          "histogram2d": [
           {
            "colorbar": {
             "outlinewidth": 0,
             "ticks": ""
            },
            "colorscale": [
             [
              0,
              "#0d0887"
             ],
             [
              0.1111111111111111,
              "#46039f"
             ],
             [
              0.2222222222222222,
              "#7201a8"
             ],
             [
              0.3333333333333333,
              "#9c179e"
             ],
             [
              0.4444444444444444,
              "#bd3786"
             ],
             [
              0.5555555555555556,
              "#d8576b"
             ],
             [
              0.6666666666666666,
              "#ed7953"
             ],
             [
              0.7777777777777778,
              "#fb9f3a"
             ],
             [
              0.8888888888888888,
              "#fdca26"
             ],
             [
              1,
              "#f0f921"
             ]
            ],
            "type": "histogram2d"
           }
          ],
          "histogram2dcontour": [
           {
            "colorbar": {
             "outlinewidth": 0,
             "ticks": ""
            },
            "colorscale": [
             [
              0,
              "#0d0887"
             ],
             [
              0.1111111111111111,
              "#46039f"
             ],
             [
              0.2222222222222222,
              "#7201a8"
             ],
             [
              0.3333333333333333,
              "#9c179e"
             ],
             [
              0.4444444444444444,
              "#bd3786"
             ],
             [
              0.5555555555555556,
              "#d8576b"
             ],
             [
              0.6666666666666666,
              "#ed7953"
             ],
             [
              0.7777777777777778,
              "#fb9f3a"
             ],
             [
              0.8888888888888888,
              "#fdca26"
             ],
             [
              1,
              "#f0f921"
             ]
            ],
            "type": "histogram2dcontour"
           }
          ],
          "mesh3d": [
           {
            "colorbar": {
             "outlinewidth": 0,
             "ticks": ""
            },
            "type": "mesh3d"
           }
          ],
          "parcoords": [
           {
            "line": {
             "colorbar": {
              "outlinewidth": 0,
              "ticks": ""
             }
            },
            "type": "parcoords"
           }
          ],
          "pie": [
           {
            "automargin": true,
            "type": "pie"
           }
          ],
          "scatter": [
           {
            "marker": {
             "colorbar": {
              "outlinewidth": 0,
              "ticks": ""
             }
            },
            "type": "scatter"
           }
          ],
          "scatter3d": [
           {
            "line": {
             "colorbar": {
              "outlinewidth": 0,
              "ticks": ""
             }
            },
            "marker": {
             "colorbar": {
              "outlinewidth": 0,
              "ticks": ""
             }
            },
            "type": "scatter3d"
           }
          ],
          "scattercarpet": [
           {
            "marker": {
             "colorbar": {
              "outlinewidth": 0,
              "ticks": ""
             }
            },
            "type": "scattercarpet"
           }
          ],
          "scattergeo": [
           {
            "marker": {
             "colorbar": {
              "outlinewidth": 0,
              "ticks": ""
             }
            },
            "type": "scattergeo"
           }
          ],
          "scattergl": [
           {
            "marker": {
             "colorbar": {
              "outlinewidth": 0,
              "ticks": ""
             }
            },
            "type": "scattergl"
           }
          ],
          "scattermapbox": [
           {
            "marker": {
             "colorbar": {
              "outlinewidth": 0,
              "ticks": ""
             }
            },
            "type": "scattermapbox"
           }
          ],
          "scatterpolar": [
           {
            "marker": {
             "colorbar": {
              "outlinewidth": 0,
              "ticks": ""
             }
            },
            "type": "scatterpolar"
           }
          ],
          "scatterpolargl": [
           {
            "marker": {
             "colorbar": {
              "outlinewidth": 0,
              "ticks": ""
             }
            },
            "type": "scatterpolargl"
           }
          ],
          "scatterternary": [
           {
            "marker": {
             "colorbar": {
              "outlinewidth": 0,
              "ticks": ""
             }
            },
            "type": "scatterternary"
           }
          ],
          "surface": [
           {
            "colorbar": {
             "outlinewidth": 0,
             "ticks": ""
            },
            "colorscale": [
             [
              0,
              "#0d0887"
             ],
             [
              0.1111111111111111,
              "#46039f"
             ],
             [
              0.2222222222222222,
              "#7201a8"
             ],
             [
              0.3333333333333333,
              "#9c179e"
             ],
             [
              0.4444444444444444,
              "#bd3786"
             ],
             [
              0.5555555555555556,
              "#d8576b"
             ],
             [
              0.6666666666666666,
              "#ed7953"
             ],
             [
              0.7777777777777778,
              "#fb9f3a"
             ],
             [
              0.8888888888888888,
              "#fdca26"
             ],
             [
              1,
              "#f0f921"
             ]
            ],
            "type": "surface"
           }
          ],
          "table": [
           {
            "cells": {
             "fill": {
              "color": "#EBF0F8"
             },
             "line": {
              "color": "white"
             }
            },
            "header": {
             "fill": {
              "color": "#C8D4E3"
             },
             "line": {
              "color": "white"
             }
            },
            "type": "table"
           }
          ]
         },
         "layout": {
          "annotationdefaults": {
           "arrowcolor": "#2a3f5f",
           "arrowhead": 0,
           "arrowwidth": 1
          },
          "autotypenumbers": "strict",
          "coloraxis": {
           "colorbar": {
            "outlinewidth": 0,
            "ticks": ""
           }
          },
          "colorscale": {
           "diverging": [
            [
             0,
             "#8e0152"
            ],
            [
             0.1,
             "#c51b7d"
            ],
            [
             0.2,
             "#de77ae"
            ],
            [
             0.3,
             "#f1b6da"
            ],
            [
             0.4,
             "#fde0ef"
            ],
            [
             0.5,
             "#f7f7f7"
            ],
            [
             0.6,
             "#e6f5d0"
            ],
            [
             0.7,
             "#b8e186"
            ],
            [
             0.8,
             "#7fbc41"
            ],
            [
             0.9,
             "#4d9221"
            ],
            [
             1,
             "#276419"
            ]
           ],
           "sequential": [
            [
             0,
             "#0d0887"
            ],
            [
             0.1111111111111111,
             "#46039f"
            ],
            [
             0.2222222222222222,
             "#7201a8"
            ],
            [
             0.3333333333333333,
             "#9c179e"
            ],
            [
             0.4444444444444444,
             "#bd3786"
            ],
            [
             0.5555555555555556,
             "#d8576b"
            ],
            [
             0.6666666666666666,
             "#ed7953"
            ],
            [
             0.7777777777777778,
             "#fb9f3a"
            ],
            [
             0.8888888888888888,
             "#fdca26"
            ],
            [
             1,
             "#f0f921"
            ]
           ],
           "sequentialminus": [
            [
             0,
             "#0d0887"
            ],
            [
             0.1111111111111111,
             "#46039f"
            ],
            [
             0.2222222222222222,
             "#7201a8"
            ],
            [
             0.3333333333333333,
             "#9c179e"
            ],
            [
             0.4444444444444444,
             "#bd3786"
            ],
            [
             0.5555555555555556,
             "#d8576b"
            ],
            [
             0.6666666666666666,
             "#ed7953"
            ],
            [
             0.7777777777777778,
             "#fb9f3a"
            ],
            [
             0.8888888888888888,
             "#fdca26"
            ],
            [
             1,
             "#f0f921"
            ]
           ]
          },
          "colorway": [
           "#636efa",
           "#EF553B",
           "#00cc96",
           "#ab63fa",
           "#FFA15A",
           "#19d3f3",
           "#FF6692",
           "#B6E880",
           "#FF97FF",
           "#FECB52"
          ],
          "font": {
           "color": "#2a3f5f"
          },
          "geo": {
           "bgcolor": "white",
           "lakecolor": "white",
           "landcolor": "#E5ECF6",
           "showlakes": true,
           "showland": true,
           "subunitcolor": "white"
          },
          "hoverlabel": {
           "align": "left"
          },
          "hovermode": "closest",
          "mapbox": {
           "style": "light"
          },
          "paper_bgcolor": "white",
          "plot_bgcolor": "#E5ECF6",
          "polar": {
           "angularaxis": {
            "gridcolor": "white",
            "linecolor": "white",
            "ticks": ""
           },
           "bgcolor": "#E5ECF6",
           "radialaxis": {
            "gridcolor": "white",
            "linecolor": "white",
            "ticks": ""
           }
          },
          "scene": {
           "xaxis": {
            "backgroundcolor": "#E5ECF6",
            "gridcolor": "white",
            "gridwidth": 2,
            "linecolor": "white",
            "showbackground": true,
            "ticks": "",
            "zerolinecolor": "white"
           },
           "yaxis": {
            "backgroundcolor": "#E5ECF6",
            "gridcolor": "white",
            "gridwidth": 2,
            "linecolor": "white",
            "showbackground": true,
            "ticks": "",
            "zerolinecolor": "white"
           },
           "zaxis": {
            "backgroundcolor": "#E5ECF6",
            "gridcolor": "white",
            "gridwidth": 2,
            "linecolor": "white",
            "showbackground": true,
            "ticks": "",
            "zerolinecolor": "white"
           }
          },
          "shapedefaults": {
           "line": {
            "color": "#2a3f5f"
           }
          },
          "ternary": {
           "aaxis": {
            "gridcolor": "white",
            "linecolor": "white",
            "ticks": ""
           },
           "baxis": {
            "gridcolor": "white",
            "linecolor": "white",
            "ticks": ""
           },
           "bgcolor": "#E5ECF6",
           "caxis": {
            "gridcolor": "white",
            "linecolor": "white",
            "ticks": ""
           }
          },
          "title": {
           "x": 0.05
          },
          "xaxis": {
           "automargin": true,
           "gridcolor": "white",
           "linecolor": "white",
           "ticks": "",
           "title": {
            "standoff": 15
           },
           "zerolinecolor": "white",
           "zerolinewidth": 2
          },
          "yaxis": {
           "automargin": true,
           "gridcolor": "white",
           "linecolor": "white",
           "ticks": "",
           "title": {
            "standoff": 15
           },
           "zerolinecolor": "white",
           "zerolinewidth": 2
          }
         }
        },
        "title": {
         "text": "Visão Geral - Epics por Template (Coletores feitos e a fazer)"
        },
        "width": 1100,
        "xaxis": {
         "anchor": "y",
         "autorange": true,
         "categoryarray": [
          "PT (45)",
          "Betha (26)",
          "Template1 (22)",
          "ABO (21)",
          "Siplanweb (61)",
          "Memory (66)",
          "ADPM (22)",
          "Síntese tecnologia (88)",
          "GRP (27)",
          "Portal Facil (46)",
          "Portaltp (61)",
          "Portal Facil (60)",
          "Template2 (28)"
         ],
         "categoryorder": "array",
         "domain": [
          0,
          1
         ],
         "range": [
          -0.5,
          19.5
         ],
         "tickangle": 45,
         "title": {
          "text": "Template / Município"
         },
         "type": "category"
        },
        "yaxis": {
         "anchor": "x",
         "autorange": true,
         "domain": [
          0,
          1
         ],
         "range": [
          0,
          34.73684210526316
         ],
         "title": {
          "text": "#Coletores"
         },
         "type": "linear"
        }
       }
      },
      "image/png": "[encoded data removed]",
      "text/html": [
       "<div>                            <div id=\"da0f189d-2861-4996-bfa9-2b9eaf10973e\" class=\"plotly-graph-div\" style=\"height:800px; width:1100px;\"></div>            <script type=\"text/javascript\">                require([\"plotly\"], function(Plotly) {                    window.PLOTLYENV=window.PLOTLYENV || {};                                    if (document.getElementById(\"da0f189d-2861-4996-bfa9-2b9eaf10973e\")) {                    Plotly.newPlot(                        \"da0f189d-2861-4996-bfa9-2b9eaf10973e\",                        [{\"alignmentgroup\":\"True\",\"hovertemplate\":\"state=Coletado<br>Template / Munic\\u00edpio=%{x}<br>#Coletores=%{y}<extra></extra>\",\"legendgroup\":\"Coletado\",\"marker\":{\"color\":\"green\",\"opacity\":0.75,\"pattern\":{\"shape\":\"\"}},\"name\":\"Coletado\",\"offsetgroup\":\"Coletado\",\"orientation\":\"v\",\"showlegend\":true,\"textposition\":\"auto\",\"type\":\"bar\",\"x\":[\"Template2 (28)\",\"Template1 (22)\",\"Template1 (22)\",\"Template1 (22)\",\"Template1 (22)\",\"Template1 (22)\",\"Template1 (22)\",\"Template1 (22)\",\"Template1 (22)\",\"Template1 (22)\",\"Template1 (22)\",\"Template1 (22)\",\"Template1 (22)\",\"Template1 (22)\",\"Template1 (22)\",\"Template1 (22)\",\"Template1 (22)\",\"Template1 (22)\",\"Template1 (22)\",\"Template1 (22)\",\"S\\u00edntese tecnologia (88)\",\"S\\u00edntese tecnologia (88)\",\"S\\u00edntese tecnologia (88)\",\"S\\u00edntese tecnologia (88)\",\"S\\u00edntese tecnologia (88)\",\"S\\u00edntese tecnologia (88)\",\"S\\u00edntese tecnologia (88)\",\"S\\u00edntese tecnologia (88)\",\"S\\u00edntese tecnologia (88)\",\"S\\u00edntese tecnologia (88)\",\"Siplanweb (61)\",\"Siplanweb (61)\",\"Siplanweb (61)\",\"Siplanweb (61)\",\"Siplanweb (61)\",\"Siplanweb (61)\",\"Siplanweb (61)\",\"Siplanweb (61)\",\"Siplanweb (61)\",\"Siplanweb (61)\",\"Siplanweb (61)\",\"Siplanweb (61)\",\"Siplanweb (61)\",\"Siplanweb (61)\",\"Siplanweb (61)\",\"Siplanweb (61)\",\"Siplanweb (61)\",\"Portaltp (61)\",\"Portaltp (61)\",\"Portaltp (61)\",\"Portal Facil (60)\",\"Portal Facil (46)\",\"Portal Facil (46)\",\"Portal Facil (46)\",\"PT (45)\",\"PT (45)\",\"PT (45)\",\"PT (45)\",\"PT (45)\",\"PT (45)\",\"PT (45)\",\"PT (45)\",\"PT (45)\",\"PT (45)\",\"PT (45)\",\"PT (45)\",\"PT (45)\",\"PT (45)\",\"PT (45)\",\"PT (45)\",\"PT (45)\",\"PT (45)\",\"PT (45)\",\"PT (45)\",\"PT (45)\",\"PT (45)\",\"Memory (66)\",\"Memory (66)\",\"Memory (66)\",\"Memory (66)\",\"Memory (66)\",\"Memory (66)\",\"Memory (66)\",\"Memory (66)\",\"Memory (66)\",\"Memory (66)\",\"Memory (66)\",\"Memory (66)\",\"Memory (66)\",\"Memory (66)\",\"GRP (27)\",\"GRP (27)\",\"GRP (27)\",\"GRP (27)\",\"GRP (27)\",\"GRP (27)\",\"GRP (27)\",\"GRP (27)\",\"Betha (26)\",\"Betha (26)\",\"Betha (26)\",\"Betha (26)\",\"Betha (26)\",\"Betha (26)\",\"Betha (26)\",\"Betha (26)\",\"Betha (26)\",\"Betha (26)\",\"Betha (26)\",\"Betha (26)\",\"Betha (26)\",\"Betha (26)\",\"Betha (26)\",\"Betha (26)\",\"Betha (26)\",\"Betha (26)\",\"Betha (26)\",\"ADPM (22)\",\"ADPM (22)\",\"ADPM (22)\",\"ADPM (22)\",\"ADPM (22)\",\"ADPM (22)\",\"ADPM (22)\",\"ADPM (22)\",\"ADPM (22)\",\"ADPM (22)\",\"ADPM (22)\",\"ABO (21)\",\"ABO (21)\",\"ABO (21)\",\"ABO (21)\",\"ABO (21)\",\"ABO (21)\",\"ABO (21)\",\"ABO (21)\",\"ABO (21)\",\"ABO (21)\",\"ABO (21)\",\"ABO (21)\",\"ABO (21)\",\"ABO (21)\",\"ABO (21)\",\"ABO (21)\",\"ABO (21)\"],\"xaxis\":\"x\",\"y\":[1.0,1.0,1.0,1.0,1.0,1.0,1.0,1.0,1.0,1.0,1.0,1.0,1.0,1.0,1.0,1.0,1.0,1.0,1.0,1.0,1.0,1.0,1.0,1.0,1.0,1.0,1.0,1.0,1.0,1.0,1.0,1.0,1.0,1.0,1.0,1.0,1.0,1.0,1.0,1.0,1.0,1.0,1.0,1.0,1.0,1.0,1.0,1.0,1.0,1.0,1.0,1.0,1.0,1.0,1.0,1.0,1.0,1.0,1.0,1.0,1.0,1.0,1.0,1.0,1.0,1.0,1.0,1.0,1.0,1.0,1.0,1.0,1.0,1.0,1.0,1.0,1.0,1.0,1.0,1.0,1.0,1.0,1.0,1.0,1.0,1.0,1.0,1.0,1.0,1.0,1.0,1.0,1.0,1.0,1.0,1.0,1.0,1.0,1.0,1.0,1.0,1.0,1.0,1.0,1.0,1.0,1.0,1.0,1.0,1.0,1.0,1.0,1.0,1.0,1.0,1.0,1.0,1.0,1.0,1.0,1.0,1.0,1.0,1.0,1.0,1.0,1.0,1.0,1.0,1.0,1.0,1.0,1.0,1.0,1.0,1.0,1.0,1.0,1.0,1.0,1.0,1.0,1.0,1.0,1.0],\"yaxis\":\"y\"},{\"alignmentgroup\":\"True\",\"hovertemplate\":\"state=Coletado (autom.)<br>Template / Munic\\u00edpio=%{x}<br>#Coletores=%{y}<extra></extra>\",\"legendgroup\":\"Coletado (autom.)\",\"marker\":{\"color\":\"#92d696\",\"opacity\":0.75,\"pattern\":{\"shape\":\"\"}},\"name\":\"Coletado (autom.)\",\"offsetgroup\":\"Coletado (autom.)\",\"orientation\":\"v\",\"showlegend\":true,\"textposition\":\"auto\",\"type\":\"bar\",\"x\":[\"Template2 (28)\",\"Template2 (28)\",\"Template2 (28)\",\"Template2 (28)\"],\"xaxis\":\"x\",\"y\":[1.0,1.0,1.0,1.0],\"yaxis\":\"y\"},{\"alignmentgroup\":\"True\",\"hovertemplate\":\"state=Com bloqueio<br>Template / Munic\\u00edpio=%{x}<br>#Coletores=%{y}<extra></extra>\",\"legendgroup\":\"Com bloqueio\",\"marker\":{\"color\":\"#9F2B68\",\"opacity\":0.75,\"pattern\":{\"shape\":\"\"}},\"name\":\"Com bloqueio\",\"offsetgroup\":\"Com bloqueio\",\"orientation\":\"v\",\"showlegend\":true,\"textposition\":\"auto\",\"type\":\"bar\",\"x\":[\"Municipal Net (11)\",\"Betha (26)\",\"Betha (26)\",\"Betha (26)\"],\"xaxis\":\"x\",\"y\":[1.0,1.0,1.0,1.0],\"yaxis\":\"y\"},{\"alignmentgroup\":\"True\",\"hovertemplate\":\"state=Com epic criada<br>Template / Munic\\u00edpio=%{x}<br>#Coletores=%{y}<extra></extra>\",\"legendgroup\":\"Com epic criada\",\"marker\":{\"color\":\"#64b5cd\",\"opacity\":0.75,\"pattern\":{\"shape\":\"\"}},\"name\":\"Com epic criada\",\"offsetgroup\":\"Com epic criada\",\"orientation\":\"v\",\"showlegend\":true,\"textposition\":\"auto\",\"type\":\"bar\",\"x\":[\"Template2 (28)\",\"S\\u00edntese tecnologia (88)\",\"S\\u00edntese tecnologia (88)\",\"S\\u00edntese tecnologia (88)\",\"S\\u00edntese tecnologia (88)\",\"S\\u00edntese tecnologia (88)\",\"S\\u00edntese tecnologia (88)\",\"S\\u00edntese tecnologia (88)\",\"S\\u00edntese tecnologia (88)\",\"S\\u00edntese tecnologia (88)\",\"Portaltp (61)\",\"Portaltp (61)\",\"Portaltp (61)\",\"Portal Facil (60)\",\"Portal Facil (60)\",\"Portal Facil (60)\",\"Portal Facil (46)\",\"PT (45)\",\"PT (45)\",\"GRP (27)\",\"GRP (27)\",\"GRP (27)\",\"GRP (27)\",\"GRP (27)\",\"GRP (27)\",\"GRP (27)\",\"GRP (27)\",\"GRP (27)\",\"ABO (21)\"],\"xaxis\":\"x\",\"y\":[1.0,1.0,1.0,1.0,1.0,1.0,1.0,1.0,1.0,1.0,1.0,1.0,1.0,1.0,1.0,1.0,1.0,1.0,1.0,1.0,1.0,1.0,1.0,1.0,1.0,1.0,1.0,1.0,1.0],\"yaxis\":\"y\"},{\"alignmentgroup\":\"True\",\"hovertemplate\":\"state=Estimado<br>Template / Munic\\u00edpio=%{x}<br>#Coletores=%{y}<extra></extra>\",\"legendgroup\":\"Estimado\",\"marker\":{\"color\":\"lightblue\",\"opacity\":0.75,\"pattern\":{\"shape\":\"\"}},\"name\":\"Estimado\",\"offsetgroup\":\"Estimado\",\"orientation\":\"v\",\"showlegend\":true,\"textposition\":\"auto\",\"type\":\"bar\",\"x\":[\"Template2 (28)\",\"Template2 (28)\",\"Template2 (28)\",\"Template2 (28)\",\"Template2 (28)\",\"Template2 (28)\",\"Template2 (28)\",\"Template2 (28)\",\"Template2 (28)\",\"Template2 (28)\",\"Template2 (28)\",\"Template2 (28)\",\"Template2 (28)\",\"Template2 (28)\",\"Template2 (28)\",\"Template2 (28)\",\"Template2 (28)\",\"Template2 (28)\",\"Template2 (28)\",\"Template2 (28)\",\"Template2 (28)\",\"Template2 (28)\",\"Template2 (28)\",\"Template1 (22)\",\"S\\u00edntese tecnologia (88)\",\"S\\u00edntese tecnologia (88)\",\"S\\u00edntese tecnologia (88)\",\"S\\u00edntese tecnologia (88)\",\"Portaltp (61)\",\"Portaltp (61)\",\"Portaltp (61)\",\"Portaltp (61)\",\"Portaltp (61)\",\"Portaltp (61)\",\"Portaltp (61)\",\"Portaltp (61)\",\"Portaltp (61)\",\"Portaltp (61)\",\"Portaltp (61)\",\"Portaltp (61)\",\"Portaltp (61)\",\"Portaltp (61)\",\"Portaltp (61)\",\"Portaltp (61)\",\"Portaltp (61)\",\"Portaltp (61)\",\"Portaltp (61)\",\"Portaltp (61)\",\"Portaltp (61)\",\"Portaltp (61)\",\"Portaltp (61)\",\"Portal Facil (60)\",\"Portal Facil (60)\",\"Portal Facil (60)\",\"Portal Facil (60)\",\"Portal Facil (60)\",\"Portal Facil (60)\",\"Portal Facil (60)\",\"Portal Facil (60)\",\"Portal Facil (60)\",\"Portal Facil (60)\",\"Portal Facil (60)\",\"Portal Facil (60)\",\"Portal Facil (60)\",\"Portal Facil (60)\",\"Portal Facil (46)\",\"Portal Facil (46)\",\"Portal Facil (46)\",\"Portal Facil (46)\",\"Portal Facil (46)\",\"Portal Facil (46)\",\"Portal Facil (46)\",\"Portal Facil (46)\",\"Portal Facil (46)\",\"Portal Facil (46)\",\"Municipal Net (11)\",\"Municipal Net (11)\",\"Municipal Net (11)\",\"Municipal Net (11)\",\"Municipal Net (11)\",\"Municipal Net (11)\",\"Municipal Net (11)\",\"Municipal Net (11)\",\"Municipal Net (11)\",\"Municipal Net (11)\",\"Municipal Net (11)\",\"Municipal Net (11)\",\"Municipal Net (11)\",\"Municipal Net (11)\",\"Municipal Net (11)\",\"GRP (27)\",\"GRP (27)\",\"GRP (27)\",\"GRP (27)\",\"GRP (27)\",\"GRP (27)\",\"GRP (27)\",\"GRP (27)\",\"GRP (27)\",\"GRP (27)\",\"ADPM (7)\",\"ADPM (7)\",\"ADPM (7)\",\"ADPM (7)\",\"ADPM (7)\",\"ADPM (7)\",\"ADPM (7)\",\"ADPM (7)\",\"ADPM (7)\",\"ADPM (7)\",\"ADPM (7)\",\"ADPM (7)\",\"ADPM (7)\",\"ADPM (7)\",\"ADPM (7)\",\"ADPM (7)\",\"ADPM (7)\",\"ADPM (7)\",\"ADPM (7)\",\"ADPM (7)\",\"ADPM (7)\",\"ADPM (7)\",\"ADPM (7)\",\"ADPM (7)\",\"ADPM (7)\",\"ADPM (7)\",\"ADPM (7)\",\"ADPM (7)\",\"ADPM (7)\",\"(m5) Betim\",\"(m5) Betim\",\"(m5) Betim\",\"(m5) Betim\",\"(m5) Betim\",\"(m5) Betim\",\"(m5) Betim\",\"(m5) Betim\",\"(m5) Betim\",\"(m5) Betim\",\"(m5) Betim\",\"(m5) Betim\",\"(m5) Betim\",\"(m5) Betim\",\"(m5) Betim\",\"(m5) Betim\",\"(m5) Betim\",\"(m5) Betim\",\"(m5) Betim\",\"(m5) Betim\",\"(m5) Betim\",\"(m5) Betim\",\"(m5) Betim\",\"(m5) Betim\",\"(m5) Betim\",\"(m5) Betim\",\"(m5) Betim\",\"(m5) Betim\",\"(m5) Betim\",\"(m4) Juiz de Fora\",\"(m4) Juiz de Fora\",\"(m4) Juiz de Fora\",\"(m4) Juiz de Fora\",\"(m4) Juiz de Fora\",\"(m4) Juiz de Fora\",\"(m4) Juiz de Fora\",\"(m4) Juiz de Fora\",\"(m4) Juiz de Fora\",\"(m4) Juiz de Fora\",\"(m4) Juiz de Fora\",\"(m4) Juiz de Fora\",\"(m4) Juiz de Fora\",\"(m4) Juiz de Fora\",\"(m4) Juiz de Fora\",\"(m4) Juiz de Fora\",\"(m4) Juiz de Fora\",\"(m4) Juiz de Fora\",\"(m4) Juiz de Fora\",\"(m4) Juiz de Fora\",\"(m4) Juiz de Fora\",\"(m4) Juiz de Fora\",\"(m4) Juiz de Fora\",\"(m4) Juiz de Fora\",\"(m4) Juiz de Fora\",\"(m4) Juiz de Fora\",\"(m4) Juiz de Fora\",\"(m4) Juiz de Fora\",\"(m4) Juiz de Fora\",\"(m3) Uberl\\u00e2ndia\",\"(m3) Uberl\\u00e2ndia\",\"(m3) Uberl\\u00e2ndia\",\"(m3) Uberl\\u00e2ndia\",\"(m3) Uberl\\u00e2ndia\",\"(m3) Uberl\\u00e2ndia\",\"(m3) Uberl\\u00e2ndia\",\"(m3) Uberl\\u00e2ndia\",\"(m3) Uberl\\u00e2ndia\",\"(m3) Uberl\\u00e2ndia\",\"(m3) Uberl\\u00e2ndia\",\"(m3) Uberl\\u00e2ndia\",\"(m3) Uberl\\u00e2ndia\",\"(m3) Uberl\\u00e2ndia\",\"(m3) Uberl\\u00e2ndia\",\"(m3) Uberl\\u00e2ndia\",\"(m3) Uberl\\u00e2ndia\",\"(m3) Uberl\\u00e2ndia\",\"(m3) Uberl\\u00e2ndia\",\"(m3) Uberl\\u00e2ndia\",\"(m3) Uberl\\u00e2ndia\",\"(m3) Uberl\\u00e2ndia\",\"(m3) Uberl\\u00e2ndia\",\"(m3) Uberl\\u00e2ndia\",\"(m3) Uberl\\u00e2ndia\",\"(m3) Uberl\\u00e2ndia\",\"(m3) Uberl\\u00e2ndia\",\"(m3) Uberl\\u00e2ndia\",\"(m3) Uberl\\u00e2ndia\",\"(m2) Contagem\",\"(m2) Contagem\",\"(m2) Contagem\",\"(m2) Contagem\",\"(m2) Contagem\",\"(m2) Contagem\",\"(m2) Contagem\",\"(m2) Contagem\",\"(m2) Contagem\",\"(m2) Contagem\",\"(m2) Contagem\",\"(m2) Contagem\",\"(m2) Contagem\",\"(m2) Contagem\",\"(m2) Contagem\",\"(m2) Contagem\",\"(m2) Contagem\",\"(m2) Contagem\",\"(m2) Contagem\",\"(m2) Contagem\",\"(m2) Contagem\",\"(m2) Contagem\",\"(m2) Contagem\",\"(m2) Contagem\",\"(m2) Contagem\",\"(m2) Contagem\",\"(m2) Contagem\",\"(m2) Contagem\",\"(m2) Contagem\",\"(m1) Belo Horizonte\",\"(m1) Belo Horizonte\",\"(m1) Belo Horizonte\",\"(m1) Belo Horizonte\",\"(m1) Belo Horizonte\",\"(m1) Belo Horizonte\",\"(m1) Belo Horizonte\",\"(m1) Belo Horizonte\",\"(m1) Belo Horizonte\",\"(m1) Belo Horizonte\",\"(m1) Belo Horizonte\",\"(m1) Belo Horizonte\",\"(m1) Belo Horizonte\",\"(m1) Belo Horizonte\",\"(m1) Belo Horizonte\",\"(m1) Belo Horizonte\",\"(m1) Belo Horizonte\",\"(m1) Belo Horizonte\",\"(m1) Belo Horizonte\",\"(m1) Belo Horizonte\",\"(m1) Belo Horizonte\",\"(m1) Belo Horizonte\",\"(m1) Belo Horizonte\",\"(m1) Belo Horizonte\",\"(m1) Belo Horizonte\",\"(m1) Belo Horizonte\",\"(m1) Belo Horizonte\",\"(m1) Belo Horizonte\",\"(m1) Belo Horizonte\"],\"xaxis\":\"x\",\"y\":[1.0,1.0,1.0,1.0,1.0,1.0,1.0,1.0,1.0,1.0,1.0,1.0,1.0,1.0,1.0,1.0,1.0,1.0,1.0,1.0,1.0,1.0,1.0,1.0,1.0,1.0,1.0,1.0,1.0,1.0,1.0,1.0,1.0,1.0,1.0,1.0,1.0,1.0,1.0,1.0,1.0,1.0,1.0,1.0,1.0,1.0,1.0,1.0,1.0,1.0,1.0,1.0,1.0,1.0,1.0,1.0,1.0,1.0,1.0,1.0,1.0,1.0,1.0,1.0,1.0,1.0,1.0,1.0,1.0,1.0,1.0,1.0,1.0,1.0,1.0,1.0,1.0,1.0,1.0,1.0,1.0,1.0,1.0,1.0,1.0,1.0,1.0,1.0,1.0,1.0,1.0,1.0,1.0,1.0,1.0,1.0,1.0,1.0,1.0,1.0,1.0,1.0,1.0,1.0,1.0,1.0,1.0,1.0,1.0,1.0,1.0,1.0,1.0,1.0,1.0,1.0,1.0,1.0,1.0,1.0,1.0,1.0,1.0,1.0,1.0,1.0,1.0,1.0,1.0,1.0,1.0,1.0,1.0,1.0,1.0,1.0,1.0,1.0,1.0,1.0,1.0,1.0,1.0,1.0,1.0,1.0,1.0,1.0,1.0,1.0,1.0,1.0,1.0,1.0,1.0,1.0,1.0,1.0,1.0,1.0,1.0,1.0,1.0,1.0,1.0,1.0,1.0,1.0,1.0,1.0,1.0,1.0,1.0,1.0,1.0,1.0,1.0,1.0,1.0,1.0,1.0,1.0,1.0,1.0,1.0,1.0,1.0,1.0,1.0,1.0,1.0,1.0,1.0,1.0,1.0,1.0,1.0,1.0,1.0,1.0,1.0,1.0,1.0,1.0,1.0,1.0,1.0,1.0,1.0,1.0,1.0,1.0,1.0,1.0,1.0,1.0,1.0,1.0,1.0,1.0,1.0,1.0,1.0,1.0,1.0,1.0,1.0,1.0,1.0,1.0,1.0,1.0,1.0,1.0,1.0,1.0,1.0,1.0,1.0,1.0,1.0,1.0,1.0,1.0,1.0,1.0,1.0,1.0,1.0,1.0,1.0,1.0,1.0,1.0,1.0,1.0,1.0,1.0,1.0,1.0,1.0,1.0,1.0,1.0,1.0,1.0,1.0,1.0,1.0,1.0,1.0,1.0,1.0,1.0],\"yaxis\":\"y\"},{\"alignmentgroup\":\"True\",\"hovertemplate\":\"state=N\\u00e3o colet\\u00e1vel<br>Template / Munic\\u00edpio=%{x}<br>#Coletores=%{y}<extra></extra>\",\"legendgroup\":\"N\\u00e3o colet\\u00e1vel\",\"marker\":{\"color\":\"red\",\"opacity\":0.75,\"pattern\":{\"shape\":\"\"}},\"name\":\"N\\u00e3o colet\\u00e1vel\",\"offsetgroup\":\"N\\u00e3o colet\\u00e1vel\",\"orientation\":\"v\",\"showlegend\":true,\"textposition\":\"auto\",\"type\":\"bar\",\"x\":[\"Template1 (22)\",\"Template1 (22)\",\"Template1 (22)\",\"Template1 (22)\",\"S\\u00edntese tecnologia (88)\",\"S\\u00edntese tecnologia (88)\",\"Siplanweb (61)\",\"Siplanweb (61)\",\"Siplanweb (61)\",\"Siplanweb (61)\",\"Siplanweb (61)\",\"Siplanweb (61)\",\"Siplanweb (61)\",\"Siplanweb (61)\",\"Siplanweb (61)\",\"Siplanweb (61)\",\"Siplanweb (61)\",\"Siplanweb (61)\",\"Portal Facil (46)\",\"Portal Facil (46)\",\"Portal Facil (46)\",\"Portal Facil (46)\",\"Portal Facil (46)\",\"PT (45)\",\"PT (45)\",\"PT (45)\",\"PT (45)\",\"PT (45)\",\"Municipal Net (11)\",\"Municipal Net (11)\",\"Municipal Net (11)\",\"Municipal Net (11)\",\"Municipal Net (11)\",\"Municipal Net (11)\",\"Municipal Net (11)\",\"Municipal Net (11)\",\"Municipal Net (11)\",\"Municipal Net (11)\",\"Municipal Net (11)\",\"Municipal Net (11)\",\"Memory (66)\",\"Memory (66)\",\"Memory (66)\",\"Memory (66)\",\"Memory (66)\",\"Memory (66)\",\"Memory (66)\",\"Memory (66)\",\"Memory (66)\",\"Memory (66)\",\"GRP (27)\",\"GRP (27)\",\"Betha (26)\",\"Betha (26)\",\"Betha (26)\",\"Betha (26)\",\"Betha (26)\",\"Betha (26)\",\"Betha (26)\",\"Betha (26)\",\"Betha (26)\",\"Betha (26)\",\"Betha (26)\",\"ADPM (22)\",\"ADPM (22)\",\"ADPM (22)\",\"ADPM (22)\",\"ADPM (22)\",\"ADPM (22)\",\"ADPM (22)\",\"ADPM (22)\",\"ABO (21)\",\"ABO (21)\",\"ABO (21)\",\"ABO (21)\",\"ABO (21)\"],\"xaxis\":\"x\",\"y\":[1.0,1.0,1.0,1.0,1.0,1.0,1.0,1.0,1.0,1.0,1.0,1.0,1.0,1.0,1.0,1.0,1.0,1.0,1.0,1.0,1.0,1.0,1.0,1.0,1.0,1.0,1.0,1.0,1.0,1.0,1.0,1.0,1.0,1.0,1.0,1.0,1.0,1.0,1.0,1.0,1.0,1.0,1.0,1.0,1.0,1.0,1.0,1.0,1.0,1.0,1.0,1.0,1.0,1.0,1.0,1.0,1.0,1.0,1.0,1.0,1.0,1.0,1.0,1.0,1.0,1.0,1.0,1.0,1.0,1.0,1.0,1.0,1.0,1.0,1.0,1.0],\"yaxis\":\"y\"},{\"alignmentgroup\":\"True\",\"hovertemplate\":\"state=N\\u00e3o colet\\u00e1vel (autom.)<br>Template / Munic\\u00edpio=%{x}<br>#Coletores=%{y}<extra></extra>\",\"legendgroup\":\"N\\u00e3o colet\\u00e1vel (autom.)\",\"marker\":{\"color\":\"#ff9e99\",\"opacity\":0.75,\"pattern\":{\"shape\":\"\"}},\"name\":\"N\\u00e3o colet\\u00e1vel (autom.)\",\"offsetgroup\":\"N\\u00e3o colet\\u00e1vel (autom.)\",\"orientation\":\"v\",\"showlegend\":true,\"textposition\":\"auto\",\"type\":\"bar\",\"x\":[\"S\\u00edntese tecnologia (88)\",\"S\\u00edntese tecnologia (88)\",\"S\\u00edntese tecnologia (88)\",\"S\\u00edntese tecnologia (88)\"],\"xaxis\":\"x\",\"y\":[1.0,1.0,1.0,1.0],\"yaxis\":\"y\"}],                        {\"barmode\":\"relative\",\"font\":{\"size\":18},\"height\":800,\"legend\":{\"title\":{\"text\":\"state\"},\"tracegroupgap\":0},\"template\":{\"data\":{\"bar\":[{\"error_x\":{\"color\":\"#2a3f5f\"},\"error_y\":{\"color\":\"#2a3f5f\"},\"marker\":{\"line\":{\"color\":\"#E5ECF6\",\"width\":0.5},\"pattern\":{\"fillmode\":\"overlay\",\"size\":10,\"solidity\":0.2}},\"type\":\"bar\"}],\"barpolar\":[{\"marker\":{\"line\":{\"color\":\"#E5ECF6\",\"width\":0.5},\"pattern\":{\"fillmode\":\"overlay\",\"size\":10,\"solidity\":0.2}},\"type\":\"barpolar\"}],\"carpet\":[{\"aaxis\":{\"endlinecolor\":\"#2a3f5f\",\"gridcolor\":\"white\",\"linecolor\":\"white\",\"minorgridcolor\":\"white\",\"startlinecolor\":\"#2a3f5f\"},\"baxis\":{\"endlinecolor\":\"#2a3f5f\",\"gridcolor\":\"white\",\"linecolor\":\"white\",\"minorgridcolor\":\"white\",\"startlinecolor\":\"#2a3f5f\"},\"type\":\"carpet\"}],\"choropleth\":[{\"colorbar\":{\"outlinewidth\":0,\"ticks\":\"\"},\"type\":\"choropleth\"}],\"contour\":[{\"colorbar\":{\"outlinewidth\":0,\"ticks\":\"\"},\"colorscale\":[[0.0,\"#0d0887\"],[0.1111111111111111,\"#46039f\"],[0.2222222222222222,\"#7201a8\"],[0.3333333333333333,\"#9c179e\"],[0.4444444444444444,\"#bd3786\"],[0.5555555555555556,\"#d8576b\"],[0.6666666666666666,\"#ed7953\"],[0.7777777777777778,\"#fb9f3a\"],[0.8888888888888888,\"#fdca26\"],[1.0,\"#f0f921\"]],\"type\":\"contour\"}],\"contourcarpet\":[{\"colorbar\":{\"outlinewidth\":0,\"ticks\":\"\"},\"type\":\"contourcarpet\"}],\"heatmap\":[{\"colorbar\":{\"outlinewidth\":0,\"ticks\":\"\"},\"colorscale\":[[0.0,\"#0d0887\"],[0.1111111111111111,\"#46039f\"],[0.2222222222222222,\"#7201a8\"],[0.3333333333333333,\"#9c179e\"],[0.4444444444444444,\"#bd3786\"],[0.5555555555555556,\"#d8576b\"],[0.6666666666666666,\"#ed7953\"],[0.7777777777777778,\"#fb9f3a\"],[0.8888888888888888,\"#fdca26\"],[1.0,\"#f0f921\"]],\"type\":\"heatmap\"}],\"heatmapgl\":[{\"colorbar\":{\"outlinewidth\":0,\"ticks\":\"\"},\"colorscale\":[[0.0,\"#0d0887\"],[0.1111111111111111,\"#46039f\"],[0.2222222222222222,\"#7201a8\"],[0.3333333333333333,\"#9c179e\"],[0.4444444444444444,\"#bd3786\"],[0.5555555555555556,\"#d8576b\"],[0.6666666666666666,\"#ed7953\"],[0.7777777777777778,\"#fb9f3a\"],[0.8888888888888888,\"#fdca26\"],[1.0,\"#f0f921\"]],\"type\":\"heatmapgl\"}],\"histogram\":[{\"marker\":{\"pattern\":{\"fillmode\":\"overlay\",\"size\":10,\"solidity\":0.2}},\"type\":\"histogram\"}],\"histogram2d\":[{\"colorbar\":{\"outlinewidth\":0,\"ticks\":\"\"},\"colorscale\":[[0.0,\"#0d0887\"],[0.1111111111111111,\"#46039f\"],[0.2222222222222222,\"#7201a8\"],[0.3333333333333333,\"#9c179e\"],[0.4444444444444444,\"#bd3786\"],[0.5555555555555556,\"#d8576b\"],[0.6666666666666666,\"#ed7953\"],[0.7777777777777778,\"#fb9f3a\"],[0.8888888888888888,\"#fdca26\"],[1.0,\"#f0f921\"]],\"type\":\"histogram2d\"}],\"histogram2dcontour\":[{\"colorbar\":{\"outlinewidth\":0,\"ticks\":\"\"},\"colorscale\":[[0.0,\"#0d0887\"],[0.1111111111111111,\"#46039f\"],[0.2222222222222222,\"#7201a8\"],[0.3333333333333333,\"#9c179e\"],[0.4444444444444444,\"#bd3786\"],[0.5555555555555556,\"#d8576b\"],[0.6666666666666666,\"#ed7953\"],[0.7777777777777778,\"#fb9f3a\"],[0.8888888888888888,\"#fdca26\"],[1.0,\"#f0f921\"]],\"type\":\"histogram2dcontour\"}],\"mesh3d\":[{\"colorbar\":{\"outlinewidth\":0,\"ticks\":\"\"},\"type\":\"mesh3d\"}],\"parcoords\":[{\"line\":{\"colorbar\":{\"outlinewidth\":0,\"ticks\":\"\"}},\"type\":\"parcoords\"}],\"pie\":[{\"automargin\":true,\"type\":\"pie\"}],\"scatter\":[{\"marker\":{\"colorbar\":{\"outlinewidth\":0,\"ticks\":\"\"}},\"type\":\"scatter\"}],\"scatter3d\":[{\"line\":{\"colorbar\":{\"outlinewidth\":0,\"ticks\":\"\"}},\"marker\":{\"colorbar\":{\"outlinewidth\":0,\"ticks\":\"\"}},\"type\":\"scatter3d\"}],\"scattercarpet\":[{\"marker\":{\"colorbar\":{\"outlinewidth\":0,\"ticks\":\"\"}},\"type\":\"scattercarpet\"}],\"scattergeo\":[{\"marker\":{\"colorbar\":{\"outlinewidth\":0,\"ticks\":\"\"}},\"type\":\"scattergeo\"}],\"scattergl\":[{\"marker\":{\"colorbar\":{\"outlinewidth\":0,\"ticks\":\"\"}},\"type\":\"scattergl\"}],\"scattermapbox\":[{\"marker\":{\"colorbar\":{\"outlinewidth\":0,\"ticks\":\"\"}},\"type\":\"scattermapbox\"}],\"scatterpolar\":[{\"marker\":{\"colorbar\":{\"outlinewidth\":0,\"ticks\":\"\"}},\"type\":\"scatterpolar\"}],\"scatterpolargl\":[{\"marker\":{\"colorbar\":{\"outlinewidth\":0,\"ticks\":\"\"}},\"type\":\"scatterpolargl\"}],\"scatterternary\":[{\"marker\":{\"colorbar\":{\"outlinewidth\":0,\"ticks\":\"\"}},\"type\":\"scatterternary\"}],\"surface\":[{\"colorbar\":{\"outlinewidth\":0,\"ticks\":\"\"},\"colorscale\":[[0.0,\"#0d0887\"],[0.1111111111111111,\"#46039f\"],[0.2222222222222222,\"#7201a8\"],[0.3333333333333333,\"#9c179e\"],[0.4444444444444444,\"#bd3786\"],[0.5555555555555556,\"#d8576b\"],[0.6666666666666666,\"#ed7953\"],[0.7777777777777778,\"#fb9f3a\"],[0.8888888888888888,\"#fdca26\"],[1.0,\"#f0f921\"]],\"type\":\"surface\"}],\"table\":[{\"cells\":{\"fill\":{\"color\":\"#EBF0F8\"},\"line\":{\"color\":\"white\"}},\"header\":{\"fill\":{\"color\":\"#C8D4E3\"},\"line\":{\"color\":\"white\"}},\"type\":\"table\"}]},\"layout\":{\"annotationdefaults\":{\"arrowcolor\":\"#2a3f5f\",\"arrowhead\":0,\"arrowwidth\":1},\"autotypenumbers\":\"strict\",\"coloraxis\":{\"colorbar\":{\"outlinewidth\":0,\"ticks\":\"\"}},\"colorscale\":{\"diverging\":[[0,\"#8e0152\"],[0.1,\"#c51b7d\"],[0.2,\"#de77ae\"],[0.3,\"#f1b6da\"],[0.4,\"#fde0ef\"],[0.5,\"#f7f7f7\"],[0.6,\"#e6f5d0\"],[0.7,\"#b8e186\"],[0.8,\"#7fbc41\"],[0.9,\"#4d9221\"],[1,\"#276419\"]],\"sequential\":[[0.0,\"#0d0887\"],[0.1111111111111111,\"#46039f\"],[0.2222222222222222,\"#7201a8\"],[0.3333333333333333,\"#9c179e\"],[0.4444444444444444,\"#bd3786\"],[0.5555555555555556,\"#d8576b\"],[0.6666666666666666,\"#ed7953\"],[0.7777777777777778,\"#fb9f3a\"],[0.8888888888888888,\"#fdca26\"],[1.0,\"#f0f921\"]],\"sequentialminus\":[[0.0,\"#0d0887\"],[0.1111111111111111,\"#46039f\"],[0.2222222222222222,\"#7201a8\"],[0.3333333333333333,\"#9c179e\"],[0.4444444444444444,\"#bd3786\"],[0.5555555555555556,\"#d8576b\"],[0.6666666666666666,\"#ed7953\"],[0.7777777777777778,\"#fb9f3a\"],[0.8888888888888888,\"#fdca26\"],[1.0,\"#f0f921\"]]},\"colorway\":[\"#636efa\",\"#EF553B\",\"#00cc96\",\"#ab63fa\",\"#FFA15A\",\"#19d3f3\",\"#FF6692\",\"#B6E880\",\"#FF97FF\",\"#FECB52\"],\"font\":{\"color\":\"#2a3f5f\"},\"geo\":{\"bgcolor\":\"white\",\"lakecolor\":\"white\",\"landcolor\":\"#E5ECF6\",\"showlakes\":true,\"showland\":true,\"subunitcolor\":\"white\"},\"hoverlabel\":{\"align\":\"left\"},\"hovermode\":\"closest\",\"mapbox\":{\"style\":\"light\"},\"paper_bgcolor\":\"white\",\"plot_bgcolor\":\"#E5ECF6\",\"polar\":{\"angularaxis\":{\"gridcolor\":\"white\",\"linecolor\":\"white\",\"ticks\":\"\"},\"bgcolor\":\"#E5ECF6\",\"radialaxis\":{\"gridcolor\":\"white\",\"linecolor\":\"white\",\"ticks\":\"\"}},\"scene\":{\"xaxis\":{\"backgroundcolor\":\"#E5ECF6\",\"gridcolor\":\"white\",\"gridwidth\":2,\"linecolor\":\"white\",\"showbackground\":true,\"ticks\":\"\",\"zerolinecolor\":\"white\"},\"yaxis\":{\"backgroundcolor\":\"#E5ECF6\",\"gridcolor\":\"white\",\"gridwidth\":2,\"linecolor\":\"white\",\"showbackground\":true,\"ticks\":\"\",\"zerolinecolor\":\"white\"},\"zaxis\":{\"backgroundcolor\":\"#E5ECF6\",\"gridcolor\":\"white\",\"gridwidth\":2,\"linecolor\":\"white\",\"showbackground\":true,\"ticks\":\"\",\"zerolinecolor\":\"white\"}},\"shapedefaults\":{\"line\":{\"color\":\"#2a3f5f\"}},\"ternary\":{\"aaxis\":{\"gridcolor\":\"white\",\"linecolor\":\"white\",\"ticks\":\"\"},\"baxis\":{\"gridcolor\":\"white\",\"linecolor\":\"white\",\"ticks\":\"\"},\"bgcolor\":\"#E5ECF6\",\"caxis\":{\"gridcolor\":\"white\",\"linecolor\":\"white\",\"ticks\":\"\"}},\"title\":{\"x\":0.05},\"xaxis\":{\"automargin\":true,\"gridcolor\":\"white\",\"linecolor\":\"white\",\"ticks\":\"\",\"title\":{\"standoff\":15},\"zerolinecolor\":\"white\",\"zerolinewidth\":2},\"yaxis\":{\"automargin\":true,\"gridcolor\":\"white\",\"linecolor\":\"white\",\"ticks\":\"\",\"title\":{\"standoff\":15},\"zerolinecolor\":\"white\",\"zerolinewidth\":2}}},\"title\":{\"text\":\"Vis\\u00e3o Geral - Epics por Template (Coletores feitos e a fazer)\"},\"width\":1100,\"xaxis\":{\"anchor\":\"y\",\"categoryarray\":[\"PT (45)\",\"Betha (26)\",\"Template1 (22)\",\"ABO (21)\",\"Siplanweb (61)\",\"Memory (66)\",\"ADPM (22)\",\"S\\u00edntese tecnologia (88)\",\"GRP (27)\",\"Portal Facil (46)\",\"Portaltp (61)\",\"Portal Facil (60)\",\"Template2 (28)\"],\"categoryorder\":\"array\",\"domain\":[0.0,1.0],\"tickangle\":45,\"title\":{\"text\":\"Template / Munic\\u00edpio\"}},\"yaxis\":{\"anchor\":\"x\",\"domain\":[0.0,1.0],\"title\":{\"text\":\"#Coletores\"}}},                        {\"responsive\": true}                    ).then(function(){\n",
       "                            \n",
       "var gd = document.getElementById('da0f189d-2861-4996-bfa9-2b9eaf10973e');\n",
       "var x = new MutationObserver(function (mutations, observer) {{\n",
       "        var display = window.getComputedStyle(gd).display;\n",
       "        if (!display || display === 'none') {{\n",
       "            console.log([gd, 'removed!']);\n",
       "            Plotly.purge(gd);\n",
       "            observer.disconnect();\n",
       "        }}\n",
       "}});\n",
       "\n",
       "// Listen for the removal of the full notebook cells\n",
       "var notebookContainer = gd.closest('#notebook-container');\n",
       "if (notebookContainer) {{\n",
       "    x.observe(notebookContainer, {childList: true});\n",
       "}}\n",
       "\n",
       "// Listen for the clearing of the current output cell\n",
       "var outputEl = gd.closest('.output');\n",
       "if (outputEl) {{\n",
       "    x.observe(outputEl, {childList: true});\n",
       "}}\n",
       "\n",
       "                        })                };                });            </script>        </div>"
      ]
     },
     "metadata": {},
     "output_type": "display_data"
    }
   ],
   "source": [
    "# TODO melhorar automacao\n",
    "def plot_status_epics(df, top_templates, sondagem, title='Visão Geral - Epics por Template (Coletores feitos e a fazer)'):\n",
    "\n",
    "    # resultados do buscador de subtags (sondagem)\n",
    "    # templates_ja_analisados = ['ADPM', 'Betha', 'Municipal Net', 'Siplanweb', 'Memory']\n",
    "    templates_ja_analisados = [\n",
    "        'ADPM (22)', 'Betha (26)', 'Municipal Net (11)', 'Siplanweb (61)', 'Memory (66)', \n",
    "        'Template1 (22)', 'Portal Facil (60)', 'Portal Facil (46)']\n",
    "    s = sondagem[sondagem == 0].count(axis=1)\n",
    "    s = s[s != 0]\n",
    "    s = s.drop(templates_ja_analisados)\n",
    "    s = s.sort_index()\n",
    "    nao_loc_autom = dict(s)\n",
    "    \n",
    "    # Fonte: Planilha Controle de Dados (#TODO transformar em Epics com \"não-localizado\")\n",
    "    nao_loc_manual = {'Municipal Net (11)': 12, 'Portal Facil (46)': 5}\n",
    "    coletado_autom = {'Template2 (28)': 4}\n",
    "    \n",
    "    for template, count in nao_loc_autom.items():\n",
    "        for i in range(count):\n",
    "            df = df.append({'template':template, 'state':'Não coletável (autom.)', 'aux':1}, ignore_index=True)\n",
    "            \n",
    "    for template, count in nao_loc_manual.items():\n",
    "        for i in range(count):\n",
    "            df = df.append({'template':template, 'state':'Não coletável', 'aux':1}, ignore_index=True)\n",
    "            \n",
    "    for template, count in coletado_autom.items():\n",
    "        for i in range(count):\n",
    "            df = df.append({'template':template, 'state':'Coletado (autom.)', 'aux':1}, ignore_index=True)\n",
    "       \n",
    "    # Pre-process dataframes       \n",
    "    count_col = 'aux'\n",
    "    name_col  = 'shortname'\n",
    "    top_templates = top_templates[top_templates['rank'] <= 15]\n",
    "    df = top_templates.merge(df, how='left').fillna({'state':'Estimado', count_col:1})   \n",
    "    templates = df['template'].dropna().unique() \n",
    "    \n",
    "    print(templates)\n",
    "    \n",
    "    # TODO usar arquivo separado\n",
    "    total_ref = 29  # Siplanweb  \n",
    "    total = dict.fromkeys(templates, total_ref)\n",
    "    total['Municipal Net (11)'] = 28\n",
    "    total['Betha (26)'] = 33\n",
    "    total['ADPM (22)'] = 19\n",
    "    total['PT (45)'] = 28\n",
    "    total['Memory (66)'] = 23\n",
    "    total['ABO (21)'] = 23\n",
    "    total['Template1 (22)'] = 24\n",
    "    total['Portal Facil (60)'] = 18\n",
    "    total['Portal Facil (46)'] = 19\n",
    "    \n",
    "    # Fill missing (estimated) epics in df\n",
    "    for template in templates:        \n",
    "        created =  df.groupby('template').count()['state'][template]\n",
    "        missing = total[template] - created\n",
    "        size = df[df.template == template]['size'].values[0]\n",
    "        name = df[df.template == template][name_col].values[0]\n",
    "\n",
    "        for i in range(missing):            \n",
    "            df = df.append({'template':template, 'state':'Estimado', name_col:name,\n",
    "                            'size':size, count_col:1}, ignore_index=True)           \n",
    "        \n",
    "    df = df.sort_values(by=['state', name_col], ascending=[True,False])\n",
    "    xorder = df.groupby(['state', name_col]).count()['aux'][\n",
    "        'Coletado'].sort_values(ascending=False).index.tolist()\n",
    "\n",
    "    # Plot\n",
    "    fig = px.bar(\n",
    "        df, y=count_col, x=name_col, color='state', height=800, width=1100, title=title,\n",
    "        color_discrete_map = {\n",
    "            'Coletado':'green', \n",
    "            'Coletado (autom.)':'#92d696', \n",
    "            'Com bloqueio':'#9F2B68',\n",
    "            'Com epic criada':'#64b5cd', \n",
    "            'Estimado':'lightblue', \n",
    "            'Não coletável':'red', \n",
    "            'Não coletável (autom.)':'#ff9e99'}, \n",
    "        labels = {\n",
    "            count_col:\"#Coletores\", \n",
    "            name_col:\"Template / Município\"}, \n",
    "        opacity = 0.75 )    \n",
    "    \n",
    "    fig.update_layout(xaxis={'categoryorder':'array', 'categoryarray':xorder})\n",
    "    fig.update_xaxes(tickangle=45)\n",
    "    fig.update_layout(font=dict(size=18))    \n",
    "    \n",
    "    return fig\n",
    "\n",
    "#-------------------------------------------------------------\n",
    "\n",
    "epics_df = pd.read_csv(\"data/epics.csv\")\n",
    "top_templates = pd.read_csv(\"data/top_templates.csv\")\n",
    "sondagem = pd.read_csv('data/resultados_templates.csv', index_col=0).astype(int)\n",
    "\n",
    "fig = plot_status_epics(epics_df, top_templates, sondagem)    \n",
    "fig.write_image('./fig/status-coleta.png', scale=1)\n",
    "fig\n"
   ]
  },
  {
   "cell_type": "code",
   "execution_count": 74,
   "metadata": {},
   "outputs": [],
   "source": [
    "# TODO completar issues sem labels (branco)"
   ]
  },
  {
   "cell_type": "markdown",
   "metadata": {
    "jp-MarkdownHeadingCollapsed": true,
    "tags": []
   },
   "source": [
    "### Consulta de Issues/Epics"
   ]
  },
  {
   "cell_type": "code",
   "execution_count": 4,
   "metadata": {},
   "outputs": [
    {
     "name": "stdout",
     "output_type": "stream",
     "text": [
      "Issue(title=\"Coletor para o template Betha - Servidores Públicos - Servidores Contratados\", number=891) open [Label(name=\"Realização F01\"), Label(name=\"Epic\"), Label(name=\"template-Betha\"), Label(name=\"tag-Servidores Públicos\"), Label(name=\"campo-Servidores Contratados\"), Label(name=\"bloqueada\")]\n"
     ]
    }
   ],
   "source": [
    "i = repo_F01.get_issue(891)\n",
    "print(i, i.state, i.labels)"
   ]
  },
  {
   "cell_type": "code",
   "execution_count": 574,
   "metadata": {},
   "outputs": [
    {
     "data": {
      "text/plain": [
       "{'plus_ones': [],\n",
       " 'is_epic': True,\n",
       " 'pipelines': [{'name': 'Blocked',\n",
       "   'pipeline_id': 'Z2lkOi8vcmFwdG9yL1BpcGVsaW5lLzI1MDI0Njg',\n",
       "   'workspace_id': '615dcc142f7e9b000f3b1fed'},\n",
       "  {'name': 'Product Backlog',\n",
       "   'pipeline_id': 'Z2lkOi8vcmFwdG9yL1BpcGVsaW5lLzI3NjYwMDI',\n",
       "   'workspace_id': '62be0f3ffc65890018f767aa'}],\n",
       " 'pipeline': {'name': 'Blocked',\n",
       "  'pipeline_id': 'Z2lkOi8vcmFwdG9yL1BpcGVsaW5lLzI1MDI0Njg',\n",
       "  'workspace_id': '615dcc142f7e9b000f3b1fed'}}"
      ]
     },
     "execution_count": 574,
     "metadata": {},
     "output_type": "execute_result"
    }
   ],
   "source": [
    "zh.get_issue_data(repo_id, issue_number=891)"
   ]
  },
  {
   "cell_type": "code",
   "execution_count": 577,
   "metadata": {},
   "outputs": [
    {
     "data": {
      "text/plain": [
       "{'issues': [],\n",
       " 'issue_number': 891,\n",
       " 'repo_id': 357557193,\n",
       " 'pipelines': [{'workspace_id': '615dcc142f7e9b000f3b1fed',\n",
       "   'pipeline_id': 'Z2lkOi8vcmFwdG9yL1BpcGVsaW5lLzI1MDI0Njg',\n",
       "   'name': 'Blocked'},\n",
       "  {'workspace_id': '62be0f3ffc65890018f767aa',\n",
       "   'pipeline_id': 'Z2lkOi8vcmFwdG9yL1BpcGVsaW5lLzI3NjYwMDI',\n",
       "   'name': 'Product Backlog'}],\n",
       " 'pipeline': {'workspace_id': '615dcc142f7e9b000f3b1fed',\n",
       "  'pipeline_id': 'Z2lkOi8vcmFwdG9yL1BpcGVsaW5lLzI1MDI0Njg',\n",
       "  'name': 'Blocked'},\n",
       " 'total_epic_estimates': {'value': 0}}"
      ]
     },
     "execution_count": 577,
     "metadata": {},
     "output_type": "execute_result"
    }
   ],
   "source": [
    "zh.get_epic_data(repo_id, epic_id=891)"
   ]
  },
  {
   "cell_type": "markdown",
   "metadata": {
    "tags": []
   },
   "source": [
    "### Testing update"
   ]
  },
  {
   "cell_type": "code",
   "execution_count": 58,
   "metadata": {},
   "outputs": [
    {
     "data": {
      "text/plain": [
       "(5346, 13)"
      ]
     },
     "execution_count": 58,
     "metadata": {},
     "output_type": "execute_result"
    }
   ],
   "source": [
    "from github import Github\n",
    "\n",
    "def get_name(issue_id, repo):\n",
    "    try:\n",
    "        issue = repo.get_issue(issue_id)\n",
    "    except:\n",
    "        return None\n",
    "    \n",
    "    closed_by = issue.closed_by\n",
    "    \n",
    "    if not closed_by:\n",
    "        return None    \n",
    "    if closed_by.name:\n",
    "        return closed_by.name\n",
    "    if closed_by.login:\n",
    "        return closed_by.login\n",
    "    \n",
    "    return None\n",
    "\n",
    "df = pd.read_csv('data/df.csv')\n",
    "df = df[df.state == 'closed']\n",
    "df.shape"
   ]
  },
  {
   "cell_type": "code",
   "execution_count": 59,
   "metadata": {},
   "outputs": [
    {
     "data": {
      "text/plain": [
       "(5346, 14)"
      ]
     },
     "execution_count": 59,
     "metadata": {},
     "output_type": "execute_result"
    }
   ],
   "source": [
    "d = pd.read_csv('data/df.csv.bkp', usecols=['number', 'closed_by'])\n",
    "df = df.merge(d, on='number', how='left')\n",
    "df = df[df.closed_by.isna()].reset_index(drop=True)\n",
    "df.shape  # pendentes"
   ]
  },
  {
   "cell_type": "code",
   "execution_count": 40,
   "metadata": {},
   "outputs": [
    {
     "name": "stderr",
     "output_type": "stream",
     "text": [
      "100%|█████████████████████████████████████████████████████████████████████████████████| 544/544 [04:16<00:00,  2.12it/s]"
     ]
    },
    {
     "name": "stdout",
     "output_type": "stream",
     "text": [
      "(0, 14)\n",
      "(5346, 15)\n"
     ]
    },
    {
     "name": "stderr",
     "output_type": "stream",
     "text": [
      "\n"
     ]
    }
   ],
   "source": [
    "df.loc[:900, 'closed_by'] = df.loc[:900, 'number'].progress_apply(lambda i : get_name(i, repo_C01))\n",
    "# df.loc[900:1800, 'closed_by'] = df.loc[900:1800, 'number'].progress_apply(lambda i : get_name(i, repo_C01))\n",
    "df.closed_by = df.closed_by.str[:3]\n",
    "print( df[df.closed_by.isna()].shape )\n",
    "\n",
    "d = pd.read_csv('data/df.csv.bkp')\n",
    "assert( df.merge(d, on='number', how='inner').shape[0] == 0) \n",
    "df = pd.concat([d, df])\n",
    "df.aux = 1\n",
    "print(df.shape)\n",
    "\n",
    "df.to_csv('data/df.csv.bkp', index=False)\n"
   ]
  },
  {
   "cell_type": "code",
   "execution_count": 47,
   "metadata": {},
   "outputs": [],
   "source": [
    "df = pd.read_csv('data/df.csv.bkp')\n",
    "p = ['Art', 'Gab', 'Isa', 'luc', 'jor', 'Ant', 'raf', 'Mar']\n",
    "df = df[df.closed_by.isin(p)].sort_values('closed_by')\n",
    "\n",
    "fig = px.histogram(df, x='closed_by', y='aux', title='Coletas Fechadas (C01)',\n",
    "             width=800, height=500)\n",
    "\n",
    "year_months = []\n",
    "for year in pd.unique(df['year']).tolist():\n",
    "    for month in pd.unique(df[df.year == year]['month'].sort_values(ascending=False)).tolist():\n",
    "        year_months.append((year, month))\n",
    "        \n",
    "buttons = []\n",
    "buttons.append(dict(method = \"restyle\", \n",
    "                    args = [{'y': [df['aux']], 'x': [df['closed_by']]}], \n",
    "                    label = \"Meses\"))\n",
    "\n",
    "for year, month in year_months:\n",
    "    aux = df.loc[(df['year'] == year) & (df['month'] == month)]\n",
    "    for x in p:\n",
    "        if x not in aux.closed_by.unique().tolist():\n",
    "            aux = pd.concat([aux, pd.DataFrame([{'closed_by':x, 'year':year, 'month':month, 'aux':0.01}])])\n",
    "    \n",
    "    buttons.append(dict(method = \"restyle\",\n",
    "            args = [{'y': [aux['aux']], 'x': [aux['closed_by']]}], \n",
    "            label = str(year)+'-'+str(month)))\n",
    "\n",
    "# fig.update_layout(autosize=True, updatemenus=[dict(active=0, buttons=buttons)])\n"
   ]
  },
  {
   "cell_type": "code",
   "execution_count": 224,
   "metadata": {},
   "outputs": [],
   "source": [
    "# df.groupby(['format_date_closed','closed_by']).count()['aux']"
   ]
  },
  {
   "cell_type": "code",
   "execution_count": 48,
   "metadata": {},
   "outputs": [
    {
     "name": "stdout",
     "output_type": "stream",
     "text": [
      "(182, 9)\n"
     ]
    },
    {
     "name": "stderr",
     "output_type": "stream",
     "text": [
      "100%|█████████████████████████████████████████████████████████████████████████████████| 182/182 [01:23<00:00,  2.18it/s]\n"
     ]
    }
   ],
   "source": [
    "#epics\n",
    "repo_F01 = g.get_repo(\"MPMG-DCC-UFMG/F01\")\n",
    "\n",
    "df = pd.read_csv('data/epics.csv')\n",
    "df = df[df.closed_at.notna()][1:]  #TODO ABO\n",
    "print(df.shape)\n",
    "\n",
    "df['closed_by'] = df['git_issue'].progress_apply(lambda i: get_name(i, repo_F01)).str[:3]\n",
    "df.to_csv('data/epics.csv.bkp', index=False)"
   ]
  },
  {
   "cell_type": "code",
   "execution_count": 50,
   "metadata": {},
   "outputs": [
    {
     "name": "stdout",
     "output_type": "stream",
     "text": [
      "(0, 10)\n"
     ]
    }
   ],
   "source": [
    "year_month = '2022-09'\n",
    "\n",
    "df = pd.read_csv('data/epics.csv.bkp')\n",
    "print( df[df.closed_by.isna()].shape )\n",
    "\n",
    "df = df[df.closed_by.isin(p)].sort_values(['closed_by', 'state'])\n",
    "df['closed_at'] = df['closed_at'].str[:7]\n",
    "if year_month: df = df[df.closed_at == year_month]\n",
    "\n",
    "for x in p:\n",
    "    if x not in df.closed_by.unique().tolist():\n",
    "        df = pd.concat([df, pd.DataFrame([{'closed_by':x, 'closed_at':year_month, 'state':'Coletado', 'aux':0.01}])])\n",
    "\n",
    "# px.bar(df, x='closed_by', y='aux', title='Epics fechadas: ' + year_month, color='state', width=800, height=400)"
   ]
  },
  {
   "cell_type": "code",
   "execution_count": 315,
   "metadata": {},
   "outputs": [],
   "source": [
    "df = pd.read_csv('data/epics.csv.bkp')\n",
    "# df['closed_at'] = df['closed_at'].str[:7]\n",
    "# df.groupby(['closed_by', 'closed_at', 'state']).count()['aux']"
   ]
  },
  {
   "cell_type": "markdown",
   "metadata": {
    "jp-MarkdownHeadingCollapsed": true,
    "tags": []
   },
   "source": [
    "## Dashboard Desenvolvimento"
   ]
  },
  {
   "cell_type": "code",
   "execution_count": null,
   "metadata": {},
   "outputs": [],
   "source": [
    "exigencias_df = pd.read_csv(\"data/exigencias_dev.csv\", usecols=[\"tag\",\"subtag\"]).drop_duplicates()\n",
    "exigencias_df"
   ]
  },
  {
   "cell_type": "code",
   "execution_count": null,
   "metadata": {},
   "outputs": [],
   "source": [
    "epics_dev_df = pd.read_csv(\"data/tmp.csv\").drop(columns=['title', 'tag', 'subtag']).drop_duplicates(\n",
    "    'template', ignore_index=True).dropna(subset=['template'])\n",
    "\n",
    "epics_dev_df = epics_dev_df.merge(exigencias_df, how='cross')\n",
    "epics_dev_df[\"title\"] = epics_dev_df[\"tag\"] + \": \" + epics_dev_df[\"subtag\"]\n",
    "epics_dev_df = epics_dev_df.pivot(index=\"template\", columns=\"title\", values=\"state\")\n",
    "\n",
    "epics_dev_df[:] = 3\n",
    "\n",
    "epics_dev_df.to_csv(\"data/epics_dev.csv\")\n",
    "epics_dev_df"
   ]
  },
  {
   "cell_type": "code",
   "execution_count": null,
   "metadata": {},
   "outputs": [],
   "source": [
    "epics_dev_df = pd.read_csv(\"data/top_templates.csv\")\n",
    "\n",
    "epics_dev_df = epics_dev_df[epics_dev_df['rank'] <= 15]\n",
    "epics_dev_df = epics_dev_df.merge(exigencias_df, how='cross')\n",
    "epics_dev_df[\"title\"] = epics_dev_df[\"tag\"] + \": \" + epics_dev_df[\"subtag\"]\n",
    "epics_dev_df = epics_dev_df.drop(columns=['tag', 'subtag'])\n",
    "\n",
    "y_label = \"template_rank\"\n",
    "epics_dev_df[y_label] = epics_dev_df[\"template\"] + \" (\" + epics_dev_df[\"rank\"].astype(str) + \"º)\"\n",
    "epics_dev_df = epics_dev_df.drop(columns=[\"template\"])\n",
    "\n",
    "epics_dev_df = epics_dev_df.pivot(index=\"template_rank\", columns=\"title\", values=\"rank\")\n",
    "epics_dev_df[:] = 4\n",
    "\n",
    "epics_dev_df.to_csv(\"data/epics_dev.csv\")\n",
    "epics_dev_df"
   ]
  },
  {
   "cell_type": "code",
   "execution_count": 7,
   "metadata": {},
   "outputs": [
    {
     "data": {
      "application/vnd.plotly.v1+json": {
       "config": {
        "plotlyServerURL": "https://plot.ly"
       },
       "data": [
        {
         "coloraxis": "coloraxis",
         "hovertemplate": "x: %{x}<br>template_rank: %{y}<br>color: %{z}<extra></extra>",
         "name": "0",
         "opacity": 0.75,
         "type": "heatmap",
         "x": [
          "Acesso à Informação: Bases de dados abertos",
          "Acesso à Informação: Informações",
          "Acesso à Informação: Relatório estatístico",
          "Acesso à Informação: Requisitos Exigidos",
          "Concursos Públicos: Cópia do edital do concurso",
          "Concursos Públicos: Dados do Concurso",
          "Concursos Públicos: Divulgação",
          "Contratos: Conteúdo integral",
          "Contratos: Dados dos contratos",
          "Contratos: Gerar relatório",
          "Despesas com diárias: Despesas com diárias",
          "Despesas: Consulta",
          "Despesas: Empenhos",
          "Despesas: Gerar relatório",
          "Despesas: Pagamentos",
          "Despesas: Relatórios",
          "Informações institucionais: Conselhos Municipais",
          "Informações institucionais: Estrutura organizacional",
          "Informações institucionais: Link de acesso",
          "Informações institucionais: Registro das competências",
          "Informações institucionais: Unidades administrativas",
          "Licitações: Editais",
          "Licitações: Processos licitatórios",
          "Licitações: Registro dos procedimentos",
          "Licitações: Resultados das licitações",
          "Obras públicas: Dados para acompanhamento",
          "Orçamento: Execução",
          "Orçamento: Legislação",
          "Receitas: Dados das receitas",
          "Servidores Públicos: Auxilios",
          "Servidores Públicos: Dados de remuneração",
          "Servidores Públicos: Dados dos servidores",
          "Servidores Públicos: Dispêndios",
          "Servidores Públicos: Proventos de aposentadoria",
          "Servidores Públicos: Proventos de pensão",
          "Servidores Públicos: Registro da remuneração",
          "Servidores Públicos: Registro por lotação",
          "Servidores Públicos: Relatório mensal",
          "Terceiro Setor: Dados de Parcerias",
          "Terceiro Setor: Repasses"
         ],
         "xaxis": "x",
         "y": [
          "(m) Betim (3º)",
          "(m) Juiz de Fora (2º)",
          "(m) Teófilo Otoni (4º)",
          "(m) Uberlândia (1º)",
          "(m) Varginha (5º)",
          "ABO (13º)",
          "ADPM (12º)",
          "Betha (10º)",
          "GRP (9º)",
          "Memory (2º)",
          "Municipal Net (14º)",
          "PT (7º)",
          "Portal Facil (60) (5º)",
          "Portal Fácil (46) (6º)",
          "Portaltp (4º)",
          "Siplanweb (3º)",
          "Síntese tecnologia informatica (1º)",
          "Template1 (22) (11º)",
          "Template1 (9) (15º)",
          "Template2 (8º)"
         ],
         "yaxis": "y",
         "z": [
          [
           5,
           4,
           5,
           3,
           3,
           3,
           3,
           3,
           3,
           3,
           3,
           3,
           3,
           3,
           3,
           3,
           5,
           5,
           3,
           5,
           5,
           3,
           3,
           3,
           3,
           3,
           5,
           5,
           3,
           5,
           5,
           3,
           5,
           3,
           3,
           3,
           3,
           3,
           3,
           5
          ],
          [
           5,
           4,
           5,
           3,
           3,
           3,
           3,
           3,
           3,
           3,
           3,
           3,
           3,
           3,
           3,
           3,
           5,
           5,
           3,
           5,
           5,
           3,
           3,
           3,
           3,
           3,
           5,
           5,
           3,
           5,
           5,
           3,
           5,
           3,
           3,
           3,
           3,
           3,
           3,
           5
          ],
          [
           5,
           4,
           5,
           3,
           3,
           3,
           3,
           3,
           3,
           3,
           3,
           3,
           3,
           3,
           3,
           3,
           5,
           5,
           3,
           5,
           5,
           3,
           3,
           3,
           3,
           3,
           5,
           5,
           3,
           5,
           5,
           3,
           5,
           3,
           3,
           3,
           3,
           3,
           3,
           5
          ],
          [
           5,
           4,
           5,
           3,
           3,
           3,
           3,
           3,
           3,
           3,
           3,
           3,
           3,
           3,
           3,
           3,
           5,
           5,
           3,
           5,
           5,
           3,
           3,
           3,
           3,
           3,
           5,
           5,
           3,
           5,
           5,
           3,
           5,
           3,
           3,
           3,
           3,
           3,
           3,
           5
          ],
          [
           5,
           4,
           5,
           3,
           3,
           3,
           3,
           3,
           3,
           3,
           3,
           3,
           3,
           3,
           3,
           3,
           5,
           5,
           3,
           5,
           5,
           3,
           3,
           3,
           3,
           3,
           5,
           5,
           3,
           5,
           5,
           3,
           5,
           3,
           3,
           3,
           3,
           3,
           3,
           5
          ],
          [
           5,
           4,
           5,
           3,
           1,
           1,
           1,
           3,
           3,
           3,
           3,
           3,
           3,
           3,
           3,
           3,
           5,
           5,
           3,
           5,
           5,
           3,
           3,
           3,
           3,
           3,
           5,
           5,
           3,
           5,
           5,
           3,
           5,
           3,
           3,
           3,
           3,
           3,
           3,
           5
          ],
          [
           5,
           4,
           5,
           3,
           3,
           3,
           3,
           3,
           3,
           3,
           3,
           3,
           3,
           3,
           3,
           3,
           5,
           5,
           3,
           5,
           5,
           3,
           3,
           3,
           3,
           3,
           5,
           5,
           3,
           5,
           5,
           3,
           5,
           3,
           3,
           3,
           3,
           3,
           3,
           5
          ],
          [
           5,
           4,
           5,
           3,
           3,
           3,
           3,
           3,
           3,
           3,
           3,
           3,
           3,
           3,
           3,
           3,
           5,
           5,
           3,
           5,
           5,
           1,
           1,
           1,
           1,
           1,
           5,
           5,
           3,
           5,
           5,
           3,
           5,
           3,
           3,
           3,
           3,
           3,
           3,
           5
          ],
          [
           5,
           4,
           5,
           3,
           3,
           3,
           3,
           3,
           3,
           3,
           3,
           3,
           3,
           3,
           3,
           3,
           5,
           5,
           3,
           5,
           5,
           1,
           1,
           1,
           1,
           3,
           5,
           5,
           3,
           5,
           5,
           3,
           5,
           3,
           3,
           3,
           3,
           3,
           3,
           5
          ],
          [
           5,
           4,
           5,
           3,
           3,
           3,
           3,
           3,
           3,
           3,
           3,
           3,
           3,
           3,
           3,
           3,
           5,
           5,
           3,
           5,
           5,
           3,
           3,
           3,
           3,
           3,
           5,
           5,
           3,
           5,
           5,
           3,
           5,
           3,
           3,
           3,
           3,
           3,
           3,
           5
          ],
          [
           5,
           4,
           5,
           3,
           3,
           3,
           3,
           3,
           3,
           3,
           3,
           3,
           3,
           3,
           3,
           3,
           5,
           5,
           3,
           5,
           5,
           3,
           3,
           3,
           3,
           3,
           5,
           5,
           3,
           5,
           5,
           3,
           5,
           3,
           3,
           3,
           3,
           3,
           3,
           5
          ],
          [
           5,
           4,
           5,
           3,
           3,
           3,
           3,
           3,
           3,
           3,
           3,
           3,
           3,
           3,
           3,
           3,
           5,
           5,
           3,
           5,
           5,
           1,
           1,
           1,
           1,
           3,
           5,
           5,
           3,
           5,
           5,
           3,
           5,
           3,
           3,
           3,
           3,
           3,
           3,
           5
          ],
          [
           5,
           4,
           5,
           3,
           3,
           3,
           3,
           3,
           3,
           3,
           3,
           3,
           3,
           3,
           3,
           3,
           5,
           5,
           3,
           5,
           5,
           3,
           3,
           3,
           3,
           3,
           5,
           5,
           3,
           5,
           5,
           3,
           5,
           3,
           3,
           3,
           3,
           3,
           3,
           5
          ],
          [
           5,
           4,
           5,
           3,
           3,
           3,
           3,
           3,
           3,
           3,
           3,
           3,
           3,
           3,
           3,
           3,
           5,
           5,
           3,
           5,
           5,
           3,
           3,
           3,
           3,
           3,
           5,
           5,
           3,
           5,
           5,
           3,
           5,
           3,
           3,
           3,
           3,
           3,
           3,
           5
          ],
          [
           5,
           4,
           5,
           3,
           3,
           3,
           3,
           3,
           3,
           3,
           3,
           3,
           3,
           3,
           3,
           3,
           5,
           5,
           3,
           5,
           5,
           3,
           3,
           3,
           3,
           3,
           5,
           5,
           3,
           5,
           5,
           3,
           5,
           3,
           3,
           3,
           3,
           3,
           3,
           5
          ],
          [
           5,
           4,
           5,
           1,
           3,
           3,
           3,
           1,
           1,
           1,
           1,
           1,
           1,
           1,
           1,
           2,
           5,
           5,
           1,
           5,
           5,
           1,
           1,
           1,
           1,
           3,
           5,
           5,
           1,
           5,
           5,
           3,
           5,
           3,
           3,
           3,
           3,
           3,
           1,
           5
          ],
          [
           5,
           4,
           5,
           3,
           3,
           3,
           3,
           3,
           3,
           3,
           3,
           3,
           3,
           3,
           3,
           3,
           5,
           5,
           3,
           5,
           5,
           3,
           3,
           3,
           3,
           3,
           5,
           5,
           3,
           5,
           5,
           1,
           5,
           1,
           1,
           1,
           1,
           1,
           3,
           5
          ],
          [
           5,
           4,
           5,
           3,
           3,
           3,
           3,
           3,
           3,
           3,
           3,
           3,
           3,
           3,
           3,
           3,
           5,
           5,
           3,
           5,
           5,
           3,
           3,
           3,
           3,
           3,
           5,
           5,
           3,
           5,
           5,
           3,
           5,
           3,
           3,
           3,
           3,
           3,
           3,
           5
          ],
          [
           5,
           4,
           5,
           3,
           3,
           3,
           3,
           3,
           3,
           3,
           3,
           3,
           3,
           3,
           3,
           3,
           5,
           5,
           3,
           5,
           5,
           3,
           3,
           3,
           3,
           3,
           5,
           5,
           3,
           5,
           5,
           3,
           5,
           3,
           3,
           3,
           3,
           3,
           3,
           5
          ],
          [
           5,
           4,
           5,
           3,
           3,
           3,
           3,
           3,
           3,
           3,
           3,
           3,
           3,
           3,
           3,
           3,
           5,
           5,
           3,
           5,
           5,
           3,
           3,
           3,
           3,
           3,
           5,
           5,
           3,
           5,
           5,
           3,
           5,
           3,
           3,
           3,
           3,
           3,
           3,
           5
          ]
         ]
        }
       ],
       "layout": {
        "coloraxis": {
         "colorbar": {
          "len": 200,
          "lenmode": "pixels",
          "ticktext": [
           "Testado",
           "Parametrizado",
           "Implementado",
           "Em Implementação",
           "Previsto"
          ],
          "tickvals": [
           1,
           2,
           3,
           4,
           5
          ],
          "title": {
           "text": "Status"
          }
         },
         "colorscale": [
          [
           0,
           "green"
          ],
          [
           0.25,
           "lightgreen"
          ],
          [
           0.5,
           "#64b5cd"
          ],
          [
           0.75,
           "#FFD700"
          ],
          [
           1,
           "lightblue"
          ]
         ]
        },
        "font": {
         "size": 20
        },
        "height": 1800,
        "template": {
         "data": {
          "bar": [
           {
            "error_x": {
             "color": "#2a3f5f"
            },
            "error_y": {
             "color": "#2a3f5f"
            },
            "marker": {
             "line": {
              "color": "#E5ECF6",
              "width": 0.5
             },
             "pattern": {
              "fillmode": "overlay",
              "size": 10,
              "solidity": 0.2
             }
            },
            "type": "bar"
           }
          ],
          "barpolar": [
           {
            "marker": {
             "line": {
              "color": "#E5ECF6",
              "width": 0.5
             },
             "pattern": {
              "fillmode": "overlay",
              "size": 10,
              "solidity": 0.2
             }
            },
            "type": "barpolar"
           }
          ],
          "carpet": [
           {
            "aaxis": {
             "endlinecolor": "#2a3f5f",
             "gridcolor": "white",
             "linecolor": "white",
             "minorgridcolor": "white",
             "startlinecolor": "#2a3f5f"
            },
            "baxis": {
             "endlinecolor": "#2a3f5f",
             "gridcolor": "white",
             "linecolor": "white",
             "minorgridcolor": "white",
             "startlinecolor": "#2a3f5f"
            },
            "type": "carpet"
           }
          ],
          "choropleth": [
           {
            "colorbar": {
             "outlinewidth": 0,
             "ticks": ""
            },
            "type": "choropleth"
           }
          ],
          "contour": [
           {
            "colorbar": {
             "outlinewidth": 0,
             "ticks": ""
            },
            "colorscale": [
             [
              0,
              "#0d0887"
             ],
             [
              0.1111111111111111,
              "#46039f"
             ],
             [
              0.2222222222222222,
              "#7201a8"
             ],
             [
              0.3333333333333333,
              "#9c179e"
             ],
             [
              0.4444444444444444,
              "#bd3786"
             ],
             [
              0.5555555555555556,
              "#d8576b"
             ],
             [
              0.6666666666666666,
              "#ed7953"
             ],
             [
              0.7777777777777778,
              "#fb9f3a"
             ],
             [
              0.8888888888888888,
              "#fdca26"
             ],
             [
              1,
              "#f0f921"
             ]
            ],
            "type": "contour"
           }
          ],
          "contourcarpet": [
           {
            "colorbar": {
             "outlinewidth": 0,
             "ticks": ""
            },
            "type": "contourcarpet"
           }
          ],
          "heatmap": [
           {
            "colorbar": {
             "outlinewidth": 0,
             "ticks": ""
            },
            "colorscale": [
             [
              0,
              "#0d0887"
             ],
             [
              0.1111111111111111,
              "#46039f"
             ],
             [
              0.2222222222222222,
              "#7201a8"
             ],
             [
              0.3333333333333333,
              "#9c179e"
             ],
             [
              0.4444444444444444,
              "#bd3786"
             ],
             [
              0.5555555555555556,
              "#d8576b"
             ],
             [
              0.6666666666666666,
              "#ed7953"
             ],
             [
              0.7777777777777778,
              "#fb9f3a"
             ],
             [
              0.8888888888888888,
              "#fdca26"
             ],
             [
              1,
              "#f0f921"
             ]
            ],
            "type": "heatmap"
           }
          ],
          "heatmapgl": [
           {
            "colorbar": {
             "outlinewidth": 0,
             "ticks": ""
            },
            "colorscale": [
             [
              0,
              "#0d0887"
             ],
             [
              0.1111111111111111,
              "#46039f"
             ],
             [
              0.2222222222222222,
              "#7201a8"
             ],
             [
              0.3333333333333333,
              "#9c179e"
             ],
             [
              0.4444444444444444,
              "#bd3786"
             ],
             [
              0.5555555555555556,
              "#d8576b"
             ],
             [
              0.6666666666666666,
              "#ed7953"
             ],
             [
              0.7777777777777778,
              "#fb9f3a"
             ],
             [
              0.8888888888888888,
              "#fdca26"
             ],
             [
              1,
              "#f0f921"
             ]
            ],
            "type": "heatmapgl"
           }
          ],
          "histogram": [
           {
            "marker": {
             "pattern": {
              "fillmode": "overlay",
              "size": 10,
              "solidity": 0.2
             }
            },
            "type": "histogram"
           }
          ],
          "histogram2d": [
           {
            "colorbar": {
             "outlinewidth": 0,
             "ticks": ""
            },
            "colorscale": [
             [
              0,
              "#0d0887"
             ],
             [
              0.1111111111111111,
              "#46039f"
             ],
             [
              0.2222222222222222,
              "#7201a8"
             ],
             [
              0.3333333333333333,
              "#9c179e"
             ],
             [
              0.4444444444444444,
              "#bd3786"
             ],
             [
              0.5555555555555556,
              "#d8576b"
             ],
             [
              0.6666666666666666,
              "#ed7953"
             ],
             [
              0.7777777777777778,
              "#fb9f3a"
             ],
             [
              0.8888888888888888,
              "#fdca26"
             ],
             [
              1,
              "#f0f921"
             ]
            ],
            "type": "histogram2d"
           }
          ],
          "histogram2dcontour": [
           {
            "colorbar": {
             "outlinewidth": 0,
             "ticks": ""
            },
            "colorscale": [
             [
              0,
              "#0d0887"
             ],
             [
              0.1111111111111111,
              "#46039f"
             ],
             [
              0.2222222222222222,
              "#7201a8"
             ],
             [
              0.3333333333333333,
              "#9c179e"
             ],
             [
              0.4444444444444444,
              "#bd3786"
             ],
             [
              0.5555555555555556,
              "#d8576b"
             ],
             [
              0.6666666666666666,
              "#ed7953"
             ],
             [
              0.7777777777777778,
              "#fb9f3a"
             ],
             [
              0.8888888888888888,
              "#fdca26"
             ],
             [
              1,
              "#f0f921"
             ]
            ],
            "type": "histogram2dcontour"
           }
          ],
          "mesh3d": [
           {
            "colorbar": {
             "outlinewidth": 0,
             "ticks": ""
            },
            "type": "mesh3d"
           }
          ],
          "parcoords": [
           {
            "line": {
             "colorbar": {
              "outlinewidth": 0,
              "ticks": ""
             }
            },
            "type": "parcoords"
           }
          ],
          "pie": [
           {
            "automargin": true,
            "type": "pie"
           }
          ],
          "scatter": [
           {
            "marker": {
             "colorbar": {
              "outlinewidth": 0,
              "ticks": ""
             }
            },
            "type": "scatter"
           }
          ],
          "scatter3d": [
           {
            "line": {
             "colorbar": {
              "outlinewidth": 0,
              "ticks": ""
             }
            },
            "marker": {
             "colorbar": {
              "outlinewidth": 0,
              "ticks": ""
             }
            },
            "type": "scatter3d"
           }
          ],
          "scattercarpet": [
           {
            "marker": {
             "colorbar": {
              "outlinewidth": 0,
              "ticks": ""
             }
            },
            "type": "scattercarpet"
           }
          ],
          "scattergeo": [
           {
            "marker": {
             "colorbar": {
              "outlinewidth": 0,
              "ticks": ""
             }
            },
            "type": "scattergeo"
           }
          ],
          "scattergl": [
           {
            "marker": {
             "colorbar": {
              "outlinewidth": 0,
              "ticks": ""
             }
            },
            "type": "scattergl"
           }
          ],
          "scattermapbox": [
           {
            "marker": {
             "colorbar": {
              "outlinewidth": 0,
              "ticks": ""
             }
            },
            "type": "scattermapbox"
           }
          ],
          "scatterpolar": [
           {
            "marker": {
             "colorbar": {
              "outlinewidth": 0,
              "ticks": ""
             }
            },
            "type": "scatterpolar"
           }
          ],
          "scatterpolargl": [
           {
            "marker": {
             "colorbar": {
              "outlinewidth": 0,
              "ticks": ""
             }
            },
            "type": "scatterpolargl"
           }
          ],
          "scatterternary": [
           {
            "marker": {
             "colorbar": {
              "outlinewidth": 0,
              "ticks": ""
             }
            },
            "type": "scatterternary"
           }
          ],
          "surface": [
           {
            "colorbar": {
             "outlinewidth": 0,
             "ticks": ""
            },
            "colorscale": [
             [
              0,
              "#0d0887"
             ],
             [
              0.1111111111111111,
              "#46039f"
             ],
             [
              0.2222222222222222,
              "#7201a8"
             ],
             [
              0.3333333333333333,
              "#9c179e"
             ],
             [
              0.4444444444444444,
              "#bd3786"
             ],
             [
              0.5555555555555556,
              "#d8576b"
             ],
             [
              0.6666666666666666,
              "#ed7953"
             ],
             [
              0.7777777777777778,
              "#fb9f3a"
             ],
             [
              0.8888888888888888,
              "#fdca26"
             ],
             [
              1,
              "#f0f921"
             ]
            ],
            "type": "surface"
           }
          ],
          "table": [
           {
            "cells": {
             "fill": {
              "color": "#EBF0F8"
             },
             "line": {
              "color": "white"
             }
            },
            "header": {
             "fill": {
              "color": "#C8D4E3"
             },
             "line": {
              "color": "white"
             }
            },
            "type": "table"
           }
          ]
         },
         "layout": {
          "annotationdefaults": {
           "arrowcolor": "#2a3f5f",
           "arrowhead": 0,
           "arrowwidth": 1
          },
          "autotypenumbers": "strict",
          "coloraxis": {
           "colorbar": {
            "outlinewidth": 0,
            "ticks": ""
           }
          },
          "colorscale": {
           "diverging": [
            [
             0,
             "#8e0152"
            ],
            [
             0.1,
             "#c51b7d"
            ],
            [
             0.2,
             "#de77ae"
            ],
            [
             0.3,
             "#f1b6da"
            ],
            [
             0.4,
             "#fde0ef"
            ],
            [
             0.5,
             "#f7f7f7"
            ],
            [
             0.6,
             "#e6f5d0"
            ],
            [
             0.7,
             "#b8e186"
            ],
            [
             0.8,
             "#7fbc41"
            ],
            [
             0.9,
             "#4d9221"
            ],
            [
             1,
             "#276419"
            ]
           ],
           "sequential": [
            [
             0,
             "#0d0887"
            ],
            [
             0.1111111111111111,
             "#46039f"
            ],
            [
             0.2222222222222222,
             "#7201a8"
            ],
            [
             0.3333333333333333,
             "#9c179e"
            ],
            [
             0.4444444444444444,
             "#bd3786"
            ],
            [
             0.5555555555555556,
             "#d8576b"
            ],
            [
             0.6666666666666666,
             "#ed7953"
            ],
            [
             0.7777777777777778,
             "#fb9f3a"
            ],
            [
             0.8888888888888888,
             "#fdca26"
            ],
            [
             1,
             "#f0f921"
            ]
           ],
           "sequentialminus": [
            [
             0,
             "#0d0887"
            ],
            [
             0.1111111111111111,
             "#46039f"
            ],
            [
             0.2222222222222222,
             "#7201a8"
            ],
            [
             0.3333333333333333,
             "#9c179e"
            ],
            [
             0.4444444444444444,
             "#bd3786"
            ],
            [
             0.5555555555555556,
             "#d8576b"
            ],
            [
             0.6666666666666666,
             "#ed7953"
            ],
            [
             0.7777777777777778,
             "#fb9f3a"
            ],
            [
             0.8888888888888888,
             "#fdca26"
            ],
            [
             1,
             "#f0f921"
            ]
           ]
          },
          "colorway": [
           "#636efa",
           "#EF553B",
           "#00cc96",
           "#ab63fa",
           "#FFA15A",
           "#19d3f3",
           "#FF6692",
           "#B6E880",
           "#FF97FF",
           "#FECB52"
          ],
          "font": {
           "color": "#2a3f5f"
          },
          "geo": {
           "bgcolor": "white",
           "lakecolor": "white",
           "landcolor": "#E5ECF6",
           "showlakes": true,
           "showland": true,
           "subunitcolor": "white"
          },
          "hoverlabel": {
           "align": "left"
          },
          "hovermode": "closest",
          "mapbox": {
           "style": "light"
          },
          "paper_bgcolor": "white",
          "plot_bgcolor": "#E5ECF6",
          "polar": {
           "angularaxis": {
            "gridcolor": "white",
            "linecolor": "white",
            "ticks": ""
           },
           "bgcolor": "#E5ECF6",
           "radialaxis": {
            "gridcolor": "white",
            "linecolor": "white",
            "ticks": ""
           }
          },
          "scene": {
           "xaxis": {
            "backgroundcolor": "#E5ECF6",
            "gridcolor": "white",
            "gridwidth": 2,
            "linecolor": "white",
            "showbackground": true,
            "ticks": "",
            "zerolinecolor": "white"
           },
           "yaxis": {
            "backgroundcolor": "#E5ECF6",
            "gridcolor": "white",
            "gridwidth": 2,
            "linecolor": "white",
            "showbackground": true,
            "ticks": "",
            "zerolinecolor": "white"
           },
           "zaxis": {
            "backgroundcolor": "#E5ECF6",
            "gridcolor": "white",
            "gridwidth": 2,
            "linecolor": "white",
            "showbackground": true,
            "ticks": "",
            "zerolinecolor": "white"
           }
          },
          "shapedefaults": {
           "line": {
            "color": "#2a3f5f"
           }
          },
          "ternary": {
           "aaxis": {
            "gridcolor": "white",
            "linecolor": "white",
            "ticks": ""
           },
           "baxis": {
            "gridcolor": "white",
            "linecolor": "white",
            "ticks": ""
           },
           "bgcolor": "#E5ECF6",
           "caxis": {
            "gridcolor": "white",
            "linecolor": "white",
            "ticks": ""
           }
          },
          "title": {
           "x": 0.05
          },
          "xaxis": {
           "automargin": true,
           "gridcolor": "white",
           "linecolor": "white",
           "ticks": "",
           "title": {
            "standoff": 15
           },
           "zerolinecolor": "white",
           "zerolinewidth": 2
          },
          "yaxis": {
           "automargin": true,
           "gridcolor": "white",
           "linecolor": "white",
           "ticks": "",
           "title": {
            "standoff": 15
           },
           "zerolinecolor": "white",
           "zerolinewidth": 2
          }
         }
        },
        "title": {
         "text": "Visão Geral - Validadores feitos e a fazer"
        },
        "width": 1700,
        "xaxis": {
         "anchor": "y",
         "autorange": true,
         "constrain": "domain",
         "domain": [
          1.1102230246251565e-16,
          0.9999999999999999
         ],
         "range": [
          -0.5,
          39.5
         ],
         "scaleanchor": "y",
         "side": "top",
         "tickangle": -90,
         "type": "category"
        },
        "yaxis": {
         "anchor": "x",
         "autorange": true,
         "constrain": "domain",
         "domain": [
          0.34197530864197534,
          0.6580246913580247
         ],
         "gridwidth": 5,
         "range": [
          19.5,
          -0.5
         ],
         "showgrid": true,
         "title": {
          "text": "template_rank"
         },
         "type": "category"
        }
       }
      },
      "image/png": "[encoded data removed]",
      "text/html": [
       "<div>                            <div id=\"a3a288a9-4a65-40c8-a005-bfe5ec4fcadb\" class=\"plotly-graph-div\" style=\"height:1800px; width:1700px;\"></div>            <script type=\"text/javascript\">                require([\"plotly\"], function(Plotly) {                    window.PLOTLYENV=window.PLOTLYENV || {};                                    if (document.getElementById(\"a3a288a9-4a65-40c8-a005-bfe5ec4fcadb\")) {                    Plotly.newPlot(                        \"a3a288a9-4a65-40c8-a005-bfe5ec4fcadb\",                        [{\"coloraxis\":\"coloraxis\",\"hovertemplate\":\"x: %{x}<br>template_rank: %{y}<br>color: %{z}<extra></extra>\",\"name\":\"0\",\"opacity\":0.75,\"type\":\"heatmap\",\"x\":[\"Acesso \\u00e0 Informa\\u00e7\\u00e3o: Bases de dados abertos\",\"Acesso \\u00e0 Informa\\u00e7\\u00e3o: Informa\\u00e7\\u00f5es\",\"Acesso \\u00e0 Informa\\u00e7\\u00e3o: Relat\\u00f3rio estat\\u00edstico\",\"Acesso \\u00e0 Informa\\u00e7\\u00e3o: Requisitos Exigidos\",\"Concursos P\\u00fablicos: C\\u00f3pia do edital do concurso\",\"Concursos P\\u00fablicos: Dados do Concurso\",\"Concursos P\\u00fablicos: Divulga\\u00e7\\u00e3o\",\"Contratos: Conte\\u00fado integral\",\"Contratos: Dados dos contratos\",\"Contratos: Gerar relat\\u00f3rio\",\"Despesas com di\\u00e1rias: Despesas com di\\u00e1rias\",\"Despesas: Consulta\",\"Despesas: Empenhos\",\"Despesas: Gerar relat\\u00f3rio\",\"Despesas: Pagamentos\",\"Despesas: Relat\\u00f3rios\",\"Informa\\u00e7\\u00f5es institucionais: Conselhos Municipais\",\"Informa\\u00e7\\u00f5es institucionais: Estrutura organizacional\",\"Informa\\u00e7\\u00f5es institucionais: Link de acesso\",\"Informa\\u00e7\\u00f5es institucionais: Registro das compet\\u00eancias\",\"Informa\\u00e7\\u00f5es institucionais: Unidades administrativas\",\"Licita\\u00e7\\u00f5es: Editais\",\"Licita\\u00e7\\u00f5es: Processos licitat\\u00f3rios\",\"Licita\\u00e7\\u00f5es: Registro dos procedimentos\",\"Licita\\u00e7\\u00f5es: Resultados das licita\\u00e7\\u00f5es\",\"Obras p\\u00fablicas: Dados para acompanhamento\",\"Or\\u00e7amento: Execu\\u00e7\\u00e3o\",\"Or\\u00e7amento: Legisla\\u00e7\\u00e3o\",\"Receitas: Dados das receitas\",\"Servidores P\\u00fablicos: Auxilios\",\"Servidores P\\u00fablicos: Dados de remunera\\u00e7\\u00e3o\",\"Servidores P\\u00fablicos: Dados dos servidores\",\"Servidores P\\u00fablicos: Disp\\u00eandios\",\"Servidores P\\u00fablicos: Proventos de aposentadoria\",\"Servidores P\\u00fablicos: Proventos de pens\\u00e3o\",\"Servidores P\\u00fablicos: Registro da remunera\\u00e7\\u00e3o\",\"Servidores P\\u00fablicos: Registro por lota\\u00e7\\u00e3o\",\"Servidores P\\u00fablicos: Relat\\u00f3rio mensal\",\"Terceiro Setor: Dados de Parcerias\",\"Terceiro Setor: Repasses\"],\"xaxis\":\"x\",\"y\":[\"(m) Betim (3\\u00ba)\",\"(m) Juiz de Fora (2\\u00ba)\",\"(m) Te\\u00f3filo Otoni (4\\u00ba)\",\"(m) Uberl\\u00e2ndia (1\\u00ba)\",\"(m) Varginha (5\\u00ba)\",\"ABO (13\\u00ba)\",\"ADPM (12\\u00ba)\",\"Betha (10\\u00ba)\",\"GRP (9\\u00ba)\",\"Memory (2\\u00ba)\",\"Municipal Net (14\\u00ba)\",\"PT (7\\u00ba)\",\"Portal Facil (60) (5\\u00ba)\",\"Portal F\\u00e1cil (46) (6\\u00ba)\",\"Portaltp (4\\u00ba)\",\"Siplanweb (3\\u00ba)\",\"S\\u00edntese tecnologia informatica (1\\u00ba)\",\"Template1 (22) (11\\u00ba)\",\"Template1 (9) (15\\u00ba)\",\"Template2 (8\\u00ba)\"],\"yaxis\":\"y\",\"z\":[[5,4,5,3,3,3,3,3,3,3,3,3,3,3,3,3,5,5,3,5,5,3,3,3,3,3,5,5,3,5,5,3,5,3,3,3,3,3,3,5],[5,4,5,3,3,3,3,3,3,3,3,3,3,3,3,3,5,5,3,5,5,3,3,3,3,3,5,5,3,5,5,3,5,3,3,3,3,3,3,5],[5,4,5,3,3,3,3,3,3,3,3,3,3,3,3,3,5,5,3,5,5,3,3,3,3,3,5,5,3,5,5,3,5,3,3,3,3,3,3,5],[5,4,5,3,3,3,3,3,3,3,3,3,3,3,3,3,5,5,3,5,5,3,3,3,3,3,5,5,3,5,5,3,5,3,3,3,3,3,3,5],[5,4,5,3,3,3,3,3,3,3,3,3,3,3,3,3,5,5,3,5,5,3,3,3,3,3,5,5,3,5,5,3,5,3,3,3,3,3,3,5],[5,4,5,3,1,1,1,3,3,3,3,3,3,3,3,3,5,5,3,5,5,3,3,3,3,3,5,5,3,5,5,3,5,3,3,3,3,3,3,5],[5,4,5,3,3,3,3,3,3,3,3,3,3,3,3,3,5,5,3,5,5,3,3,3,3,3,5,5,3,5,5,3,5,3,3,3,3,3,3,5],[5,4,5,3,3,3,3,3,3,3,3,3,3,3,3,3,5,5,3,5,5,1,1,1,1,1,5,5,3,5,5,3,5,3,3,3,3,3,3,5],[5,4,5,3,3,3,3,3,3,3,3,3,3,3,3,3,5,5,3,5,5,1,1,1,1,3,5,5,3,5,5,3,5,3,3,3,3,3,3,5],[5,4,5,3,3,3,3,3,3,3,3,3,3,3,3,3,5,5,3,5,5,3,3,3,3,3,5,5,3,5,5,3,5,3,3,3,3,3,3,5],[5,4,5,3,3,3,3,3,3,3,3,3,3,3,3,3,5,5,3,5,5,3,3,3,3,3,5,5,3,5,5,3,5,3,3,3,3,3,3,5],[5,4,5,3,3,3,3,3,3,3,3,3,3,3,3,3,5,5,3,5,5,1,1,1,1,3,5,5,3,5,5,3,5,3,3,3,3,3,3,5],[5,4,5,3,3,3,3,3,3,3,3,3,3,3,3,3,5,5,3,5,5,3,3,3,3,3,5,5,3,5,5,3,5,3,3,3,3,3,3,5],[5,4,5,3,3,3,3,3,3,3,3,3,3,3,3,3,5,5,3,5,5,3,3,3,3,3,5,5,3,5,5,3,5,3,3,3,3,3,3,5],[5,4,5,3,3,3,3,3,3,3,3,3,3,3,3,3,5,5,3,5,5,3,3,3,3,3,5,5,3,5,5,3,5,3,3,3,3,3,3,5],[5,4,5,1,3,3,3,1,1,1,1,1,1,1,1,2,5,5,1,5,5,1,1,1,1,3,5,5,1,5,5,3,5,3,3,3,3,3,1,5],[5,4,5,3,3,3,3,3,3,3,3,3,3,3,3,3,5,5,3,5,5,3,3,3,3,3,5,5,3,5,5,1,5,1,1,1,1,1,3,5],[5,4,5,3,3,3,3,3,3,3,3,3,3,3,3,3,5,5,3,5,5,3,3,3,3,3,5,5,3,5,5,3,5,3,3,3,3,3,3,5],[5,4,5,3,3,3,3,3,3,3,3,3,3,3,3,3,5,5,3,5,5,3,3,3,3,3,5,5,3,5,5,3,5,3,3,3,3,3,3,5],[5,4,5,3,3,3,3,3,3,3,3,3,3,3,3,3,5,5,3,5,5,3,3,3,3,3,5,5,3,5,5,3,5,3,3,3,3,3,3,5]]}],                        {\"coloraxis\":{\"colorbar\":{\"len\":200,\"lenmode\":\"pixels\",\"ticktext\":[\"Testado\",\"Parametrizado\",\"Implementado\",\"Em Implementa\\u00e7\\u00e3o\",\"Previsto\"],\"tickvals\":[1,2,3,4,5],\"title\":{\"text\":\"Status\"}},\"colorscale\":[[0,\"green\"],[0.25,\"lightgreen\"],[0.5,\"#64b5cd\"],[0.75,\"#FFD700\"],[1,\"lightblue\"]]},\"font\":{\"size\":20},\"height\":1800,\"template\":{\"data\":{\"bar\":[{\"error_x\":{\"color\":\"#2a3f5f\"},\"error_y\":{\"color\":\"#2a3f5f\"},\"marker\":{\"line\":{\"color\":\"#E5ECF6\",\"width\":0.5},\"pattern\":{\"fillmode\":\"overlay\",\"size\":10,\"solidity\":0.2}},\"type\":\"bar\"}],\"barpolar\":[{\"marker\":{\"line\":{\"color\":\"#E5ECF6\",\"width\":0.5},\"pattern\":{\"fillmode\":\"overlay\",\"size\":10,\"solidity\":0.2}},\"type\":\"barpolar\"}],\"carpet\":[{\"aaxis\":{\"endlinecolor\":\"#2a3f5f\",\"gridcolor\":\"white\",\"linecolor\":\"white\",\"minorgridcolor\":\"white\",\"startlinecolor\":\"#2a3f5f\"},\"baxis\":{\"endlinecolor\":\"#2a3f5f\",\"gridcolor\":\"white\",\"linecolor\":\"white\",\"minorgridcolor\":\"white\",\"startlinecolor\":\"#2a3f5f\"},\"type\":\"carpet\"}],\"choropleth\":[{\"colorbar\":{\"outlinewidth\":0,\"ticks\":\"\"},\"type\":\"choropleth\"}],\"contour\":[{\"colorbar\":{\"outlinewidth\":0,\"ticks\":\"\"},\"colorscale\":[[0.0,\"#0d0887\"],[0.1111111111111111,\"#46039f\"],[0.2222222222222222,\"#7201a8\"],[0.3333333333333333,\"#9c179e\"],[0.4444444444444444,\"#bd3786\"],[0.5555555555555556,\"#d8576b\"],[0.6666666666666666,\"#ed7953\"],[0.7777777777777778,\"#fb9f3a\"],[0.8888888888888888,\"#fdca26\"],[1.0,\"#f0f921\"]],\"type\":\"contour\"}],\"contourcarpet\":[{\"colorbar\":{\"outlinewidth\":0,\"ticks\":\"\"},\"type\":\"contourcarpet\"}],\"heatmap\":[{\"colorbar\":{\"outlinewidth\":0,\"ticks\":\"\"},\"colorscale\":[[0.0,\"#0d0887\"],[0.1111111111111111,\"#46039f\"],[0.2222222222222222,\"#7201a8\"],[0.3333333333333333,\"#9c179e\"],[0.4444444444444444,\"#bd3786\"],[0.5555555555555556,\"#d8576b\"],[0.6666666666666666,\"#ed7953\"],[0.7777777777777778,\"#fb9f3a\"],[0.8888888888888888,\"#fdca26\"],[1.0,\"#f0f921\"]],\"type\":\"heatmap\"}],\"heatmapgl\":[{\"colorbar\":{\"outlinewidth\":0,\"ticks\":\"\"},\"colorscale\":[[0.0,\"#0d0887\"],[0.1111111111111111,\"#46039f\"],[0.2222222222222222,\"#7201a8\"],[0.3333333333333333,\"#9c179e\"],[0.4444444444444444,\"#bd3786\"],[0.5555555555555556,\"#d8576b\"],[0.6666666666666666,\"#ed7953\"],[0.7777777777777778,\"#fb9f3a\"],[0.8888888888888888,\"#fdca26\"],[1.0,\"#f0f921\"]],\"type\":\"heatmapgl\"}],\"histogram\":[{\"marker\":{\"pattern\":{\"fillmode\":\"overlay\",\"size\":10,\"solidity\":0.2}},\"type\":\"histogram\"}],\"histogram2d\":[{\"colorbar\":{\"outlinewidth\":0,\"ticks\":\"\"},\"colorscale\":[[0.0,\"#0d0887\"],[0.1111111111111111,\"#46039f\"],[0.2222222222222222,\"#7201a8\"],[0.3333333333333333,\"#9c179e\"],[0.4444444444444444,\"#bd3786\"],[0.5555555555555556,\"#d8576b\"],[0.6666666666666666,\"#ed7953\"],[0.7777777777777778,\"#fb9f3a\"],[0.8888888888888888,\"#fdca26\"],[1.0,\"#f0f921\"]],\"type\":\"histogram2d\"}],\"histogram2dcontour\":[{\"colorbar\":{\"outlinewidth\":0,\"ticks\":\"\"},\"colorscale\":[[0.0,\"#0d0887\"],[0.1111111111111111,\"#46039f\"],[0.2222222222222222,\"#7201a8\"],[0.3333333333333333,\"#9c179e\"],[0.4444444444444444,\"#bd3786\"],[0.5555555555555556,\"#d8576b\"],[0.6666666666666666,\"#ed7953\"],[0.7777777777777778,\"#fb9f3a\"],[0.8888888888888888,\"#fdca26\"],[1.0,\"#f0f921\"]],\"type\":\"histogram2dcontour\"}],\"mesh3d\":[{\"colorbar\":{\"outlinewidth\":0,\"ticks\":\"\"},\"type\":\"mesh3d\"}],\"parcoords\":[{\"line\":{\"colorbar\":{\"outlinewidth\":0,\"ticks\":\"\"}},\"type\":\"parcoords\"}],\"pie\":[{\"automargin\":true,\"type\":\"pie\"}],\"scatter\":[{\"marker\":{\"colorbar\":{\"outlinewidth\":0,\"ticks\":\"\"}},\"type\":\"scatter\"}],\"scatter3d\":[{\"line\":{\"colorbar\":{\"outlinewidth\":0,\"ticks\":\"\"}},\"marker\":{\"colorbar\":{\"outlinewidth\":0,\"ticks\":\"\"}},\"type\":\"scatter3d\"}],\"scattercarpet\":[{\"marker\":{\"colorbar\":{\"outlinewidth\":0,\"ticks\":\"\"}},\"type\":\"scattercarpet\"}],\"scattergeo\":[{\"marker\":{\"colorbar\":{\"outlinewidth\":0,\"ticks\":\"\"}},\"type\":\"scattergeo\"}],\"scattergl\":[{\"marker\":{\"colorbar\":{\"outlinewidth\":0,\"ticks\":\"\"}},\"type\":\"scattergl\"}],\"scattermapbox\":[{\"marker\":{\"colorbar\":{\"outlinewidth\":0,\"ticks\":\"\"}},\"type\":\"scattermapbox\"}],\"scatterpolar\":[{\"marker\":{\"colorbar\":{\"outlinewidth\":0,\"ticks\":\"\"}},\"type\":\"scatterpolar\"}],\"scatterpolargl\":[{\"marker\":{\"colorbar\":{\"outlinewidth\":0,\"ticks\":\"\"}},\"type\":\"scatterpolargl\"}],\"scatterternary\":[{\"marker\":{\"colorbar\":{\"outlinewidth\":0,\"ticks\":\"\"}},\"type\":\"scatterternary\"}],\"surface\":[{\"colorbar\":{\"outlinewidth\":0,\"ticks\":\"\"},\"colorscale\":[[0.0,\"#0d0887\"],[0.1111111111111111,\"#46039f\"],[0.2222222222222222,\"#7201a8\"],[0.3333333333333333,\"#9c179e\"],[0.4444444444444444,\"#bd3786\"],[0.5555555555555556,\"#d8576b\"],[0.6666666666666666,\"#ed7953\"],[0.7777777777777778,\"#fb9f3a\"],[0.8888888888888888,\"#fdca26\"],[1.0,\"#f0f921\"]],\"type\":\"surface\"}],\"table\":[{\"cells\":{\"fill\":{\"color\":\"#EBF0F8\"},\"line\":{\"color\":\"white\"}},\"header\":{\"fill\":{\"color\":\"#C8D4E3\"},\"line\":{\"color\":\"white\"}},\"type\":\"table\"}]},\"layout\":{\"annotationdefaults\":{\"arrowcolor\":\"#2a3f5f\",\"arrowhead\":0,\"arrowwidth\":1},\"autotypenumbers\":\"strict\",\"coloraxis\":{\"colorbar\":{\"outlinewidth\":0,\"ticks\":\"\"}},\"colorscale\":{\"diverging\":[[0,\"#8e0152\"],[0.1,\"#c51b7d\"],[0.2,\"#de77ae\"],[0.3,\"#f1b6da\"],[0.4,\"#fde0ef\"],[0.5,\"#f7f7f7\"],[0.6,\"#e6f5d0\"],[0.7,\"#b8e186\"],[0.8,\"#7fbc41\"],[0.9,\"#4d9221\"],[1,\"#276419\"]],\"sequential\":[[0.0,\"#0d0887\"],[0.1111111111111111,\"#46039f\"],[0.2222222222222222,\"#7201a8\"],[0.3333333333333333,\"#9c179e\"],[0.4444444444444444,\"#bd3786\"],[0.5555555555555556,\"#d8576b\"],[0.6666666666666666,\"#ed7953\"],[0.7777777777777778,\"#fb9f3a\"],[0.8888888888888888,\"#fdca26\"],[1.0,\"#f0f921\"]],\"sequentialminus\":[[0.0,\"#0d0887\"],[0.1111111111111111,\"#46039f\"],[0.2222222222222222,\"#7201a8\"],[0.3333333333333333,\"#9c179e\"],[0.4444444444444444,\"#bd3786\"],[0.5555555555555556,\"#d8576b\"],[0.6666666666666666,\"#ed7953\"],[0.7777777777777778,\"#fb9f3a\"],[0.8888888888888888,\"#fdca26\"],[1.0,\"#f0f921\"]]},\"colorway\":[\"#636efa\",\"#EF553B\",\"#00cc96\",\"#ab63fa\",\"#FFA15A\",\"#19d3f3\",\"#FF6692\",\"#B6E880\",\"#FF97FF\",\"#FECB52\"],\"font\":{\"color\":\"#2a3f5f\"},\"geo\":{\"bgcolor\":\"white\",\"lakecolor\":\"white\",\"landcolor\":\"#E5ECF6\",\"showlakes\":true,\"showland\":true,\"subunitcolor\":\"white\"},\"hoverlabel\":{\"align\":\"left\"},\"hovermode\":\"closest\",\"mapbox\":{\"style\":\"light\"},\"paper_bgcolor\":\"white\",\"plot_bgcolor\":\"#E5ECF6\",\"polar\":{\"angularaxis\":{\"gridcolor\":\"white\",\"linecolor\":\"white\",\"ticks\":\"\"},\"bgcolor\":\"#E5ECF6\",\"radialaxis\":{\"gridcolor\":\"white\",\"linecolor\":\"white\",\"ticks\":\"\"}},\"scene\":{\"xaxis\":{\"backgroundcolor\":\"#E5ECF6\",\"gridcolor\":\"white\",\"gridwidth\":2,\"linecolor\":\"white\",\"showbackground\":true,\"ticks\":\"\",\"zerolinecolor\":\"white\"},\"yaxis\":{\"backgroundcolor\":\"#E5ECF6\",\"gridcolor\":\"white\",\"gridwidth\":2,\"linecolor\":\"white\",\"showbackground\":true,\"ticks\":\"\",\"zerolinecolor\":\"white\"},\"zaxis\":{\"backgroundcolor\":\"#E5ECF6\",\"gridcolor\":\"white\",\"gridwidth\":2,\"linecolor\":\"white\",\"showbackground\":true,\"ticks\":\"\",\"zerolinecolor\":\"white\"}},\"shapedefaults\":{\"line\":{\"color\":\"#2a3f5f\"}},\"ternary\":{\"aaxis\":{\"gridcolor\":\"white\",\"linecolor\":\"white\",\"ticks\":\"\"},\"baxis\":{\"gridcolor\":\"white\",\"linecolor\":\"white\",\"ticks\":\"\"},\"bgcolor\":\"#E5ECF6\",\"caxis\":{\"gridcolor\":\"white\",\"linecolor\":\"white\",\"ticks\":\"\"}},\"title\":{\"x\":0.05},\"xaxis\":{\"automargin\":true,\"gridcolor\":\"white\",\"linecolor\":\"white\",\"ticks\":\"\",\"title\":{\"standoff\":15},\"zerolinecolor\":\"white\",\"zerolinewidth\":2},\"yaxis\":{\"automargin\":true,\"gridcolor\":\"white\",\"linecolor\":\"white\",\"ticks\":\"\",\"title\":{\"standoff\":15},\"zerolinecolor\":\"white\",\"zerolinewidth\":2}}},\"title\":{\"text\":\"Vis\\u00e3o Geral - Validadores feitos e a fazer\"},\"width\":1700,\"xaxis\":{\"anchor\":\"y\",\"constrain\":\"domain\",\"domain\":[0.0,1.0],\"scaleanchor\":\"y\",\"side\":\"top\",\"tickangle\":-90},\"yaxis\":{\"anchor\":\"x\",\"autorange\":\"reversed\",\"constrain\":\"domain\",\"domain\":[0.0,1.0],\"gridwidth\":5,\"showgrid\":true,\"title\":{\"text\":\"template_rank\"}}},                        {\"responsive\": true}                    ).then(function(){\n",
       "                            \n",
       "var gd = document.getElementById('a3a288a9-4a65-40c8-a005-bfe5ec4fcadb');\n",
       "var x = new MutationObserver(function (mutations, observer) {{\n",
       "        var display = window.getComputedStyle(gd).display;\n",
       "        if (!display || display === 'none') {{\n",
       "            console.log([gd, 'removed!']);\n",
       "            Plotly.purge(gd);\n",
       "            observer.disconnect();\n",
       "        }}\n",
       "}});\n",
       "\n",
       "// Listen for the removal of the full notebook cells\n",
       "var notebookContainer = gd.closest('#notebook-container');\n",
       "if (notebookContainer) {{\n",
       "    x.observe(notebookContainer, {childList: true});\n",
       "}}\n",
       "\n",
       "// Listen for the clearing of the current output cell\n",
       "var outputEl = gd.closest('.output');\n",
       "if (outputEl) {{\n",
       "    x.observe(outputEl, {childList: true});\n",
       "}}\n",
       "\n",
       "                        })                };                });            </script>        </div>"
      ]
     },
     "metadata": {},
     "output_type": "display_data"
    }
   ],
   "source": [
    "import plotly.express as px\n",
    "import matplotlib.pyplot as plt\n",
    "\n",
    "def plot_status_epics_dev(df, title, y_column, x_column, hue, showlegend=True):    \n",
    "\n",
    "    fig = px.imshow(\n",
    "        df, height=1800, width=1700, title=title,\n",
    "        color_continuous_scale=[(0, \"green\"), (0.25, 'lightgreen'), (0.5, \"#64b5cd\"), \n",
    "                                (0.75, '#FFD700'), (1, 'lightblue')]\n",
    "    )     \n",
    "        \n",
    "    fig.update_traces(opacity=0.75)\n",
    "    fig.update_xaxes(tickangle=-90, side=\"top\")\n",
    "    fig.update_yaxes(showgrid=True, gridwidth=5)\n",
    "    \n",
    "    fig.update_layout(\n",
    "        coloraxis_colorbar=dict(\n",
    "            title=\"Status\", \n",
    "            tickvals=[1,2,3,4,5],\n",
    "            ticktext=[\"Testado\",\"Parametrizado\",\"Implementado\",\"Em Implementação\",'Previsto'],\n",
    "            lenmode=\"pixels\", \n",
    "            len=200), \n",
    "        font=dict(size=20)\n",
    "    )\n",
    "    \n",
    "    return fig\n",
    "\n",
    "#-----------------------------------------------------------------------\n",
    "\n",
    "figures.plot_status_epics_dev = plot_status_epics_dev\n",
    "\n",
    "epics_dev_df = pd.read_csv(\"data/epics_dev.csv\", index_col=\"template_rank\")\n",
    "\n",
    "fig = figures.plot_status_epics_dev(epics_dev_df, title='Visão Geral - Validadores feitos e a fazer',        \n",
    "        y_column='template', x_column='title', hue=\"state\", showlegend=True)\n",
    "\n",
    "\n",
    "fig.write_image('./fig/status-dev.png')#, scale=1)\n",
    "fig"
   ]
  }
 ],
 "metadata": {
  "colab": {
   "authorship_tag": "ABX9TyPk/ApKG9UCTlvsEkrkaKi3",
   "collapsed_sections": [],
   "name": "Untitled0.ipynb",
   "provenance": []
  },
  "kernelspec": {
   "display_name": "Python 3 (ipykernel)",
   "language": "python",
   "name": "python3"
  },
  "language_info": {
   "codemirror_mode": {
    "name": "ipython",
    "version": 3
   },
   "file_extension": ".py",
   "mimetype": "text/x-python",
   "name": "python",
   "nbconvert_exporter": "python",
   "pygments_lexer": "ipython3",
   "version": "3.8.10"
  }
 },
 "nbformat": 4,
 "nbformat_minor": 4
}
