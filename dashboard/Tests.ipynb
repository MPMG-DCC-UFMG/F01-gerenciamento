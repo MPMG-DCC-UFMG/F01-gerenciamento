{
 "cells": [
  {
   "cell_type": "code",
   "execution_count": 2,
   "id": "ca1e0a76-1e3b-456d-a6dc-962c6ac80def",
   "metadata": {},
   "outputs": [],
   "source": [
    "import dash, math, datetime as dt, pandas as pd\n",
    "from dash.dependencies import Input, Output, State, ClientsideFunction\n",
    "from dash import dcc, html\n",
    "import dash_bootstrap_components as dbc\n",
    "from dash_bootstrap_templates import load_figure_template\n",
    "import plotly\n",
    "import plotly.io as pio\n",
    "import plotly.graph_objects as go \n",
    "import plotly.figure_factory as ff\n",
    "import plotly.express as px\n",
    "\n",
    "%load_ext autoreload\n",
    "%autoreload 2\n",
    "import figures, main_etl, extract_data, transform_data\n",
    "\n",
    "from tqdm import tqdm\n",
    "tqdm.pandas()"
   ]
  },
  {
   "cell_type": "code",
   "execution_count": 60,
   "id": "eddcb45d-e293-48c5-b755-b31c264146e9",
   "metadata": {},
   "outputs": [],
   "source": [
    "from github import Github\n",
    "\n",
    "with open('tokens.txt') as f:\n",
    "     git_token, zh_token = [line.rstrip('\\n') for line in f.readlines()]    \n",
    "        \n",
    "g = Github(git_token)\n",
    "repo_F01 = g.get_repo(\"MPMG-DCC-UFMG/F01\")"
   ]
  },
  {
   "cell_type": "code",
   "execution_count": null,
   "id": "bf2f62e9-f6ff-4ae6-a276-81c5f1a9f905",
   "metadata": {},
   "outputs": [],
   "source": []
  }
 ],
 "metadata": {
  "kernelspec": {
   "display_name": "Python 3 (ipykernel)",
   "language": "python",
   "name": "python3"
  },
  "language_info": {
   "codemirror_mode": {
    "name": "ipython",
    "version": 3
   },
   "file_extension": ".py",
   "mimetype": "text/x-python",
   "name": "python",
   "nbconvert_exporter": "python",
   "pygments_lexer": "ipython3",
   "version": "3.8.13"
  }
 },
 "nbformat": 4,
 "nbformat_minor": 5
}
