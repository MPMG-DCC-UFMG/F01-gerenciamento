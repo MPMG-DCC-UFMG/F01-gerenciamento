{
 "cells": [
  {
   "cell_type": "markdown",
   "metadata": {},
   "source": [
    "# Coleta automatica - Template2"
   ]
  },
  {
   "cell_type": "code",
   "execution_count": 3,
   "metadata": {},
   "outputs": [
    {
     "name": "stdout",
     "output_type": "stream",
     "text": [
      "Collecting selenium\n",
      "  Downloading selenium-4.2.0-py3-none-any.whl (983 kB)\n",
      "\u001b[2K     \u001b[90m━━━━━━━━━━━━━━━━━━━━━━━━━━━━━━━━━━━━━━━\u001b[0m \u001b[32m983.2/983.2 kB\u001b[0m \u001b[31m6.1 MB/s\u001b[0m eta \u001b[36m0:00:00\u001b[0m00:01\u001b[0m00:01\u001b[0m\n",
      "\u001b[?25hRequirement already satisfied: urllib3[secure,socks]~=1.26 in ./F01-gerenciamento/venv/f01-g/lib/python3.8/site-packages (from selenium) (1.26.9)\n",
      "Collecting trio-websocket~=0.9\n",
      "  Downloading trio_websocket-0.9.2-py3-none-any.whl (16 kB)\n",
      "Collecting trio~=0.17\n",
      "  Downloading trio-0.21.0-py3-none-any.whl (358 kB)\n",
      "\u001b[2K     \u001b[90m━━━━━━━━━━━━━━━━━━━━━━━━━━━━━━━━━━━━━━\u001b[0m \u001b[32m359.0/359.0 kB\u001b[0m \u001b[31m21.2 MB/s\u001b[0m eta \u001b[36m0:00:00\u001b[0m\n",
      "\u001b[?25hRequirement already satisfied: sniffio in ./F01-gerenciamento/venv/f01-g/lib/python3.8/site-packages (from trio~=0.17->selenium) (1.2.0)\n",
      "Collecting async-generator>=1.9\n",
      "  Downloading async_generator-1.10-py3-none-any.whl (18 kB)\n",
      "Collecting outcome\n",
      "  Downloading outcome-1.2.0-py2.py3-none-any.whl (9.7 kB)\n",
      "Collecting sortedcontainers\n",
      "  Downloading sortedcontainers-2.4.0-py2.py3-none-any.whl (29 kB)\n",
      "Requirement already satisfied: idna in ./F01-gerenciamento/venv/f01-g/lib/python3.8/site-packages (from trio~=0.17->selenium) (3.3)\n",
      "Requirement already satisfied: attrs>=19.2.0 in ./F01-gerenciamento/venv/f01-g/lib/python3.8/site-packages (from trio~=0.17->selenium) (21.4.0)\n",
      "Collecting wsproto>=0.14\n",
      "  Downloading wsproto-1.1.0-py3-none-any.whl (24 kB)\n",
      "Collecting pyOpenSSL>=0.14\n",
      "  Downloading pyOpenSSL-22.0.0-py2.py3-none-any.whl (55 kB)\n",
      "\u001b[2K     \u001b[90m━━━━━━━━━━━━━━━━━━━━━━━━━━━━━━━━━━━━━━━━\u001b[0m \u001b[32m55.8/55.8 kB\u001b[0m \u001b[31m12.8 MB/s\u001b[0m eta \u001b[36m0:00:00\u001b[0m\n",
      "\u001b[?25hRequirement already satisfied: certifi in ./F01-gerenciamento/venv/f01-g/lib/python3.8/site-packages (from urllib3[secure,socks]~=1.26->selenium) (2022.6.15)\n",
      "Requirement already satisfied: cryptography>=1.3.4 in ./F01-gerenciamento/venv/f01-g/lib/python3.8/site-packages (from urllib3[secure,socks]~=1.26->selenium) (37.0.2)\n",
      "Collecting PySocks!=1.5.7,<2.0,>=1.5.6\n",
      "  Downloading PySocks-1.7.1-py3-none-any.whl (16 kB)\n",
      "Requirement already satisfied: cffi>=1.12 in ./F01-gerenciamento/venv/f01-g/lib/python3.8/site-packages (from cryptography>=1.3.4->urllib3[secure,socks]~=1.26->selenium) (1.15.0)\n",
      "Collecting h11<1,>=0.9.0\n",
      "  Downloading h11-0.13.0-py3-none-any.whl (58 kB)\n",
      "\u001b[2K     \u001b[90m━━━━━━━━━━━━━━━━━━━━━━━━━━━━━━━━━━━━━━━━\u001b[0m \u001b[32m58.2/58.2 kB\u001b[0m \u001b[31m7.6 MB/s\u001b[0m eta \u001b[36m0:00:00\u001b[0m\n",
      "\u001b[?25hRequirement already satisfied: pycparser in ./F01-gerenciamento/venv/f01-g/lib/python3.8/site-packages (from cffi>=1.12->cryptography>=1.3.4->urllib3[secure,socks]~=1.26->selenium) (2.21)\n",
      "Installing collected packages: sortedcontainers, PySocks, outcome, h11, async-generator, wsproto, trio, trio-websocket, pyOpenSSL, selenium\n",
      "Successfully installed PySocks-1.7.1 async-generator-1.10 h11-0.13.0 outcome-1.2.0 pyOpenSSL-22.0.0 selenium-4.2.0 sortedcontainers-2.4.0 trio-0.21.0 trio-websocket-0.9.2 wsproto-1.1.0\n"
     ]
    }
   ],
   "source": [
    "!pip install selenium"
   ]
  },
  {
   "cell_type": "markdown",
   "metadata": {},
   "source": [
    "Com o objetivo de iniciar um estudo acerca do reaproveitamento de coletores dentro de um mesmo template, esse notebook discute uma abordagem inicial a ser realizada no Template 2. Para isso, utiliza-se as seguintes bibliotecas:\\\n",
    "-BeaufifulSoup para gerar links \\\n",
    "-Selenium e Playwright para realização dos processamentos dinâmicos\\\n",
    "Casos isoladas como baixar pdfs que abrem em nova guia são tratados usando a ferramenta de automação PyAutogui."
   ]
  },
  {
   "cell_type": "markdown",
   "metadata": {},
   "source": [
    "## Bibliotecas"
   ]
  },
  {
   "cell_type": "code",
   "execution_count": 67,
   "metadata": {},
   "outputs": [],
   "source": [
    "import os\n",
    "import time\n",
    "import urllib3\n",
    "import pyautogui\n",
    "import asyncio\n",
    "import time\n",
    "\n",
    "from selenium import webdriver\n",
    "from selenium.webdriver.chrome.options import Options\n",
    "from selenium.webdriver.common.by import By\n",
    "from selenium.webdriver.support.select import Select\n",
    "from selenium.common.exceptions import NoSuchElementException, TimeoutException, StaleElementReferenceException, ElementNotInteractableException\n",
    "\n",
    "from playwright.async_api import async_playwright\n",
    "from bs4 import BeautifulSoup\n",
    "from urllib.parse import urljoin"
   ]
  },
  {
   "cell_type": "markdown",
   "metadata": {},
   "source": [
    "A seguir, encontram-se as cidades e as respectivas urls bases. Também há as subtags a serem coletadas. Essas subtags são adaptadas para serem usadas no casamento de padrão com as urls das páginas."
   ]
  },
  {
   "cell_type": "code",
   "execution_count": 71,
   "metadata": {},
   "outputs": [],
   "source": [
    "cidades = ['Novo Oriente de Minas',\n",
    "     'Frei Gaspar',\n",
    "     'Fronteira dos Vales',\n",
    "     'Chapada do Norte',\n",
    "     'Sardoá',\n",
    "     'Bertópolis',\n",
    "     'Cuparaque',\n",
    "     'Coroaci',\n",
    "     'Machacalis',\n",
    "     'Periquito',\n",
    "     'Itabirinha',\n",
    "     'São Sebastião do Maranhão',\n",
    "     'Caraí',\n",
    "     'Ataléia',\n",
    "     'Ouro Verde de Minas',\n",
    "     'Itaipé',\n",
    "     'Umburatiba',\n",
    "     'Marilac',\n",
    "     'Jordânia',\n",
    "     'São João Evangelista',\n",
    "     'Bandeira',\n",
    "     'Tumiritinga',\n",
    "     'Santa Efigênia de Minas',\n",
    "     'Pavão',\n",
    "     'Pescador',\n",
    "     'Cantagalo',\n",
    "     'Santo Antônio do Jacinto']\n",
    "\n",
    "tags = [\"licitacoes\", \"contratos\", \"Empenhos\", \"Receitas\", \"folha\", \"Pagamentos\", \n",
    "        \"liquidacoes\",\"diarias\", \"obras\", \"Relatorio\", \"dispensas\", \"despesas-com-pessoal\", \"editais\"]\n",
    "subpastas = [\"screenshots\", \"files\", \"htmls\"]\n",
    "\n",
    "cidades_urls = {'Novo Oriente de Minas': [\"https://novoorientedeminas.mg.gov.br/transparencia\", \"https://novoorientedeminas.mg.gov.br/tran\"],\n",
    "     'Frei Gaspar': [\"https://freigaspar.mg.gov.br/transparencia\", \"https://freigaspar.mg.gov.br/tran\"],\n",
    "     'Fronteira dos Vales': [\"https://fronteiradosvales.mg.gov.br/transparencia\", \"https://fronteiradosvales.mg.gov.br/tran\"],\n",
    "     'Chapada do Norte': [\"https://chapadadonorte.mg.gov.br/transparencia\", \"https://chapadadonorte.mg.gov.br/tran\"],\n",
    "     'Sardoá': [\"https://sardoa.mg.gov.br/transparencia\", \"https://sardoa.mg.gov.br/tran\"],\n",
    "     'Bertópolis': [\"https://bertopolis.mg.gov.br/transparencia\", \"https://bertopolis.mg.gov.br/tran\"],\n",
    "     'Cuparaque': [\"https://cuparaque.mg.gov.br/transparencia\", \"https://cuparaque.mg.gov.br/tran\"],\n",
    "     'Coroaci': [\"https://coroaci.mg.gov.br/transparencia\", \"https://coroaci.mg.gov.br/tran\"],\n",
    "     'Machacalis': [\"https://machacalis.mg.gov.br/transparencia\", \"https://machacalis.mg.gov.br/tran\"],\n",
    "      #'Periquito':\n",
    "     'Itabirinha': [\"https://itabirinha.mg.gov.br/transparencia\", \"https://itabirinha.mg.gov.br/tran\"],\n",
    "     'São Sebastião do Maranhão': [\"https://saosebastiaodomaranhao.mg.gov.br/transparencia\", \"https://saosebastiaodomaranhao.mg.gov.br/tran\"],\n",
    "     'Caraí': [\"https://carai.mg.gov.br/transparencia\", \"https://carai.mg.gov.br/tran\"],\n",
    "     'Ataléia': [\"https://ataleia.mg.gov.br/transparencia\", \"https://ataleia.mg.gov.br/tran\"],\n",
    "     'Ouro Verde de Minas': [\"https://ouroverdedeminas.mg.gov.br/transparencia\", \"https://ouroverdedeminas.mg.gov.br/tran\"],\n",
    "     'Itaipé': [\"https://itaipe.mg.gov.br/transparencia\", \"https://itaipe.mg.gov.br/tran\"],\n",
    "     'Umburatiba': [\"https://umburatiba.mg.gov.br/transparencia\", \"https://umburatiba.mg.gov.br/tran\"],\n",
    "     'Marilac': [\"https://marilac.mg.gov.br/transparencia\", \"https://marilac.mg.gov.br/tran\"],\n",
    "     'Jordânia': [\"https://jordania.mg.gov.br/transparencia\", \"https://jordania.mg.gov.br/tran\"],\n",
    "     'São João Evangelista': [\"https://sje.mg.gov.br/transparencia\", \"https://sje.mg.gov.br/tran\"],\n",
    "     'Bandeira': [\"https://bandeira.mg.gov.br/transparencia\", \"https://bandeira.mg.gov.br/tran\"],\n",
    "     'Tumiritinga': [\"https://tumiritinga.mg.gov.br/transparencia\", \"https://tumiritinga.mg.gov.br/tran\"],\n",
    "     'Santa Efigênia de Minas': [\"https://santaefigenia.mg.gov.br/transparencia\", \"https://santaefigenia.mg.gov.br/tran\"],\n",
    "     'Pavão': [\"https://pavao.mg.gov.br/transparencia\", \"https://pavao.mg.gov.br/tran\"],\n",
    "     'Pescador': [\"https://pescador.mg.gov.br/transparencia\", \"https://pescador.mg.gov.br/tran\"],\n",
    "     'Cantagalo': [\"https://cantagalo.mg.gov.br/transparencia\", \"https://cantagalo.mg.gov.br/tran\"],\n",
    "     'Santo Antônio do Jacinto': [\"https://www.santoantoniodojacinto.mg.gov.br/transparencia\", \"https://www.santoantoniodojacinto.mg.gov.br/tran\"]}\n",
    "\n",
    "pasta_raiz = os.getcwd()\n",
    "pasta_template = \"/Coletas\" + \"/template2/\"\n",
    "pasta_template_completo = pasta_raiz + pasta_template"
   ]
  },
  {
   "cell_type": "code",
   "execution_count": 72,
   "metadata": {},
   "outputs": [
    {
     "name": "stdout",
     "output_type": "stream",
     "text": [
      "/Coletas/template2/\n"
     ]
    }
   ],
   "source": [
    "print(pasta_template)"
   ]
  },
  {
   "cell_type": "markdown",
   "metadata": {},
   "source": [
    "## Funções"
   ]
  },
  {
   "cell_type": "markdown",
   "metadata": {},
   "source": [
    "A função a seguir cria as pastas para guardar adequadamente cada um dos dados coletados"
   ]
  },
  {
   "cell_type": "code",
   "execution_count": 73,
   "metadata": {},
   "outputs": [],
   "source": [
    "def create_pastes():\n",
    "\n",
    "    try:\n",
    "        os.mkdir(pasta_raiz + \"/Coletas\")\n",
    "    except FileExistsError:\n",
    "        pass\n",
    "    \n",
    "    try:\n",
    "        os.mkdir(pasta_raiz + \"/Coletas\" + \"/template2/\")\n",
    "    except FileExistsError:\n",
    "        pass\n",
    "    \n",
    "    for cidade in cidades:\n",
    "        try:\n",
    "            os.mkdir(pasta_template_completo + cidade)\n",
    "            for tag in tags:\n",
    "                os.mkdir(pasta_template_completo  + cidade + \"/\" + tag)\n",
    "                for sub in subpastas:\n",
    "                    os.mkdir(pasta_template_completo  + cidade + \"/\" + tag + \"/\" + sub)\n",
    "        except FileExistsError:\n",
    "            continue\n",
    "    \n",
    "create_pastes()"
   ]
  },
  {
   "cell_type": "markdown",
   "metadata": {},
   "source": [
    "### Coletor 1"
   ]
  },
  {
   "cell_type": "markdown",
   "metadata": {},
   "source": [
    "Esse primeiro coletor é específico para baixar urls que representam pdfs. Assim, utiliza-se o Selenium para abrir a url e o PyAutogui para realizar o download."
   ]
  },
  {
   "cell_type": "code",
   "execution_count": 93,
   "metadata": {},
   "outputs": [],
   "source": [
    "def coletor_pdf(cidade, subtag, url):\n",
    "\n",
    "    chrome_options = Options()\n",
    "    #options.add_argument('--headless')\n",
    "    chrome_options.add_argument(\"--start-maximized\")\n",
    "    chrome_options.add_experimental_option('prefs', {\n",
    "    \"download.default_directory\": pasta_template_completo + cidade + \"/\"+ subtag + \"/files\",#IMPORTANT - ENDING SLASH V IMPORTANT, #Change default directory for downloads\n",
    "    \"download.prompt_for_download\": False, #To auto download the file\n",
    "    \"download.directory_upgrade\": True,\n",
    "    \"plugins.always_open_pdf_externally\": True #It will not show PDF directly in chrome\n",
    "    })\n",
    "\n",
    "    driver = webdriver.Chrome(options = chrome_options)\n",
    "    driver.get(url)\n",
    "\n",
    "    time.sleep(2)\n",
    "    pyautogui.hotkey('ctrl', 'b')\n",
    "    time.sleep(2)\n",
    "    pyautogui.press('enter')\n",
    "    driver.close()\n",
    "    "
   ]
  },
  {
   "cell_type": "markdown",
   "metadata": {},
   "source": [
    "Teste unitário"
   ]
  },
  {
   "cell_type": "code",
   "execution_count": 94,
   "metadata": {},
   "outputs": [],
   "source": [
    "coletor_pdf(\"Frei Gaspar\", \"relatorios\", \"https://digitaliza-institucional.s3.us-east-2.amazonaws.com/municipio-de-cantagalo/rgf_rreo/Relat%C3%B3rio%20Resumido%20de%20Execu%C3%A7%C3%A3o%20Or%C3%A7ament%C3%A1ria%20Simplificado%20-%201%C2%BA%20bimestre-06-07-2021%20-%20nwsBT.pdf\")"
   ]
  },
  {
   "cell_type": "markdown",
   "metadata": {},
   "source": [
    "### Coletor 2"
   ]
  },
  {
   "cell_type": "code",
   "execution_count": 85,
   "metadata": {},
   "outputs": [],
   "source": [
    "async def coletor_geral(cidade, subtag, url): \n",
    "\n",
    "    try:\n",
    "    \n",
    "        playwright = await async_playwright().start()\n",
    "        browser = await playwright.chromium.launch(headless = False)\n",
    "        page = await browser.new_page()\n",
    "\n",
    "        await page.goto(url)\n",
    "\n",
    "        async with page.expect_download() as download_info:\n",
    "            await page.locator(\"button:has-text(\\\"CSV\\\")\").click()\n",
    "            #await page.locator(\"#DataTables_Table_0_wrapper button:has-text(\\\"CSV\\\")\").click()\n",
    "            #await page.locator(\"#DataTables_Table_1_wrapper button:has-text(\\\"CSV\\\")\").click()\n",
    "        download = await download_info.value\n",
    "\n",
    "        filename = await download.path()\n",
    "        complement = str(filename).split(\"/\")[-1]\n",
    "        \n",
    "        await page.screenshot(path=pasta_template + cidade + \"/\" + subtag + \"/\" + \n",
    "                              \"screenshots/\" + \"page\"+complement+\".png\")\n",
    "        await download.save_as(pasta_template + cidade + \"/\" + subtag + \"/files/\" + complement)\n",
    "        \n",
    "    except:\n",
    "        \n",
    "        playwright_2 = await async_playwright().start()\n",
    "        browser_2 = await playwright.chromium.launch(headless = False)\n",
    "        page_2 = await browser.new_page()\n",
    "        \n",
    "        await page_2.goto(url)\n",
    "        conteudo = await page_2.content()\n",
    "        \n",
    "        url_aux = url.replace(\".\", \"\")\n",
    "        print(pasta_template+cidade+\"/\"+subtag+\"/\"+\"htmls/\"+url_auxl + \".html\")\n",
    "        with open(pasta_template+cidade+\"/\"+subtag+\"/\"+\"htmls/\"+url_auxl + \".html\", \"w\") as file:\n",
    "            file.write(conteudo)\n",
    "        file.close()\n",
    "        \n",
    "        await page_2.close()\n",
    "        await browser_2.close()\n",
    "        \n",
    "    finally:\n",
    "        \n",
    "        await page.close()\n",
    "        await browser.close()\n",
    "        \n",
    "        \n",
    "        "
   ]
  },
  {
   "cell_type": "code",
   "execution_count": null,
   "metadata": {},
   "outputs": [],
   "source": [
    "loop = asyncio.get_event_loop()\n",
    "loop.create_task(coletor_html(\"Novo Oriente de Minas\", \"Empenhos\", \"https://novoorientedeminas.mg.gov.br/transparencia/liquidacoes/exibir/2022/06/81808\"))"
   ]
  },
  {
   "cell_type": "code",
   "execution_count": null,
   "metadata": {},
   "outputs": [],
   "source": []
  },
  {
   "cell_type": "code",
   "execution_count": null,
   "metadata": {},
   "outputs": [],
   "source": []
  },
  {
   "cell_type": "markdown",
   "metadata": {},
   "source": [
    "### Coletor 3"
   ]
  },
  {
   "cell_type": "code",
   "execution_count": 82,
   "metadata": {},
   "outputs": [],
   "source": [
    "async def coletor_html(cidade, subtag, url): \n",
    "        \n",
    "    playwright = await async_playwright().start()\n",
    "    browser = await playwright.chromium.launch(headless = False)\n",
    "    page = await browser.new_page()\n",
    "    await page.goto(url)\n",
    "    conteudo = await page.content()\n",
    "    \n",
    "    url_aux = url.replace(\".\", \"\")\n",
    "    url_aux = url_aux.replace(\"/\", \"\")\n",
    "    url_aux = url_aux.replace(\":\", \"\")\n",
    "    subtag = subtag.lower()\n",
    "    \n",
    "    with open(pasta_template_completo+cidade+\"/\"+subtag+\"/\"+\"htmls/\"+url_aux + \".html\", \"w\") as file:\n",
    "        file.write(conteudo)\n",
    "    file.close()\n",
    "        \n",
    "    await page.close()\n",
    "    await browser.close()"
   ]
  },
  {
   "cell_type": "markdown",
   "metadata": {},
   "source": [
    "Teste unitário"
   ]
  },
  {
   "cell_type": "code",
   "execution_count": 83,
   "metadata": {
    "scrolled": true
   },
   "outputs": [
    {
     "data": {
      "text/plain": [
       "<Task pending name='Task-108' coro=<coletor_html() running at /tmp/ipykernel_4953/2045983809.py:1>>"
      ]
     },
     "execution_count": 83,
     "metadata": {},
     "output_type": "execute_result"
    },
    {
     "name": "stdout",
     "output_type": "stream",
     "text": [
      "httpsnovoorientedeminasmggovbrtransparencialiquidacoesexibir20220681808\n",
      "/Coletas/template2/Novo Oriente de Minas/empenhos/htmls/httpsnovoorientedeminasmggovbrtransparencialiquidacoesexibir20220681808.html\n"
     ]
    }
   ],
   "source": [
    "loop = asyncio.get_event_loop()\n",
    "loop.create_task(coletor_html(\"Novo Oriente de Minas\", \"Empenhos\", \"https://novoorientedeminas.mg.gov.br/transparencia/liquidacoes/exibir/2022/06/81808\"))"
   ]
  },
  {
   "cell_type": "markdown",
   "metadata": {},
   "source": [
    "### Explorador de links"
   ]
  },
  {
   "cell_type": "markdown",
   "metadata": {},
   "source": [
    "É nessa função que iremos gerar os links correspondentes a cada subtag para cada um dos municípios considerados. Esses links são separados e retornados em um dicionário."
   ]
  },
  {
   "cell_type": "code",
   "execution_count": 84,
   "metadata": {},
   "outputs": [],
   "source": [
    "def crawl(pages, depth, tags, restriction):\n",
    "    urllib3.disable_warnings(urllib3.exceptions.InsecureRequestWarning)\n",
    "    already_visited = set(pages)\n",
    "    \n",
    "    dic = {}\n",
    "    for tag in tags:\n",
    "        dic[tag] = set()\n",
    "\n",
    "    for i in range(depth):\n",
    "        new_pages = set()\n",
    "        print(\"Actual depth: \" + str(i))\n",
    "\n",
    "        for page in pages:\n",
    "            http = urllib3.PoolManager()\n",
    "            try:\n",
    "                page_data = http.request('GET', page)\n",
    "            except:\n",
    "                print(\"Error: \" + page)\n",
    "                continue\n",
    "\n",
    "\n",
    "            soup = BeautifulSoup(page_data.data, \"lxml\")\n",
    "            already_visited.add(page)\n",
    "\n",
    "            links = soup.find_all('a')\n",
    "            \n",
    "            counter = 0\n",
    "            for link in links:\n",
    "                counter = 0\n",
    "                if(\"href\" in link.attrs):\n",
    "                    url = urljoin(page, str(link.get('href')))\n",
    "\n",
    "                    if url.find(\"'\") != -1:\n",
    "                        continue\n",
    "\n",
    "                    url = url.split(\"#\")[0]\n",
    "\n",
    "                #Restriction to prevent the crawler get out the base url\n",
    "                if url.startswith(restriction) or url.startswith(\"https://digitaliza\"):\n",
    "                    if \"exibir\" not in url:\n",
    "                        new_pages.add(url)\n",
    "                    for tag in tags:\n",
    "                        if tag in url:\n",
    "                            dic[tag].add(url)\n",
    "                            counter+=1\n",
    "                            #if tag == \"obras\":\n",
    "                             #   dic[tag].add(url)\n",
    "                            #elif \"detalhes\" in url:\n",
    "                             #   dic[tag].add(url)\n",
    "                    if \"pdf\" in url:\n",
    "                        dic[\"Relatorio\"].add(url)\n",
    "            \n",
    "                \n",
    "                \n",
    "\n",
    "        pages = new_pages.difference(already_visited)\n",
    "        print(pages)\n",
    "\n",
    "        print(\"Number of links visited: \" +  str(len(already_visited)))\n",
    "\n",
    "    return dic"
   ]
  },
  {
   "cell_type": "markdown",
   "metadata": {},
   "source": [
    "### Coleta"
   ]
  },
  {
   "cell_type": "markdown",
   "metadata": {},
   "source": [
    "A função a seguir junta todos os passos anteriores. Assim, ela recebe uma cidade, sua url bases e as restrições de geração de links e, para cada link gerado, realiza a coleta do dado."
   ]
  },
  {
   "cell_type": "code",
   "execution_count": 31,
   "metadata": {},
   "outputs": [],
   "source": [
    "def colect(cidade, url, restriction, loop):\n",
    "    \n",
    "    links = crawl([url], 5, tags, restriction)\n",
    "    \n",
    "    for key, value in links.items():\n",
    "        for link in value:\n",
    "            if \"pdf\" in link:\n",
    "                coletor_pdf(cidade, key, link)\n",
    "            else:\n",
    "                loop.create_task(coletor_unico(cidade, key, link))\n",
    "    \n",
    "    print(\"Relatorio de coleta da cidade \" + \"/\" + cidade + \"/\")\n",
    "    for subtag in os.listdir(pasta_template+ cidade):\n",
    "        print(\"Coletado \" + str(len(os.listdir(pasta_template + cidade + \"/\" + subtag + \"/files\"))) + \n",
    "              \" documentos na subtag \" + subtag)"
   ]
  },
  {
   "cell_type": "markdown",
   "metadata": {},
   "source": [
    "Teste unitário\n"
   ]
  },
  {
   "cell_type": "markdown",
   "metadata": {},
   "source": [
    "### Execução em massa"
   ]
  },
  {
   "cell_type": "code",
   "execution_count": 9,
   "metadata": {
    "tags": []
   },
   "outputs": [
    {
     "name": "stdout",
     "output_type": "stream",
     "text": [
      "Actual depth: 0\n",
      "{'https://novoorientedeminas.mg.gov.br/transparencia/empenhos', 'https://novoorientedeminas.mg.gov.br/transparencia/pagamentos', 'https://novoorientedeminas.mg.gov.br/transparencia/coronavirus', 'https://novoorientedeminas.mg.gov.br/transparencia/diarias', 'https://novoorientedeminas.mg.gov.br/transparencia/relatorios', 'https://novoorientedeminas.mg.gov.br/transparencia/mapa', 'https://novoorientedeminas.mg.gov.br/transparencia/folhas-de-pagamento', 'https://novoorientedeminas.mg.gov.br/transparencia/dispensas', 'https://novoorientedeminas.mg.gov.br/transparencia/receitas', 'https://novoorientedeminas.mg.gov.br/transparencia/despesas-com-pessoal', 'https://novoorientedeminas.mg.gov.br/transparencia/contratos', 'https://novoorientedeminas.mg.gov.br/transparencia/liquidacoes', 'https://novoorientedeminas.mg.gov.br/transparencia/sobre'}\n",
      "Number of links visited: 1\n",
      "Actual depth: 1\n",
      "{'https://novoorientedeminas.mg.gov.br/transparencia/receitas/detalhes/2021/05/197', 'https://novoorientedeminas.mg.gov.br/transparencia/pagamentos/detalhes/2020/06/185', 'https://novoorientedeminas.mg.gov.br/transparencia/receitas/detalhes/2021/03/195', 'https://novoorientedeminas.mg.gov.br/transparencia/pagamentos/detalhes/2018/08/163', 'https://novoorientedeminas.mg.gov.br/transparencia/diarias/detalhes/2018/9/164', 'https://novoorientedeminas.mg.gov.br/transparencia/contratos/detalhes/2013/09/9', 'https://novoorientedeminas.mg.gov.br/transparencia/receitas/detalhes/2018/01/156', 'https://novoorientedeminas.mg.gov.br/transparencia/receitas/detalhes/2013/10/10', 'https://novoorientedeminas.mg.gov.br/transparencia/liquidacoes/detalhes/2020/08/187', 'https://novoorientedeminas.mg.gov.br/transparencia/liquidacoes/detalhes/2016/08/138', 'https://novoorientedeminas.mg.gov.br/transparencia/empenhos/detalhes/2020/07/186', 'https://novoorientedeminas.mg.gov.br/transparencia/dispensas/detalhes/2019/05/172', 'https://novoorientedeminas.mg.gov.br/transparencia/diarias/detalhes/2019/4/171', 'https://novoorientedeminas.mg.gov.br/transparencia/diarias/detalhes/2014/8/23', 'https://novoorientedeminas.mg.gov.br/transparencia/empenhos/detalhes/2019/09/176', 'https://novoorientedeminas.mg.gov.br/transparencia/receitas/detalhes/2013/02/2', 'https://novoorientedeminas.mg.gov.br/transparencia/pagamentos/detalhes/2013/07/7', 'https://novoorientedeminas.mg.gov.br/transparencia/liquidacoes/detalhes/2021/04/196', 'https://novoorientedeminas.mg.gov.br/transparencia/diarias/detalhes/2019/1/168', 'https://novoorientedeminas.mg.gov.br/transparencia/diarias/detalhes/2019/3/170', 'https://novoorientedeminas.mg.gov.br/transparencia/diarias/detalhes/2015/6/33', 'https://novoorientedeminas.mg.gov.br/transparencia/diarias/detalhes/2018/4/159', 'https://novoorientedeminas.mg.gov.br/transparencia/empenhos/detalhes/2014/12/27', 'https://novoorientedeminas.mg.gov.br/transparencia/pagamentos/detalhes/2014/10/25', 'https://novoorientedeminas.mg.gov.br/transparencia/diarias/detalhes/2018/6/161', 'https://novoorientedeminas.mg.gov.br/transparencia/empenhos/detalhes/2015/10/37', 'https://novoorientedeminas.mg.gov.br/transparencia/diarias/detalhes/2021/11/203', 'https://novoorientedeminas.mg.gov.br/transparencia/empenhos/detalhes/2016/04/134', 'https://novoorientedeminas.mg.gov.br/transparencia/diarias/detalhes/2014/4/19', 'https://novoorientedeminas.mg.gov.br/transparencia/relatorios/detalhes/8', 'https://novoorientedeminas.mg.gov.br/transparencia/dispensas/detalhes/2018/03/158', 'https://novoorientedeminas.mg.gov.br/transparencia/liquidacoes/detalhes/2020/09/188', 'https://novoorientedeminas.mg.gov.br/transparencia/empenhos/detalhes/2021/09/200', 'https://novoorientedeminas.mg.gov.br/transparencia/diarias/detalhes/2019/12/179', 'https://novoorientedeminas.mg.gov.br/transparencia/contratos/detalhes/2016/01/131', 'https://novoorientedeminas.mg.gov.br/transparencia/pagamentos/detalhes/2020/02/181', 'https://novoorientedeminas.mg.gov.br/transparencia/empenhos/detalhes/2013/12/12', 'https://novoorientedeminas.mg.gov.br/transparencia/empenhos/detalhes/2014/09/24', 'https://novoorientedeminas.mg.gov.br/transparencia/empenhos/detalhes/2016/07/136', 'https://novoorientedeminas.mg.gov.br/transparencia/diarias/detalhes/2014/1/13', 'https://novoorientedeminas.mg.gov.br/transparencia/diarias/detalhes/2013/1/1', 'https://novoorientedeminas.mg.gov.br/transparencia/diarias/detalhes/2021/5/197', 'https://novoorientedeminas.mg.gov.br/transparencia/pagamentos/detalhes/2020/05/184', 'https://novoorientedeminas.mg.gov.br/transparencia/liquidacoes/detalhes/2015/01/28', 'https://novoorientedeminas.mg.gov.br/transparencia/empenhos/detalhes/2019/05/172', 'https://novoorientedeminas.mg.gov.br/transparencia/liquidacoes/detalhes/2019/09/176', 'https://novoorientedeminas.mg.gov.br/transparencia/pagamentos/detalhes/2021/10/204', 'https://novoorientedeminas.mg.gov.br/transparencia/pagamentos/detalhes/2017/05/147', 'https://novoorientedeminas.mg.gov.br/transparencia/liquidacoes/detalhes/2019/08/175', 'https://novoorientedeminas.mg.gov.br/transparencia/liquidacoes/detalhes/2016/03/133', 'https://novoorientedeminas.mg.gov.br/transparencia/receitas/detalhes/2020/12/191', 'https://novoorientedeminas.mg.gov.br/transparencia/pagamentos/detalhes/2021/03/195', 'https://novoorientedeminas.mg.gov.br/transparencia/receitas/detalhes/2019/02/169', 'https://novoorientedeminas.mg.gov.br/transparencia/pagamentos/detalhes/2018/12/167', 'https://novoorientedeminas.mg.gov.br/transparencia/empenhos/detalhes/2021/01/192', 'https://novoorientedeminas.mg.gov.br/transparencia/pagamentos/detalhes/2020/10/189', 'https://novoorientedeminas.mg.gov.br/transparencia/contratos/detalhes/2015/04/31', 'https://novoorientedeminas.mg.gov.br/transparencia/empenhos/detalhes/2018/05/160', 'https://novoorientedeminas.mg.gov.br/transparencia/pagamentos/detalhes/2013/04/4', 'https://novoorientedeminas.mg.gov.br/transparencia/contratos/detalhes/2021/06/198', 'https://novoorientedeminas.mg.gov.br/transparencia/diarias/detalhes/2020/3/182', 'https://novoorientedeminas.mg.gov.br/transparencia/dispensas/detalhes/2014/07/22', 'https://novoorientedeminas.mg.gov.br/transparencia/pagamentos/detalhes/2013/05/5', 'https://novoorientedeminas.mg.gov.br/transparencia/liquidacoes/detalhes/2021/05/197', 'https://novoorientedeminas.mg.gov.br/transparencia/dispensas/detalhes/2016/06/137', 'https://novoorientedeminas.mg.gov.br/transparencia/empenhos/detalhes/2018/12/167', 'https://novoorientedeminas.mg.gov.br/transparencia/liquidacoes/detalhes/2020/11/190', 'https://novoorientedeminas.mg.gov.br/transparencia/pagamentos/detalhes/2019/11/178', 'https://novoorientedeminas.mg.gov.br/transparencia/relatorios/detalhes/6', 'https://novoorientedeminas.mg.gov.br/transparencia/pagamentos/detalhes/2018/07/162', 'https://novoorientedeminas.mg.gov.br/transparencia/pagamentos/detalhes/2022/03/208', 'https://novoorientedeminas.mg.gov.br/transparencia/diarias/detalhes/2017/8/150', 'https://novoorientedeminas.mg.gov.br/transparencia/receitas/detalhes/2022/06/211', 'https://novoorientedeminas.mg.gov.br/transparencia/empenhos/detalhes/2021/07/199', 'https://novoorientedeminas.mg.gov.br/transparencia/receitas/detalhes/2018/08/163', 'https://novoorientedeminas.mg.gov.br/transparencia/empenhos/detalhes/2017/09/151', 'https://novoorientedeminas.mg.gov.br/transparencia/receitas/detalhes/2013/05/5', 'https://novoorientedeminas.mg.gov.br/transparencia/diarias/detalhes/2014/10/25', 'https://novoorientedeminas.mg.gov.br/transparencia/dispensas/detalhes/2021/03/195', 'https://novoorientedeminas.mg.gov.br/transparencia/contratos/detalhes/2021/02/194', 'https://novoorientedeminas.mg.gov.br/transparencia/receitas/detalhes/2019/03/170', 'https://novoorientedeminas.mg.gov.br/transparencia/pagamentos/detalhes/2019/02/169', 'https://novoorientedeminas.mg.gov.br/transparencia/empenhos/detalhes/2013/06/6', 'https://novoorientedeminas.mg.gov.br/transparencia/empenhos/detalhes/2022/01/206', 'https://novoorientedeminas.mg.gov.br/transparencia/liquidacoes/detalhes/2020/04/183', 'https://novoorientedeminas.mg.gov.br/transparencia/diarias/detalhes/2021/2/194', 'https://novoorientedeminas.mg.gov.br/transparencia/empenhos/detalhes/2017/06/148', 'https://novoorientedeminas.mg.gov.br/transparencia/pagamentos/detalhes/2021/12/205', 'https://novoorientedeminas.mg.gov.br/transparencia/pagamentos/detalhes/2013/10/10', 'https://novoorientedeminas.mg.gov.br/transparencia/empenhos/detalhes/2019/03/170', 'https://novoorientedeminas.mg.gov.br/transparencia/diarias/detalhes/2016/8/138', 'https://novoorientedeminas.mg.gov.br/transparencia/empenhos/detalhes/2014/02/14', 'https://novoorientedeminas.mg.gov.br/transparencia/liquidacoes/detalhes/2015/10/37', 'https://novoorientedeminas.mg.gov.br/transparencia/receitas/detalhes/2020/05/184', 'https://novoorientedeminas.mg.gov.br/transparencia/pagamentos/detalhes/2014/01/13', 'https://novoorientedeminas.mg.gov.br/transparencia/diarias/detalhes/2018/1/156', 'https://novoorientedeminas.mg.gov.br/transparencia/empenhos/detalhes/2013/04/4', 'https://novoorientedeminas.mg.gov.br/transparencia/pagamentos/detalhes/2022/06/211', 'https://novoorientedeminas.mg.gov.br/transparencia/empenhos/detalhes/2019/11/178', 'https://novoorientedeminas.mg.gov.br/transparencia/diarias/detalhes/2019/11/178', 'https://novoorientedeminas.mg.gov.br/transparencia/diarias/detalhes/2013/6/6', 'https://novoorientedeminas.mg.gov.br/transparencia/diarias/detalhes/2021/3/195', 'https://novoorientedeminas.mg.gov.br/transparencia/empenhos/detalhes/2017/01/143', 'https://novoorientedeminas.mg.gov.br/transparencia/receitas/detalhes/2018/03/158', 'https://novoorientedeminas.mg.gov.br/transparencia/diarias/detalhes/2017/10/152', 'https://novoorientedeminas.mg.gov.br/transparencia/receitas/detalhes/2019/06/173', 'https://novoorientedeminas.mg.gov.br/transparencia/extraorcamentarias', 'https://novoorientedeminas.mg.gov.br/transparencia/contratos/detalhes/2015/12/130', 'https://novoorientedeminas.mg.gov.br/transparencia/pagamentos/detalhes/2019/12/179', 'https://novoorientedeminas.mg.gov.br/transparencia/liquidacoes/detalhes/2014/09/24', 'https://novoorientedeminas.mg.gov.br/transparencia/dispensas/detalhes/2014/12/27', 'https://novoorientedeminas.mg.gov.br/transparencia/empenhos/detalhes/2020/08/187', 'https://novoorientedeminas.mg.gov.br/transparencia/empenhos/detalhes/2017/03/145', 'https://novoorientedeminas.mg.gov.br/transparencia/pagamentos/detalhes/2020/12/191', 'https://novoorientedeminas.mg.gov.br/transparencia/diarias/detalhes/2017/11/153', 'https://novoorientedeminas.mg.gov.br/transparencia/folhas-de-pagamento/filtradas?indSituacaoServidorPensionista%5B0%5D=P&indSituacaoServidorPensionista%5B1%5D=03', 'https://novoorientedeminas.mg.gov.br/transparencia/receitas/detalhes/2020/04/183', 'https://novoorientedeminas.mg.gov.br/transparencia/diarias/detalhes/2021/9/200', 'https://novoorientedeminas.mg.gov.br/transparencia/diarias/detalhes/2017/4/146', 'https://novoorientedeminas.mg.gov.br/transparencia/liquidacoes/detalhes/2018/01/156', 'https://novoorientedeminas.mg.gov.br/transparencia/pagamentos/detalhes/2016/06/137', 'https://novoorientedeminas.mg.gov.br/transparencia/diarias/detalhes/2015/1/28', 'https://novoorientedeminas.mg.gov.br/transparencia/receitas/detalhes/2021/04/196', 'https://novoorientedeminas.mg.gov.br/transparencia/receitas/detalhes/2018/07/162', 'https://novoorientedeminas.mg.gov.br/transparencia/dispensas/detalhes/2018/07/162', 'https://novoorientedeminas.mg.gov.br/transparencia/receitas/detalhes/2021/02/194', 'https://novoorientedeminas.mg.gov.br/transparencia/relatorios/detalhes/9', 'https://novoorientedeminas.mg.gov.br/transparencia/diarias/detalhes/2017/7/149', 'https://novoorientedeminas.mg.gov.br/transparencia/liquidacoes/detalhes/2016/12/142', 'https://novoorientedeminas.mg.gov.br/transparencia/diarias/detalhes/2016/3/133', 'https://novoorientedeminas.mg.gov.br/transparencia/dispensas/detalhes/2016/04/134', 'https://novoorientedeminas.mg.gov.br/transparencia/diarias/detalhes/2019/2/169', 'https://novoorientedeminas.mg.gov.br/transparencia/receitas/detalhes/2022/03/208', 'https://novoorientedeminas.mg.gov.br/transparencia/dispensas/detalhes/2014/06/21', 'https://novoorientedeminas.mg.gov.br/transparencia/liquidacoes/detalhes/2019/06/173', 'https://novoorientedeminas.mg.gov.br/transparencia/dispensas/detalhes/2017/07/149', 'https://novoorientedeminas.mg.gov.br/transparencia/liquidacoes/detalhes/2022/04/209', 'https://novoorientedeminas.mg.gov.br/transparencia/liquidacoes/detalhes/2014/12/27', 'https://novoorientedeminas.mg.gov.br/transparencia/receitas/detalhes/2019/08/175', 'https://novoorientedeminas.mg.gov.br/transparencia/liquidacoes/detalhes/2017/04/146', 'https://novoorientedeminas.mg.gov.br/transparencia/pagamentos/detalhes/2021/04/196', 'https://novoorientedeminas.mg.gov.br/transparencia/relatorios/detalhes/1', 'https://novoorientedeminas.mg.gov.br/transparencia/empenhos/detalhes/2015/02/29', 'https://novoorientedeminas.mg.gov.br/transparencia/empenhos/detalhes/2019/04/171', 'https://novoorientedeminas.mg.gov.br/transparencia/folhas-de-pagamento/vinculo', 'https://novoorientedeminas.mg.gov.br/transparencia/dispensas/detalhes/2014/08/23', 'https://novoorientedeminas.mg.gov.br/transparencia/empenhos/detalhes/2015/06/33', 'https://novoorientedeminas.mg.gov.br/transparencia/liquidacoes/detalhes/2015/05/32', 'https://novoorientedeminas.mg.gov.br/transparencia/receitas/detalhes/2020/01/180', 'https://novoorientedeminas.mg.gov.br/transparencia/diarias/detalhes/2014/2/14', 'https://novoorientedeminas.mg.gov.br/transparencia/liquidacoes/detalhes/2018/11/166', 'https://novoorientedeminas.mg.gov.br/transparencia/pagamentos/detalhes/2013/08/8', 'https://novoorientedeminas.mg.gov.br/transparencia/pagamentos/detalhes/2017/09/151', 'https://novoorientedeminas.mg.gov.br/transparencia/contratos/detalhes/2015/03/30', 'https://novoorientedeminas.mg.gov.br/transparencia/liquidacoes/detalhes/2018/07/162', 'https://novoorientedeminas.mg.gov.br/transparencia/diarias/detalhes/2014/11/26', 'https://novoorientedeminas.mg.gov.br/transparencia/relatorios/detalhes/10', 'https://novoorientedeminas.mg.gov.br/transparencia/receitas/detalhes/2019/04/171', 'https://novoorientedeminas.mg.gov.br/transparencia/contratos/detalhes/2021/07/199', 'https://novoorientedeminas.mg.gov.br/transparencia/liquidacoes/detalhes/2016/11/141', 'https://novoorientedeminas.mg.gov.br/transparencia/diarias/detalhes/2014/9/24', 'https://novoorientedeminas.mg.gov.br/transparencia/empenhos/detalhes/2016/01/131', 'https://novoorientedeminas.mg.gov.br/transparencia/liquidacoes/detalhes/2015/11/38', 'https://novoorientedeminas.mg.gov.br/transparencia/contratos/detalhes/2015/06/33', 'https://novoorientedeminas.mg.gov.br/transparencia/receitas/detalhes/2013/07/7', 'https://novoorientedeminas.mg.gov.br/transparencia/pagamentos/detalhes/2018/04/159', 'https://novoorientedeminas.mg.gov.br/transparencia/pagamentos/detalhes/2014/03/15', 'https://novoorientedeminas.mg.gov.br/transparencia/diarias/detalhes/2013/8/8', 'https://novoorientedeminas.mg.gov.br/transparencia/pagamentos/detalhes/2016/07/136', 'https://novoorientedeminas.mg.gov.br/transparencia/dispensas/detalhes/2021/06/198', 'https://novoorientedeminas.mg.gov.br/transparencia/contratos/detalhes/2020/01/180', 'https://novoorientedeminas.mg.gov.br/transparencia/empenhos/detalhes/2021/11/203', 'https://novoorientedeminas.mg.gov.br/transparencia/liquidacoes/detalhes/2017/03/145', 'https://novoorientedeminas.mg.gov.br/transparencia/receitas/detalhes/2018/11/166', 'https://novoorientedeminas.mg.gov.br/transparencia/pagamentos/detalhes/2016/10/140', 'https://novoorientedeminas.mg.gov.br/transparencia/dispensas/detalhes/2019/06/173', 'https://novoorientedeminas.mg.gov.br/transparencia/diarias/detalhes/2015/9/36', 'https://novoorientedeminas.mg.gov.br/transparencia/receitas/detalhes/2018/06/161', 'https://novoorientedeminas.mg.gov.br/transparencia/empenhos/detalhes/2021/10/204', 'https://novoorientedeminas.mg.gov.br/transparencia/pagamentos/detalhes/2013/06/6', 'https://novoorientedeminas.mg.gov.br/transparencia/pagamentos/detalhes/2020/09/188', 'https://novoorientedeminas.mg.gov.br/transparencia/receitas/detalhes/2021/06/198', 'https://novoorientedeminas.mg.gov.br/transparencia/contratos/detalhes/2021/10/204', 'https://novoorientedeminas.mg.gov.br/transparencia/empenhos/detalhes/2016/08/138', 'https://novoorientedeminas.mg.gov.br/transparencia/pagamentos/detalhes/2017/08/150', 'https://novoorientedeminas.mg.gov.br/transparencia/dispensas/detalhes/2015/11/38', 'https://novoorientedeminas.mg.gov.br/transparencia/receitas/detalhes/2018/12/167', 'https://novoorientedeminas.mg.gov.br/transparencia/empenhos/detalhes/2015/11/38', 'https://novoorientedeminas.mg.gov.br/transparencia/liquidacoes/detalhes/2013/10/10', 'https://novoorientedeminas.mg.gov.br/transparencia/pagamentos/detalhes/2017/12/155', 'https://novoorientedeminas.mg.gov.br/transparencia/diarias/detalhes/2021/7/199', 'https://novoorientedeminas.mg.gov.br/transparencia/diarias/detalhes/2022/3/208', 'https://novoorientedeminas.mg.gov.br/transparencia/contratos/detalhes/2013/02/2', 'https://novoorientedeminas.mg.gov.br/transparencia/diarias/detalhes/2021/4/196', 'https://novoorientedeminas.mg.gov.br/transparencia/pagamentos/detalhes/2017/01/143', 'https://novoorientedeminas.mg.gov.br/transparencia/empenhos/detalhes/2016/11/141', 'https://novoorientedeminas.mg.gov.br/transparencia/liquidacoes/detalhes/2017/08/150', 'https://novoorientedeminas.mg.gov.br/transparencia/receitas/detalhes/2020/06/185', 'https://novoorientedeminas.mg.gov.br/transparencia/contratos/detalhes/2013/03/3', 'https://novoorientedeminas.mg.gov.br/transparencia/diarias/detalhes/2013/9/9', 'https://novoorientedeminas.mg.gov.br/transparencia/empenhos/detalhes/2018/04/159', 'https://novoorientedeminas.mg.gov.br/transparencia/pagamentos/detalhes/2020/01/180', 'https://novoorientedeminas.mg.gov.br/transparencia/diarias/detalhes/2016/11/141', 'https://novoorientedeminas.mg.gov.br/transparencia/liquidacoes/detalhes/2016/01/131', 'https://novoorientedeminas.mg.gov.br/transparencia/pagamentos/detalhes/2020/08/187', 'https://novoorientedeminas.mg.gov.br/transparencia/liquidacoes/detalhes/2018/08/163', 'https://novoorientedeminas.mg.gov.br/transparencia/contratos/detalhes/2021/03/195', 'https://novoorientedeminas.mg.gov.br/transparencia/diarias/detalhes/2015/10/37', 'https://novoorientedeminas.mg.gov.br/transparencia/receitas/detalhes/2019/07/174', 'https://novoorientedeminas.mg.gov.br/transparencia/pagamentos/detalhes/2018/01/156', 'https://novoorientedeminas.mg.gov.br/transparencia/contratos/detalhes/2016/02/132', 'https://novoorientedeminas.mg.gov.br/transparencia/empenhos/detalhes/2013/08/8', 'https://novoorientedeminas.mg.gov.br/transparencia/liquidacoes/detalhes/2016/06/137', 'https://novoorientedeminas.mg.gov.br/transparencia/pagamentos/detalhes/2018/03/158', 'https://novoorientedeminas.mg.gov.br/transparencia/diarias/detalhes/2013/11/11', 'https://novoorientedeminas.mg.gov.br/transparencia/dispensas/detalhes/2013/08/8', 'https://novoorientedeminas.mg.gov.br/transparencia/pagamentos/detalhes/2020/07/186', 'https://novoorientedeminas.mg.gov.br/transparencia/liquidacoes/detalhes/2014/01/13', 'https://novoorientedeminas.mg.gov.br/transparencia/liquidacoes/detalhes/2015/03/30', 'https://novoorientedeminas.mg.gov.br/transparencia/empenhos/detalhes/2014/01/13', 'https://novoorientedeminas.mg.gov.br/transparencia/diarias/detalhes/2017/6/148', 'https://novoorientedeminas.mg.gov.br/transparencia/pagamentos/detalhes/2019/03/170', 'https://novoorientedeminas.mg.gov.br/transparencia/pagamentos/detalhes/2018/06/161', 'https://novoorientedeminas.mg.gov.br/transparencia/pagamentos/detalhes/2022/01/206', 'https://novoorientedeminas.mg.gov.br/transparencia/dispensas/detalhes/2018/04/159', 'https://novoorientedeminas.mg.gov.br/transparencia/pagamentos/detalhes/2017/07/149', 'https://novoorientedeminas.mg.gov.br/transparencia/receitas/detalhes/2020/02/181', 'https://novoorientedeminas.mg.gov.br/transparencia/diarias/detalhes/2020/5/184', 'https://novoorientedeminas.mg.gov.br/transparencia/dispensas/detalhes/2017/09/151', 'https://novoorientedeminas.mg.gov.br/transparencia/pagamentos/detalhes/2017/03/145', 'https://novoorientedeminas.mg.gov.br/transparencia/pagamentos/detalhes/2014/08/23', 'https://novoorientedeminas.mg.gov.br/transparencia/empenhos/detalhes/2016/02/132', 'https://novoorientedeminas.mg.gov.br/transparencia/liquidacoes/detalhes/2017/02/144', 'https://novoorientedeminas.mg.gov.br/transparencia/diarias/detalhes/2015/7/34', 'https://novoorientedeminas.mg.gov.br/transparencia/diarias/detalhes/2015/3/30', 'https://novoorientedeminas.mg.gov.br/transparencia/pagamentos/detalhes/2016/11/141', 'https://novoorientedeminas.mg.gov.br/transparencia/empenhos/detalhes/2015/04/31', 'https://novoorientedeminas.mg.gov.br/transparencia/contratos/detalhes/2020/07/186', 'https://novoorientedeminas.mg.gov.br/transparencia/diarias/detalhes/2019/5/172', 'https://novoorientedeminas.mg.gov.br/transparencia/dispensas/detalhes/2016/12/142', 'https://novoorientedeminas.mg.gov.br/transparencia/diarias/detalhes/2021/8/202', 'https://novoorientedeminas.mg.gov.br/transparencia/pagamentos/detalhes/2020/03/182', 'https://novoorientedeminas.mg.gov.br/transparencia/diarias/detalhes/2020/11/190', 'https://novoorientedeminas.mg.gov.br/transparencia/diarias/detalhes/2016/4/134', 'https://novoorientedeminas.mg.gov.br/transparencia/diarias/detalhes/2013/12/12', 'https://novoorientedeminas.mg.gov.br/transparencia/receitas/detalhes/2022/04/209', 'https://novoorientedeminas.mg.gov.br/transparencia/pagamentos/detalhes/2019/09/176', 'https://novoorientedeminas.mg.gov.br/transparencia/empenhos/detalhes/2018/11/166', 'https://novoorientedeminas.mg.gov.br/transparencia/diarias/detalhes/2020/8/187', 'https://novoorientedeminas.mg.gov.br/transparencia/diarias/detalhes/2020/6/185', 'https://novoorientedeminas.mg.gov.br/transparencia/contratos/detalhes/2013/10/10', 'https://novoorientedeminas.mg.gov.br/transparencia/liquidacoes/detalhes/2019/07/174', 'https://novoorientedeminas.mg.gov.br/transparencia/liquidacoes/detalhes/2018/12/167', 'https://novoorientedeminas.mg.gov.br/transparencia/diarias/detalhes/2019/9/176', 'https://novoorientedeminas.mg.gov.br/transparencia/liquidacoes/detalhes/2019/11/178', 'https://novoorientedeminas.mg.gov.br/transparencia/liquidacoes/detalhes/2017/05/147', 'https://novoorientedeminas.mg.gov.br/transparencia/liquidacoes/detalhes/2020/12/191', 'https://novoorientedeminas.mg.gov.br/transparencia/liquidacoes/detalhes/2015/08/35', 'https://novoorientedeminas.mg.gov.br/transparencia/empenhos/detalhes/2015/01/28', 'https://novoorientedeminas.mg.gov.br/transparencia/empenhos/detalhes/2020/06/185', 'https://novoorientedeminas.mg.gov.br/transparencia/pagamentos/detalhes/2015/08/35', 'https://novoorientedeminas.mg.gov.br/transparencia/liquidacoes/detalhes/2014/06/21', 'https://novoorientedeminas.mg.gov.br/transparencia/dispensas/detalhes/2018/12/167', 'https://novoorientedeminas.mg.gov.br/transparencia/dispensas/detalhes/2013/05/5', 'https://novoorientedeminas.mg.gov.br/transparencia/pagamentos/detalhes/2019/07/174', 'https://novoorientedeminas.mg.gov.br/transparencia/pagamentos/detalhes/2019/05/172', 'https://novoorientedeminas.mg.gov.br/transparencia/dispensas/detalhes/2017/06/148', 'https://novoorientedeminas.mg.gov.br/transparencia/diarias/detalhes/2021/6/198', 'https://novoorientedeminas.mg.gov.br/transparencia/empenhos/detalhes/2017/12/155', 'https://novoorientedeminas.mg.gov.br/transparencia/diarias/detalhes/2016/6/137', 'https://novoorientedeminas.mg.gov.br/transparencia/liquidacoes/detalhes/2016/09/139', 'https://novoorientedeminas.mg.gov.br/transparencia/liquidacoes/detalhes/2019/04/171', 'https://novoorientedeminas.mg.gov.br/transparencia/liquidacoes/detalhes/2019/02/169', 'https://novoorientedeminas.mg.gov.br/transparencia/pagamentos/detalhes/2016/01/131', 'https://novoorientedeminas.mg.gov.br/transparencia/liquidacoes/detalhes/2014/04/19', 'https://novoorientedeminas.mg.gov.br/transparencia/contratos/detalhes/2022/01/206', 'https://novoorientedeminas.mg.gov.br/transparencia/diarias/detalhes/2020/7/186', 'https://novoorientedeminas.mg.gov.br/transparencia/liquidacoes/detalhes/2018/10/165', 'https://novoorientedeminas.mg.gov.br/transparencia/receitas/detalhes/2013/03/3', 'https://novoorientedeminas.mg.gov.br/transparencia/diarias/detalhes/2013/2/2', 'https://novoorientedeminas.mg.gov.br/transparencia/liquidacoes/detalhes/2016/04/134', 'https://novoorientedeminas.mg.gov.br/transparencia/empenhos/detalhes/2022/06/211', 'https://novoorientedeminas.mg.gov.br/transparencia/empenhos/detalhes/2013/05/5', 'https://novoorientedeminas.mg.gov.br/transparencia/relatorios/detalhes/2', 'https://novoorientedeminas.mg.gov.br/transparencia/liquidacoes/detalhes/2017/09/151', 'https://novoorientedeminas.mg.gov.br/transparencia/empenhos/detalhes/2015/09/36', 'https://novoorientedeminas.mg.gov.br/transparencia/pagamentos/detalhes/2021/06/198', 'https://novoorientedeminas.mg.gov.br/transparencia/receitas/detalhes/2018/05/160', 'https://novoorientedeminas.mg.gov.br/transparencia/pagamentos/detalhes/2016/04/134', 'https://novoorientedeminas.mg.gov.br/transparencia/empenhos/detalhes/2016/10/140', 'https://novoorientedeminas.mg.gov.br/transparencia/liquidacoes/detalhes/2020/01/180', 'https://novoorientedeminas.mg.gov.br/transparencia/empenhos/detalhes/2019/07/174', 'https://novoorientedeminas.mg.gov.br/transparencia/relatorios/detalhes/4', 'https://novoorientedeminas.mg.gov.br/transparencia/empenhos/detalhes/2016/09/139', 'https://novoorientedeminas.mg.gov.br/transparencia/empenhos/detalhes/2022/05/210', 'https://novoorientedeminas.mg.gov.br/transparencia/pagamentos/detalhes/2019/06/173', 'https://novoorientedeminas.mg.gov.br/transparencia/liquidacoes/detalhes/2014/05/20', 'https://novoorientedeminas.mg.gov.br/transparencia/pagamentos/detalhes/2021/11/203', 'https://novoorientedeminas.mg.gov.br/transparencia/receitas/detalhes/2019/12/179', 'https://novoorientedeminas.mg.gov.br/transparencia/diarias/detalhes/2022/5/210', 'https://novoorientedeminas.mg.gov.br/transparencia/dispensas/detalhes/2013/11/11', 'https://novoorientedeminas.mg.gov.br/transparencia/liquidacoes/detalhes/2022/06/211', 'https://novoorientedeminas.mg.gov.br/transparencia/diarias/detalhes/2018/8/163', 'https://novoorientedeminas.mg.gov.br/transparencia/contratos/detalhes/2015/02/29', 'https://novoorientedeminas.mg.gov.br/transparencia/contratos/detalhes/2014/06/21', 'https://novoorientedeminas.mg.gov.br/transparencia/pagamentos/detalhes/2015/10/37', 'https://novoorientedeminas.mg.gov.br/transparencia/receitas/detalhes/2018/09/164', 'https://novoorientedeminas.mg.gov.br/transparencia/empenhos/detalhes/2014/07/22', 'https://novoorientedeminas.mg.gov.br/transparencia/contratos/detalhes/2013/08/8', 'https://novoorientedeminas.mg.gov.br/transparencia/pagamentos/detalhes/2021/02/194', 'https://novoorientedeminas.mg.gov.br/transparencia/pagamentos/detalhes/2016/03/133', 'https://novoorientedeminas.mg.gov.br/transparencia/receitas/detalhes/2021/12/205', 'https://novoorientedeminas.mg.gov.br/transparencia/empenhos/detalhes/2021/05/197', 'https://novoorientedeminas.mg.gov.br/transparencia/receitas/detalhes/2020/11/190', 'https://novoorientedeminas.mg.gov.br/transparencia/diarias/detalhes/2020/2/181', 'https://novoorientedeminas.mg.gov.br/transparencia/empenhos/detalhes/2018/06/161', 'https://novoorientedeminas.mg.gov.br/transparencia/diarias/detalhes/2013/3/3', 'https://novoorientedeminas.mg.gov.br/transparencia/empenhos/detalhes/2013/11/11', 'https://novoorientedeminas.mg.gov.br/transparencia/pagamentos/detalhes/2014/05/20', 'https://novoorientedeminas.mg.gov.br/transparencia/dispensas/detalhes/2019/07/174', 'https://novoorientedeminas.mg.gov.br/transparencia/pagamentos/detalhes/2015/05/32', 'https://novoorientedeminas.mg.gov.br/transparencia/liquidacoes/detalhes/2016/05/135', 'https://novoorientedeminas.mg.gov.br/transparencia/empenhos/detalhes/2018/07/162', 'https://novoorientedeminas.mg.gov.br/transparencia/empenhos/detalhes/2014/08/23', 'https://novoorientedeminas.mg.gov.br/transparencia/receitas/detalhes/2021/01/192', 'https://novoorientedeminas.mg.gov.br/transparencia/dispensas/detalhes/2014/01/13', 'https://novoorientedeminas.mg.gov.br/transparencia/contratos/detalhes/2015/07/34', 'https://novoorientedeminas.mg.gov.br/transparencia/liquidacoes/detalhes/2017/07/149', 'https://novoorientedeminas.mg.gov.br/transparencia/pagamentos/detalhes/2019/04/171', 'https://novoorientedeminas.mg.gov.br/transparencia/empenhos/detalhes/2013/01/1', 'https://novoorientedeminas.mg.gov.br/transparencia/receitas/detalhes/2019/10/177', 'https://novoorientedeminas.mg.gov.br/transparencia/empenhos/detalhes/2016/12/142', 'https://novoorientedeminas.mg.gov.br/transparencia/diarias/detalhes/2017/9/151', 'https://novoorientedeminas.mg.gov.br/transparencia/pagamentos/detalhes/2015/12/130', 'https://novoorientedeminas.mg.gov.br/transparencia/pagamentos/detalhes/2013/03/3', 'https://novoorientedeminas.mg.gov.br/transparencia/diarias/detalhes/2018/11/166', 'https://novoorientedeminas.mg.gov.br/transparencia/dispensas/detalhes/2018/05/160', 'https://novoorientedeminas.mg.gov.br/transparencia/diarias/detalhes/2014/3/15', 'https://novoorientedeminas.mg.gov.br/transparencia/receitas/detalhes/2019/09/176', 'https://novoorientedeminas.mg.gov.br/transparencia/diarias/detalhes/2015/8/35', 'https://novoorientedeminas.mg.gov.br/transparencia/contratos/detalhes/2015/05/32', 'https://novoorientedeminas.mg.gov.br/transparencia/empenhos/detalhes/2015/03/30', 'https://novoorientedeminas.mg.gov.br/transparencia/pagamentos/detalhes/2014/11/26', 'https://novoorientedeminas.mg.gov.br/transparencia/liquidacoes/detalhes/2013/09/9', 'https://novoorientedeminas.mg.gov.br/transparencia/liquidacoes/detalhes/2013/05/5', 'https://novoorientedeminas.mg.gov.br/transparencia/empenhos/detalhes/2016/05/135', 'https://novoorientedeminas.mg.gov.br/transparencia/dispensas/detalhes/2013/01/1', 'https://novoorientedeminas.mg.gov.br/transparencia/liquidacoes/detalhes/2015/02/29', 'https://novoorientedeminas.mg.gov.br/transparencia/liquidacoes/detalhes/2013/06/6', 'https://novoorientedeminas.mg.gov.br/transparencia/liquidacoes/detalhes/2020/07/186', 'https://novoorientedeminas.mg.gov.br/transparencia/liquidacoes/detalhes/2018/05/160', 'https://novoorientedeminas.mg.gov.br/transparencia/pagamentos/detalhes/2017/02/144', 'https://novoorientedeminas.mg.gov.br/transparencia/contratos/detalhes/2016/08/138', 'https://novoorientedeminas.mg.gov.br/transparencia/liquidacoes/detalhes/2014/08/23', 'https://novoorientedeminas.mg.gov.br/transparencia/empenhos/detalhes/2019/06/173', 'https://novoorientedeminas.mg.gov.br/transparencia/receitas/detalhes/2013/11/11', 'https://novoorientedeminas.mg.gov.br/transparencia/diarias/detalhes/2020/9/188', 'https://novoorientedeminas.mg.gov.br/transparencia/diarias/detalhes/2017/12/155', 'https://novoorientedeminas.mg.gov.br/transparencia/relatorios/detalhes/3', 'https://novoorientedeminas.mg.gov.br/transparencia/dispensas/detalhes/2015/02/29', 'https://novoorientedeminas.mg.gov.br/transparencia/pagamentos/detalhes/2015/03/30', 'https://novoorientedeminas.mg.gov.br/transparencia/receitas/detalhes/2021/11/203', 'https://novoorientedeminas.mg.gov.br/transparencia/empenhos/detalhes/2015/05/32', 'https://novoorientedeminas.mg.gov.br/transparencia/diarias/detalhes/2022/4/209', 'https://novoorientedeminas.mg.gov.br/transparencia/diarias/detalhes/2020/4/183', 'https://novoorientedeminas.mg.gov.br/transparencia/diarias/detalhes/2016/1/131', 'https://novoorientedeminas.mg.gov.br/transparencia/dispensas/detalhes/2021/01/192', 'https://novoorientedeminas.mg.gov.br/transparencia/receitas/detalhes/2020/03/182', 'https://novoorientedeminas.mg.gov.br/transparencia/empenhos/detalhes/2019/10/177', 'https://novoorientedeminas.mg.gov.br/transparencia/diarias/detalhes/2013/4/4', 'https://novoorientedeminas.mg.gov.br/transparencia/diarias/detalhes/2014/6/21', 'https://novoorientedeminas.mg.gov.br/transparencia/folhas-de-pagamento/filtradas', 'https://novoorientedeminas.mg.gov.br/transparencia/empenhos/detalhes/2019/12/179', 'https://novoorientedeminas.mg.gov.br/transparencia/liquidacoes/detalhes/2018/03/158', 'https://novoorientedeminas.mg.gov.br/transparencia/pagamentos/detalhes/2015/01/28', 'https://novoorientedeminas.mg.gov.br/transparencia/empenhos/detalhes/2017/02/144', 'https://novoorientedeminas.mg.gov.br/transparencia/liquidacoes/detalhes/2015/06/33', 'https://novoorientedeminas.mg.gov.br/transparencia/empenhos/detalhes/2017/11/153', 'https://novoorientedeminas.mg.gov.br/transparencia/receitas/detalhes/2022/01/206', 'https://novoorientedeminas.mg.gov.br/transparencia/receitas/detalhes/2018/02/157', 'https://novoorientedeminas.mg.gov.br/transparencia/contratos/detalhes/2015/08/35', 'https://novoorientedeminas.mg.gov.br/transparencia/dispensas/detalhes/2020/01/180', 'https://novoorientedeminas.mg.gov.br/transparencia/liquidacoes/detalhes/2019/10/177', 'https://novoorientedeminas.mg.gov.br/transparencia/liquidacoes/detalhes/2016/02/132', 'https://novoorientedeminas.mg.gov.br/transparencia/empenhos/detalhes/2014/11/26', 'https://novoorientedeminas.mg.gov.br/transparencia/empenhos/detalhes/2014/05/20', 'https://novoorientedeminas.mg.gov.br/transparencia/liquidacoes/detalhes/2021/02/194', 'https://novoorientedeminas.mg.gov.br/transparencia/liquidacoes/detalhes/2021/03/195', 'https://novoorientedeminas.mg.gov.br/transparencia/empenhos/detalhes/2014/04/19', 'https://novoorientedeminas.mg.gov.br/transparencia/diarias/detalhes/2018/7/162', 'https://novoorientedeminas.mg.gov.br/transparencia/dispensas/detalhes/2018/02/157', 'https://novoorientedeminas.mg.gov.br/transparencia/dispensas/detalhes/2019/04/171', 'https://novoorientedeminas.mg.gov.br/transparencia/pagamentos/detalhes/2013/01/1', 'https://novoorientedeminas.mg.gov.br/transparencia/diarias/detalhes/2019/6/173', 'https://novoorientedeminas.mg.gov.br/transparencia/diarias/detalhes/2014/5/20', 'https://novoorientedeminas.mg.gov.br/transparencia/contratos/detalhes/2015/09/36', 'https://novoorientedeminas.mg.gov.br/transparencia/liquidacoes/detalhes/2013/03/3', 'https://novoorientedeminas.mg.gov.br/transparencia/empenhos/detalhes/2021/04/196', 'https://novoorientedeminas.mg.gov.br/transparencia/pagamentos/detalhes/2015/04/31', 'https://novoorientedeminas.mg.gov.br/transparencia/receitas/detalhes/2018/10/165', 'https://novoorientedeminas.mg.gov.br/transparencia/empenhos/detalhes/2021/06/198', 'https://novoorientedeminas.mg.gov.br/transparencia/diarias/detalhes/2015/4/31', 'https://novoorientedeminas.mg.gov.br/transparencia/contratos/detalhes/2016/04/134', 'https://novoorientedeminas.mg.gov.br/transparencia/liquidacoes/detalhes/2022/02/207', 'https://novoorientedeminas.mg.gov.br/transparencia/empenhos/detalhes/2021/12/205', 'https://novoorientedeminas.mg.gov.br/transparencia/liquidacoes/detalhes/2013/01/1', 'https://novoorientedeminas.mg.gov.br/transparencia/pagamentos/detalhes/2018/11/166', 'https://novoorientedeminas.mg.gov.br/transparencia/diarias/detalhes/2014/7/22', 'https://novoorientedeminas.mg.gov.br/transparencia/diarias/detalhes/2017/3/145', 'https://novoorientedeminas.mg.gov.br/transparencia/pagamentos/detalhes/2014/02/14', 'https://novoorientedeminas.mg.gov.br/transparencia/empenhos/detalhes/2018/01/156', 'https://novoorientedeminas.mg.gov.br/transparencia/receitas/detalhes/2020/07/186', 'https://novoorientedeminas.mg.gov.br/transparencia/liquidacoes/detalhes/2019/12/179', 'https://novoorientedeminas.mg.gov.br/transparencia/receitas/detalhes/2013/01/1', 'https://novoorientedeminas.mg.gov.br/transparencia/empenhos/detalhes/2020/01/180', 'https://novoorientedeminas.mg.gov.br/transparencia/receitas/detalhes/2022/05/210', 'https://novoorientedeminas.mg.gov.br/transparencia/receitas/detalhes/2013/08/8', 'https://novoorientedeminas.mg.gov.br/transparencia/empenhos/detalhes/2021/03/195', 'https://novoorientedeminas.mg.gov.br/transparencia/contratos/detalhes/2022/05/210', 'https://novoorientedeminas.mg.gov.br/transparencia/empenhos/detalhes/2013/03/3', 'https://novoorientedeminas.mg.gov.br/transparencia/pagamentos/detalhes/2018/10/165', 'https://novoorientedeminas.mg.gov.br/transparencia/pagamentos/detalhes/2021/01/192', 'https://novoorientedeminas.mg.gov.br/transparencia/contratos/detalhes/2013/05/5', 'https://novoorientedeminas.mg.gov.br/transparencia/empenhos/detalhes/2015/12/130', 'https://novoorientedeminas.mg.gov.br/transparencia/pagamentos/detalhes/2016/09/139', 'https://novoorientedeminas.mg.gov.br/transparencia/pagamentos/detalhes/2018/09/164', 'https://novoorientedeminas.mg.gov.br/transparencia/relatorios/detalhes/5', 'https://novoorientedeminas.mg.gov.br/transparencia/empenhos/detalhes/2018/10/165', 'https://novoorientedeminas.mg.gov.br/transparencia/dispensas/detalhes/2016/07/136', 'https://novoorientedeminas.mg.gov.br/transparencia/empenhos/detalhes/2013/02/2', 'https://novoorientedeminas.mg.gov.br/transparencia/receitas/detalhes/2019/05/172', 'https://novoorientedeminas.mg.gov.br/transparencia/contratos/detalhes/2021/05/197', 'https://novoorientedeminas.mg.gov.br/transparencia/contratos/detalhes/2021/04/196', 'https://novoorientedeminas.mg.gov.br/transparencia/pagamentos/detalhes/2013/11/11', 'https://novoorientedeminas.mg.gov.br/transparencia/dispensas/detalhes/2014/10/25', 'https://novoorientedeminas.mg.gov.br/transparencia/liquidacoes/detalhes/2022/03/208', 'https://novoorientedeminas.mg.gov.br/transparencia/contratos/detalhes/2015/01/28', 'https://novoorientedeminas.mg.gov.br/transparencia/contratos/detalhes/2022/02/207', 'https://novoorientedeminas.mg.gov.br/transparencia/pagamentos/detalhes/2016/05/135', 'https://novoorientedeminas.mg.gov.br/transparencia/pagamentos/detalhes/2014/07/22', 'https://novoorientedeminas.mg.gov.br/transparencia/pagamentos/detalhes/2015/07/34', 'https://novoorientedeminas.mg.gov.br/transparencia/pagamentos/detalhes/2019/08/175', 'https://novoorientedeminas.mg.gov.br/transparencia/diarias/detalhes/2015/11/38', 'https://novoorientedeminas.mg.gov.br/transparencia/empenhos/detalhes/2018/08/163', 'https://novoorientedeminas.mg.gov.br/transparencia/liquidacoes/detalhes/2021/01/192', 'https://novoorientedeminas.mg.gov.br/transparencia/empenhos/detalhes/2016/06/137', 'https://novoorientedeminas.mg.gov.br/transparencia/diarias/detalhes/2016/12/142', 'https://novoorientedeminas.mg.gov.br/transparencia/contratos/detalhes/2016/09/139', 'https://novoorientedeminas.mg.gov.br/transparencia/pagamentos/detalhes/2020/11/190', 'https://novoorientedeminas.mg.gov.br/transparencia/dispensas/detalhes/2015/08/35', 'https://novoorientedeminas.mg.gov.br/transparencia/diarias/detalhes/2016/7/136', 'https://novoorientedeminas.mg.gov.br/transparencia/dispensas/detalhes/2013/06/6', 'https://novoorientedeminas.mg.gov.br/transparencia/pagamentos/detalhes/2015/02/29', 'https://novoorientedeminas.mg.gov.br/transparencia/empenhos/detalhes/2018/02/157', 'https://novoorientedeminas.mg.gov.br/transparencia/liquidacoes/detalhes/2020/03/182', 'https://novoorientedeminas.mg.gov.br/transparencia/empenhos/detalhes/2022/02/207', 'https://novoorientedeminas.mg.gov.br/transparencia/pagamentos/detalhes/2017/06/148', 'https://novoorientedeminas.mg.gov.br/transparencia/receitas/detalhes/2019/11/178', 'https://novoorientedeminas.mg.gov.br/transparencia/receitas/detalhes/2018/04/159', 'https://novoorientedeminas.mg.gov.br/transparencia/contratos/detalhes/2021/08/202', 'https://novoorientedeminas.mg.gov.br/transparencia/dispensas/detalhes/2017/03/145', 'https://novoorientedeminas.mg.gov.br/transparencia/diarias/detalhes/2016/2/132', 'https://novoorientedeminas.mg.gov.br/transparencia/dispensas/detalhes/2015/01/28', 'https://novoorientedeminas.mg.gov.br/transparencia/dispensas/detalhes/2013/09/9', 'https://novoorientedeminas.mg.gov.br/transparencia/diarias/detalhes/2018/2/157', 'https://novoorientedeminas.mg.gov.br/transparencia/liquidacoes/detalhes/2013/07/7', 'https://novoorientedeminas.mg.gov.br/transparencia/diarias/detalhes/2017/5/147', 'https://novoorientedeminas.mg.gov.br/transparencia/empenhos/detalhes/2013/07/7', 'https://novoorientedeminas.mg.gov.br/transparencia/contratos/detalhes/2016/07/136', 'https://novoorientedeminas.mg.gov.br/transparencia/liquidacoes/detalhes/2015/07/34', 'https://novoorientedeminas.mg.gov.br/transparencia/diarias/detalhes/2022/6/211', 'https://novoorientedeminas.mg.gov.br/transparencia/liquidacoes/detalhes/2013/12/12', 'https://novoorientedeminas.mg.gov.br/transparencia/dispensas/detalhes/2013/12/12', 'https://novoorientedeminas.mg.gov.br/transparencia/pagamentos/detalhes/2013/12/12', 'https://novoorientedeminas.mg.gov.br/transparencia/receitas/detalhes/2013/12/12', 'https://novoorientedeminas.mg.gov.br/transparencia/pagamentos/detalhes/2022/04/209', 'https://novoorientedeminas.mg.gov.br/transparencia/liquidacoes/detalhes/2018/02/157', 'https://novoorientedeminas.mg.gov.br/transparencia/pagamentos/detalhes/2013/02/2', 'https://novoorientedeminas.mg.gov.br/transparencia/empenhos/detalhes/2020/03/182', 'https://novoorientedeminas.mg.gov.br/transparencia/receitas/detalhes/2021/10/204', 'https://novoorientedeminas.mg.gov.br/transparencia/contratos/detalhes/2020/05/184', 'https://novoorientedeminas.mg.gov.br/transparencia/diarias/detalhes/2015/5/32', 'https://novoorientedeminas.mg.gov.br/transparencia/empenhos/detalhes/2015/08/35', 'https://novoorientedeminas.mg.gov.br/transparencia/diarias/detalhes/2018/10/165', 'https://novoorientedeminas.mg.gov.br/transparencia/contratos/detalhes/2020/06/185', 'https://novoorientedeminas.mg.gov.br/transparencia/pagamentos/detalhes/2014/09/24', 'https://novoorientedeminas.mg.gov.br/transparencia/receitas/detalhes/2020/10/189', 'https://novoorientedeminas.mg.gov.br/transparencia/liquidacoes/detalhes/2017/11/153', 'https://novoorientedeminas.mg.gov.br/transparencia/empenhos/detalhes/2020/04/183', 'https://novoorientedeminas.mg.gov.br/transparencia/contratos/detalhes/2022/06/211', 'https://novoorientedeminas.mg.gov.br/transparencia/empenhos/detalhes/2019/08/175', 'https://novoorientedeminas.mg.gov.br/transparencia/empenhos/detalhes/2020/09/188', 'https://novoorientedeminas.mg.gov.br/transparencia/liquidacoes/detalhes/2013/02/2', 'https://novoorientedeminas.mg.gov.br/transparencia/empenhos/detalhes/2017/08/150', 'https://novoorientedeminas.mg.gov.br/transparencia/pagamentos/detalhes/2019/01/168', 'https://novoorientedeminas.mg.gov.br/transparencia/liquidacoes/detalhes/2016/07/136', 'https://novoorientedeminas.mg.gov.br/transparencia/pagamentos/detalhes/2017/04/146', 'https://novoorientedeminas.mg.gov.br/transparencia/liquidacoes/detalhes/2017/10/152', 'https://novoorientedeminas.mg.gov.br/transparencia/receitas/detalhes/2022/02/207', 'https://novoorientedeminas.mg.gov.br/transparencia/dispensas/detalhes/2019/09/176', 'https://novoorientedeminas.mg.gov.br/transparencia/empenhos/detalhes/2020/05/184', 'https://novoorientedeminas.mg.gov.br/transparencia/liquidacoes/detalhes/2013/11/11', 'https://novoorientedeminas.mg.gov.br/transparencia/receitas/detalhes/2020/09/188', 'https://novoorientedeminas.mg.gov.br/transparencia/pagamentos/detalhes/2017/10/152', 'https://novoorientedeminas.mg.gov.br/transparencia/pagamentos/detalhes/2016/08/138', 'https://novoorientedeminas.mg.gov.br/transparencia/liquidacoes/detalhes/2014/02/14', 'https://novoorientedeminas.mg.gov.br/transparencia/empenhos/detalhes/2013/10/10', 'https://novoorientedeminas.mg.gov.br/transparencia/diarias/detalhes/2021/12/205', 'https://novoorientedeminas.mg.gov.br/transparencia/empenhos/detalhes/2020/11/190', 'https://novoorientedeminas.mg.gov.br/transparencia/liquidacoes/detalhes/2019/05/172', 'https://novoorientedeminas.mg.gov.br/transparencia/pagamentos/detalhes/2022/05/210', 'https://novoorientedeminas.mg.gov.br/transparencia/diarias/detalhes/2013/10/10', 'https://novoorientedeminas.mg.gov.br/transparencia/liquidacoes/detalhes/2022/05/210', 'https://novoorientedeminas.mg.gov.br/transparencia/liquidacoes/detalhes/2015/04/31', 'https://novoorientedeminas.mg.gov.br/transparencia/liquidacoes/detalhes/2013/08/8', 'https://novoorientedeminas.mg.gov.br/transparencia/liquidacoes/detalhes/2019/01/168', 'https://novoorientedeminas.mg.gov.br/transparencia/liquidacoes/detalhes/2015/09/36', 'https://novoorientedeminas.mg.gov.br/transparencia/diarias/detalhes/2015/12/130', 'https://novoorientedeminas.mg.gov.br/transparencia/diarias/detalhes/2014/12/27', 'https://novoorientedeminas.mg.gov.br/transparencia/contratos/detalhes/2016/06/137', 'https://novoorientedeminas.mg.gov.br/transparencia/liquidacoes/detalhes/2014/10/25', 'https://novoorientedeminas.mg.gov.br/transparencia/liquidacoes/detalhes/2021/11/203', 'https://novoorientedeminas.mg.gov.br/transparencia/diarias/detalhes/2022/1/206', 'https://novoorientedeminas.mg.gov.br/transparencia/diarias/detalhes/2021/1/192', 'https://novoorientedeminas.mg.gov.br/transparencia/pagamentos/detalhes/2017/11/153', 'https://novoorientedeminas.mg.gov.br/transparencia/dispensas/detalhes/2014/03/15', 'https://novoorientedeminas.mg.gov.br/transparencia/dispensas/detalhes/2016/08/138', 'https://novoorientedeminas.mg.gov.br/transparencia/liquidacoes/detalhes/2022/01/206', 'https://novoorientedeminas.mg.gov.br/transparencia/dispensas/detalhes/2013/07/7', 'https://novoorientedeminas.mg.gov.br/transparencia/contratos/detalhes/2016/12/142', 'https://novoorientedeminas.mg.gov.br/transparencia/dispensas/detalhes/2015/12/130', 'https://novoorientedeminas.mg.gov.br/transparencia/empenhos/detalhes/2017/05/147', 'https://novoorientedeminas.mg.gov.br/transparencia/diarias/detalhes/2018/5/160', 'https://novoorientedeminas.mg.gov.br/transparencia/liquidacoes/detalhes/2018/04/159', 'https://novoorientedeminas.mg.gov.br/transparencia/pagamentos/detalhes/2019/10/177', 'https://novoorientedeminas.mg.gov.br/transparencia/empenhos/detalhes/2017/07/149', 'https://novoorientedeminas.mg.gov.br/transparencia/pagamentos/detalhes/2014/12/27', 'https://novoorientedeminas.mg.gov.br/transparencia/liquidacoes/detalhes/2014/07/22', 'https://novoorientedeminas.mg.gov.br/transparencia/pagamentos/detalhes/2014/04/19', 'https://novoorientedeminas.mg.gov.br/transparencia/receitas/detalhes/2020/08/187', 'https://novoorientedeminas.mg.gov.br/transparencia/empenhos/detalhes/2021/08/202', 'https://novoorientedeminas.mg.gov.br/transparencia/diarias/detalhes/2019/10/177', 'https://novoorientedeminas.mg.gov.br/transparencia/liquidacoes/detalhes/2020/06/185', 'https://novoorientedeminas.mg.gov.br/transparencia/dispensas/detalhes/2017/01/143', 'https://novoorientedeminas.mg.gov.br/transparencia/liquidacoes/detalhes/2021/10/204', 'https://novoorientedeminas.mg.gov.br/transparencia/liquidacoes/detalhes/2013/04/4', 'https://novoorientedeminas.mg.gov.br/transparencia/empenhos/detalhes/2022/04/209', 'https://novoorientedeminas.mg.gov.br/transparencia/empenhos/detalhes/2020/02/181', 'https://novoorientedeminas.mg.gov.br/transparencia/diarias/detalhes/2016/5/135', 'https://novoorientedeminas.mg.gov.br/transparencia/pagamentos/detalhes/2018/05/160', 'https://novoorientedeminas.mg.gov.br/transparencia/folhas-de-pagamento/filtradas?indSituacaoServidorPensionista%5B0%5D=I&indSituacaoServidorPensionista%5B1%5D=01', 'https://novoorientedeminas.mg.gov.br/transparencia/liquidacoes/detalhes/2020/02/181', 'https://novoorientedeminas.mg.gov.br/transparencia/empenhos/detalhes/2013/09/9', 'https://novoorientedeminas.mg.gov.br/transparencia/diarias/detalhes/2013/5/5', 'https://novoorientedeminas.mg.gov.br/transparencia/receitas/detalhes/2013/04/4', 'https://novoorientedeminas.mg.gov.br/transparencia/receitas/detalhes/2013/09/9', 'https://novoorientedeminas.mg.gov.br/transparencia/empenhos/detalhes/2018/03/158', 'https://novoorientedeminas.mg.gov.br/transparencia/pagamentos/detalhes/2016/02/132', 'https://novoorientedeminas.mg.gov.br/transparencia/liquidacoes/detalhes/2018/06/161', 'https://novoorientedeminas.mg.gov.br/transparencia/diarias/detalhes/2018/12/167', 'https://novoorientedeminas.mg.gov.br/transparencia/dispensas/detalhes/2015/06/33', 'https://novoorientedeminas.mg.gov.br/transparencia/liquidacoes/detalhes/2019/03/170', 'https://novoorientedeminas.mg.gov.br/transparencia/receitas/detalhes/2019/01/168', 'https://novoorientedeminas.mg.gov.br/transparencia/pagamentos/detalhes/2015/11/38', 'https://novoorientedeminas.mg.gov.br/transparencia/liquidacoes/detalhes/2021/06/198', 'https://novoorientedeminas.mg.gov.br/transparencia/diarias/detalhes/2020/12/191', 'https://novoorientedeminas.mg.gov.br/transparencia/diarias/detalhes/2019/7/174', 'https://novoorientedeminas.mg.gov.br/transparencia/liquidacoes/detalhes/2018/09/164', 'https://novoorientedeminas.mg.gov.br/transparencia/empenhos/detalhes/2020/10/189', 'https://novoorientedeminas.mg.gov.br/transparencia/pagamentos/detalhes/2021/05/197', 'https://novoorientedeminas.mg.gov.br/transparencia/liquidacoes/detalhes/2017/12/155', 'https://novoorientedeminas.mg.gov.br/transparencia/diarias/detalhes/2017/1/143', 'https://novoorientedeminas.mg.gov.br/transparencia/contratos/detalhes/2021/01/192', 'https://novoorientedeminas.mg.gov.br/transparencia/contratos/detalhes/2020/08/187', 'https://novoorientedeminas.mg.gov.br/transparencia/pagamentos/detalhes/2016/12/142', 'https://novoorientedeminas.mg.gov.br/transparencia/diarias/detalhes/2018/3/158', 'https://novoorientedeminas.mg.gov.br/transparencia/pagamentos/detalhes/2020/04/183', 'https://novoorientedeminas.mg.gov.br/transparencia/diarias/detalhes/2015/2/29', 'https://novoorientedeminas.mg.gov.br/transparencia/liquidacoes/detalhes/2017/01/143', 'https://novoorientedeminas.mg.gov.br/transparencia/dispensas/detalhes/2021/02/194', 'https://novoorientedeminas.mg.gov.br/transparencia/dispensas/detalhes/2021/07/199', 'https://novoorientedeminas.mg.gov.br/transparencia/pagamentos/detalhes/2013/09/9', 'https://novoorientedeminas.mg.gov.br/transparencia/diarias/detalhes/2020/10/189', 'https://novoorientedeminas.mg.gov.br/transparencia/empenhos/detalhes/2018/09/164', 'https://novoorientedeminas.mg.gov.br/transparencia/liquidacoes/detalhes/2014/03/15', 'https://novoorientedeminas.mg.gov.br/transparencia/diarias/detalhes/2016/10/140', 'https://novoorientedeminas.mg.gov.br/transparencia/relatorios/detalhes/7', 'https://novoorientedeminas.mg.gov.br/transparencia/liquidacoes/detalhes/2016/10/140', 'https://novoorientedeminas.mg.gov.br/transparencia/pagamentos/detalhes/2022/02/207', 'https://novoorientedeminas.mg.gov.br/transparencia/empenhos/detalhes/2019/02/169', 'https://novoorientedeminas.mg.gov.br/transparencia/liquidacoes/detalhes/2020/05/184', 'https://novoorientedeminas.mg.gov.br/transparencia/empenhos/detalhes/2014/03/15', 'https://novoorientedeminas.mg.gov.br/transparencia/contratos/detalhes/2021/09/200', 'https://novoorientedeminas.mg.gov.br/transparencia/diarias/detalhes/2016/9/139', 'https://novoorientedeminas.mg.gov.br/transparencia/contratos/detalhes/2022/03/208', 'https://novoorientedeminas.mg.gov.br/transparencia/diarias/detalhes/2019/8/175', 'https://novoorientedeminas.mg.gov.br/transparencia/contratos/detalhes/2013/06/6', 'https://novoorientedeminas.mg.gov.br/transparencia/pagamentos/detalhes/2015/09/36', 'https://novoorientedeminas.mg.gov.br/transparencia/liquidacoes/detalhes/2014/11/26', 'https://novoorientedeminas.mg.gov.br/transparencia/liquidacoes/detalhes/2021/12/205', 'https://novoorientedeminas.mg.gov.br/transparencia/dispensas/detalhes/2016/01/131', 'https://novoorientedeminas.mg.gov.br/transparencia/empenhos/detalhes/2017/04/146', 'https://novoorientedeminas.mg.gov.br/transparencia/contratos/detalhes/2013/04/4', 'https://novoorientedeminas.mg.gov.br/transparencia/empenhos/detalhes/2020/12/191', 'https://novoorientedeminas.mg.gov.br/transparencia/empenhos/detalhes/2014/10/25', 'https://novoorientedeminas.mg.gov.br/transparencia/empenhos/detalhes/2022/03/208', 'https://novoorientedeminas.mg.gov.br/transparencia/liquidacoes/detalhes/2017/06/148', 'https://novoorientedeminas.mg.gov.br/transparencia/empenhos/detalhes/2015/07/34', 'https://novoorientedeminas.mg.gov.br/transparencia/pagamentos/detalhes/2018/02/157', 'https://novoorientedeminas.mg.gov.br/transparencia/diarias/detalhes/2022/2/207', 'https://novoorientedeminas.mg.gov.br/transparencia/diarias/detalhes/2013/7/7', 'https://novoorientedeminas.mg.gov.br/transparencia/liquidacoes/detalhes/2020/10/189', 'https://novoorientedeminas.mg.gov.br/transparencia/empenhos/detalhes/2021/02/194', 'https://novoorientedeminas.mg.gov.br/transparencia/diarias/detalhes/2020/1/180', 'https://novoorientedeminas.mg.gov.br/transparencia/receitas/detalhes/2013/06/6', 'https://novoorientedeminas.mg.gov.br/transparencia/empenhos/detalhes/2016/03/133', 'https://novoorientedeminas.mg.gov.br/transparencia/empenhos/detalhes/2014/06/21', 'https://novoorientedeminas.mg.gov.br/transparencia/contratos/detalhes/2013/07/7', 'https://novoorientedeminas.mg.gov.br/transparencia/empenhos/detalhes/2017/10/152', 'https://novoorientedeminas.mg.gov.br/transparencia/diarias/detalhes/2017/2/144', 'https://novoorientedeminas.mg.gov.br/transparencia/empenhos/detalhes/2019/01/168', 'https://novoorientedeminas.mg.gov.br/transparencia/pagamentos/detalhes/2015/06/33', 'https://novoorientedeminas.mg.gov.br/transparencia/pagamentos/detalhes/2014/06/21', 'https://novoorientedeminas.mg.gov.br/transparencia/dispensas/detalhes/2021/04/196', 'https://novoorientedeminas.mg.gov.br/transparencia/diarias/detalhes/2021/10/204', 'https://novoorientedeminas.mg.gov.br/transparencia/liquidacoes/detalhes/2015/12/130', 'https://novoorientedeminas.mg.gov.br/transparencia/contratos/detalhes/2013/01/1'}\n",
      "Number of links visited: 14\n",
      "Actual depth: 2\n"
     ]
    },
    {
     "name": "stderr",
     "output_type": "stream",
     "text": [
      "\n",
      "KeyboardInterrupt\n",
      "\n"
     ]
    }
   ],
   "source": [
    "loop = asyncio.get_event_loop()\n",
    "for key, value in cidades_urls.items():\n",
    "    colect(key, value[0], value[1], loop)"
   ]
  },
  {
   "cell_type": "markdown",
   "metadata": {},
   "source": [
    "### Resultados"
   ]
  },
  {
   "cell_type": "code",
   "execution_count": 9,
   "metadata": {},
   "outputs": [],
   "source": [
    "def gerarRelatorio(cidade, url, restriction):\n",
    "    \n",
    "    print(\"Relatorio de coleta da cidade \" + \"--\" + cidade + \"--\")\n",
    "    for subtag in os.listdir(pasta_template+ cidade):\n",
    "        print(\"Coletado \" + str(len(os.listdir(pasta_template + cidade + \"/\" + subtag + \"/files\"))) + \n",
    "              \" documentos na subtag \" + subtag)\n",
    "        global total\n",
    "        total += len(os.listdir(pasta_template + cidade + \"/\" + subtag + \"/files\"))\n",
    "    print(\"\\n\")"
   ]
  },
  {
   "cell_type": "code",
   "execution_count": 15,
   "metadata": {},
   "outputs": [
    {
     "name": "stdout",
     "output_type": "stream",
     "text": [
      "Relatorio de coleta da cidade --Novo Oriente de Minas--\n",
      "Coletado 1 documentos na subtag receitas\n",
      "Coletado 1 documentos na subtag relatorios\n",
      "Coletado 0 documentos na subtag folhas-de-pagamento\n",
      "Coletado 102 documentos na subtag pagamentos\n",
      "Coletado 94 documentos na subtag licitacoes\n",
      "Coletado 108 documentos na subtag diarias\n",
      "Coletado 0 documentos na subtag empenhos\n",
      "Coletado 45 documentos na subtag contratos\n",
      "Coletado 0 documentos na subtag obras\n",
      "\n",
      "\n",
      "Relatorio de coleta da cidade --Frei Gaspar--\n",
      "Coletado 0 documentos na subtag receitas\n",
      "Coletado 0 documentos na subtag relatorios\n",
      "Coletado 0 documentos na subtag folhas-de-pagamento\n",
      "Coletado 0 documentos na subtag pagamentos\n",
      "Coletado 0 documentos na subtag licitacoes\n",
      "Coletado 0 documentos na subtag diarias\n",
      "Coletado 0 documentos na subtag empenhos\n",
      "Coletado 0 documentos na subtag contratos\n",
      "Coletado 0 documentos na subtag obras\n",
      "\n",
      "\n",
      "Relatorio de coleta da cidade --Fronteira dos Vales--\n",
      "Coletado 1 documentos na subtag receitas\n",
      "Coletado 1 documentos na subtag relatorios\n",
      "Coletado 0 documentos na subtag folhas-de-pagamento\n",
      "Coletado 99 documentos na subtag pagamentos\n",
      "Coletado 80 documentos na subtag licitacoes\n",
      "Coletado 90 documentos na subtag diarias\n",
      "Coletado 95 documentos na subtag empenhos\n",
      "Coletado 71 documentos na subtag contratos\n",
      "Coletado 0 documentos na subtag obras\n",
      "\n",
      "\n",
      "Relatorio de coleta da cidade --Chapada do Norte--\n",
      "Coletado 1 documentos na subtag receitas\n",
      "Coletado 1 documentos na subtag relatorios\n",
      "Coletado 0 documentos na subtag folhas-de-pagamento\n",
      "Coletado 110 documentos na subtag pagamentos\n",
      "Coletado 96 documentos na subtag licitacoes\n",
      "Coletado 112 documentos na subtag diarias\n",
      "Coletado 111 documentos na subtag empenhos\n",
      "Coletado 92 documentos na subtag contratos\n",
      "Coletado 0 documentos na subtag obras\n",
      "\n",
      "\n",
      "Relatorio de coleta da cidade --Sardoá--\n",
      "Coletado 1 documentos na subtag receitas\n",
      "Coletado 1 documentos na subtag relatorios\n",
      "Coletado 0 documentos na subtag folhas-de-pagamento\n",
      "Coletado 100 documentos na subtag pagamentos\n",
      "Coletado 80 documentos na subtag licitacoes\n",
      "Coletado 93 documentos na subtag diarias\n",
      "Coletado 94 documentos na subtag empenhos\n",
      "Coletado 84 documentos na subtag contratos\n",
      "Coletado 0 documentos na subtag obras\n",
      "\n",
      "\n",
      "Relatorio de coleta da cidade --Bertópolis--\n",
      "Coletado 1 documentos na subtag receitas\n",
      "Coletado 1 documentos na subtag relatorios\n",
      "Coletado 0 documentos na subtag folhas-de-pagamento\n",
      "Coletado 110 documentos na subtag pagamentos\n",
      "Coletado 62 documentos na subtag licitacoes\n",
      "Coletado 95 documentos na subtag diarias\n",
      "Coletado 94 documentos na subtag empenhos\n",
      "Coletado 55 documentos na subtag contratos\n",
      "Coletado 0 documentos na subtag obras\n",
      "\n",
      "\n",
      "Relatorio de coleta da cidade --Cuparaque--\n",
      "Coletado 1 documentos na subtag receitas\n",
      "Coletado 1 documentos na subtag relatorios\n",
      "Coletado 0 documentos na subtag folhas-de-pagamento\n",
      "Coletado 108 documentos na subtag pagamentos\n",
      "Coletado 89 documentos na subtag licitacoes\n",
      "Coletado 110 documentos na subtag diarias\n",
      "Coletado 111 documentos na subtag empenhos\n",
      "Coletado 84 documentos na subtag contratos\n",
      "Coletado 0 documentos na subtag obras\n",
      "\n",
      "\n",
      "Relatorio de coleta da cidade --Coroaci--\n",
      "Coletado 1 documentos na subtag receitas\n",
      "Coletado 1 documentos na subtag relatorios\n",
      "Coletado 0 documentos na subtag folhas-de-pagamento\n",
      "Coletado 106 documentos na subtag pagamentos\n",
      "Coletado 89 documentos na subtag licitacoes\n",
      "Coletado 94 documentos na subtag diarias\n",
      "Coletado 104 documentos na subtag empenhos\n",
      "Coletado 81 documentos na subtag contratos\n",
      "Coletado 0 documentos na subtag obras\n",
      "\n",
      "\n",
      "Relatorio de coleta da cidade --Machacalis--\n",
      "Coletado 1 documentos na subtag receitas\n",
      "Coletado 1 documentos na subtag relatorios\n",
      "Coletado 0 documentos na subtag folhas-de-pagamento\n",
      "Coletado 95 documentos na subtag pagamentos\n",
      "Coletado 89 documentos na subtag licitacoes\n",
      "Coletado 90 documentos na subtag diarias\n",
      "Coletado 93 documentos na subtag empenhos\n",
      "Coletado 90 documentos na subtag contratos\n",
      "Coletado 0 documentos na subtag obras\n",
      "\n",
      "\n",
      "Relatorio de coleta da cidade --Itabirinha--\n",
      "Coletado 1 documentos na subtag receitas\n",
      "Coletado 1 documentos na subtag relatorios\n",
      "Coletado 0 documentos na subtag folhas-de-pagamento\n",
      "Coletado 111 documentos na subtag pagamentos\n",
      "Coletado 89 documentos na subtag licitacoes\n",
      "Coletado 104 documentos na subtag diarias\n",
      "Coletado 112 documentos na subtag empenhos\n",
      "Coletado 100 documentos na subtag contratos\n",
      "Coletado 0 documentos na subtag obras\n",
      "\n",
      "\n",
      "Relatorio de coleta da cidade --São Sebastião do Maranhão--\n",
      "Coletado 1 documentos na subtag receitas\n",
      "Coletado 1 documentos na subtag relatorios\n",
      "Coletado 0 documentos na subtag folhas-de-pagamento\n",
      "Coletado 109 documentos na subtag pagamentos\n",
      "Coletado 91 documentos na subtag licitacoes\n",
      "Coletado 94 documentos na subtag diarias\n",
      "Coletado 112 documentos na subtag empenhos\n",
      "Coletado 101 documentos na subtag contratos\n",
      "Coletado 0 documentos na subtag obras\n",
      "\n",
      "\n",
      "Relatorio de coleta da cidade --Caraí--\n",
      "Coletado 1 documentos na subtag receitas\n",
      "Coletado 1 documentos na subtag relatorios\n",
      "Coletado 0 documentos na subtag folhas-de-pagamento\n",
      "Coletado 106 documentos na subtag pagamentos\n",
      "Coletado 97 documentos na subtag licitacoes\n",
      "Coletado 111 documentos na subtag diarias\n",
      "Coletado 110 documentos na subtag empenhos\n",
      "Coletado 82 documentos na subtag contratos\n",
      "Coletado 0 documentos na subtag obras\n",
      "\n",
      "\n",
      "Relatorio de coleta da cidade --Ataléia--\n",
      "Coletado 1 documentos na subtag receitas\n",
      "Coletado 1 documentos na subtag relatorios\n",
      "Coletado 0 documentos na subtag folhas-de-pagamento\n",
      "Coletado 109 documentos na subtag pagamentos\n",
      "Coletado 0 documentos na subtag licitacoes\n",
      "Coletado 111 documentos na subtag diarias\n",
      "Coletado 109 documentos na subtag empenhos\n",
      "Coletado 100 documentos na subtag contratos\n",
      "Coletado 0 documentos na subtag obras\n",
      "\n",
      "\n",
      "Relatorio de coleta da cidade --Ouro Verde de Minas--\n",
      "Coletado 0 documentos na subtag receitas\n",
      "Coletado 0 documentos na subtag relatorios\n",
      "Coletado 0 documentos na subtag folhas-de-pagamento\n",
      "Coletado 0 documentos na subtag pagamentos\n",
      "Coletado 0 documentos na subtag licitacoes\n",
      "Coletado 0 documentos na subtag diarias\n",
      "Coletado 0 documentos na subtag empenhos\n",
      "Coletado 0 documentos na subtag contratos\n",
      "Coletado 0 documentos na subtag obras\n",
      "\n",
      "\n",
      "Relatorio de coleta da cidade --Itaipé--\n",
      "Coletado 1 documentos na subtag receitas\n",
      "Coletado 1 documentos na subtag relatorios\n",
      "Coletado 0 documentos na subtag folhas-de-pagamento\n",
      "Coletado 111 documentos na subtag pagamentos\n",
      "Coletado 94 documentos na subtag licitacoes\n",
      "Coletado 112 documentos na subtag diarias\n",
      "Coletado 112 documentos na subtag empenhos\n",
      "Coletado 87 documentos na subtag contratos\n",
      "Coletado 0 documentos na subtag obras\n",
      "\n",
      "\n",
      "Relatorio de coleta da cidade --Umburatiba--\n",
      "Coletado 1 documentos na subtag receitas\n",
      "Coletado 1 documentos na subtag relatorios\n",
      "Coletado 0 documentos na subtag folhas-de-pagamento\n",
      "Coletado 111 documentos na subtag pagamentos\n",
      "Coletado 77 documentos na subtag licitacoes\n",
      "Coletado 111 documentos na subtag diarias\n",
      "Coletado 112 documentos na subtag empenhos\n",
      "Coletado 65 documentos na subtag contratos\n",
      "Coletado 0 documentos na subtag obras\n",
      "\n",
      "\n",
      "Relatorio de coleta da cidade --Marilac--\n",
      "Coletado 1 documentos na subtag receitas\n",
      "Coletado 1 documentos na subtag relatorios\n",
      "Coletado 0 documentos na subtag folhas-de-pagamento\n",
      "Coletado 110 documentos na subtag pagamentos\n",
      "Coletado 91 documentos na subtag licitacoes\n",
      "Coletado 2 documentos na subtag diarias\n",
      "Coletado 111 documentos na subtag empenhos\n",
      "Coletado 31 documentos na subtag contratos\n",
      "Coletado 0 documentos na subtag obras\n",
      "\n",
      "\n",
      "Relatorio de coleta da cidade --Jordânia--\n",
      "Coletado 1 documentos na subtag receitas\n",
      "Coletado 1 documentos na subtag relatorios\n",
      "Coletado 0 documentos na subtag folhas-de-pagamento\n",
      "Coletado 105 documentos na subtag pagamentos\n",
      "Coletado 0 documentos na subtag licitacoes\n",
      "Coletado 111 documentos na subtag diarias\n",
      "Coletado 110 documentos na subtag empenhos\n",
      "Coletado 91 documentos na subtag contratos\n",
      "Coletado 0 documentos na subtag obras\n",
      "\n",
      "\n",
      "Relatorio de coleta da cidade --São João Evangelista--\n",
      "Coletado 1 documentos na subtag receitas\n",
      "Coletado 1 documentos na subtag relatorios\n",
      "Coletado 0 documentos na subtag folhas-de-pagamento\n",
      "Coletado 109 documentos na subtag pagamentos\n",
      "Coletado 89 documentos na subtag licitacoes\n",
      "Coletado 104 documentos na subtag diarias\n",
      "Coletado 112 documentos na subtag empenhos\n",
      "Coletado 101 documentos na subtag contratos\n",
      "Coletado 0 documentos na subtag obras\n",
      "\n",
      "\n",
      "Relatorio de coleta da cidade --Bandeira--\n",
      "Coletado 0 documentos na subtag receitas\n",
      "Coletado 0 documentos na subtag relatorios\n",
      "Coletado 0 documentos na subtag folhas-de-pagamento\n",
      "Coletado 0 documentos na subtag pagamentos\n",
      "Coletado 0 documentos na subtag licitacoes\n",
      "Coletado 0 documentos na subtag diarias\n",
      "Coletado 0 documentos na subtag empenhos\n",
      "Coletado 0 documentos na subtag contratos\n",
      "Coletado 0 documentos na subtag obras\n",
      "\n",
      "\n",
      "Relatorio de coleta da cidade --Tumiritinga--\n",
      "Coletado 1 documentos na subtag receitas\n",
      "Coletado 1 documentos na subtag relatorios\n",
      "Coletado 0 documentos na subtag folhas-de-pagamento\n",
      "Coletado 108 documentos na subtag pagamentos\n",
      "Coletado 96 documentos na subtag licitacoes\n",
      "Coletado 59 documentos na subtag diarias\n",
      "Coletado 111 documentos na subtag empenhos\n",
      "Coletado 92 documentos na subtag contratos\n",
      "Coletado 0 documentos na subtag obras\n",
      "\n",
      "\n",
      "Relatorio de coleta da cidade --Santa Efigênia de Minas--\n",
      "Coletado 1 documentos na subtag receitas\n",
      "Coletado 1 documentos na subtag relatorios\n",
      "Coletado 0 documentos na subtag folhas-de-pagamento\n",
      "Coletado 110 documentos na subtag pagamentos\n",
      "Coletado 85 documentos na subtag licitacoes\n",
      "Coletado 107 documentos na subtag diarias\n",
      "Coletado 112 documentos na subtag empenhos\n",
      "Coletado 62 documentos na subtag contratos\n",
      "Coletado 0 documentos na subtag obras\n",
      "\n",
      "\n",
      "Relatorio de coleta da cidade --Pavão--\n",
      "Coletado 1 documentos na subtag receitas\n",
      "Coletado 1 documentos na subtag relatorios\n",
      "Coletado 0 documentos na subtag folhas-de-pagamento\n",
      "Coletado 113 documentos na subtag pagamentos\n",
      "Coletado 77 documentos na subtag licitacoes\n",
      "Coletado 111 documentos na subtag diarias\n",
      "Coletado 113 documentos na subtag empenhos\n",
      "Coletado 44 documentos na subtag contratos\n",
      "Coletado 0 documentos na subtag obras\n",
      "\n",
      "\n",
      "Relatorio de coleta da cidade --Pescador--\n",
      "Coletado 1 documentos na subtag receitas\n",
      "Coletado 1 documentos na subtag relatorios\n",
      "Coletado 0 documentos na subtag folhas-de-pagamento\n",
      "Coletado 104 documentos na subtag pagamentos\n",
      "Coletado 89 documentos na subtag licitacoes\n",
      "Coletado 86 documentos na subtag diarias\n",
      "Coletado 99 documentos na subtag empenhos\n",
      "Coletado 102 documentos na subtag contratos\n",
      "Coletado 0 documentos na subtag obras\n",
      "\n",
      "\n",
      "Relatorio de coleta da cidade --Cantagalo--\n",
      "Coletado 1 documentos na subtag receitas\n",
      "Coletado 1 documentos na subtag relatorios\n",
      "Coletado 0 documentos na subtag folhas-de-pagamento\n",
      "Coletado 83 documentos na subtag pagamentos\n",
      "Coletado 0 documentos na subtag licitacoes\n",
      "Coletado 64 documentos na subtag diarias\n",
      "Coletado 86 documentos na subtag empenhos\n",
      "Coletado 56 documentos na subtag contratos\n",
      "Coletado 0 documentos na subtag obras\n",
      "\n",
      "\n",
      "Relatorio de coleta da cidade --Santo Antônio do Jacinto--\n",
      "Coletado 0 documentos na subtag receitas\n",
      "Coletado 0 documentos na subtag relatorios\n",
      "Coletado 0 documentos na subtag folhas-de-pagamento\n",
      "Coletado 0 documentos na subtag pagamentos\n",
      "Coletado 0 documentos na subtag licitacoes\n",
      "Coletado 0 documentos na subtag diarias\n",
      "Coletado 0 documentos na subtag empenhos\n",
      "Coletado 0 documentos na subtag contratos\n",
      "Coletado 0 documentos na subtag obras\n",
      "\n",
      "\n",
      "Total de documentos coletados: 10045\n"
     ]
    }
   ],
   "source": [
    "total = 0\n",
    "for key, value in cidades_urls.items():\n",
    "    gerarRelatorio(key, value[0], value[1])\n",
    "print(\"Total de documentos coletados: \" + str(total))"
   ]
  }
 ],
 "metadata": {
  "kernelspec": {
   "display_name": "Python 3 (ipykernel)",
   "language": "python",
   "name": "python3"
  },
  "language_info": {
   "codemirror_mode": {
    "name": "ipython",
    "version": 3
   },
   "file_extension": ".py",
   "mimetype": "text/x-python",
   "name": "python",
   "nbconvert_exporter": "python",
   "pygments_lexer": "ipython3",
   "version": "3.8.10"
  }
 },
 "nbformat": 4,
 "nbformat_minor": 4
}
