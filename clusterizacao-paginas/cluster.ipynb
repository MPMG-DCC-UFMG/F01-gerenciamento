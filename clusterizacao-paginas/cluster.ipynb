{
 "cells": [
  {
   "cell_type": "code",
   "execution_count": null,
   "id": "d33cc1ef",
   "metadata": {},
   "outputs": [],
   "source": [
    "!pip install jellyfish\n",
    "!pip install html-similarity"
   ]
  },
  {
   "cell_type": "code",
   "execution_count": 1,
   "id": "cf3249e9",
   "metadata": {},
   "outputs": [
    {
     "name": "stderr",
     "output_type": "stream",
     "text": [
      "/usr/lib/python3/dist-packages/requests/__init__.py:89: RequestsDependencyWarning: urllib3 (1.26.11) or chardet (3.0.4) doesn't match a supported version!\n",
      "  warnings.warn(\"urllib3 ({}) or chardet ({}) doesn't match a supported \"\n"
     ]
    }
   ],
   "source": [
    "import urllib3\n",
    "import jellyfish\n",
    "import requests\n",
    "\n",
    "from bs4 import BeautifulSoup\n",
    "from urllib.parse import urljoin\n",
    "from urllib3.exceptions import *\n",
    "from html_similarity import style_similarity, structural_similarity, similarity\n",
    "\n",
    "from selenium import webdriver\n",
    "from selenium.webdriver.chrome.options import Options\n",
    "\n",
    "options = Options()\n",
    "options.add_argument(\"--disable-notifications\")\n",
    "options.add_argument(\"--disable-popup-blocking\")\n",
    "options.add_argument(\"--disable-web-security\")\n",
    "options.add_argument('--headless')"
   ]
  },
  {
   "cell_type": "code",
   "execution_count": 2,
   "id": "d1f47a9b",
   "metadata": {},
   "outputs": [],
   "source": [
    "paginas_base = [\"https://freigaspar.mg.gov.br/transparencia/empenhos\", \n",
    "                \"https://freigaspar.mg.gov.br/transparencia/pagamentos\",\n",
    "                \"https://freigaspar.mg.gov.br/transparencia/receitas\"]\n",
    "\n",
    "coletor_1 = [\"https://freigaspar.mg.gov.br/transparencia/folhas-de-pagamento/detalhes?indSituacaoServidorPensionista%5B0%5D=P&indSituacaoServidorPensionista%5B1%5D=03&IDE_FLPGO_id=35&ano=2015\",\n",
    "             \"https://freigaspar.mg.gov.br/transparencia/empenhos/detalhes/2022/02/118\",\n",
    "             \"https://freigaspar.mg.gov.br/transparencia/pagamentos/detalhes/2022/02/118\"]\n",
    "\n",
    "coletor_2 = [\"https://freigaspar.mg.gov.br/transparencia/empenhos/exibir/2022/02/33089\",\n",
    "             \"https://freigaspar.mg.gov.br/transparencia/pagamentos/exibir/2021/12/35798\",\n",
    "             \"https://freigaspar.mg.gov.br/transparencia/empenhos/exibir/2022/05/34915\"]\n",
    "\n",
    "paginas_extras = [\"https://freigaspar.mg.gov.br/transparencia\",\n",
    "                  \"https://freigaspar.mg.gov.br/transparencia/folhas-de-pagamento\",\n",
    "                  \"https://freigaspar.mg.gov.br/transparencia/coronavirus\"]\n",
    "\n",
    "testes = paginas_base + coletor_1 + coletor_2 + paginas_extras"
   ]
  },
  {
   "cell_type": "markdown",
   "id": "be80f56b",
   "metadata": {},
   "source": [
    "## Jellyfish"
   ]
  },
  {
   "cell_type": "code",
   "execution_count": 5,
   "id": "adf0c9b3",
   "metadata": {},
   "outputs": [],
   "source": [
    "def extrairHtml(url):\n",
    "\n",
    "    driver = webdriver.Chrome(options=options)\n",
    "    driver.get(url)\n",
    "    urllib3.disable_warnings(urllib3.exceptions.InsecureRequestWarning)\n",
    "    \n",
    "    try:\n",
    "        soup = BeautifulSoup(driver.page_source, \"lxml\")\n",
    "        \n",
    "        driver.close()\n",
    "        \n",
    "        for elm in soup.find_all():\n",
    "            if not elm.find(recursive=False):\n",
    "                elm.string = ''\n",
    "            elm.attrs = {}\n",
    "            \n",
    "        html = str(soup.prettify()).replace(\"\\n\", \"\")\n",
    "            \n",
    "        return html.replace(\" \", \"\")\n",
    "\n",
    "    \n",
    "    except:\n",
    "        driver.close()\n",
    "        \n",
    "        print(\"Erro ao tentar abrir a pagina: \" + url)"
   ]
  },
  {
   "cell_type": "code",
   "execution_count": 6,
   "id": "d906f047",
   "metadata": {},
   "outputs": [
    {
     "data": {
      "text/plain": [
       "'<html><head><!--|METAS|--><meta></meta><meta></meta><meta></meta><meta></meta><meta></meta><meta></meta><meta></meta><meta></meta><meta></meta><!--|OGTAGS|--><meta></meta><meta></meta><meta></meta><meta></meta><meta></meta><meta></meta><meta></meta><meta></meta><link></link><title></title><style></style><!--|CSS|--><link></link><link></link><link></link><link></link><style></style><style></style><style></style><style></style><style></style><style></style><style></style><style></style><style></style><style></style><style></style><style></style><style></style><style></style><style></style><style></style><style></style><style></style><style></style><style></style><style></style></head><body><div><div><div><img></img><img></img></div><div><div><div></div><div></div><div></div><div></div><div></div><div></div><div></div><div></div><div></div><div></div><div></div><div></div></div></div></div><!--|NAVBAR|--><nav><div><a><img></img></a><a><i></i><span></span></a></div><button><i></i></button><div><ul><li><a></a></li><li><a></a></li><li><a></a><div><div><ul><a></a><a></a><a></a><a></a><a></a><a></a><a></a></ul></div></div></li><li><a></a><div><div><ul><a></a><a></a><a></a><a></a><a></a></ul></div></div></li><li><a></a></li><li><a></a></li></ul><ul><li><a></a></li><li><a></a></li><li><a></a></li><li><a></a></li><li><a></a></li><li><a></a></li><li><a></a></li><li><a></a></li></ul></div></nav><div><!--|SIDEBAR|--><aside><div><ul><li><a><i></i><span></span></a></li><li><a><i></i><span></span></a></li><li><a><i></i><span></span></a></li><li><a><i></i><span></span></a></li><li><a><i></i><span></span></a></li><li><a><i></i><span></span></a></li><li><a><i></i><span></span></a></li><li><a><i></i><span></span></a></li><li><a><i></i><span></span></a></li><li><a><i></i><span></span></a></li><li><a><i></i><span></span></a></li><li><a><i></i><span></span></a></li></ul></div></aside><main><section><h6></h6><div><div><div><div><div><div><div><span></span><h5></h5></div><div><a></a></div></div><div><a><p></p></a><a><p></p></a></div></div></div></div></div></div></section><footer><div><div>2022©TodososdireitosreservadosPREFEITURAMUNICIPALDEFREIGASPAR|CNPJ:<span></span></div></div><ul><a></a></ul><a><i></i></a></footer></main></div></div><!--|JS|--><script></script><script></script><script></script><script></script><script></script><script></script><script></script><script></script><!--|PREVISÃODOTEMPO|--><script></script><!--|LIBRAS|--><script></script><script></script><!--|ACESSIBILIDADE|--><script></script><script></script><div><div><div></div></div></div></body></html>'"
      ]
     },
     "execution_count": 6,
     "metadata": {},
     "output_type": "execute_result"
    }
   ],
   "source": [
    "extrairHtml(\"https://freigaspar.mg.gov.br/transparencia/coronavirus\")"
   ]
  },
  {
   "cell_type": "code",
   "execution_count": 7,
   "id": "df02747f",
   "metadata": {},
   "outputs": [],
   "source": [
    "testes_1 = [extrairHtml(teste) for teste in testes]"
   ]
  },
  {
   "cell_type": "code",
   "execution_count": 8,
   "id": "52185ddc",
   "metadata": {
    "scrolled": true
   },
   "outputs": [
    {
     "name": "stdout",
     "output_type": "stream",
     "text": [
      "1.00 1.00 0.80 0.70 0.72 0.62 0.61 0.61 0.61 0.61 0.61 0.60 \n",
      "\n",
      "1.00 1.00 0.80 0.70 0.72 0.62 0.61 0.61 0.61 0.61 0.61 0.60 \n",
      "\n",
      "0.80 0.80 1.00 0.74 0.80 0.61 0.69 0.69 0.69 0.70 0.69 0.68 \n",
      "\n",
      "0.70 0.70 0.74 1.00 0.84 0.63 0.78 0.79 0.78 0.79 0.80 0.82 \n",
      "\n",
      "0.72 0.72 0.80 0.84 1.00 0.60 0.80 0.80 0.80 0.80 0.79 0.78 \n",
      "\n",
      "0.62 0.62 0.61 0.63 0.60 1.00 0.52 0.51 0.52 0.52 0.52 0.52 \n",
      "\n",
      "0.61 0.61 0.69 0.78 0.80 0.52 1.00 0.97 1.00 0.94 0.94 0.93 \n",
      "\n",
      "0.61 0.61 0.69 0.79 0.80 0.51 0.97 1.00 0.97 0.94 0.94 0.93 \n",
      "\n",
      "0.61 0.61 0.69 0.78 0.80 0.52 1.00 0.97 1.00 0.94 0.94 0.93 \n",
      "\n",
      "0.61 0.61 0.70 0.79 0.80 0.52 0.94 0.94 0.94 1.00 0.94 0.93 \n",
      "\n",
      "0.61 0.61 0.69 0.80 0.79 0.52 0.94 0.94 0.94 0.94 1.00 0.96 \n",
      "\n",
      "0.60 0.60 0.68 0.82 0.78 0.52 0.93 0.93 0.93 0.93 0.96 1.00 \n",
      "\n"
     ]
    }
   ],
   "source": [
    "for page in testes_1:\n",
    "    for page_aux in testes_1:\n",
    "        print(f\"{jellyfish.jaro_distance(page,page_aux):.2f}\", end = \" \")\n",
    "    print(\"\\n\")"
   ]
  },
  {
   "cell_type": "code",
   "execution_count": 9,
   "id": "75dd54ba",
   "metadata": {},
   "outputs": [
    {
     "name": "stdout",
     "output_type": "stream",
     "text": [
      "0.00 0.00 6711.00 6893.00 6736.00 32164.00 8286.00 8293.00 8286.00 8267.00 8311.00 8349.00 \n",
      "\n",
      "0.00 0.00 6711.00 6893.00 6736.00 32164.00 8286.00 8293.00 8286.00 8267.00 8311.00 8349.00 \n",
      "\n",
      "6711.00 6711.00 0.00 4528.00 4181.00 32507.00 5921.00 5940.00 5921.00 5925.00 5957.00 5982.00 \n",
      "\n",
      "6893.00 6893.00 4528.00 0.00 2152.00 33048.00 3258.00 3206.00 3258.00 3154.00 2939.00 2771.00 \n",
      "\n",
      "6736.00 6736.00 4181.00 2152.00 0.00 33001.00 3591.00 3588.00 3591.00 3585.00 3622.00 3624.00 \n",
      "\n",
      "32164.00 32164.00 32507.00 33048.00 33001.00 0.00 34531.00 34534.00 34531.00 34507.00 34537.00 34565.00 \n",
      "\n",
      "8286.00 8286.00 5921.00 3258.00 3591.00 34531.00 0.00 637.00 0.00 1062.00 1026.00 1038.00 \n",
      "\n",
      "8293.00 8293.00 5940.00 3206.00 3588.00 34534.00 637.00 0.00 637.00 1015.00 968.00 986.00 \n",
      "\n",
      "8286.00 8286.00 5921.00 3258.00 3591.00 34531.00 0.00 637.00 0.00 1062.00 1026.00 1038.00 \n",
      "\n",
      "8267.00 8267.00 5925.00 3154.00 3585.00 34507.00 1062.00 1015.00 1062.00 0.00 987.00 1013.00 \n",
      "\n",
      "8311.00 8311.00 5957.00 2939.00 3622.00 34537.00 1026.00 968.00 1026.00 987.00 0.00 721.00 \n",
      "\n",
      "8349.00 8349.00 5982.00 2771.00 3624.00 34565.00 1038.00 986.00 1038.00 1013.00 721.00 0.00 \n",
      "\n"
     ]
    }
   ],
   "source": [
    "for page in testes_1:\n",
    "    for page_aux in testes_1:\n",
    "        print(f\"{jellyfish.hamming_distance(page,page_aux):.2f}\", end = \" \")\n",
    "    print(\"\\n\")"
   ]
  },
  {
   "cell_type": "code",
   "execution_count": 13,
   "id": "7d85753d",
   "metadata": {},
   "outputs": [
    {
     "name": "stdout",
     "output_type": "stream",
     "text": [
      "1.00 1.00 0.88 0.70 0.83 0.62 0.61 0.61 0.61 0.61 0.61 0.60 \n",
      "\n",
      "1.00 1.00 0.88 0.70 0.83 0.62 0.61 0.61 0.61 0.61 0.61 0.60 \n",
      "\n",
      "0.88 0.88 1.00 0.85 0.88 0.61 0.69 0.69 0.69 0.70 0.69 0.68 \n",
      "\n",
      "0.70 0.70 0.85 1.00 0.91 0.63 0.87 0.87 0.87 0.87 0.88 0.89 \n",
      "\n",
      "0.83 0.83 0.88 0.91 1.00 0.60 0.88 0.88 0.88 0.88 0.87 0.87 \n",
      "\n",
      "0.62 0.62 0.61 0.63 0.60 1.00 0.52 0.51 0.52 0.52 0.52 0.52 \n",
      "\n",
      "0.61 0.61 0.69 0.87 0.88 0.52 1.00 0.98 1.00 0.96 0.96 0.96 \n",
      "\n",
      "0.61 0.61 0.69 0.87 0.88 0.51 0.98 1.00 0.98 0.96 0.97 0.96 \n",
      "\n",
      "0.61 0.61 0.69 0.87 0.88 0.52 1.00 0.98 1.00 0.96 0.96 0.96 \n",
      "\n",
      "0.61 0.61 0.70 0.87 0.88 0.52 0.96 0.96 0.96 1.00 0.97 0.96 \n",
      "\n",
      "0.61 0.61 0.69 0.88 0.87 0.52 0.96 0.97 0.96 0.97 1.00 0.97 \n",
      "\n",
      "0.60 0.60 0.68 0.89 0.87 0.52 0.96 0.96 0.96 0.96 0.97 1.00 \n",
      "\n"
     ]
    }
   ],
   "source": [
    "for page in testes_1:\n",
    "    for page_aux in testes_1:\n",
    "        print(f\"{jellyfish.jaro_winkler(page,page_aux):.2f}\", end = \" \")\n",
    "    print(\"\\n\")"
   ]
  },
  {
   "cell_type": "markdown",
   "id": "4b26ed0f",
   "metadata": {},
   "source": [
    "## HTML similarity"
   ]
  },
  {
   "cell_type": "code",
   "execution_count": 14,
   "id": "8572b597",
   "metadata": {},
   "outputs": [
    {
     "name": "stdout",
     "output_type": "stream",
     "text": [
      "1.00 1.00 0.82 0.38 0.36 0.10 0.34 0.34 0.34 0.32 0.34 0.34 \n",
      "\n",
      "1.00 1.00 0.82 0.38 0.36 0.10 0.34 0.34 0.34 0.32 0.34 0.34 \n",
      "\n",
      "0.82 0.82 1.00 0.51 0.46 0.11 0.44 0.44 0.44 0.41 0.44 0.44 \n",
      "\n",
      "0.40 0.40 0.51 1.00 0.73 0.11 0.75 0.76 0.75 0.72 0.77 0.80 \n",
      "\n",
      "0.36 0.36 0.40 0.73 1.00 0.11 0.60 0.60 0.60 0.57 0.61 0.63 \n",
      "\n",
      "0.10 0.10 0.11 0.11 0.11 1.00 0.10 0.10 0.10 0.10 0.10 0.10 \n",
      "\n",
      "0.36 0.36 0.45 0.75 0.61 0.10 1.00 0.99 1.00 0.85 0.90 0.93 \n",
      "\n",
      "0.37 0.37 0.45 0.76 0.61 0.10 0.99 1.00 0.99 0.85 0.91 0.94 \n",
      "\n",
      "0.36 0.36 0.45 0.75 0.61 0.10 1.00 0.99 1.00 0.85 0.90 0.93 \n",
      "\n",
      "0.34 0.34 0.41 0.72 0.57 0.10 0.85 0.85 0.85 1.00 0.87 0.90 \n",
      "\n",
      "0.35 0.35 0.44 0.77 0.61 0.10 0.90 0.91 0.90 0.87 1.00 0.96 \n",
      "\n",
      "0.36 0.36 0.44 0.80 0.63 0.10 0.93 0.94 0.93 0.90 0.96 1.00 \n",
      "\n"
     ]
    }
   ],
   "source": [
    "for page in testes_1:\n",
    "    for page_aux in testes_1:\n",
    "        print(f\"{structural_similarity(page,page_aux):.2f}\", end = \" \")\n",
    "    print(\"\\n\")"
   ]
  },
  {
   "cell_type": "code",
   "execution_count": 15,
   "id": "baff6e47",
   "metadata": {},
   "outputs": [
    {
     "name": "stdout",
     "output_type": "stream",
     "text": [
      "1.00 1.00 0.91 0.69 0.68 0.55 0.67 0.67 0.67 0.66 0.67 0.67 \n",
      "\n",
      "1.00 1.00 0.91 0.69 0.68 0.55 0.67 0.67 0.67 0.66 0.67 0.67 \n",
      "\n",
      "0.91 0.91 1.00 0.75 0.73 0.55 0.72 0.72 0.72 0.71 0.72 0.72 \n",
      "\n",
      "0.70 0.70 0.75 1.00 0.87 0.56 0.88 0.88 0.88 0.86 0.89 0.90 \n",
      "\n",
      "0.68 0.68 0.70 0.87 1.00 0.56 0.80 0.80 0.80 0.78 0.81 0.81 \n",
      "\n",
      "0.55 0.55 0.55 0.55 0.56 1.00 0.55 0.55 0.55 0.55 0.55 0.55 \n",
      "\n",
      "0.68 0.68 0.72 0.88 0.81 0.55 1.00 1.00 1.00 0.92 0.95 0.96 \n",
      "\n",
      "0.68 0.68 0.73 0.88 0.81 0.55 1.00 1.00 1.00 0.93 0.95 0.97 \n",
      "\n",
      "0.68 0.68 0.72 0.88 0.81 0.55 1.00 1.00 1.00 0.92 0.95 0.96 \n",
      "\n",
      "0.67 0.67 0.71 0.86 0.78 0.55 0.92 0.93 0.92 1.00 0.93 0.95 \n",
      "\n",
      "0.68 0.68 0.72 0.89 0.81 0.55 0.95 0.95 0.95 0.93 1.00 0.98 \n",
      "\n",
      "0.68 0.68 0.72 0.90 0.81 0.55 0.96 0.97 0.96 0.95 0.98 1.00 \n",
      "\n"
     ]
    }
   ],
   "source": [
    "for page in testes_1:\n",
    "    for page_aux in testes_1:\n",
    "        print(f\"{similarity(page,page_aux):.2f}\", end = \" \")\n",
    "    print(\"\\n\")"
   ]
  },
  {
   "cell_type": "code",
   "execution_count": 16,
   "id": "ef4b94fd",
   "metadata": {},
   "outputs": [],
   "source": [
    "def extrairHtmlCompleto(url):\n",
    "\n",
    "    driver = webdriver.Chrome(options=options)\n",
    "    driver.get(url)\n",
    "    urllib3.disable_warnings(urllib3.exceptions.InsecureRequestWarning)\n",
    "    \n",
    "    try:\n",
    "        soup = BeautifulSoup(driver.page_source, \"lxml\")\n",
    "        driver.close()\n",
    "        \n",
    "        html = str(soup)\n",
    "            \n",
    "        return html\n",
    "    \n",
    "    except:\n",
    "        driver.close()\n",
    "        print(\"Erro ao tentar abrir a pagina: \" + url)"
   ]
  },
  {
   "cell_type": "code",
   "execution_count": 17,
   "id": "bdd1467f",
   "metadata": {},
   "outputs": [],
   "source": [
    "testes_2 = [extrairHtmlCompleto(teste) for teste in testes]"
   ]
  },
  {
   "cell_type": "code",
   "execution_count": 18,
   "id": "37258f80",
   "metadata": {},
   "outputs": [
    {
     "name": "stdout",
     "output_type": "stream",
     "text": [
      "1.00 1.00 0.99 0.72 0.69 0.67 0.61 0.67 0.66 0.57 0.60 0.68 \n",
      "\n",
      "1.00 1.00 0.99 0.72 0.69 0.67 0.61 0.67 0.66 0.57 0.60 0.68 \n",
      "\n",
      "0.99 0.99 1.00 0.72 0.69 0.67 0.61 0.67 0.66 0.57 0.60 0.68 \n",
      "\n",
      "0.72 0.72 0.72 1.00 0.73 0.70 0.75 0.85 0.84 0.72 0.77 0.90 \n",
      "\n",
      "0.69 0.69 0.69 0.73 1.00 0.76 0.60 0.65 0.65 0.57 0.61 0.69 \n",
      "\n",
      "0.67 0.67 0.67 0.70 0.76 1.00 0.57 0.63 0.62 0.55 0.59 0.66 \n",
      "\n",
      "0.62 0.62 0.62 0.75 0.61 0.59 1.00 0.89 0.90 0.85 0.90 0.81 \n",
      "\n",
      "0.68 0.68 0.68 0.85 0.67 0.64 0.89 1.00 0.99 0.74 0.79 0.92 \n",
      "\n",
      "0.67 0.67 0.67 0.84 0.67 0.64 0.90 0.99 1.00 0.73 0.79 0.91 \n",
      "\n",
      "0.57 0.57 0.57 0.72 0.57 0.55 0.85 0.74 0.73 1.00 0.87 0.79 \n",
      "\n",
      "0.60 0.60 0.60 0.77 0.61 0.59 0.90 0.79 0.79 0.87 1.00 0.84 \n",
      "\n",
      "0.68 0.68 0.68 0.90 0.69 0.66 0.81 0.92 0.91 0.78 0.84 1.00 \n",
      "\n"
     ]
    }
   ],
   "source": [
    "for page in testes_2:\n",
    "    for page_aux in testes_2:\n",
    "        print(f\"{structural_similarity(page,page_aux):.2f}\", end = \" \")\n",
    "    print(\"\\n\")"
   ]
  },
  {
   "cell_type": "code",
   "execution_count": 19,
   "id": "a1626d74",
   "metadata": {},
   "outputs": [
    {
     "name": "stdout",
     "output_type": "stream",
     "text": [
      "1.00 1.00 0.99 0.60 0.88 0.88 0.44 0.53 0.53 0.43 0.45 0.56 \n",
      "\n",
      "1.00 1.00 0.99 0.60 0.88 0.88 0.44 0.53 0.53 0.43 0.45 0.56 \n",
      "\n",
      "0.99 0.99 1.00 0.60 0.87 0.88 0.44 0.52 0.52 0.42 0.45 0.55 \n",
      "\n",
      "0.60 0.60 0.60 1.00 0.68 0.68 0.60 0.77 0.77 0.62 0.66 0.91 \n",
      "\n",
      "0.88 0.88 0.87 0.68 1.00 0.99 0.47 0.57 0.57 0.47 0.50 0.63 \n",
      "\n",
      "0.88 0.88 0.88 0.68 0.99 1.00 0.48 0.58 0.58 0.47 0.50 0.63 \n",
      "\n",
      "0.44 0.44 0.44 0.60 0.47 0.48 1.00 0.71 0.76 0.81 0.85 0.64 \n",
      "\n",
      "0.53 0.53 0.52 0.77 0.57 0.58 0.71 1.00 0.93 0.58 0.62 0.84 \n",
      "\n",
      "0.53 0.53 0.52 0.77 0.57 0.58 0.76 0.93 1.00 0.58 0.62 0.84 \n",
      "\n",
      "0.43 0.43 0.42 0.62 0.47 0.47 0.81 0.58 0.58 1.00 0.96 0.66 \n",
      "\n",
      "0.45 0.45 0.45 0.66 0.50 0.50 0.85 0.62 0.62 0.96 1.00 0.71 \n",
      "\n",
      "0.56 0.56 0.55 0.91 0.63 0.63 0.64 0.84 0.84 0.66 0.71 1.00 \n",
      "\n"
     ]
    }
   ],
   "source": [
    "for page in testes_2:\n",
    "    for page_aux in testes_2:\n",
    "        print(f\"{style_similarity(page,page_aux):.2f}\", end = \" \")\n",
    "    print(\"\\n\")"
   ]
  },
  {
   "cell_type": "code",
   "execution_count": 20,
   "id": "af09c1f8",
   "metadata": {},
   "outputs": [
    {
     "name": "stdout",
     "output_type": "stream",
     "text": [
      "1.00 1.00 0.99 0.66 0.78 0.78 0.52 0.60 0.59 0.50 0.53 0.62 \n",
      "\n",
      "1.00 1.00 0.99 0.66 0.78 0.78 0.52 0.60 0.59 0.50 0.53 0.62 \n",
      "\n",
      "0.99 0.99 1.00 0.66 0.78 0.77 0.52 0.60 0.59 0.49 0.53 0.62 \n",
      "\n",
      "0.66 0.66 0.66 1.00 0.70 0.69 0.67 0.81 0.80 0.67 0.72 0.90 \n",
      "\n",
      "0.78 0.78 0.78 0.70 1.00 0.88 0.53 0.61 0.61 0.52 0.55 0.66 \n",
      "\n",
      "0.78 0.78 0.77 0.69 0.88 1.00 0.52 0.60 0.60 0.51 0.54 0.64 \n",
      "\n",
      "0.53 0.53 0.53 0.67 0.54 0.53 1.00 0.80 0.83 0.83 0.88 0.73 \n",
      "\n",
      "0.60 0.60 0.60 0.81 0.62 0.61 0.80 1.00 0.96 0.66 0.71 0.88 \n",
      "\n",
      "0.60 0.60 0.60 0.80 0.62 0.61 0.83 0.96 1.00 0.66 0.70 0.88 \n",
      "\n",
      "0.50 0.50 0.49 0.67 0.52 0.51 0.83 0.66 0.66 1.00 0.91 0.72 \n",
      "\n",
      "0.53 0.53 0.53 0.72 0.55 0.54 0.88 0.71 0.70 0.91 1.00 0.77 \n",
      "\n",
      "0.62 0.62 0.62 0.90 0.66 0.64 0.73 0.88 0.88 0.72 0.77 1.00 \n",
      "\n"
     ]
    }
   ],
   "source": [
    "for page in testes_2:\n",
    "    for page_aux in testes_2:\n",
    "        print(f\"{similarity(page,page_aux):.2f}\", end = \" \")\n",
    "    print(\"\\n\")"
   ]
  },
  {
   "cell_type": "markdown",
   "id": "7b35631c",
   "metadata": {},
   "source": [
    "## Extração de botões??"
   ]
  },
  {
   "cell_type": "code",
   "execution_count": 21,
   "id": "1d2cca15",
   "metadata": {},
   "outputs": [],
   "source": [
    "def extrairBotoes(url):\n",
    "\n",
    "    resultados = \"\"\n",
    "    \n",
    "    page = requests.get(url)\n",
    "    data = page.text\n",
    "    soup = BeautifulSoup(data, 'html.parser')\n",
    "    \n",
    "    buttons = soup.find_all('button')\n",
    "    for button in buttons:\n",
    "        resultados+=str(button) + \"\\n\"\n",
    "        \n",
    "    return resultados"
   ]
  },
  {
   "cell_type": "code",
   "execution_count": 22,
   "id": "4c8a5f47",
   "metadata": {},
   "outputs": [],
   "source": [
    "testes_3 = [extrairBotoes(teste) for teste in testes]"
   ]
  },
  {
   "cell_type": "code",
   "execution_count": 23,
   "id": "208e40b9",
   "metadata": {},
   "outputs": [
    {
     "name": "stdout",
     "output_type": "stream",
     "text": [
      "1.00 1.00 0.90 0.61 0.61 0.61 0.61 0.61 0.61 0.61 0.61 0.61 \n",
      "\n",
      "1.00 1.00 0.90 0.61 0.61 0.61 0.61 0.61 0.61 0.61 0.61 0.61 \n",
      "\n",
      "0.90 0.90 1.00 0.55 0.55 0.55 0.55 0.55 0.55 0.55 0.55 0.55 \n",
      "\n",
      "0.61 0.61 0.55 1.00 1.00 1.00 1.00 1.00 1.00 1.00 1.00 1.00 \n",
      "\n",
      "0.61 0.61 0.55 1.00 1.00 1.00 1.00 1.00 1.00 1.00 1.00 1.00 \n",
      "\n",
      "0.61 0.61 0.55 1.00 1.00 1.00 1.00 1.00 1.00 1.00 1.00 1.00 \n",
      "\n",
      "0.61 0.61 0.55 1.00 1.00 1.00 1.00 1.00 1.00 1.00 1.00 1.00 \n",
      "\n",
      "0.61 0.61 0.55 1.00 1.00 1.00 1.00 1.00 1.00 1.00 1.00 1.00 \n",
      "\n",
      "0.61 0.61 0.55 1.00 1.00 1.00 1.00 1.00 1.00 1.00 1.00 1.00 \n",
      "\n",
      "0.61 0.61 0.55 1.00 1.00 1.00 1.00 1.00 1.00 1.00 1.00 1.00 \n",
      "\n",
      "0.61 0.61 0.55 1.00 1.00 1.00 1.00 1.00 1.00 1.00 1.00 1.00 \n",
      "\n",
      "0.61 0.61 0.55 1.00 1.00 1.00 1.00 1.00 1.00 1.00 1.00 1.00 \n",
      "\n"
     ]
    }
   ],
   "source": [
    "for page in testes_3:\n",
    "    for page_aux in testes_3:\n",
    "        print(f\"{similarity(page,page_aux):.2f}\", end = \" \")\n",
    "    print(\"\\n\")"
   ]
  },
  {
   "cell_type": "code",
   "execution_count": 24,
   "id": "bfb56089",
   "metadata": {},
   "outputs": [],
   "source": [
    "def extrairBotoesSelenium(url):\n",
    "\n",
    "    resultados = \"\"\n",
    "\n",
    "    driver = webdriver.Chrome(options=options)\n",
    "    driver.get(url)\n",
    "\n",
    "    html = driver.page_source\n",
    "    driver.quit()\n",
    "\n",
    "    soup = BeautifulSoup(html, 'html.parser')\n",
    "    buttons = soup.find_all('button')\n",
    "    for button in buttons:\n",
    "        resultados+=str(button)+\"\\n\"\n",
    "        \n",
    "    return resultados"
   ]
  },
  {
   "cell_type": "code",
   "execution_count": 16,
   "id": "3a21cec2",
   "metadata": {},
   "outputs": [],
   "source": [
    "empenhos = extrairBotoesSelenium(\"https://freigaspar.mg.gov.br/transparencia/empenhos\")\n",
    "empenhos2 = extrairBotoesSelenium(\"https://freigaspar.mg.gov.br/transparencia/empenhos/detalhes/2022/02/118\")\n",
    "pagamentos = extrairBotoesSelenium(\"https://freigaspar.mg.gov.br/transparencia/pagamentos\")\n",
    "pagamentos2 = extrairBotoesSelenium(\"https://freigaspar.mg.gov.br/transparencia/pagamentos/detalhes/2022/02/118\")\n",
    "folhas = extrairBotoesSelenium(\"https://freigaspar.mg.gov.br/transparencia/folhas-de-pagamento\")\n",
    "folhas2 = extrairBotoesSelenium(\"https://freigaspar.mg.gov.br/transparencia/folhas-de-pagamento/detalhes?indSituacaoServidorPensionista%5B0%5D=P&indSituacaoServidorPensionista%5B1%5D=03&IDE_FLPGO_id=35&ano=2015\")\n",
    "receitas = extrairBotoesSelenium(\"https://freigaspar.mg.gov.br/transparencia/receitas/detalhes/2022/03/117\")\n",
    "\n",
    "pages = [empenhos, empenhos2, pagamentos, pagamentos2, folhas, folhas2, receitas]"
   ]
  },
  {
   "cell_type": "code",
   "execution_count": 25,
   "id": "07d74aa5",
   "metadata": {},
   "outputs": [],
   "source": [
    "testes_4 = [extrairBotoesSelenium(teste) for teste in testes]"
   ]
  },
  {
   "cell_type": "code",
   "execution_count": 26,
   "id": "af0324e2",
   "metadata": {},
   "outputs": [
    {
     "name": "stdout",
     "output_type": "stream",
     "text": [
      "1.00 0.52 0.95 0.31 0.84 0.84 0.20 0.31 0.20 0.20 0.20 0.20 \n",
      "\n",
      "0.52 1.00 0.49 0.61 0.45 0.45 0.23 0.61 0.23 0.23 0.23 0.23 \n",
      "\n",
      "0.95 0.49 1.00 0.29 0.79 0.79 0.19 0.29 0.19 0.19 0.19 0.19 \n",
      "\n",
      "0.31 0.61 0.29 1.00 0.37 0.37 0.23 1.00 0.23 0.23 0.23 0.23 \n",
      "\n",
      "0.84 0.45 0.79 0.37 1.00 1.00 0.22 0.37 0.22 0.22 0.22 0.22 \n",
      "\n",
      "0.84 0.45 0.79 0.37 1.00 1.00 0.22 0.37 0.22 0.22 0.22 0.22 \n",
      "\n",
      "0.25 0.23 0.24 0.23 0.25 0.25 1.00 0.23 1.00 1.00 1.00 1.00 \n",
      "\n",
      "0.31 0.61 0.29 1.00 0.37 0.37 0.23 1.00 0.23 0.23 0.23 0.23 \n",
      "\n",
      "0.25 0.23 0.24 0.23 0.25 0.25 1.00 0.23 1.00 1.00 1.00 1.00 \n",
      "\n",
      "0.25 0.23 0.24 0.23 0.25 0.25 1.00 0.23 1.00 1.00 1.00 1.00 \n",
      "\n",
      "0.25 0.23 0.24 0.23 0.25 0.25 1.00 0.23 1.00 1.00 1.00 1.00 \n",
      "\n",
      "0.25 0.23 0.24 0.23 0.25 0.25 1.00 0.23 1.00 1.00 1.00 1.00 \n",
      "\n"
     ]
    }
   ],
   "source": [
    "for page in testes_4:\n",
    "    for page_aux in testes_4:\n",
    "        print(f\"{similarity(page,page_aux):.2f}\", end = \" \")\n",
    "    print(\"\\n\")"
   ]
  },
  {
   "cell_type": "code",
   "execution_count": null,
   "id": "7c92b8f1",
   "metadata": {},
   "outputs": [],
   "source": []
  }
 ],
 "metadata": {
  "kernelspec": {
   "display_name": "Python 3 (ipykernel)",
   "language": "python",
   "name": "python3"
  },
  "language_info": {
   "codemirror_mode": {
    "name": "ipython",
    "version": 3
   },
   "file_extension": ".py",
   "mimetype": "text/x-python",
   "name": "python",
   "nbconvert_exporter": "python",
   "pygments_lexer": "ipython3",
   "version": "3.8.10"
  }
 },
 "nbformat": 4,
 "nbformat_minor": 5
}
